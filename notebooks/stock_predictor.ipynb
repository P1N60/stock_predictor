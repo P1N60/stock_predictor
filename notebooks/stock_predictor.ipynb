{
 "cells": [
  {
   "cell_type": "markdown",
   "metadata": {},
   "source": [
    "# Stock Prediction Model"
   ]
  },
  {
   "cell_type": "markdown",
   "metadata": {},
   "source": [
    "## Dependencies"
   ]
  },
  {
   "cell_type": "markdown",
   "metadata": {},
   "source": [
    "### Library Installation (if needed)"
   ]
  },
  {
   "cell_type": "code",
   "execution_count": 102,
   "metadata": {},
   "outputs": [],
   "source": [
    "#! pip install yfinance pandas numpy matplotlib lightgbm torch tensorflow keras"
   ]
  },
  {
   "cell_type": "markdown",
   "metadata": {},
   "source": [
    "### Importing Required Libraries"
   ]
  },
  {
   "cell_type": "code",
   "execution_count": 103,
   "metadata": {},
   "outputs": [],
   "source": [
    "from datetime import datetime\n",
    "import matplotlib.pyplot as plt\n",
    "import yfinance as yf\n",
    "import pandas as pd\n",
    "import numpy as np\n",
    "import pickle\n",
    "import gradio as gr\n",
    "import ast\n",
    "from tqdm import tqdm\n",
    "from sklearn.impute import SimpleImputer\n",
    "from sklearn.neural_network import MLPRegressor\n",
    "from sklearn.metrics import r2_score, mean_squared_error, mean_absolute_error\n",
    "from sklearn.preprocessing import LabelEncoder, StandardScaler\n",
    "from sklearn.model_selection import train_test_split, GridSearchCV"
   ]
  },
  {
   "cell_type": "markdown",
   "metadata": {},
   "source": [
    "### Variables"
   ]
  },
  {
   "cell_type": "code",
   "execution_count": 104,
   "metadata": {},
   "outputs": [],
   "source": [
    "build_new_dataset = {'True': True, 'False': False}.get(input('Build New Dataset? (Bool)'))\n",
    "if build_new_dataset:\n",
    "    symbol_list = input(\"Symbols: ('simple', 'filtered' or 'all')\") # 'simple' or 'all'. simple are the tickers from the screener notebook and all are all of the tickers in 'filtered_tickers'. You may also an 'Int' to get a % amount of random tickers from 'all'\n",
    "else:\n",
    "    symbol_list = 'filtered'\n",
    "\n",
    "train_new_model = {'True': True, 'False': False}.get(input('Train New Model? (Bool)'))\n",
    "if train_new_model:\n",
    "    minimum_feature_threshold = 0.9\n",
    "    hidden_layers = ast.literal_eval(f\"({input('Hidden Layers: eg. \"100, 100\"')})\")\n",
    "    verticle_jobs = 1 #'-1' for max\n",
    "\n",
    "if build_new_dataset or train_new_model:\n",
    "    debugging = {'True': True, 'False': False}.get(input('Debug? (Bool)'))\n",
    "else:\n",
    "    debugging = False"
   ]
  },
  {
   "cell_type": "markdown",
   "metadata": {},
   "source": [
    "## Data Preparation"
   ]
  },
  {
   "cell_type": "code",
   "execution_count": 105,
   "metadata": {},
   "outputs": [
    {
     "data": {
      "text/plain": [
       "array(['LLY', 'PAYX', 'FORD', 'LMAT', 'BSX', 'DXYN', 'BUR', 'LRN', 'FRME',\n",
       "       'UGI', 'INTC', 'ARWR', 'AXGN', 'SBRA', 'ERIC', 'RNA', 'FCAP',\n",
       "       'AIZ', 'MMLP', 'BRO', 'MTW', 'BMRN', 'TXN', 'DKS', 'HAS', 'FULT',\n",
       "       'TLK', 'IPAR', 'FFIN', 'IOSP', 'CIG', 'BDN', 'CE', 'GOGO', 'PWOD',\n",
       "       'CMC', 'HEES', 'CMLS', 'MBWM', 'SJM', 'EQR', 'BCRX', 'NEE', 'SD',\n",
       "       'FR', 'BELFB', 'BYD', 'AVB', 'AMWD', 'SON', 'JBHT', 'EXK', 'HTBK',\n",
       "       'PPBI', 'GD', 'KGC', 'TTMI', 'GURE', 'RGP', 'COKE', 'ALE', 'RBC',\n",
       "       'RGLD', 'HWBK', 'HIG', 'DCO', 'LSTR', 'ESS', 'CSX', 'BRT', 'LKFN',\n",
       "       'TRNS', 'LINC', 'SHW', 'CTS', 'RCKY', 'YELP', 'YORW', 'TRGP',\n",
       "       'BXP', 'FSS', 'CFR', 'STRA', 'FCBC', 'BCE', 'TBBK', 'PSIX', 'TDG',\n",
       "       'BLMN', 'ASML', 'AVT', 'FTNT', 'AIN', 'UNH', 'ELA', 'WDC', 'FCEL',\n",
       "       'DIN', 'SIEB', 'WOOF', 'WAB', 'WASH', 'DSX', 'CLRO', 'RM', 'BLKB',\n",
       "       'HOV', 'PFBX', 'PBYI', 'LNT', 'MITT', 'CRUS', 'CVI', 'LND', 'OGE',\n",
       "       'OXM', 'VECO', 'IVR', 'GVA', 'AXP', 'ASH', 'PSMT', 'D', 'IP', 'MG',\n",
       "       'TACT', 'CLDX', 'HCIIP', 'EBMT', 'RMBS', 'FNLC', 'BEBE', 'LEA',\n",
       "       'FE', 'IGT', 'ENZ', 'HOVNP', 'HHS', 'BZH', 'CBT', 'FBP', 'LOGI',\n",
       "       'AYI', 'NKE', 'PBHC', 'UEIC', 'ALSN', 'JVA', 'PKG', 'DAL', 'GDOT',\n",
       "       'SIG', 'ALGN', 'IRM', 'RCMT', 'ATRC', 'BWA', 'HBNC', 'UTI', 'CWCO',\n",
       "       'BUSE', 'RDN', 'SNCR', 'EXAS', 'KBH', 'LKQ', 'AGRO', 'BMRC',\n",
       "       'CASY', 'STEM', 'PBF', 'ARW', 'STRL', 'MARK', 'HST', 'EXLS',\n",
       "       'WEYS', 'CASH', 'RHI', 'SWI', 'PAA', 'PENN', 'STRM', 'MLM', 'RMCF',\n",
       "       'ACLS', 'NCMI', 'CVV', 'HP', 'AHT-PD', 'NDLS', 'ECPG', 'TAYD',\n",
       "       'CPWR', 'BRKR', 'CUBE', 'KMI', 'DLB', 'ELSE', 'TISI', 'TREE', 'SR',\n",
       "       'STN', 'RJF', 'STC', 'HTH', 'GNW', 'MYE', 'GIS', 'BIOF', 'GENC',\n",
       "       'FDX', 'MKSI', 'ADI', 'PEG', 'SIMO', 'WLDN', 'SCOR', 'TTI', 'AMD',\n",
       "       'CP', 'SFM', 'NEWP', 'SMBC', 'TCBI', 'NBTB', 'LPLA', 'HUN', 'LTBR',\n",
       "       'CWST', 'EDAP', 'PLOW', 'MRIN', 'CZWI', 'TEL', 'MUR', 'GTIM',\n",
       "       'LXFR', 'MUX', 'DK', 'EVC', 'MORN', 'MCHX', 'BTU', 'SHOO', 'UTL',\n",
       "       'MOH', 'AIRT', 'OTTR', 'ASTC', 'LQDT', 'ARE', 'INTG', 'NOV', 'SGU',\n",
       "       'VSEC', 'CRI', 'NMR', 'TRMB', 'NX', 'PMD', 'CHKP', 'EXPD', 'GLBZ',\n",
       "       'ANIP', 'STBA', 'IDT', 'PPL', 'NTRS', 'PEB', 'AHH', 'PCG', 'AVGO',\n",
       "       'KR', 'GROW', 'PATK', 'KEX', 'UAL', 'QDEL', 'LBTYA', 'EME', 'DM',\n",
       "       'BK', 'GPK', 'OFIX', 'TFX', 'FOR', 'TBI', 'BFAM', 'CSL', 'SM',\n",
       "       'PFG', 'DVN', 'NTWK', 'CPAC', 'RRC', 'KKR', 'MSEX', 'CRMT', 'NHI',\n",
       "       'LMT', 'OMCL', 'BPT', 'GTY', 'GM', 'CCOI', 'FALC', 'DIS', 'PLUG',\n",
       "       'SRE', 'MXL', 'FFNW', 'CRH', 'CNX', 'NLST', 'VICR', 'SKYW', 'AGIO',\n",
       "       'PRI', 'ANF', 'KRC', 'ALV', 'RPRX', 'PRO', 'POR', 'CBU', 'LXRX',\n",
       "       'HSIC', 'CCK', 'SO', 'BEAM', 'ANDE', 'AXL', 'PACB', 'KOS', 'NBN',\n",
       "       'OPEN', 'CPHC', 'BH', 'OSUR', 'ITRN', 'DYNT', 'NC', 'RHP', 'CYCCP',\n",
       "       'IT', 'HMST', 'WPRT', 'BKD', 'NCLH', 'NEOG', 'VALU', 'ENG', 'DHT',\n",
       "       'XRAY', 'NEO', 'BOKF', 'CCO', 'CALX', 'OCC', 'ZBRA', 'VRSK', 'CPT',\n",
       "       'FNV', 'FITB', 'SGI', 'HBM', 'TXRH', 'PLD', 'UMC', 'MATX', 'FWRD',\n",
       "       'TRAK', 'RL', 'BANF', 'ESSA', 'EQT', 'AMX', 'MMS', 'PHG', 'HCKT',\n",
       "       'NINE', 'AGNCP', 'HSTM', 'AWRE', 'MIND', 'GEO', 'AMBC', 'OMER',\n",
       "       'GBCI', 'TREX', 'BPOP', 'ATLO', 'IESC', 'ANGI', 'MTDR', 'SSYS',\n",
       "       'STAG', 'NL', 'PDEX', 'CDZI', 'SPR', 'SHO', 'PKOH', 'CYH', 'LMNR',\n",
       "       'PKX', 'SKM', 'SLB', 'UNP', 'FLIC', 'NGL', 'SAM', 'EGY', 'MMSI',\n",
       "       'WSBC', 'AA', 'COHU', 'IMKTA', 'FRT', 'IRDM', 'NLY', 'IMMR',\n",
       "       'IROQ', 'FSM', 'TEN', 'RNR', 'NVMI', 'PB', 'AIG', 'HR', 'WSBF',\n",
       "       'NWL', 'EBF', 'UHAL', 'URBN', 'IPDN', 'HAFC', 'SKX', 'LCNB', 'RBA',\n",
       "       'KEQU', 'LTRX', 'SA', 'CLIR', 'PNRG', 'APH', 'EARN', 'STE', 'AP',\n",
       "       'SLGN', 'ATOS', 'CLNE', 'SHBI', 'ALNY', 'MTN', 'CMS', 'FCFS',\n",
       "       'ISSC', 'AEHR', 'CHT', 'AI', 'CMG', 'CLB', 'HCA', 'STNG', 'CVBF',\n",
       "       'SPLP', 'BRC', 'NFBK', 'NRP', 'DOV', 'ONB', 'GPN', 'ARAY', 'JAKK',\n",
       "       'ARL', 'IBM', 'TMUS', 'MOD', 'NPK', 'BRFS', 'MFC', 'NTIC', 'CVGW',\n",
       "       'TAIT', 'PCYO', 'CBRL', 'SHEN', 'LSCC', 'SGMA', 'PDS', 'TRC',\n",
       "       'QCOM', 'FDP', 'MGEE', 'SGC', 'CYAN', 'MHLD', 'AMRC', 'TM', 'IFF',\n",
       "       'R', 'LSBK', 'EZPW', 'PRAA', 'DG', 'TGI', 'UNTY', 'GSBC', 'LPSN',\n",
       "       'PCRX', 'VC', 'EQS', 'GAIA', 'LZB', 'DSGX', 'GB', 'SNV', 'EXC',\n",
       "       'GLP', 'PNR', 'DCOM', 'HIMX', 'APOG', 'SANM', 'TRNO', 'HY', 'AMBI',\n",
       "       'GOOD', 'M', 'ESI', 'HSON', 'AXS', 'GSIT', 'COLB', 'AGCO', 'MNDO',\n",
       "       'CTHR', 'GOODN', 'CAG', 'GNE', 'HII', 'AXTI', 'TROX', 'NUE',\n",
       "       'WLFC', 'SCI', 'INN', 'CERS', 'TSM', 'LII', 'NPO', 'TWIN', 'MTEX',\n",
       "       'KNDI', 'PLBC', 'PAAS', 'CTAS', 'LGND', 'SENEB', 'STKL', 'WILC',\n",
       "       'DEI', 'TJX', 'SRPT', 'PWR', 'RICK', 'MDT', 'TV', 'HIW', 'NOW',\n",
       "       'MHO', 'USEG', 'MED', 'MIDD', 'SUP', 'PSA', 'FTK', 'BSRR', 'CL',\n",
       "       'TMHC', 'FAST', 'CHE', 'MAA', 'MHK', 'UFCS', 'EAT', 'DDS', 'CHDN',\n",
       "       'TBNK', 'UBSI', 'CBOE', 'ACAT', 'RPM', 'PPG', 'JBLU', 'RF', 'SEE',\n",
       "       'SCL', 'FFBC', 'CGNX', 'LYV', 'GTN', 'QUIK', 'PXLW', 'DHI', 'MTB',\n",
       "       'PFS', 'WYNN', 'MSB', 'MTRN', 'HUBG', 'VOXX', 'OPY', 'KVHI', 'TRS',\n",
       "       'CSTM', 'GE', 'CSPI', 'MATW', 'GSM', 'HFWA', 'ICAD', 'PGC', 'CHCI',\n",
       "       'ROST', 'ENPH', 'SGRP', 'DELL', 'NWN', 'SSTK', 'CRWS', 'APWC',\n",
       "       'NOA', 'KOP', 'IDA', 'MPC', 'CHD', 'HSII', 'PBI', 'TK', 'REXR',\n",
       "       'NWS', 'ULBI', 'NTGR', 'GLW', 'NWSA', 'ADUS', 'TWI', 'MX', 'TRIB',\n",
       "       'KTCC', 'AOSL', 'GRPN', 'FL', 'CATY', 'IRWD', 'GIB', 'ICLR', 'DY',\n",
       "       'BIO', 'CRVL', 'RIG', 'RPT', 'GABC', 'CRNT', 'CPIX', 'BKE', 'ESE',\n",
       "       'AVAV', 'EXP', 'BBGI', 'HLIT', 'FMC', 'AROW', 'PRA', 'SIGA', 'TRV',\n",
       "       'HAL', 'THG', 'BWEN', 'DRRX', 'LXP', 'EGAN', 'NWPX', 'NJR', 'MFA',\n",
       "       'SAR', 'EXR', 'BKH', 'CIZN', 'KFY', 'BCC', 'SFNC', 'SOFO', 'LYTS',\n",
       "       'AZZ', 'CAH', 'EXPE', 'PFSI', 'OLP', 'OSK', 'JBL', 'OXY', 'F',\n",
       "       'ACIW', 'CLMT', 'MPWR', 'AAPL', 'USM', 'ESCA', 'IBCP', 'SKY',\n",
       "       'ONCY', 'FCN', 'TDS', 'AKR', 'MEI', 'CNQ', 'CCNE', 'ACM', 'DX',\n",
       "       'INSM', 'FLWS', 'PHM', 'HAE', 'COF', 'CZNC', 'FCX', 'HCSG', 'UAN',\n",
       "       'CNP', 'SPSC', 'CWT', 'HUM', 'ANGO', 'FCNCA', 'RCL', 'CCI', 'CCBG',\n",
       "       'ABT', 'ABR', 'APD', 'GRMN', 'CAAS', 'MEG', 'ROL', 'CMCO', 'YUM',\n",
       "       'SLF', 'PDM', 'FARO', 'SJW', 'REX', 'SVM', 'ERII', 'ALCO', 'CAE',\n",
       "       'FFIC', 'JCI', 'EPD', 'ENZN', 'AAT', 'AIR', 'BANC', 'PFE', 'JOE',\n",
       "       'KWR', 'SCSC', 'MNKD', 'WTBA', 'BSAC', 'ATLC', 'YPF', 'APEI',\n",
       "       'TRST', 'MCHP', 'UIS', 'AWH', 'ESGR', 'PVH', 'CDW', 'ROP', 'PRTA',\n",
       "       'BSBR', 'SFL', 'DTE', 'HBAN', 'CYCC', 'RGR', 'ENR', 'ACTG', 'STLY',\n",
       "       'PRIM', 'HSY', 'CPRT', 'SF', 'CVGI', 'HBIO', 'MPW', 'SNA', 'MMM',\n",
       "       'PKE', 'CBAN', 'FOSL', 'APA', 'MATAS.CO', 'TRIFOR.CO', 'RNMBY',\n",
       "       'SAABF', 'BCKIY', 'BAESY', 'IVSO.ST', 'NSKFF', 'GMAB', 'GN.CO',\n",
       "       'NVDA', 'DANSKE.CO', 'CARL-B.CO', 'MAERSK-B.CO', 'RBREW.CO',\n",
       "       'ISS.CO', 'DSV.CO', 'SCHO.CO', 'NETC.CO', 'JYSK.CO', 'ABBN.SW',\n",
       "       'TER', 'PARKEN.CO', 'NFLX', 'TRMD-A.CO', 'STG.CO', 'NOVO-B.CO',\n",
       "       'EQNR', 'NKT.CO', 'KCC.OL', 'TSLA', 'HEM.ST', 'DEMANT.CO',\n",
       "       'BAVA.CO ', 'BABA', 'JD', 'PDD', 'BIDU', 'NTES', 'WB', 'IQ',\n",
       "       'SYDB.CO', 'UBER'], dtype=object)"
      ]
     },
     "execution_count": 105,
     "metadata": {},
     "output_type": "execute_result"
    }
   ],
   "source": [
    "symbols = []\n",
    "if symbol_list == 'filtered':\n",
    "    symbols = pd.read_csv('../data/filtered_tickers.csv')['Ticker'].tolist()\n",
    "elif symbol_list == 'all':\n",
    "    symbols = pd.read_csv('../data/tickers.csv')['Ticker'].tolist()\n",
    "elif symbol_list.isdigit():\n",
    "    all_symbols = pd.read_csv('../data/tickers.csv')['Ticker'].tolist()\n",
    "    num_symbols = max(1, round(len(all_symbols) * (int(symbol_list) / 100)))  \n",
    "    symbols = np.random.choice(all_symbols, num_symbols, replace=False).tolist()\n",
    "    symbols = symbols + pd.read_csv(\"../data/filtered_tickers.csv\")[\"Ticker\"].tolist()\n",
    "\n",
    "symbols = symbols + pd.read_csv('../data/simple_screener_results.csv')['Ticker'].tolist()\n",
    "\n",
    "symbols = pd.Series(symbols).unique()\n",
    "symbols"
   ]
  },
  {
   "cell_type": "markdown",
   "metadata": {},
   "source": [
    "#### Download annual financial data"
   ]
  },
  {
   "cell_type": "code",
   "execution_count": 106,
   "metadata": {},
   "outputs": [],
   "source": [
    "if build_new_dataset:\n",
    "    df = pd.DataFrame()\n",
    "    filtered_pd = pd.read_csv('../data/filtered_tickers.csv')\n",
    "    for symbol in tqdm(symbols):\n",
    "        ticker_df = pd.DataFrame()\n",
    "        ticker = yf.Ticker(symbol)\n",
    "        try:\n",
    "            # Latest earning data\n",
    "            latest_earning_date = ticker.quarterly_cash_flow.columns.tolist()[0]\n",
    "            latest_data = {'Ticker': symbol, 'Date': latest_earning_date}\n",
    "            latest_data['3M Future Change'] = np.nan\n",
    "            latest_data['6M Future Change'] = np.nan\n",
    "            latest_data['1Y Future Change'] = np.nan\n",
    "            try:\n",
    "                latest_data['Sector'] = ticker.info['sector']\n",
    "            except:\n",
    "                latest_data['Sector'] = 'Unknown'\n",
    "            try:\n",
    "                latest_data['Industry'] = ticker.info['industry']\n",
    "            except:\n",
    "                latest_data['Industry'] = 'Unknown'\n",
    "            for column in ticker.quarterly_cash_flow[latest_earning_date].keys().tolist():\n",
    "                latest_data[column] = ticker.quarterly_cash_flow[latest_earning_date][column]\n",
    "            for column in ticker.quarterly_balance_sheet[latest_earning_date].keys().tolist():\n",
    "                latest_data[column] = ticker.quarterly_balance_sheet[latest_earning_date][column]\n",
    "            for column in ticker.quarterly_income_stmt[latest_earning_date].keys().tolist():\n",
    "                latest_data[column] = ticker.quarterly_income_stmt[latest_earning_date][column]\n",
    "            ticker_df = pd.concat([ticker_df, pd.DataFrame([latest_data])], ignore_index=True)\n",
    "\n",
    "            # Annual data\n",
    "            earning_dates = ticker.cash_flow.columns.tolist()\n",
    "            price_data = yf.download(symbol, period='10y', rounding=False, progress=False)\n",
    "            cash_flow = ticker.cash_flow\n",
    "            cash_flow_columns = cash_flow[earning_dates[0]].keys().tolist()\n",
    "            balance_sheet = ticker.balance_sheet\n",
    "            balance_sheet_columns = balance_sheet[earning_dates[0]].keys().tolist()\n",
    "            income_statement = ticker.income_stmt\n",
    "            income_statement_columns = income_statement[earning_dates[0]].keys().tolist()\n",
    "            for earning_date in earning_dates:\n",
    "                earning_date_data = {'Ticker': symbol, 'Date': earning_date}\n",
    "                got_price = False\n",
    "                day_offset = 0\n",
    "                while(got_price==False and day_offset > -6):\n",
    "                    try:           \n",
    "                        earning_date_data['3M Future Change'] = (\n",
    "                            float(price_data.loc[earning_date + pd.Timedelta(days=day_offset, weeks=13) , ('Close', symbol)]) / \n",
    "                            float(price_data.loc[earning_date + pd.Timedelta(days=day_offset), ('Close', symbol)]) - 1\n",
    "                        )\n",
    "                        earning_date_data['6M Future Change'] = (\n",
    "                            float(price_data.loc[earning_date + pd.Timedelta(days=day_offset, weeks=26) , ('Close', symbol)]) / \n",
    "                            float(price_data.loc[earning_date + pd.Timedelta(days=day_offset), ('Close', symbol)]) - 1\n",
    "                        )\n",
    "                        earning_date_data['1Y Future Change'] = (\n",
    "                            float(price_data.loc[earning_date + pd.Timedelta(days=day_offset, weeks=52) , ('Close', symbol)]) / \n",
    "                            float(price_data.loc[earning_date + pd.Timedelta(days=day_offset), ('Close', symbol)]) - 1\n",
    "                        )\n",
    "                        got_price = True\n",
    "                    except:\n",
    "                        day_offset += -1\n",
    "                try:\n",
    "                    earning_date_data['Sector'] = ticker.info['sector']\n",
    "                except:\n",
    "                    earning_date_data['Sector'] = 'Unknown'\n",
    "                try:\n",
    "                    earning_date_data['Industry'] = ticker.info['industry']\n",
    "                except:\n",
    "                    earning_date_data['Industry'] = 'Unknown'\n",
    "                for column in cash_flow_columns:\n",
    "                    earning_date_data[column] = cash_flow[earning_date][column]\n",
    "                for column in balance_sheet_columns:\n",
    "                    earning_date_data[column] = balance_sheet[earning_date][column]\n",
    "                for column in income_statement_columns:\n",
    "                    earning_date_data[column] = income_statement[earning_date][column]\n",
    "                if got_price:\n",
    "                    ticker_df = pd.concat([ticker_df, pd.DataFrame([earning_date_data])], ignore_index=True)\n",
    "\n",
    "            if len(ticker_df) == 5 and ticker_df.isna().sum().sum() < round(352 * minimum_feature_threshold):\n",
    "                if symbol not in filtered_pd['Ticker'].tolist():\n",
    "                    filtered_pd = pd.concat([filtered_pd, pd.DataFrame([{'Ticker': symbol}])])\n",
    "                imputer = SimpleImputer()\n",
    "                for column in ticker_df.columns.drop(['Ticker', 'Date', '3M Future Change', '6M Future Change', '1Y Future Change', 'Sector', 'Industry']):\n",
    "                    if not ticker_df[column].isna().all():\n",
    "                        ticker_df[column] = imputer.fit_transform(ticker_df[[column]])\n",
    "            else:\n",
    "                if symbol in filtered_pd['Ticker'].tolist():\n",
    "                    filtered_pd = filtered_pd[filtered_pd['Ticker'] != symbol]\n",
    "                    if debugging:\n",
    "                        print(f'Removed {symbol} from filtered tickers. Datapoints: {ticker_df.isna().sum().sum()}, Needed: {round(352 * minimum_feature_threshold)}')\n",
    "                continue\n",
    "            df = pd.concat([df, ticker_df], ignore_index=True)\n",
    "        except Exception as error:\n",
    "            if symbol in filtered_pd['Ticker'].tolist():\n",
    "                filtered_pd = filtered_pd[filtered_pd['Ticker'] != symbol]\n",
    "                if debugging:\n",
    "                    print(f'Removed {symbol} from filtered tickers because an exception was raised')\n",
    "            continue\n",
    "    filtered_pd.to_csv('../data/filtered_tickers.csv', index=False)\n",
    "    df.to_csv('../data/earnings_data.csv', index=False)\n",
    "else:\n",
    "    df = pd.read_csv('../data/earnings_data.csv')"
   ]
  },
  {
   "cell_type": "markdown",
   "metadata": {},
   "source": [
    "### Short visualisation"
   ]
  },
  {
   "cell_type": "code",
   "execution_count": 107,
   "metadata": {},
   "outputs": [],
   "source": [
    "if debugging:\n",
    "    df"
   ]
  },
  {
   "cell_type": "markdown",
   "metadata": {},
   "source": [
    "### Impution and encoding"
   ]
  },
  {
   "cell_type": "code",
   "execution_count": 108,
   "metadata": {},
   "outputs": [],
   "source": [
    "imputer = SimpleImputer()\n",
    "scaler = StandardScaler()\n",
    "for column in df.columns.drop(['Ticker', 'Date', '3M Future Change', '6M Future Change', '1Y Future Change', 'Sector', 'Industry']):\n",
    "    df[column] = imputer.fit_transform(df[[column]])\n",
    "    scaler.fit(df[[column]])\n",
    "    df[column] = scaler.transform(df[[column]])\n",
    "\n",
    "le = LabelEncoder()\n",
    "for column in ['Ticker', 'Sector', 'Industry']:\n",
    "    df[column] = df[column].astype(str)\n",
    "    le.fit(df[column])\n",
    "    df[column] = le.transform(df[column])"
   ]
  },
  {
   "cell_type": "markdown",
   "metadata": {},
   "source": [
    "### Splitting"
   ]
  },
  {
   "cell_type": "code",
   "execution_count": 109,
   "metadata": {},
   "outputs": [],
   "source": [
    "pred_data = pd.DataFrame()\n",
    "for i in range(int(len(df) / 5)):\n",
    "    pred_data = pd.concat([pred_data, df.iloc[[i*5]]]) \n",
    "if debugging:\n",
    "    print('Prediction Data:')\n",
    "    display(pred_data)\n",
    "\n",
    "train_data = pd.DataFrame()\n",
    "for i in range(int(len(df) / 5)):\n",
    "    train_data = pd.concat([train_data, df.iloc[[1+i*5]]])\n",
    "    train_data = pd.concat([train_data, df.iloc[[2+i*5]]])\n",
    "    train_data = pd.concat([train_data, df.iloc[[3+i*5]]])\n",
    "    train_data = pd.concat([train_data, df.iloc[[4+i*5]]])\n",
    "if debugging:\n",
    "    print('Train and Test Data:')\n",
    "    display(train_data)"
   ]
  },
  {
   "cell_type": "markdown",
   "metadata": {},
   "source": [
    "### Labeling"
   ]
  },
  {
   "cell_type": "code",
   "execution_count": 110,
   "metadata": {},
   "outputs": [],
   "source": [
    "X_pred = pred_data.drop(['Date', '3M Future Change', '6M Future Change', '1Y Future Change'], axis=1)\n",
    "X_train = train_data.drop(['Date', '3M Future Change', '6M Future Change', '1Y Future Change'], axis=1)\n",
    "y_train = train_data[['3M Future Change', '6M Future Change', '1Y Future Change']]\n",
    "\n",
    "X_train, X_test, y_train, y_test = train_test_split(\n",
    "    X_train,\n",
    "    y_train,\n",
    "    test_size=0.15,\n",
    "    shuffle=True,\n",
    ")\n",
    "\n",
    "if debugging:\n",
    "    display(X_train)\n",
    "    display(y_train)\n",
    "    display(X_test)\n",
    "    display(y_test)"
   ]
  },
  {
   "cell_type": "markdown",
   "metadata": {},
   "source": [
    "## Model Training"
   ]
  },
  {
   "cell_type": "code",
   "execution_count": 111,
   "metadata": {},
   "outputs": [
    {
     "name": "stdout",
     "output_type": "stream",
     "text": [
      "Iteration 1, loss = 6013.36722342\n",
      "Validation score: -254.878145\n",
      "Iteration 2, loss = 22.08798799\n",
      "Validation score: -383.567720\n",
      "Iteration 3, loss = 2.92623389\n",
      "Validation score: -30.404557\n",
      "Iteration 4, loss = 0.58115090\n",
      "Validation score: -7.409503\n",
      "Iteration 5, loss = 0.30141702\n",
      "Validation score: -0.897414\n",
      "Iteration 6, loss = 0.24985386\n",
      "Validation score: -1.328841\n",
      "Iteration 7, loss = 0.19795338\n",
      "Validation score: -0.227085\n",
      "Iteration 8, loss = 0.15208470\n",
      "Validation score: -0.284701\n",
      "Iteration 9, loss = 0.14960445\n",
      "Validation score: -0.177687\n",
      "Iteration 10, loss = 0.19284167\n",
      "Validation score: -0.343024\n",
      "Iteration 11, loss = 0.20704044\n",
      "Validation score: -1.303889\n",
      "Iteration 12, loss = 0.23979530\n",
      "Validation score: -0.088317\n",
      "Iteration 13, loss = 0.18462824\n",
      "Validation score: -0.072781\n",
      "Iteration 14, loss = 0.15640911\n",
      "Validation score: -0.266910\n",
      "Iteration 15, loss = 0.17227834\n",
      "Validation score: -0.336766\n",
      "Iteration 16, loss = 0.29199989\n",
      "Validation score: -0.891148\n",
      "Iteration 17, loss = 0.18409422\n",
      "Validation score: -0.540155\n",
      "Iteration 18, loss = 0.16814175\n",
      "Validation score: -0.653019\n",
      "Iteration 19, loss = 0.17220740\n",
      "Validation score: -0.251036\n",
      "Iteration 20, loss = 0.31306432\n",
      "Validation score: -0.698030\n",
      "Iteration 21, loss = 0.30840416\n",
      "Validation score: -1.429091\n",
      "Iteration 22, loss = 0.22059905\n",
      "Validation score: -1.020193\n",
      "Iteration 23, loss = 0.22220837\n",
      "Validation score: -0.579175\n",
      "Iteration 24, loss = 0.17153786\n",
      "Validation score: -0.548798\n",
      "Validation score did not improve more than tol=0.000100 for 10 consecutive epochs. Stopping.\n"
     ]
    }
   ],
   "source": [
    "if train_new_model:\n",
    "    model = MLPRegressor(\n",
    "        hidden_layer_sizes=hidden_layers,\n",
    "        learning_rate=\"adaptive\",\n",
    "        early_stopping=True,\n",
    "        verbose=True,\n",
    "        n_iter_no_change=10\n",
    "    )\n",
    "    model.fit(X_train, y_train)"
   ]
  },
  {
   "cell_type": "markdown",
   "metadata": {},
   "source": [
    "## Testing and benchmarking"
   ]
  },
  {
   "cell_type": "code",
   "execution_count": 112,
   "metadata": {},
   "outputs": [
    {
     "data": {
      "image/png": "[encoded data removed]",
      "text/plain": [
       "<Figure size 1100x600 with 1 Axes>"
      ]
     },
     "metadata": {},
     "output_type": "display_data"
    },
    {
     "name": "stdout",
     "output_type": "stream",
     "text": [
      "3M Future Change - R²: -0.0164\n",
      "3M Future Change - MSE: 0.2569\n",
      "3M Future Change - MAE: 0.1969\n"
     ]
    },
    {
     "data": {
      "image/png": "[encoded data removed]",
      "text/plain": [
       "<Figure size 1100x600 with 1 Axes>"
      ]
     },
     "metadata": {},
     "output_type": "display_data"
    },
    {
     "name": "stdout",
     "output_type": "stream",
     "text": [
      "6M Future Change - R²: -0.4153\n",
      "6M Future Change - MSE: 0.3577\n",
      "6M Future Change - MAE: 0.3027\n"
     ]
    },
    {
     "data": {
      "image/png": "[encoded data removed]",
      "text/plain": [
       "<Figure size 1100x600 with 1 Axes>"
      ]
     },
     "metadata": {},
     "output_type": "display_data"
    },
    {
     "name": "stdout",
     "output_type": "stream",
     "text": [
      "1Y Future Change - R²: -0.2841\n",
      "1Y Future Change - MSE: 0.3471\n",
      "1Y Future Change - MAE: 0.3695\n",
      "\n",
      "Overall Scores:\n",
      "Mean - R²: -0.2386\n",
      "Mean - MSE: 0.3206\n",
      "Mean - MAE: 0.2897\n"
     ]
    }
   ],
   "source": [
    "if train_new_model:\n",
    "    y_test_pred = model.predict(X_test)\n",
    "\n",
    "    for i, target in enumerate(['3M Future Change', '6M Future Change', '1Y Future Change']):\n",
    "        y_test_actual = y_test[target]\n",
    "        y_test_pred_target = y_test_pred[:, i]\n",
    "\n",
    "        plt.figure(figsize=(11, 6))\n",
    "        plt.scatter(y_test_actual, y_test_pred_target, alpha=0.7, color='blue', label='Predictions')\n",
    "        plt.plot([y_test_actual.min(), y_test_actual.max()], [y_test_actual.min(), y_test_actual.max()], \n",
    "            color='red', linestyle='--', label='Perfect Fit')\n",
    "        plt.title(f'Predicted vs Actual Values ({target})')\n",
    "        plt.xlabel('Actual Values')\n",
    "        plt.ylabel('Predicted Values')\n",
    "        plt.legend()\n",
    "        plt.grid(True)\n",
    "        plt.show()\n",
    "\n",
    "        mae = mean_absolute_error(y_test_actual, y_test_pred_target)\n",
    "        mse = mean_squared_error(y_test_actual, y_test_pred_target)\n",
    "        r2 = r2_score(y_test_actual, y_test_pred_target)\n",
    "\n",
    "        print(f'{target} - R²: {r2:.4f}')\n",
    "        print(f'{target} - MSE: {mse:.4f}')\n",
    "        print(f'{target} - MAE: {mae:.4f}')\n",
    "\n",
    "    mae = mean_absolute_error(y_test, y_test_pred)\n",
    "    mse = mean_squared_error(y_test, y_test_pred)\n",
    "    r2 = r2_score(y_test, y_test_pred)\n",
    "\n",
    "    print('\\nOverall Scores:')\n",
    "    print(f'Mean - R²: {r2:.4f}')\n",
    "    print(f'Mean - MSE: {mse:.4f}')\n",
    "    print(f'Mean - MAE: {mae:.4f}')"
   ]
  },
  {
   "cell_type": "markdown",
   "metadata": {},
   "source": [
    "### Log test results"
   ]
  },
  {
   "cell_type": "code",
   "execution_count": 113,
   "metadata": {},
   "outputs": [
    {
     "name": "stdout",
     "output_type": "stream",
     "text": [
      "Old best R²: -0.2907740416737683\n",
      "New best R²: -0.2386041650746659\n",
      "Saving new best model...\n"
     ]
    }
   ],
   "source": [
    "if train_new_model:\n",
    "    test_results = pd.DataFrame({\n",
    "        'R²': r2,\n",
    "        'MSE': mse,\n",
    "        'MAE': mae,\n",
    "        'symbol_list': symbol_list,\n",
    "        'hidden_layer_sizes': [model.hidden_layer_sizes],\n",
    "        'max_iter': model.max_iter,\n",
    "        'n_iter_no_change': model.n_iter_no_change,\n",
    "        'learning_rate': model.learning_rate,\n",
    "        'learning_rate_init': model.learning_rate_init,\n",
    "        'batch_size': model.batch_size,\n",
    "        'tol': model.tol,\n",
    "        'alpha': model.alpha,\n",
    "        'shuffle': model.shuffle,\n",
    "    })\n",
    "    test_results.to_csv('../data/test_results.csv', mode='a', index=False)\n",
    "\n",
    "    # save model as new best if results are better than the current one\n",
    "    best_r2 = pd.read_csv('../models/best_model_results.csv').loc[0, 'R²']\n",
    "    if r2 > best_r2:\n",
    "        print(f'Old best R²: {best_r2}')\n",
    "        print(f'New best R²: {r2}')\n",
    "        print('Saving new best model...')\n",
    "        test_results.to_csv('../models/best_model_results.csv', mode='w', index=False)\n",
    "        with open('../models/best_model.pkl','wb') as f:\n",
    "            pickle.dump(model,f)\n",
    "        "
   ]
  },
  {
   "cell_type": "markdown",
   "metadata": {},
   "source": [
    "## Predictions on latest data"
   ]
  },
  {
   "cell_type": "code",
   "execution_count": 114,
   "metadata": {},
   "outputs": [
    {
     "name": "stdout",
     "output_type": "stream",
     "text": [
      "Best model R²: -0.2386041650746659\n"
     ]
    }
   ],
   "source": [
    "best_r2 = pd.read_csv('../models/best_model_results.csv').loc[0, 'R²']\n",
    "\n",
    "with open('../models/best_model.pkl', 'rb') as f:\n",
    "    model = pickle.load(f)\n",
    "    print(f'Best model R²: {best_r2}')\n"
   ]
  },
  {
   "cell_type": "code",
   "execution_count": 115,
   "metadata": {},
   "outputs": [
    {
     "data": {
      "application/vnd.microsoft.datawrangler.viewer.v0+json": {
       "columns": [
        {
         "name": "index",
         "rawType": "int64",
         "type": "integer"
        },
        {
         "name": "Ticker",
         "rawType": "object",
         "type": "string"
        },
        {
         "name": "mean (%)",
         "rawType": "float64",
         "type": "float"
        },
        {
         "name": "3m (%)",
         "rawType": "float64",
         "type": "float"
        },
        {
         "name": "6m (%)",
         "rawType": "float64",
         "type": "float"
        },
        {
         "name": "1y (%)",
         "rawType": "float64",
         "type": "float"
        }
       ],
       "ref": "9f6800c2-1050-49cb-a4b2-1c87fc1783d6",
       "rows": [
        [
         "0",
         "BIOF",
         "13.12439334103416",
         "16.3478603000932",
         "21.207966141418684",
         "1.8173535815905906"
        ],
        [
         "1",
         "LKQ",
         "11.243066119734253",
         "5.738638042613038",
         "12.095498522755936",
         "15.89506179383379"
        ],
        [
         "2",
         "GENC",
         "10.365597026126727",
         "6.338535369521758",
         "12.56321806299116",
         "12.195037645867263"
        ],
        [
         "3",
         "FDX",
         "8.270337540300172",
         "3.206794985708403",
         "10.642068701775118",
         "10.962148933416998"
        ],
        [
         "4",
         "MKSI",
         "14.768305016193873",
         "7.273061553692858",
         "19.444194634329666",
         "17.587658860559095"
        ],
        [
         "5",
         "ADI",
         "8.244431077008045",
         "2.248845316260594",
         "45.46755764022925",
         "-22.98310972546571"
        ],
        [
         "6",
         "PEG",
         "17.537470515989906",
         "9.363776478675286",
         "22.22937145186517",
         "21.019263617429257"
        ],
        [
         "7",
         "SIMO",
         "20.248471441907526",
         "9.030300656014875",
         "23.580917943879793",
         "28.134195725827908"
        ],
        [
         "8",
         "WLDN",
         "21.172375478712592",
         "12.79093385226695",
         "20.716462923036875",
         "30.009729660833944"
        ],
        [
         "9",
         "SCOR",
         "17.730211019315693",
         "9.819563641163557",
         "18.610603758338865",
         "24.760465658444662"
        ],
        [
         "10",
         "RHI",
         "18.65496269283255",
         "9.054080727820354",
         "21.648515637561673",
         "25.262291713115626"
        ],
        [
         "11",
         "TTI",
         "19.680692300045898",
         "10.562048384357132",
         "19.711115529233624",
         "28.76891298654694"
        ],
        [
         "12",
         "AMD",
         "8.26123340439916",
         "-4.099619112798203",
         "37.21288317329658",
         "-8.329563847300896"
        ],
        [
         "13",
         "CP",
         "7.118326571859697",
         "-3.5537757647615957",
         "13.291025206723095",
         "11.617730273617594"
        ],
        [
         "14",
         "ALE",
         "6.858274200401361",
         "-3.1014937656956363",
         "43.561171196162995",
         "-19.884854829263276"
        ],
        [
         "15",
         "UGI",
         "23.017057902278403",
         "11.333890700171066",
         "25.250954005162612",
         "32.466329001501535"
        ],
        [
         "16",
         "SFM",
         "17.859078355094805",
         "11.241896937797978",
         "18.211665429540734",
         "24.123672697945704"
        ],
        [
         "17",
         "PBHC",
         "14.345075051573888",
         "6.600964752918535",
         "14.880425226828631",
         "21.553835174974502"
        ],
        [
         "18",
         "NEWP",
         "14.831961893615428",
         "8.893327911950806",
         "13.81781155118735",
         "21.784746217708122"
        ],
        [
         "19",
         "ALSN",
         "2.677895188955528",
         "2.59794065657994",
         "5.336602144432402",
         "0.09914276585424216"
        ],
        [
         "20",
         "SMBC",
         "16.501090977562246",
         "7.565509552205796",
         "17.569363701022656",
         "24.36839967945829"
        ],
        [
         "21",
         "TCBI",
         "16.89955844833916",
         "7.1789272040385805",
         "18.811483230636373",
         "24.708264910342535"
        ],
        [
         "22",
         "NBTB",
         "13.11779196677734",
         "7.326246119738666",
         "13.276689717283977",
         "18.750440063309373"
        ],
        [
         "23",
         "LPLA",
         "12.638844003246676",
         "7.0976518981078",
         "12.99579882379683",
         "17.823081287835404"
        ],
        [
         "24",
         "HAS",
         "10.195821690197338",
         "4.922796572295899",
         "12.398830874654136",
         "13.265837623641977"
        ],
        [
         "25",
         "HUN",
         "10.465871544599352",
         "5.678114371830786",
         "12.018430047595974",
         "13.701070214371292"
        ],
        [
         "26",
         "FCBC",
         "8.683027368704977",
         "5.851296497522862",
         "9.46690579117608",
         "10.730879817415989"
        ],
        [
         "27",
         "LTBR",
         "13.312885021959906",
         "11.854359346819193",
         "12.1955315203013",
         "15.888764198759217"
        ],
        [
         "28",
         "CWST",
         "1.382717814047558",
         "-1.874502218805823",
         "6.10627739607941",
         "-0.08362173513091244"
        ],
        [
         "29",
         "EDAP",
         "8.22964719544896",
         "5.481781217911667",
         "11.877580936738386",
         "7.329579431696823"
        ],
        [
         "30",
         "PLOW",
         "14.276937578530383",
         "5.023650867534428",
         "17.18709597281735",
         "20.62006589523937"
        ],
        [
         "31",
         "BEBE",
         "12.297363292785157",
         "10.643109468861786",
         "22.305962930714625",
         "3.9430174787790624"
        ],
        [
         "32",
         "MRIN",
         "14.994393483818316",
         "6.962947089655307",
         "20.50654153244934",
         "17.5136918293503"
        ],
        [
         "33",
         "CZWI",
         "7.2542101243925625",
         "5.84377438370954",
         "7.931541719916829",
         "7.9873142695513195"
        ],
        [
         "34",
         "TEL",
         "20.408874233229955",
         "11.996651215512943",
         "21.372028843776295",
         "27.85794264040063"
        ],
        [
         "35",
         "MUR",
         "17.522573670953808",
         "6.1503141134486405",
         "23.53338661513325",
         "22.884020284279536"
        ],
        [
         "36",
         "GTIM",
         "9.943977486919875",
         "6.835543427305003",
         "10.512963413768766",
         "12.483425619685853"
        ],
        [
         "37",
         "UEIC",
         "20.2053251035164",
         "10.63069064967508",
         "20.52990107354778",
         "29.455383587326338"
        ],
        [
         "38",
         "LXFR",
         "14.527664868640267",
         "8.403924345865601",
         "18.618267261312617",
         "16.56080299874258"
        ],
        [
         "39",
         "MUX",
         "14.785073641308163",
         "9.729197131413189",
         "13.4072717515981",
         "21.218752040913195"
        ],
        [
         "40",
         "CASY",
         "16.668897475317824",
         "10.688898530146593",
         "23.52325248360088",
         "15.794541412205998"
        ],
        [
         "41",
         "STRM",
         "19.722041586604234",
         "13.983633552833757",
         "18.50811913421933",
         "26.674372072759624"
        ],
        [
         "42",
         "DK",
         "6.736154366810293",
         "6.959138562620189",
         "7.284988777754683",
         "5.964335760056007"
        ],
        [
         "43",
         "EVC",
         "6.394419279558152",
         "3.874593805250387",
         "7.081870538613573",
         "8.226793494810497"
        ],
        [
         "44",
         "MORN",
         "14.697332825343537",
         "9.336655187809669",
         "15.726562633451637",
         "19.028780654769303"
        ],
        [
         "45",
         "MCHX",
         "10.16863895702963",
         "4.170649214698799",
         "11.856258991967524",
         "14.479008664422569"
        ],
        [
         "46",
         "BTU",
         "16.46647397514414",
         "13.998490255214774",
         "24.82493174082297",
         "10.575999929394674"
        ],
        [
         "47",
         "SHOO",
         "18.230135213063313",
         "10.950913239728571",
         "18.721724802854762",
         "25.017767596606618"
        ],
        [
         "48",
         "UTL",
         "22.84442493483568",
         "11.40834491235594",
         "25.573121933125275",
         "31.55180795902582"
        ],
        [
         "49",
         "CWCO",
         "13.303734445916904",
         "4.39273193831995",
         "19.672497514140648",
         "15.84597388529011"
        ]
       ],
       "shape": {
        "columns": 5,
        "rows": 807
       }
      },
      "text/html": [
       "<div>\n",
       "<style scoped>\n",
       "    .dataframe tbody tr th:only-of-type {\n",
       "        vertical-align: middle;\n",
       "    }\n",
       "\n",
       "    .dataframe tbody tr th {\n",
       "        vertical-align: top;\n",
       "    }\n",
       "\n",
       "    .dataframe thead th {\n",
       "        text-align: right;\n",
       "    }\n",
       "</style>\n",
       "<table border=\"1\" class=\"dataframe\">\n",
       "  <thead>\n",
       "    <tr style=\"text-align: right;\">\n",
       "      <th></th>\n",
       "      <th>Ticker</th>\n",
       "      <th>mean (%)</th>\n",
       "      <th>3m (%)</th>\n",
       "      <th>6m (%)</th>\n",
       "      <th>1y (%)</th>\n",
       "    </tr>\n",
       "  </thead>\n",
       "  <tbody>\n",
       "    <tr>\n",
       "      <th>0</th>\n",
       "      <td>BIOF</td>\n",
       "      <td>13.124393</td>\n",
       "      <td>16.347860</td>\n",
       "      <td>21.207966</td>\n",
       "      <td>1.817354</td>\n",
       "    </tr>\n",
       "    <tr>\n",
       "      <th>1</th>\n",
       "      <td>LKQ</td>\n",
       "      <td>11.243066</td>\n",
       "      <td>5.738638</td>\n",
       "      <td>12.095499</td>\n",
       "      <td>15.895062</td>\n",
       "    </tr>\n",
       "    <tr>\n",
       "      <th>2</th>\n",
       "      <td>GENC</td>\n",
       "      <td>10.365597</td>\n",
       "      <td>6.338535</td>\n",
       "      <td>12.563218</td>\n",
       "      <td>12.195038</td>\n",
       "    </tr>\n",
       "    <tr>\n",
       "      <th>3</th>\n",
       "      <td>FDX</td>\n",
       "      <td>8.270338</td>\n",
       "      <td>3.206795</td>\n",
       "      <td>10.642069</td>\n",
       "      <td>10.962149</td>\n",
       "    </tr>\n",
       "    <tr>\n",
       "      <th>4</th>\n",
       "      <td>MKSI</td>\n",
       "      <td>14.768305</td>\n",
       "      <td>7.273062</td>\n",
       "      <td>19.444195</td>\n",
       "      <td>17.587659</td>\n",
       "    </tr>\n",
       "    <tr>\n",
       "      <th>...</th>\n",
       "      <td>...</td>\n",
       "      <td>...</td>\n",
       "      <td>...</td>\n",
       "      <td>...</td>\n",
       "      <td>...</td>\n",
       "    </tr>\n",
       "    <tr>\n",
       "      <th>802</th>\n",
       "      <td>PKE</td>\n",
       "      <td>13.641665</td>\n",
       "      <td>6.494288</td>\n",
       "      <td>14.269881</td>\n",
       "      <td>20.160826</td>\n",
       "    </tr>\n",
       "    <tr>\n",
       "      <th>803</th>\n",
       "      <td>CBAN</td>\n",
       "      <td>5.654889</td>\n",
       "      <td>5.085023</td>\n",
       "      <td>6.624051</td>\n",
       "      <td>5.255594</td>\n",
       "    </tr>\n",
       "    <tr>\n",
       "      <th>804</th>\n",
       "      <td>FOSL</td>\n",
       "      <td>9.921450</td>\n",
       "      <td>5.528296</td>\n",
       "      <td>11.252383</td>\n",
       "      <td>12.983671</td>\n",
       "    </tr>\n",
       "    <tr>\n",
       "      <th>805</th>\n",
       "      <td>DSX</td>\n",
       "      <td>11.952424</td>\n",
       "      <td>6.775722</td>\n",
       "      <td>15.896574</td>\n",
       "      <td>13.184977</td>\n",
       "    </tr>\n",
       "    <tr>\n",
       "      <th>806</th>\n",
       "      <td>APA</td>\n",
       "      <td>4.414862</td>\n",
       "      <td>3.320196</td>\n",
       "      <td>19.881536</td>\n",
       "      <td>-9.957145</td>\n",
       "    </tr>\n",
       "  </tbody>\n",
       "</table>\n",
       "<p>807 rows × 5 columns</p>\n",
       "</div>"
      ],
      "text/plain": [
       "    Ticker   mean (%)     3m (%)     6m (%)     1y (%)\n",
       "0     BIOF  13.124393  16.347860  21.207966   1.817354\n",
       "1      LKQ  11.243066   5.738638  12.095499  15.895062\n",
       "2     GENC  10.365597   6.338535  12.563218  12.195038\n",
       "3      FDX   8.270338   3.206795  10.642069  10.962149\n",
       "4     MKSI  14.768305   7.273062  19.444195  17.587659\n",
       "..     ...        ...        ...        ...        ...\n",
       "802    PKE  13.641665   6.494288  14.269881  20.160826\n",
       "803   CBAN   5.654889   5.085023   6.624051   5.255594\n",
       "804   FOSL   9.921450   5.528296  11.252383  12.983671\n",
       "805    DSX  11.952424   6.775722  15.896574  13.184977\n",
       "806    APA   4.414862   3.320196  19.881536  -9.957145\n",
       "\n",
       "[807 rows x 5 columns]"
      ]
     },
     "execution_count": 115,
     "metadata": {},
     "output_type": "execute_result"
    }
   ],
   "source": [
    "df_raw = pd.read_csv('../data/earnings_data.csv')\n",
    "\n",
    "results = []\n",
    "for i in range(len(X_pred)):\n",
    "    y_pred = model.predict(X_pred.iloc[[i]])[0]\n",
    "    y_pred_3m, y_pred_6m, y_pred_1y = y_pred\n",
    "    avg = (y_pred_3m + y_pred_6m + y_pred_1y) / 3\n",
    "    results.append({\n",
    "        'Ticker': df_raw.loc[i*5, 'Ticker'],\n",
    "        'mean (%)': avg * 100,\n",
    "        '3m (%)': y_pred_3m * 100,\n",
    "        '6m (%)': y_pred_6m * 100,\n",
    "        '1y (%)': y_pred_1y * 100\n",
    "    })\n",
    "\n",
    "results_df = pd.DataFrame(results)\n",
    "results_df"
   ]
  },
  {
   "cell_type": "code",
   "execution_count": 116,
   "metadata": {},
   "outputs": [],
   "source": [
    "def predict_ticker(ticker_str):\n",
    "    try:\n",
    "        ticker_str = str(ticker_str).upper()\n",
    "        ticker_str = ticker_str.replace(\"'\", \"\")\n",
    "        ticker_str = ticker_str.replace('\"', \"\")\n",
    "        row = results_df[results_df['Ticker'] == ticker_str]\n",
    "        if row.empty:\n",
    "            return (f\"The author was stupid and forgot to cover this obvious, famous stock. Try another.\", \"\", \"\", \"\")\n",
    "        row = row.iloc[0]\n",
    "        return (\n",
    "            f\"{row['3m (%)']:.2f}\",\n",
    "            f\"{row['6m (%)']:.2f}\",\n",
    "            f\"{row['1y (%)']:.2f}\",\n",
    "            f\"{row['mean (%)']:.2f}\",\n",
    "        )\n",
    "    except Exception as e:\n",
    "        return (f\"Error: {e}\", \"\", \"\", \"\")"
   ]
  },
  {
   "cell_type": "code",
   "execution_count": 117,
   "metadata": {
    "vscode": {
     "languageId": "javascript"
    }
   },
   "outputs": [
    {
     "name": "stdout",
     "output_type": "stream",
     "text": [
      "* Running on local URL:  http://127.0.0.1:7860\n",
      "* Running on public URL: https://61172e97ecb196af91.gradio.live\n",
      "\n",
      "This share link expires in 1 week. For free permanent hosting and GPU upgrades, run `gradio deploy` from the terminal in the working directory to deploy to Hugging Face Spaces (https://huggingface.co/spaces)\n"
     ]
    },
    {
     "data": {
      "text/html": [
       "<div><iframe src=\"https://61172e97ecb196af91.gradio.live\" width=\"100%\" height=\"500\" allow=\"autoplay; camera; microphone; clipboard-read; clipboard-write;\" frameborder=\"0\" allowfullscreen></iframe></div>"
      ],
      "text/plain": [
       "<IPython.core.display.HTML object>"
      ]
     },
     "metadata": {},
     "output_type": "display_data"
    },
    {
     "data": {
      "text/plain": []
     },
     "execution_count": 117,
     "metadata": {},
     "output_type": "execute_result"
    }
   ],
   "source": [
    "iface = gr.Interface(\n",
    "    fn=predict_ticker,\n",
    "    inputs=gr.Textbox(label=\"Ticker (e.g. 'TSLA' or 'MATAS.CO')\"),\n",
    "    outputs=[\n",
    "        gr.Textbox(label=\"3 Month Change Prediction (%)\"),\n",
    "        gr.Textbox(label=\"6 Month Change Prediction (%)\"),\n",
    "        gr.Textbox(label=\"1 Year Change Prediction (%)\"),\n",
    "        gr.Textbox(label=\"Mean Change Prediction (%)\"),\n",
    "    ],\n",
    "    title=\"Stock Price Prediction Model\",\n",
    "    description=\" \"\n",
    ")\n",
    "\n",
    "iface.launch(share=True)"
   ]
  }
 ],
 "metadata": {
  "kernelspec": {
   "display_name": "base",
   "language": "python",
   "name": "python3"
  },
  "language_info": {
   "codemirror_mode": {
    "name": "ipython",
    "version": 3
   },
   "file_extension": ".py",
   "mimetype": "text/x-python",
   "name": "python",
   "nbconvert_exporter": "python",
   "pygments_lexer": "ipython3",
   "version": "3.12.2"
  }
 },
 "nbformat": 4,
 "nbformat_minor": 2
}
