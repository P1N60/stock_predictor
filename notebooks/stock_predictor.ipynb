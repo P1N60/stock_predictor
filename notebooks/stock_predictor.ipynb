{
 "cells": [
  {
   "cell_type": "markdown",
   "metadata": {},
   "source": [
    "# Stock Prediction Model"
   ]
  },
  {
   "cell_type": "markdown",
   "metadata": {},
   "source": [
    "## Dependencies"
   ]
  },
  {
   "cell_type": "markdown",
   "metadata": {},
   "source": [
    "### Library Installation (if needed)"
   ]
  },
  {
   "cell_type": "code",
   "execution_count": 157,
   "metadata": {},
   "outputs": [],
   "source": [
    "#! pip install -Ur requirements.txt"
   ]
  },
  {
   "cell_type": "markdown",
   "metadata": {},
   "source": [
    "### Importing Required Libraries"
   ]
  },
  {
   "cell_type": "code",
   "execution_count": 158,
   "metadata": {},
   "outputs": [],
   "source": [
    "import matplotlib.pyplot as plt\n",
    "import yfinance as yf\n",
    "import pandas as pd\n",
    "import numpy as np\n",
    "import pickle\n",
    "import gradio as gr\n",
    "import ast\n",
    "import warnings\n",
    "from datetime import datetime\n",
    "from tqdm import tqdm\n",
    "from sklearn.impute import SimpleImputer\n",
    "from sklearn.neural_network import MLPRegressor\n",
    "from sklearn.metrics import r2_score, mean_squared_error, mean_absolute_error\n",
    "from sklearn.preprocessing import LabelEncoder, StandardScaler\n",
    "from sklearn.model_selection import train_test_split, GridSearchCV"
   ]
  },
  {
   "cell_type": "markdown",
   "metadata": {},
   "source": [
    "### Variables"
   ]
  },
  {
   "cell_type": "code",
   "execution_count": 159,
   "metadata": {},
   "outputs": [],
   "source": [
    "warnings.filterwarnings(\"ignore\", category=FutureWarning)\n",
    "build_new_dataset = {'True': True, 'False': False}.get(input('Build New Dataset? (Bool)'))\n",
    "if build_new_dataset:\n",
    "    symbol_list = input(\"Symbols: ('simple', 'filtered' or 'all')\") # 'simple' or 'all'. simple are the tickers from the screener notebook and all are all of the tickers in 'filtered_tickers'. You may also an 'Int' to get a % amount of random tickers from 'all'\n",
    "else:\n",
    "    symbol_list = 'filtered'\n",
    "minimum_feature_threshold = 0.6\n",
    "\n",
    "train_new_model = {'True': True, 'False': False}.get(input('Train New Model? (Bool)'))\n",
    "if train_new_model:\n",
    "    hidden_layers = ast.literal_eval(f\"({input('Hidden Layers: eg. \"100, 100\"')})\")\n",
    "    verticle_jobs = 1 #'-1' for max\n",
    "\n",
    "if build_new_dataset or train_new_model:\n",
    "    debugging = {'True': True, 'False': False}.get(input('Debug? (Bool)'))\n",
    "else:\n",
    "    debugging = False"
   ]
  },
  {
   "cell_type": "markdown",
   "metadata": {},
   "source": [
    "## Data Preparation"
   ]
  },
  {
   "cell_type": "code",
   "execution_count": 160,
   "metadata": {},
   "outputs": [
    {
     "data": {
      "text/plain": [
       "array(['AA', 'AAT', 'ABR', ..., 'BABA', 'WB', 'SYDB.CO'], dtype=object)"
      ]
     },
     "execution_count": 160,
     "metadata": {},
     "output_type": "execute_result"
    }
   ],
   "source": [
    "symbols = []\n",
    "if symbol_list == 'filtered':\n",
    "    symbols = pd.read_csv('../data/filtered_tickers.csv')['Ticker'].tolist()\n",
    "elif symbol_list == 'all':\n",
    "    symbols = pd.read_csv('../data/tickers.csv')['Ticker'].tolist()\n",
    "elif symbol_list.isdigit():\n",
    "    all_symbols = pd.read_csv('../data/tickers.csv')['Ticker'].tolist()\n",
    "    num_symbols = max(1, round(len(all_symbols) * (int(symbol_list) / 100)))  \n",
    "    symbols = np.random.choice(all_symbols, num_symbols, replace=False).tolist()\n",
    "    symbols = symbols + pd.read_csv(\"../data/filtered_tickers.csv\")[\"Ticker\"].tolist()\n",
    "\n",
    "symbols = symbols + pd.read_csv('../data/simple_tickers.csv')['Ticker'].tolist()\n",
    "\n",
    "symbols = pd.Series(symbols).unique()\n",
    "symbols"
   ]
  },
  {
   "cell_type": "markdown",
   "metadata": {},
   "source": [
    "#### Download annual financial data"
   ]
  },
  {
   "cell_type": "code",
   "execution_count": 161,
   "metadata": {},
   "outputs": [],
   "source": [
    "if build_new_dataset:\n",
    "    df = pd.DataFrame()\n",
    "    filtered_pd = pd.read_csv('../data/filtered_tickers.csv')\n",
    "    for symbol in tqdm(symbols, smoothing=0):\n",
    "        ticker_df = pd.DataFrame()\n",
    "        ticker = yf.Ticker(symbol)\n",
    "        try:\n",
    "            # Latest earning data\n",
    "            latest_earning_date = ticker.quarterly_cash_flow.columns.tolist()[0]\n",
    "            latest_data = {'Ticker': symbol, 'Name': ticker.info[\"displayName\"], 'Date': latest_earning_date}\n",
    "            latest_data['3M Future Change'] = np.nan\n",
    "            latest_data['6M Future Change'] = np.nan\n",
    "            latest_data['1Y Future Change'] = np.nan\n",
    "            try:\n",
    "                latest_data['Sector'] = ticker.info['sector']\n",
    "            except:\n",
    "                latest_data['Sector'] = 'Unknown'\n",
    "            try:\n",
    "                latest_data['Industry'] = ticker.info['industry']\n",
    "            except:\n",
    "                latest_data['Industry'] = 'Unknown'\n",
    "            for column in ticker.quarterly_cash_flow[latest_earning_date].keys().tolist():\n",
    "                latest_data[column] = ticker.quarterly_cash_flow[latest_earning_date][column]\n",
    "            for column in ticker.quarterly_balance_sheet[latest_earning_date].keys().tolist():\n",
    "                latest_data[column] = ticker.quarterly_balance_sheet[latest_earning_date][column]\n",
    "            for column in ticker.quarterly_income_stmt[latest_earning_date].keys().tolist():\n",
    "                latest_data[column] = ticker.quarterly_income_stmt[latest_earning_date][column]\n",
    "            ticker_df = pd.concat([ticker_df, pd.DataFrame([latest_data])], ignore_index=True)\n",
    "\n",
    "            # Annual data\n",
    "            earning_dates = ticker.cash_flow.columns.tolist()\n",
    "            if len(earning_dates) == 5:\n",
    "                earning_dates.remove(earning_dates[4])\n",
    "            else:\n",
    "                if symbol in filtered_pd['Ticker'].tolist():\n",
    "                    filtered_pd = filtered_pd[filtered_pd['Ticker'] != symbol]\n",
    "                if debugging:\n",
    "                    print(f\"{symbol} had {len(earning_dates)} earning dates, not 5\")\n",
    "                continue\n",
    "            price_data = yf.download(symbol, period='10y', rounding=False, progress=False)\n",
    "            cash_flow = ticker.cash_flow\n",
    "            cash_flow_columns = cash_flow[earning_dates[0]].keys().tolist()\n",
    "            balance_sheet = ticker.balance_sheet\n",
    "            balance_sheet_columns = balance_sheet[earning_dates[0]].keys().tolist()\n",
    "            income_statement = ticker.income_stmt\n",
    "            income_statement_columns = income_statement[earning_dates[0]].keys().tolist()\n",
    "            for earning_date in earning_dates:\n",
    "                earning_date_data = {'Ticker': symbol, 'Name': ticker.info[\"displayName\"], 'Date': earning_date}\n",
    "                got_price = False\n",
    "                day_offset = 0\n",
    "                while(got_price==False and day_offset > -6):\n",
    "                    try:           \n",
    "                        earning_date_data['3M Future Change'] = (\n",
    "                            float(price_data.loc[earning_date + pd.Timedelta(days=day_offset, weeks=13) , ('Close', symbol)]) / \n",
    "                            float(price_data.loc[earning_date + pd.Timedelta(days=day_offset), ('Close', symbol)]) - 1\n",
    "                        )\n",
    "                        earning_date_data['6M Future Change'] = (\n",
    "                            float(price_data.loc[earning_date + pd.Timedelta(days=day_offset, weeks=26) , ('Close', symbol)]) / \n",
    "                            float(price_data.loc[earning_date + pd.Timedelta(days=day_offset), ('Close', symbol)]) - 1\n",
    "                        )\n",
    "                        earning_date_data['1Y Future Change'] = (\n",
    "                            float(price_data.loc[earning_date + pd.Timedelta(days=day_offset, weeks=52) , ('Close', symbol)]) / \n",
    "                            float(price_data.loc[earning_date + pd.Timedelta(days=day_offset), ('Close', symbol)]) - 1\n",
    "                        )\n",
    "                        got_price = True\n",
    "                    except:\n",
    "                        day_offset += -1\n",
    "                try:\n",
    "                    earning_date_data['Sector'] = ticker.info['sector']\n",
    "                except:\n",
    "                    earning_date_data['Sector'] = 'Unknown'\n",
    "                try:\n",
    "                    earning_date_data['Industry'] = ticker.info['industry']\n",
    "                except:\n",
    "                    earning_date_data['Industry'] = 'Unknown'\n",
    "                for column in cash_flow_columns:\n",
    "                    earning_date_data[column] = cash_flow[earning_date][column]\n",
    "                for column in balance_sheet_columns:\n",
    "                    earning_date_data[column] = balance_sheet[earning_date][column]\n",
    "                for column in income_statement_columns:\n",
    "                    earning_date_data[column] = income_statement[earning_date][column]\n",
    "                if got_price:\n",
    "                    ticker_df = pd.concat([ticker_df, pd.DataFrame([earning_date_data])], ignore_index=True)\n",
    "\n",
    "            if len(ticker_df) != 4:\n",
    "                if symbol in filtered_pd['Ticker'].tolist():\n",
    "                    filtered_pd = filtered_pd[filtered_pd['Ticker'] != symbol]\n",
    "                if debugging:\n",
    "                    print(f'Removed {symbol} from filtered tickers because the length of the df was not 4, it was {len(ticker_df)}')\n",
    "                continue\n",
    "\n",
    "            if ticker_df.isna().sum().sum() < round(352 * minimum_feature_threshold):\n",
    "                if symbol not in filtered_pd['Ticker'].tolist():\n",
    "                    filtered_pd = pd.concat([filtered_pd, pd.DataFrame([{'Ticker': symbol}])])\n",
    "                imputer = SimpleImputer()\n",
    "                for column in ticker_df.columns.drop(['Ticker', 'Name', 'Date', '3M Future Change', '6M Future Change', '1Y Future Change', 'Sector', 'Industry']):\n",
    "                    if not ticker_df[column].isna().all():\n",
    "                        ticker_df[column] = imputer.fit_transform(ticker_df[[column]])\n",
    "            else:\n",
    "                if symbol in filtered_pd['Ticker'].tolist():\n",
    "                    filtered_pd = filtered_pd[filtered_pd['Ticker'] != symbol]\n",
    "                    if debugging:\n",
    "                        print(f'Removed {symbol} from filtered tickers. Datapoints: {ticker_df.isna().sum().sum()}, Needed: {round(352 * minimum_feature_threshold)}')\n",
    "                continue\n",
    "            df = pd.concat([df, ticker_df], ignore_index=True)\n",
    "        except Exception as error:\n",
    "            if symbol in filtered_pd['Ticker'].tolist():\n",
    "                filtered_pd = filtered_pd[filtered_pd['Ticker'] != symbol]\n",
    "                if debugging:\n",
    "                    print(f'Removed {symbol} from filtered tickers because an exception was raised')\n",
    "                    print(error)\n",
    "            continue\n",
    "    filtered_pd.to_csv('../data/filtered_tickers.csv', index=False)\n",
    "    df.to_csv('../data/earnings_data.csv', index=False)\n",
    "else:\n",
    "    df = pd.read_csv('../data/earnings_data.csv')"
   ]
  },
  {
   "cell_type": "markdown",
   "metadata": {},
   "source": [
    "### Short visualisation"
   ]
  },
  {
   "cell_type": "code",
   "execution_count": 162,
   "metadata": {},
   "outputs": [],
   "source": [
    "if debugging:\n",
    "    display(df)"
   ]
  },
  {
   "cell_type": "markdown",
   "metadata": {},
   "source": [
    "### Impution and encoding"
   ]
  },
  {
   "cell_type": "code",
   "execution_count": 163,
   "metadata": {},
   "outputs": [],
   "source": [
    "imputer = SimpleImputer()\n",
    "scaler = StandardScaler()\n",
    "for column in df.columns.drop(['Ticker', 'Name', 'Date', '3M Future Change', '6M Future Change', '1Y Future Change', 'Sector', 'Industry']):\n",
    "    df[column] = imputer.fit_transform(df[[column]])\n",
    "    scaler.fit(df[[column]])\n",
    "    df[column] = scaler.transform(df[[column]])\n",
    "\n",
    "le = LabelEncoder()\n",
    "for column in ['Sector', 'Industry']:\n",
    "    df[column] = df[column].astype(str)\n",
    "    le.fit(df[column])\n",
    "    df[column] = le.transform(df[column])"
   ]
  },
  {
   "cell_type": "markdown",
   "metadata": {},
   "source": [
    "### Splitting"
   ]
  },
  {
   "cell_type": "code",
   "execution_count": 164,
   "metadata": {},
   "outputs": [],
   "source": [
    "pred_data = pd.DataFrame()\n",
    "train_data = pd.DataFrame()\n",
    "for i in range(int(len(df) / 4)):\n",
    "    pred_data = pd.concat([pred_data, df.iloc[[i*4]]]) \n",
    "    train_data = pd.concat([train_data, df.iloc[[1+i*4]]])\n",
    "    train_data = pd.concat([train_data, df.iloc[[2+i*4]]])\n",
    "    train_data = pd.concat([train_data, df.iloc[[3+i*4]]])\n",
    "if debugging:\n",
    "    print('Prediction Data:')\n",
    "    display(pred_data)\n",
    "    print('Train and Test Data:')\n",
    "    display(train_data)"
   ]
  },
  {
   "cell_type": "markdown",
   "metadata": {},
   "source": [
    "### Labeling"
   ]
  },
  {
   "cell_type": "code",
   "execution_count": 165,
   "metadata": {},
   "outputs": [],
   "source": [
    "ignore_columns = [\"Ticker\", \"Name\", \"Date\", '3M Future Change', '6M Future Change', '1Y Future Change']\n",
    "X_pred = pred_data.drop(ignore_columns, axis=1)\n",
    "X_train = train_data.drop(ignore_columns, axis=1)\n",
    "y_train = train_data[['3M Future Change', '6M Future Change', '1Y Future Change']]\n",
    "\n",
    "X_train, X_test, y_train, y_test = train_test_split(\n",
    "    X_train,\n",
    "    y_train,\n",
    "    test_size=0.15,\n",
    "    shuffle=True,\n",
    ")\n",
    "\n",
    "if debugging:\n",
    "    display(X_train)\n",
    "    display(y_train)\n",
    "    display(X_test)\n",
    "    display(y_test)"
   ]
  },
  {
   "cell_type": "markdown",
   "metadata": {},
   "source": [
    "## Model Training"
   ]
  },
  {
   "cell_type": "code",
   "execution_count": 166,
   "metadata": {},
   "outputs": [
    {
     "name": "stdout",
     "output_type": "stream",
     "text": [
      "Iteration 1, loss = 104.53938987\n",
      "Validation score: -1.146779\n",
      "Iteration 2, loss = 0.79137882\n",
      "Validation score: -0.552579\n",
      "Iteration 3, loss = 0.33396044\n",
      "Validation score: -0.213682\n",
      "Iteration 4, loss = 0.28271582\n",
      "Validation score: -0.891265\n",
      "Iteration 5, loss = 0.14702004\n",
      "Validation score: -0.275459\n",
      "Iteration 6, loss = 0.12180144\n",
      "Validation score: -0.302348\n",
      "Iteration 7, loss = 0.15310107\n",
      "Validation score: -0.509928\n",
      "Iteration 8, loss = 0.23532084\n",
      "Validation score: -0.231674\n",
      "Iteration 9, loss = 0.39259045\n",
      "Validation score: -0.208290\n",
      "Iteration 10, loss = 0.20626737\n",
      "Validation score: -0.041702\n",
      "Iteration 11, loss = 0.11783288\n",
      "Validation score: -0.039946\n",
      "Iteration 12, loss = 0.09302641\n",
      "Validation score: -0.031343\n",
      "Iteration 13, loss = 0.08870937\n",
      "Validation score: -0.036445\n",
      "Iteration 14, loss = 0.08794294\n",
      "Validation score: -0.029019\n",
      "Iteration 15, loss = 0.08748580\n",
      "Validation score: -0.035763\n",
      "Iteration 16, loss = 0.08882051\n",
      "Validation score: -0.036128\n",
      "Iteration 17, loss = 0.08785379\n",
      "Validation score: -0.028277\n",
      "Iteration 18, loss = 0.08768236\n",
      "Validation score: -0.051836\n",
      "Iteration 19, loss = 0.08684368\n",
      "Validation score: -0.025532\n",
      "Iteration 20, loss = 0.09039891\n",
      "Validation score: -0.087389\n",
      "Iteration 21, loss = 0.09105703\n",
      "Validation score: -0.168001\n",
      "Iteration 22, loss = 0.08982045\n",
      "Validation score: -0.049490\n",
      "Iteration 23, loss = 0.08875657\n",
      "Validation score: -0.031311\n",
      "Iteration 24, loss = 0.08821486\n",
      "Validation score: -0.030088\n",
      "Iteration 25, loss = 0.09069760\n",
      "Validation score: -0.041402\n",
      "Iteration 26, loss = 0.08775966\n",
      "Validation score: -0.043767\n",
      "Iteration 27, loss = 0.08789563\n",
      "Validation score: -0.041606\n",
      "Iteration 28, loss = 0.08676774\n",
      "Validation score: -0.051312\n",
      "Iteration 29, loss = 0.09454906\n",
      "Validation score: -0.038932\n",
      "Iteration 30, loss = 0.08887856\n",
      "Validation score: -0.029693\n",
      "Iteration 31, loss = 0.08603079\n",
      "Validation score: -0.028782\n",
      "Iteration 32, loss = 0.08705169\n",
      "Validation score: -0.074739\n",
      "Iteration 33, loss = 0.09077686\n",
      "Validation score: -0.035613\n",
      "Iteration 34, loss = 0.08652045\n",
      "Validation score: -0.033321\n",
      "Iteration 35, loss = 0.08622087\n",
      "Validation score: -0.070748\n",
      "Iteration 36, loss = 0.08598899\n",
      "Validation score: -0.018871\n",
      "Iteration 37, loss = 0.08699256\n",
      "Validation score: -0.064457\n",
      "Iteration 38, loss = 0.08697286\n",
      "Validation score: -0.036619\n",
      "Iteration 39, loss = 0.08576029\n",
      "Validation score: -0.033524\n",
      "Iteration 40, loss = 0.08484329\n",
      "Validation score: -0.028607\n",
      "Iteration 41, loss = 0.08596181\n",
      "Validation score: -0.071410\n",
      "Iteration 42, loss = 0.08527237\n",
      "Validation score: -0.174631\n",
      "Iteration 43, loss = 0.11448966\n",
      "Validation score: -0.325314\n",
      "Iteration 44, loss = 0.10105602\n",
      "Validation score: -0.040337\n",
      "Iteration 45, loss = 0.09289335\n",
      "Validation score: -0.428221\n",
      "Iteration 46, loss = 0.09385357\n",
      "Validation score: -0.114443\n",
      "Iteration 47, loss = 0.09604747\n",
      "Validation score: -0.084883\n",
      "Iteration 48, loss = 0.10294454\n",
      "Validation score: -0.267016\n",
      "Iteration 49, loss = 0.09664298\n",
      "Validation score: -0.131432\n",
      "Iteration 50, loss = 0.10867085\n",
      "Validation score: -0.198351\n",
      "Iteration 51, loss = 0.09222873\n",
      "Validation score: -0.065412\n",
      "Iteration 52, loss = 0.08713062\n",
      "Validation score: -0.058480\n",
      "Iteration 53, loss = 0.08797502\n",
      "Validation score: -0.119309\n",
      "Iteration 54, loss = 0.08651928\n",
      "Validation score: -0.058234\n",
      "Iteration 55, loss = 0.09168321\n",
      "Validation score: -0.076569\n",
      "Iteration 56, loss = 0.08648119\n",
      "Validation score: -0.051805\n",
      "Iteration 57, loss = 0.08463577\n",
      "Validation score: -0.065163\n",
      "Validation score did not improve more than tol=0.000100 for 20 consecutive epochs. Stopping.\n"
     ]
    }
   ],
   "source": [
    "if train_new_model:\n",
    "    model = MLPRegressor(\n",
    "        hidden_layer_sizes=hidden_layers,\n",
    "        learning_rate=\"adaptive\",\n",
    "        early_stopping=True,\n",
    "        verbose=True,\n",
    "        n_iter_no_change=20\n",
    "    )\n",
    "    model.fit(X_train, y_train)"
   ]
  },
  {
   "cell_type": "markdown",
   "metadata": {},
   "source": [
    "## Testing and benchmarking"
   ]
  },
  {
   "cell_type": "code",
   "execution_count": 167,
   "metadata": {},
   "outputs": [
    {
     "data": {
      "image/png": "[encoded data removed]",
      "text/plain": [
       "<Figure size 1100x600 with 1 Axes>"
      ]
     },
     "metadata": {},
     "output_type": "display_data"
    },
    {
     "name": "stdout",
     "output_type": "stream",
     "text": [
      "3M Future Change - R²: -0.0304\n",
      "3M Future Change - MSE: 0.0607\n",
      "3M Future Change - MAE: 0.1606\n"
     ]
    },
    {
     "data": {
      "image/png": "[encoded data removed]",
      "text/plain": [
       "<Figure size 1100x600 with 1 Axes>"
      ]
     },
     "metadata": {},
     "output_type": "display_data"
    },
    {
     "name": "stdout",
     "output_type": "stream",
     "text": [
      "6M Future Change - R²: 0.0064\n",
      "6M Future Change - MSE: 0.1066\n",
      "6M Future Change - MAE: 0.2325\n"
     ]
    },
    {
     "data": {
      "image/png": "[encoded data removed]",
      "text/plain": [
       "<Figure size 1100x600 with 1 Axes>"
      ]
     },
     "metadata": {},
     "output_type": "display_data"
    },
    {
     "name": "stdout",
     "output_type": "stream",
     "text": [
      "1Y Future Change - R²: -0.0497\n",
      "1Y Future Change - MSE: 0.4968\n",
      "1Y Future Change - MAE: 0.3397\n",
      "\n",
      "Overall Scores:\n",
      "Mean - R²: -0.0245\n",
      "Mean - MSE: 0.2213\n",
      "Mean - MAE: 0.2442\n"
     ]
    }
   ],
   "source": [
    "if train_new_model:\n",
    "    y_test_pred = model.predict(X_test)\n",
    "\n",
    "    for i, target in enumerate(['3M Future Change', '6M Future Change', '1Y Future Change']):\n",
    "        y_test_actual = y_test[target]\n",
    "        y_test_pred_target = y_test_pred[:, i]\n",
    "\n",
    "        plt.figure(figsize=(11, 6))\n",
    "        plt.scatter(y_test_actual, y_test_pred_target, alpha=0.7, color='blue', label='Predictions')\n",
    "        plt.plot([y_test_actual.min(), y_test_actual.max()], [y_test_actual.min(), y_test_actual.max()], \n",
    "            color='red', linestyle='--', label='Perfect Fit')\n",
    "        plt.title(f'Predicted vs Actual Values ({target})')\n",
    "        plt.xlabel('Actual Values')\n",
    "        plt.ylabel('Predicted Values')\n",
    "        plt.legend()\n",
    "        plt.grid(True)\n",
    "        plt.show()\n",
    "\n",
    "        mae = mean_absolute_error(y_test_actual, y_test_pred_target)\n",
    "        mse = mean_squared_error(y_test_actual, y_test_pred_target)\n",
    "        r2 = r2_score(y_test_actual, y_test_pred_target)\n",
    "\n",
    "        print(f'{target} - R²: {r2:.4f}')\n",
    "        print(f'{target} - MSE: {mse:.4f}')\n",
    "        print(f'{target} - MAE: {mae:.4f}')\n",
    "\n",
    "    mae = mean_absolute_error(y_test, y_test_pred)\n",
    "    mse = mean_squared_error(y_test, y_test_pred)\n",
    "    r2 = r2_score(y_test, y_test_pred)\n",
    "\n",
    "    print('\\nOverall Scores:')\n",
    "    print(f'Mean - R²: {r2:.4f}')\n",
    "    print(f'Mean - MSE: {mse:.4f}')\n",
    "    print(f'Mean - MAE: {mae:.4f}')"
   ]
  },
  {
   "cell_type": "markdown",
   "metadata": {},
   "source": [
    "### Log test results"
   ]
  },
  {
   "cell_type": "code",
   "execution_count": 168,
   "metadata": {},
   "outputs": [],
   "source": [
    "if train_new_model:\n",
    "    test_results = pd.DataFrame({\n",
    "        'R²': r2,\n",
    "        'MSE': mse,\n",
    "        'MAE': mae,\n",
    "        'symbol_list': symbol_list,\n",
    "        'hidden_layer_sizes': [model.hidden_layer_sizes],\n",
    "        'max_iter': model.max_iter,\n",
    "        'n_iter_no_change': model.n_iter_no_change,\n",
    "        'learning_rate': model.learning_rate,\n",
    "        'learning_rate_init': model.learning_rate_init,\n",
    "        'batch_size': model.batch_size,\n",
    "        'tol': model.tol,\n",
    "        'alpha': model.alpha,\n",
    "        'shuffle': model.shuffle,\n",
    "    })\n",
    "    test_results.to_csv('../data/test_results.csv', mode='a', index=False)\n",
    "\n",
    "    # save model as new best if results are better than the current one\n",
    "    best_r2 = pd.read_csv('../models/best_model_results.csv').loc[0, 'R²']\n",
    "    if r2 > best_r2:\n",
    "        print(f'Old best R²: {best_r2}')\n",
    "        print(f'New best R²: {r2}')\n",
    "        print('Saving new best model...')\n",
    "        test_results.to_csv('../models/best_model_results.csv', mode='w', index=False)\n",
    "        with open('../models/best_model.pkl','wb') as f:\n",
    "            pickle.dump(model,f)\n",
    "        "
   ]
  },
  {
   "cell_type": "markdown",
   "metadata": {},
   "source": [
    "## Predictions on latest data"
   ]
  },
  {
   "cell_type": "code",
   "execution_count": 169,
   "metadata": {},
   "outputs": [
    {
     "name": "stdout",
     "output_type": "stream",
     "text": [
      "Best model R²: -0.0081677773957234\n"
     ]
    }
   ],
   "source": [
    "best_r2 = pd.read_csv('../models/best_model_results.csv').loc[0, 'R²']\n",
    "\n",
    "with open('../models/best_model.pkl', 'rb') as f:\n",
    "    model = pickle.load(f)\n",
    "    print(f'Best model R²: {best_r2}')\n"
   ]
  },
  {
   "cell_type": "code",
   "execution_count": 170,
   "metadata": {},
   "outputs": [
    {
     "data": {
      "application/vnd.microsoft.datawrangler.viewer.v0+json": {
       "columns": [
        {
         "name": "index",
         "rawType": "int64",
         "type": "integer"
        },
        {
         "name": "Ticker",
         "rawType": "object",
         "type": "string"
        },
        {
         "name": "Name",
         "rawType": "object",
         "type": "string"
        },
        {
         "name": "mean (%)",
         "rawType": "float64",
         "type": "float"
        },
        {
         "name": "3m (%)",
         "rawType": "float64",
         "type": "float"
        },
        {
         "name": "6m (%)",
         "rawType": "float64",
         "type": "float"
        },
        {
         "name": "1y (%)",
         "rawType": "float64",
         "type": "float"
        }
       ],
       "ref": "18fc363c-5496-4834-902a-41bd90a188b6",
       "rows": [
        [
         "0",
         "AA",
         "Alcoa",
         "-3.4099563376425204",
         "-5.374476587987124",
         "-8.130803591372311",
         "3.275411166431875"
        ],
        [
         "1",
         "AAT",
         "American Assets Trust",
         "6.763109042755409",
         "5.4855235194399565",
         "6.733400798591932",
         "8.070402810234336"
        ],
        [
         "2",
         "ABR",
         "Arbor Realty Trust",
         "6.897894344156754",
         "5.505711881641321",
         "7.008386358896518",
         "8.179584791932422"
        ],
        [
         "3",
         "ACI",
         "Albertsons Companies",
         "5.86911764162975",
         "5.216651312444124",
         "4.771613731650594",
         "7.619087880794533"
        ],
        [
         "4",
         "ACRE",
         "Ares Commercial Real Estate",
         "6.900266299332268",
         "5.507249760575758",
         "7.010586396261556",
         "8.18296274115949"
        ],
        [
         "5",
         "ADC",
         "Agree Realty",
         "6.927406415192906",
         "5.514539637281396",
         "7.067371277570889",
         "8.200308330726434"
        ],
        [
         "6",
         "ADT",
         "ADT",
         "7.276297051512158",
         "5.583174940208224",
         "7.769937746572474",
         "8.475778467755774"
        ],
        [
         "7",
         "AEM",
         "Agnico Eagle Mines",
         "5.828960364428278",
         "5.197716139271999",
         "4.685332375816266",
         "7.60383257819657"
        ],
        [
         "8",
         "AEO",
         "American Eagle Outfitters",
         "-1.9445714675387427",
         "-3.602754845543489",
         "-6.363107263726375",
         "4.132147706653637"
        ],
        [
         "9",
         "AEP",
         "American Electric Power Company",
         "7.769987111327588",
         "5.659848587900605",
         "8.77772408901424",
         "8.87238865706792"
        ],
        [
         "10",
         "AER",
         "AerCap",
         "7.123382503115384",
         "5.55635747958372",
         "7.460138563097926",
         "8.353651466664507"
        ],
        [
         "11",
         "AES",
         "The AES",
         "7.767460791757713",
         "5.668963062138814",
         "8.766281194148236",
         "8.86713811898609"
        ],
        [
         "12",
         "AFG",
         "American Financial",
         "6.074413788277138",
         "5.354530202333964",
         "5.209171932095147",
         "7.659539230402301"
        ],
        [
         "13",
         "AG",
         "First Majestic Silver",
         "7.365798794935426",
         "5.65991619596198",
         "7.924055172295093",
         "8.513425016549206"
        ],
        [
         "14",
         "AGCO",
         "AGCO",
         "5.59285474510815",
         "4.920426361287633",
         "4.3420083531562454",
         "7.516129520880571"
        ],
        [
         "15",
         "AGM",
         "Federal Agricultural Mortgage",
         "5.1300352722872535",
         "4.405157767394159",
         "3.6697918143702863",
         "7.315156235097313"
        ],
        [
         "16",
         "AGO",
         "Assured Guaranty",
         "6.153980500588572",
         "5.383726378204653",
         "5.410047470071225",
         "7.6681676534898395"
        ],
        [
         "17",
         "AGRO",
         "Adecoagro",
         "5.659393392959805",
         "5.194675982399692",
         "4.266649056133905",
         "7.51685514034582"
        ],
        [
         "18",
         "AHH",
         "Armada Hoffler Properties",
         "6.747355735187585",
         "5.496453498699297",
         "6.695981859959954",
         "8.049631846903505"
        ],
        [
         "19",
         "AHT",
         "Ashford Hospitality Trust",
         "6.800050294257415",
         "5.487861235360724",
         "6.812645973786033",
         "8.099643673625485"
        ],
        [
         "20",
         "AIG",
         "American",
         "6.019267338788964",
         "5.176432349988922",
         "5.1296813341892555",
         "7.751688332188715"
        ],
        [
         "21",
         "AIN",
         "Albany",
         "7.608703130888306",
         "5.702562130707425",
         "8.415322396487076",
         "8.708224865470413"
        ],
        [
         "22",
         "AIT",
         "Applied Industrial",
         "5.983016619338258",
         "5.274054498051761",
         "5.021440683526096",
         "7.653554676436918"
        ],
        [
         "23",
         "AIZ",
         "Assurant",
         "6.00694759156179",
         "5.241438442154789",
         "5.13153791916188",
         "7.6478664133687"
        ],
        [
         "24",
         "AJG",
         "Arthur J. Gallagher &",
         "6.167228243373243",
         "5.409321843864688",
         "5.392655667546562",
         "7.699707218708478"
        ],
        [
         "25",
         "AL",
         "Air Lease",
         "7.2181089370075115",
         "5.589719509929895",
         "7.6356716356761805",
         "8.428935665416459"
        ],
        [
         "26",
         "ALE",
         "ALLETE",
         "7.719314620970875",
         "5.669118644205251",
         "8.659316364265557",
         "8.829508854441817"
        ],
        [
         "27",
         "ALEX",
         "Alexander & Baldwin",
         "6.947161075656235",
         "5.528299512695526",
         "7.102046742307079",
         "8.211136971966102"
        ],
        [
         "28",
         "ALK",
         "Alaska Air",
         "6.013057386444311",
         "3.6615650896715626",
         "2.9916667510950328",
         "11.38594031856634"
        ],
        [
         "29",
         "ALL",
         "The Allstate",
         "6.038195822726027",
         "5.09490018701666",
         "5.2505878742801615",
         "7.769099406881259"
        ],
        [
         "30",
         "ALSN",
         "Allison Transmission",
         "-0.16660024054572048",
         "-1.4558564327339751",
         "-4.188244157703192",
         "5.144299868800005"
        ],
        [
         "31",
         "ALV",
         "Autoliv",
         "0.24664274546842466",
         "-0.975632779861622",
         "-3.6375305812866543",
         "5.35309159755355"
        ],
        [
         "32",
         "ALX",
         "Alexander's",
         "6.976894790764165",
         "5.537050066263556",
         "7.160148754606893",
         "8.233485551422048"
        ],
        [
         "33",
         "AM",
         "Antero Midstream",
         "6.563117731606571",
         "5.466940011170775",
         "6.3039064376753",
         "7.918506745973638"
        ],
        [
         "34",
         "AMD",
         "Advanced Micro Devices",
         "7.329757465440738",
         "5.522407538838069",
         "7.914879000830151",
         "8.551985856653996"
        ],
        [
         "35",
         "AMG",
         "Affiliated Managers",
         "-0.2500425744215618",
         "-1.4669330471604816",
         "-4.345864778476045",
         "5.062670102371842"
        ],
        [
         "36",
         "AMP",
         "Ameriprise Financial",
         "6.684388718909299",
         "4.110810813116608",
         "3.354738105339594",
         "12.587617238271697"
        ],
        [
         "37",
         "AMRC",
         "Ameresco",
         "5.5578381292544945",
         "4.866758058038355",
         "4.300794344806307",
         "7.50596198491882"
        ],
        [
         "38",
         "AN",
         "AutoNation",
         "-0.9661302689117428",
         "-2.425622202998842",
         "-5.162196449428108",
         "4.689427845691721"
        ],
        [
         "39",
         "ANF",
         "Abercrombie & Fitch",
         "-1.7160949320414023",
         "-3.3140273445646047",
         "-6.097484025356345",
         "4.263226573796743"
        ],
        [
         "40",
         "AON",
         "Aon",
         "6.156511844270202",
         "5.438278012994951",
         "5.341905950227681",
         "7.689351569587975"
        ],
        [
         "41",
         "AP",
         "Ampco-Pittsburgh",
         "6.400330873741152",
         "5.438781990358129",
         "5.93791948914924",
         "7.824291141716086"
        ],
        [
         "42",
         "APA",
         "APA",
         "6.488229641419357",
         "5.4759585060372356",
         "6.119582044086042",
         "7.869148374134795"
        ],
        [
         "43",
         "APAM",
         "Artisan Partners Asset Management",
         "0.5547092415243144",
         "-0.38654757667356054",
         "-3.3174045115860085",
         "5.368079812832512"
        ],
        [
         "44",
         "APD",
         "Air Products and Chemicals",
         "7.467379486289998",
         "5.669767143330419",
         "8.136087985663119",
         "8.596283329876456"
        ],
        [
         "45",
         "APH",
         "Amphenol",
         "5.515829891253388",
         "4.764962073534605",
         "4.248772823506125",
         "7.533754776719433"
        ],
        [
         "46",
         "APO",
         "Apollo Global Management",
         "24.619522357255473",
         "8.09448426153474",
         "16.353327674025024",
         "49.41075513620666"
        ],
        [
         "47",
         "ARE",
         "Alexandria Real Estate Equities",
         "6.9109717987553925",
         "5.511987328557677",
         "7.0355257149088235",
         "8.185402352799676"
        ],
        [
         "48",
         "ARL",
         "American Realty Investors",
         "7.073192125113901",
         "5.562402652760078",
         "7.349969869092873",
         "8.307203853488756"
        ],
        [
         "49",
         "ARW",
         "Arrow Electronics",
         "5.501428424323908",
         "4.780075802378188",
         "4.234923346794159",
         "7.4892861237993795"
        ]
       ],
       "shape": {
        "columns": 6,
        "rows": 1570
       }
      },
      "text/html": [
       "<div>\n",
       "<style scoped>\n",
       "    .dataframe tbody tr th:only-of-type {\n",
       "        vertical-align: middle;\n",
       "    }\n",
       "\n",
       "    .dataframe tbody tr th {\n",
       "        vertical-align: top;\n",
       "    }\n",
       "\n",
       "    .dataframe thead th {\n",
       "        text-align: right;\n",
       "    }\n",
       "</style>\n",
       "<table border=\"1\" class=\"dataframe\">\n",
       "  <thead>\n",
       "    <tr style=\"text-align: right;\">\n",
       "      <th></th>\n",
       "      <th>Ticker</th>\n",
       "      <th>Name</th>\n",
       "      <th>mean (%)</th>\n",
       "      <th>3m (%)</th>\n",
       "      <th>6m (%)</th>\n",
       "      <th>1y (%)</th>\n",
       "    </tr>\n",
       "  </thead>\n",
       "  <tbody>\n",
       "    <tr>\n",
       "      <th>0</th>\n",
       "      <td>AA</td>\n",
       "      <td>Alcoa</td>\n",
       "      <td>-3.409956</td>\n",
       "      <td>-5.374477</td>\n",
       "      <td>-8.130804</td>\n",
       "      <td>3.275411</td>\n",
       "    </tr>\n",
       "    <tr>\n",
       "      <th>1</th>\n",
       "      <td>AAT</td>\n",
       "      <td>American Assets Trust</td>\n",
       "      <td>6.763109</td>\n",
       "      <td>5.485524</td>\n",
       "      <td>6.733401</td>\n",
       "      <td>8.070403</td>\n",
       "    </tr>\n",
       "    <tr>\n",
       "      <th>2</th>\n",
       "      <td>ABR</td>\n",
       "      <td>Arbor Realty Trust</td>\n",
       "      <td>6.897894</td>\n",
       "      <td>5.505712</td>\n",
       "      <td>7.008386</td>\n",
       "      <td>8.179585</td>\n",
       "    </tr>\n",
       "    <tr>\n",
       "      <th>3</th>\n",
       "      <td>ACI</td>\n",
       "      <td>Albertsons Companies</td>\n",
       "      <td>5.869118</td>\n",
       "      <td>5.216651</td>\n",
       "      <td>4.771614</td>\n",
       "      <td>7.619088</td>\n",
       "    </tr>\n",
       "    <tr>\n",
       "      <th>4</th>\n",
       "      <td>ACRE</td>\n",
       "      <td>Ares Commercial Real Estate</td>\n",
       "      <td>6.900266</td>\n",
       "      <td>5.507250</td>\n",
       "      <td>7.010586</td>\n",
       "      <td>8.182963</td>\n",
       "    </tr>\n",
       "    <tr>\n",
       "      <th>...</th>\n",
       "      <td>...</td>\n",
       "      <td>...</td>\n",
       "      <td>...</td>\n",
       "      <td>...</td>\n",
       "      <td>...</td>\n",
       "      <td>...</td>\n",
       "    </tr>\n",
       "    <tr>\n",
       "      <th>1565</th>\n",
       "      <td>PDD</td>\n",
       "      <td>PDD</td>\n",
       "      <td>6.360725</td>\n",
       "      <td>5.244794</td>\n",
       "      <td>5.874369</td>\n",
       "      <td>7.963012</td>\n",
       "    </tr>\n",
       "    <tr>\n",
       "      <th>1566</th>\n",
       "      <td>BIDU</td>\n",
       "      <td>Baidu</td>\n",
       "      <td>6.342935</td>\n",
       "      <td>5.444908</td>\n",
       "      <td>5.811676</td>\n",
       "      <td>7.772220</td>\n",
       "    </tr>\n",
       "    <tr>\n",
       "      <th>1567</th>\n",
       "      <td>NTES</td>\n",
       "      <td>NetEase</td>\n",
       "      <td>5.918443</td>\n",
       "      <td>4.782889</td>\n",
       "      <td>4.805859</td>\n",
       "      <td>8.166583</td>\n",
       "    </tr>\n",
       "    <tr>\n",
       "      <th>1568</th>\n",
       "      <td>IQ</td>\n",
       "      <td>iQIYI</td>\n",
       "      <td>6.168962</td>\n",
       "      <td>5.951924</td>\n",
       "      <td>5.015802</td>\n",
       "      <td>7.539160</td>\n",
       "    </tr>\n",
       "    <tr>\n",
       "      <th>1569</th>\n",
       "      <td>UBER</td>\n",
       "      <td>Uber</td>\n",
       "      <td>7.445031</td>\n",
       "      <td>5.550413</td>\n",
       "      <td>8.147308</td>\n",
       "      <td>8.637371</td>\n",
       "    </tr>\n",
       "  </tbody>\n",
       "</table>\n",
       "<p>1570 rows × 6 columns</p>\n",
       "</div>"
      ],
      "text/plain": [
       "     Ticker                         Name  mean (%)    3m (%)    6m (%)  \\\n",
       "0        AA                        Alcoa -3.409956 -5.374477 -8.130804   \n",
       "1       AAT        American Assets Trust  6.763109  5.485524  6.733401   \n",
       "2       ABR           Arbor Realty Trust  6.897894  5.505712  7.008386   \n",
       "3       ACI         Albertsons Companies  5.869118  5.216651  4.771614   \n",
       "4      ACRE  Ares Commercial Real Estate  6.900266  5.507250  7.010586   \n",
       "...     ...                          ...       ...       ...       ...   \n",
       "1565    PDD                          PDD  6.360725  5.244794  5.874369   \n",
       "1566   BIDU                        Baidu  6.342935  5.444908  5.811676   \n",
       "1567   NTES                      NetEase  5.918443  4.782889  4.805859   \n",
       "1568     IQ                        iQIYI  6.168962  5.951924  5.015802   \n",
       "1569   UBER                         Uber  7.445031  5.550413  8.147308   \n",
       "\n",
       "        1y (%)  \n",
       "0     3.275411  \n",
       "1     8.070403  \n",
       "2     8.179585  \n",
       "3     7.619088  \n",
       "4     8.182963  \n",
       "...        ...  \n",
       "1565  7.963012  \n",
       "1566  7.772220  \n",
       "1567  8.166583  \n",
       "1568  7.539160  \n",
       "1569  8.637371  \n",
       "\n",
       "[1570 rows x 6 columns]"
      ]
     },
     "execution_count": 170,
     "metadata": {},
     "output_type": "execute_result"
    }
   ],
   "source": [
    "df_raw = pd.read_csv('../data/earnings_data.csv')\n",
    "\n",
    "results = []\n",
    "for i in range(len(X_pred)):\n",
    "    y_pred = model.predict(X_pred.iloc[[i]])[0]\n",
    "    y_pred_3m, y_pred_6m, y_pred_1y = y_pred\n",
    "    avg = (y_pred_3m + y_pred_6m + y_pred_1y) / 3\n",
    "    results.append({\n",
    "        'Ticker': df_raw.loc[i*4, 'Ticker'],\n",
    "        'Name': df_raw.loc[i*4, 'Name'],\n",
    "        'mean (%)': avg * 100,\n",
    "        '3m (%)': y_pred_3m * 100,\n",
    "        '6m (%)': y_pred_6m * 100,\n",
    "        '1y (%)': y_pred_1y * 100\n",
    "    })\n",
    "\n",
    "results_df = pd.DataFrame(results)\n",
    "results_df"
   ]
  },
  {
   "cell_type": "code",
   "execution_count": 171,
   "metadata": {},
   "outputs": [],
   "source": [
    "def predict_ticker(ticker_str):\n",
    "    try:\n",
    "        ticker_str = str(ticker_str).upper()\n",
    "        ticker_str = ticker_str.replace(\"'\", \"\")\n",
    "        ticker_str = ticker_str.replace('\"', \"\")\n",
    "        row = results_df[results_df['Ticker'] == ticker_str]\n",
    "        if row.empty:\n",
    "            return (f\"The author was stupid and forgot to cover this obvious, famous stock. Try another.\", \"\", \"\", \"\")\n",
    "        row = row.iloc[0]\n",
    "        return (\n",
    "            f\"{row['3m (%)']:.2f}\",\n",
    "            f\"{row['6m (%)']:.2f}\",\n",
    "            f\"{row['1y (%)']:.2f}\",\n",
    "            f\"{row['mean (%)']:.2f}\",\n",
    "        )\n",
    "    except Exception as e:\n",
    "        return (f\"Error: {e}\", \"\", \"\", \"\")"
   ]
  },
  {
   "cell_type": "code",
   "execution_count": 172,
   "metadata": {
    "vscode": {
     "languageId": "javascript"
    }
   },
   "outputs": [
    {
     "name": "stdout",
     "output_type": "stream",
     "text": [
      "* Running on local URL:  http://127.0.0.1:7866\n",
      "* Running on public URL: https://afd1926eaa48b92484.gradio.live\n",
      "\n",
      "This share link expires in 1 week. For free permanent hosting and GPU upgrades, run `gradio deploy` from the terminal in the working directory to deploy to Hugging Face Spaces (https://huggingface.co/spaces)\n"
     ]
    },
    {
     "data": {
      "text/html": [
       "<div><iframe src=\"https://afd1926eaa48b92484.gradio.live\" width=\"100%\" height=\"500\" allow=\"autoplay; camera; microphone; clipboard-read; clipboard-write;\" frameborder=\"0\" allowfullscreen></iframe></div>"
      ],
      "text/plain": [
       "<IPython.core.display.HTML object>"
      ]
     },
     "metadata": {},
     "output_type": "display_data"
    },
    {
     "data": {
      "text/plain": []
     },
     "execution_count": 172,
     "metadata": {},
     "output_type": "execute_result"
    }
   ],
   "source": [
    "iface = gr.Interface(\n",
    "    fn=predict_ticker,\n",
    "    inputs=gr.Textbox(label=\"Ticker e.g. 'TSLA' or 'MATAS.CO'\"),\n",
    "    outputs=[\n",
    "        gr.Textbox(label=\"3 Month Change Prediction (%)\"),\n",
    "        gr.Textbox(label=\"6 Month Change Prediction (%)\"),\n",
    "        gr.Textbox(label=\"1 Year Change Prediction (%)\"),\n",
    "        gr.Textbox(label=\"Mean Change Prediction (%)\"),\n",
    "    ],\n",
    "    title=\"Stock Price Prediction Model\",\n",
    "    description=\" \"\n",
    ")\n",
    "\n",
    "iface.launch(share=True)"
   ]
  },
  {
   "cell_type": "code",
   "execution_count": null,
   "metadata": {
    "vscode": {
     "languageId": "javascript"
    }
   },
   "outputs": [],
   "source": []
  }
 ],
 "metadata": {
  "kernelspec": {
   "display_name": "base",
   "language": "python",
   "name": "python3"
  },
  "language_info": {
   "codemirror_mode": {
    "name": "ipython",
    "version": 3
   },
   "file_extension": ".py",
   "mimetype": "text/x-python",
   "name": "python",
   "nbconvert_exporter": "python",
   "pygments_lexer": "ipython3",
   "version": "3.12.2"
  }
 },
 "nbformat": 4,
 "nbformat_minor": 2
}
