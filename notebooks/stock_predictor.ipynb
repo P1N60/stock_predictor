{
 "cells": [
  {
   "cell_type": "markdown",
   "metadata": {},
   "source": [
    "# Stock Prediction Model"
   ]
  },
  {
   "cell_type": "markdown",
   "metadata": {},
   "source": [
    "## Dependencies"
   ]
  },
  {
   "cell_type": "markdown",
   "metadata": {},
   "source": [
    "### Library Installation (if needed)"
   ]
  },
  {
   "cell_type": "code",
   "execution_count": 82,
   "metadata": {},
   "outputs": [],
   "source": [
    "#! pip install -Ur requirements.txt"
   ]
  },
  {
   "cell_type": "markdown",
   "metadata": {},
   "source": [
    "### Importing Required Libraries"
   ]
  },
  {
   "cell_type": "code",
   "execution_count": 83,
   "metadata": {},
   "outputs": [],
   "source": [
    "import matplotlib.pyplot as plt\n",
    "import yfinance as yf\n",
    "import pandas as pd\n",
    "import numpy as np\n",
    "import pickle\n",
    "import gradio as gr\n",
    "import ast\n",
    "import warnings\n",
    "from datetime import datetime\n",
    "from tqdm import tqdm\n",
    "from sklearn.impute import SimpleImputer\n",
    "from sklearn.neural_network import MLPRegressor\n",
    "from sklearn.metrics import r2_score, mean_squared_error, mean_absolute_error\n",
    "from sklearn.preprocessing import LabelEncoder, StandardScaler\n",
    "from sklearn.model_selection import train_test_split, GridSearchCV"
   ]
  },
  {
   "cell_type": "markdown",
   "metadata": {},
   "source": [
    "### Variables"
   ]
  },
  {
   "cell_type": "code",
   "execution_count": 84,
   "metadata": {},
   "outputs": [],
   "source": [
    "warnings.filterwarnings(\"ignore\", category=FutureWarning)\n",
    "build_new_dataset = {'True': True, 'False': False}.get(input('Build New Dataset? (Bool)'))\n",
    "if build_new_dataset:\n",
    "    symbol_list = input(\"Symbols: ('simple', 'filtered' or 'all')\") # 'simple' or 'all'. simple are the tickers from the screener notebook and all are all of the tickers in 'filtered_tickers'. You may also an 'Int' to get a % amount of random tickers from 'all'\n",
    "else:\n",
    "    symbol_list = 'filtered'\n",
    "minimum_feature_threshold = 0.6\n",
    "\n",
    "train_new_model = {'True': True, 'False': False}.get(input('Train New Model? (Bool)'))\n",
    "if train_new_model:\n",
    "    hidden_layers = ast.literal_eval(f\"({input('Hidden Layers: eg. \"100, 100\"')})\")\n",
    "    verticle_jobs = 1 #'-1' for max\n",
    "\n",
    "if build_new_dataset or train_new_model:\n",
    "    debugging = {'True': True, 'False': False}.get(input('Debug? (Bool)'))\n",
    "else:\n",
    "    debugging = False"
   ]
  },
  {
   "cell_type": "markdown",
   "metadata": {},
   "source": [
    "## Data Preparation"
   ]
  },
  {
   "cell_type": "code",
   "execution_count": 85,
   "metadata": {},
   "outputs": [
    {
     "data": {
      "text/plain": [
       "array(['AA', 'AAT', 'ABM', ..., 'BABA', 'WB', 'SYDB.CO'], dtype=object)"
      ]
     },
     "execution_count": 85,
     "metadata": {},
     "output_type": "execute_result"
    }
   ],
   "source": [
    "symbols = []\n",
    "if symbol_list == 'filtered':\n",
    "    symbols = pd.read_csv('../data/filtered_tickers.csv')['Ticker'].tolist()\n",
    "elif symbol_list == 'all':\n",
    "    symbols = pd.read_csv('../data/tickers.csv')['Ticker'].tolist()\n",
    "elif symbol_list.isdigit():\n",
    "    all_symbols = pd.read_csv('../data/tickers.csv')['Ticker'].tolist()\n",
    "    num_symbols = max(1, round(len(all_symbols) * (int(symbol_list) / 100)))  \n",
    "    symbols = np.random.choice(all_symbols, num_symbols, replace=False).tolist()\n",
    "    symbols = symbols + pd.read_csv(\"../data/filtered_tickers.csv\")[\"Ticker\"].tolist()\n",
    "\n",
    "symbols = symbols + pd.read_csv('../data/simple_tickers.csv')['Ticker'].tolist()\n",
    "\n",
    "symbols = pd.Series(symbols).unique()\n",
    "symbols"
   ]
  },
  {
   "cell_type": "markdown",
   "metadata": {},
   "source": [
    "#### Download annual financial data"
   ]
  },
  {
   "cell_type": "code",
   "execution_count": 86,
   "metadata": {},
   "outputs": [
    {
     "name": "stderr",
     "output_type": "stream",
     "text": [
      "100%|██████████| 1917/1917 [1:24:27<00:00,  2.64s/it]\n"
     ]
    }
   ],
   "source": [
    "if build_new_dataset:\n",
    "    df = pd.DataFrame()\n",
    "    filtered_pd = pd.read_csv('../data/filtered_tickers.csv')\n",
    "    for symbol in tqdm(symbols, smoothing=0):\n",
    "        ticker_df = pd.DataFrame()\n",
    "        ticker = yf.Ticker(symbol)\n",
    "        try:\n",
    "            # Latest earning data\n",
    "            latest_earning_date = ticker.quarterly_cash_flow.columns.tolist()[0]\n",
    "            latest_data = {'Ticker': symbol, 'Name': ticker.info[\"displayName\"], 'Date': latest_earning_date}\n",
    "            latest_data['3M Future Change'] = np.nan\n",
    "            latest_data['6M Future Change'] = np.nan\n",
    "            latest_data['1Y Future Change'] = np.nan\n",
    "            try:\n",
    "                latest_data['Sector'] = ticker.info['sector']\n",
    "            except:\n",
    "                latest_data['Sector'] = 'Unknown'\n",
    "            try:\n",
    "                latest_data['Industry'] = ticker.info['industry']\n",
    "            except:\n",
    "                latest_data['Industry'] = 'Unknown'\n",
    "            for column in ticker.quarterly_cash_flow[latest_earning_date].keys().tolist():\n",
    "                latest_data[column] = ticker.quarterly_cash_flow[latest_earning_date][column]\n",
    "            for column in ticker.quarterly_balance_sheet[latest_earning_date].keys().tolist():\n",
    "                latest_data[column] = ticker.quarterly_balance_sheet[latest_earning_date][column]\n",
    "            for column in ticker.quarterly_income_stmt[latest_earning_date].keys().tolist():\n",
    "                latest_data[column] = ticker.quarterly_income_stmt[latest_earning_date][column]\n",
    "            ticker_df = pd.concat([ticker_df, pd.DataFrame([latest_data])], ignore_index=True)\n",
    "\n",
    "            # Annual data\n",
    "            earning_dates = ticker.cash_flow.columns.tolist()\n",
    "            if len(earning_dates) == 5:\n",
    "                earning_dates.remove(earning_dates[4])\n",
    "            else:\n",
    "                if symbol in filtered_pd['Ticker'].tolist():\n",
    "                    filtered_pd = filtered_pd[filtered_pd['Ticker'] != symbol]\n",
    "                if debugging:\n",
    "                    print(f\"{symbol} had {len(earning_dates)} earning dates, not 5\")\n",
    "                continue\n",
    "            price_data = yf.download(symbol, period='10y', rounding=False, progress=False)\n",
    "            cash_flow = ticker.cash_flow\n",
    "            cash_flow_columns = cash_flow[earning_dates[0]].keys().tolist()\n",
    "            balance_sheet = ticker.balance_sheet\n",
    "            balance_sheet_columns = balance_sheet[earning_dates[0]].keys().tolist()\n",
    "            income_statement = ticker.income_stmt\n",
    "            income_statement_columns = income_statement[earning_dates[0]].keys().tolist()\n",
    "            for earning_date in earning_dates:\n",
    "                earning_date_data = {'Ticker': symbol, 'Name': ticker.info[\"displayName\"], 'Date': earning_date}\n",
    "                got_price = False\n",
    "                day_offset = 0\n",
    "                while(got_price==False and day_offset > -6):\n",
    "                    try:           \n",
    "                        earning_date_data['3M Future Change'] = (\n",
    "                            float(price_data.loc[earning_date + pd.Timedelta(days=day_offset, weeks=13) , ('Close', symbol)]) / \n",
    "                            float(price_data.loc[earning_date + pd.Timedelta(days=day_offset), ('Close', symbol)]) - 1\n",
    "                        )\n",
    "                        earning_date_data['6M Future Change'] = (\n",
    "                            float(price_data.loc[earning_date + pd.Timedelta(days=day_offset, weeks=26) , ('Close', symbol)]) / \n",
    "                            float(price_data.loc[earning_date + pd.Timedelta(days=day_offset), ('Close', symbol)]) - 1\n",
    "                        )\n",
    "                        earning_date_data['1Y Future Change'] = (\n",
    "                            float(price_data.loc[earning_date + pd.Timedelta(days=day_offset, weeks=52) , ('Close', symbol)]) / \n",
    "                            float(price_data.loc[earning_date + pd.Timedelta(days=day_offset), ('Close', symbol)]) - 1\n",
    "                        )\n",
    "                        got_price = True\n",
    "                    except:\n",
    "                        day_offset += -1\n",
    "                try:\n",
    "                    earning_date_data['Sector'] = ticker.info['sector']\n",
    "                except:\n",
    "                    earning_date_data['Sector'] = 'Unknown'\n",
    "                try:\n",
    "                    earning_date_data['Industry'] = ticker.info['industry']\n",
    "                except:\n",
    "                    earning_date_data['Industry'] = 'Unknown'\n",
    "                for column in cash_flow_columns:\n",
    "                    earning_date_data[column] = cash_flow[earning_date][column]\n",
    "                for column in balance_sheet_columns:\n",
    "                    earning_date_data[column] = balance_sheet[earning_date][column]\n",
    "                for column in income_statement_columns:\n",
    "                    earning_date_data[column] = income_statement[earning_date][column]\n",
    "                if got_price:\n",
    "                    ticker_df = pd.concat([ticker_df, pd.DataFrame([earning_date_data])], ignore_index=True)\n",
    "\n",
    "            if len(ticker_df) != 4:\n",
    "                if symbol in filtered_pd['Ticker'].tolist():\n",
    "                    filtered_pd = filtered_pd[filtered_pd['Ticker'] != symbol]\n",
    "                if debugging:\n",
    "                    print(f'Removed {symbol} from filtered tickers because the length of the df was not 4, it was {len(ticker_df)}')\n",
    "                continue\n",
    "\n",
    "            if ticker_df.isna().sum().sum() < round(352 * minimum_feature_threshold):\n",
    "                if symbol not in filtered_pd['Ticker'].tolist():\n",
    "                    filtered_pd = pd.concat([filtered_pd, pd.DataFrame([{'Ticker': symbol}])])\n",
    "                imputer = SimpleImputer()\n",
    "                for column in ticker_df.columns.drop(['Ticker', 'Name', 'Date', '3M Future Change', '6M Future Change', '1Y Future Change', 'Sector', 'Industry']):\n",
    "                    if not ticker_df[column].isna().all():\n",
    "                        ticker_df[column] = imputer.fit_transform(ticker_df[[column]])\n",
    "            else:\n",
    "                if symbol in filtered_pd['Ticker'].tolist():\n",
    "                    filtered_pd = filtered_pd[filtered_pd['Ticker'] != symbol]\n",
    "                    if debugging:\n",
    "                        print(f'Removed {symbol} from filtered tickers. Datapoints: {ticker_df.isna().sum().sum()}, Needed: {round(352 * minimum_feature_threshold)}')\n",
    "                continue\n",
    "            df = pd.concat([df, ticker_df], ignore_index=True)\n",
    "        except Exception as error:\n",
    "            if symbol in filtered_pd['Ticker'].tolist():\n",
    "                filtered_pd = filtered_pd[filtered_pd['Ticker'] != symbol]\n",
    "                if debugging:\n",
    "                    print(f'Removed {symbol} from filtered tickers because an exception was raised')\n",
    "                    print(error)\n",
    "            continue\n",
    "    filtered_pd.to_csv('../data/filtered_tickers.csv', index=False)\n",
    "    df.to_csv('../data/earnings_data.csv', index=False)\n",
    "else:\n",
    "    df = pd.read_csv('../data/earnings_data.csv')"
   ]
  },
  {
   "cell_type": "markdown",
   "metadata": {},
   "source": [
    "### Short visualisation"
   ]
  },
  {
   "cell_type": "code",
   "execution_count": 87,
   "metadata": {},
   "outputs": [],
   "source": [
    "if debugging:\n",
    "    display(df)"
   ]
  },
  {
   "cell_type": "markdown",
   "metadata": {},
   "source": [
    "### Impution and encoding"
   ]
  },
  {
   "cell_type": "code",
   "execution_count": 88,
   "metadata": {},
   "outputs": [],
   "source": [
    "imputer = SimpleImputer()\n",
    "scaler = StandardScaler()\n",
    "for column in df.columns.drop(['Ticker', 'Name', 'Date', '3M Future Change', '6M Future Change', '1Y Future Change', 'Sector', 'Industry']):\n",
    "    df[column] = imputer.fit_transform(df[[column]])\n",
    "    scaler.fit(df[[column]])\n",
    "    df[column] = scaler.transform(df[[column]])\n",
    "\n",
    "le = LabelEncoder()\n",
    "for column in ['Ticker', 'Name', 'Sector', 'Industry']:\n",
    "    df[column] = df[column].astype(str)\n",
    "    le.fit(df[column])\n",
    "    df[column] = le.transform(df[column])"
   ]
  },
  {
   "cell_type": "markdown",
   "metadata": {},
   "source": [
    "### Splitting"
   ]
  },
  {
   "cell_type": "code",
   "execution_count": 89,
   "metadata": {},
   "outputs": [],
   "source": [
    "pred_data = pd.DataFrame()\n",
    "train_data = pd.DataFrame()\n",
    "for i in range(int(len(df) / 4)):\n",
    "    pred_data = pd.concat([pred_data, df.iloc[[i*4]]]) \n",
    "    train_data = pd.concat([train_data, df.iloc[[1+i*4]]])\n",
    "    train_data = pd.concat([train_data, df.iloc[[2+i*4]]])\n",
    "    train_data = pd.concat([train_data, df.iloc[[3+i*4]]])\n",
    "if debugging:\n",
    "    print('Prediction Data:')\n",
    "    display(pred_data)\n",
    "    print('Train and Test Data:')\n",
    "    display(train_data)"
   ]
  },
  {
   "cell_type": "markdown",
   "metadata": {},
   "source": [
    "### Labeling"
   ]
  },
  {
   "cell_type": "code",
   "execution_count": 90,
   "metadata": {},
   "outputs": [],
   "source": [
    "X_pred = pred_data.drop(['Date', '3M Future Change', '6M Future Change', '1Y Future Change'], axis=1)\n",
    "X_train = train_data.drop(['Date', '3M Future Change', '6M Future Change', '1Y Future Change'], axis=1)\n",
    "y_train = train_data[['3M Future Change', '6M Future Change', '1Y Future Change']]\n",
    "\n",
    "X_train, X_test, y_train, y_test = train_test_split(\n",
    "    X_train,\n",
    "    y_train,\n",
    "    test_size=0.15,\n",
    "    shuffle=True,\n",
    ")\n",
    "\n",
    "if debugging:\n",
    "    display(X_train)\n",
    "    display(y_train)\n",
    "    display(X_test)\n",
    "    display(y_test)"
   ]
  },
  {
   "cell_type": "markdown",
   "metadata": {},
   "source": [
    "## Model Training"
   ]
  },
  {
   "cell_type": "code",
   "execution_count": 91,
   "metadata": {},
   "outputs": [
    {
     "name": "stdout",
     "output_type": "stream",
     "text": [
      "Iteration 1, loss = 13978.06605908\n",
      "Validation score: -38.925739\n",
      "Iteration 2, loss = 10.05514499\n",
      "Validation score: -28.909126\n",
      "Iteration 3, loss = 8.92648142\n",
      "Validation score: -6.352222\n",
      "Iteration 4, loss = 8.76313145\n",
      "Validation score: -2.213772\n",
      "Iteration 5, loss = 8.45335379\n",
      "Validation score: -1.927272\n",
      "Iteration 6, loss = 8.46116555\n",
      "Validation score: -1.337532\n",
      "Iteration 7, loss = 8.40384262\n",
      "Validation score: -0.648798\n",
      "Iteration 8, loss = 8.40065819\n",
      "Validation score: -2.462577\n",
      "Iteration 9, loss = 8.43840976\n",
      "Validation score: -21.372169\n",
      "Iteration 10, loss = 8.82645243\n",
      "Validation score: -1.462257\n",
      "Iteration 11, loss = 8.40617130\n",
      "Validation score: -0.673673\n",
      "Iteration 12, loss = 8.41014441\n",
      "Validation score: -0.654655\n",
      "Iteration 13, loss = 8.37721857\n",
      "Validation score: -3.468059\n",
      "Iteration 14, loss = 8.39166273\n",
      "Validation score: -0.514663\n",
      "Iteration 15, loss = 8.37250478\n",
      "Validation score: -0.236388\n",
      "Iteration 16, loss = 8.36909927\n",
      "Validation score: -0.710708\n",
      "Iteration 17, loss = 8.37793995\n",
      "Validation score: -0.264290\n",
      "Iteration 18, loss = 8.36335923\n",
      "Validation score: -0.089048\n",
      "Iteration 19, loss = 8.36475759\n",
      "Validation score: -0.126884\n",
      "Iteration 20, loss = 8.36394017\n",
      "Validation score: -6.468431\n",
      "Iteration 21, loss = 8.42927681\n",
      "Validation score: -0.264171\n",
      "Iteration 22, loss = 8.35674736\n",
      "Validation score: -0.233900\n",
      "Iteration 23, loss = 8.36766782\n",
      "Validation score: -0.209785\n",
      "Iteration 24, loss = 8.36846120\n",
      "Validation score: -0.668499\n",
      "Iteration 25, loss = 8.38803150\n",
      "Validation score: -0.031258\n",
      "Iteration 26, loss = 8.35719461\n",
      "Validation score: -0.113496\n",
      "Iteration 27, loss = 8.35787835\n",
      "Validation score: -0.850061\n",
      "Iteration 28, loss = 8.36300930\n",
      "Validation score: -0.265936\n",
      "Iteration 29, loss = 8.35805914\n",
      "Validation score: -0.081092\n",
      "Iteration 30, loss = 8.35535757\n",
      "Validation score: -0.038767\n",
      "Iteration 31, loss = 8.35367815\n",
      "Validation score: -0.190011\n",
      "Iteration 32, loss = 8.35416608\n",
      "Validation score: -0.039098\n",
      "Iteration 33, loss = 8.35789212\n",
      "Validation score: -0.010659\n",
      "Iteration 34, loss = 8.35538745\n",
      "Validation score: -0.085937\n",
      "Iteration 35, loss = 8.35689091\n",
      "Validation score: -0.260892\n",
      "Iteration 36, loss = 8.35496554\n",
      "Validation score: -0.164389\n",
      "Iteration 37, loss = 8.35253073\n",
      "Validation score: -0.130958\n",
      "Iteration 38, loss = 8.35724283\n",
      "Validation score: -0.101356\n",
      "Iteration 39, loss = 8.35147621\n",
      "Validation score: -0.077485\n",
      "Iteration 40, loss = 8.35263643\n",
      "Validation score: -0.255784\n",
      "Iteration 41, loss = 8.36191482\n",
      "Validation score: -0.046234\n",
      "Iteration 42, loss = 8.35182009\n",
      "Validation score: -0.278809\n",
      "Iteration 43, loss = 8.36387626\n",
      "Validation score: -0.055086\n",
      "Iteration 44, loss = 8.36415352\n",
      "Validation score: -0.078309\n",
      "Iteration 45, loss = 8.35259812\n",
      "Validation score: -0.090500\n",
      "Iteration 46, loss = 8.35473540\n",
      "Validation score: -0.304103\n",
      "Iteration 47, loss = 8.36189585\n",
      "Validation score: -0.091888\n",
      "Iteration 48, loss = 8.34935000\n",
      "Validation score: -0.033751\n",
      "Iteration 49, loss = 8.35381845\n",
      "Validation score: -0.040710\n",
      "Iteration 50, loss = 8.35249116\n",
      "Validation score: -0.204588\n",
      "Iteration 51, loss = 8.35093437\n",
      "Validation score: -1.953974\n",
      "Iteration 52, loss = 8.36899093\n",
      "Validation score: -0.098232\n",
      "Iteration 53, loss = 8.35505669\n",
      "Validation score: -0.680025\n",
      "Iteration 54, loss = 8.35859570\n",
      "Validation score: -0.287150\n",
      "Validation score did not improve more than tol=0.000100 for 20 consecutive epochs. Stopping.\n"
     ]
    }
   ],
   "source": [
    "if train_new_model:\n",
    "    model = MLPRegressor(\n",
    "        hidden_layer_sizes=hidden_layers,\n",
    "        learning_rate=\"adaptive\",\n",
    "        early_stopping=True,\n",
    "        verbose=True,\n",
    "        n_iter_no_change=20\n",
    "    )\n",
    "    model.fit(X_train, y_train)"
   ]
  },
  {
   "cell_type": "markdown",
   "metadata": {},
   "source": [
    "## Testing and benchmarking"
   ]
  },
  {
   "cell_type": "code",
   "execution_count": 92,
   "metadata": {},
   "outputs": [
    {
     "data": {
      "image/png": "[encoded data removed]",
      "text/plain": [
       "<Figure size 1100x600 with 1 Axes>"
      ]
     },
     "metadata": {},
     "output_type": "display_data"
    },
    {
     "name": "stdout",
     "output_type": "stream",
     "text": [
      "3M Future Change - R²: -0.0098\n",
      "3M Future Change - MSE: 0.0466\n",
      "3M Future Change - MAE: 0.1572\n"
     ]
    },
    {
     "data": {
      "image/png": "[encoded data removed]",
      "text/plain": [
       "<Figure size 1100x600 with 1 Axes>"
      ]
     },
     "metadata": {},
     "output_type": "display_data"
    },
    {
     "name": "stdout",
     "output_type": "stream",
     "text": [
      "6M Future Change - R²: -0.0254\n",
      "6M Future Change - MSE: 0.0984\n",
      "6M Future Change - MAE: 0.2353\n"
     ]
    },
    {
     "data": {
      "image/png": "[encoded data removed]",
      "text/plain": [
       "<Figure size 1100x600 with 1 Axes>"
      ]
     },
     "metadata": {},
     "output_type": "display_data"
    },
    {
     "name": "stdout",
     "output_type": "stream",
     "text": [
      "1Y Future Change - R²: -0.0240\n",
      "1Y Future Change - MSE: 0.9320\n",
      "1Y Future Change - MAE: 0.3583\n",
      "\n",
      "Overall Scores:\n",
      "Mean - R²: -0.0197\n",
      "Mean - MSE: 0.3590\n",
      "Mean - MAE: 0.2502\n"
     ]
    }
   ],
   "source": [
    "if train_new_model:\n",
    "    y_test_pred = model.predict(X_test)\n",
    "\n",
    "    for i, target in enumerate(['3M Future Change', '6M Future Change', '1Y Future Change']):\n",
    "        y_test_actual = y_test[target]\n",
    "        y_test_pred_target = y_test_pred[:, i]\n",
    "\n",
    "        plt.figure(figsize=(11, 6))\n",
    "        plt.scatter(y_test_actual, y_test_pred_target, alpha=0.7, color='blue', label='Predictions')\n",
    "        plt.plot([y_test_actual.min(), y_test_actual.max()], [y_test_actual.min(), y_test_actual.max()], \n",
    "            color='red', linestyle='--', label='Perfect Fit')\n",
    "        plt.title(f'Predicted vs Actual Values ({target})')\n",
    "        plt.xlabel('Actual Values')\n",
    "        plt.ylabel('Predicted Values')\n",
    "        plt.legend()\n",
    "        plt.grid(True)\n",
    "        plt.show()\n",
    "\n",
    "        mae = mean_absolute_error(y_test_actual, y_test_pred_target)\n",
    "        mse = mean_squared_error(y_test_actual, y_test_pred_target)\n",
    "        r2 = r2_score(y_test_actual, y_test_pred_target)\n",
    "\n",
    "        print(f'{target} - R²: {r2:.4f}')\n",
    "        print(f'{target} - MSE: {mse:.4f}')\n",
    "        print(f'{target} - MAE: {mae:.4f}')\n",
    "\n",
    "    mae = mean_absolute_error(y_test, y_test_pred)\n",
    "    mse = mean_squared_error(y_test, y_test_pred)\n",
    "    r2 = r2_score(y_test, y_test_pred)\n",
    "\n",
    "    print('\\nOverall Scores:')\n",
    "    print(f'Mean - R²: {r2:.4f}')\n",
    "    print(f'Mean - MSE: {mse:.4f}')\n",
    "    print(f'Mean - MAE: {mae:.4f}')"
   ]
  },
  {
   "cell_type": "markdown",
   "metadata": {},
   "source": [
    "### Log test results"
   ]
  },
  {
   "cell_type": "code",
   "execution_count": 93,
   "metadata": {},
   "outputs": [
    {
     "name": "stdout",
     "output_type": "stream",
     "text": [
      "Old best R²: -1.699693495132843\n",
      "New best R²: -0.01972021017887678\n",
      "Saving new best model...\n"
     ]
    }
   ],
   "source": [
    "if train_new_model:\n",
    "    test_results = pd.DataFrame({\n",
    "        'R²': r2,\n",
    "        'MSE': mse,\n",
    "        'MAE': mae,\n",
    "        'symbol_list': symbol_list,\n",
    "        'hidden_layer_sizes': [model.hidden_layer_sizes],\n",
    "        'max_iter': model.max_iter,\n",
    "        'n_iter_no_change': model.n_iter_no_change,\n",
    "        'learning_rate': model.learning_rate,\n",
    "        'learning_rate_init': model.learning_rate_init,\n",
    "        'batch_size': model.batch_size,\n",
    "        'tol': model.tol,\n",
    "        'alpha': model.alpha,\n",
    "        'shuffle': model.shuffle,\n",
    "    })\n",
    "    test_results.to_csv('../data/test_results.csv', mode='a', index=False)\n",
    "\n",
    "    # save model as new best if results are better than the current one\n",
    "    best_r2 = pd.read_csv('../models/best_model_results.csv').loc[0, 'R²']\n",
    "    if r2 > best_r2:\n",
    "        print(f'Old best R²: {best_r2}')\n",
    "        print(f'New best R²: {r2}')\n",
    "        print('Saving new best model...')\n",
    "        test_results.to_csv('../models/best_model_results.csv', mode='w', index=False)\n",
    "        with open('../models/best_model.pkl','wb') as f:\n",
    "            pickle.dump(model,f)\n",
    "        "
   ]
  },
  {
   "cell_type": "markdown",
   "metadata": {},
   "source": [
    "## Predictions on latest data"
   ]
  },
  {
   "cell_type": "code",
   "execution_count": 94,
   "metadata": {},
   "outputs": [
    {
     "name": "stdout",
     "output_type": "stream",
     "text": [
      "Best model R²: -0.0197202101788767\n"
     ]
    }
   ],
   "source": [
    "best_r2 = pd.read_csv('../models/best_model_results.csv').loc[0, 'R²']\n",
    "\n",
    "with open('../models/best_model.pkl', 'rb') as f:\n",
    "    model = pickle.load(f)\n",
    "    print(f'Best model R²: {best_r2}')\n"
   ]
  },
  {
   "cell_type": "code",
   "execution_count": 98,
   "metadata": {},
   "outputs": [
    {
     "data": {
      "application/vnd.microsoft.datawrangler.viewer.v0+json": {
       "columns": [
        {
         "name": "index",
         "rawType": "int64",
         "type": "integer"
        },
        {
         "name": "Ticker",
         "rawType": "object",
         "type": "string"
        },
        {
         "name": "Name",
         "rawType": "object",
         "type": "string"
        },
        {
         "name": "mean (%)",
         "rawType": "float64",
         "type": "float"
        },
        {
         "name": "3m (%)",
         "rawType": "float64",
         "type": "float"
        },
        {
         "name": "6m (%)",
         "rawType": "float64",
         "type": "float"
        },
        {
         "name": "1y (%)",
         "rawType": "float64",
         "type": "float"
        }
       ],
       "ref": "4007aa34-b7e7-4a36-9cbf-141cf6785749",
       "rows": [
        [
         "0",
         "AA",
         "Alcoa",
         "5.783247549907657",
         "2.6795672758808045",
         "9.949220330691668",
         "4.720955043150498"
        ],
        [
         "1",
         "AAT",
         "American Assets Trust",
         "9.10122386811774",
         "-0.06751977895376043",
         "5.121852433427124",
         "22.249338949879853"
        ],
        [
         "2",
         "ABR",
         "Arbor Realty Trust",
         "5.195330211064072",
         "1.5433535463898627",
         "5.219760636204959",
         "8.822876450597395"
        ],
        [
         "3",
         "ACI",
         "Albertsons Companies",
         "3.943382954166301",
         "2.286072953187983",
         "4.298970702978005",
         "5.245105206332915"
        ],
        [
         "4",
         "ACRE",
         "Ares Commercial Real Estate",
         "4.53825846078472",
         "2.1112183453637767",
         "4.213184545427214",
         "7.290372491563171"
        ],
        [
         "5",
         "ADC",
         "Agree Realty",
         "10.368521798987762",
         "-1.5681598022840346",
         "4.340248247486002",
         "28.333476951761316"
        ],
        [
         "6",
         "ADT",
         "ADT",
         "2.154686063634136",
         "0.2903382067541864",
         "-2.2796689987631806",
         "8.453388982911402"
        ],
        [
         "7",
         "AEM",
         "Agnico Eagle Mines",
         "2.424254219333737",
         "1.1920947867105576",
         "1.8083842100572314",
         "4.2722836612334225"
        ],
        [
         "8",
         "AEO",
         "American Eagle Outfitters",
         "5.5934024663755215",
         "2.5821345389679005",
         "10.18006093563752",
         "4.0180119245211445"
        ],
        [
         "9",
         "AEP",
         "American Electric Power Company",
         "5.0471265172791835",
         "0.27147247872383734",
         "0.5667579155102974",
         "14.303149157603414"
        ],
        [
         "10",
         "AER",
         "AerCap",
         "6.793849185167682",
         "1.90250440092851",
         "3.65729669271172",
         "14.821746461862817"
        ],
        [
         "11",
         "AES",
         "The AES",
         "3.5953981522642042",
         "-4.2746537745006865",
         "-1.5907212142827594",
         "16.651569445576058"
        ],
        [
         "12",
         "AFG",
         "American Financial",
         "4.643420157278984",
         "1.7212752699010194",
         "7.033467595712805",
         "5.175517606223127"
        ],
        [
         "13",
         "AG",
         "First Majestic Silver",
         "7.3907847125435895",
         "4.752780941658085",
         "7.641438245218543",
         "9.778134950754138"
        ],
        [
         "14",
         "AGCO",
         "AGCO",
         "-0.3241028112189554",
         "1.4744085798734017",
         "-3.3239531461477583",
         "0.8772361326174902"
        ],
        [
         "15",
         "AGM",
         "Federal Agricultural Mortgage",
         "5.018148065601114",
         "0.7740770223328794",
         "6.460638710170195",
         "7.8197284643002645"
        ],
        [
         "16",
         "AGO",
         "Assured Guaranty",
         "5.691290196274544",
         "2.7626136983858345",
         "9.054892094700174",
         "5.256364795737621"
        ],
        [
         "17",
         "AGRO",
         "Adecoagro",
         "8.001745326114097",
         "12.102850275589836",
         "8.935307122755644",
         "2.967078579996814"
        ],
        [
         "18",
         "AHH",
         "Armada Hoffler Properties",
         "2.994749646275852",
         "0.5240565148268219",
         "2.449563382932701",
         "6.010629041068033"
        ],
        [
         "19",
         "AHT",
         "Ashford Hospitality Trust",
         "3.320016139022825",
         "0.7371387140250929",
         "3.2075586527701203",
         "6.015351050273261"
        ],
        [
         "20",
         "AIG",
         "American",
         "2.594699777208997",
         "0.10490939324390644",
         "2.04867510706527",
         "5.630514831317814"
        ],
        [
         "21",
         "AIN",
         "Albany",
         "5.353012403883406",
         "2.168276462010944",
         "1.7703068348329372",
         "12.12045391480634"
        ],
        [
         "22",
         "AIT",
         "Applied Industrial",
         "5.208676291990749",
         "2.1853996395347113",
         "8.294537742136331",
         "5.146091494301203"
        ],
        [
         "23",
         "AIZ",
         "Assurant",
         "6.11225450173564",
         "4.0165309824211",
         "9.768110233528134",
         "4.552122289257688"
        ],
        [
         "24",
         "AJG",
         "Arthur J. Gallagher &",
         "5.708123420618018",
         "2.94436145253155",
         "9.041428958815505",
         "5.138579850507"
        ],
        [
         "25",
         "AL",
         "Air Lease",
         "5.708382519661456",
         "2.6615270308560794",
         "3.0824634520151313",
         "11.381157076113158"
        ],
        [
         "26",
         "ALE",
         "ALLETE",
         "3.81179812114311",
         "9.792568929686409",
         "-2.0960793339649126",
         "3.738904767707835"
        ],
        [
         "27",
         "ALEX",
         "Alexander & Baldwin",
         "-0.45704296415582196",
         "0.24029432348805363",
         "-7.190903929693537",
         "5.579480713738018"
        ],
        [
         "28",
         "ALK",
         "Alaska Air",
         "6.0330783117597395",
         "3.7583102977387863",
         "10.067383153758225",
         "4.273541483782206"
        ],
        [
         "29",
         "ALL",
         "The Allstate",
         "1.5187234981569",
         "-5.463499790016428",
         "-2.069456044297604",
         "12.089126328784733"
        ],
        [
         "30",
         "ALSN",
         "Allison Transmission",
         "6.09370506613798",
         "3.429705055688162",
         "10.617992423402887",
         "4.233417719322893"
        ],
        [
         "31",
         "ALV",
         "Autoliv",
         "5.796547829696374",
         "3.0349867072817194",
         "10.501199714835344",
         "3.8534570669720583"
        ],
        [
         "32",
         "ALX",
         "Alexander's",
         "-0.16690533487807485",
         "0.0772236527780884",
         "-5.829036220359485",
         "5.251096562947172"
        ],
        [
         "33",
         "AM",
         "Antero Midstream",
         "3.4611676586260494",
         "0.3494265523130827",
         "4.117067797231664",
         "5.9170086263334"
        ],
        [
         "34",
         "AMD",
         "Advanced Micro Devices",
         "2.004250359249762",
         "2.7900876806983437",
         "-4.887630232451789",
         "8.110293629502733"
        ],
        [
         "35",
         "AMG",
         "Affiliated Managers",
         "6.052632649834065",
         "4.35598181566534",
         "9.639386353066138",
         "4.162529780770714"
        ],
        [
         "36",
         "AMP",
         "Ameriprise Financial",
         "6.511265718361786",
         "3.6761400124146526",
         "11.338675253849864",
         "4.518981888820841"
        ],
        [
         "37",
         "AMRC",
         "Ameresco",
         "4.500900444300295",
         "2.873014558785353",
         "6.190437518821698",
         "4.439249255293834"
        ],
        [
         "38",
         "AN",
         "AutoNation",
         "5.93585220865392",
         "3.092766716068487",
         "10.818569560666758",
         "3.896220349226514"
        ],
        [
         "39",
         "ANF",
         "Abercrombie & Fitch",
         "5.372358965140689",
         "2.9757869069717566",
         "9.400082068090512",
         "3.7412079203598023"
        ],
        [
         "40",
         "AON",
         "Aon",
         "3.8287948437067376",
         "1.9230475973541161",
         "4.51930731099974",
         "5.044029622766357"
        ],
        [
         "41",
         "AP",
         "Ampco-Pittsburgh",
         "3.1611107160923613",
         "2.0973344210265905",
         "1.9812575206758245",
         "5.40474020657467"
        ],
        [
         "42",
         "APA",
         "APA",
         "1.4550474563479543",
         "2.776231918251119",
         "-1.4475849916399295",
         "3.0364954424326744"
        ],
        [
         "43",
         "APAM",
         "Artisan Partners Asset Management",
         "6.282727625857092",
         "3.036181913849988",
         "11.40975171177434",
         "4.402249251946944"
        ],
        [
         "44",
         "APD",
         "Air Products and Chemicals",
         "1.7459900011332654",
         "1.7278662621940273",
         "-3.218521282966086",
         "6.728625024171854"
        ],
        [
         "45",
         "APH",
         "Amphenol",
         "5.414893944031812",
         "3.322891463913327",
         "7.844286529214642",
         "5.077503838967467"
        ],
        [
         "46",
         "APO",
         "Apollo Global Management",
         "7.881775792032325",
         "5.240372574893783",
         "11.780425312024189",
         "6.624529489179004"
        ],
        [
         "47",
         "ARE",
         "Alexandria Real Estate Equities",
         "-1.5476195262687404",
         "0.059099173884898104",
         "-9.145356912580933",
         "4.443399159889814"
        ],
        [
         "48",
         "ARL",
         "American Realty Investors",
         "-0.050180460345392953",
         "0.3324048203433051",
         "-5.850587664863181",
         "5.3676414634836975"
        ],
        [
         "49",
         "ARW",
         "Arrow Electronics",
         "6.00194000290625",
         "3.7183835611138165",
         "9.420872197465407",
         "4.866564250139524"
        ]
       ],
       "shape": {
        "columns": 6,
        "rows": 1570
       }
      },
      "text/html": [
       "<div>\n",
       "<style scoped>\n",
       "    .dataframe tbody tr th:only-of-type {\n",
       "        vertical-align: middle;\n",
       "    }\n",
       "\n",
       "    .dataframe tbody tr th {\n",
       "        vertical-align: top;\n",
       "    }\n",
       "\n",
       "    .dataframe thead th {\n",
       "        text-align: right;\n",
       "    }\n",
       "</style>\n",
       "<table border=\"1\" class=\"dataframe\">\n",
       "  <thead>\n",
       "    <tr style=\"text-align: right;\">\n",
       "      <th></th>\n",
       "      <th>Ticker</th>\n",
       "      <th>Name</th>\n",
       "      <th>mean (%)</th>\n",
       "      <th>3m (%)</th>\n",
       "      <th>6m (%)</th>\n",
       "      <th>1y (%)</th>\n",
       "    </tr>\n",
       "  </thead>\n",
       "  <tbody>\n",
       "    <tr>\n",
       "      <th>0</th>\n",
       "      <td>AA</td>\n",
       "      <td>Alcoa</td>\n",
       "      <td>5.783248</td>\n",
       "      <td>2.679567</td>\n",
       "      <td>9.949220</td>\n",
       "      <td>4.720955</td>\n",
       "    </tr>\n",
       "    <tr>\n",
       "      <th>1</th>\n",
       "      <td>AAT</td>\n",
       "      <td>American Assets Trust</td>\n",
       "      <td>9.101224</td>\n",
       "      <td>-0.067520</td>\n",
       "      <td>5.121852</td>\n",
       "      <td>22.249339</td>\n",
       "    </tr>\n",
       "    <tr>\n",
       "      <th>2</th>\n",
       "      <td>ABR</td>\n",
       "      <td>Arbor Realty Trust</td>\n",
       "      <td>5.195330</td>\n",
       "      <td>1.543354</td>\n",
       "      <td>5.219761</td>\n",
       "      <td>8.822876</td>\n",
       "    </tr>\n",
       "    <tr>\n",
       "      <th>3</th>\n",
       "      <td>ACI</td>\n",
       "      <td>Albertsons Companies</td>\n",
       "      <td>3.943383</td>\n",
       "      <td>2.286073</td>\n",
       "      <td>4.298971</td>\n",
       "      <td>5.245105</td>\n",
       "    </tr>\n",
       "    <tr>\n",
       "      <th>4</th>\n",
       "      <td>ACRE</td>\n",
       "      <td>Ares Commercial Real Estate</td>\n",
       "      <td>4.538258</td>\n",
       "      <td>2.111218</td>\n",
       "      <td>4.213185</td>\n",
       "      <td>7.290372</td>\n",
       "    </tr>\n",
       "    <tr>\n",
       "      <th>...</th>\n",
       "      <td>...</td>\n",
       "      <td>...</td>\n",
       "      <td>...</td>\n",
       "      <td>...</td>\n",
       "      <td>...</td>\n",
       "      <td>...</td>\n",
       "    </tr>\n",
       "    <tr>\n",
       "      <th>1565</th>\n",
       "      <td>PDD</td>\n",
       "      <td>PDD</td>\n",
       "      <td>6.500376</td>\n",
       "      <td>4.955874</td>\n",
       "      <td>4.369335</td>\n",
       "      <td>10.175920</td>\n",
       "    </tr>\n",
       "    <tr>\n",
       "      <th>1566</th>\n",
       "      <td>BIDU</td>\n",
       "      <td>Baidu</td>\n",
       "      <td>7.130411</td>\n",
       "      <td>5.194294</td>\n",
       "      <td>10.759804</td>\n",
       "      <td>5.437135</td>\n",
       "    </tr>\n",
       "    <tr>\n",
       "      <th>1567</th>\n",
       "      <td>NTES</td>\n",
       "      <td>NetEase</td>\n",
       "      <td>5.780861</td>\n",
       "      <td>4.531908</td>\n",
       "      <td>3.699999</td>\n",
       "      <td>9.110676</td>\n",
       "    </tr>\n",
       "    <tr>\n",
       "      <th>1568</th>\n",
       "      <td>IQ</td>\n",
       "      <td>iQIYI</td>\n",
       "      <td>2.932832</td>\n",
       "      <td>8.989671</td>\n",
       "      <td>0.936616</td>\n",
       "      <td>-1.127791</td>\n",
       "    </tr>\n",
       "    <tr>\n",
       "      <th>1569</th>\n",
       "      <td>UBER</td>\n",
       "      <td>Uber</td>\n",
       "      <td>8.021941</td>\n",
       "      <td>6.549828</td>\n",
       "      <td>5.492222</td>\n",
       "      <td>12.023773</td>\n",
       "    </tr>\n",
       "  </tbody>\n",
       "</table>\n",
       "<p>1570 rows × 6 columns</p>\n",
       "</div>"
      ],
      "text/plain": [
       "     Ticker                         Name  mean (%)    3m (%)     6m (%)  \\\n",
       "0        AA                        Alcoa  5.783248  2.679567   9.949220   \n",
       "1       AAT        American Assets Trust  9.101224 -0.067520   5.121852   \n",
       "2       ABR           Arbor Realty Trust  5.195330  1.543354   5.219761   \n",
       "3       ACI         Albertsons Companies  3.943383  2.286073   4.298971   \n",
       "4      ACRE  Ares Commercial Real Estate  4.538258  2.111218   4.213185   \n",
       "...     ...                          ...       ...       ...        ...   \n",
       "1565    PDD                          PDD  6.500376  4.955874   4.369335   \n",
       "1566   BIDU                        Baidu  7.130411  5.194294  10.759804   \n",
       "1567   NTES                      NetEase  5.780861  4.531908   3.699999   \n",
       "1568     IQ                        iQIYI  2.932832  8.989671   0.936616   \n",
       "1569   UBER                         Uber  8.021941  6.549828   5.492222   \n",
       "\n",
       "         1y (%)  \n",
       "0      4.720955  \n",
       "1     22.249339  \n",
       "2      8.822876  \n",
       "3      5.245105  \n",
       "4      7.290372  \n",
       "...         ...  \n",
       "1565  10.175920  \n",
       "1566   5.437135  \n",
       "1567   9.110676  \n",
       "1568  -1.127791  \n",
       "1569  12.023773  \n",
       "\n",
       "[1570 rows x 6 columns]"
      ]
     },
     "execution_count": 98,
     "metadata": {},
     "output_type": "execute_result"
    }
   ],
   "source": [
    "df_raw = pd.read_csv('../data/earnings_data.csv')\n",
    "\n",
    "results = []\n",
    "for i in range(len(X_pred)):\n",
    "    y_pred = model.predict(X_pred.iloc[[i]])[0]\n",
    "    y_pred_3m, y_pred_6m, y_pred_1y = y_pred\n",
    "    avg = (y_pred_3m + y_pred_6m + y_pred_1y) / 3\n",
    "    results.append({\n",
    "        'Ticker': df_raw.loc[i*4, 'Ticker'],\n",
    "        'Name': df_raw.loc[i*4, 'Name'],\n",
    "        'mean (%)': avg * 100,\n",
    "        '3m (%)': y_pred_3m * 100,\n",
    "        '6m (%)': y_pred_6m * 100,\n",
    "        '1y (%)': y_pred_1y * 100\n",
    "    })\n",
    "\n",
    "results_df = pd.DataFrame(results)\n",
    "results_df"
   ]
  },
  {
   "cell_type": "code",
   "execution_count": 96,
   "metadata": {},
   "outputs": [],
   "source": [
    "def predict_ticker(ticker_str):\n",
    "    try:\n",
    "        ticker_str = str(ticker_str).upper()\n",
    "        ticker_str = ticker_str.replace(\"'\", \"\")\n",
    "        ticker_str = ticker_str.replace('\"', \"\")\n",
    "        row = results_df[results_df['Ticker'] == ticker_str]\n",
    "        if row.empty:\n",
    "            return (f\"The author was stupid and forgot to cover this obvious, famous stock. Try another.\", \"\", \"\", \"\")\n",
    "        row = row.iloc[0]\n",
    "        return (\n",
    "            f\"{row['3m (%)']:.2f}\",\n",
    "            f\"{row['6m (%)']:.2f}\",\n",
    "            f\"{row['1y (%)']:.2f}\",\n",
    "            f\"{row['mean (%)']:.2f}\",\n",
    "        )\n",
    "    except Exception as e:\n",
    "        return (f\"Error: {e}\", \"\", \"\", \"\")"
   ]
  },
  {
   "cell_type": "code",
   "execution_count": 97,
   "metadata": {
    "vscode": {
     "languageId": "javascript"
    }
   },
   "outputs": [
    {
     "name": "stdout",
     "output_type": "stream",
     "text": [
      "* Running on local URL:  http://127.0.0.1:7863\n",
      "* Running on public URL: https://cc23600c7e310cff32.gradio.live\n",
      "\n",
      "This share link expires in 1 week. For free permanent hosting and GPU upgrades, run `gradio deploy` from the terminal in the working directory to deploy to Hugging Face Spaces (https://huggingface.co/spaces)\n"
     ]
    },
    {
     "data": {
      "text/html": [
       "<div><iframe src=\"https://cc23600c7e310cff32.gradio.live\" width=\"100%\" height=\"500\" allow=\"autoplay; camera; microphone; clipboard-read; clipboard-write;\" frameborder=\"0\" allowfullscreen></iframe></div>"
      ],
      "text/plain": [
       "<IPython.core.display.HTML object>"
      ]
     },
     "metadata": {},
     "output_type": "display_data"
    },
    {
     "data": {
      "text/plain": []
     },
     "execution_count": 97,
     "metadata": {},
     "output_type": "execute_result"
    }
   ],
   "source": [
    "iface = gr.Interface(\n",
    "    fn=predict_ticker,\n",
    "    inputs=gr.Textbox(label=\"Ticker e.g. 'TSLA' or 'MATAS.CO'\"),\n",
    "    outputs=[\n",
    "        gr.Textbox(label=\"3 Month Change Prediction (%)\"),\n",
    "        gr.Textbox(label=\"6 Month Change Prediction (%)\"),\n",
    "        gr.Textbox(label=\"1 Year Change Prediction (%)\"),\n",
    "        gr.Textbox(label=\"Mean Change Prediction (%)\"),\n",
    "    ],\n",
    "    title=\"Stock Price Prediction Model\",\n",
    "    description=\" \"\n",
    ")\n",
    "\n",
    "iface.launch(share=True)"
   ]
  },
  {
   "cell_type": "code",
   "execution_count": null,
   "metadata": {
    "vscode": {
     "languageId": "javascript"
    }
   },
   "outputs": [],
   "source": []
  }
 ],
 "metadata": {
  "kernelspec": {
   "display_name": "base",
   "language": "python",
   "name": "python3"
  },
  "language_info": {
   "codemirror_mode": {
    "name": "ipython",
    "version": 3
   },
   "file_extension": ".py",
   "mimetype": "text/x-python",
   "name": "python",
   "nbconvert_exporter": "python",
   "pygments_lexer": "ipython3",
   "version": "3.12.2"
  }
 },
 "nbformat": 4,
 "nbformat_minor": 2
}
