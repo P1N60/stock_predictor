{
 "cells": [
  {
   "cell_type": "markdown",
   "metadata": {},
   "source": [
    "# Stock Prediction Model"
   ]
  },
  {
   "cell_type": "markdown",
   "metadata": {},
   "source": [
    "## Dependencies"
   ]
  },
  {
   "cell_type": "markdown",
   "metadata": {},
   "source": [
    "### Library Installation (if needed)"
   ]
  },
  {
   "cell_type": "code",
   "execution_count": 60,
   "metadata": {},
   "outputs": [],
   "source": [
    "#! pip install yfinance pandas numpy matplotlib lightgbm torch tensorflow keras"
   ]
  },
  {
   "cell_type": "markdown",
   "metadata": {},
   "source": [
    "### Importing Required Libraries"
   ]
  },
  {
   "cell_type": "code",
   "execution_count": 61,
   "metadata": {},
   "outputs": [],
   "source": [
    "from datetime import datetime\n",
    "import matplotlib.pyplot as plt\n",
    "import yfinance as yf\n",
    "import pandas as pd\n",
    "import numpy as np\n",
    "import pickle\n",
    "import gradio as gr\n",
    "import ast\n",
    "from tqdm import tqdm\n",
    "from sklearn.impute import SimpleImputer\n",
    "from sklearn.neural_network import MLPRegressor\n",
    "from sklearn.metrics import r2_score, mean_squared_error, mean_absolute_error\n",
    "from sklearn.preprocessing import LabelEncoder, StandardScaler\n",
    "from sklearn.model_selection import train_test_split, GridSearchCV\n",
    "import warnings"
   ]
  },
  {
   "cell_type": "markdown",
   "metadata": {},
   "source": [
    "### Variables"
   ]
  },
  {
   "cell_type": "code",
   "execution_count": 62,
   "metadata": {},
   "outputs": [],
   "source": [
    "warnings.filterwarnings(\"ignore\", category=FutureWarning)\n",
    "build_new_dataset = {'True': True, 'False': False}.get(input('Build New Dataset? (Bool)'))\n",
    "if build_new_dataset:\n",
    "    symbol_list = input(\"Symbols: ('simple', 'filtered' or 'all')\") # 'simple' or 'all'. simple are the tickers from the screener notebook and all are all of the tickers in 'filtered_tickers'. You may also an 'Int' to get a % amount of random tickers from 'all'\n",
    "else:\n",
    "    symbol_list = 'filtered'\n",
    "minimum_feature_threshold = 0.6\n",
    "\n",
    "train_new_model = {'True': True, 'False': False}.get(input('Train New Model? (Bool)'))\n",
    "if train_new_model:\n",
    "    hidden_layers = ast.literal_eval(f\"({input('Hidden Layers: eg. \"100, 100\"')})\")\n",
    "    verticle_jobs = 1 #'-1' for max\n",
    "\n",
    "if build_new_dataset or train_new_model:\n",
    "    debugging = {'True': True, 'False': False}.get(input('Debug? (Bool)'))\n",
    "else:\n",
    "    debugging = False"
   ]
  },
  {
   "cell_type": "markdown",
   "metadata": {},
   "source": [
    "## Data Preparation"
   ]
  },
  {
   "cell_type": "code",
   "execution_count": 63,
   "metadata": {},
   "outputs": [
    {
     "data": {
      "text/plain": [
       "array(['AA', 'AAT', 'ABM', ..., 'BABA', 'WB', 'SYDB.CO'], dtype=object)"
      ]
     },
     "execution_count": 63,
     "metadata": {},
     "output_type": "execute_result"
    }
   ],
   "source": [
    "symbols = []\n",
    "if symbol_list == 'filtered':\n",
    "    symbols = pd.read_csv('../data/filtered_tickers.csv')['Ticker'].tolist()\n",
    "elif symbol_list == 'all':\n",
    "    symbols = pd.read_csv('../data/tickers.csv')['Ticker'].tolist()\n",
    "elif symbol_list.isdigit():\n",
    "    all_symbols = pd.read_csv('../data/tickers.csv')['Ticker'].tolist()\n",
    "    num_symbols = max(1, round(len(all_symbols) * (int(symbol_list) / 100)))  \n",
    "    symbols = np.random.choice(all_symbols, num_symbols, replace=False).tolist()\n",
    "    symbols = symbols + pd.read_csv(\"../data/filtered_tickers.csv\")[\"Ticker\"].tolist()\n",
    "\n",
    "symbols = symbols + pd.read_csv('../data/simple_tickers.csv')['Ticker'].tolist()\n",
    "\n",
    "symbols = pd.Series(symbols).unique()\n",
    "symbols"
   ]
  },
  {
   "cell_type": "code",
   "execution_count": 64,
   "metadata": {},
   "outputs": [
    {
     "data": {
      "text/plain": [
       "[Timestamp('2023-12-31 00:00:00'),\n",
       " Timestamp('2022-12-31 00:00:00'),\n",
       " Timestamp('2021-12-31 00:00:00'),\n",
       " Timestamp('2020-12-31 00:00:00')]"
      ]
     },
     "metadata": {},
     "output_type": "display_data"
    },
    {
     "data": {
      "application/vnd.microsoft.datawrangler.viewer.v0+json": {
       "columns": [
        {
         "name": "index",
         "rawType": "object",
         "type": "string"
        },
        {
         "name": "2023-12-31 00:00:00",
         "rawType": "object",
         "type": "unknown"
        },
        {
         "name": "2022-12-31 00:00:00",
         "rawType": "object",
         "type": "unknown"
        },
        {
         "name": "2021-12-31 00:00:00",
         "rawType": "object",
         "type": "unknown"
        },
        {
         "name": "2020-12-31 00:00:00",
         "rawType": "object",
         "type": "unknown"
        }
       ],
       "ref": "9bb0faa5-21b9-4144-9a7c-1228c6348170",
       "rows": [
        [
         "Free Cash Flow",
         "-5005000.0",
         "-15138000.0",
         "-13904000.0",
         "-947000.0"
        ],
        [
         "Repurchase Of Capital Stock",
         null,
         null,
         null,
         "0.0"
        ],
        [
         "Repayment Of Debt",
         "-1898000.0",
         "-224000.0",
         "-129000.0",
         "-93000.0"
        ],
        [
         "Issuance Of Debt",
         "1047000.0",
         "625000.0",
         "0.0",
         "4949000.0"
        ],
        [
         "Issuance Of Capital Stock",
         "2962000.0",
         "0.0",
         "19984000.0",
         "0.0"
        ],
        [
         "Capital Expenditure",
         "-174000.0",
         "-602000.0",
         "-240000.0",
         "-428000.0"
        ],
        [
         "Interest Paid Supplemental Data",
         "219000.0",
         "223000.0",
         "212000.0",
         "153000.0"
        ],
        [
         "Income Tax Paid Supplemental Data",
         "57000.0",
         "52000.0",
         "151000.0",
         "86000.0"
        ],
        [
         "End Cash Position",
         "615000.0",
         "3464000.0",
         "19202000.0",
         "13706000.0"
        ],
        [
         "Beginning Cash Position",
         "3464000.0",
         "19202000.0",
         "13706000.0",
         "8307000.0"
        ],
        [
         "Changes In Cash",
         "-2849000.0",
         "-15738000.0",
         "5496000.0",
         "5399000.0"
        ],
        [
         "Financing Cash Flow",
         "2111000.0",
         "304000.0",
         "19400000.0",
         "6346000.0"
        ],
        [
         "Cash Flow From Continuing Financing Activities",
         "2111000.0",
         "304000.0",
         "19400000.0",
         "6346000.0"
        ],
        [
         "Net Other Financing Charges",
         null,
         "-97000.0",
         null,
         null
        ],
        [
         "Net Common Stock Issuance",
         "2962000.0",
         "0.0",
         "19984000.0",
         "0.0"
        ],
        [
         "Common Stock Payments",
         null,
         null,
         null,
         "0.0"
        ],
        [
         "Common Stock Issuance",
         "2962000.0",
         "0.0",
         "19984000.0",
         "0.0"
        ],
        [
         "Net Issuance Payments Of Debt",
         "-851000.0",
         "401000.0",
         "-584000.0",
         "6346000.0"
        ],
        [
         "Net Short Term Debt Issuance",
         "-614000.0",
         "625000.0",
         "-455000.0",
         "1490000.0"
        ],
        [
         "Short Term Debt Payments",
         "-1661000.0",
         null,
         null,
         null
        ],
        [
         "Short Term Debt Issuance",
         "1047000.0",
         "625000.0",
         null,
         null
        ],
        [
         "Net Long Term Debt Issuance",
         "-237000.0",
         "-224000.0",
         "-129000.0",
         "4856000.0"
        ],
        [
         "Long Term Debt Payments",
         "-237000.0",
         "-224000.0",
         "-129000.0",
         "-93000.0"
        ],
        [
         "Long Term Debt Issuance",
         null,
         null,
         "0.0",
         "4949000.0"
        ],
        [
         "Investing Cash Flow",
         "-129000.0",
         "-1506000.0",
         "-240000.0",
         "-428000.0"
        ],
        [
         "Cash Flow From Continuing Investing Activities",
         "-129000.0",
         "-1506000.0",
         "-240000.0",
         "-428000.0"
        ],
        [
         "Net Other Investing Changes",
         null,
         "-904000.0",
         null,
         null
        ],
        [
         "Net PPE Purchase And Sale",
         "-129000.0",
         "-602000.0",
         "-240000.0",
         "-428000.0"
        ],
        [
         "Sale Of PPE",
         "45000.0",
         "0.0",
         null,
         null
        ],
        [
         "Purchase Of PPE",
         "-174000.0",
         "-602000.0",
         "-240000.0",
         "-428000.0"
        ],
        [
         "Operating Cash Flow",
         "-4831000.0",
         "-14536000.0",
         "-13664000.0",
         "-519000.0"
        ],
        [
         "Cash Flow From Continuing Operating Activities",
         "-4831000.0",
         "-14536000.0",
         "-13664000.0",
         "-519000.0"
        ],
        [
         "Change In Working Capital",
         "7023000.0",
         "1719000.0",
         "-3861000.0",
         "-566000.0"
        ],
        [
         "Change In Other Working Capital",
         "239000.0",
         "-1098000.0",
         "796000.0",
         "-4180000.0"
        ],
        [
         "Change In Other Current Liabilities",
         "-260000.0",
         "394000.0",
         "-40000.0",
         "121000.0"
        ],
        [
         "Change In Other Current Assets",
         "2147000.0",
         "898000.0",
         "-3087000.0",
         "-46000.0"
        ],
        [
         "Change In Payables And Accrued Expense",
         "2047000.0",
         "2234000.0",
         "-1540000.0",
         "121000.0"
        ],
        [
         "Change In Accrued Expense",
         "-557000.0",
         "-181000.0",
         "-1365000.0",
         "1301000.0"
        ],
        [
         "Change In Payable",
         "2604000.0",
         "2415000.0",
         "-175000.0",
         "-1180000.0"
        ],
        [
         "Change In Account Payable",
         "2551000.0",
         "2453000.0",
         "-137000.0",
         "-1123000.0"
        ],
        [
         "Change In Tax Payable",
         "53000.0",
         "-38000.0",
         "-38000.0",
         "-57000.0"
        ],
        [
         "Change In Income Tax Payable",
         "53000.0",
         "-38000.0",
         "-38000.0",
         "-57000.0"
        ],
        [
         "Change In Receivables",
         "2850000.0",
         "-709000.0",
         "10000.0",
         "3418000.0"
        ],
        [
         "Changes In Account Receivables",
         "1212000.0",
         "48000.0",
         "97000.0",
         "3646000.0"
        ],
        [
         "Other Non Cash Items",
         null,
         "-1409000.0",
         null,
         null
        ],
        [
         "Stock Based Compensation",
         "310000.0",
         "219000.0",
         "270000.0",
         "223000.0"
        ],
        [
         "Asset Impairment Charge",
         "1795000.0",
         "2503000.0",
         "0.0",
         null
        ],
        [
         "Depreciation Amortization Depletion",
         "933000.0",
         "933000.0",
         "561000.0",
         "449000.0"
        ],
        [
         "Depreciation And Amortization",
         "933000.0",
         "933000.0",
         "561000.0",
         "449000.0"
        ],
        [
         "Operating Gains Losses",
         "261000.0",
         "13000.0",
         "-4949000.0",
         null
        ]
       ],
       "shape": {
        "columns": 4,
        "rows": 52
       }
      },
      "text/html": [
       "<div>\n",
       "<style scoped>\n",
       "    .dataframe tbody tr th:only-of-type {\n",
       "        vertical-align: middle;\n",
       "    }\n",
       "\n",
       "    .dataframe tbody tr th {\n",
       "        vertical-align: top;\n",
       "    }\n",
       "\n",
       "    .dataframe thead th {\n",
       "        text-align: right;\n",
       "    }\n",
       "</style>\n",
       "<table border=\"1\" class=\"dataframe\">\n",
       "  <thead>\n",
       "    <tr style=\"text-align: right;\">\n",
       "      <th></th>\n",
       "      <th>2023-12-31</th>\n",
       "      <th>2022-12-31</th>\n",
       "      <th>2021-12-31</th>\n",
       "      <th>2020-12-31</th>\n",
       "    </tr>\n",
       "  </thead>\n",
       "  <tbody>\n",
       "    <tr>\n",
       "      <th>Free Cash Flow</th>\n",
       "      <td>-5005000.0</td>\n",
       "      <td>-15138000.0</td>\n",
       "      <td>-13904000.0</td>\n",
       "      <td>-947000.0</td>\n",
       "    </tr>\n",
       "    <tr>\n",
       "      <th>Repurchase Of Capital Stock</th>\n",
       "      <td>NaN</td>\n",
       "      <td>NaN</td>\n",
       "      <td>NaN</td>\n",
       "      <td>0.0</td>\n",
       "    </tr>\n",
       "    <tr>\n",
       "      <th>Repayment Of Debt</th>\n",
       "      <td>-1898000.0</td>\n",
       "      <td>-224000.0</td>\n",
       "      <td>-129000.0</td>\n",
       "      <td>-93000.0</td>\n",
       "    </tr>\n",
       "    <tr>\n",
       "      <th>Issuance Of Debt</th>\n",
       "      <td>1047000.0</td>\n",
       "      <td>625000.0</td>\n",
       "      <td>0.0</td>\n",
       "      <td>4949000.0</td>\n",
       "    </tr>\n",
       "    <tr>\n",
       "      <th>Issuance Of Capital Stock</th>\n",
       "      <td>2962000.0</td>\n",
       "      <td>0.0</td>\n",
       "      <td>19984000.0</td>\n",
       "      <td>0.0</td>\n",
       "    </tr>\n",
       "    <tr>\n",
       "      <th>Capital Expenditure</th>\n",
       "      <td>-174000.0</td>\n",
       "      <td>-602000.0</td>\n",
       "      <td>-240000.0</td>\n",
       "      <td>-428000.0</td>\n",
       "    </tr>\n",
       "    <tr>\n",
       "      <th>Interest Paid Supplemental Data</th>\n",
       "      <td>219000.0</td>\n",
       "      <td>223000.0</td>\n",
       "      <td>212000.0</td>\n",
       "      <td>153000.0</td>\n",
       "    </tr>\n",
       "    <tr>\n",
       "      <th>Income Tax Paid Supplemental Data</th>\n",
       "      <td>57000.0</td>\n",
       "      <td>52000.0</td>\n",
       "      <td>151000.0</td>\n",
       "      <td>86000.0</td>\n",
       "    </tr>\n",
       "    <tr>\n",
       "      <th>End Cash Position</th>\n",
       "      <td>615000.0</td>\n",
       "      <td>3464000.0</td>\n",
       "      <td>19202000.0</td>\n",
       "      <td>13706000.0</td>\n",
       "    </tr>\n",
       "    <tr>\n",
       "      <th>Beginning Cash Position</th>\n",
       "      <td>3464000.0</td>\n",
       "      <td>19202000.0</td>\n",
       "      <td>13706000.0</td>\n",
       "      <td>8307000.0</td>\n",
       "    </tr>\n",
       "    <tr>\n",
       "      <th>Changes In Cash</th>\n",
       "      <td>-2849000.0</td>\n",
       "      <td>-15738000.0</td>\n",
       "      <td>5496000.0</td>\n",
       "      <td>5399000.0</td>\n",
       "    </tr>\n",
       "    <tr>\n",
       "      <th>Financing Cash Flow</th>\n",
       "      <td>2111000.0</td>\n",
       "      <td>304000.0</td>\n",
       "      <td>19400000.0</td>\n",
       "      <td>6346000.0</td>\n",
       "    </tr>\n",
       "    <tr>\n",
       "      <th>Cash Flow From Continuing Financing Activities</th>\n",
       "      <td>2111000.0</td>\n",
       "      <td>304000.0</td>\n",
       "      <td>19400000.0</td>\n",
       "      <td>6346000.0</td>\n",
       "    </tr>\n",
       "    <tr>\n",
       "      <th>Net Other Financing Charges</th>\n",
       "      <td>NaN</td>\n",
       "      <td>-97000.0</td>\n",
       "      <td>NaN</td>\n",
       "      <td>NaN</td>\n",
       "    </tr>\n",
       "    <tr>\n",
       "      <th>Net Common Stock Issuance</th>\n",
       "      <td>2962000.0</td>\n",
       "      <td>0.0</td>\n",
       "      <td>19984000.0</td>\n",
       "      <td>0.0</td>\n",
       "    </tr>\n",
       "    <tr>\n",
       "      <th>Common Stock Payments</th>\n",
       "      <td>NaN</td>\n",
       "      <td>NaN</td>\n",
       "      <td>NaN</td>\n",
       "      <td>0.0</td>\n",
       "    </tr>\n",
       "    <tr>\n",
       "      <th>Common Stock Issuance</th>\n",
       "      <td>2962000.0</td>\n",
       "      <td>0.0</td>\n",
       "      <td>19984000.0</td>\n",
       "      <td>0.0</td>\n",
       "    </tr>\n",
       "    <tr>\n",
       "      <th>Net Issuance Payments Of Debt</th>\n",
       "      <td>-851000.0</td>\n",
       "      <td>401000.0</td>\n",
       "      <td>-584000.0</td>\n",
       "      <td>6346000.0</td>\n",
       "    </tr>\n",
       "    <tr>\n",
       "      <th>Net Short Term Debt Issuance</th>\n",
       "      <td>-614000.0</td>\n",
       "      <td>625000.0</td>\n",
       "      <td>-455000.0</td>\n",
       "      <td>1490000.0</td>\n",
       "    </tr>\n",
       "    <tr>\n",
       "      <th>Short Term Debt Payments</th>\n",
       "      <td>-1661000.0</td>\n",
       "      <td>NaN</td>\n",
       "      <td>NaN</td>\n",
       "      <td>NaN</td>\n",
       "    </tr>\n",
       "    <tr>\n",
       "      <th>Short Term Debt Issuance</th>\n",
       "      <td>1047000.0</td>\n",
       "      <td>625000.0</td>\n",
       "      <td>NaN</td>\n",
       "      <td>NaN</td>\n",
       "    </tr>\n",
       "    <tr>\n",
       "      <th>Net Long Term Debt Issuance</th>\n",
       "      <td>-237000.0</td>\n",
       "      <td>-224000.0</td>\n",
       "      <td>-129000.0</td>\n",
       "      <td>4856000.0</td>\n",
       "    </tr>\n",
       "    <tr>\n",
       "      <th>Long Term Debt Payments</th>\n",
       "      <td>-237000.0</td>\n",
       "      <td>-224000.0</td>\n",
       "      <td>-129000.0</td>\n",
       "      <td>-93000.0</td>\n",
       "    </tr>\n",
       "    <tr>\n",
       "      <th>Long Term Debt Issuance</th>\n",
       "      <td>NaN</td>\n",
       "      <td>NaN</td>\n",
       "      <td>0.0</td>\n",
       "      <td>4949000.0</td>\n",
       "    </tr>\n",
       "    <tr>\n",
       "      <th>Investing Cash Flow</th>\n",
       "      <td>-129000.0</td>\n",
       "      <td>-1506000.0</td>\n",
       "      <td>-240000.0</td>\n",
       "      <td>-428000.0</td>\n",
       "    </tr>\n",
       "    <tr>\n",
       "      <th>Cash Flow From Continuing Investing Activities</th>\n",
       "      <td>-129000.0</td>\n",
       "      <td>-1506000.0</td>\n",
       "      <td>-240000.0</td>\n",
       "      <td>-428000.0</td>\n",
       "    </tr>\n",
       "    <tr>\n",
       "      <th>Net Other Investing Changes</th>\n",
       "      <td>NaN</td>\n",
       "      <td>-904000.0</td>\n",
       "      <td>NaN</td>\n",
       "      <td>NaN</td>\n",
       "    </tr>\n",
       "    <tr>\n",
       "      <th>Net PPE Purchase And Sale</th>\n",
       "      <td>-129000.0</td>\n",
       "      <td>-602000.0</td>\n",
       "      <td>-240000.0</td>\n",
       "      <td>-428000.0</td>\n",
       "    </tr>\n",
       "    <tr>\n",
       "      <th>Sale Of PPE</th>\n",
       "      <td>45000.0</td>\n",
       "      <td>0.0</td>\n",
       "      <td>NaN</td>\n",
       "      <td>NaN</td>\n",
       "    </tr>\n",
       "    <tr>\n",
       "      <th>Purchase Of PPE</th>\n",
       "      <td>-174000.0</td>\n",
       "      <td>-602000.0</td>\n",
       "      <td>-240000.0</td>\n",
       "      <td>-428000.0</td>\n",
       "    </tr>\n",
       "    <tr>\n",
       "      <th>Operating Cash Flow</th>\n",
       "      <td>-4831000.0</td>\n",
       "      <td>-14536000.0</td>\n",
       "      <td>-13664000.0</td>\n",
       "      <td>-519000.0</td>\n",
       "    </tr>\n",
       "    <tr>\n",
       "      <th>Cash Flow From Continuing Operating Activities</th>\n",
       "      <td>-4831000.0</td>\n",
       "      <td>-14536000.0</td>\n",
       "      <td>-13664000.0</td>\n",
       "      <td>-519000.0</td>\n",
       "    </tr>\n",
       "    <tr>\n",
       "      <th>Change In Working Capital</th>\n",
       "      <td>7023000.0</td>\n",
       "      <td>1719000.0</td>\n",
       "      <td>-3861000.0</td>\n",
       "      <td>-566000.0</td>\n",
       "    </tr>\n",
       "    <tr>\n",
       "      <th>Change In Other Working Capital</th>\n",
       "      <td>239000.0</td>\n",
       "      <td>-1098000.0</td>\n",
       "      <td>796000.0</td>\n",
       "      <td>-4180000.0</td>\n",
       "    </tr>\n",
       "    <tr>\n",
       "      <th>Change In Other Current Liabilities</th>\n",
       "      <td>-260000.0</td>\n",
       "      <td>394000.0</td>\n",
       "      <td>-40000.0</td>\n",
       "      <td>121000.0</td>\n",
       "    </tr>\n",
       "    <tr>\n",
       "      <th>Change In Other Current Assets</th>\n",
       "      <td>2147000.0</td>\n",
       "      <td>898000.0</td>\n",
       "      <td>-3087000.0</td>\n",
       "      <td>-46000.0</td>\n",
       "    </tr>\n",
       "    <tr>\n",
       "      <th>Change In Payables And Accrued Expense</th>\n",
       "      <td>2047000.0</td>\n",
       "      <td>2234000.0</td>\n",
       "      <td>-1540000.0</td>\n",
       "      <td>121000.0</td>\n",
       "    </tr>\n",
       "    <tr>\n",
       "      <th>Change In Accrued Expense</th>\n",
       "      <td>-557000.0</td>\n",
       "      <td>-181000.0</td>\n",
       "      <td>-1365000.0</td>\n",
       "      <td>1301000.0</td>\n",
       "    </tr>\n",
       "    <tr>\n",
       "      <th>Change In Payable</th>\n",
       "      <td>2604000.0</td>\n",
       "      <td>2415000.0</td>\n",
       "      <td>-175000.0</td>\n",
       "      <td>-1180000.0</td>\n",
       "    </tr>\n",
       "    <tr>\n",
       "      <th>Change In Account Payable</th>\n",
       "      <td>2551000.0</td>\n",
       "      <td>2453000.0</td>\n",
       "      <td>-137000.0</td>\n",
       "      <td>-1123000.0</td>\n",
       "    </tr>\n",
       "    <tr>\n",
       "      <th>Change In Tax Payable</th>\n",
       "      <td>53000.0</td>\n",
       "      <td>-38000.0</td>\n",
       "      <td>-38000.0</td>\n",
       "      <td>-57000.0</td>\n",
       "    </tr>\n",
       "    <tr>\n",
       "      <th>Change In Income Tax Payable</th>\n",
       "      <td>53000.0</td>\n",
       "      <td>-38000.0</td>\n",
       "      <td>-38000.0</td>\n",
       "      <td>-57000.0</td>\n",
       "    </tr>\n",
       "    <tr>\n",
       "      <th>Change In Receivables</th>\n",
       "      <td>2850000.0</td>\n",
       "      <td>-709000.0</td>\n",
       "      <td>10000.0</td>\n",
       "      <td>3418000.0</td>\n",
       "    </tr>\n",
       "    <tr>\n",
       "      <th>Changes In Account Receivables</th>\n",
       "      <td>1212000.0</td>\n",
       "      <td>48000.0</td>\n",
       "      <td>97000.0</td>\n",
       "      <td>3646000.0</td>\n",
       "    </tr>\n",
       "    <tr>\n",
       "      <th>Other Non Cash Items</th>\n",
       "      <td>NaN</td>\n",
       "      <td>-1409000.0</td>\n",
       "      <td>NaN</td>\n",
       "      <td>NaN</td>\n",
       "    </tr>\n",
       "    <tr>\n",
       "      <th>Stock Based Compensation</th>\n",
       "      <td>310000.0</td>\n",
       "      <td>219000.0</td>\n",
       "      <td>270000.0</td>\n",
       "      <td>223000.0</td>\n",
       "    </tr>\n",
       "    <tr>\n",
       "      <th>Asset Impairment Charge</th>\n",
       "      <td>1795000.0</td>\n",
       "      <td>2503000.0</td>\n",
       "      <td>0.0</td>\n",
       "      <td>NaN</td>\n",
       "    </tr>\n",
       "    <tr>\n",
       "      <th>Depreciation Amortization Depletion</th>\n",
       "      <td>933000.0</td>\n",
       "      <td>933000.0</td>\n",
       "      <td>561000.0</td>\n",
       "      <td>449000.0</td>\n",
       "    </tr>\n",
       "    <tr>\n",
       "      <th>Depreciation And Amortization</th>\n",
       "      <td>933000.0</td>\n",
       "      <td>933000.0</td>\n",
       "      <td>561000.0</td>\n",
       "      <td>449000.0</td>\n",
       "    </tr>\n",
       "    <tr>\n",
       "      <th>Operating Gains Losses</th>\n",
       "      <td>261000.0</td>\n",
       "      <td>13000.0</td>\n",
       "      <td>-4949000.0</td>\n",
       "      <td>NaN</td>\n",
       "    </tr>\n",
       "    <tr>\n",
       "      <th>Gain Loss On Sale Of PPE</th>\n",
       "      <td>261000.0</td>\n",
       "      <td>13000.0</td>\n",
       "      <td>0.0</td>\n",
       "      <td>NaN</td>\n",
       "    </tr>\n",
       "    <tr>\n",
       "      <th>Net Income From Continuing Operations</th>\n",
       "      <td>-15153000.0</td>\n",
       "      <td>-18514000.0</td>\n",
       "      <td>-5685000.0</td>\n",
       "      <td>-625000.0</td>\n",
       "    </tr>\n",
       "  </tbody>\n",
       "</table>\n",
       "</div>"
      ],
      "text/plain": [
       "                                                2023-12-31  2022-12-31  \\\n",
       "Free Cash Flow                                  -5005000.0 -15138000.0   \n",
       "Repurchase Of Capital Stock                            NaN         NaN   \n",
       "Repayment Of Debt                               -1898000.0   -224000.0   \n",
       "Issuance Of Debt                                 1047000.0    625000.0   \n",
       "Issuance Of Capital Stock                        2962000.0         0.0   \n",
       "Capital Expenditure                              -174000.0   -602000.0   \n",
       "Interest Paid Supplemental Data                   219000.0    223000.0   \n",
       "Income Tax Paid Supplemental Data                  57000.0     52000.0   \n",
       "End Cash Position                                 615000.0   3464000.0   \n",
       "Beginning Cash Position                          3464000.0  19202000.0   \n",
       "Changes In Cash                                 -2849000.0 -15738000.0   \n",
       "Financing Cash Flow                              2111000.0    304000.0   \n",
       "Cash Flow From Continuing Financing Activities   2111000.0    304000.0   \n",
       "Net Other Financing Charges                            NaN    -97000.0   \n",
       "Net Common Stock Issuance                        2962000.0         0.0   \n",
       "Common Stock Payments                                  NaN         NaN   \n",
       "Common Stock Issuance                            2962000.0         0.0   \n",
       "Net Issuance Payments Of Debt                    -851000.0    401000.0   \n",
       "Net Short Term Debt Issuance                     -614000.0    625000.0   \n",
       "Short Term Debt Payments                        -1661000.0         NaN   \n",
       "Short Term Debt Issuance                         1047000.0    625000.0   \n",
       "Net Long Term Debt Issuance                      -237000.0   -224000.0   \n",
       "Long Term Debt Payments                          -237000.0   -224000.0   \n",
       "Long Term Debt Issuance                                NaN         NaN   \n",
       "Investing Cash Flow                              -129000.0  -1506000.0   \n",
       "Cash Flow From Continuing Investing Activities   -129000.0  -1506000.0   \n",
       "Net Other Investing Changes                            NaN   -904000.0   \n",
       "Net PPE Purchase And Sale                        -129000.0   -602000.0   \n",
       "Sale Of PPE                                        45000.0         0.0   \n",
       "Purchase Of PPE                                  -174000.0   -602000.0   \n",
       "Operating Cash Flow                             -4831000.0 -14536000.0   \n",
       "Cash Flow From Continuing Operating Activities  -4831000.0 -14536000.0   \n",
       "Change In Working Capital                        7023000.0   1719000.0   \n",
       "Change In Other Working Capital                   239000.0  -1098000.0   \n",
       "Change In Other Current Liabilities              -260000.0    394000.0   \n",
       "Change In Other Current Assets                   2147000.0    898000.0   \n",
       "Change In Payables And Accrued Expense           2047000.0   2234000.0   \n",
       "Change In Accrued Expense                        -557000.0   -181000.0   \n",
       "Change In Payable                                2604000.0   2415000.0   \n",
       "Change In Account Payable                        2551000.0   2453000.0   \n",
       "Change In Tax Payable                              53000.0    -38000.0   \n",
       "Change In Income Tax Payable                       53000.0    -38000.0   \n",
       "Change In Receivables                            2850000.0   -709000.0   \n",
       "Changes In Account Receivables                   1212000.0     48000.0   \n",
       "Other Non Cash Items                                   NaN  -1409000.0   \n",
       "Stock Based Compensation                          310000.0    219000.0   \n",
       "Asset Impairment Charge                          1795000.0   2503000.0   \n",
       "Depreciation Amortization Depletion               933000.0    933000.0   \n",
       "Depreciation And Amortization                     933000.0    933000.0   \n",
       "Operating Gains Losses                            261000.0     13000.0   \n",
       "Gain Loss On Sale Of PPE                          261000.0     13000.0   \n",
       "Net Income From Continuing Operations          -15153000.0 -18514000.0   \n",
       "\n",
       "                                                2021-12-31  2020-12-31  \n",
       "Free Cash Flow                                 -13904000.0   -947000.0  \n",
       "Repurchase Of Capital Stock                            NaN         0.0  \n",
       "Repayment Of Debt                                -129000.0    -93000.0  \n",
       "Issuance Of Debt                                       0.0   4949000.0  \n",
       "Issuance Of Capital Stock                       19984000.0         0.0  \n",
       "Capital Expenditure                              -240000.0   -428000.0  \n",
       "Interest Paid Supplemental Data                   212000.0    153000.0  \n",
       "Income Tax Paid Supplemental Data                 151000.0     86000.0  \n",
       "End Cash Position                               19202000.0  13706000.0  \n",
       "Beginning Cash Position                         13706000.0   8307000.0  \n",
       "Changes In Cash                                  5496000.0   5399000.0  \n",
       "Financing Cash Flow                             19400000.0   6346000.0  \n",
       "Cash Flow From Continuing Financing Activities  19400000.0   6346000.0  \n",
       "Net Other Financing Charges                            NaN         NaN  \n",
       "Net Common Stock Issuance                       19984000.0         0.0  \n",
       "Common Stock Payments                                  NaN         0.0  \n",
       "Common Stock Issuance                           19984000.0         0.0  \n",
       "Net Issuance Payments Of Debt                    -584000.0   6346000.0  \n",
       "Net Short Term Debt Issuance                     -455000.0   1490000.0  \n",
       "Short Term Debt Payments                               NaN         NaN  \n",
       "Short Term Debt Issuance                               NaN         NaN  \n",
       "Net Long Term Debt Issuance                      -129000.0   4856000.0  \n",
       "Long Term Debt Payments                          -129000.0    -93000.0  \n",
       "Long Term Debt Issuance                                0.0   4949000.0  \n",
       "Investing Cash Flow                              -240000.0   -428000.0  \n",
       "Cash Flow From Continuing Investing Activities   -240000.0   -428000.0  \n",
       "Net Other Investing Changes                            NaN         NaN  \n",
       "Net PPE Purchase And Sale                        -240000.0   -428000.0  \n",
       "Sale Of PPE                                            NaN         NaN  \n",
       "Purchase Of PPE                                  -240000.0   -428000.0  \n",
       "Operating Cash Flow                            -13664000.0   -519000.0  \n",
       "Cash Flow From Continuing Operating Activities -13664000.0   -519000.0  \n",
       "Change In Working Capital                       -3861000.0   -566000.0  \n",
       "Change In Other Working Capital                   796000.0  -4180000.0  \n",
       "Change In Other Current Liabilities               -40000.0    121000.0  \n",
       "Change In Other Current Assets                  -3087000.0    -46000.0  \n",
       "Change In Payables And Accrued Expense          -1540000.0    121000.0  \n",
       "Change In Accrued Expense                       -1365000.0   1301000.0  \n",
       "Change In Payable                                -175000.0  -1180000.0  \n",
       "Change In Account Payable                        -137000.0  -1123000.0  \n",
       "Change In Tax Payable                             -38000.0    -57000.0  \n",
       "Change In Income Tax Payable                      -38000.0    -57000.0  \n",
       "Change In Receivables                              10000.0   3418000.0  \n",
       "Changes In Account Receivables                     97000.0   3646000.0  \n",
       "Other Non Cash Items                                   NaN         NaN  \n",
       "Stock Based Compensation                          270000.0    223000.0  \n",
       "Asset Impairment Charge                                0.0         NaN  \n",
       "Depreciation Amortization Depletion               561000.0    449000.0  \n",
       "Depreciation And Amortization                     561000.0    449000.0  \n",
       "Operating Gains Losses                          -4949000.0         NaN  \n",
       "Gain Loss On Sale Of PPE                               0.0         NaN  \n",
       "Net Income From Continuing Operations           -5685000.0   -625000.0  "
      ]
     },
     "metadata": {},
     "output_type": "display_data"
    },
    {
     "data": {
      "application/vnd.microsoft.datawrangler.viewer.v0+json": {
       "columns": [
        {
         "name": "index",
         "rawType": "object",
         "type": "string"
        },
        {
         "name": "2023-12-31 00:00:00",
         "rawType": "object",
         "type": "unknown"
        },
        {
         "name": "2022-12-31 00:00:00",
         "rawType": "object",
         "type": "unknown"
        },
        {
         "name": "2021-12-31 00:00:00",
         "rawType": "object",
         "type": "unknown"
        },
        {
         "name": "2020-12-31 00:00:00",
         "rawType": "object",
         "type": "unknown"
        }
       ],
       "ref": "2cc58339-e904-49fc-acd3-cba402d3205f",
       "rows": [
        [
         "Ordinary Shares Number",
         "5156583.0",
         "4475077.0",
         "4403834.0",
         "3445085.0"
        ],
        [
         "Share Issued",
         "5156583.0",
         "4475077.0",
         "4403834.0",
         "3445085.0"
        ],
        [
         "Net Debt",
         "432000.0",
         null,
         null,
         null
        ],
        [
         "Total Debt",
         "9345000.0",
         "10727000.0",
         "6436000.0",
         "8589000.0"
        ],
        [
         "Tangible Book Value",
         "-2275000.0",
         "9605000.0",
         "27471000.0",
         "12903000.0"
        ],
        [
         "Invested Capital",
         "-508000.0",
         "11986000.0",
         "29226000.0",
         "20063000.0"
        ],
        [
         "Working Capital",
         "-2221000.0",
         "7113000.0",
         "26263000.0",
         "14039000.0"
        ],
        [
         "Net Tangible Assets",
         "-2275000.0",
         "9605000.0",
         "27471000.0",
         "12903000.0"
        ],
        [
         "Capital Lease Obligations",
         "8298000.0",
         "9066000.0",
         "5401000.0",
         "2149000.0"
        ],
        [
         "Common Stock Equity",
         "-1555000.0",
         "10325000.0",
         "28191000.0",
         "13623000.0"
        ],
        [
         "Total Capitalization",
         "-1555000.0",
         "10325000.0",
         "29226000.0",
         "16356000.0"
        ],
        [
         "Total Equity Gross Minority Interest",
         "-1555000.0",
         "10325000.0",
         "28191000.0",
         "13623000.0"
        ],
        [
         "Stockholders Equity",
         "-1555000.0",
         "10325000.0",
         "28191000.0",
         "13623000.0"
        ],
        [
         "Retained Earnings",
         "-62914000.0",
         "-47761000.0",
         "-29247000.0",
         "-23562000.0"
        ],
        [
         "Additional Paid In Capital",
         "61354000.0",
         "58082000.0",
         "57403000.0",
         "37157000.0"
        ],
        [
         "Capital Stock",
         "5000.0",
         "4000.0",
         "35000.0",
         "28000.0"
        ],
        [
         "Common Stock",
         "5000.0",
         "4000.0",
         "35000.0",
         "28000.0"
        ],
        [
         "Total Liabilities Net Minority Interest",
         "20342000.0",
         "19698000.0",
         "13878000.0",
         "16815000.0"
        ],
        [
         "Total Non Current Liabilities Net Minority Interest",
         "6684000.0",
         "7642000.0",
         "5047000.0",
         "4378000.0"
        ],
        [
         "Non Current Deferred Liabilities",
         "375000.0",
         "425000.0",
         "0.0",
         "1037000.0"
        ],
        [
         "Non Current Deferred Revenue",
         "375000.0",
         "425000.0",
         "0.0",
         null
        ],
        [
         "Non Current Deferred Taxes Liabilities",
         null,
         null,
         "0.0",
         "1037000.0"
        ],
        [
         "Long Term Debt And Capital Lease Obligation",
         "6309000.0",
         "7217000.0",
         "5047000.0",
         "3341000.0"
        ],
        [
         "Long Term Capital Lease Obligation",
         "6309000.0",
         "7217000.0",
         "4012000.0",
         "608000.0"
        ],
        [
         "Long Term Debt",
         null,
         null,
         "1035000.0",
         "2733000.0"
        ],
        [
         "Current Liabilities",
         "13658000.0",
         "12056000.0",
         "8831000.0",
         "12437000.0"
        ],
        [
         "Current Deferred Liabilities",
         "1422000.0",
         "1023000.0",
         "2595000.0",
         "1262000.0"
        ],
        [
         "Current Deferred Revenue",
         "1422000.0",
         "1023000.0",
         "2058000.0",
         "1262000.0"
        ],
        [
         "Current Deferred Taxes Liabilities",
         null,
         "0.0",
         "537000.0",
         "0.0"
        ],
        [
         "Current Debt And Capital Lease Obligation",
         "3036000.0",
         "3510000.0",
         "1389000.0",
         "5248000.0"
        ],
        [
         "Current Capital Lease Obligation",
         "1989000.0",
         "1849000.0",
         "1389000.0",
         "1541000.0"
        ],
        [
         "Current Debt",
         "1047000.0",
         "1661000.0",
         null,
         "3707000.0"
        ],
        [
         "Other Current Borrowings",
         null,
         "1661000.0",
         null,
         "3707000.0"
        ],
        [
         "Line Of Credit",
         "1047000.0",
         "1661000.0",
         null,
         null
        ],
        [
         "Pensionand Other Post Retirement Benefit Plans Current",
         "1445000.0",
         "2002000.0",
         "2183000.0",
         "3048000.0"
        ],
        [
         "Current Provisions",
         "171000.0",
         "511000.0",
         null,
         null
        ],
        [
         "Payables And Accrued Expenses",
         "7584000.0",
         "5010000.0",
         "2664000.0",
         "2879000.0"
        ],
        [
         "Current Accrued Expenses",
         "0.0",
         "17000.0",
         "104000.0",
         "215000.0"
        ],
        [
         "Payables",
         "7584000.0",
         "4993000.0",
         "2560000.0",
         "2664000.0"
        ],
        [
         "Other Payable",
         "446000.0",
         "509000.0",
         "491000.0",
         "420000.0"
        ],
        [
         "Total Tax Payable",
         "133000.0",
         "30000.0",
         "68000.0",
         "106000.0"
        ],
        [
         "Income Tax Payable",
         "83000.0",
         "30000.0",
         "33000.0",
         "83000.0"
        ],
        [
         "Accounts Payable",
         "7005000.0",
         "4454000.0",
         "2001000.0",
         "2138000.0"
        ],
        [
         "Total Assets",
         "18787000.0",
         "30023000.0",
         "42069000.0",
         "30438000.0"
        ],
        [
         "Total Non Current Assets",
         "7350000.0",
         "10854000.0",
         "6975000.0",
         "3962000.0"
        ],
        [
         "Other Non Current Assets",
         "191000.0",
         "305000.0",
         "306000.0",
         null
        ],
        [
         "Non Current Prepaid Assets",
         null,
         null,
         "306000.0",
         "351000.0"
        ],
        [
         "Goodwill And Other Intangible Assets",
         "720000.0",
         "720000.0",
         "720000.0",
         "720000.0"
        ],
        [
         "Goodwill",
         "720000.0",
         "720000.0",
         "720000.0",
         "720000.0"
        ],
        [
         "Net PPE",
         "6439000.0",
         "9829000.0",
         "5949000.0",
         "2891000.0"
        ]
       ],
       "shape": {
        "columns": 4,
        "rows": 69
       }
      },
      "text/html": [
       "<div>\n",
       "<style scoped>\n",
       "    .dataframe tbody tr th:only-of-type {\n",
       "        vertical-align: middle;\n",
       "    }\n",
       "\n",
       "    .dataframe tbody tr th {\n",
       "        vertical-align: top;\n",
       "    }\n",
       "\n",
       "    .dataframe thead th {\n",
       "        text-align: right;\n",
       "    }\n",
       "</style>\n",
       "<table border=\"1\" class=\"dataframe\">\n",
       "  <thead>\n",
       "    <tr style=\"text-align: right;\">\n",
       "      <th></th>\n",
       "      <th>2023-12-31</th>\n",
       "      <th>2022-12-31</th>\n",
       "      <th>2021-12-31</th>\n",
       "      <th>2020-12-31</th>\n",
       "    </tr>\n",
       "  </thead>\n",
       "  <tbody>\n",
       "    <tr>\n",
       "      <th>Ordinary Shares Number</th>\n",
       "      <td>5156583.0</td>\n",
       "      <td>4475077.0</td>\n",
       "      <td>4403834.0</td>\n",
       "      <td>3445085.0</td>\n",
       "    </tr>\n",
       "    <tr>\n",
       "      <th>Share Issued</th>\n",
       "      <td>5156583.0</td>\n",
       "      <td>4475077.0</td>\n",
       "      <td>4403834.0</td>\n",
       "      <td>3445085.0</td>\n",
       "    </tr>\n",
       "    <tr>\n",
       "      <th>Net Debt</th>\n",
       "      <td>432000.0</td>\n",
       "      <td>NaN</td>\n",
       "      <td>NaN</td>\n",
       "      <td>NaN</td>\n",
       "    </tr>\n",
       "    <tr>\n",
       "      <th>Total Debt</th>\n",
       "      <td>9345000.0</td>\n",
       "      <td>10727000.0</td>\n",
       "      <td>6436000.0</td>\n",
       "      <td>8589000.0</td>\n",
       "    </tr>\n",
       "    <tr>\n",
       "      <th>Tangible Book Value</th>\n",
       "      <td>-2275000.0</td>\n",
       "      <td>9605000.0</td>\n",
       "      <td>27471000.0</td>\n",
       "      <td>12903000.0</td>\n",
       "    </tr>\n",
       "    <tr>\n",
       "      <th>...</th>\n",
       "      <td>...</td>\n",
       "      <td>...</td>\n",
       "      <td>...</td>\n",
       "      <td>...</td>\n",
       "    </tr>\n",
       "    <tr>\n",
       "      <th>Notes Receivable</th>\n",
       "      <td>NaN</td>\n",
       "      <td>NaN</td>\n",
       "      <td>NaN</td>\n",
       "      <td>0.0</td>\n",
       "    </tr>\n",
       "    <tr>\n",
       "      <th>Accounts Receivable</th>\n",
       "      <td>10106000.0</td>\n",
       "      <td>9154000.0</td>\n",
       "      <td>8498000.0</td>\n",
       "      <td>6720000.0</td>\n",
       "    </tr>\n",
       "    <tr>\n",
       "      <th>Cash Cash Equivalents And Short Term Investments</th>\n",
       "      <td>615000.0</td>\n",
       "      <td>3464000.0</td>\n",
       "      <td>19202000.0</td>\n",
       "      <td>13706000.0</td>\n",
       "    </tr>\n",
       "    <tr>\n",
       "      <th>Cash And Cash Equivalents</th>\n",
       "      <td>615000.0</td>\n",
       "      <td>3464000.0</td>\n",
       "      <td>19202000.0</td>\n",
       "      <td>13706000.0</td>\n",
       "    </tr>\n",
       "    <tr>\n",
       "      <th>Cash Financial</th>\n",
       "      <td>615000.0</td>\n",
       "      <td>3464000.0</td>\n",
       "      <td>19202000.0</td>\n",
       "      <td>13706000.0</td>\n",
       "    </tr>\n",
       "  </tbody>\n",
       "</table>\n",
       "<p>69 rows × 4 columns</p>\n",
       "</div>"
      ],
      "text/plain": [
       "                                                  2023-12-31  2022-12-31  \\\n",
       "Ordinary Shares Number                             5156583.0   4475077.0   \n",
       "Share Issued                                       5156583.0   4475077.0   \n",
       "Net Debt                                            432000.0         NaN   \n",
       "Total Debt                                         9345000.0  10727000.0   \n",
       "Tangible Book Value                               -2275000.0   9605000.0   \n",
       "...                                                      ...         ...   \n",
       "Notes Receivable                                         NaN         NaN   \n",
       "Accounts Receivable                               10106000.0   9154000.0   \n",
       "Cash Cash Equivalents And Short Term Investments    615000.0   3464000.0   \n",
       "Cash And Cash Equivalents                           615000.0   3464000.0   \n",
       "Cash Financial                                      615000.0   3464000.0   \n",
       "\n",
       "                                                  2021-12-31  2020-12-31  \n",
       "Ordinary Shares Number                             4403834.0   3445085.0  \n",
       "Share Issued                                       4403834.0   3445085.0  \n",
       "Net Debt                                                 NaN         NaN  \n",
       "Total Debt                                         6436000.0   8589000.0  \n",
       "Tangible Book Value                               27471000.0  12903000.0  \n",
       "...                                                      ...         ...  \n",
       "Notes Receivable                                         NaN         0.0  \n",
       "Accounts Receivable                                8498000.0   6720000.0  \n",
       "Cash Cash Equivalents And Short Term Investments  19202000.0  13706000.0  \n",
       "Cash And Cash Equivalents                         19202000.0  13706000.0  \n",
       "Cash Financial                                    19202000.0  13706000.0  \n",
       "\n",
       "[69 rows x 4 columns]"
      ]
     },
     "metadata": {},
     "output_type": "display_data"
    },
    {
     "data": {
      "application/vnd.microsoft.datawrangler.viewer.v0+json": {
       "columns": [
        {
         "name": "index",
         "rawType": "object",
         "type": "string"
        },
        {
         "name": "2023-12-31 00:00:00",
         "rawType": "object",
         "type": "unknown"
        },
        {
         "name": "2022-12-31 00:00:00",
         "rawType": "object",
         "type": "unknown"
        },
        {
         "name": "2021-12-31 00:00:00",
         "rawType": "object",
         "type": "unknown"
        },
        {
         "name": "2020-12-31 00:00:00",
         "rawType": "object",
         "type": "unknown"
        }
       ],
       "ref": "fa624bc9-f843-4bc2-84e3-c31f4d858bdd",
       "rows": [
        [
         "Tax Effect Of Unusual Items",
         "0.0",
         "0.0",
         "0.0",
         "0.0"
        ],
        [
         "Tax Rate For Calcs",
         "0.21",
         "0.21",
         "0.27",
         "0.27"
        ],
        [
         "Normalized EBITDA",
         "-13897000.0",
         "-17319000.0",
         "-4852000.0",
         "80000.0"
        ],
        [
         "Net Income From Continuing Operation Net Minority Interest",
         "-15153000.0",
         "-18514000.0",
         "-5685000.0",
         "-625000.0"
        ],
        [
         "Reconciled Depreciation",
         "933000.0",
         "933000.0",
         "561000.0",
         "449000.0"
        ],
        [
         "Reconciled Cost Of Revenue",
         "39402000.0",
         "44401000.0",
         "37053000.0",
         "55998000.0"
        ],
        [
         "EBITDA",
         "-13897000.0",
         "-17319000.0",
         "-4852000.0",
         "80000.0"
        ],
        [
         "EBIT",
         "-14830000.0",
         "-18252000.0",
         "-5413000.0",
         "-369000.0"
        ],
        [
         "Net Interest Income",
         "-219000.0",
         "-223000.0",
         "-212000.0",
         "-153000.0"
        ],
        [
         "Interest Expense",
         "219000.0",
         "223000.0",
         "212000.0",
         "153000.0"
        ],
        [
         "Normalized Income",
         "-15153000.0",
         "-18514000.0",
         "-5685000.0",
         "-625000.0"
        ],
        [
         "Net Income From Continuing And Discontinued Operation",
         "-15153000.0",
         "-18514000.0",
         "-5685000.0",
         "-625000.0"
        ],
        [
         "Total Expenses",
         "53929000.0",
         "58516000.0",
         "49886000.0",
         "64832000.0"
        ],
        [
         "Total Operating Income As Reported",
         "-14893000.0",
         "-18327000.0",
         "-13476000.0",
         "-383000.0"
        ],
        [
         "Diluted Average Shares",
         "4996000.0",
         "4447000.0",
         "3986000.0",
         "3434250.0"
        ],
        [
         "Basic Average Shares",
         "4996000.0",
         "4447000.0",
         "3986000.0",
         "3434250.0"
        ],
        [
         "Diluted EPS",
         "-3.03",
         "-4.16",
         "-1.44",
         "-0.16"
        ],
        [
         "Basic EPS",
         "-3.03",
         "-4.16",
         "-1.44",
         "-0.16"
        ],
        [
         "Diluted NI Availto Com Stockholders",
         "-15153000.0",
         "-18514000.0",
         "-5685000.0",
         "-625000.0"
        ],
        [
         "Net Income Common Stockholders",
         "-15153000.0",
         "-18514000.0",
         "-5685000.0",
         "-625000.0"
        ],
        [
         "Net Income",
         "-15153000.0",
         "-18514000.0",
         "-5685000.0",
         "-625000.0"
        ],
        [
         "Net Income Including Noncontrolling Interests",
         "-15153000.0",
         "-18514000.0",
         "-5685000.0",
         "-625000.0"
        ],
        [
         "Net Income Continuous Operations",
         "-15153000.0",
         "-18514000.0",
         "-5685000.0",
         "-625000.0"
        ],
        [
         "Tax Provision",
         "104000.0",
         "39000.0",
         "60000.0",
         "103000.0"
        ],
        [
         "Pretax Income",
         "-15049000.0",
         "-18475000.0",
         "-5625000.0",
         "-522000.0"
        ],
        [
         "Other Income Expense",
         "63000.0",
         "75000.0",
         "8063000.0",
         "14000.0"
        ],
        [
         "Other Non Operating Income Expenses",
         "63000.0",
         "75000.0",
         "8063000.0",
         "14000.0"
        ],
        [
         "Net Non Operating Interest Income Expense",
         "-219000.0",
         "-223000.0",
         "-212000.0",
         "-153000.0"
        ],
        [
         "Interest Expense Non Operating",
         "219000.0",
         "223000.0",
         "212000.0",
         "153000.0"
        ],
        [
         "Operating Income",
         "-14893000.0",
         "-18327000.0",
         "-13476000.0",
         "-383000.0"
        ],
        [
         "Operating Expense",
         "14527000.0",
         "14115000.0",
         "12833000.0",
         "8834000.0"
        ],
        [
         "Selling General And Administration",
         "14527000.0",
         "14115000.0",
         "12833000.0",
         "8834000.0"
        ],
        [
         "Gross Profit",
         "-366000.0",
         "-4212000.0",
         "-643000.0",
         "8451000.0"
        ],
        [
         "Cost Of Revenue",
         "39402000.0",
         "44401000.0",
         "37053000.0",
         "55998000.0"
        ],
        [
         "Total Revenue",
         "39036000.0",
         "40189000.0",
         "36410000.0",
         "64449000.0"
        ],
        [
         "Operating Revenue",
         "39036000.0",
         "40189000.0",
         "36410000.0",
         "64449000.0"
        ]
       ],
       "shape": {
        "columns": 4,
        "rows": 36
       }
      },
      "text/html": [
       "<div>\n",
       "<style scoped>\n",
       "    .dataframe tbody tr th:only-of-type {\n",
       "        vertical-align: middle;\n",
       "    }\n",
       "\n",
       "    .dataframe tbody tr th {\n",
       "        vertical-align: top;\n",
       "    }\n",
       "\n",
       "    .dataframe thead th {\n",
       "        text-align: right;\n",
       "    }\n",
       "</style>\n",
       "<table border=\"1\" class=\"dataframe\">\n",
       "  <thead>\n",
       "    <tr style=\"text-align: right;\">\n",
       "      <th></th>\n",
       "      <th>2023-12-31</th>\n",
       "      <th>2022-12-31</th>\n",
       "      <th>2021-12-31</th>\n",
       "      <th>2020-12-31</th>\n",
       "    </tr>\n",
       "  </thead>\n",
       "  <tbody>\n",
       "    <tr>\n",
       "      <th>Tax Effect Of Unusual Items</th>\n",
       "      <td>0.0</td>\n",
       "      <td>0.0</td>\n",
       "      <td>0.0</td>\n",
       "      <td>0.0</td>\n",
       "    </tr>\n",
       "    <tr>\n",
       "      <th>Tax Rate For Calcs</th>\n",
       "      <td>0.21</td>\n",
       "      <td>0.21</td>\n",
       "      <td>0.27</td>\n",
       "      <td>0.27</td>\n",
       "    </tr>\n",
       "    <tr>\n",
       "      <th>Normalized EBITDA</th>\n",
       "      <td>-13897000.0</td>\n",
       "      <td>-17319000.0</td>\n",
       "      <td>-4852000.0</td>\n",
       "      <td>80000.0</td>\n",
       "    </tr>\n",
       "    <tr>\n",
       "      <th>Net Income From Continuing Operation Net Minority Interest</th>\n",
       "      <td>-15153000.0</td>\n",
       "      <td>-18514000.0</td>\n",
       "      <td>-5685000.0</td>\n",
       "      <td>-625000.0</td>\n",
       "    </tr>\n",
       "    <tr>\n",
       "      <th>Reconciled Depreciation</th>\n",
       "      <td>933000.0</td>\n",
       "      <td>933000.0</td>\n",
       "      <td>561000.0</td>\n",
       "      <td>449000.0</td>\n",
       "    </tr>\n",
       "    <tr>\n",
       "      <th>Reconciled Cost Of Revenue</th>\n",
       "      <td>39402000.0</td>\n",
       "      <td>44401000.0</td>\n",
       "      <td>37053000.0</td>\n",
       "      <td>55998000.0</td>\n",
       "    </tr>\n",
       "    <tr>\n",
       "      <th>EBITDA</th>\n",
       "      <td>-13897000.0</td>\n",
       "      <td>-17319000.0</td>\n",
       "      <td>-4852000.0</td>\n",
       "      <td>80000.0</td>\n",
       "    </tr>\n",
       "    <tr>\n",
       "      <th>EBIT</th>\n",
       "      <td>-14830000.0</td>\n",
       "      <td>-18252000.0</td>\n",
       "      <td>-5413000.0</td>\n",
       "      <td>-369000.0</td>\n",
       "    </tr>\n",
       "    <tr>\n",
       "      <th>Net Interest Income</th>\n",
       "      <td>-219000.0</td>\n",
       "      <td>-223000.0</td>\n",
       "      <td>-212000.0</td>\n",
       "      <td>-153000.0</td>\n",
       "    </tr>\n",
       "    <tr>\n",
       "      <th>Interest Expense</th>\n",
       "      <td>219000.0</td>\n",
       "      <td>223000.0</td>\n",
       "      <td>212000.0</td>\n",
       "      <td>153000.0</td>\n",
       "    </tr>\n",
       "    <tr>\n",
       "      <th>Normalized Income</th>\n",
       "      <td>-15153000.0</td>\n",
       "      <td>-18514000.0</td>\n",
       "      <td>-5685000.0</td>\n",
       "      <td>-625000.0</td>\n",
       "    </tr>\n",
       "    <tr>\n",
       "      <th>Net Income From Continuing And Discontinued Operation</th>\n",
       "      <td>-15153000.0</td>\n",
       "      <td>-18514000.0</td>\n",
       "      <td>-5685000.0</td>\n",
       "      <td>-625000.0</td>\n",
       "    </tr>\n",
       "    <tr>\n",
       "      <th>Total Expenses</th>\n",
       "      <td>53929000.0</td>\n",
       "      <td>58516000.0</td>\n",
       "      <td>49886000.0</td>\n",
       "      <td>64832000.0</td>\n",
       "    </tr>\n",
       "    <tr>\n",
       "      <th>Total Operating Income As Reported</th>\n",
       "      <td>-14893000.0</td>\n",
       "      <td>-18327000.0</td>\n",
       "      <td>-13476000.0</td>\n",
       "      <td>-383000.0</td>\n",
       "    </tr>\n",
       "    <tr>\n",
       "      <th>Diluted Average Shares</th>\n",
       "      <td>4996000.0</td>\n",
       "      <td>4447000.0</td>\n",
       "      <td>3986000.0</td>\n",
       "      <td>3434250.0</td>\n",
       "    </tr>\n",
       "    <tr>\n",
       "      <th>Basic Average Shares</th>\n",
       "      <td>4996000.0</td>\n",
       "      <td>4447000.0</td>\n",
       "      <td>3986000.0</td>\n",
       "      <td>3434250.0</td>\n",
       "    </tr>\n",
       "    <tr>\n",
       "      <th>Diluted EPS</th>\n",
       "      <td>-3.03</td>\n",
       "      <td>-4.16</td>\n",
       "      <td>-1.44</td>\n",
       "      <td>-0.16</td>\n",
       "    </tr>\n",
       "    <tr>\n",
       "      <th>Basic EPS</th>\n",
       "      <td>-3.03</td>\n",
       "      <td>-4.16</td>\n",
       "      <td>-1.44</td>\n",
       "      <td>-0.16</td>\n",
       "    </tr>\n",
       "    <tr>\n",
       "      <th>Diluted NI Availto Com Stockholders</th>\n",
       "      <td>-15153000.0</td>\n",
       "      <td>-18514000.0</td>\n",
       "      <td>-5685000.0</td>\n",
       "      <td>-625000.0</td>\n",
       "    </tr>\n",
       "    <tr>\n",
       "      <th>Net Income Common Stockholders</th>\n",
       "      <td>-15153000.0</td>\n",
       "      <td>-18514000.0</td>\n",
       "      <td>-5685000.0</td>\n",
       "      <td>-625000.0</td>\n",
       "    </tr>\n",
       "    <tr>\n",
       "      <th>Net Income</th>\n",
       "      <td>-15153000.0</td>\n",
       "      <td>-18514000.0</td>\n",
       "      <td>-5685000.0</td>\n",
       "      <td>-625000.0</td>\n",
       "    </tr>\n",
       "    <tr>\n",
       "      <th>Net Income Including Noncontrolling Interests</th>\n",
       "      <td>-15153000.0</td>\n",
       "      <td>-18514000.0</td>\n",
       "      <td>-5685000.0</td>\n",
       "      <td>-625000.0</td>\n",
       "    </tr>\n",
       "    <tr>\n",
       "      <th>Net Income Continuous Operations</th>\n",
       "      <td>-15153000.0</td>\n",
       "      <td>-18514000.0</td>\n",
       "      <td>-5685000.0</td>\n",
       "      <td>-625000.0</td>\n",
       "    </tr>\n",
       "    <tr>\n",
       "      <th>Tax Provision</th>\n",
       "      <td>104000.0</td>\n",
       "      <td>39000.0</td>\n",
       "      <td>60000.0</td>\n",
       "      <td>103000.0</td>\n",
       "    </tr>\n",
       "    <tr>\n",
       "      <th>Pretax Income</th>\n",
       "      <td>-15049000.0</td>\n",
       "      <td>-18475000.0</td>\n",
       "      <td>-5625000.0</td>\n",
       "      <td>-522000.0</td>\n",
       "    </tr>\n",
       "    <tr>\n",
       "      <th>Other Income Expense</th>\n",
       "      <td>63000.0</td>\n",
       "      <td>75000.0</td>\n",
       "      <td>8063000.0</td>\n",
       "      <td>14000.0</td>\n",
       "    </tr>\n",
       "    <tr>\n",
       "      <th>Other Non Operating Income Expenses</th>\n",
       "      <td>63000.0</td>\n",
       "      <td>75000.0</td>\n",
       "      <td>8063000.0</td>\n",
       "      <td>14000.0</td>\n",
       "    </tr>\n",
       "    <tr>\n",
       "      <th>Net Non Operating Interest Income Expense</th>\n",
       "      <td>-219000.0</td>\n",
       "      <td>-223000.0</td>\n",
       "      <td>-212000.0</td>\n",
       "      <td>-153000.0</td>\n",
       "    </tr>\n",
       "    <tr>\n",
       "      <th>Interest Expense Non Operating</th>\n",
       "      <td>219000.0</td>\n",
       "      <td>223000.0</td>\n",
       "      <td>212000.0</td>\n",
       "      <td>153000.0</td>\n",
       "    </tr>\n",
       "    <tr>\n",
       "      <th>Operating Income</th>\n",
       "      <td>-14893000.0</td>\n",
       "      <td>-18327000.0</td>\n",
       "      <td>-13476000.0</td>\n",
       "      <td>-383000.0</td>\n",
       "    </tr>\n",
       "    <tr>\n",
       "      <th>Operating Expense</th>\n",
       "      <td>14527000.0</td>\n",
       "      <td>14115000.0</td>\n",
       "      <td>12833000.0</td>\n",
       "      <td>8834000.0</td>\n",
       "    </tr>\n",
       "    <tr>\n",
       "      <th>Selling General And Administration</th>\n",
       "      <td>14527000.0</td>\n",
       "      <td>14115000.0</td>\n",
       "      <td>12833000.0</td>\n",
       "      <td>8834000.0</td>\n",
       "    </tr>\n",
       "    <tr>\n",
       "      <th>Gross Profit</th>\n",
       "      <td>-366000.0</td>\n",
       "      <td>-4212000.0</td>\n",
       "      <td>-643000.0</td>\n",
       "      <td>8451000.0</td>\n",
       "    </tr>\n",
       "    <tr>\n",
       "      <th>Cost Of Revenue</th>\n",
       "      <td>39402000.0</td>\n",
       "      <td>44401000.0</td>\n",
       "      <td>37053000.0</td>\n",
       "      <td>55998000.0</td>\n",
       "    </tr>\n",
       "    <tr>\n",
       "      <th>Total Revenue</th>\n",
       "      <td>39036000.0</td>\n",
       "      <td>40189000.0</td>\n",
       "      <td>36410000.0</td>\n",
       "      <td>64449000.0</td>\n",
       "    </tr>\n",
       "    <tr>\n",
       "      <th>Operating Revenue</th>\n",
       "      <td>39036000.0</td>\n",
       "      <td>40189000.0</td>\n",
       "      <td>36410000.0</td>\n",
       "      <td>64449000.0</td>\n",
       "    </tr>\n",
       "  </tbody>\n",
       "</table>\n",
       "</div>"
      ],
      "text/plain": [
       "                                                    2023-12-31  2022-12-31  \\\n",
       "Tax Effect Of Unusual Items                                0.0         0.0   \n",
       "Tax Rate For Calcs                                        0.21        0.21   \n",
       "Normalized EBITDA                                  -13897000.0 -17319000.0   \n",
       "Net Income From Continuing Operation Net Minori... -15153000.0 -18514000.0   \n",
       "Reconciled Depreciation                               933000.0    933000.0   \n",
       "Reconciled Cost Of Revenue                          39402000.0  44401000.0   \n",
       "EBITDA                                             -13897000.0 -17319000.0   \n",
       "EBIT                                               -14830000.0 -18252000.0   \n",
       "Net Interest Income                                  -219000.0   -223000.0   \n",
       "Interest Expense                                      219000.0    223000.0   \n",
       "Normalized Income                                  -15153000.0 -18514000.0   \n",
       "Net Income From Continuing And Discontinued Ope... -15153000.0 -18514000.0   \n",
       "Total Expenses                                      53929000.0  58516000.0   \n",
       "Total Operating Income As Reported                 -14893000.0 -18327000.0   \n",
       "Diluted Average Shares                               4996000.0   4447000.0   \n",
       "Basic Average Shares                                 4996000.0   4447000.0   \n",
       "Diluted EPS                                              -3.03       -4.16   \n",
       "Basic EPS                                                -3.03       -4.16   \n",
       "Diluted NI Availto Com Stockholders                -15153000.0 -18514000.0   \n",
       "Net Income Common Stockholders                     -15153000.0 -18514000.0   \n",
       "Net Income                                         -15153000.0 -18514000.0   \n",
       "Net Income Including Noncontrolling Interests      -15153000.0 -18514000.0   \n",
       "Net Income Continuous Operations                   -15153000.0 -18514000.0   \n",
       "Tax Provision                                         104000.0     39000.0   \n",
       "Pretax Income                                      -15049000.0 -18475000.0   \n",
       "Other Income Expense                                   63000.0     75000.0   \n",
       "Other Non Operating Income Expenses                    63000.0     75000.0   \n",
       "Net Non Operating Interest Income Expense            -219000.0   -223000.0   \n",
       "Interest Expense Non Operating                        219000.0    223000.0   \n",
       "Operating Income                                   -14893000.0 -18327000.0   \n",
       "Operating Expense                                   14527000.0  14115000.0   \n",
       "Selling General And Administration                  14527000.0  14115000.0   \n",
       "Gross Profit                                         -366000.0  -4212000.0   \n",
       "Cost Of Revenue                                     39402000.0  44401000.0   \n",
       "Total Revenue                                       39036000.0  40189000.0   \n",
       "Operating Revenue                                   39036000.0  40189000.0   \n",
       "\n",
       "                                                    2021-12-31  2020-12-31  \n",
       "Tax Effect Of Unusual Items                                0.0         0.0  \n",
       "Tax Rate For Calcs                                        0.27        0.27  \n",
       "Normalized EBITDA                                   -4852000.0     80000.0  \n",
       "Net Income From Continuing Operation Net Minori...  -5685000.0   -625000.0  \n",
       "Reconciled Depreciation                               561000.0    449000.0  \n",
       "Reconciled Cost Of Revenue                          37053000.0  55998000.0  \n",
       "EBITDA                                              -4852000.0     80000.0  \n",
       "EBIT                                                -5413000.0   -369000.0  \n",
       "Net Interest Income                                  -212000.0   -153000.0  \n",
       "Interest Expense                                      212000.0    153000.0  \n",
       "Normalized Income                                   -5685000.0   -625000.0  \n",
       "Net Income From Continuing And Discontinued Ope...  -5685000.0   -625000.0  \n",
       "Total Expenses                                      49886000.0  64832000.0  \n",
       "Total Operating Income As Reported                 -13476000.0   -383000.0  \n",
       "Diluted Average Shares                               3986000.0   3434250.0  \n",
       "Basic Average Shares                                 3986000.0   3434250.0  \n",
       "Diluted EPS                                              -1.44       -0.16  \n",
       "Basic EPS                                                -1.44       -0.16  \n",
       "Diluted NI Availto Com Stockholders                 -5685000.0   -625000.0  \n",
       "Net Income Common Stockholders                      -5685000.0   -625000.0  \n",
       "Net Income                                          -5685000.0   -625000.0  \n",
       "Net Income Including Noncontrolling Interests       -5685000.0   -625000.0  \n",
       "Net Income Continuous Operations                    -5685000.0   -625000.0  \n",
       "Tax Provision                                          60000.0    103000.0  \n",
       "Pretax Income                                       -5625000.0   -522000.0  \n",
       "Other Income Expense                                 8063000.0     14000.0  \n",
       "Other Non Operating Income Expenses                  8063000.0     14000.0  \n",
       "Net Non Operating Interest Income Expense            -212000.0   -153000.0  \n",
       "Interest Expense Non Operating                        212000.0    153000.0  \n",
       "Operating Income                                   -13476000.0   -383000.0  \n",
       "Operating Expense                                   12833000.0   8834000.0  \n",
       "Selling General And Administration                  12833000.0   8834000.0  \n",
       "Gross Profit                                         -643000.0   8451000.0  \n",
       "Cost Of Revenue                                     37053000.0  55998000.0  \n",
       "Total Revenue                                       36410000.0  64449000.0  \n",
       "Operating Revenue                                   36410000.0  64449000.0  "
      ]
     },
     "metadata": {},
     "output_type": "display_data"
    }
   ],
   "source": [
    "symbol = \"ENG\"\n",
    "ticker = yf.Ticker(symbol)\n",
    "\n",
    "earning_dates = ticker.cash_flow.columns.tolist()\n",
    "display(earning_dates)\n",
    "\n",
    "if len(earning_dates) == 5:\n",
    "    earning_dates.remove(earning_dates[4])\n",
    "    print(earning_dates)\n",
    "\n",
    "cash_flow = ticker.cash_flow\n",
    "display(cash_flow)\n",
    "\n",
    "balance_sheet = ticker.balance_sheet\n",
    "display(balance_sheet)\n",
    "\n",
    "income_statement = ticker.income_stmt\n",
    "display(income_statement)\n"
   ]
  },
  {
   "cell_type": "markdown",
   "metadata": {},
   "source": [
    "#### Download annual financial data"
   ]
  },
  {
   "cell_type": "code",
   "execution_count": 65,
   "metadata": {},
   "outputs": [],
   "source": [
    "if build_new_dataset:\n",
    "    df = pd.DataFrame()\n",
    "    filtered_pd = pd.read_csv('../data/filtered_tickers.csv')\n",
    "    for symbol in tqdm(symbols, smoothing=0):\n",
    "        ticker_df = pd.DataFrame()\n",
    "        ticker = yf.Ticker(symbol)\n",
    "        try:\n",
    "            # Latest earning data\n",
    "            latest_earning_date = ticker.quarterly_cash_flow.columns.tolist()[0]\n",
    "            latest_data = {'Ticker': symbol, 'Date': latest_earning_date}\n",
    "            latest_data['3M Future Change'] = np.nan\n",
    "            latest_data['6M Future Change'] = np.nan\n",
    "            latest_data['1Y Future Change'] = np.nan\n",
    "            try:\n",
    "                latest_data['Sector'] = ticker.info['sector']\n",
    "            except:\n",
    "                latest_data['Sector'] = 'Unknown'\n",
    "            try:\n",
    "                latest_data['Industry'] = ticker.info['industry']\n",
    "            except:\n",
    "                latest_data['Industry'] = 'Unknown'\n",
    "            for column in ticker.quarterly_cash_flow[latest_earning_date].keys().tolist():\n",
    "                latest_data[column] = ticker.quarterly_cash_flow[latest_earning_date][column]\n",
    "            for column in ticker.quarterly_balance_sheet[latest_earning_date].keys().tolist():\n",
    "                latest_data[column] = ticker.quarterly_balance_sheet[latest_earning_date][column]\n",
    "            for column in ticker.quarterly_income_stmt[latest_earning_date].keys().tolist():\n",
    "                latest_data[column] = ticker.quarterly_income_stmt[latest_earning_date][column]\n",
    "            ticker_df = pd.concat([ticker_df, pd.DataFrame([latest_data])], ignore_index=True)\n",
    "\n",
    "            # Annual data\n",
    "            earning_dates = ticker.cash_flow.columns.tolist()\n",
    "            if len(earning_dates) == 5:\n",
    "                earning_dates.remove(earning_dates[4])\n",
    "            else:\n",
    "                if symbol in filtered_pd['Ticker'].tolist():\n",
    "                    filtered_pd = filtered_pd[filtered_pd['Ticker'] != symbol]\n",
    "                if debugging:\n",
    "                    print(f\"{symbol} had {len(earning_dates)} earning dates, not 5\")\n",
    "                continue\n",
    "            price_data = yf.download(symbol, period='10y', rounding=False, progress=False)\n",
    "            cash_flow = ticker.cash_flow\n",
    "            cash_flow_columns = cash_flow[earning_dates[0]].keys().tolist()\n",
    "            balance_sheet = ticker.balance_sheet\n",
    "            balance_sheet_columns = balance_sheet[earning_dates[0]].keys().tolist()\n",
    "            income_statement = ticker.income_stmt\n",
    "            income_statement_columns = income_statement[earning_dates[0]].keys().tolist()\n",
    "            for earning_date in earning_dates:\n",
    "                earning_date_data = {'Ticker': symbol, 'Date': earning_date}\n",
    "                got_price = False\n",
    "                day_offset = 0\n",
    "                while(got_price==False and day_offset > -6):\n",
    "                    try:           \n",
    "                        earning_date_data['3M Future Change'] = (\n",
    "                            float(price_data.loc[earning_date + pd.Timedelta(days=day_offset, weeks=13) , ('Close', symbol)]) / \n",
    "                            float(price_data.loc[earning_date + pd.Timedelta(days=day_offset), ('Close', symbol)]) - 1\n",
    "                        )\n",
    "                        earning_date_data['6M Future Change'] = (\n",
    "                            float(price_data.loc[earning_date + pd.Timedelta(days=day_offset, weeks=26) , ('Close', symbol)]) / \n",
    "                            float(price_data.loc[earning_date + pd.Timedelta(days=day_offset), ('Close', symbol)]) - 1\n",
    "                        )\n",
    "                        earning_date_data['1Y Future Change'] = (\n",
    "                            float(price_data.loc[earning_date + pd.Timedelta(days=day_offset, weeks=52) , ('Close', symbol)]) / \n",
    "                            float(price_data.loc[earning_date + pd.Timedelta(days=day_offset), ('Close', symbol)]) - 1\n",
    "                        )\n",
    "                        got_price = True\n",
    "                    except:\n",
    "                        day_offset += -1\n",
    "                try:\n",
    "                    earning_date_data['Sector'] = ticker.info['sector']\n",
    "                except:\n",
    "                    earning_date_data['Sector'] = 'Unknown'\n",
    "                try:\n",
    "                    earning_date_data['Industry'] = ticker.info['industry']\n",
    "                except:\n",
    "                    earning_date_data['Industry'] = 'Unknown'\n",
    "                for column in cash_flow_columns:\n",
    "                    earning_date_data[column] = cash_flow[earning_date][column]\n",
    "                for column in balance_sheet_columns:\n",
    "                    earning_date_data[column] = balance_sheet[earning_date][column]\n",
    "                for column in income_statement_columns:\n",
    "                    earning_date_data[column] = income_statement[earning_date][column]\n",
    "                if got_price:\n",
    "                    ticker_df = pd.concat([ticker_df, pd.DataFrame([earning_date_data])], ignore_index=True)\n",
    "\n",
    "            if len(ticker_df) != 4:\n",
    "                if symbol in filtered_pd['Ticker'].tolist():\n",
    "                    filtered_pd = filtered_pd[filtered_pd['Ticker'] != symbol]\n",
    "                if debugging:\n",
    "                    print(f'Removed {symbol} from filtered tickers because the length of the df was not 4, it was {len(ticker_df)}')\n",
    "                continue\n",
    "\n",
    "            if ticker_df.isna().sum().sum() < round(352 * minimum_feature_threshold):\n",
    "                if symbol not in filtered_pd['Ticker'].tolist():\n",
    "                    filtered_pd = pd.concat([filtered_pd, pd.DataFrame([{'Ticker': symbol}])])\n",
    "                imputer = SimpleImputer()\n",
    "                for column in ticker_df.columns.drop(['Ticker', 'Date', '3M Future Change', '6M Future Change', '1Y Future Change', 'Sector', 'Industry']):\n",
    "                    if not ticker_df[column].isna().all():\n",
    "                        ticker_df[column] = imputer.fit_transform(ticker_df[[column]])\n",
    "            else:\n",
    "                if symbol in filtered_pd['Ticker'].tolist():\n",
    "                    filtered_pd = filtered_pd[filtered_pd['Ticker'] != symbol]\n",
    "                    if debugging:\n",
    "                        print(f'Removed {symbol} from filtered tickers. Datapoints: {ticker_df.isna().sum().sum()}, Needed: {round(352 * minimum_feature_threshold)}')\n",
    "                continue\n",
    "            df = pd.concat([df, ticker_df], ignore_index=True)\n",
    "        except Exception as error:\n",
    "            if symbol in filtered_pd['Ticker'].tolist():\n",
    "                filtered_pd = filtered_pd[filtered_pd['Ticker'] != symbol]\n",
    "                if debugging:\n",
    "                    print(f'Removed {symbol} from filtered tickers because an exception was raised')\n",
    "                    print(error)\n",
    "            continue\n",
    "    filtered_pd.to_csv('../data/filtered_tickers.csv', index=False)\n",
    "    df.to_csv('../data/earnings_data.csv', index=False)\n",
    "else:\n",
    "    df = pd.read_csv('../data/earnings_data.csv')"
   ]
  },
  {
   "cell_type": "markdown",
   "metadata": {},
   "source": [
    "### Short visualisation"
   ]
  },
  {
   "cell_type": "code",
   "execution_count": 66,
   "metadata": {},
   "outputs": [],
   "source": [
    "if debugging:\n",
    "    display(df)"
   ]
  },
  {
   "cell_type": "markdown",
   "metadata": {},
   "source": [
    "### Impution and encoding"
   ]
  },
  {
   "cell_type": "code",
   "execution_count": 67,
   "metadata": {},
   "outputs": [],
   "source": [
    "imputer = SimpleImputer()\n",
    "scaler = StandardScaler()\n",
    "for column in df.columns.drop(['Ticker', 'Date', '3M Future Change', '6M Future Change', '1Y Future Change', 'Sector', 'Industry']):\n",
    "    df[column] = imputer.fit_transform(df[[column]])\n",
    "    scaler.fit(df[[column]])\n",
    "    df[column] = scaler.transform(df[[column]])\n",
    "\n",
    "le = LabelEncoder()\n",
    "for column in ['Ticker', 'Sector', 'Industry']:\n",
    "    df[column] = df[column].astype(str)\n",
    "    le.fit(df[column])\n",
    "    df[column] = le.transform(df[column])"
   ]
  },
  {
   "cell_type": "markdown",
   "metadata": {},
   "source": [
    "### Splitting"
   ]
  },
  {
   "cell_type": "code",
   "execution_count": 68,
   "metadata": {},
   "outputs": [],
   "source": [
    "pred_data = pd.DataFrame()\n",
    "train_data = pd.DataFrame()\n",
    "for i in range(int(len(df) / 4)):\n",
    "    pred_data = pd.concat([pred_data, df.iloc[[i*4]]]) \n",
    "    train_data = pd.concat([train_data, df.iloc[[1+i*4]]])\n",
    "    train_data = pd.concat([train_data, df.iloc[[2+i*4]]])\n",
    "    train_data = pd.concat([train_data, df.iloc[[3+i*4]]])\n",
    "if debugging:\n",
    "    print('Prediction Data:')\n",
    "    display(pred_data)\n",
    "    print('Train and Test Data:')\n",
    "    display(train_data)"
   ]
  },
  {
   "cell_type": "markdown",
   "metadata": {},
   "source": [
    "### Labeling"
   ]
  },
  {
   "cell_type": "code",
   "execution_count": 69,
   "metadata": {},
   "outputs": [],
   "source": [
    "X_pred = pred_data.drop(['Date', '3M Future Change', '6M Future Change', '1Y Future Change'], axis=1)\n",
    "X_train = train_data.drop(['Date', '3M Future Change', '6M Future Change', '1Y Future Change'], axis=1)\n",
    "y_train = train_data[['3M Future Change', '6M Future Change', '1Y Future Change']]\n",
    "\n",
    "X_train, X_test, y_train, y_test = train_test_split(\n",
    "    X_train,\n",
    "    y_train,\n",
    "    test_size=0.15,\n",
    "    shuffle=True,\n",
    ")\n",
    "\n",
    "if debugging:\n",
    "    display(X_train)\n",
    "    display(y_train)\n",
    "    display(X_test)\n",
    "    display(y_test)"
   ]
  },
  {
   "cell_type": "markdown",
   "metadata": {},
   "source": [
    "## Model Training"
   ]
  },
  {
   "cell_type": "code",
   "execution_count": 70,
   "metadata": {},
   "outputs": [
    {
     "name": "stdout",
     "output_type": "stream",
     "text": [
      "Iteration 1, loss = 6577.86813716\n",
      "Validation score: -319.177306\n",
      "Iteration 2, loss = 3.04576440\n",
      "Validation score: -20.615657\n",
      "Iteration 3, loss = 0.25198095\n",
      "Validation score: -0.846557\n",
      "Iteration 4, loss = 0.12939358\n",
      "Validation score: -0.116389\n",
      "Iteration 5, loss = 0.11680020\n",
      "Validation score: -4.756088\n",
      "Iteration 6, loss = 0.21121269\n",
      "Validation score: -3.004786\n",
      "Iteration 7, loss = 1.07316729\n",
      "Validation score: -0.380477\n",
      "Iteration 8, loss = 0.73964028\n",
      "Validation score: -129.536609\n",
      "Iteration 9, loss = 2.59220440\n",
      "Validation score: -23.180932\n",
      "Iteration 10, loss = 0.39226179\n",
      "Validation score: -3.127102\n",
      "Iteration 11, loss = 0.13772808\n",
      "Validation score: -0.298727\n",
      "Iteration 12, loss = 0.13233255\n",
      "Validation score: -0.177997\n",
      "Iteration 13, loss = 0.15138562\n",
      "Validation score: -0.209760\n",
      "Iteration 14, loss = 0.10344353\n",
      "Validation score: -0.178583\n",
      "Iteration 15, loss = 0.12056708\n",
      "Validation score: -0.459947\n",
      "Validation score did not improve more than tol=0.000100 for 10 consecutive epochs. Stopping.\n"
     ]
    }
   ],
   "source": [
    "if train_new_model:\n",
    "    model = MLPRegressor(\n",
    "        hidden_layer_sizes=hidden_layers,\n",
    "        learning_rate=\"adaptive\",\n",
    "        early_stopping=True,\n",
    "        verbose=True,\n",
    "        n_iter_no_change=10\n",
    "    )\n",
    "    model.fit(X_train, y_train)"
   ]
  },
  {
   "cell_type": "markdown",
   "metadata": {},
   "source": [
    "## Testing and benchmarking"
   ]
  },
  {
   "cell_type": "code",
   "execution_count": 71,
   "metadata": {},
   "outputs": [
    {
     "data": {
      "image/png": "[encoded data removed]",
      "text/plain": [
       "<Figure size 1100x600 with 1 Axes>"
      ]
     },
     "metadata": {},
     "output_type": "display_data"
    },
    {
     "name": "stdout",
     "output_type": "stream",
     "text": [
      "3M Future Change - R²: -0.1149\n",
      "3M Future Change - MSE: 0.0731\n",
      "3M Future Change - MAE: 0.1655\n"
     ]
    },
    {
     "data": {
      "image/png": "[encoded data removed]",
      "text/plain": [
       "<Figure size 1100x600 with 1 Axes>"
      ]
     },
     "metadata": {},
     "output_type": "display_data"
    },
    {
     "name": "stdout",
     "output_type": "stream",
     "text": [
      "6M Future Change - R²: -0.0013\n",
      "6M Future Change - MSE: 209.8343\n",
      "6M Future Change - MAE: 0.7114\n"
     ]
    },
    {
     "data": {
      "image/png": "[encoded data removed]",
      "text/plain": [
       "<Figure size 1100x600 with 1 Axes>"
      ]
     },
     "metadata": {},
     "output_type": "display_data"
    },
    {
     "name": "stdout",
     "output_type": "stream",
     "text": [
      "1Y Future Change - R²: -0.0543\n",
      "1Y Future Change - MSE: 0.5421\n",
      "1Y Future Change - MAE: 0.3816\n",
      "\n",
      "Overall Scores:\n",
      "Mean - R²: -0.0568\n",
      "Mean - MSE: 70.1499\n",
      "Mean - MAE: 0.4195\n"
     ]
    }
   ],
   "source": [
    "if train_new_model:\n",
    "    y_test_pred = model.predict(X_test)\n",
    "\n",
    "    for i, target in enumerate(['3M Future Change', '6M Future Change', '1Y Future Change']):\n",
    "        y_test_actual = y_test[target]\n",
    "        y_test_pred_target = y_test_pred[:, i]\n",
    "\n",
    "        plt.figure(figsize=(11, 6))\n",
    "        plt.scatter(y_test_actual, y_test_pred_target, alpha=0.7, color='blue', label='Predictions')\n",
    "        plt.plot([y_test_actual.min(), y_test_actual.max()], [y_test_actual.min(), y_test_actual.max()], \n",
    "            color='red', linestyle='--', label='Perfect Fit')\n",
    "        plt.title(f'Predicted vs Actual Values ({target})')\n",
    "        plt.xlabel('Actual Values')\n",
    "        plt.ylabel('Predicted Values')\n",
    "        plt.legend()\n",
    "        plt.grid(True)\n",
    "        plt.show()\n",
    "\n",
    "        mae = mean_absolute_error(y_test_actual, y_test_pred_target)\n",
    "        mse = mean_squared_error(y_test_actual, y_test_pred_target)\n",
    "        r2 = r2_score(y_test_actual, y_test_pred_target)\n",
    "\n",
    "        print(f'{target} - R²: {r2:.4f}')\n",
    "        print(f'{target} - MSE: {mse:.4f}')\n",
    "        print(f'{target} - MAE: {mae:.4f}')\n",
    "\n",
    "    mae = mean_absolute_error(y_test, y_test_pred)\n",
    "    mse = mean_squared_error(y_test, y_test_pred)\n",
    "    r2 = r2_score(y_test, y_test_pred)\n",
    "\n",
    "    print('\\nOverall Scores:')\n",
    "    print(f'Mean - R²: {r2:.4f}')\n",
    "    print(f'Mean - MSE: {mse:.4f}')\n",
    "    print(f'Mean - MAE: {mae:.4f}')"
   ]
  },
  {
   "cell_type": "markdown",
   "metadata": {},
   "source": [
    "### Log test results"
   ]
  },
  {
   "cell_type": "code",
   "execution_count": 72,
   "metadata": {},
   "outputs": [],
   "source": [
    "if train_new_model:\n",
    "    test_results = pd.DataFrame({\n",
    "        'R²': r2,\n",
    "        'MSE': mse,\n",
    "        'MAE': mae,\n",
    "        'symbol_list': symbol_list,\n",
    "        'hidden_layer_sizes': [model.hidden_layer_sizes],\n",
    "        'max_iter': model.max_iter,\n",
    "        'n_iter_no_change': model.n_iter_no_change,\n",
    "        'learning_rate': model.learning_rate,\n",
    "        'learning_rate_init': model.learning_rate_init,\n",
    "        'batch_size': model.batch_size,\n",
    "        'tol': model.tol,\n",
    "        'alpha': model.alpha,\n",
    "        'shuffle': model.shuffle,\n",
    "    })\n",
    "    test_results.to_csv('../data/test_results.csv', mode='a', index=False)\n",
    "\n",
    "    # save model as new best if results are better than the current one\n",
    "    best_r2 = pd.read_csv('../models/best_model_results.csv').loc[0, 'R²']\n",
    "    if r2 > best_r2:\n",
    "        print(f'Old best R²: {best_r2}')\n",
    "        print(f'New best R²: {r2}')\n",
    "        print('Saving new best model...')\n",
    "        test_results.to_csv('../models/best_model_results.csv', mode='w', index=False)\n",
    "        with open('../models/best_model.pkl','wb') as f:\n",
    "            pickle.dump(model,f)\n",
    "        "
   ]
  },
  {
   "cell_type": "markdown",
   "metadata": {},
   "source": [
    "## Predictions on latest data"
   ]
  },
  {
   "cell_type": "code",
   "execution_count": 73,
   "metadata": {},
   "outputs": [
    {
     "name": "stdout",
     "output_type": "stream",
     "text": [
      "Best model R²: -0.0567826326413524\n"
     ]
    }
   ],
   "source": [
    "best_r2 = pd.read_csv('../models/best_model_results.csv').loc[0, 'R²']\n",
    "\n",
    "with open('../models/best_model.pkl', 'rb') as f:\n",
    "    model = pickle.load(f)\n",
    "    print(f'Best model R²: {best_r2}')\n"
   ]
  },
  {
   "cell_type": "code",
   "execution_count": 74,
   "metadata": {},
   "outputs": [
    {
     "data": {
      "application/vnd.microsoft.datawrangler.viewer.v0+json": {
       "columns": [
        {
         "name": "index",
         "rawType": "int64",
         "type": "integer"
        },
        {
         "name": "Ticker",
         "rawType": "object",
         "type": "string"
        },
        {
         "name": "mean (%)",
         "rawType": "float64",
         "type": "float"
        },
        {
         "name": "3m (%)",
         "rawType": "float64",
         "type": "float"
        },
        {
         "name": "6m (%)",
         "rawType": "float64",
         "type": "float"
        },
        {
         "name": "1y (%)",
         "rawType": "float64",
         "type": "float"
        }
       ],
       "ref": "e5a2f277-1e5e-46e0-9c04-50d16c98f7ba",
       "rows": [
        [
         "0",
         "A",
         "17.234779624381588",
         "4.567162307216353",
         "5.183702048859005",
         "41.9534745170694"
        ],
        [
         "1",
         "AA",
         "-1.929542108122559",
         "14.193474103990766",
         "-9.501126450972224",
         "-10.480973977386219"
        ],
        [
         "2",
         "AAT",
         "34.73869129072565",
         "-1.6346645475418558",
         "-1.9081943010607776",
         "107.75893272077958"
        ],
        [
         "3",
         "AB",
         "6.096007274359119",
         "4.818804830580727",
         "9.789002072447829",
         "3.6802149200487992"
        ],
        [
         "4",
         "ABBV",
         "0.2501564968304062",
         "2.6206627357690637",
         "4.317366508581058",
         "-6.1875597538589036"
        ],
        [
         "5",
         "ABM",
         "37.94869621932742",
         "-1.486145508147742",
         "-4.598068069983468",
         "119.93030223611345"
        ],
        [
         "6",
         "ABR",
         "16.986109873786074",
         "-0.9620295900696756",
         "-0.6076344466969928",
         "52.52799365812489"
        ],
        [
         "7",
         "ABT",
         "1.2261881781689905",
         "1.7122097681279282",
         "-0.7575846153163368",
         "2.72393938169538"
        ],
        [
         "8",
         "ACI",
         "3.7914176709191483",
         "1.1703773905419457",
         "6.675377980271777",
         "3.5284976419437215"
        ],
        [
         "9",
         "ACM",
         "3.637219414821318",
         "3.029500401562008",
         "7.657324659166918",
         "0.22483318373502786"
        ],
        [
         "10",
         "ACN",
         "3.061168078571995",
         "1.911203742672129",
         "6.36258460240529",
         "0.909715890638567"
        ],
        [
         "11",
         "ACRE",
         "20.171374553234088",
         "-0.28866912380136284",
         "7.931739071743035",
         "52.871053711760595"
        ],
        [
         "12",
         "ACT",
         "4.3607427689215115",
         "1.9466280607084991",
         "6.581917436212076",
         "4.553682809843959"
        ],
        [
         "13",
         "ADC",
         "6.740937353293636",
         "0.8429221496033975",
         "4.242419471551661",
         "15.13747043872585"
        ],
        [
         "14",
         "ADM",
         "4.1388969048595134",
         "1.962732155888803",
         "8.449693482233881",
         "2.004265076455855"
        ],
        [
         "15",
         "ADT",
         "7.672236905399337",
         "1.617487370518841",
         "3.5624321421082876",
         "17.836791203570883"
        ],
        [
         "16",
         "AEE",
         "11.187332136781643",
         "0.4626306969988355",
         "2.509954055233931",
         "30.589411658112166"
        ],
        [
         "17",
         "AEM",
         "1.6395358266128108",
         "1.8082070107979742",
         "5.760360975716656",
         "-2.6499605066761966"
        ],
        [
         "18",
         "AEO",
         "4.035783694679836",
         "0.6665309461840062",
         "12.212535839721054",
         "-0.7717157018655538"
        ],
        [
         "19",
         "AEP",
         "7.758833793377301",
         "0.7633158992629011",
         "1.708344994142639",
         "20.804840486726363"
        ],
        [
         "20",
         "AER",
         "5.899354124215622",
         "0.4470941827018444",
         "4.158761403685564",
         "13.092206786259458"
        ],
        [
         "21",
         "AES",
         "2.971336164185293",
         "0.8209868011196414",
         "-1.333539819413403",
         "9.426561510849641"
        ],
        [
         "22",
         "AFG",
         "3.3083156493932537",
         "2.443350848126983",
         "6.59878275564878",
         "0.8828133444039987"
        ],
        [
         "23",
         "AG",
         "3.5709738956704795",
         "0.5923603221581395",
         "1.6990277811204566",
         "8.421533583732844"
        ],
        [
         "24",
         "AGCO",
         "1.2262613653020642",
         "0.3550961230746219",
         "6.784145687176996",
         "-3.4604577143454245"
        ],
        [
         "25",
         "AGI",
         "1.7961804850769865",
         "1.4761350855057591",
         "5.927968297610404",
         "-2.0155619278852033"
        ],
        [
         "26",
         "AGM",
         "2.323189886632278",
         "0.18337448976895443",
         "8.95201373779106",
         "-2.1658185676631803"
        ],
        [
         "27",
         "AGM-A",
         "2.3904438827804393",
         "0.2393483503448722",
         "9.017604770368571",
         "-2.085621472372127"
        ],
        [
         "28",
         "AGO",
         "2.9295247499894246",
         "2.5412428328779395",
         "6.2733376412243995",
         "-0.026006224134064726"
        ],
        [
         "29",
         "AGRO",
         "2.226614273902939",
         "-1.9074695408653184",
         "5.045636756171657",
         "3.5416756064024795"
        ],
        [
         "30",
         "AHH",
         "-0.7166543585131503",
         "0.3314175785454898",
         "1.212130996222615",
         "-3.693511650307556"
        ],
        [
         "31",
         "AHT",
         "-3.084111359581667",
         "-0.9414181641369671",
         "-0.7885547587422523",
         "-7.522361155865783"
        ],
        [
         "32",
         "AHT-PD",
         "-3.204990630100984",
         "-0.7952311986602975",
         "-0.8852379603263346",
         "-7.934502731316319"
        ],
        [
         "33",
         "AIG",
         "2.8168679255033626",
         "0.07056315415681878",
         "8.220691735293364",
         "0.15934888705990413"
        ],
        [
         "34",
         "AIN",
         "2.6629568412903506",
         "-0.046588764543108174",
         "0.7904312450696954",
         "7.2450280433444645"
        ],
        [
         "35",
         "AIT",
         "3.52863829080479",
         "1.0388895046932802",
         "8.3027022666705",
         "1.2443231010505886"
        ],
        [
         "36",
         "AIV",
         "1.4360436359085227",
         "1.119364015911506",
         "3.167220595690728",
         "0.021546296123334252"
        ],
        [
         "37",
         "AIZ",
         "13.220427597207982",
         "9.462482582816307",
         "11.946303627341692",
         "18.252496581465945"
        ],
        [
         "38",
         "AJG",
         "5.063130297231183",
         "2.660806557466447",
         "8.984303776488977",
         "3.5442805577381247"
        ],
        [
         "39",
         "AKR",
         "-0.07524946469616516",
         "2.0790335269562745",
         "0.608762506936313",
         "-2.913544427981083"
        ],
        [
         "40",
         "AL",
         "2.556021227857037",
         "3.043356314240074",
         "2.9039694180278097",
         "1.7207379513032264"
        ],
        [
         "41",
         "ALB",
         "3.346866593213856",
         "1.7947498280169683",
         "2.202484450265045",
         "6.043365501359554"
        ],
        [
         "42",
         "ALE",
         "2.2828955338329404",
         "1.0769339030340437",
         "0.3072058212080396",
         "5.464546877256737"
        ],
        [
         "43",
         "ALEX",
         "0.7251131959548838",
         "2.1469745852302338",
         "1.8153130389516825",
         "-1.7869480363172652"
        ],
        [
         "44",
         "ALG",
         "2.3043294370806477",
         "0.6600893296449983",
         "7.999522553836141",
         "-1.746623572239197"
        ],
        [
         "45",
         "ALK",
         "3.7158279796657756",
         "-0.19163770183615783",
         "12.131077183546484",
         "-0.7919555427130007"
        ],
        [
         "46",
         "ALL",
         "7.688915925481206",
         "3.455095450442026",
         "10.448317333287465",
         "9.163334992714129"
        ],
        [
         "47",
         "ALSN",
         "4.495850651424686",
         "0.6681539507873702",
         "13.218607112411767",
         "-0.39920910892507905"
        ],
        [
         "48",
         "ALV",
         "4.420997628281468",
         "0.7334309482233126",
         "12.807796676302324",
         "-0.27823473968123513"
        ],
        [
         "49",
         "ALX",
         "2.652024006671559",
         "2.702263764415109",
         "3.681925422898222",
         "1.571882832701346"
        ]
       ],
       "shape": {
        "columns": 5,
        "rows": 1892
       }
      },
      "text/html": [
       "<div>\n",
       "<style scoped>\n",
       "    .dataframe tbody tr th:only-of-type {\n",
       "        vertical-align: middle;\n",
       "    }\n",
       "\n",
       "    .dataframe tbody tr th {\n",
       "        vertical-align: top;\n",
       "    }\n",
       "\n",
       "    .dataframe thead th {\n",
       "        text-align: right;\n",
       "    }\n",
       "</style>\n",
       "<table border=\"1\" class=\"dataframe\">\n",
       "  <thead>\n",
       "    <tr style=\"text-align: right;\">\n",
       "      <th></th>\n",
       "      <th>Ticker</th>\n",
       "      <th>mean (%)</th>\n",
       "      <th>3m (%)</th>\n",
       "      <th>6m (%)</th>\n",
       "      <th>1y (%)</th>\n",
       "    </tr>\n",
       "  </thead>\n",
       "  <tbody>\n",
       "    <tr>\n",
       "      <th>0</th>\n",
       "      <td>A</td>\n",
       "      <td>17.234780</td>\n",
       "      <td>4.567162</td>\n",
       "      <td>5.183702</td>\n",
       "      <td>41.953475</td>\n",
       "    </tr>\n",
       "    <tr>\n",
       "      <th>1</th>\n",
       "      <td>AA</td>\n",
       "      <td>-1.929542</td>\n",
       "      <td>14.193474</td>\n",
       "      <td>-9.501126</td>\n",
       "      <td>-10.480974</td>\n",
       "    </tr>\n",
       "    <tr>\n",
       "      <th>2</th>\n",
       "      <td>AAT</td>\n",
       "      <td>34.738691</td>\n",
       "      <td>-1.634665</td>\n",
       "      <td>-1.908194</td>\n",
       "      <td>107.758933</td>\n",
       "    </tr>\n",
       "    <tr>\n",
       "      <th>3</th>\n",
       "      <td>AB</td>\n",
       "      <td>6.096007</td>\n",
       "      <td>4.818805</td>\n",
       "      <td>9.789002</td>\n",
       "      <td>3.680215</td>\n",
       "    </tr>\n",
       "    <tr>\n",
       "      <th>4</th>\n",
       "      <td>ABBV</td>\n",
       "      <td>0.250156</td>\n",
       "      <td>2.620663</td>\n",
       "      <td>4.317367</td>\n",
       "      <td>-6.187560</td>\n",
       "    </tr>\n",
       "    <tr>\n",
       "      <th>...</th>\n",
       "      <td>...</td>\n",
       "      <td>...</td>\n",
       "      <td>...</td>\n",
       "      <td>...</td>\n",
       "      <td>...</td>\n",
       "    </tr>\n",
       "    <tr>\n",
       "      <th>1887</th>\n",
       "      <td>EQNR</td>\n",
       "      <td>6.424646</td>\n",
       "      <td>3.570723</td>\n",
       "      <td>8.201585</td>\n",
       "      <td>7.501630</td>\n",
       "    </tr>\n",
       "    <tr>\n",
       "      <th>1888</th>\n",
       "      <td>JD</td>\n",
       "      <td>6.216738</td>\n",
       "      <td>-0.871831</td>\n",
       "      <td>4.906257</td>\n",
       "      <td>14.615788</td>\n",
       "    </tr>\n",
       "    <tr>\n",
       "      <th>1889</th>\n",
       "      <td>PDD</td>\n",
       "      <td>5.877157</td>\n",
       "      <td>-3.126958</td>\n",
       "      <td>-1.575988</td>\n",
       "      <td>22.334417</td>\n",
       "    </tr>\n",
       "    <tr>\n",
       "      <th>1890</th>\n",
       "      <td>IQ</td>\n",
       "      <td>1.827034</td>\n",
       "      <td>-3.253030</td>\n",
       "      <td>-1.295051</td>\n",
       "      <td>10.029183</td>\n",
       "    </tr>\n",
       "    <tr>\n",
       "      <th>1891</th>\n",
       "      <td>UBER</td>\n",
       "      <td>8.563882</td>\n",
       "      <td>-4.125757</td>\n",
       "      <td>-1.360296</td>\n",
       "      <td>31.177699</td>\n",
       "    </tr>\n",
       "  </tbody>\n",
       "</table>\n",
       "<p>1892 rows × 5 columns</p>\n",
       "</div>"
      ],
      "text/plain": [
       "     Ticker   mean (%)     3m (%)    6m (%)      1y (%)\n",
       "0         A  17.234780   4.567162  5.183702   41.953475\n",
       "1        AA  -1.929542  14.193474 -9.501126  -10.480974\n",
       "2       AAT  34.738691  -1.634665 -1.908194  107.758933\n",
       "3        AB   6.096007   4.818805  9.789002    3.680215\n",
       "4      ABBV   0.250156   2.620663  4.317367   -6.187560\n",
       "...     ...        ...        ...       ...         ...\n",
       "1887   EQNR   6.424646   3.570723  8.201585    7.501630\n",
       "1888     JD   6.216738  -0.871831  4.906257   14.615788\n",
       "1889    PDD   5.877157  -3.126958 -1.575988   22.334417\n",
       "1890     IQ   1.827034  -3.253030 -1.295051   10.029183\n",
       "1891   UBER   8.563882  -4.125757 -1.360296   31.177699\n",
       "\n",
       "[1892 rows x 5 columns]"
      ]
     },
     "execution_count": 74,
     "metadata": {},
     "output_type": "execute_result"
    }
   ],
   "source": [
    "df_raw = pd.read_csv('../data/earnings_data.csv')\n",
    "\n",
    "results = []\n",
    "for i in range(len(X_pred)):\n",
    "    y_pred = model.predict(X_pred.iloc[[i]])[0]\n",
    "    y_pred_3m, y_pred_6m, y_pred_1y = y_pred\n",
    "    avg = (y_pred_3m + y_pred_6m + y_pred_1y) / 3\n",
    "    results.append({\n",
    "        'Ticker': df_raw.loc[i*4, 'Ticker'],\n",
    "        'mean (%)': avg * 100,\n",
    "        '3m (%)': y_pred_3m * 100,\n",
    "        '6m (%)': y_pred_6m * 100,\n",
    "        '1y (%)': y_pred_1y * 100\n",
    "    })\n",
    "\n",
    "results_df = pd.DataFrame(results)\n",
    "results_df"
   ]
  },
  {
   "cell_type": "code",
   "execution_count": 75,
   "metadata": {},
   "outputs": [],
   "source": [
    "def predict_ticker(ticker_str):\n",
    "    try:\n",
    "        ticker_str = str(ticker_str).upper()\n",
    "        ticker_str = ticker_str.replace(\"'\", \"\")\n",
    "        ticker_str = ticker_str.replace('\"', \"\")\n",
    "        row = results_df[results_df['Ticker'] == ticker_str]\n",
    "        if row.empty:\n",
    "            return (f\"The author was stupid and forgot to cover this obvious, famous stock. Try another.\", \"\", \"\", \"\")\n",
    "        row = row.iloc[0]\n",
    "        return (\n",
    "            f\"{row['3m (%)']:.2f}\",\n",
    "            f\"{row['6m (%)']:.2f}\",\n",
    "            f\"{row['1y (%)']:.2f}\",\n",
    "            f\"{row['mean (%)']:.2f}\",\n",
    "        )\n",
    "    except Exception as e:\n",
    "        return (f\"Error: {e}\", \"\", \"\", \"\")"
   ]
  },
  {
   "cell_type": "code",
   "execution_count": 76,
   "metadata": {
    "vscode": {
     "languageId": "javascript"
    }
   },
   "outputs": [
    {
     "ename": "AttributeError",
     "evalue": "module 'gradio' has no attribute 'Request'",
     "output_type": "error",
     "traceback": [
      "\u001b[0;31m---------------------------------------------------------------------------\u001b[0m",
      "\u001b[0;31mAttributeError\u001b[0m                            Traceback (most recent call last)",
      "Cell \u001b[0;32mIn[76], line 1\u001b[0m\n\u001b[0;32m----> 1\u001b[0m iface \u001b[38;5;241m=\u001b[39m gr\u001b[38;5;241m.\u001b[39mInterface(\n\u001b[1;32m      2\u001b[0m     fn\u001b[38;5;241m=\u001b[39mpredict_ticker,\n\u001b[1;32m      3\u001b[0m     inputs\u001b[38;5;241m=\u001b[39mgr\u001b[38;5;241m.\u001b[39mTextbox(label\u001b[38;5;241m=\u001b[39m\u001b[38;5;124m\"\u001b[39m\u001b[38;5;124mTicker e.g. \u001b[39m\u001b[38;5;124m'\u001b[39m\u001b[38;5;124mTSLA\u001b[39m\u001b[38;5;124m'\u001b[39m\u001b[38;5;124m or \u001b[39m\u001b[38;5;124m'\u001b[39m\u001b[38;5;124mMATAS.CO\u001b[39m\u001b[38;5;124m'\u001b[39m\u001b[38;5;124m\"\u001b[39m),\n\u001b[1;32m      4\u001b[0m     outputs\u001b[38;5;241m=\u001b[39m[\n\u001b[1;32m      5\u001b[0m         gr\u001b[38;5;241m.\u001b[39mTextbox(label\u001b[38;5;241m=\u001b[39m\u001b[38;5;124m\"\u001b[39m\u001b[38;5;124m3 Month Change Prediction (\u001b[39m\u001b[38;5;124m%\u001b[39m\u001b[38;5;124m)\u001b[39m\u001b[38;5;124m\"\u001b[39m),\n\u001b[1;32m      6\u001b[0m         gr\u001b[38;5;241m.\u001b[39mTextbox(label\u001b[38;5;241m=\u001b[39m\u001b[38;5;124m\"\u001b[39m\u001b[38;5;124m6 Month Change Prediction (\u001b[39m\u001b[38;5;124m%\u001b[39m\u001b[38;5;124m)\u001b[39m\u001b[38;5;124m\"\u001b[39m),\n\u001b[1;32m      7\u001b[0m         gr\u001b[38;5;241m.\u001b[39mTextbox(label\u001b[38;5;241m=\u001b[39m\u001b[38;5;124m\"\u001b[39m\u001b[38;5;124m1 Year Change Prediction (\u001b[39m\u001b[38;5;124m%\u001b[39m\u001b[38;5;124m)\u001b[39m\u001b[38;5;124m\"\u001b[39m),\n\u001b[1;32m      8\u001b[0m         gr\u001b[38;5;241m.\u001b[39mTextbox(label\u001b[38;5;241m=\u001b[39m\u001b[38;5;124m\"\u001b[39m\u001b[38;5;124mMean Change Prediction (\u001b[39m\u001b[38;5;124m%\u001b[39m\u001b[38;5;124m)\u001b[39m\u001b[38;5;124m\"\u001b[39m),\n\u001b[1;32m      9\u001b[0m     ],\n\u001b[1;32m     10\u001b[0m     title\u001b[38;5;241m=\u001b[39m\u001b[38;5;124m\"\u001b[39m\u001b[38;5;124mStock Price Prediction Model\u001b[39m\u001b[38;5;124m\"\u001b[39m,\n\u001b[1;32m     11\u001b[0m     description\u001b[38;5;241m=\u001b[39m\u001b[38;5;124m\"\u001b[39m\u001b[38;5;124m \u001b[39m\u001b[38;5;124m\"\u001b[39m\n\u001b[1;32m     12\u001b[0m )\n\u001b[1;32m     14\u001b[0m iface\u001b[38;5;241m.\u001b[39mlaunch(share\u001b[38;5;241m=\u001b[39m\u001b[38;5;28;01mTrue\u001b[39;00m)\n",
      "File \u001b[0;32m/opt/anaconda3/lib/python3.12/site-packages/gradio/interface.py:559\u001b[0m, in \u001b[0;36mInterface.__init__\u001b[0;34m(self, fn, inputs, outputs, examples, cache_examples, cache_mode, examples_per_page, example_labels, live, title, description, article, theme, flagging_mode, flagging_options, flagging_dir, flagging_callback, analytics_enabled, batch, max_batch_size, api_name, _api_mode, allow_duplication, concurrency_limit, css, css_paths, js, head, head_paths, additional_inputs, additional_inputs_accordion, submit_btn, stop_btn, clear_btn, delete_cache, show_progress, fill_width, allow_flagging, time_limit, stream_every, deep_link, **kwargs)\u001b[0m\n\u001b[1;32m    556\u001b[0m \u001b[38;5;28;01mif\u001b[39;00m duplicate_btn \u001b[38;5;129;01mis\u001b[39;00m \u001b[38;5;129;01mnot\u001b[39;00m \u001b[38;5;28;01mNone\u001b[39;00m:\n\u001b[1;32m    557\u001b[0m     duplicate_btn\u001b[38;5;241m.\u001b[39mactivate()\n\u001b[0;32m--> 559\u001b[0m \u001b[38;5;28mself\u001b[39m\u001b[38;5;241m.\u001b[39mattach_flagging_events(flag_btns, _clear_btn, _submit_event)\n\u001b[1;32m    560\u001b[0m \u001b[38;5;28mself\u001b[39m\u001b[38;5;241m.\u001b[39mrender_examples()\n\u001b[1;32m    561\u001b[0m \u001b[38;5;28mself\u001b[39m\u001b[38;5;241m.\u001b[39mrender_article()\n",
      "File \u001b[0;32m/opt/anaconda3/lib/python3.12/site-packages/gradio/interface.py:903\u001b[0m, in \u001b[0;36mInterface.attach_flagging_events\u001b[0;34m(self, flag_btns, _clear_btn, _submit_event)\u001b[0m\n\u001b[1;32m    893\u001b[0m flag_method \u001b[38;5;241m=\u001b[39m FlagMethod(\u001b[38;5;28mself\u001b[39m\u001b[38;5;241m.\u001b[39mflagging_callback, label, value)\n\u001b[1;32m    894\u001b[0m flag_btn\u001b[38;5;241m.\u001b[39mclick(\n\u001b[1;32m    895\u001b[0m     utils\u001b[38;5;241m.\u001b[39masync_lambda(\n\u001b[1;32m    896\u001b[0m         \u001b[38;5;28;01mlambda\u001b[39;00m: Button(value\u001b[38;5;241m=\u001b[39m\u001b[38;5;124m\"\u001b[39m\u001b[38;5;124mSaving...\u001b[39m\u001b[38;5;124m\"\u001b[39m, interactive\u001b[38;5;241m=\u001b[39m\u001b[38;5;28;01mFalse\u001b[39;00m)\n\u001b[0;32m   (...)\u001b[0m\n\u001b[1;32m    901\u001b[0m     show_api\u001b[38;5;241m=\u001b[39m\u001b[38;5;28;01mFalse\u001b[39;00m,\n\u001b[1;32m    902\u001b[0m )\n\u001b[0;32m--> 903\u001b[0m flag_btn\u001b[38;5;241m.\u001b[39mclick(\n\u001b[1;32m    904\u001b[0m     flag_method,\n\u001b[1;32m    905\u001b[0m     inputs\u001b[38;5;241m=\u001b[39mflag_components,\n\u001b[1;32m    906\u001b[0m     outputs\u001b[38;5;241m=\u001b[39mflag_btn,\n\u001b[1;32m    907\u001b[0m     preprocess\u001b[38;5;241m=\u001b[39m\u001b[38;5;28;01mFalse\u001b[39;00m,\n\u001b[1;32m    908\u001b[0m     queue\u001b[38;5;241m=\u001b[39m\u001b[38;5;28;01mFalse\u001b[39;00m,\n\u001b[1;32m    909\u001b[0m     show_api\u001b[38;5;241m=\u001b[39m\u001b[38;5;28;01mFalse\u001b[39;00m,\n\u001b[1;32m    910\u001b[0m )\n\u001b[1;32m    911\u001b[0m _clear_btn\u001b[38;5;241m.\u001b[39mclick(\n\u001b[1;32m    912\u001b[0m     utils\u001b[38;5;241m.\u001b[39masync_lambda(flag_method\u001b[38;5;241m.\u001b[39mreset),\n\u001b[1;32m    913\u001b[0m     \u001b[38;5;28;01mNone\u001b[39;00m,\n\u001b[0;32m   (...)\u001b[0m\n\u001b[1;32m    916\u001b[0m     show_api\u001b[38;5;241m=\u001b[39m\u001b[38;5;28;01mFalse\u001b[39;00m,\n\u001b[1;32m    917\u001b[0m )\n",
      "File \u001b[0;32m/opt/anaconda3/lib/python3.12/site-packages/gradio/events.py:670\u001b[0m, in \u001b[0;36mEventListener._setup.<locals>.event_trigger\u001b[0;34m(block, fn, inputs, outputs, api_name, scroll_to_output, show_progress, show_progress_on, queue, batch, max_batch_size, preprocess, postprocess, cancels, trigger_mode, js, concurrency_limit, concurrency_id, show_api, time_limit, stream_every, like_user_message)\u001b[0m\n\u001b[1;32m    662\u001b[0m     \u001b[38;5;28;01mraise\u001b[39;00m \u001b[38;5;167;01mAttributeError\u001b[39;00m(\n\u001b[1;32m    663\u001b[0m         \u001b[38;5;124mf\u001b[39m\u001b[38;5;124m\"\u001b[39m\u001b[38;5;124mCannot call \u001b[39m\u001b[38;5;132;01m{\u001b[39;00m_event_name\u001b[38;5;132;01m}\u001b[39;00m\u001b[38;5;124m outside of a gradio.Blocks context.\u001b[39m\u001b[38;5;124m\"\u001b[39m\n\u001b[1;32m    664\u001b[0m     )\n\u001b[1;32m    666\u001b[0m event_target \u001b[38;5;241m=\u001b[39m EventListenerMethod(\n\u001b[1;32m    667\u001b[0m     block \u001b[38;5;28;01mif\u001b[39;00m _has_trigger \u001b[38;5;28;01melse\u001b[39;00m \u001b[38;5;28;01mNone\u001b[39;00m, _event_name\n\u001b[1;32m    668\u001b[0m )\n\u001b[0;32m--> 670\u001b[0m dep, dep_index \u001b[38;5;241m=\u001b[39m root_block\u001b[38;5;241m.\u001b[39mset_event_trigger(\n\u001b[1;32m    671\u001b[0m     [event_target],\n\u001b[1;32m    672\u001b[0m     fn,\n\u001b[1;32m    673\u001b[0m     inputs,\n\u001b[1;32m    674\u001b[0m     outputs,\n\u001b[1;32m    675\u001b[0m     preprocess\u001b[38;5;241m=\u001b[39mpreprocess,\n\u001b[1;32m    676\u001b[0m     postprocess\u001b[38;5;241m=\u001b[39mpostprocess,\n\u001b[1;32m    677\u001b[0m     scroll_to_output\u001b[38;5;241m=\u001b[39mscroll_to_output,\n\u001b[1;32m    678\u001b[0m     show_progress\u001b[38;5;241m=\u001b[39mshow_progress,\n\u001b[1;32m    679\u001b[0m     show_progress_on\u001b[38;5;241m=\u001b[39mshow_progress_on,\n\u001b[1;32m    680\u001b[0m     api_name\u001b[38;5;241m=\u001b[39mapi_name,\n\u001b[1;32m    681\u001b[0m     js\u001b[38;5;241m=\u001b[39mjs,\n\u001b[1;32m    682\u001b[0m     concurrency_limit\u001b[38;5;241m=\u001b[39mconcurrency_limit,\n\u001b[1;32m    683\u001b[0m     concurrency_id\u001b[38;5;241m=\u001b[39mconcurrency_id,\n\u001b[1;32m    684\u001b[0m     queue\u001b[38;5;241m=\u001b[39mqueue,\n\u001b[1;32m    685\u001b[0m     batch\u001b[38;5;241m=\u001b[39mbatch,\n\u001b[1;32m    686\u001b[0m     max_batch_size\u001b[38;5;241m=\u001b[39mmax_batch_size,\n\u001b[1;32m    687\u001b[0m     trigger_after\u001b[38;5;241m=\u001b[39m_trigger_after,\n\u001b[1;32m    688\u001b[0m     trigger_only_on_success\u001b[38;5;241m=\u001b[39m_trigger_only_on_success,\n\u001b[1;32m    689\u001b[0m     trigger_mode\u001b[38;5;241m=\u001b[39mtrigger_mode,\n\u001b[1;32m    690\u001b[0m     show_api\u001b[38;5;241m=\u001b[39mshow_api,\n\u001b[1;32m    691\u001b[0m     connection\u001b[38;5;241m=\u001b[39m_connection,\n\u001b[1;32m    692\u001b[0m     time_limit\u001b[38;5;241m=\u001b[39mtime_limit,\n\u001b[1;32m    693\u001b[0m     stream_every\u001b[38;5;241m=\u001b[39mstream_every,\n\u001b[1;32m    694\u001b[0m     like_user_message\u001b[38;5;241m=\u001b[39mlike_user_message,\n\u001b[1;32m    695\u001b[0m     event_specific_args\u001b[38;5;241m=\u001b[39m[\n\u001b[1;32m    696\u001b[0m         d[\u001b[38;5;124m\"\u001b[39m\u001b[38;5;124mname\u001b[39m\u001b[38;5;124m\"\u001b[39m]\n\u001b[1;32m    697\u001b[0m         \u001b[38;5;28;01mfor\u001b[39;00m d \u001b[38;5;129;01min\u001b[39;00m _event_specific_args\n\u001b[1;32m    698\u001b[0m         \u001b[38;5;28;01mif\u001b[39;00m d\u001b[38;5;241m.\u001b[39mget(\u001b[38;5;124m\"\u001b[39m\u001b[38;5;124mcomponent_prop\u001b[39m\u001b[38;5;124m\"\u001b[39m, \u001b[38;5;124m\"\u001b[39m\u001b[38;5;124mtrue\u001b[39m\u001b[38;5;124m\"\u001b[39m) \u001b[38;5;241m!=\u001b[39m \u001b[38;5;124m\"\u001b[39m\u001b[38;5;124mfalse\u001b[39m\u001b[38;5;124m\"\u001b[39m\n\u001b[1;32m    699\u001b[0m     ]\n\u001b[1;32m    700\u001b[0m     \u001b[38;5;28;01mif\u001b[39;00m _event_specific_args\n\u001b[1;32m    701\u001b[0m     \u001b[38;5;28;01melse\u001b[39;00m \u001b[38;5;28;01mNone\u001b[39;00m,\n\u001b[1;32m    702\u001b[0m )\n\u001b[1;32m    703\u001b[0m set_cancel_events(\n\u001b[1;32m    704\u001b[0m     [event_target],\n\u001b[1;32m    705\u001b[0m     cancels,\n\u001b[1;32m    706\u001b[0m )\n\u001b[1;32m    707\u001b[0m \u001b[38;5;28;01mif\u001b[39;00m _callback:\n",
      "File \u001b[0;32m/opt/anaconda3/lib/python3.12/site-packages/gradio/blocks.py:805\u001b[0m, in \u001b[0;36mBlocksConfig.set_event_trigger\u001b[0;34m(self, targets, fn, inputs, outputs, preprocess, postprocess, scroll_to_output, show_progress, show_progress_on, api_name, js, no_target, queue, batch, max_batch_size, cancels, collects_event_data, trigger_after, trigger_only_on_success, trigger_mode, concurrency_limit, concurrency_id, show_api, renderable, is_cancel_function, connection, time_limit, stream_every, like_user_message, event_specific_args, js_implementation)\u001b[0m\n\u001b[1;32m    802\u001b[0m     show_progress_on \u001b[38;5;241m=\u001b[39m [show_progress_on]\n\u001b[1;32m    804\u001b[0m \u001b[38;5;28;01mif\u001b[39;00m fn \u001b[38;5;129;01mis\u001b[39;00m \u001b[38;5;129;01mnot\u001b[39;00m \u001b[38;5;28;01mNone\u001b[39;00m \u001b[38;5;129;01mand\u001b[39;00m \u001b[38;5;129;01mnot\u001b[39;00m cancels:\n\u001b[0;32m--> 805\u001b[0m     check_function_inputs_match(fn, inputs, inputs_as_dict)\n\u001b[1;32m    807\u001b[0m \u001b[38;5;28;01mif\u001b[39;00m _targets \u001b[38;5;129;01mand\u001b[39;00m trigger_mode \u001b[38;5;129;01mis\u001b[39;00m \u001b[38;5;28;01mNone\u001b[39;00m:\n\u001b[1;32m    808\u001b[0m     \u001b[38;5;28;01mif\u001b[39;00m _targets[\u001b[38;5;241m0\u001b[39m][\u001b[38;5;241m1\u001b[39m] \u001b[38;5;129;01min\u001b[39;00m [\u001b[38;5;124m\"\u001b[39m\u001b[38;5;124mchange\u001b[39m\u001b[38;5;124m\"\u001b[39m, \u001b[38;5;124m\"\u001b[39m\u001b[38;5;124mkey_up\u001b[39m\u001b[38;5;124m\"\u001b[39m]:\n",
      "File \u001b[0;32m/opt/anaconda3/lib/python3.12/site-packages/gradio/utils.py:1001\u001b[0m, in \u001b[0;36mcheck_function_inputs_match\u001b[0;34m(fn, inputs, inputs_as_dict)\u001b[0m\n\u001b[1;32m    999\u001b[0m \u001b[38;5;28;01mexcept\u001b[39;00m \u001b[38;5;167;01mValueError\u001b[39;00m:\n\u001b[1;32m   1000\u001b[0m     \u001b[38;5;28;01mreturn\u001b[39;00m \u001b[38;5;28;01mNone\u001b[39;00m\n\u001b[0;32m-> 1001\u001b[0m parameter_types \u001b[38;5;241m=\u001b[39m get_type_hints(fn)\n\u001b[1;32m   1002\u001b[0m min_args \u001b[38;5;241m=\u001b[39m \u001b[38;5;241m0\u001b[39m\n\u001b[1;32m   1003\u001b[0m max_args \u001b[38;5;241m=\u001b[39m \u001b[38;5;241m0\u001b[39m\n",
      "File \u001b[0;32m/opt/anaconda3/lib/python3.12/site-packages/gradio/utils.py:968\u001b[0m, in \u001b[0;36mget_type_hints\u001b[0;34m(fn)\u001b[0m\n\u001b[1;32m    966\u001b[0m \u001b[38;5;28;01melse\u001b[39;00m:\n\u001b[1;32m    967\u001b[0m     \u001b[38;5;28;01mreturn\u001b[39;00m {}\n\u001b[0;32m--> 968\u001b[0m \u001b[38;5;28;01mreturn\u001b[39;00m typing\u001b[38;5;241m.\u001b[39mget_type_hints(fn)\n",
      "File \u001b[0;32m/opt/anaconda3/lib/python3.12/typing.py:2259\u001b[0m, in \u001b[0;36mget_type_hints\u001b[0;34m(obj, globalns, localns, include_extras)\u001b[0m\n\u001b[1;32m   2251\u001b[0m     \u001b[38;5;28;01mif\u001b[39;00m \u001b[38;5;28misinstance\u001b[39m(value, \u001b[38;5;28mstr\u001b[39m):\n\u001b[1;32m   2252\u001b[0m         \u001b[38;5;66;03m# class-level forward refs were handled above, this must be either\u001b[39;00m\n\u001b[1;32m   2253\u001b[0m         \u001b[38;5;66;03m# a module-level annotation or a function argument annotation\u001b[39;00m\n\u001b[1;32m   2254\u001b[0m         value \u001b[38;5;241m=\u001b[39m ForwardRef(\n\u001b[1;32m   2255\u001b[0m             value,\n\u001b[1;32m   2256\u001b[0m             is_argument\u001b[38;5;241m=\u001b[39m\u001b[38;5;129;01mnot\u001b[39;00m \u001b[38;5;28misinstance\u001b[39m(obj, types\u001b[38;5;241m.\u001b[39mModuleType),\n\u001b[1;32m   2257\u001b[0m             is_class\u001b[38;5;241m=\u001b[39m\u001b[38;5;28;01mFalse\u001b[39;00m,\n\u001b[1;32m   2258\u001b[0m         )\n\u001b[0;32m-> 2259\u001b[0m     hints[name] \u001b[38;5;241m=\u001b[39m _eval_type(value, globalns, localns)\n\u001b[1;32m   2260\u001b[0m \u001b[38;5;28;01mreturn\u001b[39;00m hints \u001b[38;5;28;01mif\u001b[39;00m include_extras \u001b[38;5;28;01melse\u001b[39;00m {k: _strip_annotations(t) \u001b[38;5;28;01mfor\u001b[39;00m k, t \u001b[38;5;129;01min\u001b[39;00m hints\u001b[38;5;241m.\u001b[39mitems()}\n",
      "File \u001b[0;32m/opt/anaconda3/lib/python3.12/typing.py:400\u001b[0m, in \u001b[0;36m_eval_type\u001b[0;34m(t, globalns, localns, recursive_guard)\u001b[0m\n\u001b[1;32m    393\u001b[0m \u001b[38;5;250m\u001b[39m\u001b[38;5;124;03m\"\"\"Evaluate all forward references in the given type t.\u001b[39;00m\n\u001b[1;32m    394\u001b[0m \n\u001b[1;32m    395\u001b[0m \u001b[38;5;124;03mFor use of globalns and localns see the docstring for get_type_hints().\u001b[39;00m\n\u001b[1;32m    396\u001b[0m \u001b[38;5;124;03mrecursive_guard is used to prevent infinite recursion with a recursive\u001b[39;00m\n\u001b[1;32m    397\u001b[0m \u001b[38;5;124;03mForwardRef.\u001b[39;00m\n\u001b[1;32m    398\u001b[0m \u001b[38;5;124;03m\"\"\"\u001b[39;00m\n\u001b[1;32m    399\u001b[0m \u001b[38;5;28;01mif\u001b[39;00m \u001b[38;5;28misinstance\u001b[39m(t, ForwardRef):\n\u001b[0;32m--> 400\u001b[0m     \u001b[38;5;28;01mreturn\u001b[39;00m t\u001b[38;5;241m.\u001b[39m_evaluate(globalns, localns, recursive_guard)\n\u001b[1;32m    401\u001b[0m \u001b[38;5;28;01mif\u001b[39;00m \u001b[38;5;28misinstance\u001b[39m(t, (_GenericAlias, GenericAlias, types\u001b[38;5;241m.\u001b[39mUnionType)):\n\u001b[1;32m    402\u001b[0m     \u001b[38;5;28;01mif\u001b[39;00m \u001b[38;5;28misinstance\u001b[39m(t, GenericAlias):\n",
      "File \u001b[0;32m/opt/anaconda3/lib/python3.12/typing.py:907\u001b[0m, in \u001b[0;36mForwardRef._evaluate\u001b[0;34m(self, globalns, localns, recursive_guard)\u001b[0m\n\u001b[1;32m    902\u001b[0m \u001b[38;5;28;01mif\u001b[39;00m \u001b[38;5;28mself\u001b[39m\u001b[38;5;241m.\u001b[39m__forward_module__ \u001b[38;5;129;01mis\u001b[39;00m \u001b[38;5;129;01mnot\u001b[39;00m \u001b[38;5;28;01mNone\u001b[39;00m:\n\u001b[1;32m    903\u001b[0m     globalns \u001b[38;5;241m=\u001b[39m \u001b[38;5;28mgetattr\u001b[39m(\n\u001b[1;32m    904\u001b[0m         sys\u001b[38;5;241m.\u001b[39mmodules\u001b[38;5;241m.\u001b[39mget(\u001b[38;5;28mself\u001b[39m\u001b[38;5;241m.\u001b[39m__forward_module__, \u001b[38;5;28;01mNone\u001b[39;00m), \u001b[38;5;124m'\u001b[39m\u001b[38;5;124m__dict__\u001b[39m\u001b[38;5;124m'\u001b[39m, globalns\n\u001b[1;32m    905\u001b[0m     )\n\u001b[1;32m    906\u001b[0m type_ \u001b[38;5;241m=\u001b[39m _type_check(\n\u001b[0;32m--> 907\u001b[0m     \u001b[38;5;28meval\u001b[39m(\u001b[38;5;28mself\u001b[39m\u001b[38;5;241m.\u001b[39m__forward_code__, globalns, localns),\n\u001b[1;32m    908\u001b[0m     \u001b[38;5;124m\"\u001b[39m\u001b[38;5;124mForward references must evaluate to types.\u001b[39m\u001b[38;5;124m\"\u001b[39m,\n\u001b[1;32m    909\u001b[0m     is_argument\u001b[38;5;241m=\u001b[39m\u001b[38;5;28mself\u001b[39m\u001b[38;5;241m.\u001b[39m__forward_is_argument__,\n\u001b[1;32m    910\u001b[0m     allow_special_forms\u001b[38;5;241m=\u001b[39m\u001b[38;5;28mself\u001b[39m\u001b[38;5;241m.\u001b[39m__forward_is_class__,\n\u001b[1;32m    911\u001b[0m )\n\u001b[1;32m    912\u001b[0m \u001b[38;5;28mself\u001b[39m\u001b[38;5;241m.\u001b[39m__forward_value__ \u001b[38;5;241m=\u001b[39m _eval_type(\n\u001b[1;32m    913\u001b[0m     type_, globalns, localns, recursive_guard \u001b[38;5;241m|\u001b[39m {\u001b[38;5;28mself\u001b[39m\u001b[38;5;241m.\u001b[39m__forward_arg__}\n\u001b[1;32m    914\u001b[0m )\n\u001b[1;32m    915\u001b[0m \u001b[38;5;28mself\u001b[39m\u001b[38;5;241m.\u001b[39m__forward_evaluated__ \u001b[38;5;241m=\u001b[39m \u001b[38;5;28;01mTrue\u001b[39;00m\n",
      "File \u001b[0;32m<string>:1\u001b[0m\n",
      "\u001b[0;31mAttributeError\u001b[0m: module 'gradio' has no attribute 'Request'"
     ]
    }
   ],
   "source": [
    "iface = gr.Interface(\n",
    "    fn=predict_ticker,\n",
    "    inputs=gr.Textbox(label=\"Ticker e.g. 'TSLA' or 'MATAS.CO'\"),\n",
    "    outputs=[\n",
    "        gr.Textbox(label=\"3 Month Change Prediction (%)\"),\n",
    "        gr.Textbox(label=\"6 Month Change Prediction (%)\"),\n",
    "        gr.Textbox(label=\"1 Year Change Prediction (%)\"),\n",
    "        gr.Textbox(label=\"Mean Change Prediction (%)\"),\n",
    "    ],\n",
    "    title=\"Stock Price Prediction Model\",\n",
    "    description=\" \"\n",
    ")\n",
    "\n",
    "iface.launch(share=True)"
   ]
  }
 ],
 "metadata": {
  "kernelspec": {
   "display_name": "base",
   "language": "python",
   "name": "python3"
  },
  "language_info": {
   "codemirror_mode": {
    "name": "ipython",
    "version": 3
   },
   "file_extension": ".py",
   "mimetype": "text/x-python",
   "name": "python",
   "nbconvert_exporter": "python",
   "pygments_lexer": "ipython3",
   "version": "3.12.2"
  }
 },
 "nbformat": 4,
 "nbformat_minor": 2
}
