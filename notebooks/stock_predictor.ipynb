{
 "cells": [
  {
   "cell_type": "markdown",
   "metadata": {},
   "source": [
    "# Stock Prediction Model"
   ]
  },
  {
   "cell_type": "markdown",
   "metadata": {},
   "source": [
    "## Dependencies"
   ]
  },
  {
   "cell_type": "markdown",
   "metadata": {},
   "source": [
    "### Library Installation (if needed)"
   ]
  },
  {
   "cell_type": "code",
   "execution_count": 48,
   "metadata": {},
   "outputs": [],
   "source": [
    "#! pip install -Ur requirements.txt"
   ]
  },
  {
   "cell_type": "markdown",
   "metadata": {},
   "source": [
    "### Importing Required Libraries"
   ]
  },
  {
   "cell_type": "code",
   "execution_count": 2,
   "metadata": {},
   "outputs": [],
   "source": [
    "import matplotlib.pyplot as plt\n",
    "import yfinance as yf\n",
    "import pandas as pd\n",
    "import numpy as np\n",
    "import pickle\n",
    "import gradio as gr\n",
    "import ast\n",
    "import warnings\n",
    "from datetime import datetime\n",
    "from tqdm import tqdm\n",
    "from model import MLPWrapper\n",
    "from skopt import BayesSearchCV\n",
    "from skopt.space import Real, Categorical, Integer\n",
    "from sklearn.impute import SimpleImputer\n",
    "from sklearn.metrics import r2_score, mean_squared_error, mean_absolute_error\n",
    "from sklearn.preprocessing import LabelEncoder, StandardScaler"
   ]
  },
  {
   "cell_type": "code",
   "execution_count": 4,
   "metadata": {},
   "outputs": [],
   "source": [
    "from stockdex import Ticker"
   ]
  },
  {
   "cell_type": "code",
   "execution_count": 10,
   "metadata": {},
   "outputs": [
    {
     "name": "stderr",
     "output_type": "stream",
     "text": [
      "<string>:1: SyntaxWarning: invalid escape sequence '\\/'\n",
      "<string>:1: SyntaxWarning: invalid escape sequence '\\/'\n",
      "<string>:1: SyntaxWarning: invalid escape sequence '\\/'\n",
      "<string>:1: SyntaxWarning: invalid escape sequence '\\/'\n",
      "<string>:1: SyntaxWarning: invalid escape sequence '\\/'\n",
      "<string>:1: SyntaxWarning: invalid escape sequence '\\/'\n",
      "<string>:1: SyntaxWarning: invalid escape sequence '\\/'\n",
      "<string>:1: SyntaxWarning: invalid escape sequence '\\/'\n",
      "<string>:1: SyntaxWarning: invalid escape sequence '\\/'\n",
      "<string>:1: SyntaxWarning: invalid escape sequence '\\/'\n",
      "<string>:1: SyntaxWarning: invalid escape sequence '\\/'\n",
      "<string>:1: SyntaxWarning: invalid escape sequence '\\/'\n",
      "<string>:1: SyntaxWarning: invalid escape sequence '\\/'\n",
      "<string>:1: SyntaxWarning: invalid escape sequence '\\/'\n",
      "<string>:1: SyntaxWarning: invalid escape sequence '\\/'\n",
      "<string>:1: SyntaxWarning: invalid escape sequence '\\/'\n",
      "<string>:1: SyntaxWarning: invalid escape sequence '\\/'\n",
      "<string>:1: SyntaxWarning: invalid escape sequence '\\/'\n",
      "<string>:1: SyntaxWarning: invalid escape sequence '\\/'\n",
      "<string>:1: SyntaxWarning: invalid escape sequence '\\/'\n",
      "<string>:1: SyntaxWarning: invalid escape sequence '\\/'\n",
      "<string>:1: SyntaxWarning: invalid escape sequence '\\/'\n",
      "<string>:1: SyntaxWarning: invalid escape sequence '\\/'\n",
      "<string>:1: SyntaxWarning: invalid escape sequence '\\/'\n",
      "<string>:1: SyntaxWarning: invalid escape sequence '\\/'\n",
      "<string>:1: SyntaxWarning: invalid escape sequence '\\/'\n",
      "<string>:1: SyntaxWarning: invalid escape sequence '\\/'\n",
      "<string>:1: SyntaxWarning: invalid escape sequence '\\/'\n",
      "<string>:1: SyntaxWarning: invalid escape sequence '\\/'\n",
      "<string>:1: SyntaxWarning: invalid escape sequence '\\/'\n",
      "<string>:1: SyntaxWarning: invalid escape sequence '\\/'\n",
      "<string>:1: SyntaxWarning: invalid escape sequence '\\/'\n",
      "<string>:1: SyntaxWarning: invalid escape sequence '\\/'\n",
      "<string>:1: SyntaxWarning: invalid escape sequence '\\/'\n",
      "<string>:1: SyntaxWarning: invalid escape sequence '\\/'\n",
      "<string>:1: SyntaxWarning: invalid escape sequence '\\/'\n",
      "<string>:1: SyntaxWarning: invalid escape sequence '\\/'\n",
      "<string>:1: SyntaxWarning: invalid escape sequence '\\/'\n",
      "<string>:1: SyntaxWarning: invalid escape sequence '\\/'\n",
      "<string>:1: SyntaxWarning: invalid escape sequence '\\/'\n",
      "<string>:1: SyntaxWarning: invalid escape sequence '\\/'\n"
     ]
    },
    {
     "data": {
      "application/vnd.microsoft.datawrangler.viewer.v0+json": {
       "columns": [
        {
         "name": "field_name",
         "rawType": "object",
         "type": "string"
        },
        {
         "name": "2024-06-30",
         "rawType": "object",
         "type": "string"
        },
        {
         "name": "2023-06-30",
         "rawType": "object",
         "type": "string"
        },
        {
         "name": "2022-06-30",
         "rawType": "object",
         "type": "string"
        },
        {
         "name": "2021-06-30",
         "rawType": "object",
         "type": "string"
        },
        {
         "name": "2020-06-30",
         "rawType": "object",
         "type": "string"
        },
        {
         "name": "2019-06-30",
         "rawType": "object",
         "type": "string"
        },
        {
         "name": "2018-06-30",
         "rawType": "object",
         "type": "string"
        },
        {
         "name": "2017-06-30",
         "rawType": "object",
         "type": "string"
        },
        {
         "name": "2016-06-30",
         "rawType": "object",
         "type": "string"
        },
        {
         "name": "2015-06-30",
         "rawType": "object",
         "type": "string"
        },
        {
         "name": "2014-06-30",
         "rawType": "object",
         "type": "string"
        },
        {
         "name": "2013-06-30",
         "rawType": "object",
         "type": "string"
        },
        {
         "name": "2012-06-30",
         "rawType": "object",
         "type": "string"
        },
        {
         "name": "2011-06-30",
         "rawType": "object",
         "type": "string"
        },
        {
         "name": "2010-06-30",
         "rawType": "object",
         "type": "string"
        },
        {
         "name": "2009-06-30",
         "rawType": "object",
         "type": "string"
        }
       ],
       "ref": "1d9b60f6-0933-466e-b902-21ba1b864381",
       "rows": [
        [
         "Revenue",
         "245122.00000",
         "211915.00000",
         "198270.00000",
         "168088.00000",
         "143015.00000",
         "125843.00000",
         "110360.00000",
         "96571.00000",
         "91154.00000",
         "93580.00000",
         "86833.00000",
         "77849.00000",
         "73723.00000",
         "69943.00000",
         "62484.00000",
         "58437.00000"
        ],
        [
         "Cost Of Goods Sold",
         "74114.00000",
         "65863.00000",
         "62650.00000",
         "52232.00000",
         "46078.00000",
         "42910.00000",
         "38353.00000",
         "34261.00000",
         "32780.00000",
         "33038.00000",
         "27078.00000",
         "20385.00000",
         "17530.00000",
         "15577.00000",
         "12395.00000",
         "12155.00000"
        ],
        [
         "Gross Profit",
         "171008.00000",
         "146052.00000",
         "135620.00000",
         "115856.00000",
         "96937.00000",
         "82933.00000",
         "72007.00000",
         "62310.00000",
         "58374.00000",
         "60542.00000",
         "59755.00000",
         "57464.00000",
         "56193.00000",
         "54366.00000",
         "50089.00000",
         "46282.00000"
        ],
        [
         "Research And Development Expenses",
         "29510.00000",
         "27195.00000",
         "24512.00000",
         "20716.00000",
         "19269.00000",
         "16876.00000",
         "14726.00000",
         "13037.00000",
         "11988.00000",
         "12046.00000",
         "11381.00000",
         "10411.00000",
         "9811.00000",
         "9043.00000",
         "8714.00000",
         "9010.00000"
        ],
        [
         "SG&A Expenses",
         "32065.00000",
         "30334.00000",
         "27725.00000",
         "25224.00000",
         "24709.00000",
         "23098.00000",
         "22223.00000",
         "19942.00000",
         "19198.00000",
         "20324.00000",
         "20488.00000",
         "20289.00000",
         "18426.00000",
         "18162.00000",
         "17277.00000",
         "16909.00000"
        ],
        [
         "Other Operating Income Or Expenses",
         "",
         "",
         "",
         "",
         "",
         "",
         "",
         "",
         "",
         "",
         "",
         "",
         "",
         "",
         "",
         ""
        ],
        [
         "Operating Expenses",
         "61575.00000",
         "57529.00000",
         "52237.00000",
         "45940.00000",
         "43978.00000",
         "39974.00000",
         "36949.00000",
         "33285.00000",
         "32296.00000",
         "42381.00000",
         "31996.00000",
         "30700.00000",
         "34430.00000",
         "27205.00000",
         "25991.00000",
         "25919.00000"
        ],
        [
         "Operating Income",
         "109433.00000",
         "88523.00000",
         "83383.00000",
         "69916.00000",
         "52959.00000",
         "42959.00000",
         "35058.00000",
         "29025.00000",
         "26078.00000",
         "18161.00000",
         "27759.00000",
         "26764.00000",
         "21763.00000",
         "27161.00000",
         "24098.00000",
         "20363.00000"
        ],
        [
         "Total Non-Operating Income\\/Expense",
         "-1646.00000",
         "788.00000",
         "333.00000",
         "1186.00000",
         "77.00000",
         "729.00000",
         "1416.00000",
         "876.00000",
         "-439.00000",
         "346.00000",
         "61.00000",
         "288.00000",
         "504.00000",
         "910.00000",
         "915.00000",
         "-542.00000"
        ],
        [
         "Pre-Tax Income",
         "107787.00000",
         "89311.00000",
         "83716.00000",
         "71102.00000",
         "53036.00000",
         "43688.00000",
         "36474.00000",
         "29901.00000",
         "25639.00000",
         "18507.00000",
         "27820.00000",
         "27052.00000",
         "22267.00000",
         "28071.00000",
         "25013.00000",
         "19821.00000"
        ],
        [
         "Income Taxes",
         "19651.00000",
         "16950.00000",
         "10978.00000",
         "9831.00000",
         "8755.00000",
         "4448.00000",
         "19903.00000",
         "4412.00000",
         "5100.00000",
         "6314.00000",
         "5746.00000",
         "5189.00000",
         "5289.00000",
         "4921.00000",
         "6253.00000",
         "5252.00000"
        ],
        [
         "Income After Taxes",
         "88136.00000",
         "72361.00000",
         "72738.00000",
         "61271.00000",
         "44281.00000",
         "39240.00000",
         "16571.00000",
         "25489.00000",
         "20539.00000",
         "12193.00000",
         "22074.00000",
         "21863.00000",
         "16978.00000",
         "23150.00000",
         "18760.00000",
         "14569.00000"
        ],
        [
         "Other Income",
         "",
         "",
         "",
         "",
         "",
         "",
         "",
         "",
         "",
         "",
         "",
         "",
         "",
         "",
         "",
         ""
        ],
        [
         "Income From Continuous Operations",
         "88136.00000",
         "72361.00000",
         "72738.00000",
         "61271.00000",
         "44281.00000",
         "39240.00000",
         "16571.00000",
         "25489.00000",
         "20539.00000",
         "12193.00000",
         "22074.00000",
         "21863.00000",
         "16978.00000",
         "23150.00000",
         "18760.00000",
         "14569.00000"
        ],
        [
         "Income From Discontinued Operations",
         "",
         "",
         "",
         "",
         "",
         "",
         "",
         "",
         "",
         "",
         "",
         "",
         "",
         "",
         "",
         ""
        ],
        [
         "Net Income",
         "88136.00000",
         "72361.00000",
         "72738.00000",
         "61271.00000",
         "44281.00000",
         "39240.00000",
         "16571.00000",
         "25489.00000",
         "20539.00000",
         "12193.00000",
         "22074.00000",
         "21863.00000",
         "16978.00000",
         "23150.00000",
         "18760.00000",
         "14569.00000"
        ],
        [
         "EBITDA",
         "131720.00000",
         "102384.00000",
         "97843.00000",
         "81602.00000",
         "65755.00000",
         "54641.00000",
         "45319.00000",
         "37803.00000",
         "33330.00000",
         "31616.00000",
         "32971.00000",
         "30519.00000",
         "30923.00000",
         "29927.00000",
         "26771.00000",
         "22925.00000"
        ],
        [
         "EBIT",
         "109433.00000",
         "88523.00000",
         "83383.00000",
         "69916.00000",
         "52959.00000",
         "42959.00000",
         "35058.00000",
         "29025.00000",
         "26078.00000",
         "18161.00000",
         "27759.00000",
         "26764.00000",
         "21763.00000",
         "27161.00000",
         "24098.00000",
         "20363.00000"
        ],
        [
         "Basic Shares Outstanding",
         "7431.00000",
         "7446.00000",
         "7496.00000",
         "7547.00000",
         "7610.00000",
         "7673.00000",
         "7700.00000",
         "7746.00000",
         "7925.00000",
         "8177.00000",
         "8299.00000",
         "8375.00000",
         "8396.00000",
         "8490.00000",
         "8813.00000",
         "8945.00000"
        ],
        [
         "Shares Outstanding",
         "7469.00000",
         "7472.00000",
         "7540.00000",
         "7608.00000",
         "7683.00000",
         "7753.00000",
         "7794.00000",
         "7832.00000",
         "8013.00000",
         "8254.00000",
         "8399.00000",
         "8470.00000",
         "8506.00000",
         "8593.00000",
         "8927.00000",
         "8996.00000"
        ],
        [
         "Basic EPS",
         "11.86000",
         "9.72000",
         "9.70000",
         "8.12000",
         "5.82000",
         "5.11000",
         "2.15000",
         "3.29000",
         "2.59000",
         "1.49000",
         "2.66000",
         "2.61000",
         "2.02000",
         "2.73000",
         "2.13000",
         "1.63000"
        ],
        [
         "EPS - Earnings Per Share",
         "11.80000",
         "9.68000",
         "9.65000",
         "8.05000",
         "5.76000",
         "5.06000",
         "2.13000",
         "3.25000",
         "2.56000",
         "1.48000",
         "2.63000",
         "2.58000",
         "2.00000",
         "2.69000",
         "2.10000",
         "1.62000"
        ]
       ],
       "shape": {
        "columns": 16,
        "rows": 22
       }
      },
      "text/html": [
       "<div>\n",
       "<style scoped>\n",
       "    .dataframe tbody tr th:only-of-type {\n",
       "        vertical-align: middle;\n",
       "    }\n",
       "\n",
       "    .dataframe tbody tr th {\n",
       "        vertical-align: top;\n",
       "    }\n",
       "\n",
       "    .dataframe thead th {\n",
       "        text-align: right;\n",
       "    }\n",
       "</style>\n",
       "<table border=\"1\" class=\"dataframe\">\n",
       "  <thead>\n",
       "    <tr style=\"text-align: right;\">\n",
       "      <th></th>\n",
       "      <th>2024-06-30</th>\n",
       "      <th>2023-06-30</th>\n",
       "      <th>2022-06-30</th>\n",
       "      <th>2021-06-30</th>\n",
       "      <th>2020-06-30</th>\n",
       "      <th>2019-06-30</th>\n",
       "      <th>2018-06-30</th>\n",
       "      <th>2017-06-30</th>\n",
       "      <th>2016-06-30</th>\n",
       "      <th>2015-06-30</th>\n",
       "      <th>2014-06-30</th>\n",
       "      <th>2013-06-30</th>\n",
       "      <th>2012-06-30</th>\n",
       "      <th>2011-06-30</th>\n",
       "      <th>2010-06-30</th>\n",
       "      <th>2009-06-30</th>\n",
       "    </tr>\n",
       "    <tr>\n",
       "      <th>field_name</th>\n",
       "      <th></th>\n",
       "      <th></th>\n",
       "      <th></th>\n",
       "      <th></th>\n",
       "      <th></th>\n",
       "      <th></th>\n",
       "      <th></th>\n",
       "      <th></th>\n",
       "      <th></th>\n",
       "      <th></th>\n",
       "      <th></th>\n",
       "      <th></th>\n",
       "      <th></th>\n",
       "      <th></th>\n",
       "      <th></th>\n",
       "      <th></th>\n",
       "    </tr>\n",
       "  </thead>\n",
       "  <tbody>\n",
       "    <tr>\n",
       "      <th>Revenue</th>\n",
       "      <td>245122.00000</td>\n",
       "      <td>211915.00000</td>\n",
       "      <td>198270.00000</td>\n",
       "      <td>168088.00000</td>\n",
       "      <td>143015.00000</td>\n",
       "      <td>125843.00000</td>\n",
       "      <td>110360.00000</td>\n",
       "      <td>96571.00000</td>\n",
       "      <td>91154.00000</td>\n",
       "      <td>93580.00000</td>\n",
       "      <td>86833.00000</td>\n",
       "      <td>77849.00000</td>\n",
       "      <td>73723.00000</td>\n",
       "      <td>69943.00000</td>\n",
       "      <td>62484.00000</td>\n",
       "      <td>58437.00000</td>\n",
       "    </tr>\n",
       "    <tr>\n",
       "      <th>Cost Of Goods Sold</th>\n",
       "      <td>74114.00000</td>\n",
       "      <td>65863.00000</td>\n",
       "      <td>62650.00000</td>\n",
       "      <td>52232.00000</td>\n",
       "      <td>46078.00000</td>\n",
       "      <td>42910.00000</td>\n",
       "      <td>38353.00000</td>\n",
       "      <td>34261.00000</td>\n",
       "      <td>32780.00000</td>\n",
       "      <td>33038.00000</td>\n",
       "      <td>27078.00000</td>\n",
       "      <td>20385.00000</td>\n",
       "      <td>17530.00000</td>\n",
       "      <td>15577.00000</td>\n",
       "      <td>12395.00000</td>\n",
       "      <td>12155.00000</td>\n",
       "    </tr>\n",
       "    <tr>\n",
       "      <th>Gross Profit</th>\n",
       "      <td>171008.00000</td>\n",
       "      <td>146052.00000</td>\n",
       "      <td>135620.00000</td>\n",
       "      <td>115856.00000</td>\n",
       "      <td>96937.00000</td>\n",
       "      <td>82933.00000</td>\n",
       "      <td>72007.00000</td>\n",
       "      <td>62310.00000</td>\n",
       "      <td>58374.00000</td>\n",
       "      <td>60542.00000</td>\n",
       "      <td>59755.00000</td>\n",
       "      <td>57464.00000</td>\n",
       "      <td>56193.00000</td>\n",
       "      <td>54366.00000</td>\n",
       "      <td>50089.00000</td>\n",
       "      <td>46282.00000</td>\n",
       "    </tr>\n",
       "    <tr>\n",
       "      <th>Research And Development Expenses</th>\n",
       "      <td>29510.00000</td>\n",
       "      <td>27195.00000</td>\n",
       "      <td>24512.00000</td>\n",
       "      <td>20716.00000</td>\n",
       "      <td>19269.00000</td>\n",
       "      <td>16876.00000</td>\n",
       "      <td>14726.00000</td>\n",
       "      <td>13037.00000</td>\n",
       "      <td>11988.00000</td>\n",
       "      <td>12046.00000</td>\n",
       "      <td>11381.00000</td>\n",
       "      <td>10411.00000</td>\n",
       "      <td>9811.00000</td>\n",
       "      <td>9043.00000</td>\n",
       "      <td>8714.00000</td>\n",
       "      <td>9010.00000</td>\n",
       "    </tr>\n",
       "    <tr>\n",
       "      <th>SG&amp;A Expenses</th>\n",
       "      <td>32065.00000</td>\n",
       "      <td>30334.00000</td>\n",
       "      <td>27725.00000</td>\n",
       "      <td>25224.00000</td>\n",
       "      <td>24709.00000</td>\n",
       "      <td>23098.00000</td>\n",
       "      <td>22223.00000</td>\n",
       "      <td>19942.00000</td>\n",
       "      <td>19198.00000</td>\n",
       "      <td>20324.00000</td>\n",
       "      <td>20488.00000</td>\n",
       "      <td>20289.00000</td>\n",
       "      <td>18426.00000</td>\n",
       "      <td>18162.00000</td>\n",
       "      <td>17277.00000</td>\n",
       "      <td>16909.00000</td>\n",
       "    </tr>\n",
       "    <tr>\n",
       "      <th>Other Operating Income Or Expenses</th>\n",
       "      <td></td>\n",
       "      <td></td>\n",
       "      <td></td>\n",
       "      <td></td>\n",
       "      <td></td>\n",
       "      <td></td>\n",
       "      <td></td>\n",
       "      <td></td>\n",
       "      <td></td>\n",
       "      <td></td>\n",
       "      <td></td>\n",
       "      <td></td>\n",
       "      <td></td>\n",
       "      <td></td>\n",
       "      <td></td>\n",
       "      <td></td>\n",
       "    </tr>\n",
       "    <tr>\n",
       "      <th>Operating Expenses</th>\n",
       "      <td>61575.00000</td>\n",
       "      <td>57529.00000</td>\n",
       "      <td>52237.00000</td>\n",
       "      <td>45940.00000</td>\n",
       "      <td>43978.00000</td>\n",
       "      <td>39974.00000</td>\n",
       "      <td>36949.00000</td>\n",
       "      <td>33285.00000</td>\n",
       "      <td>32296.00000</td>\n",
       "      <td>42381.00000</td>\n",
       "      <td>31996.00000</td>\n",
       "      <td>30700.00000</td>\n",
       "      <td>34430.00000</td>\n",
       "      <td>27205.00000</td>\n",
       "      <td>25991.00000</td>\n",
       "      <td>25919.00000</td>\n",
       "    </tr>\n",
       "    <tr>\n",
       "      <th>Operating Income</th>\n",
       "      <td>109433.00000</td>\n",
       "      <td>88523.00000</td>\n",
       "      <td>83383.00000</td>\n",
       "      <td>69916.00000</td>\n",
       "      <td>52959.00000</td>\n",
       "      <td>42959.00000</td>\n",
       "      <td>35058.00000</td>\n",
       "      <td>29025.00000</td>\n",
       "      <td>26078.00000</td>\n",
       "      <td>18161.00000</td>\n",
       "      <td>27759.00000</td>\n",
       "      <td>26764.00000</td>\n",
       "      <td>21763.00000</td>\n",
       "      <td>27161.00000</td>\n",
       "      <td>24098.00000</td>\n",
       "      <td>20363.00000</td>\n",
       "    </tr>\n",
       "    <tr>\n",
       "      <th>Total Non-Operating Income\\/Expense</th>\n",
       "      <td>-1646.00000</td>\n",
       "      <td>788.00000</td>\n",
       "      <td>333.00000</td>\n",
       "      <td>1186.00000</td>\n",
       "      <td>77.00000</td>\n",
       "      <td>729.00000</td>\n",
       "      <td>1416.00000</td>\n",
       "      <td>876.00000</td>\n",
       "      <td>-439.00000</td>\n",
       "      <td>346.00000</td>\n",
       "      <td>61.00000</td>\n",
       "      <td>288.00000</td>\n",
       "      <td>504.00000</td>\n",
       "      <td>910.00000</td>\n",
       "      <td>915.00000</td>\n",
       "      <td>-542.00000</td>\n",
       "    </tr>\n",
       "    <tr>\n",
       "      <th>Pre-Tax Income</th>\n",
       "      <td>107787.00000</td>\n",
       "      <td>89311.00000</td>\n",
       "      <td>83716.00000</td>\n",
       "      <td>71102.00000</td>\n",
       "      <td>53036.00000</td>\n",
       "      <td>43688.00000</td>\n",
       "      <td>36474.00000</td>\n",
       "      <td>29901.00000</td>\n",
       "      <td>25639.00000</td>\n",
       "      <td>18507.00000</td>\n",
       "      <td>27820.00000</td>\n",
       "      <td>27052.00000</td>\n",
       "      <td>22267.00000</td>\n",
       "      <td>28071.00000</td>\n",
       "      <td>25013.00000</td>\n",
       "      <td>19821.00000</td>\n",
       "    </tr>\n",
       "    <tr>\n",
       "      <th>Income Taxes</th>\n",
       "      <td>19651.00000</td>\n",
       "      <td>16950.00000</td>\n",
       "      <td>10978.00000</td>\n",
       "      <td>9831.00000</td>\n",
       "      <td>8755.00000</td>\n",
       "      <td>4448.00000</td>\n",
       "      <td>19903.00000</td>\n",
       "      <td>4412.00000</td>\n",
       "      <td>5100.00000</td>\n",
       "      <td>6314.00000</td>\n",
       "      <td>5746.00000</td>\n",
       "      <td>5189.00000</td>\n",
       "      <td>5289.00000</td>\n",
       "      <td>4921.00000</td>\n",
       "      <td>6253.00000</td>\n",
       "      <td>5252.00000</td>\n",
       "    </tr>\n",
       "    <tr>\n",
       "      <th>Income After Taxes</th>\n",
       "      <td>88136.00000</td>\n",
       "      <td>72361.00000</td>\n",
       "      <td>72738.00000</td>\n",
       "      <td>61271.00000</td>\n",
       "      <td>44281.00000</td>\n",
       "      <td>39240.00000</td>\n",
       "      <td>16571.00000</td>\n",
       "      <td>25489.00000</td>\n",
       "      <td>20539.00000</td>\n",
       "      <td>12193.00000</td>\n",
       "      <td>22074.00000</td>\n",
       "      <td>21863.00000</td>\n",
       "      <td>16978.00000</td>\n",
       "      <td>23150.00000</td>\n",
       "      <td>18760.00000</td>\n",
       "      <td>14569.00000</td>\n",
       "    </tr>\n",
       "    <tr>\n",
       "      <th>Other Income</th>\n",
       "      <td></td>\n",
       "      <td></td>\n",
       "      <td></td>\n",
       "      <td></td>\n",
       "      <td></td>\n",
       "      <td></td>\n",
       "      <td></td>\n",
       "      <td></td>\n",
       "      <td></td>\n",
       "      <td></td>\n",
       "      <td></td>\n",
       "      <td></td>\n",
       "      <td></td>\n",
       "      <td></td>\n",
       "      <td></td>\n",
       "      <td></td>\n",
       "    </tr>\n",
       "    <tr>\n",
       "      <th>Income From Continuous Operations</th>\n",
       "      <td>88136.00000</td>\n",
       "      <td>72361.00000</td>\n",
       "      <td>72738.00000</td>\n",
       "      <td>61271.00000</td>\n",
       "      <td>44281.00000</td>\n",
       "      <td>39240.00000</td>\n",
       "      <td>16571.00000</td>\n",
       "      <td>25489.00000</td>\n",
       "      <td>20539.00000</td>\n",
       "      <td>12193.00000</td>\n",
       "      <td>22074.00000</td>\n",
       "      <td>21863.00000</td>\n",
       "      <td>16978.00000</td>\n",
       "      <td>23150.00000</td>\n",
       "      <td>18760.00000</td>\n",
       "      <td>14569.00000</td>\n",
       "    </tr>\n",
       "    <tr>\n",
       "      <th>Income From Discontinued Operations</th>\n",
       "      <td></td>\n",
       "      <td></td>\n",
       "      <td></td>\n",
       "      <td></td>\n",
       "      <td></td>\n",
       "      <td></td>\n",
       "      <td></td>\n",
       "      <td></td>\n",
       "      <td></td>\n",
       "      <td></td>\n",
       "      <td></td>\n",
       "      <td></td>\n",
       "      <td></td>\n",
       "      <td></td>\n",
       "      <td></td>\n",
       "      <td></td>\n",
       "    </tr>\n",
       "    <tr>\n",
       "      <th>Net Income</th>\n",
       "      <td>88136.00000</td>\n",
       "      <td>72361.00000</td>\n",
       "      <td>72738.00000</td>\n",
       "      <td>61271.00000</td>\n",
       "      <td>44281.00000</td>\n",
       "      <td>39240.00000</td>\n",
       "      <td>16571.00000</td>\n",
       "      <td>25489.00000</td>\n",
       "      <td>20539.00000</td>\n",
       "      <td>12193.00000</td>\n",
       "      <td>22074.00000</td>\n",
       "      <td>21863.00000</td>\n",
       "      <td>16978.00000</td>\n",
       "      <td>23150.00000</td>\n",
       "      <td>18760.00000</td>\n",
       "      <td>14569.00000</td>\n",
       "    </tr>\n",
       "    <tr>\n",
       "      <th>EBITDA</th>\n",
       "      <td>131720.00000</td>\n",
       "      <td>102384.00000</td>\n",
       "      <td>97843.00000</td>\n",
       "      <td>81602.00000</td>\n",
       "      <td>65755.00000</td>\n",
       "      <td>54641.00000</td>\n",
       "      <td>45319.00000</td>\n",
       "      <td>37803.00000</td>\n",
       "      <td>33330.00000</td>\n",
       "      <td>31616.00000</td>\n",
       "      <td>32971.00000</td>\n",
       "      <td>30519.00000</td>\n",
       "      <td>30923.00000</td>\n",
       "      <td>29927.00000</td>\n",
       "      <td>26771.00000</td>\n",
       "      <td>22925.00000</td>\n",
       "    </tr>\n",
       "    <tr>\n",
       "      <th>EBIT</th>\n",
       "      <td>109433.00000</td>\n",
       "      <td>88523.00000</td>\n",
       "      <td>83383.00000</td>\n",
       "      <td>69916.00000</td>\n",
       "      <td>52959.00000</td>\n",
       "      <td>42959.00000</td>\n",
       "      <td>35058.00000</td>\n",
       "      <td>29025.00000</td>\n",
       "      <td>26078.00000</td>\n",
       "      <td>18161.00000</td>\n",
       "      <td>27759.00000</td>\n",
       "      <td>26764.00000</td>\n",
       "      <td>21763.00000</td>\n",
       "      <td>27161.00000</td>\n",
       "      <td>24098.00000</td>\n",
       "      <td>20363.00000</td>\n",
       "    </tr>\n",
       "    <tr>\n",
       "      <th>Basic Shares Outstanding</th>\n",
       "      <td>7431.00000</td>\n",
       "      <td>7446.00000</td>\n",
       "      <td>7496.00000</td>\n",
       "      <td>7547.00000</td>\n",
       "      <td>7610.00000</td>\n",
       "      <td>7673.00000</td>\n",
       "      <td>7700.00000</td>\n",
       "      <td>7746.00000</td>\n",
       "      <td>7925.00000</td>\n",
       "      <td>8177.00000</td>\n",
       "      <td>8299.00000</td>\n",
       "      <td>8375.00000</td>\n",
       "      <td>8396.00000</td>\n",
       "      <td>8490.00000</td>\n",
       "      <td>8813.00000</td>\n",
       "      <td>8945.00000</td>\n",
       "    </tr>\n",
       "    <tr>\n",
       "      <th>Shares Outstanding</th>\n",
       "      <td>7469.00000</td>\n",
       "      <td>7472.00000</td>\n",
       "      <td>7540.00000</td>\n",
       "      <td>7608.00000</td>\n",
       "      <td>7683.00000</td>\n",
       "      <td>7753.00000</td>\n",
       "      <td>7794.00000</td>\n",
       "      <td>7832.00000</td>\n",
       "      <td>8013.00000</td>\n",
       "      <td>8254.00000</td>\n",
       "      <td>8399.00000</td>\n",
       "      <td>8470.00000</td>\n",
       "      <td>8506.00000</td>\n",
       "      <td>8593.00000</td>\n",
       "      <td>8927.00000</td>\n",
       "      <td>8996.00000</td>\n",
       "    </tr>\n",
       "    <tr>\n",
       "      <th>Basic EPS</th>\n",
       "      <td>11.86000</td>\n",
       "      <td>9.72000</td>\n",
       "      <td>9.70000</td>\n",
       "      <td>8.12000</td>\n",
       "      <td>5.82000</td>\n",
       "      <td>5.11000</td>\n",
       "      <td>2.15000</td>\n",
       "      <td>3.29000</td>\n",
       "      <td>2.59000</td>\n",
       "      <td>1.49000</td>\n",
       "      <td>2.66000</td>\n",
       "      <td>2.61000</td>\n",
       "      <td>2.02000</td>\n",
       "      <td>2.73000</td>\n",
       "      <td>2.13000</td>\n",
       "      <td>1.63000</td>\n",
       "    </tr>\n",
       "    <tr>\n",
       "      <th>EPS - Earnings Per Share</th>\n",
       "      <td>11.80000</td>\n",
       "      <td>9.68000</td>\n",
       "      <td>9.65000</td>\n",
       "      <td>8.05000</td>\n",
       "      <td>5.76000</td>\n",
       "      <td>5.06000</td>\n",
       "      <td>2.13000</td>\n",
       "      <td>3.25000</td>\n",
       "      <td>2.56000</td>\n",
       "      <td>1.48000</td>\n",
       "      <td>2.63000</td>\n",
       "      <td>2.58000</td>\n",
       "      <td>2.00000</td>\n",
       "      <td>2.69000</td>\n",
       "      <td>2.10000</td>\n",
       "      <td>1.62000</td>\n",
       "    </tr>\n",
       "  </tbody>\n",
       "</table>\n",
       "</div>"
      ],
      "text/plain": [
       "                                       2024-06-30    2023-06-30    2022-06-30  \\\n",
       "field_name                                                                      \n",
       "Revenue                              245122.00000  211915.00000  198270.00000   \n",
       "Cost Of Goods Sold                    74114.00000   65863.00000   62650.00000   \n",
       "Gross Profit                         171008.00000  146052.00000  135620.00000   \n",
       "Research And Development Expenses     29510.00000   27195.00000   24512.00000   \n",
       "SG&A Expenses                         32065.00000   30334.00000   27725.00000   \n",
       "Other Operating Income Or Expenses                                              \n",
       "Operating Expenses                    61575.00000   57529.00000   52237.00000   \n",
       "Operating Income                     109433.00000   88523.00000   83383.00000   \n",
       "Total Non-Operating Income\\/Expense   -1646.00000     788.00000     333.00000   \n",
       "Pre-Tax Income                       107787.00000   89311.00000   83716.00000   \n",
       "Income Taxes                          19651.00000   16950.00000   10978.00000   \n",
       "Income After Taxes                    88136.00000   72361.00000   72738.00000   \n",
       "Other Income                                                                    \n",
       "Income From Continuous Operations     88136.00000   72361.00000   72738.00000   \n",
       "Income From Discontinued Operations                                             \n",
       "Net Income                            88136.00000   72361.00000   72738.00000   \n",
       "EBITDA                               131720.00000  102384.00000   97843.00000   \n",
       "EBIT                                 109433.00000   88523.00000   83383.00000   \n",
       "Basic Shares Outstanding               7431.00000    7446.00000    7496.00000   \n",
       "Shares Outstanding                     7469.00000    7472.00000    7540.00000   \n",
       "Basic EPS                                11.86000       9.72000       9.70000   \n",
       "EPS - Earnings Per Share                 11.80000       9.68000       9.65000   \n",
       "\n",
       "                                       2021-06-30    2020-06-30    2019-06-30  \\\n",
       "field_name                                                                      \n",
       "Revenue                              168088.00000  143015.00000  125843.00000   \n",
       "Cost Of Goods Sold                    52232.00000   46078.00000   42910.00000   \n",
       "Gross Profit                         115856.00000   96937.00000   82933.00000   \n",
       "Research And Development Expenses     20716.00000   19269.00000   16876.00000   \n",
       "SG&A Expenses                         25224.00000   24709.00000   23098.00000   \n",
       "Other Operating Income Or Expenses                                              \n",
       "Operating Expenses                    45940.00000   43978.00000   39974.00000   \n",
       "Operating Income                      69916.00000   52959.00000   42959.00000   \n",
       "Total Non-Operating Income\\/Expense    1186.00000      77.00000     729.00000   \n",
       "Pre-Tax Income                        71102.00000   53036.00000   43688.00000   \n",
       "Income Taxes                           9831.00000    8755.00000    4448.00000   \n",
       "Income After Taxes                    61271.00000   44281.00000   39240.00000   \n",
       "Other Income                                                                    \n",
       "Income From Continuous Operations     61271.00000   44281.00000   39240.00000   \n",
       "Income From Discontinued Operations                                             \n",
       "Net Income                            61271.00000   44281.00000   39240.00000   \n",
       "EBITDA                                81602.00000   65755.00000   54641.00000   \n",
       "EBIT                                  69916.00000   52959.00000   42959.00000   \n",
       "Basic Shares Outstanding               7547.00000    7610.00000    7673.00000   \n",
       "Shares Outstanding                     7608.00000    7683.00000    7753.00000   \n",
       "Basic EPS                                 8.12000       5.82000       5.11000   \n",
       "EPS - Earnings Per Share                  8.05000       5.76000       5.06000   \n",
       "\n",
       "                                       2018-06-30   2017-06-30   2016-06-30  \\\n",
       "field_name                                                                    \n",
       "Revenue                              110360.00000  96571.00000  91154.00000   \n",
       "Cost Of Goods Sold                    38353.00000  34261.00000  32780.00000   \n",
       "Gross Profit                          72007.00000  62310.00000  58374.00000   \n",
       "Research And Development Expenses     14726.00000  13037.00000  11988.00000   \n",
       "SG&A Expenses                         22223.00000  19942.00000  19198.00000   \n",
       "Other Operating Income Or Expenses                                            \n",
       "Operating Expenses                    36949.00000  33285.00000  32296.00000   \n",
       "Operating Income                      35058.00000  29025.00000  26078.00000   \n",
       "Total Non-Operating Income\\/Expense    1416.00000    876.00000   -439.00000   \n",
       "Pre-Tax Income                        36474.00000  29901.00000  25639.00000   \n",
       "Income Taxes                          19903.00000   4412.00000   5100.00000   \n",
       "Income After Taxes                    16571.00000  25489.00000  20539.00000   \n",
       "Other Income                                                                  \n",
       "Income From Continuous Operations     16571.00000  25489.00000  20539.00000   \n",
       "Income From Discontinued Operations                                           \n",
       "Net Income                            16571.00000  25489.00000  20539.00000   \n",
       "EBITDA                                45319.00000  37803.00000  33330.00000   \n",
       "EBIT                                  35058.00000  29025.00000  26078.00000   \n",
       "Basic Shares Outstanding               7700.00000   7746.00000   7925.00000   \n",
       "Shares Outstanding                     7794.00000   7832.00000   8013.00000   \n",
       "Basic EPS                                 2.15000      3.29000      2.59000   \n",
       "EPS - Earnings Per Share                  2.13000      3.25000      2.56000   \n",
       "\n",
       "                                      2015-06-30   2014-06-30   2013-06-30  \\\n",
       "field_name                                                                   \n",
       "Revenue                              93580.00000  86833.00000  77849.00000   \n",
       "Cost Of Goods Sold                   33038.00000  27078.00000  20385.00000   \n",
       "Gross Profit                         60542.00000  59755.00000  57464.00000   \n",
       "Research And Development Expenses    12046.00000  11381.00000  10411.00000   \n",
       "SG&A Expenses                        20324.00000  20488.00000  20289.00000   \n",
       "Other Operating Income Or Expenses                                           \n",
       "Operating Expenses                   42381.00000  31996.00000  30700.00000   \n",
       "Operating Income                     18161.00000  27759.00000  26764.00000   \n",
       "Total Non-Operating Income\\/Expense    346.00000     61.00000    288.00000   \n",
       "Pre-Tax Income                       18507.00000  27820.00000  27052.00000   \n",
       "Income Taxes                          6314.00000   5746.00000   5189.00000   \n",
       "Income After Taxes                   12193.00000  22074.00000  21863.00000   \n",
       "Other Income                                                                 \n",
       "Income From Continuous Operations    12193.00000  22074.00000  21863.00000   \n",
       "Income From Discontinued Operations                                          \n",
       "Net Income                           12193.00000  22074.00000  21863.00000   \n",
       "EBITDA                               31616.00000  32971.00000  30519.00000   \n",
       "EBIT                                 18161.00000  27759.00000  26764.00000   \n",
       "Basic Shares Outstanding              8177.00000   8299.00000   8375.00000   \n",
       "Shares Outstanding                    8254.00000   8399.00000   8470.00000   \n",
       "Basic EPS                                1.49000      2.66000      2.61000   \n",
       "EPS - Earnings Per Share                 1.48000      2.63000      2.58000   \n",
       "\n",
       "                                      2012-06-30   2011-06-30   2010-06-30  \\\n",
       "field_name                                                                   \n",
       "Revenue                              73723.00000  69943.00000  62484.00000   \n",
       "Cost Of Goods Sold                   17530.00000  15577.00000  12395.00000   \n",
       "Gross Profit                         56193.00000  54366.00000  50089.00000   \n",
       "Research And Development Expenses     9811.00000   9043.00000   8714.00000   \n",
       "SG&A Expenses                        18426.00000  18162.00000  17277.00000   \n",
       "Other Operating Income Or Expenses                                           \n",
       "Operating Expenses                   34430.00000  27205.00000  25991.00000   \n",
       "Operating Income                     21763.00000  27161.00000  24098.00000   \n",
       "Total Non-Operating Income\\/Expense    504.00000    910.00000    915.00000   \n",
       "Pre-Tax Income                       22267.00000  28071.00000  25013.00000   \n",
       "Income Taxes                          5289.00000   4921.00000   6253.00000   \n",
       "Income After Taxes                   16978.00000  23150.00000  18760.00000   \n",
       "Other Income                                                                 \n",
       "Income From Continuous Operations    16978.00000  23150.00000  18760.00000   \n",
       "Income From Discontinued Operations                                          \n",
       "Net Income                           16978.00000  23150.00000  18760.00000   \n",
       "EBITDA                               30923.00000  29927.00000  26771.00000   \n",
       "EBIT                                 21763.00000  27161.00000  24098.00000   \n",
       "Basic Shares Outstanding              8396.00000   8490.00000   8813.00000   \n",
       "Shares Outstanding                    8506.00000   8593.00000   8927.00000   \n",
       "Basic EPS                                2.02000      2.73000      2.13000   \n",
       "EPS - Earnings Per Share                 2.00000      2.69000      2.10000   \n",
       "\n",
       "                                      2009-06-30  \n",
       "field_name                                        \n",
       "Revenue                              58437.00000  \n",
       "Cost Of Goods Sold                   12155.00000  \n",
       "Gross Profit                         46282.00000  \n",
       "Research And Development Expenses     9010.00000  \n",
       "SG&A Expenses                        16909.00000  \n",
       "Other Operating Income Or Expenses                \n",
       "Operating Expenses                   25919.00000  \n",
       "Operating Income                     20363.00000  \n",
       "Total Non-Operating Income\\/Expense   -542.00000  \n",
       "Pre-Tax Income                       19821.00000  \n",
       "Income Taxes                          5252.00000  \n",
       "Income After Taxes                   14569.00000  \n",
       "Other Income                                      \n",
       "Income From Continuous Operations    14569.00000  \n",
       "Income From Discontinued Operations               \n",
       "Net Income                           14569.00000  \n",
       "EBITDA                               22925.00000  \n",
       "EBIT                                 20363.00000  \n",
       "Basic Shares Outstanding              8945.00000  \n",
       "Shares Outstanding                    8996.00000  \n",
       "Basic EPS                                1.63000  \n",
       "EPS - Earnings Per Share                 1.62000  "
      ]
     },
     "execution_count": 10,
     "metadata": {},
     "output_type": "execute_result"
    }
   ],
   "source": [
    "symbol = \"MSFT\"\n",
    "ticker = Ticker(ticker=symbol)\n",
    "income_statement = ticker.macrotrends_income_statement\n",
    "income_statement"
   ]
  },
  {
   "cell_type": "code",
   "execution_count": 50,
   "metadata": {},
   "outputs": [
    {
     "data": {
      "application/vnd.plotly.v1+json": {
       "config": {
        "plotlyServerURL": "https://plot.ly"
       },
       "data": [
        {
         "alignmentgroup": "True",
         "hovertemplate": "<b>%{y}</b>",
         "legendgroup": "annualTotalRevenue",
         "marker": {
          "color": "#636efa",
          "line": {
           "width": 1.5
          },
          "pattern": {
           "shape": ""
          }
         },
         "name": "annualTotalRevenue",
         "offsetgroup": "annualTotalRevenue",
         "orientation": "v",
         "showlegend": true,
         "textposition": "auto",
         "type": "bar",
         "x": [
          "2021-06-30",
          "2022-06-30",
          "2023-06-30",
          "2024-06-30"
         ],
         "xaxis": "x",
         "y": [
          168088000000,
          198270000000,
          211915000000,
          245122000000
         ],
         "yaxis": "y"
        },
        {
         "alignmentgroup": "True",
         "hovertemplate": "<b>%{y}</b>",
         "legendgroup": "annualEBITDA",
         "marker": {
          "color": "#EF553B",
          "line": {
           "width": 1.5
          },
          "pattern": {
           "shape": ""
          }
         },
         "name": "annualEBITDA",
         "offsetgroup": "annualEBITDA",
         "orientation": "v",
         "showlegend": true,
         "textposition": "auto",
         "type": "bar",
         "x": [
          "2021-06-30",
          "2022-06-30",
          "2023-06-30",
          "2024-06-30"
         ],
         "xaxis": "x",
         "y": [
          85134000000,
          100239000000,
          105140000000,
          133009000000
         ],
         "yaxis": "y"
        },
        {
         "alignmentgroup": "True",
         "hovertemplate": "<b>%{y}</b>",
         "legendgroup": "annualTotalExpenses",
         "marker": {
          "color": "#00cc96",
          "line": {
           "width": 1.5
          },
          "pattern": {
           "shape": ""
          }
         },
         "name": "annualTotalExpenses",
         "offsetgroup": "annualTotalExpenses",
         "orientation": "v",
         "showlegend": true,
         "textposition": "auto",
         "type": "bar",
         "x": [
          "2021-06-30",
          "2022-06-30",
          "2023-06-30",
          "2024-06-30"
         ],
         "xaxis": "x",
         "y": [
          98172000000,
          114887000000,
          123392000000,
          135689000000
         ],
         "yaxis": "y"
        },
        {
         "alignmentgroup": "True",
         "hovertemplate": "<b>%{y}</b>",
         "legendgroup": "annualNetIncomeCommonStockholders",
         "marker": {
          "color": "#ab63fa",
          "line": {
           "width": 1.5
          },
          "pattern": {
           "shape": ""
          }
         },
         "name": "annualNetIncomeCommonStockholders",
         "offsetgroup": "annualNetIncomeCommonStockholders",
         "orientation": "v",
         "showlegend": true,
         "textposition": "auto",
         "type": "bar",
         "x": [
          "2021-06-30",
          "2022-06-30",
          "2023-06-30",
          "2024-06-30"
         ],
         "xaxis": "x",
         "y": [
          61271000000,
          72738000000,
          72361000000,
          88136000000
         ],
         "yaxis": "y"
        },
        {
         "alignmentgroup": "True",
         "hovertemplate": "<b>%{y}</b>",
         "legendgroup": "annualNetIncome",
         "marker": {
          "color": "#FFA15A",
          "line": {
           "width": 1.5
          },
          "pattern": {
           "shape": ""
          }
         },
         "name": "annualNetIncome",
         "offsetgroup": "annualNetIncome",
         "orientation": "v",
         "showlegend": true,
         "textposition": "auto",
         "type": "bar",
         "x": [
          "2021-06-30",
          "2022-06-30",
          "2023-06-30",
          "2024-06-30"
         ],
         "xaxis": "x",
         "y": [
          61271000000,
          72738000000,
          72361000000,
          88136000000
         ],
         "yaxis": "y"
        }
       ],
       "layout": {
        "barmode": "group",
        "legend": {
         "title": {
          "text": ""
         },
         "tracegroupgap": 0
        },
        "template": {
         "data": {
          "bar": [
           {
            "error_x": {
             "color": "#2a3f5f"
            },
            "error_y": {
             "color": "#2a3f5f"
            },
            "marker": {
             "line": {
              "color": "#E5ECF6",
              "width": 0.5
             },
             "pattern": {
              "fillmode": "overlay",
              "size": 10,
              "solidity": 0.2
             }
            },
            "type": "bar"
           }
          ],
          "barpolar": [
           {
            "marker": {
             "line": {
              "color": "#E5ECF6",
              "width": 0.5
             },
             "pattern": {
              "fillmode": "overlay",
              "size": 10,
              "solidity": 0.2
             }
            },
            "type": "barpolar"
           }
          ],
          "carpet": [
           {
            "aaxis": {
             "endlinecolor": "#2a3f5f",
             "gridcolor": "white",
             "linecolor": "white",
             "minorgridcolor": "white",
             "startlinecolor": "#2a3f5f"
            },
            "baxis": {
             "endlinecolor": "#2a3f5f",
             "gridcolor": "white",
             "linecolor": "white",
             "minorgridcolor": "white",
             "startlinecolor": "#2a3f5f"
            },
            "type": "carpet"
           }
          ],
          "choropleth": [
           {
            "colorbar": {
             "outlinewidth": 0,
             "ticks": ""
            },
            "type": "choropleth"
           }
          ],
          "contour": [
           {
            "colorbar": {
             "outlinewidth": 0,
             "ticks": ""
            },
            "colorscale": [
             [
              0,
              "#0d0887"
             ],
             [
              0.1111111111111111,
              "#46039f"
             ],
             [
              0.2222222222222222,
              "#7201a8"
             ],
             [
              0.3333333333333333,
              "#9c179e"
             ],
             [
              0.4444444444444444,
              "#bd3786"
             ],
             [
              0.5555555555555556,
              "#d8576b"
             ],
             [
              0.6666666666666666,
              "#ed7953"
             ],
             [
              0.7777777777777778,
              "#fb9f3a"
             ],
             [
              0.8888888888888888,
              "#fdca26"
             ],
             [
              1,
              "#f0f921"
             ]
            ],
            "type": "contour"
           }
          ],
          "contourcarpet": [
           {
            "colorbar": {
             "outlinewidth": 0,
             "ticks": ""
            },
            "type": "contourcarpet"
           }
          ],
          "heatmap": [
           {
            "colorbar": {
             "outlinewidth": 0,
             "ticks": ""
            },
            "colorscale": [
             [
              0,
              "#0d0887"
             ],
             [
              0.1111111111111111,
              "#46039f"
             ],
             [
              0.2222222222222222,
              "#7201a8"
             ],
             [
              0.3333333333333333,
              "#9c179e"
             ],
             [
              0.4444444444444444,
              "#bd3786"
             ],
             [
              0.5555555555555556,
              "#d8576b"
             ],
             [
              0.6666666666666666,
              "#ed7953"
             ],
             [
              0.7777777777777778,
              "#fb9f3a"
             ],
             [
              0.8888888888888888,
              "#fdca26"
             ],
             [
              1,
              "#f0f921"
             ]
            ],
            "type": "heatmap"
           }
          ],
          "heatmapgl": [
           {
            "colorbar": {
             "outlinewidth": 0,
             "ticks": ""
            },
            "colorscale": [
             [
              0,
              "#0d0887"
             ],
             [
              0.1111111111111111,
              "#46039f"
             ],
             [
              0.2222222222222222,
              "#7201a8"
             ],
             [
              0.3333333333333333,
              "#9c179e"
             ],
             [
              0.4444444444444444,
              "#bd3786"
             ],
             [
              0.5555555555555556,
              "#d8576b"
             ],
             [
              0.6666666666666666,
              "#ed7953"
             ],
             [
              0.7777777777777778,
              "#fb9f3a"
             ],
             [
              0.8888888888888888,
              "#fdca26"
             ],
             [
              1,
              "#f0f921"
             ]
            ],
            "type": "heatmapgl"
           }
          ],
          "histogram": [
           {
            "marker": {
             "pattern": {
              "fillmode": "overlay",
              "size": 10,
              "solidity": 0.2
             }
            },
            "type": "histogram"
           }
          ],
          "histogram2d": [
           {
            "colorbar": {
             "outlinewidth": 0,
             "ticks": ""
            },
            "colorscale": [
             [
              0,
              "#0d0887"
             ],
             [
              0.1111111111111111,
              "#46039f"
             ],
             [
              0.2222222222222222,
              "#7201a8"
             ],
             [
              0.3333333333333333,
              "#9c179e"
             ],
             [
              0.4444444444444444,
              "#bd3786"
             ],
             [
              0.5555555555555556,
              "#d8576b"
             ],
             [
              0.6666666666666666,
              "#ed7953"
             ],
             [
              0.7777777777777778,
              "#fb9f3a"
             ],
             [
              0.8888888888888888,
              "#fdca26"
             ],
             [
              1,
              "#f0f921"
             ]
            ],
            "type": "histogram2d"
           }
          ],
          "histogram2dcontour": [
           {
            "colorbar": {
             "outlinewidth": 0,
             "ticks": ""
            },
            "colorscale": [
             [
              0,
              "#0d0887"
             ],
             [
              0.1111111111111111,
              "#46039f"
             ],
             [
              0.2222222222222222,
              "#7201a8"
             ],
             [
              0.3333333333333333,
              "#9c179e"
             ],
             [
              0.4444444444444444,
              "#bd3786"
             ],
             [
              0.5555555555555556,
              "#d8576b"
             ],
             [
              0.6666666666666666,
              "#ed7953"
             ],
             [
              0.7777777777777778,
              "#fb9f3a"
             ],
             [
              0.8888888888888888,
              "#fdca26"
             ],
             [
              1,
              "#f0f921"
             ]
            ],
            "type": "histogram2dcontour"
           }
          ],
          "mesh3d": [
           {
            "colorbar": {
             "outlinewidth": 0,
             "ticks": ""
            },
            "type": "mesh3d"
           }
          ],
          "parcoords": [
           {
            "line": {
             "colorbar": {
              "outlinewidth": 0,
              "ticks": ""
             }
            },
            "type": "parcoords"
           }
          ],
          "pie": [
           {
            "automargin": true,
            "type": "pie"
           }
          ],
          "scatter": [
           {
            "fillpattern": {
             "fillmode": "overlay",
             "size": 10,
             "solidity": 0.2
            },
            "type": "scatter"
           }
          ],
          "scatter3d": [
           {
            "line": {
             "colorbar": {
              "outlinewidth": 0,
              "ticks": ""
             }
            },
            "marker": {
             "colorbar": {
              "outlinewidth": 0,
              "ticks": ""
             }
            },
            "type": "scatter3d"
           }
          ],
          "scattercarpet": [
           {
            "marker": {
             "colorbar": {
              "outlinewidth": 0,
              "ticks": ""
             }
            },
            "type": "scattercarpet"
           }
          ],
          "scattergeo": [
           {
            "marker": {
             "colorbar": {
              "outlinewidth": 0,
              "ticks": ""
             }
            },
            "type": "scattergeo"
           }
          ],
          "scattergl": [
           {
            "marker": {
             "colorbar": {
              "outlinewidth": 0,
              "ticks": ""
             }
            },
            "type": "scattergl"
           }
          ],
          "scattermapbox": [
           {
            "marker": {
             "colorbar": {
              "outlinewidth": 0,
              "ticks": ""
             }
            },
            "type": "scattermapbox"
           }
          ],
          "scatterpolar": [
           {
            "marker": {
             "colorbar": {
              "outlinewidth": 0,
              "ticks": ""
             }
            },
            "type": "scatterpolar"
           }
          ],
          "scatterpolargl": [
           {
            "marker": {
             "colorbar": {
              "outlinewidth": 0,
              "ticks": ""
             }
            },
            "type": "scatterpolargl"
           }
          ],
          "scatterternary": [
           {
            "marker": {
             "colorbar": {
              "outlinewidth": 0,
              "ticks": ""
             }
            },
            "type": "scatterternary"
           }
          ],
          "surface": [
           {
            "colorbar": {
             "outlinewidth": 0,
             "ticks": ""
            },
            "colorscale": [
             [
              0,
              "#0d0887"
             ],
             [
              0.1111111111111111,
              "#46039f"
             ],
             [
              0.2222222222222222,
              "#7201a8"
             ],
             [
              0.3333333333333333,
              "#9c179e"
             ],
             [
              0.4444444444444444,
              "#bd3786"
             ],
             [
              0.5555555555555556,
              "#d8576b"
             ],
             [
              0.6666666666666666,
              "#ed7953"
             ],
             [
              0.7777777777777778,
              "#fb9f3a"
             ],
             [
              0.8888888888888888,
              "#fdca26"
             ],
             [
              1,
              "#f0f921"
             ]
            ],
            "type": "surface"
           }
          ],
          "table": [
           {
            "cells": {
             "fill": {
              "color": "#EBF0F8"
             },
             "line": {
              "color": "white"
             }
            },
            "header": {
             "fill": {
              "color": "#C8D4E3"
             },
             "line": {
              "color": "white"
             }
            },
            "type": "table"
           }
          ]
         },
         "layout": {
          "annotationdefaults": {
           "arrowcolor": "#2a3f5f",
           "arrowhead": 0,
           "arrowwidth": 1
          },
          "autotypenumbers": "strict",
          "coloraxis": {
           "colorbar": {
            "outlinewidth": 0,
            "ticks": ""
           }
          },
          "colorscale": {
           "diverging": [
            [
             0,
             "#8e0152"
            ],
            [
             0.1,
             "#c51b7d"
            ],
            [
             0.2,
             "#de77ae"
            ],
            [
             0.3,
             "#f1b6da"
            ],
            [
             0.4,
             "#fde0ef"
            ],
            [
             0.5,
             "#f7f7f7"
            ],
            [
             0.6,
             "#e6f5d0"
            ],
            [
             0.7,
             "#b8e186"
            ],
            [
             0.8,
             "#7fbc41"
            ],
            [
             0.9,
             "#4d9221"
            ],
            [
             1,
             "#276419"
            ]
           ],
           "sequential": [
            [
             0,
             "#0d0887"
            ],
            [
             0.1111111111111111,
             "#46039f"
            ],
            [
             0.2222222222222222,
             "#7201a8"
            ],
            [
             0.3333333333333333,
             "#9c179e"
            ],
            [
             0.4444444444444444,
             "#bd3786"
            ],
            [
             0.5555555555555556,
             "#d8576b"
            ],
            [
             0.6666666666666666,
             "#ed7953"
            ],
            [
             0.7777777777777778,
             "#fb9f3a"
            ],
            [
             0.8888888888888888,
             "#fdca26"
            ],
            [
             1,
             "#f0f921"
            ]
           ],
           "sequentialminus": [
            [
             0,
             "#0d0887"
            ],
            [
             0.1111111111111111,
             "#46039f"
            ],
            [
             0.2222222222222222,
             "#7201a8"
            ],
            [
             0.3333333333333333,
             "#9c179e"
            ],
            [
             0.4444444444444444,
             "#bd3786"
            ],
            [
             0.5555555555555556,
             "#d8576b"
            ],
            [
             0.6666666666666666,
             "#ed7953"
            ],
            [
             0.7777777777777778,
             "#fb9f3a"
            ],
            [
             0.8888888888888888,
             "#fdca26"
            ],
            [
             1,
             "#f0f921"
            ]
           ]
          },
          "colorway": [
           "#636efa",
           "#EF553B",
           "#00cc96",
           "#ab63fa",
           "#FFA15A",
           "#19d3f3",
           "#FF6692",
           "#B6E880",
           "#FF97FF",
           "#FECB52"
          ],
          "font": {
           "color": "#2a3f5f"
          },
          "geo": {
           "bgcolor": "white",
           "lakecolor": "white",
           "landcolor": "#E5ECF6",
           "showlakes": true,
           "showland": true,
           "subunitcolor": "white"
          },
          "hoverlabel": {
           "align": "left"
          },
          "hovermode": "closest",
          "mapbox": {
           "style": "light"
          },
          "paper_bgcolor": "white",
          "plot_bgcolor": "#E5ECF6",
          "polar": {
           "angularaxis": {
            "gridcolor": "white",
            "linecolor": "white",
            "ticks": ""
           },
           "bgcolor": "#E5ECF6",
           "radialaxis": {
            "gridcolor": "white",
            "linecolor": "white",
            "ticks": ""
           }
          },
          "scene": {
           "xaxis": {
            "backgroundcolor": "#E5ECF6",
            "gridcolor": "white",
            "gridwidth": 2,
            "linecolor": "white",
            "showbackground": true,
            "ticks": "",
            "zerolinecolor": "white"
           },
           "yaxis": {
            "backgroundcolor": "#E5ECF6",
            "gridcolor": "white",
            "gridwidth": 2,
            "linecolor": "white",
            "showbackground": true,
            "ticks": "",
            "zerolinecolor": "white"
           },
           "zaxis": {
            "backgroundcolor": "#E5ECF6",
            "gridcolor": "white",
            "gridwidth": 2,
            "linecolor": "white",
            "showbackground": true,
            "ticks": "",
            "zerolinecolor": "white"
           }
          },
          "shapedefaults": {
           "line": {
            "color": "#2a3f5f"
           }
          },
          "ternary": {
           "aaxis": {
            "gridcolor": "white",
            "linecolor": "white",
            "ticks": ""
           },
           "baxis": {
            "gridcolor": "white",
            "linecolor": "white",
            "ticks": ""
           },
           "bgcolor": "#E5ECF6",
           "caxis": {
            "gridcolor": "white",
            "linecolor": "white",
            "ticks": ""
           }
          },
          "title": {
           "x": 0.05
          },
          "xaxis": {
           "automargin": true,
           "gridcolor": "white",
           "linecolor": "white",
           "ticks": "",
           "title": {
            "standoff": 15
           },
           "zerolinecolor": "white",
           "zerolinewidth": 2
          },
          "yaxis": {
           "automargin": true,
           "gridcolor": "white",
           "linecolor": "white",
           "ticks": "",
           "title": {
            "standoff": 15
           },
           "zerolinecolor": "white",
           "zerolinewidth": 2
          }
         }
        },
        "title": {
         "text": "Financials for MSFT (annual)"
        },
        "xaxis": {
         "anchor": "y",
         "domain": [
          0,
          1
         ],
         "title": {
          "text": "Date"
         }
        },
        "yaxis": {
         "anchor": "x",
         "domain": [
          0,
          1
         ],
         "title": {
          "text": "Amount"
         }
        }
       }
      }
     },
     "metadata": {},
     "output_type": "display_data"
    },
    {
     "name": "stderr",
     "output_type": "stream",
     "text": [
      "<string>:1: SyntaxWarning:\n",
      "\n",
      "invalid escape sequence '\\/'\n",
      "\n",
      "<string>:1: SyntaxWarning:\n",
      "\n",
      "invalid escape sequence '\\/'\n",
      "\n",
      "<string>:1: SyntaxWarning:\n",
      "\n",
      "invalid escape sequence '\\/'\n",
      "\n",
      "<string>:1: SyntaxWarning:\n",
      "\n",
      "invalid escape sequence '\\/'\n",
      "\n",
      "<string>:1: SyntaxWarning:\n",
      "\n",
      "invalid escape sequence '\\/'\n",
      "\n",
      "<string>:1: SyntaxWarning:\n",
      "\n",
      "invalid escape sequence '\\/'\n",
      "\n",
      "<string>:1: SyntaxWarning:\n",
      "\n",
      "invalid escape sequence '\\/'\n",
      "\n",
      "<string>:1: SyntaxWarning:\n",
      "\n",
      "invalid escape sequence '\\/'\n",
      "\n",
      "<string>:1: SyntaxWarning:\n",
      "\n",
      "invalid escape sequence '\\/'\n",
      "\n",
      "<string>:1: SyntaxWarning:\n",
      "\n",
      "invalid escape sequence '\\/'\n",
      "\n",
      "<string>:1: SyntaxWarning:\n",
      "\n",
      "invalid escape sequence '\\/'\n",
      "\n",
      "<string>:1: SyntaxWarning:\n",
      "\n",
      "invalid escape sequence '\\/'\n",
      "\n",
      "<string>:1: SyntaxWarning:\n",
      "\n",
      "invalid escape sequence '\\/'\n",
      "\n",
      "<string>:1: SyntaxWarning:\n",
      "\n",
      "invalid escape sequence '\\/'\n",
      "\n",
      "<string>:1: SyntaxWarning:\n",
      "\n",
      "invalid escape sequence '\\/'\n",
      "\n",
      "<string>:1: SyntaxWarning:\n",
      "\n",
      "invalid escape sequence '\\/'\n",
      "\n",
      "<string>:1: SyntaxWarning:\n",
      "\n",
      "invalid escape sequence '\\/'\n",
      "\n",
      "<string>:1: SyntaxWarning:\n",
      "\n",
      "invalid escape sequence '\\/'\n",
      "\n",
      "<string>:1: SyntaxWarning:\n",
      "\n",
      "invalid escape sequence '\\/'\n",
      "\n",
      "<string>:1: SyntaxWarning:\n",
      "\n",
      "invalid escape sequence '\\/'\n",
      "\n",
      "<string>:1: SyntaxWarning:\n",
      "\n",
      "invalid escape sequence '\\/'\n",
      "\n",
      "<string>:1: SyntaxWarning:\n",
      "\n",
      "invalid escape sequence '\\/'\n",
      "\n",
      "<string>:1: SyntaxWarning:\n",
      "\n",
      "invalid escape sequence '\\/'\n",
      "\n",
      "<string>:1: SyntaxWarning:\n",
      "\n",
      "invalid escape sequence '\\/'\n",
      "\n",
      "<string>:1: SyntaxWarning:\n",
      "\n",
      "invalid escape sequence '\\/'\n",
      "\n",
      "<string>:1: SyntaxWarning:\n",
      "\n",
      "invalid escape sequence '\\/'\n",
      "\n",
      "<string>:1: SyntaxWarning:\n",
      "\n",
      "invalid escape sequence '\\/'\n",
      "\n",
      "<string>:1: SyntaxWarning:\n",
      "\n",
      "invalid escape sequence '\\/'\n",
      "\n",
      "<string>:1: SyntaxWarning:\n",
      "\n",
      "invalid escape sequence '\\/'\n",
      "\n",
      "<string>:1: SyntaxWarning:\n",
      "\n",
      "invalid escape sequence '\\/'\n",
      "\n",
      "<string>:1: SyntaxWarning:\n",
      "\n",
      "invalid escape sequence '\\/'\n",
      "\n",
      "<string>:1: SyntaxWarning:\n",
      "\n",
      "invalid escape sequence '\\/'\n",
      "\n",
      "<string>:1: SyntaxWarning:\n",
      "\n",
      "invalid escape sequence '\\/'\n",
      "\n",
      "<string>:1: SyntaxWarning:\n",
      "\n",
      "invalid escape sequence '\\/'\n",
      "\n",
      "<string>:1: SyntaxWarning:\n",
      "\n",
      "invalid escape sequence '\\/'\n",
      "\n",
      "<string>:1: SyntaxWarning:\n",
      "\n",
      "invalid escape sequence '\\/'\n",
      "\n",
      "<string>:1: SyntaxWarning:\n",
      "\n",
      "invalid escape sequence '\\/'\n",
      "\n",
      "<string>:1: SyntaxWarning:\n",
      "\n",
      "invalid escape sequence '\\/'\n",
      "\n",
      "<string>:1: SyntaxWarning:\n",
      "\n",
      "invalid escape sequence '\\/'\n",
      "\n",
      "<string>:1: SyntaxWarning:\n",
      "\n",
      "invalid escape sequence '\\/'\n",
      "\n",
      "<string>:1: SyntaxWarning:\n",
      "\n",
      "invalid escape sequence '\\/'\n",
      "\n"
     ]
    }
   ],
   "source": [
    "from stockdex import Ticker\n",
    "from datetime import datetime\n",
    "\n",
    "ticker = Ticker(ticker=\"AAPL\")\n",
    "\n",
    "# Price data (use range and dataGranularity to make range and granularity more specific) from Yahoo Finance API\n",
    "price = ticker.yahoo_api_price(range='1y', dataGranularity='1d')\n",
    "\n",
    "# plot financial data using Plotly\n",
    "ticker = Ticker(ticker=\"MSFT\")\n",
    "ticker.plot_yahoo_api_financials(group_by=\"field\")\n",
    "\n",
    "# Complete historical data of the stock in certain categories from digrin website\n",
    "dividend = ticker.digrin_dividend\n",
    "\n",
    "# Financial data from macrotrends website\n",
    "income_statement = ticker.macrotrends_income_statement\n",
    "\n",
    "# Summary including general financial information from Yahoo Finance website\n",
    "summary = ticker.yahoo_web_summary"
   ]
  },
  {
   "cell_type": "markdown",
   "metadata": {},
   "source": [
    "### Variables"
   ]
  },
  {
   "cell_type": "code",
   "execution_count": 7,
   "metadata": {},
   "outputs": [],
   "source": [
    "warnings.filterwarnings(\"ignore\", category=FutureWarning)\n",
    "symbol_list = input(\"Symbols: ('simple', 'filtered' or 'all')\") # 'simple' or 'all'. simple are the tickers from the screener notebook and all are all of the tickers in 'filtered_tickers'. You may also an 'Int' to get a % amount of random tickers from 'all'\n",
    "if symbol_list:\n",
    "    build_new_dataset = True\n",
    "else:\n",
    "    build_new_dataset = False\n",
    "    symbol_list = 'filtered'\n",
    "minimum_feature_threshold = 0.6\n",
    "outlier = 3\n",
    "iterations = ast.literal_eval(f\"{input(\"Iterations eg. '10', '20', '30'\")}\")\n",
    "if iterations:\n",
    "    train_new_model = True\n",
    "    search_params = {\n",
    "            \"hidden_layer_amount\": Integer(2, 20),\n",
    "            \"neuron_amount\": Integer(20, 4000),\n",
    "            \"warm_start\": Categorical([False, True]),\n",
    "            \"activation\": Categorical(['identity', 'logistic', 'tanh', 'relu']),\n",
    "            \"solver\": Categorical(['sgd', 'adam', 'lbfgs']),\n",
    "            \"alpha\": Real(0.000001, 1),\n",
    "            \"learning_rate_init\": Real(0.00001, 0.1),\n",
    "            \"power_t\": Real(0.0001, 100),\n",
    "            \"momentum\": Real(0.0001, 100),\n",
    "            \"validation_fraction\": Real(0.05, 0.20),\n",
    "            \"beta_1\": Real(0.001, 10),\n",
    "            \"beta_2\": Real(0.0001, 100),\n",
    "            \"epsilon\": Real(0.0000000001, 0.000001),}\n",
    "    cross_validations = 2  # will be set to 3 if not specified\n",
    "    verticle_jobs = 1 #'-1' for max\n",
    "if build_new_dataset or train_new_model:\n",
    "    debugging = {'True': True, 'False': False}.get(input('Debug? (Bool)'))\n",
    "else:\n",
    "    debugging = False"
   ]
  },
  {
   "cell_type": "markdown",
   "metadata": {},
   "source": [
    "## Data Preparation"
   ]
  },
  {
   "cell_type": "code",
   "execution_count": 8,
   "metadata": {},
   "outputs": [
    {
     "data": {
      "text/plain": [
       "array(['MATAS.CO', 'TRIFOR.CO', 'RNMBY', ..., 'ZION', 'CCJ', 'JBL'],\n",
       "      shape=(1930,), dtype=object)"
      ]
     },
     "execution_count": 8,
     "metadata": {},
     "output_type": "execute_result"
    }
   ],
   "source": [
    "symbols = pd.read_csv('../data/simple_tickers.csv')['Ticker'].tolist()\n",
    "if symbol_list == 'filtered':\n",
    "    symbols = symbols + pd.read_csv('../data/filtered_tickers.csv')['Ticker'].tolist()\n",
    "elif symbol_list == 'all':\n",
    "    symbols = symbols + pd.read_csv('../data/tickers.csv')['Ticker'].tolist()\n",
    "elif symbol_list.isdigit():\n",
    "    all_symbols = pd.read_csv('../data/tickers.csv')['Ticker'].tolist()\n",
    "    num_symbols = max(1, round(len(all_symbols) * (int(symbol_list) / 100)))  \n",
    "    symbols = symbols + pd.read_csv(\"../data/filtered_tickers.csv\")[\"Ticker\"].tolist()\n",
    "    symbols = symbols + np.random.choice(all_symbols, num_symbols, replace=False).tolist()\n",
    "\n",
    "symbols = pd.Series(symbols).unique()\n",
    "symbols"
   ]
  },
  {
   "cell_type": "markdown",
   "metadata": {},
   "source": [
    "#### Download annual financial data"
   ]
  },
  {
   "cell_type": "code",
   "execution_count": 9,
   "metadata": {},
   "outputs": [],
   "source": [
    "if build_new_dataset:\n",
    "    df = pd.DataFrame()\n",
    "    filtered_pd = pd.read_csv('../data/filtered_tickers.csv')\n",
    "    for symbol in tqdm(symbols, smoothing=0):\n",
    "        ticker_df = pd.DataFrame()\n",
    "        ticker = yf.Ticker(symbol)\n",
    "        try:\n",
    "            # Latest earning data\n",
    "            latest_earning_date = ticker.quarterly_cash_flow.columns.tolist()[0]\n",
    "            latest_data = {'Ticker': symbol, 'Name': ticker.info[\"shortName\"], 'Date': latest_earning_date}\n",
    "            latest_data['3M Future Change'] = np.nan\n",
    "            latest_data['6M Future Change'] = np.nan\n",
    "            latest_data['9M Future Change'] = np.nan\n",
    "            latest_data['1Y Future Change'] = np.nan\n",
    "            try:\n",
    "                latest_data['Sector'] = ticker.info['sector']\n",
    "            except:\n",
    "                latest_data['Sector'] = 'Unknown'\n",
    "            try:\n",
    "                latest_data['Industry'] = ticker.info['industry']\n",
    "            except:\n",
    "                latest_data['Industry'] = 'Unknown'\n",
    "            for column in ticker.quarterly_cash_flow[latest_earning_date].keys().tolist():\n",
    "                latest_data[column] = ticker.quarterly_cash_flow[latest_earning_date][column]\n",
    "            for column in ticker.quarterly_balance_sheet[latest_earning_date].keys().tolist():\n",
    "                latest_data[column] = ticker.quarterly_balance_sheet[latest_earning_date][column]\n",
    "            for column in ticker.quarterly_income_stmt[latest_earning_date].keys().tolist():\n",
    "                latest_data[column] = ticker.quarterly_income_stmt[latest_earning_date][column]\n",
    "            ticker_df = pd.concat([ticker_df, pd.DataFrame([latest_data])], ignore_index=True)\n",
    "\n",
    "            # Annual data\n",
    "            earning_dates = ticker.cash_flow.columns.tolist()\n",
    "            if len(earning_dates) == 5:\n",
    "                earning_dates.remove(earning_dates[4])\n",
    "            else:\n",
    "                if symbol in filtered_pd['Ticker'].tolist():\n",
    "                    filtered_pd = filtered_pd[filtered_pd['Ticker'] != symbol]\n",
    "                if debugging:\n",
    "                    print(f\"{symbol} had {len(earning_dates)} earning dates, not 5\")\n",
    "                continue\n",
    "            price_data = yf.download(symbol, period='5y', rounding=False, progress=False)\n",
    "            cash_flow = ticker.cash_flow\n",
    "            cash_flow_columns = cash_flow[earning_dates[0]].keys().tolist()\n",
    "            balance_sheet = ticker.balance_sheet\n",
    "            balance_sheet_columns = balance_sheet[earning_dates[0]].keys().tolist()\n",
    "            income_statement = ticker.income_stmt\n",
    "            income_statement_columns = income_statement[earning_dates[0]].keys().tolist()\n",
    "            for earning_date in earning_dates:\n",
    "                earning_date_data = {'Ticker': symbol, 'Name': ticker.info[\"shortName\"], 'Date': earning_date}\n",
    "                got_price = False\n",
    "                day_offset = 0\n",
    "                while(got_price==False and day_offset > -6):\n",
    "                    try:           \n",
    "                        earning_date_data['3M Future Change'] = (\n",
    "                            float(price_data.loc[earning_date + pd.Timedelta(days=day_offset, weeks=13) , ('Close', symbol)]) / \n",
    "                            float(price_data.loc[earning_date + pd.Timedelta(days=day_offset), ('Close', symbol)]) - 1\n",
    "                        )\n",
    "                        earning_date_data['6M Future Change'] = (\n",
    "                            float(price_data.loc[earning_date + pd.Timedelta(days=day_offset, weeks=26) , ('Close', symbol)]) / \n",
    "                            float(price_data.loc[earning_date + pd.Timedelta(days=day_offset), ('Close', symbol)]) - 1\n",
    "                        )\n",
    "                        earning_date_data['9M Future Change'] = (\n",
    "                            float(price_data.loc[earning_date + pd.Timedelta(days=day_offset, weeks=39) , ('Close', symbol)]) / \n",
    "                            float(price_data.loc[earning_date + pd.Timedelta(days=day_offset), ('Close', symbol)]) - 1\n",
    "                        )\n",
    "                        earning_date_data['1Y Future Change'] = (\n",
    "                            float(price_data.loc[earning_date + pd.Timedelta(days=day_offset, weeks=52) , ('Close', symbol)]) / \n",
    "                            float(price_data.loc[earning_date + pd.Timedelta(days=day_offset), ('Close', symbol)]) - 1\n",
    "                        )\n",
    "                        got_price = True\n",
    "                    except:\n",
    "                        day_offset += -1\n",
    "                try:\n",
    "                    earning_date_data['Sector'] = ticker.info['sector']\n",
    "                except:\n",
    "                    earning_date_data['Sector'] = 'Unknown'\n",
    "                try:\n",
    "                    earning_date_data['Industry'] = ticker.info['industry']\n",
    "                except:\n",
    "                    earning_date_data['Industry'] = 'Unknown'\n",
    "                for column in cash_flow_columns:\n",
    "                    earning_date_data[column] = cash_flow[earning_date][column]\n",
    "                for column in balance_sheet_columns:\n",
    "                    earning_date_data[column] = balance_sheet[earning_date][column]\n",
    "                for column in income_statement_columns:\n",
    "                    earning_date_data[column] = income_statement[earning_date][column]\n",
    "                if got_price:\n",
    "                    ticker_df = pd.concat([ticker_df, pd.DataFrame([earning_date_data])], ignore_index=True)\n",
    "            \n",
    "            if len(ticker_df) != 4:\n",
    "                if symbol in filtered_pd['Ticker'].tolist():\n",
    "                    filtered_pd = filtered_pd[filtered_pd['Ticker'] != symbol]\n",
    "                    if debugging:\n",
    "                        print(f'Removed {symbol} from filtered tickers because the length of the df was not 4, it was {len(ticker_df)}')\n",
    "                else:\n",
    "                    if debugging:\n",
    "                        print(f'{symbol}: df was not 4, it was {len(ticker_df)}')\n",
    "                continue\n",
    "\n",
    "            if ticker_df.isna().sum().sum() < round(352 * minimum_feature_threshold):\n",
    "                if symbol not in filtered_pd['Ticker'].tolist():\n",
    "                    filtered_pd = pd.concat([filtered_pd, pd.DataFrame([{'Ticker': symbol}])])\n",
    "                imputer = SimpleImputer()\n",
    "                for column in ticker_df.columns.drop(['Ticker', 'Name', 'Date', '3M Future Change', '6M Future Change', '9M Future Change', '1Y Future Change', 'Sector', 'Industry']):\n",
    "                    if not ticker_df[column].isna().all():\n",
    "                        ticker_df[column] = imputer.fit_transform(ticker_df[[column]])\n",
    "            else:\n",
    "                if symbol in filtered_pd['Ticker'].tolist():\n",
    "                    filtered_pd = filtered_pd[filtered_pd['Ticker'] != symbol]\n",
    "                    if debugging:\n",
    "                        print(f'Removed {symbol} from filtered tickers. Datapoints: {ticker_df.isna().sum().sum()}, Needed: {round(352 * minimum_feature_threshold)}')\n",
    "                continue\n",
    "            df = pd.concat([df, ticker_df], ignore_index=True)\n",
    "        except Exception as error:\n",
    "            if symbol in filtered_pd['Ticker'].tolist():\n",
    "                filtered_pd = filtered_pd[filtered_pd['Ticker'] != symbol]\n",
    "                if debugging:\n",
    "                    print(f'Removed {symbol} from filtered tickers because an exception was raised \\n {error}')\n",
    "            else:\n",
    "                if debugging:\n",
    "                    print(f\"{symbol}: exception raised: {error}\")\n",
    "            continue\n",
    "    filtered_pd.to_csv('../data/filtered_tickers.csv', index=False)\n",
    "    df.to_csv('../data/earnings_data.csv', index=False)\n",
    "else:\n",
    "    df = pd.read_csv('../data/earnings_data.csv')"
   ]
  },
  {
   "cell_type": "markdown",
   "metadata": {},
   "source": [
    "### Short visualisation"
   ]
  },
  {
   "cell_type": "code",
   "execution_count": 10,
   "metadata": {},
   "outputs": [],
   "source": [
    "if debugging:\n",
    "    display(df)"
   ]
  },
  {
   "cell_type": "markdown",
   "metadata": {},
   "source": [
    "### Impution and encoding"
   ]
  },
  {
   "cell_type": "code",
   "execution_count": 11,
   "metadata": {},
   "outputs": [],
   "source": [
    "imputer = SimpleImputer()\n",
    "scaler = StandardScaler()\n",
    "for column in df.columns.drop(['Ticker', 'Name', 'Date', '3M Future Change', '6M Future Change', '9M Future Change', '1Y Future Change', 'Sector', 'Industry']):\n",
    "    df[column] = imputer.fit_transform(df[[column]])\n",
    "    scaler.fit(df[[column]])\n",
    "    df[column] = scaler.transform(df[[column]])\n",
    "\n",
    "le = LabelEncoder()\n",
    "for column in ['Sector', 'Industry']:\n",
    "    df[column] = df[column].astype(str)\n",
    "    le.fit(df[column])\n",
    "    df[column] = le.transform(df[column])"
   ]
  },
  {
   "cell_type": "markdown",
   "metadata": {},
   "source": [
    "### Splitting"
   ]
  },
  {
   "cell_type": "code",
   "execution_count": 12,
   "metadata": {},
   "outputs": [
    {
     "name": "stderr",
     "output_type": "stream",
     "text": [
      "100%|██████████| 1898/1898 [01:51<00:00, 17.02it/s]\n"
     ]
    }
   ],
   "source": [
    "pred_data = pd.DataFrame()\n",
    "test_data = pd.DataFrame()\n",
    "train_data = pd.DataFrame()\n",
    "for i in tqdm(range(int(len(df) / 4)), smoothing=0):\n",
    "    cont = False\n",
    "    for j in range(4):\n",
    "        if (df.loc[j+i*4, \"3M Future Change\"] > outlier or\n",
    "            df.loc[j+i*4, \"6M Future Change\"] > outlier or\n",
    "            df.loc[j+i*4, \"9M Future Change\"] > outlier or\n",
    "            df.loc[j+i*4, \"1Y Future Change\"] > outlier):\n",
    "            cont = True\n",
    "    if cont:\n",
    "        continue\n",
    "    pred_data = pd.concat([pred_data, df.iloc[[i*4]]]) \n",
    "    test_data = pd.concat([test_data, df.iloc[[1+i*4]]])\n",
    "    train_data = pd.concat([train_data, df.iloc[[2+i*4]]])\n",
    "    train_data = pd.concat([train_data, df.iloc[[3+i*4]]])\n",
    "if debugging:\n",
    "    print('Prediction Data:')\n",
    "    display(pred_data)\n",
    "    print(\"Test Data:\")\n",
    "    display(test_data)\n",
    "    print('Training Data:')\n",
    "    display(train_data)"
   ]
  },
  {
   "cell_type": "markdown",
   "metadata": {},
   "source": [
    "### Labeling"
   ]
  },
  {
   "cell_type": "code",
   "execution_count": 13,
   "metadata": {},
   "outputs": [],
   "source": [
    "training_columns = train_data.columns.drop([\"Ticker\", \"Name\", \"Sector\", \"Industry\", \"Date\", '3M Future Change', '6M Future Change', '9M Future Change', '1Y Future Change'])\n",
    "label_columns = ['3M Future Change', '6M Future Change', '9M Future Change', '1Y Future Change']\n",
    "X_pred = pred_data[training_columns]\n",
    "X_test = test_data[training_columns]\n",
    "y_test = test_data[label_columns]\n",
    "X_train = train_data[training_columns]\n",
    "y_train = train_data[label_columns]\n",
    "if debugging:\n",
    "    print(\"X_pred:\")\n",
    "    display(X_pred)\n",
    "    print(\"X_test:\")\n",
    "    display(X_test)\n",
    "    print(\"y_test:\")\n",
    "    display(y_test)\n",
    "    print(\"X_train:\")\n",
    "    display(X_train)\n",
    "    print(\"y_train:\")\n",
    "    display(y_train)"
   ]
  },
  {
   "cell_type": "markdown",
   "metadata": {},
   "source": [
    "## Model Training"
   ]
  },
  {
   "cell_type": "code",
   "execution_count": 14,
   "metadata": {},
   "outputs": [
    {
     "name": "stdout",
     "output_type": "stream",
     "text": [
      "Trying: 9 layers, 1232 neurons per layer, iter_no_change=3\n",
      "Hidden layer sizes: (1232, 1232, 1232, 1232, 1232, 1232, 1232, 1232, 1232)\n",
      "Training completed. Iterations: 13, Final score: 0.0641 \n",
      " =================================================================\n",
      "Trying: 9 layers, 1232 neurons per layer, iter_no_change=3\n",
      "Hidden layer sizes: (1232, 1232, 1232, 1232, 1232, 1232, 1232, 1232, 1232)\n",
      "Training completed. Iterations: 6, Final score: -0.0046 \n",
      " =================================================================\n",
      "Trying: 3 layers, 2550 neurons per layer, iter_no_change=3\n",
      "Hidden layer sizes: (2550, 2550, 2550)\n",
      "Training completed. Iterations: 11, Final score: 0.1084 \n",
      " =================================================================\n",
      "Trying: 3 layers, 2550 neurons per layer, iter_no_change=3\n",
      "Hidden layer sizes: (2550, 2550, 2550)\n",
      "Training completed. Iterations: 10, Final score: 0.0302 \n",
      " =================================================================\n",
      "Trying: 10 layers, 2238 neurons per layer, iter_no_change=3\n",
      "Hidden layer sizes: (2238, 2238, 2238, 2238, 2238, 2238, 2238, 2238, 2238, 2238)\n",
      "Training completed. Iterations: 8, Final score: -0.0010 \n",
      " =================================================================\n",
      "Trying: 10 layers, 2238 neurons per layer, iter_no_change=3\n",
      "Hidden layer sizes: (2238, 2238, 2238, 2238, 2238, 2238, 2238, 2238, 2238, 2238)\n",
      "Training completed. Iterations: 11, Final score: 0.0020 \n",
      " =================================================================\n",
      "Trying: 4 layers, 3649 neurons per layer, iter_no_change=3\n",
      "Hidden layer sizes: (3649, 3649, 3649, 3649)\n",
      "Training completed. Iterations: 8, Final score: 0.0158 \n",
      " =================================================================\n",
      "Trying: 4 layers, 3649 neurons per layer, iter_no_change=3\n",
      "Hidden layer sizes: (3649, 3649, 3649, 3649)\n",
      "Training completed. Iterations: 9, Final score: 0.0015 \n",
      " =================================================================\n",
      "Trying: 15 layers, 1425 neurons per layer, iter_no_change=3\n",
      "Hidden layer sizes: (1425, 1425, 1425, 1425, 1425, 1425, 1425, 1425, 1425, 1425, 1425, 1425, 1425, 1425, 1425)\n",
      "Training completed. Iterations: 6, Final score: -0.0058 \n",
      " =================================================================\n",
      "Trying: 15 layers, 1425 neurons per layer, iter_no_change=3\n",
      "Hidden layer sizes: (1425, 1425, 1425, 1425, 1425, 1425, 1425, 1425, 1425, 1425, 1425, 1425, 1425, 1425, 1425)\n",
      "Training completed. Iterations: 14, Final score: 0.0040 \n",
      " =================================================================\n",
      "Trying: 9 layers, 3145 neurons per layer, iter_no_change=3\n",
      "Hidden layer sizes: (3145, 3145, 3145, 3145, 3145, 3145, 3145, 3145, 3145)\n",
      "Training completed. Iterations: 10, Final score: 0.0048 \n",
      " =================================================================\n",
      "Trying: 9 layers, 3145 neurons per layer, iter_no_change=3\n",
      "Hidden layer sizes: (3145, 3145, 3145, 3145, 3145, 3145, 3145, 3145, 3145)\n",
      "Training completed. Iterations: 10, Final score: 0.0016 \n",
      " =================================================================\n",
      "Trying: 13 layers, 2941 neurons per layer, iter_no_change=3\n",
      "Hidden layer sizes: (2941, 2941, 2941, 2941, 2941, 2941, 2941, 2941, 2941, 2941, 2941, 2941, 2941)\n",
      "Training completed. Iterations: 8, Final score: -0.0006 \n",
      " =================================================================\n",
      "Trying: 13 layers, 2941 neurons per layer, iter_no_change=3\n",
      "Hidden layer sizes: (2941, 2941, 2941, 2941, 2941, 2941, 2941, 2941, 2941, 2941, 2941, 2941, 2941)\n",
      "Training completed. Iterations: 7, Final score: -0.0016 \n",
      " =================================================================\n",
      "Trying: 3 layers, 1555 neurons per layer, iter_no_change=3\n",
      "Hidden layer sizes: (1555, 1555, 1555)\n",
      "Training completed. Iterations: 8, Final score: 0.0256 \n",
      " =================================================================\n",
      "Trying: 3 layers, 1555 neurons per layer, iter_no_change=3\n",
      "Hidden layer sizes: (1555, 1555, 1555)\n",
      "Training completed. Iterations: 13, Final score: 0.0280 \n",
      " =================================================================\n",
      "Trying: 6 layers, 2386 neurons per layer, iter_no_change=3\n",
      "Hidden layer sizes: (2386, 2386, 2386, 2386, 2386, 2386)\n",
      "Training completed. Iterations: 9, Final score: 0.0181 \n",
      " =================================================================\n",
      "Trying: 6 layers, 2386 neurons per layer, iter_no_change=3\n",
      "Hidden layer sizes: (2386, 2386, 2386, 2386, 2386, 2386)\n",
      "Training completed. Iterations: 11, Final score: 0.0061 \n",
      " =================================================================\n",
      "Trying: 7 layers, 3577 neurons per layer, iter_no_change=3\n",
      "Hidden layer sizes: (3577, 3577, 3577, 3577, 3577, 3577, 3577)\n",
      "Training completed. Iterations: 5, Final score: -0.0024 \n",
      " =================================================================\n",
      "Trying: 7 layers, 3577 neurons per layer, iter_no_change=3\n",
      "Hidden layer sizes: (3577, 3577, 3577, 3577, 3577, 3577, 3577)\n",
      "Training completed. Iterations: 10, Final score: 0.0020 \n",
      " =================================================================\n",
      "Trying: 2 layers, 4000 neurons per layer, iter_no_change=3\n",
      "Hidden layer sizes: (4000, 4000)\n",
      "Training completed. Iterations: 7, Final score: -0.0266 \n",
      " =================================================================\n",
      "Trying: 2 layers, 4000 neurons per layer, iter_no_change=3\n",
      "Hidden layer sizes: (4000, 4000)\n",
      "Training completed. Iterations: 11, Final score: 0.0364 \n",
      " =================================================================\n",
      "Trying: 20 layers, 20 neurons per layer, iter_no_change=3\n",
      "Hidden layer sizes: (20, 20, 20, 20, 20, 20, 20, 20, 20, 20, 20, 20, 20, 20, 20, 20, 20, 20, 20, 20)\n",
      "Training completed. Iterations: 12, Final score: -0.0007 \n",
      " =================================================================\n",
      "Trying: 20 layers, 20 neurons per layer, iter_no_change=3\n",
      "Hidden layer sizes: (20, 20, 20, 20, 20, 20, 20, 20, 20, 20, 20, 20, 20, 20, 20, 20, 20, 20, 20, 20)\n",
      "Training completed. Iterations: 9, Final score: -0.0003 \n",
      " =================================================================\n",
      "Trying: 10 layers, 920 neurons per layer, iter_no_change=3\n",
      "Hidden layer sizes: (920, 920, 920, 920, 920, 920, 920, 920, 920, 920)\n",
      "Training completed. Iterations: 10, Final score: 0.0431 \n",
      " =================================================================\n",
      "Trying: 10 layers, 920 neurons per layer, iter_no_change=3\n",
      "Hidden layer sizes: (920, 920, 920, 920, 920, 920, 920, 920, 920, 920)\n",
      "Training completed. Iterations: 13, Final score: 0.0194 \n",
      " =================================================================\n",
      "Trying: 5 layers, 2203 neurons per layer, iter_no_change=3\n",
      "Hidden layer sizes: (2203, 2203, 2203, 2203, 2203)\n",
      "Training completed. Iterations: 12, Final score: 0.0686 \n",
      " =================================================================\n",
      "Trying: 5 layers, 2203 neurons per layer, iter_no_change=3\n",
      "Hidden layer sizes: (2203, 2203, 2203, 2203, 2203)\n",
      "Training completed. Iterations: 13, Final score: 0.0345 \n",
      " =================================================================\n",
      "Trying: 20 layers, 20 neurons per layer, iter_no_change=3\n",
      "Hidden layer sizes: (20, 20, 20, 20, 20, 20, 20, 20, 20, 20, 20, 20, 20, 20, 20, 20, 20, 20, 20, 20)\n",
      "Training completed. Iterations: 14, Final score: -0.0008 \n",
      " =================================================================\n",
      "Trying: 20 layers, 20 neurons per layer, iter_no_change=3\n",
      "Hidden layer sizes: (20, 20, 20, 20, 20, 20, 20, 20, 20, 20, 20, 20, 20, 20, 20, 20, 20, 20, 20, 20)\n",
      "Training completed. Iterations: 18, Final score: 0.0007 \n",
      " =================================================================\n",
      "Trying: 20 layers, 20 neurons per layer, iter_no_change=3\n",
      "Hidden layer sizes: (20, 20, 20, 20, 20, 20, 20, 20, 20, 20, 20, 20, 20, 20, 20, 20, 20, 20, 20, 20)\n",
      "Training completed. Iterations: 19, Final score: 0.0256 \n",
      " =================================================================\n",
      "Trying: 20 layers, 20 neurons per layer, iter_no_change=3\n",
      "Hidden layer sizes: (20, 20, 20, 20, 20, 20, 20, 20, 20, 20, 20, 20, 20, 20, 20, 20, 20, 20, 20, 20)\n",
      "Training completed. Iterations: 9, Final score: -0.0010 \n",
      " =================================================================\n",
      "Trying: 2 layers, 4000 neurons per layer, iter_no_change=3\n",
      "Hidden layer sizes: (4000, 4000)\n",
      "Training completed. Iterations: 10, Final score: 0.0414 \n",
      " =================================================================\n",
      "Trying: 2 layers, 4000 neurons per layer, iter_no_change=3\n",
      "Hidden layer sizes: (4000, 4000)\n",
      "Training completed. Iterations: 9, Final score: 0.0016 \n",
      " =================================================================\n",
      "Trying: 20 layers, 20 neurons per layer, iter_no_change=3\n",
      "Hidden layer sizes: (20, 20, 20, 20, 20, 20, 20, 20, 20, 20, 20, 20, 20, 20, 20, 20, 20, 20, 20, 20)\n",
      "Training completed. Iterations: 18, Final score: -0.0002 \n",
      " =================================================================\n",
      "Trying: 20 layers, 20 neurons per layer, iter_no_change=3\n",
      "Hidden layer sizes: (20, 20, 20, 20, 20, 20, 20, 20, 20, 20, 20, 20, 20, 20, 20, 20, 20, 20, 20, 20)\n",
      "Training completed. Iterations: 10, Final score: -0.0003 \n",
      " =================================================================\n",
      "Trying: 20 layers, 20 neurons per layer, iter_no_change=3\n",
      "Hidden layer sizes: (20, 20, 20, 20, 20, 20, 20, 20, 20, 20, 20, 20, 20, 20, 20, 20, 20, 20, 20, 20)\n",
      "Training completed. Iterations: 13, Final score: 0.0018 \n",
      " =================================================================\n",
      "Trying: 20 layers, 20 neurons per layer, iter_no_change=3\n",
      "Hidden layer sizes: (20, 20, 20, 20, 20, 20, 20, 20, 20, 20, 20, 20, 20, 20, 20, 20, 20, 20, 20, 20)\n",
      "Training completed. Iterations: 23, Final score: 0.0688 \n",
      " =================================================================\n",
      "Trying: 20 layers, 20 neurons per layer, iter_no_change=3\n",
      "Hidden layer sizes: (20, 20, 20, 20, 20, 20, 20, 20, 20, 20, 20, 20, 20, 20, 20, 20, 20, 20, 20, 20)\n",
      "Training completed. Iterations: 10, Final score: -0.0015 \n",
      " =================================================================\n",
      "Trying: 20 layers, 20 neurons per layer, iter_no_change=3\n",
      "Hidden layer sizes: (20, 20, 20, 20, 20, 20, 20, 20, 20, 20, 20, 20, 20, 20, 20, 20, 20, 20, 20, 20)\n",
      "Training completed. Iterations: 12, Final score: -0.0006 \n",
      " =================================================================\n",
      "Trying: 3 layers, 380 neurons per layer, iter_no_change=3\n",
      "Hidden layer sizes: (380, 380, 380)\n",
      "Training completed. Iterations: 8, Final score: 0.0741 \n",
      " =================================================================\n",
      "Trying: 3 layers, 380 neurons per layer, iter_no_change=3\n",
      "Hidden layer sizes: (380, 380, 380)\n",
      "Training completed. Iterations: 10, Final score: -0.6073 \n",
      " =================================================================\n",
      "Trying: 19 layers, 4000 neurons per layer, iter_no_change=3\n",
      "Hidden layer sizes: (4000, 4000, 4000, 4000, 4000, 4000, 4000, 4000, 4000, 4000, 4000, 4000, 4000, 4000, 4000, 4000, 4000, 4000, 4000)\n",
      "Training completed. Iterations: 9, Final score: -0.0063 \n",
      " =================================================================\n",
      "Trying: 19 layers, 4000 neurons per layer, iter_no_change=3\n",
      "Hidden layer sizes: (4000, 4000, 4000, 4000, 4000, 4000, 4000, 4000, 4000, 4000, 4000, 4000, 4000, 4000, 4000, 4000, 4000, 4000, 4000)\n",
      "Training completed. Iterations: 9, Final score: -0.0019 \n",
      " =================================================================\n",
      "Trying: 20 layers, 20 neurons per layer, iter_no_change=3\n",
      "Hidden layer sizes: (20, 20, 20, 20, 20, 20, 20, 20, 20, 20, 20, 20, 20, 20, 20, 20, 20, 20, 20, 20)\n",
      "Training completed. Iterations: 11, Final score: -0.0002 \n",
      " =================================================================\n",
      "Trying: 20 layers, 20 neurons per layer, iter_no_change=3\n",
      "Hidden layer sizes: (20, 20, 20, 20, 20, 20, 20, 20, 20, 20, 20, 20, 20, 20, 20, 20, 20, 20, 20, 20)\n",
      "Training completed. Iterations: 15, Final score: 0.0000 \n",
      " =================================================================\n",
      "Trying: 10 layers, 2404 neurons per layer, iter_no_change=3\n",
      "Hidden layer sizes: (2404, 2404, 2404, 2404, 2404, 2404, 2404, 2404, 2404, 2404)\n",
      "Training completed. Iterations: 7, Final score: -0.0031 \n",
      " =================================================================\n",
      "Trying: 10 layers, 2404 neurons per layer, iter_no_change=3\n",
      "Hidden layer sizes: (2404, 2404, 2404, 2404, 2404, 2404, 2404, 2404, 2404, 2404)\n",
      "Training completed. Iterations: 19, Final score: 0.0126 \n",
      " =================================================================\n",
      "Trying: 9 layers, 123 neurons per layer, iter_no_change=3\n",
      "Hidden layer sizes: (123, 123, 123, 123, 123, 123, 123, 123, 123)\n",
      "Training completed. Iterations: 10, Final score: 0.0615 \n",
      " =================================================================\n",
      "Trying: 9 layers, 123 neurons per layer, iter_no_change=3\n",
      "Hidden layer sizes: (123, 123, 123, 123, 123, 123, 123, 123, 123)\n",
      "Training completed. Iterations: 13, Final score: 0.1201 \n",
      " =================================================================\n",
      "Trying: 7 layers, 3396 neurons per layer, iter_no_change=3\n",
      "Hidden layer sizes: (3396, 3396, 3396, 3396, 3396, 3396, 3396)\n",
      "Training completed. Iterations: 7, Final score: -0.0004 \n",
      " =================================================================\n",
      "Trying: 7 layers, 3396 neurons per layer, iter_no_change=3\n",
      "Hidden layer sizes: (3396, 3396, 3396, 3396, 3396, 3396, 3396)\n",
      "Training completed. Iterations: 10, Final score: -0.0055 \n",
      " =================================================================\n",
      "Trying: 20 layers, 3617 neurons per layer, iter_no_change=3\n",
      "Hidden layer sizes: (3617, 3617, 3617, 3617, 3617, 3617, 3617, 3617, 3617, 3617, 3617, 3617, 3617, 3617, 3617, 3617, 3617, 3617, 3617, 3617)\n",
      "Training completed. Iterations: 20, Final score: -0.0004 \n",
      " =================================================================\n",
      "Trying: 20 layers, 3617 neurons per layer, iter_no_change=3\n",
      "Hidden layer sizes: (3617, 3617, 3617, 3617, 3617, 3617, 3617, 3617, 3617, 3617, 3617, 3617, 3617, 3617, 3617, 3617, 3617, 3617, 3617, 3617)\n",
      "Training completed. Iterations: 6, Final score: -0.0118 \n",
      " =================================================================\n",
      "Trying: 2 layers, 2934 neurons per layer, iter_no_change=3\n",
      "Hidden layer sizes: (2934, 2934)\n",
      "Training completed. Iterations: 8, Final score: 0.0161 \n",
      " =================================================================\n",
      "Trying: 2 layers, 2934 neurons per layer, iter_no_change=3\n",
      "Hidden layer sizes: (2934, 2934)\n",
      "Training completed. Iterations: 10, Final score: 0.0260 \n",
      " =================================================================\n",
      "Trying: 10 layers, 1449 neurons per layer, iter_no_change=3\n",
      "Hidden layer sizes: (1449, 1449, 1449, 1449, 1449, 1449, 1449, 1449, 1449, 1449)\n",
      "Training completed. Iterations: 6, Final score: -0.0008 \n",
      " =================================================================\n",
      "Trying: 10 layers, 1449 neurons per layer, iter_no_change=3\n",
      "Hidden layer sizes: (1449, 1449, 1449, 1449, 1449, 1449, 1449, 1449, 1449, 1449)\n",
      "Training completed. Iterations: 12, Final score: 0.0022 \n",
      " =================================================================\n",
      "Trying: 9 layers, 2235 neurons per layer, iter_no_change=3\n",
      "Hidden layer sizes: (2235, 2235, 2235, 2235, 2235, 2235, 2235, 2235, 2235)\n",
      "Training completed. Iterations: 8, Final score: 0.0001 \n",
      " =================================================================\n",
      "Trying: 9 layers, 2235 neurons per layer, iter_no_change=3\n",
      "Hidden layer sizes: (2235, 2235, 2235, 2235, 2235, 2235, 2235, 2235, 2235)\n",
      "Training completed. Iterations: 10, Final score: 0.0011 \n",
      " =================================================================\n",
      "Trying: 6 layers, 3002 neurons per layer, iter_no_change=3\n",
      "Hidden layer sizes: (3002, 3002, 3002, 3002, 3002, 3002)\n",
      "Training completed. Iterations: 9, Final score: 0.0379 \n",
      " =================================================================\n",
      "Trying: 6 layers, 3002 neurons per layer, iter_no_change=3\n",
      "Hidden layer sizes: (3002, 3002, 3002, 3002, 3002, 3002)\n",
      "Training completed. Iterations: 9, Final score: -0.0163 \n",
      " =================================================================\n",
      "Trying: 20 layers, 1797 neurons per layer, iter_no_change=3\n",
      "Hidden layer sizes: (1797, 1797, 1797, 1797, 1797, 1797, 1797, 1797, 1797, 1797, 1797, 1797, 1797, 1797, 1797, 1797, 1797, 1797, 1797, 1797)\n",
      "Training completed. Iterations: 10, Final score: -0.0017 \n",
      " =================================================================\n",
      "Trying: 20 layers, 1797 neurons per layer, iter_no_change=3\n",
      "Hidden layer sizes: (1797, 1797, 1797, 1797, 1797, 1797, 1797, 1797, 1797, 1797, 1797, 1797, 1797, 1797, 1797, 1797, 1797, 1797, 1797, 1797)\n",
      "Training completed. Iterations: 10, Final score: -0.0046 \n",
      " =================================================================\n",
      "Trying: 14 layers, 25 neurons per layer, iter_no_change=3\n",
      "Hidden layer sizes: (25, 25, 25, 25, 25, 25, 25, 25, 25, 25, 25, 25, 25, 25)\n",
      "Training completed. Iterations: 18, Final score: 0.0677 \n",
      " =================================================================\n",
      "Trying: 14 layers, 25 neurons per layer, iter_no_change=3\n",
      "Hidden layer sizes: (25, 25, 25, 25, 25, 25, 25, 25, 25, 25, 25, 25, 25, 25)\n",
      "Training completed. Iterations: 11, Final score: 0.0014 \n",
      " =================================================================\n",
      "Trying: 10 layers, 2079 neurons per layer, iter_no_change=3\n",
      "Hidden layer sizes: (2079, 2079, 2079, 2079, 2079, 2079, 2079, 2079, 2079, 2079)\n",
      "Training completed. Iterations: 9, Final score: -0.0007 \n",
      " =================================================================\n",
      "Trying: 10 layers, 2079 neurons per layer, iter_no_change=3\n",
      "Hidden layer sizes: (2079, 2079, 2079, 2079, 2079, 2079, 2079, 2079, 2079, 2079)\n",
      "Training completed. Iterations: 6, Final score: -0.0024 \n",
      " =================================================================\n",
      "Trying: 17 layers, 20 neurons per layer, iter_no_change=3\n",
      "Hidden layer sizes: (20, 20, 20, 20, 20, 20, 20, 20, 20, 20, 20, 20, 20, 20, 20, 20, 20)\n",
      "Training completed. Iterations: 11, Final score: -0.0013 \n",
      " =================================================================\n",
      "Trying: 17 layers, 20 neurons per layer, iter_no_change=3\n",
      "Hidden layer sizes: (20, 20, 20, 20, 20, 20, 20, 20, 20, 20, 20, 20, 20, 20, 20, 20, 20)\n",
      "Training completed. Iterations: 13, Final score: 0.0023 \n",
      " =================================================================\n",
      "Trying: 3 layers, 2255 neurons per layer, iter_no_change=3\n",
      "Hidden layer sizes: (2255, 2255, 2255)\n",
      "Training completed. Iterations: 8, Final score: 0.0271 \n",
      " =================================================================\n",
      "Trying: 3 layers, 2255 neurons per layer, iter_no_change=3\n",
      "Hidden layer sizes: (2255, 2255, 2255)\n",
      "Training completed. Iterations: 12, Final score: 0.0541 \n",
      " =================================================================\n",
      "Trying: 10 layers, 2937 neurons per layer, iter_no_change=3\n",
      "Hidden layer sizes: (2937, 2937, 2937, 2937, 2937, 2937, 2937, 2937, 2937, 2937)\n",
      "Training completed. Iterations: 7, Final score: -0.0016 \n",
      " =================================================================\n",
      "Trying: 10 layers, 2937 neurons per layer, iter_no_change=3\n",
      "Hidden layer sizes: (2937, 2937, 2937, 2937, 2937, 2937, 2937, 2937, 2937, 2937)\n",
      "Training completed. Iterations: 15, Final score: -0.0135 \n",
      " =================================================================\n",
      "Trying: 10 layers, 1110 neurons per layer, iter_no_change=3\n",
      "Hidden layer sizes: (1110, 1110, 1110, 1110, 1110, 1110, 1110, 1110, 1110, 1110)\n",
      "Training completed. Iterations: 7, Final score: -0.0097 \n",
      " =================================================================\n",
      "Trying: 10 layers, 1110 neurons per layer, iter_no_change=3\n",
      "Hidden layer sizes: (1110, 1110, 1110, 1110, 1110, 1110, 1110, 1110, 1110, 1110)\n",
      "Training completed. Iterations: 13, Final score: 0.1047 \n",
      " =================================================================\n",
      "Trying: 10 layers, 3811 neurons per layer, iter_no_change=3\n",
      "Hidden layer sizes: (3811, 3811, 3811, 3811, 3811, 3811, 3811, 3811, 3811, 3811)\n",
      "Training completed. Iterations: 17, Final score: 0.0177 \n",
      " =================================================================\n",
      "Trying: 10 layers, 3811 neurons per layer, iter_no_change=3\n",
      "Hidden layer sizes: (3811, 3811, 3811, 3811, 3811, 3811, 3811, 3811, 3811, 3811)\n",
      "Training completed. Iterations: 23, Final score: 0.0164 \n",
      " =================================================================\n",
      "Trying: 7 layers, 531 neurons per layer, iter_no_change=3\n",
      "Hidden layer sizes: (531, 531, 531, 531, 531, 531, 531)\n",
      "Training completed. Iterations: 7, Final score: 0.0238 \n",
      " =================================================================\n",
      "Trying: 7 layers, 531 neurons per layer, iter_no_change=3\n",
      "Hidden layer sizes: (531, 531, 531, 531, 531, 531, 531)\n",
      "Training completed. Iterations: 8, Final score: -0.0121 \n",
      " =================================================================\n",
      "Trying: 20 layers, 20 neurons per layer, iter_no_change=3\n",
      "Hidden layer sizes: (20, 20, 20, 20, 20, 20, 20, 20, 20, 20, 20, 20, 20, 20, 20, 20, 20, 20, 20, 20)\n",
      "Training completed. Iterations: 10, Final score: 0.0001 \n",
      " =================================================================\n",
      "Best parameters: OrderedDict({'activation': 'tanh', 'alpha': 1e-06, 'beta_1': 10.0, 'beta_2': 100.0, 'epsilon': 1e-10, 'hidden_layer_amount': 20, 'learning_rate_init': 0.1, 'momentum': 100.0, 'neuron_amount': 20, 'power_t': 0.0001, 'solver': 'lbfgs', 'validation_fraction': 0.2, 'warm_start': True})\n"
     ]
    }
   ],
   "source": [
    "if train_new_model:\n",
    "    opt = BayesSearchCV(\n",
    "        MLPWrapper(),\n",
    "        search_params,\n",
    "        n_iter=iterations,\n",
    "        random_state=42,\n",
    "        cv=cross_validations\n",
    "    )\n",
    "\n",
    "    opt.fit(X_train, y_train.values)\n",
    "    print(f\"Best parameters: {opt.best_params_}\")\n",
    "    model = opt.best_estimator_\n",
    "    \n",
    "    # model = MLPRegressor(\n",
    "    #     hidden_layer_sizes=hidden_layers,\n",
    "    #     learning_rate=\"adaptive\",\n",
    "    #     early_stopping=True,\n",
    "    #     verbose=True,\n",
    "    #     tol=0.00001,\n",
    "    #     n_iter_no_change=round(40000/hidden_layers[0]*4/len(hidden_layers))\n",
    "    # )\n",
    "    # print(f\"iter_no_change: {model.n_iter_no_change}\")\n",
    "    # model.fit(X_train, y_train.values)"
   ]
  },
  {
   "cell_type": "markdown",
   "metadata": {},
   "source": [
    "## Testing and benchmarking"
   ]
  },
  {
   "cell_type": "code",
   "execution_count": 15,
   "metadata": {},
   "outputs": [
    {
     "data": {
      "image/png": "[encoded data removed]",
      "text/plain": [
       "<Figure size 1100x600 with 1 Axes>"
      ]
     },
     "metadata": {},
     "output_type": "display_data"
    },
    {
     "name": "stdout",
     "output_type": "stream",
     "text": [
      "3M Future Change - R²: -0.0147\n",
      "3M Future Change - MSE: 0.0398\n",
      "3M Future Change - MAE: 0.1417\n"
     ]
    },
    {
     "data": {
      "image/png": "[encoded data removed]",
      "text/plain": [
       "<Figure size 1100x600 with 1 Axes>"
      ]
     },
     "metadata": {},
     "output_type": "display_data"
    },
    {
     "name": "stdout",
     "output_type": "stream",
     "text": [
      "6M Future Change - R²: -0.0300\n",
      "6M Future Change - MSE: 0.0751\n",
      "6M Future Change - MAE: 0.1935\n"
     ]
    },
    {
     "data": {
      "image/png": "[encoded data removed]",
      "text/plain": [
       "<Figure size 1100x600 with 1 Axes>"
      ]
     },
     "metadata": {},
     "output_type": "display_data"
    },
    {
     "name": "stdout",
     "output_type": "stream",
     "text": [
      "9M Future Change - R²: -0.1844\n",
      "9M Future Change - MSE: 0.1374\n",
      "9M Future Change - MAE: 0.2714\n"
     ]
    },
    {
     "data": {
      "image/png": "[encoded data removed]",
      "text/plain": [
       "<Figure size 1100x600 with 1 Axes>"
      ]
     },
     "metadata": {},
     "output_type": "display_data"
    },
    {
     "name": "stdout",
     "output_type": "stream",
     "text": [
      "1Y Future Change - R²: -0.0447\n",
      "1Y Future Change - MSE: 0.1830\n",
      "1Y Future Change - MAE: 0.3063\n",
      "\n",
      "Overall Scores:\n",
      "Mean - R²: -0.0684\n",
      "Mean - MSE: 0.1088\n",
      "Mean - MAE: 0.2282\n"
     ]
    }
   ],
   "source": [
    "if train_new_model:\n",
    "    y_test_pred = model.predict(X_test)\n",
    "\n",
    "    for i, target in enumerate(['3M Future Change', '6M Future Change', '9M Future Change', '1Y Future Change']):\n",
    "        y_test_actual = y_test[target]\n",
    "        y_test_pred_target = y_test_pred[:, i]\n",
    "\n",
    "        plt.figure(figsize=(11, 6))\n",
    "        plt.scatter(y_test_actual, y_test_pred_target, alpha=0.7, color='blue', label='Predictions')\n",
    "        plt.plot([y_test_actual.min(), y_test_actual.max()], [y_test_actual.min(), y_test_actual.max()], \n",
    "            color='red', linestyle='--', label='Perfect Fit')\n",
    "        plt.title(f'Predicted vs Actual Values ({target})')\n",
    "        plt.xlabel('Actual Values')\n",
    "        plt.ylabel('Predicted Values')\n",
    "        plt.legend()\n",
    "        plt.grid(True)\n",
    "        plt.show()\n",
    "\n",
    "        mae = mean_absolute_error(y_test_actual, y_test_pred_target)\n",
    "        mse = mean_squared_error(y_test_actual, y_test_pred_target)\n",
    "        r2 = r2_score(y_test_actual, y_test_pred_target)\n",
    "\n",
    "        print(f'{target} - R²: {r2:.4f}')\n",
    "        print(f'{target} - MSE: {mse:.4f}')\n",
    "        print(f'{target} - MAE: {mae:.4f}')\n",
    "\n",
    "    mae = mean_absolute_error(y_test, y_test_pred)\n",
    "    mse = mean_squared_error(y_test, y_test_pred)\n",
    "    r2 = r2_score(y_test, y_test_pred)\n",
    "\n",
    "    print('\\nOverall Scores:')\n",
    "    print(f'Mean - R²: {r2:.4f}')\n",
    "    print(f'Mean - MSE: {mse:.4f}')\n",
    "    print(f'Mean - MAE: {mae:.4f}')"
   ]
  },
  {
   "cell_type": "markdown",
   "metadata": {},
   "source": [
    "### Log test results"
   ]
  },
  {
   "cell_type": "code",
   "execution_count": 16,
   "metadata": {},
   "outputs": [],
   "source": [
    "if train_new_model:\n",
    "    test_results = pd.DataFrame({\n",
    "        'R²': r2,\n",
    "        'MSE': mse,\n",
    "        'MAE': mae,\n",
    "        'symbol_list': symbol_list,\n",
    "        \"iterations\": iterations,\n",
    "        'hidden_layer_sizes': [model.model.hidden_layer_sizes],\n",
    "        'max_iter': model.model.max_iter,\n",
    "        'n_iter_no_change': model.model.n_iter_no_change,\n",
    "        'learning_rate': model.model.learning_rate,\n",
    "        'learning_rate_init': model.model.learning_rate_init,\n",
    "        'batch_size': model.model.batch_size,\n",
    "        'tol': model.model.tol,\n",
    "        'alpha': model.model.alpha,\n",
    "        'shuffle': model.model.shuffle,\n",
    "    })\n",
    "    test_results.to_csv('../data/test_results.csv', mode='a', index=False)\n",
    "\n",
    "    # save model as new best if results are better than the current one\n",
    "    best_r2 = pd.read_csv('../models/best_model_results.csv').loc[0, 'R²']\n",
    "    if r2 > best_r2:\n",
    "        print(f'Old best R²: {best_r2}')\n",
    "        print(f'New best R²: {r2}')\n",
    "        print('Saving new best model...')\n",
    "        test_results.to_csv('../models/best_model_results.csv', mode='w', index=False)\n",
    "        with open('../models/best_model.pkl','wb') as f:\n",
    "            pickle.dump(model,f)\n",
    "        "
   ]
  },
  {
   "cell_type": "markdown",
   "metadata": {},
   "source": [
    "## Predictions on latest data"
   ]
  },
  {
   "cell_type": "code",
   "execution_count": 17,
   "metadata": {},
   "outputs": [
    {
     "name": "stdout",
     "output_type": "stream",
     "text": [
      "Best model R²: -0.0580242682072118\n"
     ]
    },
    {
     "name": "stderr",
     "output_type": "stream",
     "text": [
      "c:\\Users\\Gamer\\miniconda3\\Lib\\site-packages\\sklearn\\base.py:440: InconsistentVersionWarning: Trying to unpickle estimator MLPRegressor from version 1.6.0 when using version 1.7.0. This might lead to breaking code or invalid results. Use at your own risk. For more info please refer to:\n",
      "https://scikit-learn.org/stable/model_persistence.html#security-maintainability-limitations\n",
      "  warnings.warn(\n"
     ]
    }
   ],
   "source": [
    "best_r2 = pd.read_csv('../models/best_model_results.csv').loc[0, 'R²']\n",
    "\n",
    "with open('../models/best_model.pkl', 'rb') as f:\n",
    "    model = pickle.load(f)\n",
    "    print(f'Best model R²: {best_r2}')\n"
   ]
  },
  {
   "cell_type": "code",
   "execution_count": 18,
   "metadata": {},
   "outputs": [
    {
     "data": {
      "application/vnd.microsoft.datawrangler.viewer.v0+json": {
       "columns": [
        {
         "name": "index",
         "rawType": "int64",
         "type": "integer"
        },
        {
         "name": "Ticker",
         "rawType": "object",
         "type": "string"
        },
        {
         "name": "Name",
         "rawType": "object",
         "type": "string"
        },
        {
         "name": "mean (%)",
         "rawType": "float64",
         "type": "float"
        },
        {
         "name": "3m (%)",
         "rawType": "float64",
         "type": "float"
        },
        {
         "name": "6m (%)",
         "rawType": "float64",
         "type": "float"
        },
        {
         "name": "9m (%)",
         "rawType": "float64",
         "type": "float"
        },
        {
         "name": "1y (%)",
         "rawType": "float64",
         "type": "float"
        }
       ],
       "ref": "1f4f77db-50d9-41db-98ff-168594b6fe05",
       "rows": [
        [
         "0",
         "RNMBY",
         "Rheinmetall AG",
         "2.1616709322662646",
         "3.7927081982430546",
         "-1.8522074647227909",
         "1.1727493596461858",
         "5.533433635898608"
        ],
        [
         "1",
         "SAABF",
         "Saab AB",
         "1.839875449405922",
         "3.4622433508318546",
         "-1.9482318678676736",
         "0.44546691089895757",
         "5.400023403760549"
        ],
        [
         "2",
         "NSKFF",
         "Kongsberg Gruppen ASA",
         "1.0100991284533674",
         "2.882265025831222",
         "-1.9001629812655585",
         "-1.3935674589482936",
         "4.4518619281961005"
        ],
        [
         "3",
         "GMAB",
         "Genmab A/S",
         "3.756684738390106",
         "4.25928988210109",
         "-2.6609011095881825",
         "9.859956165877088",
         "3.568394015170426"
        ],
        [
         "4",
         "NVDA",
         "NVIDIA Corporation",
         "1.9852880241177688",
         "3.608895056993148",
         "-1.9079215339818612",
         "0.7733484098334229",
         "5.4668301636263665"
        ],
        [
         "5",
         "LLY",
         "Eli Lilly and Company",
         "1.032904355953119",
         "2.896545771455449",
         "-1.9041797886764003",
         "-1.3501718884386233",
         "4.48942332947205"
        ],
        [
         "6",
         "TER",
         "Teradyne, Inc.",
         "-2.1788485640951754",
         "1.4119584546445108",
         "-2.6202891016697585",
         "-6.790626374983718",
         "-0.7164372343717345"
        ],
        [
         "7",
         "NFLX",
         "Netflix, Inc.",
         "1.500828878786709",
         "3.298122589449458",
         "-1.8183958588297633",
         "-0.4628892719792804",
         "4.986478056506423"
        ],
        [
         "8",
         "EQNR",
         "Equinor ASA",
         "2.128381954700265",
         "3.782810562221851",
         "-1.8462686127216386",
         "1.0567624405750944",
         "5.520223428725753"
        ],
        [
         "9",
         "TSLA",
         "Tesla, Inc.",
         "-1.6437497401327268",
         "1.9490531029805285",
         "-1.9895742928164928",
         "-6.220447155664481",
         "-0.31403061503046115"
        ],
        [
         "10",
         "JD",
         "JD.com, Inc.",
         "0.7028847317224229",
         "2.736277027037546",
         "-1.826026916838456",
         "-2.0947117092482848",
         "3.9960005259388867"
        ],
        [
         "11",
         "PDD",
         "PDD Holdings Inc.",
         "1.1649259761031026",
         "3.0627953366285086",
         "-1.8424285257509012",
         "-1.2195749227644548",
         "4.658912016299258"
        ],
        [
         "12",
         "BIDU",
         "Baidu, Inc.",
         "3.27258905885227",
         "5.058483717856434",
         "-1.6213524149383332",
         "4.783281575309847",
         "4.869943357181133"
        ],
        [
         "13",
         "NTES",
         "NetEase, Inc.",
         "-2.4483667531850584",
         "0.611810237643541",
         "-3.764691069343123",
         "-6.2615843160858216",
         "-0.37900186495483135"
        ],
        [
         "14",
         "IQ",
         "iQIYI, Inc.",
         "2.232493759789627",
         "3.8882663717564228",
         "-1.8176494676563828",
         "1.313704594745828",
         "5.545653540312641"
        ],
        [
         "15",
         "UBER",
         "Uber Technologies, Inc.",
         "-1.949480574388749",
         "1.7334656978694056",
         "-2.2587622332532886",
         "-6.584579853848566",
         "-0.6880459083225478"
        ],
        [
         "16",
         "COLO-B.CO",
         "Coloplast B A/S",
         "-0.35435858024838834",
         "2.2805961738543212",
         "-1.7060731382051237",
         "-3.9731732026973896",
         "1.981215846054639"
        ],
        [
         "17",
         "A",
         "Agilent Technologies, Inc.",
         "1.4298312568286693",
         "3.1152561469794837",
         "-1.9621287303610304",
         "-0.48096412772219016",
         "5.0471617384184135"
        ],
        [
         "18",
         "AA",
         "Alcoa Corporation",
         "-2.183556955156961",
         "1.585980856727448",
         "-2.464941699876206",
         "-6.892630903826919",
         "-0.9626360736521684"
        ],
        [
         "19",
         "AAT",
         "American Assets Trust, Inc.",
         "-7.6651638070720205",
         "-2.875436269141092",
         "-8.59421777277731",
         "-11.973859135792988",
         "-7.21714205057669"
        ],
        [
         "20",
         "AB",
         "AllianceBernstein Holding L.P.",
         "1.2457267045339644",
         "3.0102298824577725",
         "-1.9475879231087474",
         "-0.8703213472618592",
         "4.79058620604869"
        ],
        [
         "21",
         "ABBV",
         "AbbVie Inc.",
         "-1.0383069719920233",
         "2.06009333865446",
         "-1.8379435062006753",
         "-5.133749185117376",
         "0.7583714646954978"
        ],
        [
         "22",
         "ABM",
         "ABM Industries Incorporated",
         "-1.8426106858134277",
         "1.713883442743569",
         "-2.246222627453349",
         "-6.407919793760583",
         "-0.4301837647833467"
        ],
        [
         "23",
         "ABR",
         "Arbor Realty Trust",
         "1.1385470494342331",
         "2.951836086769525",
         "-1.9276454009963382",
         "-1.1007643697418696",
         "4.630761881705616"
        ],
        [
         "24",
         "ABT",
         "Abbott Laboratories",
         "-1.7715579498168106",
         "1.6381535018445728",
         "-2.31617455954113",
         "-6.222064231215436",
         "-0.18614651035524857"
        ],
        [
         "25",
         "ACI",
         "Albertsons Companies, Inc.",
         "1.2937755771921102",
         "3.0375887927232585",
         "-1.9494638999083829",
         "-0.7735533149562781",
         "4.8605307309098436"
        ],
        [
         "26",
         "ACM",
         "AECOM",
         "0.5698418463566205",
         "2.6278555752776636",
         "-1.8190021966736067",
         "-2.207977755430029",
         "3.678491762252454"
        ],
        [
         "27",
         "ACN",
         "Accenture plc",
         "-8.03989181117681",
         "-3.2030030851770723",
         "-9.0004646946717",
         "-12.316905208578568",
         "-7.639194256279897"
        ],
        [
         "28",
         "ACRE",
         "Ares Commercial Real Estate Cor",
         "1.8081582846230955",
         "3.43486244951958",
         "-1.9471072796988553",
         "0.3595057104557209",
         "5.385372258215936"
        ],
        [
         "29",
         "ACT",
         "Enact Holdings, Inc.",
         "-7.7634793983758055",
         "-2.902624731474343",
         "-8.671789694414258",
         "-12.06781988099406",
         "-7.4116832866205575"
        ],
        [
         "30",
         "ADC",
         "Agree Realty Corporation",
         "1.5778645316896212",
         "3.216158989028405",
         "-1.9771393503269212",
         "-0.1337485905209386",
         "5.20618707857794"
        ],
        [
         "31",
         "ADM",
         "Archer-Daniels-Midland Company",
         "1.1100067176491253",
         "2.9403061225410734",
         "-1.920154821398944",
         "-1.1747672799212912",
         "4.5946428493756635"
        ],
        [
         "32",
         "ADT",
         "ADT Inc.",
         "1.2079787613791984",
         "2.99633133733926",
         "-1.9350052613202435",
         "-0.9714741178979712",
         "4.742063087395749"
        ],
        [
         "33",
         "AEE",
         "Ameren Corporation",
         "1.4531756784289172",
         "3.131678887922572",
         "-1.961993098962397",
         "-0.4355973975527234",
         "5.078614322308217"
        ],
        [
         "34",
         "AEM",
         "Agnico Eagle Mines Limited",
         "0.013084717287818303",
         "2.4071709557537035",
         "-1.7063211286695417",
         "-3.3203167547977066",
         "2.6718057968648177"
        ],
        [
         "35",
         "AEO",
         "American Eagle Outfitters, Inc.",
         "0.2803478721427536",
         "2.5031555016265443",
         "-1.7350999079644804",
         "-2.835989213329366",
         "3.189325108238316"
        ],
        [
         "36",
         "AEP",
         "American Electric Power Company",
         "-1.1849720317428476",
         "1.9724378997846959",
         "-1.9348341063204872",
         "-5.351184417674174",
         "0.5736924972385754"
        ],
        [
         "37",
         "AER",
         "AerCap Holdings N.V.",
         "1.2392740386589625",
         "3.0230218217838436",
         "-1.9311019297943612",
         "-0.9527131713571322",
         "4.817889434003499"
        ],
        [
         "38",
         "AES",
         "The AES Corporation",
         "1.4010602212108425",
         "3.104341814458019",
         "-1.9537772038515988",
         "-0.5625636634365174",
         "5.016239937673467"
        ],
        [
         "39",
         "AFG",
         "American Financial Group, Inc.",
         "1.1059932140351205",
         "2.9373076063394095",
         "-1.9185251028022832",
         "-1.1820712760261094",
         "4.587261628629465"
        ],
        [
         "40",
         "AG",
         "First Majestic Silver Corp.",
         "-2.1942898432486655",
         "1.5970881984495027",
         "-2.460632874254228",
         "-6.9102465181149935",
         "-1.0033681790749427"
        ],
        [
         "41",
         "AGCO",
         "AGCO Corporation",
         "-0.6515825570730152",
         "2.1706203912545936",
         "-1.704390454405907",
         "-4.530175049876555",
         "1.4576148847358075"
        ],
        [
         "42",
         "AGI",
         "Alamos Gold Inc.",
         "-2.677865205580652",
         "1.198641797666578",
         "-2.940347015295545",
         "-7.529058014513601",
         "-1.4406975901800412"
        ],
        [
         "43",
         "AGM",
         "Federal Agricultural Mortgage C",
         "-2.822939786139831",
         "1.1014440228555826",
         "-3.07796500336147",
         "-7.705117117051927",
         "-1.6101210470015088"
        ],
        [
         "44",
         "AGM-A",
         "Federal Agricultural Mortgage C",
         "1.677031192344703",
         "3.3827150051390307",
         "-1.890901776051691",
         "-0.021016992938887452",
         "5.23732853323036"
        ],
        [
         "45",
         "AGO",
         "Assured Guaranty Ltd.",
         "3.5220686263339913",
         "4.812322975829624",
         "-2.0601864449702743",
         "6.94420292339952",
         "4.391935051077095"
        ],
        [
         "46",
         "AGRO",
         "Adecoagro S.A.",
         "-2.9797115272127215",
         "0.9761852926893361",
         "-3.2356585980086594",
         "-7.874102394488414",
         "-1.78527040904315"
        ],
        [
         "47",
         "AHH",
         "Armada Hoffler Properties, Inc.",
         "0.35105308575932903",
         "2.529758662982167",
         "-1.7463472260621924",
         "-2.711214676542125",
         "3.3320155826594666"
        ],
        [
         "48",
         "AHT",
         "Ashford Hospitality Trust Inc",
         "0.6482884957309099",
         "2.6682758730540943",
         "-1.8258564870275769",
         "-2.089951492442046",
         "3.840686089339168"
        ],
        [
         "49",
         "AHT-PD",
         "Ashford Hospitality Trust Inc 8",
         "-3.955380612653715",
         "0.38057314310181756",
         "-4.199338231175588",
         "-8.895289233393932",
         "-3.107468129147157"
        ]
       ],
       "shape": {
        "columns": 7,
        "rows": 1880
       }
      },
      "text/html": [
       "<div>\n",
       "<style scoped>\n",
       "    .dataframe tbody tr th:only-of-type {\n",
       "        vertical-align: middle;\n",
       "    }\n",
       "\n",
       "    .dataframe tbody tr th {\n",
       "        vertical-align: top;\n",
       "    }\n",
       "\n",
       "    .dataframe thead th {\n",
       "        text-align: right;\n",
       "    }\n",
       "</style>\n",
       "<table border=\"1\" class=\"dataframe\">\n",
       "  <thead>\n",
       "    <tr style=\"text-align: right;\">\n",
       "      <th></th>\n",
       "      <th>Ticker</th>\n",
       "      <th>Name</th>\n",
       "      <th>mean (%)</th>\n",
       "      <th>3m (%)</th>\n",
       "      <th>6m (%)</th>\n",
       "      <th>9m (%)</th>\n",
       "      <th>1y (%)</th>\n",
       "    </tr>\n",
       "  </thead>\n",
       "  <tbody>\n",
       "    <tr>\n",
       "      <th>0</th>\n",
       "      <td>RNMBY</td>\n",
       "      <td>Rheinmetall AG</td>\n",
       "      <td>2.161671</td>\n",
       "      <td>3.792708</td>\n",
       "      <td>-1.852207</td>\n",
       "      <td>1.172749</td>\n",
       "      <td>5.533434</td>\n",
       "    </tr>\n",
       "    <tr>\n",
       "      <th>1</th>\n",
       "      <td>SAABF</td>\n",
       "      <td>Saab AB</td>\n",
       "      <td>1.839875</td>\n",
       "      <td>3.462243</td>\n",
       "      <td>-1.948232</td>\n",
       "      <td>0.445467</td>\n",
       "      <td>5.400023</td>\n",
       "    </tr>\n",
       "    <tr>\n",
       "      <th>2</th>\n",
       "      <td>NSKFF</td>\n",
       "      <td>Kongsberg Gruppen ASA</td>\n",
       "      <td>1.010099</td>\n",
       "      <td>2.882265</td>\n",
       "      <td>-1.900163</td>\n",
       "      <td>-1.393567</td>\n",
       "      <td>4.451862</td>\n",
       "    </tr>\n",
       "    <tr>\n",
       "      <th>3</th>\n",
       "      <td>GMAB</td>\n",
       "      <td>Genmab A/S</td>\n",
       "      <td>3.756685</td>\n",
       "      <td>4.259290</td>\n",
       "      <td>-2.660901</td>\n",
       "      <td>9.859956</td>\n",
       "      <td>3.568394</td>\n",
       "    </tr>\n",
       "    <tr>\n",
       "      <th>4</th>\n",
       "      <td>NVDA</td>\n",
       "      <td>NVIDIA Corporation</td>\n",
       "      <td>1.985288</td>\n",
       "      <td>3.608895</td>\n",
       "      <td>-1.907922</td>\n",
       "      <td>0.773348</td>\n",
       "      <td>5.466830</td>\n",
       "    </tr>\n",
       "    <tr>\n",
       "      <th>...</th>\n",
       "      <td>...</td>\n",
       "      <td>...</td>\n",
       "      <td>...</td>\n",
       "      <td>...</td>\n",
       "      <td>...</td>\n",
       "      <td>...</td>\n",
       "      <td>...</td>\n",
       "    </tr>\n",
       "    <tr>\n",
       "      <th>1875</th>\n",
       "      <td>WINA</td>\n",
       "      <td>Winmark Corporation</td>\n",
       "      <td>-3.733532</td>\n",
       "      <td>0.468755</td>\n",
       "      <td>-3.954360</td>\n",
       "      <td>-8.716103</td>\n",
       "      <td>-2.732420</td>\n",
       "    </tr>\n",
       "    <tr>\n",
       "      <th>1876</th>\n",
       "      <td>WLDN</td>\n",
       "      <td>Willdan Group, Inc.</td>\n",
       "      <td>0.437863</td>\n",
       "      <td>2.571196</td>\n",
       "      <td>-1.773801</td>\n",
       "      <td>-2.502683</td>\n",
       "      <td>3.456741</td>\n",
       "    </tr>\n",
       "    <tr>\n",
       "      <th>1877</th>\n",
       "      <td>WLFC</td>\n",
       "      <td>Willis Lease Finance Corporatio</td>\n",
       "      <td>-0.350593</td>\n",
       "      <td>2.281421</td>\n",
       "      <td>-1.679725</td>\n",
       "      <td>-4.010454</td>\n",
       "      <td>2.006387</td>\n",
       "    </tr>\n",
       "    <tr>\n",
       "      <th>1878</th>\n",
       "      <td>WOOF</td>\n",
       "      <td>Petco Health and Wellness Compa</td>\n",
       "      <td>-8.086994</td>\n",
       "      <td>-3.250876</td>\n",
       "      <td>-9.060235</td>\n",
       "      <td>-12.377675</td>\n",
       "      <td>-7.659190</td>\n",
       "    </tr>\n",
       "    <tr>\n",
       "      <th>1879</th>\n",
       "      <td>WPRT</td>\n",
       "      <td>Westport Fuel Systems Inc</td>\n",
       "      <td>-8.119637</td>\n",
       "      <td>-3.281160</td>\n",
       "      <td>-9.094979</td>\n",
       "      <td>-12.449812</td>\n",
       "      <td>-7.652597</td>\n",
       "    </tr>\n",
       "  </tbody>\n",
       "</table>\n",
       "<p>1880 rows × 7 columns</p>\n",
       "</div>"
      ],
      "text/plain": [
       "     Ticker                             Name  mean (%)    3m (%)    6m (%)  \\\n",
       "0     RNMBY                   Rheinmetall AG  2.161671  3.792708 -1.852207   \n",
       "1     SAABF                          Saab AB  1.839875  3.462243 -1.948232   \n",
       "2     NSKFF            Kongsberg Gruppen ASA  1.010099  2.882265 -1.900163   \n",
       "3      GMAB                       Genmab A/S  3.756685  4.259290 -2.660901   \n",
       "4      NVDA               NVIDIA Corporation  1.985288  3.608895 -1.907922   \n",
       "...     ...                              ...       ...       ...       ...   \n",
       "1875   WINA              Winmark Corporation -3.733532  0.468755 -3.954360   \n",
       "1876   WLDN              Willdan Group, Inc.  0.437863  2.571196 -1.773801   \n",
       "1877   WLFC  Willis Lease Finance Corporatio -0.350593  2.281421 -1.679725   \n",
       "1878   WOOF  Petco Health and Wellness Compa -8.086994 -3.250876 -9.060235   \n",
       "1879   WPRT        Westport Fuel Systems Inc -8.119637 -3.281160 -9.094979   \n",
       "\n",
       "         9m (%)    1y (%)  \n",
       "0      1.172749  5.533434  \n",
       "1      0.445467  5.400023  \n",
       "2     -1.393567  4.451862  \n",
       "3      9.859956  3.568394  \n",
       "4      0.773348  5.466830  \n",
       "...         ...       ...  \n",
       "1875  -8.716103 -2.732420  \n",
       "1876  -2.502683  3.456741  \n",
       "1877  -4.010454  2.006387  \n",
       "1878 -12.377675 -7.659190  \n",
       "1879 -12.449812 -7.652597  \n",
       "\n",
       "[1880 rows x 7 columns]"
      ]
     },
     "execution_count": 18,
     "metadata": {},
     "output_type": "execute_result"
    }
   ],
   "source": [
    "df_raw = pd.read_csv('../data/earnings_data.csv')\n",
    "\n",
    "results = []\n",
    "for i in range(len(X_pred)):\n",
    "    y_pred = model.predict(X_pred.iloc[[i]])[0]\n",
    "    y_pred_3m, y_pred_6m, y_pred_9m, y_pred_1y = y_pred\n",
    "    avg = (y_pred_3m + y_pred_6m + y_pred_9m + y_pred_1y) / 4\n",
    "    results.append({\n",
    "        'Ticker': df_raw.loc[i*4, 'Ticker'],\n",
    "        'Name': df_raw.loc[i*4, 'Name'],\n",
    "        'mean (%)': avg * 100,\n",
    "        '3m (%)': y_pred_3m * 100,\n",
    "        '6m (%)': y_pred_6m * 100,\n",
    "        '9m (%)': y_pred_9m * 100,\n",
    "        '1y (%)': y_pred_1y * 100\n",
    "    })\n",
    "\n",
    "results_df = pd.DataFrame(results)\n",
    "results_df"
   ]
  },
  {
   "cell_type": "code",
   "execution_count": 19,
   "metadata": {},
   "outputs": [],
   "source": [
    "def predict_ticker(ticker_str):\n",
    "    try:\n",
    "        ticker_str = str(ticker_str).upper()\n",
    "        ticker_str = ticker_str.replace(\"'\", \"\")\n",
    "        ticker_str = ticker_str.replace('\"', \"\")\n",
    "        row = results_df[results_df['Ticker'] == ticker_str]\n",
    "        if row.empty:\n",
    "            return (f\"Not enough data for this stock at this moment \\n Try another\", \"\", \"\", \"\", \"\")\n",
    "        row = row.iloc[0]\n",
    "        return (\n",
    "            f\"{row['3m (%)']:.2f}\",\n",
    "            f\"{row['6m (%)']:.2f}\",\n",
    "            f\"{row['9m (%)']:.2f}\",\n",
    "            f\"{row['1y (%)']:.2f}\",\n",
    "            f\"{row['mean (%)']:.2f}\",\n",
    "        )\n",
    "    except Exception as e:\n",
    "        return (f\"Error: {e}\", \"\", \"\", \"\", \"\")"
   ]
  },
  {
   "cell_type": "code",
   "execution_count": 20,
   "metadata": {
    "vscode": {
     "languageId": "javascript"
    }
   },
   "outputs": [
    {
     "name": "stdout",
     "output_type": "stream",
     "text": [
      "* Running on local URL:  http://127.0.0.1:7860\n",
      "* Running on public URL: https://d6f7567b4876962a6e.gradio.live\n",
      "\n",
      "This share link expires in 1 week. For free permanent hosting and GPU upgrades, run `gradio deploy` from the terminal in the working directory to deploy to Hugging Face Spaces (https://huggingface.co/spaces)\n"
     ]
    },
    {
     "data": {
      "text/html": [
       "<div><iframe src=\"https://d6f7567b4876962a6e.gradio.live\" width=\"100%\" height=\"500\" allow=\"autoplay; camera; microphone; clipboard-read; clipboard-write;\" frameborder=\"0\" allowfullscreen></iframe></div>"
      ],
      "text/plain": [
       "<IPython.core.display.HTML object>"
      ]
     },
     "metadata": {},
     "output_type": "display_data"
    },
    {
     "data": {
      "text/plain": []
     },
     "execution_count": 20,
     "metadata": {},
     "output_type": "execute_result"
    }
   ],
   "source": [
    "iface = gr.Interface(\n",
    "    fn=predict_ticker,\n",
    "    inputs=gr.Textbox(label=\"Ticker e.g. 'TSLA' or 'NVDA'\"),\n",
    "    outputs=[\n",
    "        gr.Textbox(label=\"3 Month Change Prediction (%)\"),\n",
    "        gr.Textbox(label=\"6 Month Change Prediction (%)\"),\n",
    "        gr.Textbox(label=\"9 Month Change Prediction (%)\"),\n",
    "        gr.Textbox(label=\"1 Year Change Prediction (%)\"),\n",
    "        gr.Textbox(label=\"Mean Change Prediction (%)\"),\n",
    "    ],\n",
    "    title=\"Stock Price Prediction Model\",\n",
    "    description=\" \"\n",
    ")\n",
    "\n",
    "iface.launch(share=True)"
   ]
  }
 ],
 "metadata": {
  "kernelspec": {
   "display_name": "base",
   "language": "python",
   "name": "python3"
  },
  "language_info": {
   "codemirror_mode": {
    "name": "ipython",
    "version": 3
   },
   "file_extension": ".py",
   "mimetype": "text/x-python",
   "name": "python",
   "nbconvert_exporter": "python",
   "pygments_lexer": "ipython3",
   "version": "3.12.2"
  }
 },
 "nbformat": 4,
 "nbformat_minor": 2
}
