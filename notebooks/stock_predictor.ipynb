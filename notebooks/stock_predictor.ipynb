{
 "cells": [
  {
   "cell_type": "markdown",
   "metadata": {},
   "source": [
    "# Stock Prediction Model"
   ]
  },
  {
   "cell_type": "markdown",
   "metadata": {},
   "source": [
    "## Dependencies"
   ]
  },
  {
   "cell_type": "markdown",
   "metadata": {},
   "source": [
    "### Library Installation (if needed)"
   ]
  },
  {
   "cell_type": "code",
   "execution_count": 176,
   "metadata": {},
   "outputs": [],
   "source": [
    "#! pip install yfinance pandas numpy matplotlib lightgbm torch tensorflow keras"
   ]
  },
  {
   "cell_type": "markdown",
   "metadata": {},
   "source": [
    "### Importing Required Libraries"
   ]
  },
  {
   "cell_type": "code",
   "execution_count": 177,
   "metadata": {},
   "outputs": [],
   "source": [
    "from datetime import datetime\n",
    "import matplotlib.pyplot as plt\n",
    "import yfinance as yf\n",
    "import pandas as pd\n",
    "import numpy as np\n",
    "import pickle\n",
    "import gradio as gr\n",
    "import ast\n",
    "from tqdm import tqdm\n",
    "from sklearn.impute import SimpleImputer\n",
    "from sklearn.neural_network import MLPRegressor\n",
    "from sklearn.metrics import r2_score, mean_squared_error, mean_absolute_error\n",
    "from sklearn.preprocessing import LabelEncoder, StandardScaler\n",
    "from sklearn.model_selection import train_test_split, GridSearchCV"
   ]
  },
  {
   "cell_type": "markdown",
   "metadata": {},
   "source": [
    "### Variables"
   ]
  },
  {
   "cell_type": "code",
   "execution_count": 178,
   "metadata": {},
   "outputs": [],
   "source": [
    "build_new_dataset = {'True': True, 'False': False}.get(input('Build New Dataset? (Bool)'))\n",
    "if build_new_dataset:\n",
    "    symbol_list = input(\"Symbols: ('simple', 'filtered' or 'all')\") # 'simple' or 'all'. simple are the tickers from the screener notebook and all are all of the tickers in 'filtered_tickers'. You may also an 'Int' to get a % amount of random tickers from 'all'\n",
    "else:\n",
    "    symbol_list = 'filtered'\n",
    "\n",
    "train_new_model = {'True': True, 'False': False}.get(input('Train New Model? (Bool)'))\n",
    "if train_new_model:\n",
    "    minimum_feature_threshold = 0.6\n",
    "    hidden_layers = ast.literal_eval(f\"({input('Hidden Layers: eg. \"100, 100\"')})\")\n",
    "    verticle_jobs = 1 #'-1' for max\n",
    "\n",
    "if build_new_dataset or train_new_model:\n",
    "    debugging = {'True': True, 'False': False}.get(input('Debug? (Bool)'))\n",
    "else:\n",
    "    debugging = False"
   ]
  },
  {
   "cell_type": "markdown",
   "metadata": {},
   "source": [
    "## Data Preparation"
   ]
  },
  {
   "cell_type": "code",
   "execution_count": 179,
   "metadata": {},
   "outputs": [
    {
     "data": {
      "text/plain": [
       "array(['MATAS.CO', 'RNMBY', 'SAABF', ..., 'NTES', 'WB', 'SYDB.CO'],\n",
       "      dtype=object)"
      ]
     },
     "execution_count": 179,
     "metadata": {},
     "output_type": "execute_result"
    }
   ],
   "source": [
    "symbols = []\n",
    "if symbol_list == 'filtered':\n",
    "    symbols = pd.read_csv('../data/filtered_tickers.csv')['Ticker'].tolist()\n",
    "elif symbol_list == 'all':\n",
    "    symbols = pd.read_csv('../data/tickers.csv')['Ticker'].tolist()\n",
    "elif symbol_list.isdigit():\n",
    "    all_symbols = pd.read_csv('../data/tickers.csv')['Ticker'].tolist()\n",
    "    num_symbols = max(1, round(len(all_symbols) * (int(symbol_list) / 100)))  \n",
    "    symbols = np.random.choice(all_symbols, num_symbols, replace=False).tolist()\n",
    "    symbols = symbols + pd.read_csv(\"../data/filtered_tickers.csv\")[\"Ticker\"].tolist()\n",
    "\n",
    "symbols = symbols + pd.read_csv('../data/simple_screener_results.csv')['Ticker'].tolist()\n",
    "\n",
    "symbols = pd.Series(symbols).unique()\n",
    "symbols"
   ]
  },
  {
   "cell_type": "markdown",
   "metadata": {},
   "source": [
    "#### Download annual financial data"
   ]
  },
  {
   "cell_type": "code",
   "execution_count": 180,
   "metadata": {},
   "outputs": [],
   "source": [
    "if build_new_dataset:\n",
    "    df = pd.DataFrame()\n",
    "    filtered_pd = pd.read_csv('../data/filtered_tickers.csv')\n",
    "    for symbol in tqdm(symbols, total=len(symbols)):\n",
    "        ticker_df = pd.DataFrame()\n",
    "        ticker = yf.Ticker(symbol)\n",
    "        try:\n",
    "            # Latest earning data\n",
    "            latest_earning_date = ticker.quarterly_cash_flow.columns.tolist()[0]\n",
    "            latest_data = {'Ticker': symbol, 'Date': latest_earning_date}\n",
    "            latest_data['3M Future Change'] = np.nan\n",
    "            latest_data['6M Future Change'] = np.nan\n",
    "            latest_data['1Y Future Change'] = np.nan\n",
    "            try:\n",
    "                latest_data['Sector'] = ticker.info['sector']\n",
    "            except:\n",
    "                latest_data['Sector'] = 'Unknown'\n",
    "            try:\n",
    "                latest_data['Industry'] = ticker.info['industry']\n",
    "            except:\n",
    "                latest_data['Industry'] = 'Unknown'\n",
    "            for column in ticker.quarterly_cash_flow[latest_earning_date].keys().tolist():\n",
    "                latest_data[column] = ticker.quarterly_cash_flow[latest_earning_date][column]\n",
    "            for column in ticker.quarterly_balance_sheet[latest_earning_date].keys().tolist():\n",
    "                latest_data[column] = ticker.quarterly_balance_sheet[latest_earning_date][column]\n",
    "            for column in ticker.quarterly_income_stmt[latest_earning_date].keys().tolist():\n",
    "                latest_data[column] = ticker.quarterly_income_stmt[latest_earning_date][column]\n",
    "            ticker_df = pd.concat([ticker_df, pd.DataFrame([latest_data])], ignore_index=True)\n",
    "\n",
    "            # Annual data\n",
    "            earning_dates = ticker.cash_flow.columns.tolist()\n",
    "            price_data = yf.download(symbol, period='10y', rounding=False, progress=False)\n",
    "            cash_flow = ticker.cash_flow\n",
    "            cash_flow_columns = cash_flow[earning_dates[0]].keys().tolist()\n",
    "            balance_sheet = ticker.balance_sheet\n",
    "            balance_sheet_columns = balance_sheet[earning_dates[0]].keys().tolist()\n",
    "            income_statement = ticker.income_stmt\n",
    "            income_statement_columns = income_statement[earning_dates[0]].keys().tolist()\n",
    "            for earning_date in earning_dates:\n",
    "                earning_date_data = {'Ticker': symbol, 'Date': earning_date}\n",
    "                got_price = False\n",
    "                day_offset = 0\n",
    "                while(got_price==False and day_offset > -6):\n",
    "                    try:           \n",
    "                        earning_date_data['3M Future Change'] = (\n",
    "                            float(price_data.loc[earning_date + pd.Timedelta(days=day_offset, weeks=13) , ('Close', symbol)]) / \n",
    "                            float(price_data.loc[earning_date + pd.Timedelta(days=day_offset), ('Close', symbol)]) - 1\n",
    "                        )\n",
    "                        earning_date_data['6M Future Change'] = (\n",
    "                            float(price_data.loc[earning_date + pd.Timedelta(days=day_offset, weeks=26) , ('Close', symbol)]) / \n",
    "                            float(price_data.loc[earning_date + pd.Timedelta(days=day_offset), ('Close', symbol)]) - 1\n",
    "                        )\n",
    "                        earning_date_data['1Y Future Change'] = (\n",
    "                            float(price_data.loc[earning_date + pd.Timedelta(days=day_offset, weeks=52) , ('Close', symbol)]) / \n",
    "                            float(price_data.loc[earning_date + pd.Timedelta(days=day_offset), ('Close', symbol)]) - 1\n",
    "                        )\n",
    "                        got_price = True\n",
    "                    except:\n",
    "                        day_offset += -1\n",
    "                try:\n",
    "                    earning_date_data['Sector'] = ticker.info['sector']\n",
    "                except:\n",
    "                    earning_date_data['Sector'] = 'Unknown'\n",
    "                try:\n",
    "                    earning_date_data['Industry'] = ticker.info['industry']\n",
    "                except:\n",
    "                    earning_date_data['Industry'] = 'Unknown'\n",
    "                for column in cash_flow_columns:\n",
    "                    earning_date_data[column] = cash_flow[earning_date][column]\n",
    "                for column in balance_sheet_columns:\n",
    "                    earning_date_data[column] = balance_sheet[earning_date][column]\n",
    "                for column in income_statement_columns:\n",
    "                    earning_date_data[column] = income_statement[earning_date][column]\n",
    "                if got_price:\n",
    "                    ticker_df = pd.concat([ticker_df, pd.DataFrame([earning_date_data])], ignore_index=True)\n",
    "\n",
    "            if len(ticker_df) == 5 and ticker_df.isna().sum().sum() < round(352 * minimum_feature_threshold):\n",
    "                if symbol not in filtered_pd['Ticker'].tolist():\n",
    "                    filtered_pd = pd.concat([filtered_pd, pd.DataFrame([{'Ticker': symbol}])])\n",
    "                imputer = SimpleImputer()\n",
    "                for column in ticker_df.columns.drop(['Ticker', 'Date', '3M Future Change', '6M Future Change', '1Y Future Change', 'Sector', 'Industry']):\n",
    "                    if not ticker_df[column].isna().all():\n",
    "                        ticker_df[column] = imputer.fit_transform(ticker_df[[column]])\n",
    "            else:\n",
    "                if symbol in filtered_pd['Ticker'].tolist():\n",
    "                    filtered_pd = filtered_pd[filtered_pd['Ticker'] != symbol]\n",
    "                    if debugging:\n",
    "                        print(f'Removed {symbol} from filtered tickers. Datapoints: {ticker_df.isna().sum().sum()}, Needed: {round(352 * minimum_feature_threshold)}')\n",
    "                continue\n",
    "            df = pd.concat([df, ticker_df], ignore_index=True)\n",
    "        except Exception as error:\n",
    "            if symbol in filtered_pd['Ticker'].tolist():\n",
    "                filtered_pd = filtered_pd[filtered_pd['Ticker'] != symbol]\n",
    "                if debugging:\n",
    "                    print(f'Removed {symbol} from filtered tickers because an exception was raised')\n",
    "            continue\n",
    "    filtered_pd.to_csv('../data/filtered_tickers.csv', index=False)\n",
    "    df.to_csv('../data/earnings_data.csv', index=False)\n",
    "else:\n",
    "    df = pd.read_csv('../data/earnings_data.csv')"
   ]
  },
  {
   "cell_type": "markdown",
   "metadata": {},
   "source": [
    "### Short visualisation"
   ]
  },
  {
   "cell_type": "code",
   "execution_count": 181,
   "metadata": {},
   "outputs": [],
   "source": [
    "if debugging:\n",
    "    display(df)"
   ]
  },
  {
   "cell_type": "markdown",
   "metadata": {},
   "source": [
    "### Impution and encoding"
   ]
  },
  {
   "cell_type": "code",
   "execution_count": 182,
   "metadata": {},
   "outputs": [],
   "source": [
    "imputer = SimpleImputer()\n",
    "scaler = StandardScaler()\n",
    "for column in df.columns.drop(['Ticker', 'Date', '3M Future Change', '6M Future Change', '1Y Future Change', 'Sector', 'Industry']):\n",
    "    df[column] = imputer.fit_transform(df[[column]])\n",
    "    scaler.fit(df[[column]])\n",
    "    df[column] = scaler.transform(df[[column]])\n",
    "\n",
    "le = LabelEncoder()\n",
    "for column in ['Ticker', 'Sector', 'Industry']:\n",
    "    df[column] = df[column].astype(str)\n",
    "    le.fit(df[column])\n",
    "    df[column] = le.transform(df[column])"
   ]
  },
  {
   "cell_type": "markdown",
   "metadata": {},
   "source": [
    "### Splitting"
   ]
  },
  {
   "cell_type": "code",
   "execution_count": 183,
   "metadata": {},
   "outputs": [],
   "source": [
    "pred_data = pd.DataFrame()\n",
    "for i in range(int(len(df) / 5)):\n",
    "    pred_data = pd.concat([pred_data, df.iloc[[i*5]]]) \n",
    "if debugging:\n",
    "    print('Prediction Data:')\n",
    "    display(pred_data)\n",
    "\n",
    "train_data = pd.DataFrame()\n",
    "for i in range(int(len(df) / 5)):\n",
    "    train_data = pd.concat([train_data, df.iloc[[1+i*5]]])\n",
    "    train_data = pd.concat([train_data, df.iloc[[2+i*5]]])\n",
    "    train_data = pd.concat([train_data, df.iloc[[3+i*5]]])\n",
    "    train_data = pd.concat([train_data, df.iloc[[4+i*5]]])\n",
    "if debugging:\n",
    "    print('Train and Test Data:')\n",
    "    display(train_data)"
   ]
  },
  {
   "cell_type": "markdown",
   "metadata": {},
   "source": [
    "### Labeling"
   ]
  },
  {
   "cell_type": "code",
   "execution_count": 184,
   "metadata": {},
   "outputs": [],
   "source": [
    "X_pred = pred_data.drop(['Date', '3M Future Change', '6M Future Change', '1Y Future Change'], axis=1)\n",
    "X_train = train_data.drop(['Date', '3M Future Change', '6M Future Change', '1Y Future Change'], axis=1)\n",
    "y_train = train_data[['3M Future Change', '6M Future Change', '1Y Future Change']]\n",
    "\n",
    "X_train, X_test, y_train, y_test = train_test_split(\n",
    "    X_train,\n",
    "    y_train,\n",
    "    test_size=0.15,\n",
    "    shuffle=True,\n",
    ")\n",
    "\n",
    "if debugging:\n",
    "    display(X_train)\n",
    "    display(y_train)\n",
    "    display(X_test)\n",
    "    display(y_test)"
   ]
  },
  {
   "cell_type": "markdown",
   "metadata": {},
   "source": [
    "## Model Training"
   ]
  },
  {
   "cell_type": "code",
   "execution_count": 185,
   "metadata": {},
   "outputs": [
    {
     "name": "stdout",
     "output_type": "stream",
     "text": [
      "Iteration 1, loss = 78.67940252\n",
      "Validation score: -1.634622\n",
      "Iteration 2, loss = 6.79941843\n",
      "Validation score: -1.861707\n",
      "Iteration 3, loss = 6.78451712\n",
      "Validation score: -2.234201\n",
      "Iteration 4, loss = 6.69631344\n",
      "Validation score: -1.396132\n",
      "Iteration 5, loss = 6.69399153\n",
      "Validation score: -0.915365\n",
      "Iteration 6, loss = 6.63909714\n",
      "Validation score: -0.989890\n",
      "Iteration 7, loss = 6.60532472\n",
      "Validation score: -1.156096\n",
      "Iteration 8, loss = 6.62685093\n",
      "Validation score: -1.582745\n",
      "Iteration 9, loss = 6.64754682\n",
      "Validation score: -2.099069\n",
      "Iteration 10, loss = 6.71944011\n",
      "Validation score: -0.690560\n",
      "Iteration 11, loss = 6.61512621\n",
      "Validation score: -1.584881\n",
      "Iteration 12, loss = 6.64075457\n",
      "Validation score: -0.272768\n",
      "Iteration 13, loss = 6.62535627\n",
      "Validation score: -0.429377\n",
      "Iteration 14, loss = 6.60357860\n",
      "Validation score: -0.073075\n",
      "Iteration 15, loss = 6.58541190\n",
      "Validation score: -0.524645\n",
      "Iteration 16, loss = 6.60945891\n",
      "Validation score: -0.269973\n",
      "Iteration 17, loss = 6.63825908\n",
      "Validation score: -0.657218\n",
      "Iteration 18, loss = 6.62986469\n",
      "Validation score: -0.480719\n",
      "Iteration 19, loss = 6.60572521\n",
      "Validation score: -0.319077\n",
      "Iteration 20, loss = 6.59783677\n",
      "Validation score: -0.101962\n",
      "Iteration 21, loss = 6.59406196\n",
      "Validation score: -0.061407\n",
      "Iteration 22, loss = 6.59669501\n",
      "Validation score: -0.089870\n",
      "Iteration 23, loss = 6.59430479\n",
      "Validation score: -1.888383\n",
      "Iteration 24, loss = 6.64940064\n",
      "Validation score: -0.756390\n",
      "Iteration 25, loss = 6.58550614\n",
      "Validation score: -0.043569\n",
      "Iteration 26, loss = 6.58274765\n",
      "Validation score: -1.151618\n",
      "Iteration 27, loss = 6.62935472\n",
      "Validation score: -0.394806\n",
      "Iteration 28, loss = 6.58739346\n",
      "Validation score: -0.055201\n",
      "Iteration 29, loss = 6.59002278\n",
      "Validation score: -0.125495\n",
      "Iteration 30, loss = 6.58178188\n",
      "Validation score: -0.052761\n",
      "Iteration 31, loss = 6.58370856\n",
      "Validation score: -0.107545\n",
      "Iteration 32, loss = 6.57282029\n",
      "Validation score: -0.179451\n",
      "Iteration 33, loss = 6.58142185\n",
      "Validation score: -0.386030\n",
      "Iteration 34, loss = 6.58464307\n",
      "Validation score: -0.296919\n",
      "Iteration 35, loss = 6.58574072\n",
      "Validation score: -0.065059\n",
      "Iteration 36, loss = 6.58381077\n",
      "Validation score: -0.083550\n",
      "Validation score did not improve more than tol=0.000100 for 10 consecutive epochs. Stopping.\n"
     ]
    }
   ],
   "source": [
    "if train_new_model:\n",
    "    model = MLPRegressor(\n",
    "        hidden_layer_sizes=hidden_layers,\n",
    "        learning_rate=\"adaptive\",\n",
    "        early_stopping=True,\n",
    "        verbose=True,\n",
    "        n_iter_no_change=10\n",
    "    )\n",
    "    model.fit(X_train, y_train)"
   ]
  },
  {
   "cell_type": "markdown",
   "metadata": {},
   "source": [
    "## Testing and benchmarking"
   ]
  },
  {
   "cell_type": "code",
   "execution_count": 186,
   "metadata": {},
   "outputs": [
    {
     "data": {
      "image/png": "[encoded data removed]",
      "text/plain": [
       "<Figure size 1100x600 with 1 Axes>"
      ]
     },
     "metadata": {},
     "output_type": "display_data"
    },
    {
     "name": "stdout",
     "output_type": "stream",
     "text": [
      "3M Future Change - R²: -0.0900\n",
      "3M Future Change - MSE: 0.0683\n",
      "3M Future Change - MAE: 0.1813\n"
     ]
    },
    {
     "data": {
      "image/png": "[encoded data removed]",
      "text/plain": [
       "<Figure size 1100x600 with 1 Axes>"
      ]
     },
     "metadata": {},
     "output_type": "display_data"
    },
    {
     "name": "stdout",
     "output_type": "stream",
     "text": [
      "6M Future Change - R²: -0.0792\n",
      "6M Future Change - MSE: 0.1412\n",
      "6M Future Change - MAE: 0.2637\n"
     ]
    },
    {
     "data": {
      "image/png": "[encoded data removed]",
      "text/plain": [
       "<Figure size 1100x600 with 1 Axes>"
      ]
     },
     "metadata": {},
     "output_type": "display_data"
    },
    {
     "name": "stdout",
     "output_type": "stream",
     "text": [
      "1Y Future Change - R²: -0.0341\n",
      "1Y Future Change - MSE: 0.2639\n",
      "1Y Future Change - MAE: 0.3490\n",
      "\n",
      "Overall Scores:\n",
      "Mean - R²: -0.0678\n",
      "Mean - MSE: 0.1578\n",
      "Mean - MAE: 0.2647\n"
     ]
    }
   ],
   "source": [
    "if train_new_model:\n",
    "    y_test_pred = model.predict(X_test)\n",
    "\n",
    "    for i, target in enumerate(['3M Future Change', '6M Future Change', '1Y Future Change']):\n",
    "        y_test_actual = y_test[target]\n",
    "        y_test_pred_target = y_test_pred[:, i]\n",
    "\n",
    "        plt.figure(figsize=(11, 6))\n",
    "        plt.scatter(y_test_actual, y_test_pred_target, alpha=0.7, color='blue', label='Predictions')\n",
    "        plt.plot([y_test_actual.min(), y_test_actual.max()], [y_test_actual.min(), y_test_actual.max()], \n",
    "            color='red', linestyle='--', label='Perfect Fit')\n",
    "        plt.title(f'Predicted vs Actual Values ({target})')\n",
    "        plt.xlabel('Actual Values')\n",
    "        plt.ylabel('Predicted Values')\n",
    "        plt.legend()\n",
    "        plt.grid(True)\n",
    "        plt.show()\n",
    "\n",
    "        mae = mean_absolute_error(y_test_actual, y_test_pred_target)\n",
    "        mse = mean_squared_error(y_test_actual, y_test_pred_target)\n",
    "        r2 = r2_score(y_test_actual, y_test_pred_target)\n",
    "\n",
    "        print(f'{target} - R²: {r2:.4f}')\n",
    "        print(f'{target} - MSE: {mse:.4f}')\n",
    "        print(f'{target} - MAE: {mae:.4f}')\n",
    "\n",
    "    mae = mean_absolute_error(y_test, y_test_pred)\n",
    "    mse = mean_squared_error(y_test, y_test_pred)\n",
    "    r2 = r2_score(y_test, y_test_pred)\n",
    "\n",
    "    print('\\nOverall Scores:')\n",
    "    print(f'Mean - R²: {r2:.4f}')\n",
    "    print(f'Mean - MSE: {mse:.4f}')\n",
    "    print(f'Mean - MAE: {mae:.4f}')"
   ]
  },
  {
   "cell_type": "markdown",
   "metadata": {},
   "source": [
    "### Log test results"
   ]
  },
  {
   "cell_type": "code",
   "execution_count": 187,
   "metadata": {},
   "outputs": [
    {
     "name": "stdout",
     "output_type": "stream",
     "text": [
      "Old best R²: -0.2386041650746659\n",
      "New best R²: -0.06775213422200237\n",
      "Saving new best model...\n"
     ]
    }
   ],
   "source": [
    "if train_new_model:\n",
    "    test_results = pd.DataFrame({\n",
    "        'R²': r2,\n",
    "        'MSE': mse,\n",
    "        'MAE': mae,\n",
    "        'symbol_list': symbol_list,\n",
    "        'hidden_layer_sizes': [model.hidden_layer_sizes],\n",
    "        'max_iter': model.max_iter,\n",
    "        'n_iter_no_change': model.n_iter_no_change,\n",
    "        'learning_rate': model.learning_rate,\n",
    "        'learning_rate_init': model.learning_rate_init,\n",
    "        'batch_size': model.batch_size,\n",
    "        'tol': model.tol,\n",
    "        'alpha': model.alpha,\n",
    "        'shuffle': model.shuffle,\n",
    "    })\n",
    "    test_results.to_csv('../data/test_results.csv', mode='a', index=False)\n",
    "\n",
    "    # save model as new best if results are better than the current one\n",
    "    best_r2 = pd.read_csv('../models/best_model_results.csv').loc[0, 'R²']\n",
    "    if r2 > best_r2:\n",
    "        print(f'Old best R²: {best_r2}')\n",
    "        print(f'New best R²: {r2}')\n",
    "        print('Saving new best model...')\n",
    "        test_results.to_csv('../models/best_model_results.csv', mode='w', index=False)\n",
    "        with open('../models/best_model.pkl','wb') as f:\n",
    "            pickle.dump(model,f)\n",
    "        "
   ]
  },
  {
   "cell_type": "markdown",
   "metadata": {},
   "source": [
    "## Predictions on latest data"
   ]
  },
  {
   "cell_type": "code",
   "execution_count": 188,
   "metadata": {},
   "outputs": [
    {
     "name": "stdout",
     "output_type": "stream",
     "text": [
      "Best model R²: -0.0677521342220023\n"
     ]
    }
   ],
   "source": [
    "best_r2 = pd.read_csv('../models/best_model_results.csv').loc[0, 'R²']\n",
    "\n",
    "with open('../models/best_model.pkl', 'rb') as f:\n",
    "    model = pickle.load(f)\n",
    "    print(f'Best model R²: {best_r2}')\n"
   ]
  },
  {
   "cell_type": "code",
   "execution_count": 189,
   "metadata": {},
   "outputs": [
    {
     "data": {
      "application/vnd.microsoft.datawrangler.viewer.v0+json": {
       "columns": [
        {
         "name": "index",
         "rawType": "int64",
         "type": "integer"
        },
        {
         "name": "Ticker",
         "rawType": "object",
         "type": "string"
        },
        {
         "name": "mean (%)",
         "rawType": "float64",
         "type": "float"
        },
        {
         "name": "3m (%)",
         "rawType": "float64",
         "type": "float"
        },
        {
         "name": "6m (%)",
         "rawType": "float64",
         "type": "float"
        },
        {
         "name": "1y (%)",
         "rawType": "float64",
         "type": "float"
        }
       ],
       "ref": "aa0b0957-6bb9-4a0d-8b11-76bb50178843",
       "rows": [
        [
         "0",
         "AA",
         "16.327576524981893",
         "17.213410847504573",
         "6.173866235745183",
         "25.59545249169593"
        ],
        [
         "1",
         "AAT",
         "27.722997088462108",
         "-2.8599986763090715",
         "15.298312599549014",
         "70.7306773421464"
        ],
        [
         "2",
         "ABM",
         "31.10143533301133",
         "-1.8411312733808094",
         "15.919114485296856",
         "79.22632278711794"
        ],
        [
         "3",
         "ABR",
         "25.4672369508886",
         "-1.4821639797113615",
         "15.410042569604835",
         "62.47383226277233"
        ],
        [
         "4",
         "ABT",
         "17.733063355952964",
         "2.2845473558976592",
         "16.295963908444204",
         "34.618678803517035"
        ],
        [
         "5",
         "ACI",
         "15.415621202412968",
         "4.08517570018736",
         "18.072397086536228",
         "24.089290820515323"
        ],
        [
         "6",
         "ACM",
         "7.636179654981929",
         "3.2654959429746415",
         "9.697370374571918",
         "9.945672647399233"
        ],
        [
         "7",
         "ACRE",
         "27.81949350708619",
         "5.969410310100352",
         "21.886559546290858",
         "55.60251066486735"
        ],
        [
         "8",
         "ADC",
         "26.24639752127723",
         "7.582733657226096",
         "21.965801175967766",
         "49.19065773063783"
        ],
        [
         "9",
         "ADM",
         "7.402928948094015",
         "2.1168380422104116",
         "11.417354213784705",
         "8.674594588286928"
        ],
        [
         "10",
         "ADT",
         "24.652518065046745",
         "9.170324791820358",
         "21.3069981231676",
         "43.480231280152275"
        ],
        [
         "11",
         "AEM",
         "6.210282925262053",
         "1.859925500987833",
         "9.39958471797098",
         "7.371338556827347"
        ],
        [
         "12",
         "AEO",
         "7.028941298151524",
         "1.4388020380674424",
         "14.15504842372074",
         "5.492973432666388"
        ],
        [
         "13",
         "AEP",
         "27.549682013394083",
         "10.086797773638349",
         "22.056523426027816",
         "50.50572484051609"
        ],
        [
         "14",
         "AER",
         "17.85671097158215",
         "8.442349235464688",
         "16.328315947515573",
         "28.79946773176619"
        ],
        [
         "15",
         "AES",
         "32.8670476760105",
         "11.996456691068918",
         "23.76533827237333",
         "62.83934806458926"
        ],
        [
         "16",
         "AFG",
         "7.031246018475705",
         "3.3059527925386885",
         "9.076979748183225",
         "8.7108055147052"
        ],
        [
         "17",
         "AG",
         "17.91787013610691",
         "11.026163174479688",
         "16.6711054045631",
         "26.05634182927794"
        ],
        [
         "18",
         "AGCO",
         "5.437529107861908",
         "2.5473077971687323",
         "6.544082018281639",
         "7.221197508135354"
        ],
        [
         "19",
         "AGM",
         "7.0441341025300295",
         "3.6023308378009573",
         "8.433105605706572",
         "9.09696586408256"
        ],
        [
         "20",
         "AGM-A",
         "7.113995614982212",
         "3.7296961871880043",
         "8.52280144819623",
         "9.0894892095624"
        ],
        [
         "21",
         "AGO",
         "4.65724238261839",
         "3.0202815704324664",
         "6.923445131052894",
         "4.028000446369811"
        ],
        [
         "22",
         "AGRO",
         "10.346034470389224",
         "3.103581206842734",
         "16.045088003063416",
         "11.889434201261523"
        ],
        [
         "23",
         "AHH",
         "7.316835912197356",
         "5.55832513238448",
         "5.849588491420856",
         "10.54259411278673"
        ],
        [
         "24",
         "AHT",
         "7.327733161174438",
         "5.7749297336004295",
         "6.045841463371017",
         "10.162428286551865"
        ],
        [
         "25",
         "AHT-PD",
         "7.131750599576543",
         "5.526496227752724",
         "5.846635913537964",
         "10.022119657438946"
        ],
        [
         "26",
         "AI",
         "9.213846337878772",
         "12.356101495250972",
         "10.64248937460329",
         "4.6429481437820534"
        ],
        [
         "27",
         "AIG",
         "6.913914489221069",
         "1.4306398940751863",
         "8.569065585857977",
         "10.742037987730049"
        ],
        [
         "28",
         "AIN",
         "13.453642466347196",
         "9.586265138937515",
         "9.996805199343159",
         "20.777857060760923"
        ],
        [
         "29",
         "AIR",
         "7.183203221640544",
         "3.793702474976886",
         "14.408871709813942",
         "3.347035480130806"
        ],
        [
         "30",
         "AIT",
         "5.115436932263534",
         "1.196204540891134",
         "8.174734313691982",
         "5.975371942207486"
        ],
        [
         "31",
         "AIV",
         "8.761442665496666",
         "5.1046488702590365",
         "8.530411968021998",
         "12.649267158208968"
        ],
        [
         "32",
         "AIZ",
         "13.770838916475036",
         "4.697578180650991",
         "13.907394077728332",
         "22.707544491045784"
        ],
        [
         "33",
         "AJG",
         "5.979077150756778",
         "1.4110414202766284",
         "8.384999246439213",
         "8.141190785554492"
        ],
        [
         "34",
         "AKR",
         "6.377739063093063",
         "4.846219356929075",
         "2.844494347734109",
         "11.442503484616003"
        ],
        [
         "35",
         "AL",
         "9.605538388886774",
         "5.959201482523819",
         "7.66668678308689",
         "15.190726901049612"
        ],
        [
         "36",
         "ALE",
         "9.661217723639453",
         "8.560635117637496",
         "3.7298388258218953",
         "16.693179227458963"
        ],
        [
         "37",
         "ALEX",
         "6.14385371358529",
         "4.50281887833922",
         "2.6312531640771497",
         "11.2974890983395"
        ],
        [
         "38",
         "ALK",
         "6.173713575418462",
         "2.201810291663449",
         "13.415471700455644",
         "2.903858734136293"
        ],
        [
         "39",
         "ALL",
         "7.661307009959706",
         "1.8929930702021591",
         "10.101640649645516",
         "10.989287310031443"
        ],
        [
         "40",
         "ALSN",
         "6.875501173485775",
         "0.7701235251592151",
         "17.602909028068016",
         "2.2534709672300957"
        ],
        [
         "41",
         "ALV",
         "7.0363254399032416",
         "1.4542366797229798",
         "16.77539009739593",
         "2.8793495425908135"
        ],
        [
         "42",
         "ALX",
         "6.391178625011841",
         "4.113464909357538",
         "3.634579509539445",
         "11.42549145613854"
        ],
        [
         "43",
         "AM",
         "6.618426128492078",
         "3.0350177857053393",
         "7.20216330977736",
         "9.618097289993536"
        ],
        [
         "44",
         "AMD",
         "8.077244851678223",
         "6.272070684441417",
         "3.9371214013495255",
         "14.022542469243731"
        ],
        [
         "45",
         "AMG",
         "6.377191630397787",
         "1.4772420581042403",
         "16.024464797822986",
         "1.6298680352661337"
        ],
        [
         "46",
         "AMP",
         "8.31393756117075",
         "2.702971495010842",
         "19.084592121257444",
         "3.154249067243961"
        ],
        [
         "47",
         "AMRC",
         "7.704336626136193",
         "5.646202298193982",
         "9.635791917391522",
         "7.831015662823075"
        ],
        [
         "48",
         "AMT",
         "5.197102151525618",
         "0.7424757515614271",
         "4.708546779445533",
         "10.140283923569894"
        ],
        [
         "49",
         "AMX",
         "-2.270815443606798",
         "-5.41020937175242",
         "-4.063550398612475",
         "2.661313439544501"
        ]
       ],
       "shape": {
        "columns": 5,
        "rows": 1508
       }
      },
      "text/html": [
       "<div>\n",
       "<style scoped>\n",
       "    .dataframe tbody tr th:only-of-type {\n",
       "        vertical-align: middle;\n",
       "    }\n",
       "\n",
       "    .dataframe tbody tr th {\n",
       "        vertical-align: top;\n",
       "    }\n",
       "\n",
       "    .dataframe thead th {\n",
       "        text-align: right;\n",
       "    }\n",
       "</style>\n",
       "<table border=\"1\" class=\"dataframe\">\n",
       "  <thead>\n",
       "    <tr style=\"text-align: right;\">\n",
       "      <th></th>\n",
       "      <th>Ticker</th>\n",
       "      <th>mean (%)</th>\n",
       "      <th>3m (%)</th>\n",
       "      <th>6m (%)</th>\n",
       "      <th>1y (%)</th>\n",
       "    </tr>\n",
       "  </thead>\n",
       "  <tbody>\n",
       "    <tr>\n",
       "      <th>0</th>\n",
       "      <td>AA</td>\n",
       "      <td>16.327577</td>\n",
       "      <td>17.213411</td>\n",
       "      <td>6.173866</td>\n",
       "      <td>25.595452</td>\n",
       "    </tr>\n",
       "    <tr>\n",
       "      <th>1</th>\n",
       "      <td>AAT</td>\n",
       "      <td>27.722997</td>\n",
       "      <td>-2.859999</td>\n",
       "      <td>15.298313</td>\n",
       "      <td>70.730677</td>\n",
       "    </tr>\n",
       "    <tr>\n",
       "      <th>2</th>\n",
       "      <td>ABM</td>\n",
       "      <td>31.101435</td>\n",
       "      <td>-1.841131</td>\n",
       "      <td>15.919114</td>\n",
       "      <td>79.226323</td>\n",
       "    </tr>\n",
       "    <tr>\n",
       "      <th>3</th>\n",
       "      <td>ABR</td>\n",
       "      <td>25.467237</td>\n",
       "      <td>-1.482164</td>\n",
       "      <td>15.410043</td>\n",
       "      <td>62.473832</td>\n",
       "    </tr>\n",
       "    <tr>\n",
       "      <th>4</th>\n",
       "      <td>ABT</td>\n",
       "      <td>17.733063</td>\n",
       "      <td>2.284547</td>\n",
       "      <td>16.295964</td>\n",
       "      <td>34.618679</td>\n",
       "    </tr>\n",
       "    <tr>\n",
       "      <th>...</th>\n",
       "      <td>...</td>\n",
       "      <td>...</td>\n",
       "      <td>...</td>\n",
       "      <td>...</td>\n",
       "      <td>...</td>\n",
       "    </tr>\n",
       "    <tr>\n",
       "      <th>1503</th>\n",
       "      <td>GMAB</td>\n",
       "      <td>7.817182</td>\n",
       "      <td>7.556059</td>\n",
       "      <td>8.436813</td>\n",
       "      <td>7.458672</td>\n",
       "    </tr>\n",
       "    <tr>\n",
       "      <th>1504</th>\n",
       "      <td>EQNR</td>\n",
       "      <td>4.347898</td>\n",
       "      <td>5.133841</td>\n",
       "      <td>-17.496896</td>\n",
       "      <td>25.406750</td>\n",
       "    </tr>\n",
       "    <tr>\n",
       "      <th>1505</th>\n",
       "      <td>BABA</td>\n",
       "      <td>-11.309661</td>\n",
       "      <td>-13.199884</td>\n",
       "      <td>-12.060328</td>\n",
       "      <td>-8.668772</td>\n",
       "    </tr>\n",
       "    <tr>\n",
       "      <th>1506</th>\n",
       "      <td>IQ</td>\n",
       "      <td>5.599862</td>\n",
       "      <td>9.654921</td>\n",
       "      <td>-1.139804</td>\n",
       "      <td>8.284468</td>\n",
       "    </tr>\n",
       "    <tr>\n",
       "      <th>1507</th>\n",
       "      <td>UBER</td>\n",
       "      <td>15.642722</td>\n",
       "      <td>20.354213</td>\n",
       "      <td>-3.544280</td>\n",
       "      <td>30.118233</td>\n",
       "    </tr>\n",
       "  </tbody>\n",
       "</table>\n",
       "<p>1508 rows × 5 columns</p>\n",
       "</div>"
      ],
      "text/plain": [
       "     Ticker   mean (%)     3m (%)     6m (%)     1y (%)\n",
       "0        AA  16.327577  17.213411   6.173866  25.595452\n",
       "1       AAT  27.722997  -2.859999  15.298313  70.730677\n",
       "2       ABM  31.101435  -1.841131  15.919114  79.226323\n",
       "3       ABR  25.467237  -1.482164  15.410043  62.473832\n",
       "4       ABT  17.733063   2.284547  16.295964  34.618679\n",
       "...     ...        ...        ...        ...        ...\n",
       "1503   GMAB   7.817182   7.556059   8.436813   7.458672\n",
       "1504   EQNR   4.347898   5.133841 -17.496896  25.406750\n",
       "1505   BABA -11.309661 -13.199884 -12.060328  -8.668772\n",
       "1506     IQ   5.599862   9.654921  -1.139804   8.284468\n",
       "1507   UBER  15.642722  20.354213  -3.544280  30.118233\n",
       "\n",
       "[1508 rows x 5 columns]"
      ]
     },
     "execution_count": 189,
     "metadata": {},
     "output_type": "execute_result"
    }
   ],
   "source": [
    "df_raw = pd.read_csv('../data/earnings_data.csv')\n",
    "\n",
    "results = []\n",
    "for i in range(len(X_pred)):\n",
    "    y_pred = model.predict(X_pred.iloc[[i]])[0]\n",
    "    y_pred_3m, y_pred_6m, y_pred_1y = y_pred\n",
    "    avg = (y_pred_3m + y_pred_6m + y_pred_1y) / 3\n",
    "    results.append({\n",
    "        'Ticker': df_raw.loc[i*5, 'Ticker'],\n",
    "        'mean (%)': avg * 100,\n",
    "        '3m (%)': y_pred_3m * 100,\n",
    "        '6m (%)': y_pred_6m * 100,\n",
    "        '1y (%)': y_pred_1y * 100\n",
    "    })\n",
    "\n",
    "results_df = pd.DataFrame(results)\n",
    "results_df"
   ]
  },
  {
   "cell_type": "code",
   "execution_count": 190,
   "metadata": {},
   "outputs": [],
   "source": [
    "def predict_ticker(ticker_str):\n",
    "    try:\n",
    "        ticker_str = str(ticker_str).upper()\n",
    "        ticker_str = ticker_str.replace(\"'\", \"\")\n",
    "        ticker_str = ticker_str.replace('\"', \"\")\n",
    "        row = results_df[results_df['Ticker'] == ticker_str]\n",
    "        if row.empty:\n",
    "            return (f\"The author was stupid and forgot to cover this obvious, famous stock. Try another.\", \"\", \"\", \"\")\n",
    "        row = row.iloc[0]\n",
    "        return (\n",
    "            f\"{row['3m (%)']:.2f}\",\n",
    "            f\"{row['6m (%)']:.2f}\",\n",
    "            f\"{row['1y (%)']:.2f}\",\n",
    "            f\"{row['mean (%)']:.2f}\",\n",
    "        )\n",
    "    except Exception as e:\n",
    "        return (f\"Error: {e}\", \"\", \"\", \"\")"
   ]
  },
  {
   "cell_type": "code",
   "execution_count": 191,
   "metadata": {
    "vscode": {
     "languageId": "javascript"
    }
   },
   "outputs": [
    {
     "name": "stdout",
     "output_type": "stream",
     "text": [
      "* Running on local URL:  http://127.0.0.1:7861\n",
      "* Running on public URL: https://1fef746cf426532aef.gradio.live\n",
      "\n",
      "This share link expires in 1 week. For free permanent hosting and GPU upgrades, run `gradio deploy` from the terminal in the working directory to deploy to Hugging Face Spaces (https://huggingface.co/spaces)\n"
     ]
    },
    {
     "data": {
      "text/html": [
       "<div><iframe src=\"https://1fef746cf426532aef.gradio.live\" width=\"100%\" height=\"500\" allow=\"autoplay; camera; microphone; clipboard-read; clipboard-write;\" frameborder=\"0\" allowfullscreen></iframe></div>"
      ],
      "text/plain": [
       "<IPython.core.display.HTML object>"
      ]
     },
     "metadata": {},
     "output_type": "display_data"
    },
    {
     "data": {
      "text/plain": []
     },
     "execution_count": 191,
     "metadata": {},
     "output_type": "execute_result"
    }
   ],
   "source": [
    "iface = gr.Interface(\n",
    "    fn=predict_ticker,\n",
    "    inputs=gr.Textbox(label=\"Ticker (e.g. 'TSLA' or 'MATAS.CO')\"),\n",
    "    outputs=[\n",
    "        gr.Textbox(label=\"3 Month Change Prediction (%)\"),\n",
    "        gr.Textbox(label=\"6 Month Change Prediction (%)\"),\n",
    "        gr.Textbox(label=\"1 Year Change Prediction (%)\"),\n",
    "        gr.Textbox(label=\"Mean Change Prediction (%)\"),\n",
    "    ],\n",
    "    title=\"Stock Price Prediction Model\",\n",
    "    description=\" \"\n",
    ")\n",
    "\n",
    "iface.launch(share=True)"
   ]
  }
 ],
 "metadata": {
  "kernelspec": {
   "display_name": "base",
   "language": "python",
   "name": "python3"
  },
  "language_info": {
   "codemirror_mode": {
    "name": "ipython",
    "version": 3
   },
   "file_extension": ".py",
   "mimetype": "text/x-python",
   "name": "python",
   "nbconvert_exporter": "python",
   "pygments_lexer": "ipython3",
   "version": "3.12.2"
  }
 },
 "nbformat": 4,
 "nbformat_minor": 2
}
