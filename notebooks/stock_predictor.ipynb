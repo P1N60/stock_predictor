{
 "cells": [
  {
   "cell_type": "markdown",
   "metadata": {},
   "source": [
    "# Stock Prediction Model"
   ]
  },
  {
   "cell_type": "markdown",
   "metadata": {},
   "source": [
    "## Dependencies"
   ]
  },
  {
   "cell_type": "markdown",
   "metadata": {},
   "source": [
    "### Library Installation (if needed)"
   ]
  },
  {
   "cell_type": "code",
   "execution_count": 18,
   "metadata": {},
   "outputs": [],
   "source": [
    "#! pip install -Ur requirements.txt"
   ]
  },
  {
   "cell_type": "markdown",
   "metadata": {},
   "source": [
    "### Importing Required Libraries"
   ]
  },
  {
   "cell_type": "code",
   "execution_count": 19,
   "metadata": {},
   "outputs": [],
   "source": [
    "import matplotlib.pyplot as plt\n",
    "import yfinance as yf\n",
    "import pandas as pd\n",
    "import numpy as np\n",
    "import pickle\n",
    "import gradio as gr\n",
    "import ast\n",
    "import warnings\n",
    "from datetime import datetime\n",
    "from tqdm import tqdm\n",
    "from sklearn.impute import SimpleImputer\n",
    "from sklearn.neural_network import MLPRegressor\n",
    "from sklearn.metrics import r2_score, mean_squared_error, mean_absolute_error\n",
    "from sklearn.preprocessing import LabelEncoder, StandardScaler\n",
    "from sklearn.model_selection import train_test_split, GridSearchCV"
   ]
  },
  {
   "cell_type": "markdown",
   "metadata": {},
   "source": [
    "### Variables"
   ]
  },
  {
   "cell_type": "code",
   "execution_count": 20,
   "metadata": {},
   "outputs": [],
   "source": [
    "warnings.filterwarnings(\"ignore\", category=FutureWarning)\n",
    "symbol_list = input(\"Symbols: ('simple', 'filtered' or 'all')\") # 'simple' or 'all'. simple are the tickers from the screener notebook and all are all of the tickers in 'filtered_tickers'. You may also an 'Int' to get a % amount of random tickers from 'all'\n",
    "if symbol_list:\n",
    "    build_new_dataset = True\n",
    "else:\n",
    "    build_new_dataset = False\n",
    "    symbol_list = 'filtered'\n",
    "minimum_feature_threshold = 0.6\n",
    "hidden_layers = ast.literal_eval(f\"({input('Hidden Layers: eg. \"100, 100\"')})\")\n",
    "if hidden_layers:\n",
    "    train_new_model = True\n",
    "    verticle_jobs = 1 #'-1' for max\n",
    "if build_new_dataset or train_new_model:\n",
    "    debugging = {'True': True, 'False': False}.get(input('Debug? (Bool)'))\n",
    "else:\n",
    "    debugging = False"
   ]
  },
  {
   "cell_type": "markdown",
   "metadata": {},
   "source": [
    "## Data Preparation"
   ]
  },
  {
   "cell_type": "code",
   "execution_count": 21,
   "metadata": {},
   "outputs": [
    {
     "data": {
      "text/plain": [
       "array(['MATAS.CO', 'TRIFOR.CO', 'RNMBY', ..., 'ZUMZ', 'CLOUD.OL',\n",
       "       'PARRO.PA'], dtype=object)"
      ]
     },
     "execution_count": 21,
     "metadata": {},
     "output_type": "execute_result"
    }
   ],
   "source": [
    "symbols = pd.read_csv('../data/simple_tickers.csv')['Ticker'].tolist()\n",
    "if symbol_list == 'filtered':\n",
    "    symbols = symbols + pd.read_csv('../data/filtered_tickers.csv')['Ticker'].tolist()\n",
    "elif symbol_list == 'all':\n",
    "    symbols = symbols + pd.read_csv('../data/tickers.csv')['Ticker'].tolist()\n",
    "elif symbol_list.isdigit():\n",
    "    all_symbols = pd.read_csv('../data/tickers.csv')['Ticker'].tolist()\n",
    "    num_symbols = max(1, round(len(all_symbols) * (int(symbol_list) / 100)))  \n",
    "    symbols = symbols + pd.read_csv(\"../data/filtered_tickers.csv\")[\"Ticker\"].tolist()\n",
    "    symbols = symbols + np.random.choice(all_symbols, num_symbols, replace=False).tolist()\n",
    "\n",
    "symbols = pd.Series(symbols).unique()\n",
    "symbols"
   ]
  },
  {
   "cell_type": "markdown",
   "metadata": {},
   "source": [
    "#### Download annual financial data"
   ]
  },
  {
   "cell_type": "code",
   "execution_count": 22,
   "metadata": {},
   "outputs": [
    {
     "name": "stderr",
     "output_type": "stream",
     "text": [
      " 69%|██████▉   | 4000/5805 [1:00:30<27:18,  1.10it/s]\n",
      "1 Failed download:\n",
      "['FFBCW']: YFPricesMissingError('possibly delisted; no price data found  (period=5y) (Yahoo error = \"No data found, symbol may be delisted\")')\n",
      "100%|██████████| 5805/5805 [1:28:22<00:00,  1.09it/s]\n"
     ]
    }
   ],
   "source": [
    "if build_new_dataset:\n",
    "    df = pd.DataFrame()\n",
    "    filtered_pd = pd.read_csv('../data/filtered_tickers.csv')\n",
    "    for symbol in tqdm(symbols, smoothing=0):\n",
    "        ticker_df = pd.DataFrame()\n",
    "        ticker = yf.Ticker(symbol)\n",
    "        try:\n",
    "            # Latest earning data\n",
    "            latest_earning_date = ticker.quarterly_cash_flow.columns.tolist()[0]\n",
    "            latest_data = {'Ticker': symbol, 'Name': ticker.info[\"shortName\"], 'Date': latest_earning_date}\n",
    "            latest_data['3M Future Change'] = np.nan\n",
    "            latest_data['6M Future Change'] = np.nan\n",
    "            latest_data['9M Future Change'] = np.nan\n",
    "            latest_data['1Y Future Change'] = np.nan\n",
    "            try:\n",
    "                latest_data['Sector'] = ticker.info['sector']\n",
    "            except:\n",
    "                latest_data['Sector'] = 'Unknown'\n",
    "            try:\n",
    "                latest_data['Industry'] = ticker.info['industry']\n",
    "            except:\n",
    "                latest_data['Industry'] = 'Unknown'\n",
    "            for column in ticker.quarterly_cash_flow[latest_earning_date].keys().tolist():\n",
    "                latest_data[column] = ticker.quarterly_cash_flow[latest_earning_date][column]\n",
    "            for column in ticker.quarterly_balance_sheet[latest_earning_date].keys().tolist():\n",
    "                latest_data[column] = ticker.quarterly_balance_sheet[latest_earning_date][column]\n",
    "            for column in ticker.quarterly_income_stmt[latest_earning_date].keys().tolist():\n",
    "                latest_data[column] = ticker.quarterly_income_stmt[latest_earning_date][column]\n",
    "            ticker_df = pd.concat([ticker_df, pd.DataFrame([latest_data])], ignore_index=True)\n",
    "\n",
    "            # Annual data\n",
    "            earning_dates = ticker.cash_flow.columns.tolist()\n",
    "            if len(earning_dates) == 5:\n",
    "                earning_dates.remove(earning_dates[4])\n",
    "            else:\n",
    "                if symbol in filtered_pd['Ticker'].tolist():\n",
    "                    filtered_pd = filtered_pd[filtered_pd['Ticker'] != symbol]\n",
    "                if debugging:\n",
    "                    print(f\"{symbol} had {len(earning_dates)} earning dates, not 5\")\n",
    "                continue\n",
    "            price_data = yf.download(symbol, period='5y', rounding=False, progress=False)\n",
    "            cash_flow = ticker.cash_flow\n",
    "            cash_flow_columns = cash_flow[earning_dates[0]].keys().tolist()\n",
    "            balance_sheet = ticker.balance_sheet\n",
    "            balance_sheet_columns = balance_sheet[earning_dates[0]].keys().tolist()\n",
    "            income_statement = ticker.income_stmt\n",
    "            income_statement_columns = income_statement[earning_dates[0]].keys().tolist()\n",
    "            for earning_date in earning_dates:\n",
    "                earning_date_data = {'Ticker': symbol, 'Name': ticker.info[\"shortName\"], 'Date': earning_date}\n",
    "                got_price = False\n",
    "                day_offset = 0\n",
    "                while(got_price==False and day_offset > -6):\n",
    "                    try:           \n",
    "                        earning_date_data['3M Future Change'] = (\n",
    "                            float(price_data.loc[earning_date + pd.Timedelta(days=day_offset, weeks=13) , ('Close', symbol)]) / \n",
    "                            float(price_data.loc[earning_date + pd.Timedelta(days=day_offset), ('Close', symbol)]) - 1\n",
    "                        )\n",
    "                        earning_date_data['6M Future Change'] = (\n",
    "                            float(price_data.loc[earning_date + pd.Timedelta(days=day_offset, weeks=26) , ('Close', symbol)]) / \n",
    "                            float(price_data.loc[earning_date + pd.Timedelta(days=day_offset), ('Close', symbol)]) - 1\n",
    "                        )\n",
    "                        earning_date_data['9M Future Change'] = (\n",
    "                            float(price_data.loc[earning_date + pd.Timedelta(days=day_offset, weeks=39) , ('Close', symbol)]) / \n",
    "                            float(price_data.loc[earning_date + pd.Timedelta(days=day_offset), ('Close', symbol)]) - 1\n",
    "                        )\n",
    "                        earning_date_data['1Y Future Change'] = (\n",
    "                            float(price_data.loc[earning_date + pd.Timedelta(days=day_offset, weeks=52) , ('Close', symbol)]) / \n",
    "                            float(price_data.loc[earning_date + pd.Timedelta(days=day_offset), ('Close', symbol)]) - 1\n",
    "                        )\n",
    "                        got_price = True\n",
    "                    except:\n",
    "                        day_offset += -1\n",
    "                try:\n",
    "                    earning_date_data['Sector'] = ticker.info['sector']\n",
    "                except:\n",
    "                    earning_date_data['Sector'] = 'Unknown'\n",
    "                try:\n",
    "                    earning_date_data['Industry'] = ticker.info['industry']\n",
    "                except:\n",
    "                    earning_date_data['Industry'] = 'Unknown'\n",
    "                for column in cash_flow_columns:\n",
    "                    earning_date_data[column] = cash_flow[earning_date][column]\n",
    "                for column in balance_sheet_columns:\n",
    "                    earning_date_data[column] = balance_sheet[earning_date][column]\n",
    "                for column in income_statement_columns:\n",
    "                    earning_date_data[column] = income_statement[earning_date][column]\n",
    "                if got_price:\n",
    "                    ticker_df = pd.concat([ticker_df, pd.DataFrame([earning_date_data])], ignore_index=True)\n",
    "            \n",
    "            if len(ticker_df) != 4:\n",
    "                if symbol in filtered_pd['Ticker'].tolist():\n",
    "                    filtered_pd = filtered_pd[filtered_pd['Ticker'] != symbol]\n",
    "                    if debugging:\n",
    "                        print(f'Removed {symbol} from filtered tickers because the length of the df was not 4, it was {len(ticker_df)}')\n",
    "                else:\n",
    "                    if debugging:\n",
    "                        print(f'{symbol}: df was not 4, it was {len(ticker_df)}')\n",
    "                continue\n",
    "\n",
    "            if ticker_df.isna().sum().sum() < round(352 * minimum_feature_threshold):\n",
    "                if symbol not in filtered_pd['Ticker'].tolist():\n",
    "                    filtered_pd = pd.concat([filtered_pd, pd.DataFrame([{'Ticker': symbol}])])\n",
    "                imputer = SimpleImputer()\n",
    "                for column in ticker_df.columns.drop(['Ticker', 'Name', 'Date', '3M Future Change', '6M Future Change', '9M Future Change', '1Y Future Change', 'Sector', 'Industry']):\n",
    "                    if not ticker_df[column].isna().all():\n",
    "                        ticker_df[column] = imputer.fit_transform(ticker_df[[column]])\n",
    "            else:\n",
    "                if symbol in filtered_pd['Ticker'].tolist():\n",
    "                    filtered_pd = filtered_pd[filtered_pd['Ticker'] != symbol]\n",
    "                    if debugging:\n",
    "                        print(f'Removed {symbol} from filtered tickers. Datapoints: {ticker_df.isna().sum().sum()}, Needed: {round(352 * minimum_feature_threshold)}')\n",
    "                continue\n",
    "            df = pd.concat([df, ticker_df], ignore_index=True)\n",
    "        except Exception as error:\n",
    "            if symbol in filtered_pd['Ticker'].tolist():\n",
    "                filtered_pd = filtered_pd[filtered_pd['Ticker'] != symbol]\n",
    "                if debugging:\n",
    "                    print(f'Removed {symbol} from filtered tickers because an exception was raised \\n {error}')\n",
    "            else:\n",
    "                if debugging:\n",
    "                    print(f\"{symbol}: exception raised: {error}\")\n",
    "            continue\n",
    "    filtered_pd.to_csv('../data/filtered_tickers.csv', index=False)\n",
    "    df.to_csv('../data/earnings_data.csv', index=False)\n",
    "else:\n",
    "    df = pd.read_csv('../data/earnings_data.csv')"
   ]
  },
  {
   "cell_type": "markdown",
   "metadata": {},
   "source": [
    "### Short visualisation"
   ]
  },
  {
   "cell_type": "code",
   "execution_count": 23,
   "metadata": {},
   "outputs": [],
   "source": [
    "if debugging:\n",
    "    display(df)"
   ]
  },
  {
   "cell_type": "markdown",
   "metadata": {},
   "source": [
    "### Impution and encoding"
   ]
  },
  {
   "cell_type": "code",
   "execution_count": 24,
   "metadata": {},
   "outputs": [],
   "source": [
    "imputer = SimpleImputer()\n",
    "scaler = StandardScaler()\n",
    "for column in df.columns.drop(['Ticker', 'Name', 'Date', '3M Future Change', '6M Future Change', '9M Future Change', '1Y Future Change', 'Sector', 'Industry']):\n",
    "    df[column] = imputer.fit_transform(df[[column]])\n",
    "    scaler.fit(df[[column]])\n",
    "    df[column] = scaler.transform(df[[column]])\n",
    "\n",
    "le = LabelEncoder()\n",
    "for column in ['Sector', 'Industry']:\n",
    "    df[column] = df[column].astype(str)\n",
    "    le.fit(df[column])\n",
    "    df[column] = le.transform(df[column])"
   ]
  },
  {
   "cell_type": "markdown",
   "metadata": {},
   "source": [
    "### Splitting"
   ]
  },
  {
   "cell_type": "code",
   "execution_count": 25,
   "metadata": {},
   "outputs": [],
   "source": [
    "pred_data = pd.DataFrame()\n",
    "test_data = pd.DataFrame()\n",
    "train_data = pd.DataFrame()\n",
    "for i in range(int(len(df) / 4)):\n",
    "    pred_data = pd.concat([pred_data, df.iloc[[i*4]]]) \n",
    "    test_data = pd.concat([test_data, df.iloc[[1+i*4]]])\n",
    "    train_data = pd.concat([train_data, df.iloc[[2+i*4]]])\n",
    "    train_data = pd.concat([train_data, df.iloc[[3+i*4]]])\n",
    "if debugging:\n",
    "    print('Prediction Data:')\n",
    "    display(pred_data)\n",
    "    print(\"Test Data:\")\n",
    "    display(test_data)\n",
    "    print('Training Data:')\n",
    "    display(train_data)"
   ]
  },
  {
   "cell_type": "markdown",
   "metadata": {},
   "source": [
    "### Labeling"
   ]
  },
  {
   "cell_type": "code",
   "execution_count": null,
   "metadata": {},
   "outputs": [],
   "source": [
    "training_columns = train_data.columns.drop([\"Ticker\", \"Name\", \"Sector\", \"Industry\", \"Date\", '3M Future Change', '6M Future Change', '9M Future Change', '1Y Future Change'])\n",
    "label_columns = ['3M Future Change', '6M Future Change', '9M Future Change', '1Y Future Change']\n",
    "X_pred = pred_data[training_columns]\n",
    "X_test = test_data[training_columns]\n",
    "y_test = test_data[label_columns]\n",
    "X_train = train_data[training_columns]\n",
    "y_train = train_data[label_columns]\n",
    "if debugging:\n",
    "    print(\"X_pred:\")\n",
    "    display(X_pred)\n",
    "    print(\"X_test:\")\n",
    "    display(X_test)\n",
    "    print(\"y_test:\")\n",
    "    display(y_test)\n",
    "    print(\"X_train:\")\n",
    "    display(X_train)\n",
    "    print(\"y_train:\")\n",
    "    display(y_train)"
   ]
  },
  {
   "cell_type": "markdown",
   "metadata": {},
   "source": [
    "## Model Training"
   ]
  },
  {
   "cell_type": "code",
   "execution_count": 27,
   "metadata": {},
   "outputs": [
    {
     "name": "stdout",
     "output_type": "stream",
     "text": [
      "iter_no_change: 16\n",
      "Iteration 1, loss = 4.07549069\n",
      "Validation score: -0.004596\n",
      "Iteration 2, loss = 0.06331418\n",
      "Validation score: -0.003747\n",
      "Iteration 3, loss = 0.06277366\n",
      "Validation score: -0.003391\n",
      "Iteration 4, loss = 0.06265153\n",
      "Validation score: -0.004104\n",
      "Iteration 5, loss = 0.06196163\n",
      "Validation score: 0.005826\n",
      "Iteration 6, loss = 0.06229694\n",
      "Validation score: -0.025906\n",
      "Iteration 7, loss = 0.06259231\n",
      "Validation score: 0.020598\n",
      "Iteration 8, loss = 0.06051880\n",
      "Validation score: 0.008300\n",
      "Iteration 9, loss = 0.06003298\n",
      "Validation score: 0.013878\n",
      "Iteration 10, loss = 0.06021155\n",
      "Validation score: 0.004496\n",
      "Iteration 11, loss = 0.05883661\n",
      "Validation score: -0.036801\n",
      "Iteration 12, loss = 0.05815684\n",
      "Validation score: 0.005888\n",
      "Iteration 13, loss = 0.05756685\n",
      "Validation score: -0.051923\n",
      "Iteration 14, loss = 0.05678752\n",
      "Validation score: 0.009312\n",
      "Iteration 15, loss = 0.05632929\n",
      "Validation score: -0.030525\n",
      "Iteration 16, loss = 0.05447842\n",
      "Validation score: -0.454315\n",
      "Iteration 17, loss = 0.05528292\n",
      "Validation score: -0.057981\n",
      "Iteration 18, loss = 0.05455553\n",
      "Validation score: -0.050059\n",
      "Iteration 19, loss = 0.05427342\n",
      "Validation score: -0.932726\n",
      "Iteration 20, loss = 0.05982947\n",
      "Validation score: 0.005961\n",
      "Iteration 21, loss = 0.05659733\n",
      "Validation score: -0.021102\n",
      "Iteration 22, loss = 0.05372504\n",
      "Validation score: -0.000500\n",
      "Iteration 23, loss = 0.05205385\n",
      "Validation score: -0.022868\n",
      "Iteration 24, loss = 0.04887956\n",
      "Validation score: -0.198821\n",
      "Validation score did not improve more than tol=0.000010 for 16 consecutive epochs. Stopping.\n"
     ]
    }
   ],
   "source": [
    "if train_new_model:\n",
    "    model = MLPRegressor(\n",
    "        hidden_layer_sizes=hidden_layers,\n",
    "        learning_rate=\"adaptive\",\n",
    "        early_stopping=True,\n",
    "        verbose=True,\n",
    "        tol=0.00001,\n",
    "        n_iter_no_change=round(40000/hidden_layers[0])\n",
    "    )\n",
    "    print(f\"iter_no_change: {model.n_iter_no_change}\")\n",
    "    model.fit(X_train, y_train)"
   ]
  },
  {
   "cell_type": "markdown",
   "metadata": {},
   "source": [
    "## Testing and benchmarking"
   ]
  },
  {
   "cell_type": "code",
   "execution_count": 28,
   "metadata": {},
   "outputs": [
    {
     "data": {
      "image/png": "[encoded data removed]",
      "text/plain": [
       "<Figure size 1100x600 with 1 Axes>"
      ]
     },
     "metadata": {},
     "output_type": "display_data"
    },
    {
     "name": "stdout",
     "output_type": "stream",
     "text": [
      "3M Future Change - R²: 0.0011\n",
      "3M Future Change - MSE: 0.0427\n",
      "3M Future Change - MAE: 0.1410\n"
     ]
    },
    {
     "data": {
      "image/png": "[encoded data removed]",
      "text/plain": [
       "<Figure size 1100x600 with 1 Axes>"
      ]
     },
     "metadata": {},
     "output_type": "display_data"
    },
    {
     "name": "stdout",
     "output_type": "stream",
     "text": [
      "6M Future Change - R²: -0.0315\n",
      "6M Future Change - MSE: 0.0873\n",
      "6M Future Change - MAE: 0.1972\n"
     ]
    },
    {
     "data": {
      "image/png": "[encoded data removed]",
      "text/plain": [
       "<Figure size 1100x600 with 1 Axes>"
      ]
     },
     "metadata": {},
     "output_type": "display_data"
    },
    {
     "name": "stdout",
     "output_type": "stream",
     "text": [
      "9M Future Change - R²: -0.1392\n",
      "9M Future Change - MSE: 0.1720\n",
      "9M Future Change - MAE: 0.2797\n"
     ]
    },
    {
     "data": {
      "image/png": "[encoded data removed]",
      "text/plain": [
       "<Figure size 1100x600 with 1 Axes>"
      ]
     },
     "metadata": {},
     "output_type": "display_data"
    },
    {
     "name": "stdout",
     "output_type": "stream",
     "text": [
      "1Y Future Change - R²: -0.0626\n",
      "1Y Future Change - MSE: 0.2775\n",
      "1Y Future Change - MAE: 0.3333\n",
      "\n",
      "Overall Scores:\n",
      "Mean - R²: -0.0580\n",
      "Mean - MSE: 0.1449\n",
      "Mean - MAE: 0.2378\n"
     ]
    }
   ],
   "source": [
    "if train_new_model:\n",
    "    y_test_pred = model.predict(X_test)\n",
    "\n",
    "    for i, target in enumerate(['3M Future Change', '6M Future Change', '9M Future Change', '1Y Future Change']):\n",
    "        y_test_actual = y_test[target]\n",
    "        y_test_pred_target = y_test_pred[:, i]\n",
    "\n",
    "        plt.figure(figsize=(11, 6))\n",
    "        plt.scatter(y_test_actual, y_test_pred_target, alpha=0.7, color='blue', label='Predictions')\n",
    "        plt.plot([y_test_actual.min(), y_test_actual.max()], [y_test_actual.min(), y_test_actual.max()], \n",
    "            color='red', linestyle='--', label='Perfect Fit')\n",
    "        plt.title(f'Predicted vs Actual Values ({target})')\n",
    "        plt.xlabel('Actual Values')\n",
    "        plt.ylabel('Predicted Values')\n",
    "        plt.legend()\n",
    "        plt.grid(True)\n",
    "        plt.show()\n",
    "\n",
    "        mae = mean_absolute_error(y_test_actual, y_test_pred_target)\n",
    "        mse = mean_squared_error(y_test_actual, y_test_pred_target)\n",
    "        r2 = r2_score(y_test_actual, y_test_pred_target)\n",
    "\n",
    "        print(f'{target} - R²: {r2:.4f}')\n",
    "        print(f'{target} - MSE: {mse:.4f}')\n",
    "        print(f'{target} - MAE: {mae:.4f}')\n",
    "\n",
    "    mae = mean_absolute_error(y_test, y_test_pred)\n",
    "    mse = mean_squared_error(y_test, y_test_pred)\n",
    "    r2 = r2_score(y_test, y_test_pred)\n",
    "\n",
    "    print('\\nOverall Scores:')\n",
    "    print(f'Mean - R²: {r2:.4f}')\n",
    "    print(f'Mean - MSE: {mse:.4f}')\n",
    "    print(f'Mean - MAE: {mae:.4f}')"
   ]
  },
  {
   "cell_type": "markdown",
   "metadata": {},
   "source": [
    "### Log test results"
   ]
  },
  {
   "cell_type": "code",
   "execution_count": 32,
   "metadata": {},
   "outputs": [
    {
     "name": "stdout",
     "output_type": "stream",
     "text": [
      "Old best R²: -1\n",
      "New best R²: -0.05802426820721185\n",
      "Saving new best model...\n"
     ]
    }
   ],
   "source": [
    "if train_new_model:\n",
    "    test_results = pd.DataFrame({\n",
    "        'R²': r2,\n",
    "        'MSE': mse,\n",
    "        'MAE': mae,\n",
    "        'symbol_list': symbol_list,\n",
    "        'hidden_layer_sizes': [model.hidden_layer_sizes],\n",
    "        'max_iter': model.max_iter,\n",
    "        'n_iter_no_change': model.n_iter_no_change,\n",
    "        'learning_rate': model.learning_rate,\n",
    "        'learning_rate_init': model.learning_rate_init,\n",
    "        'batch_size': model.batch_size,\n",
    "        'tol': model.tol,\n",
    "        'alpha': model.alpha,\n",
    "        'shuffle': model.shuffle,\n",
    "    })\n",
    "    test_results.to_csv('../data/test_results.csv', mode='a', index=False)\n",
    "\n",
    "    # save model as new best if results are better than the current one\n",
    "    best_r2 = pd.read_csv('../models/best_model_results.csv').loc[0, 'R²']\n",
    "    if r2 > best_r2:\n",
    "        print(f'Old best R²: {best_r2}')\n",
    "        print(f'New best R²: {r2}')\n",
    "        print('Saving new best model...')\n",
    "        test_results.to_csv('../models/best_model_results.csv', mode='w', index=False)\n",
    "        with open('../models/best_model.pkl','wb') as f:\n",
    "            pickle.dump(model,f)\n",
    "        "
   ]
  },
  {
   "cell_type": "markdown",
   "metadata": {},
   "source": [
    "## Predictions on latest data"
   ]
  },
  {
   "cell_type": "code",
   "execution_count": 33,
   "metadata": {},
   "outputs": [
    {
     "name": "stdout",
     "output_type": "stream",
     "text": [
      "Best model R²: -0.0580242682072118\n"
     ]
    }
   ],
   "source": [
    "best_r2 = pd.read_csv('../models/best_model_results.csv').loc[0, 'R²']\n",
    "\n",
    "with open('../models/best_model.pkl', 'rb') as f:\n",
    "    model = pickle.load(f)\n",
    "    print(f'Best model R²: {best_r2}')\n"
   ]
  },
  {
   "cell_type": "code",
   "execution_count": 34,
   "metadata": {},
   "outputs": [
    {
     "data": {
      "application/vnd.microsoft.datawrangler.viewer.v0+json": {
       "columns": [
        {
         "name": "index",
         "rawType": "int64",
         "type": "integer"
        },
        {
         "name": "Ticker",
         "rawType": "object",
         "type": "string"
        },
        {
         "name": "Name",
         "rawType": "object",
         "type": "string"
        },
        {
         "name": "mean (%)",
         "rawType": "float64",
         "type": "float"
        },
        {
         "name": "3m (%)",
         "rawType": "float64",
         "type": "float"
        },
        {
         "name": "6m (%)",
         "rawType": "float64",
         "type": "float"
        },
        {
         "name": "9m (%)",
         "rawType": "float64",
         "type": "float"
        },
        {
         "name": "1y (%)",
         "rawType": "float64",
         "type": "float"
        }
       ],
       "ref": "dd6f5d11-7a7d-4cb2-a381-f7a2f7812d90",
       "rows": [
        [
         "0",
         "RNMBY",
         "Rheinmetall AG",
         "2.1616709322662633",
         "3.7927081982430533",
         "-1.8522074647227926",
         "1.1727493596461844",
         "5.533433635898608"
        ],
        [
         "1",
         "SAABF",
         "Saab AB",
         "1.839875449405921",
         "3.462243350831854",
         "-1.9482318678676742",
         "0.4454669108989555",
         "5.400023403760549"
        ],
        [
         "2",
         "NSKFF",
         "Kongsberg Gruppen ASA",
         "1.9041012953225138",
         "3.5304707154051886",
         "-1.9278035966711644",
         "0.5837073571212236",
         "5.430030705434808"
        ],
        [
         "3",
         "GMAB",
         "Genmab A/S",
         "1.0100991284533662",
         "2.882265025831221",
         "-1.9001629812655587",
         "-1.3935674589482965",
         "4.451861928196099"
        ],
        [
         "4",
         "NVDA",
         "NVIDIA Corporation",
         "3.756684738390106",
         "4.259289882101092",
         "-2.6609011095881825",
         "9.859956165877087",
         "3.568394015170426"
        ],
        [
         "5",
         "LLY",
         "Eli Lilly and Company",
         "1.9852880241177675",
         "3.6088950569931484",
         "-1.9079215339818631",
         "0.77334840983342",
         "5.466830163626364"
        ],
        [
         "6",
         "TER",
         "Teradyne, Inc.",
         "1.0329043559531161",
         "2.8965457714554472",
         "-1.9041797886764005",
         "-1.3501718884386302",
         "4.489423329472047"
        ],
        [
         "7",
         "NFLX",
         "Netflix, Inc.",
         "-2.17884856409518",
         "1.411958454644507",
         "-2.6202891016697607",
         "-6.79062637498373",
         "-0.7164372343717362"
        ],
        [
         "8",
         "EQNR",
         "Equinor ASA",
         "1.5008288787867103",
         "3.298122589449458",
         "-1.8183958588297626",
         "-0.46288927197927765",
         "4.9864780565064235"
        ],
        [
         "9",
         "TSLA",
         "Tesla, Inc.",
         "2.128381954700265",
         "3.78281056222185",
         "-1.8462686127216386",
         "1.056762440575095",
         "5.520223428725754"
        ],
        [
         "10",
         "JD",
         "JD.com, Inc.",
         "-1.6437497401327308",
         "1.9490531029805274",
         "-1.9895742928164935",
         "-6.2204471556644885",
         "-0.3140306150304688"
        ],
        [
         "11",
         "PDD",
         "PDD Holdings Inc.",
         "0.7028847317224212",
         "2.7362770270375445",
         "-1.826026916838455",
         "-2.0947117092482905",
         "3.9960005259388858"
        ],
        [
         "12",
         "BIDU",
         "Baidu, Inc.",
         "1.164925976103102",
         "3.0627953366285086",
         "-1.8424285257508992",
         "-1.2195749227644574",
         "4.658912016299256"
        ],
        [
         "13",
         "NTES",
         "NetEase, Inc.",
         "3.27258905885227",
         "5.058483717856434",
         "-1.6213524149383338",
         "4.7832815753098465",
         "4.869943357181135"
        ],
        [
         "14",
         "IQ",
         "iQIYI, Inc.",
         "-2.448366753185059",
         "0.6118102376435407",
         "-3.764691069343123",
         "-6.261584316085819",
         "-0.3790018649548338"
        ],
        [
         "15",
         "UBER",
         "Uber Technologies, Inc.",
         "2.2324937597896257",
         "3.8882663717564223",
         "-1.8176494676563828",
         "1.313704594745825",
         "5.545653540312639"
        ],
        [
         "16",
         "COLO-B.CO",
         "Coloplast B A/S",
         "-1.9494805743887504",
         "1.7334656978694047",
         "-2.258762233253292",
         "-6.584579853848566",
         "-0.6880459083225481"
        ],
        [
         "17",
         "A",
         "Agilent Technologies, Inc.",
         "-0.35435858024838807",
         "2.2805961738543203",
         "-1.7060731382051226",
         "-3.9731732026973865",
         "1.9812158460546365"
        ],
        [
         "18",
         "AA",
         "Alcoa Corporation",
         "1.4298312568286693",
         "3.1152561469794846",
         "-1.9621287303610286",
         "-0.4809641277221881",
         "5.04716173841841"
        ],
        [
         "19",
         "AAT",
         "American Assets Trust, Inc.",
         "-2.1835569551569627",
         "1.5859808567274467",
         "-2.4649416998762073",
         "-6.892630903826919",
         "-0.9626360736521715"
        ],
        [
         "20",
         "AB",
         "AllianceBernstein Holding L.P.",
         "-7.665163807072026",
         "-2.875436269141096",
         "-8.594217772777315",
         "-11.973859135792997",
         "-7.217142050576698"
        ],
        [
         "21",
         "ABBV",
         "AbbVie Inc.",
         "1.2457267045339628",
         "3.0102298824577702",
         "-1.947587923108746",
         "-0.8703213472618619",
         "4.7905862060486895"
        ],
        [
         "22",
         "ABM",
         "ABM Industries Incorporated",
         "-1.0383069719920277",
         "2.060093338654459",
         "-1.8379435062006761",
         "-5.133749185117386",
         "0.7583714646954923"
        ],
        [
         "23",
         "ABR",
         "Arbor Realty Trust",
         "-1.8426106858134301",
         "1.7138834427435683",
         "-2.246222627453353",
         "-6.407919793760583",
         "-0.4301837647833526"
        ],
        [
         "24",
         "ABT",
         "Abbott Laboratories",
         "1.1385470494342316",
         "2.951836086769524",
         "-1.927645400996338",
         "-1.1007643697418739",
         "4.630761881705614"
        ],
        [
         "25",
         "ACI",
         "Albertsons Companies, Inc.",
         "-1.7715579498168148",
         "1.6381535018445712",
         "-2.3161745595411314",
         "-6.2220642312154455",
         "-0.18614651035525343"
        ],
        [
         "26",
         "ACM",
         "AECOM",
         "1.2937755771921085",
         "3.037588792723257",
         "-1.949463899908382",
         "-0.7735533149562817",
         "4.860530730909841"
        ],
        [
         "27",
         "ACN",
         "Accenture plc",
         "0.5698418463566187",
         "2.6278555752776627",
         "-1.8190021966736074",
         "-2.2079777554300315",
         "3.678491762252451"
        ],
        [
         "28",
         "ACRE",
         "Ares Commercial Real Estate Cor",
         "-8.03989181117681",
         "-3.2030030851770745",
         "-9.0004646946717",
         "-12.316905208578568",
         "-7.639194256279899"
        ],
        [
         "29",
         "ACT",
         "Enact Holdings, Inc.",
         "1.808158284623096",
         "3.4348624495195814",
         "-1.9471072796988558",
         "0.3595057104557209",
         "5.385372258215936"
        ],
        [
         "30",
         "ADC",
         "Agree Realty Corporation",
         "-7.7634793983758055",
         "-2.9026247314743445",
         "-8.671789694414258",
         "-12.067819880994055",
         "-7.411683286620561"
        ],
        [
         "31",
         "ADM",
         "Archer-Daniels-Midland Company",
         "1.5778645316896198",
         "3.2161589890284046",
         "-1.9771393503269206",
         "-0.13374859052094415",
         "5.20618707857794"
        ],
        [
         "32",
         "ADT",
         "ADT Inc.",
         "1.1100067176491244",
         "2.9403061225410725",
         "-1.9201548213989446",
         "-1.1747672799212925",
         "4.594642849375662"
        ],
        [
         "33",
         "AEE",
         "Ameren Corporation",
         "1.2079787613791975",
         "2.99633133733926",
         "-1.9350052613202433",
         "-0.971474117897974",
         "4.742063087395747"
        ],
        [
         "34",
         "AEM",
         "Agnico Eagle Mines Limited",
         "1.4531756784289152",
         "3.1316788879225697",
         "-1.9619930989623966",
         "-0.43559739755272764",
         "5.078614322308215"
        ],
        [
         "35",
         "AEO",
         "American Eagle Outfitters, Inc.",
         "0.013084717287816395",
         "2.4071709557537035",
         "-1.7063211286695419",
         "-3.3203167547977093",
         "2.6718057968648132"
        ],
        [
         "36",
         "AEP",
         "American Electric Power Company",
         "0.2803478721427519",
         "2.5031555016265425",
         "-1.735099907964481",
         "-2.835989213329367",
         "3.189325108238313"
        ],
        [
         "37",
         "AER",
         "AerCap Holdings N.V.",
         "-1.184972031742848",
         "1.9724378997846965",
         "-1.934834106320487",
         "-5.351184417674174",
         "0.5736924972385723"
        ],
        [
         "38",
         "AES",
         "The AES Corporation",
         "1.2392740386589625",
         "3.023021821783843",
         "-1.9311019297943604",
         "-0.9527131713571314",
         "4.817889434003499"
        ],
        [
         "39",
         "AFG",
         "American Financial Group, Inc.",
         "1.401060221210842",
         "3.1043418144580173",
         "-1.953777203851599",
         "-0.5625636634365174",
         "5.016239937673467"
        ],
        [
         "40",
         "AG",
         "First Majestic Silver Corp.",
         "1.1059932140351207",
         "2.93730760633941",
         "-1.918525102802282",
         "-1.1820712760261094",
         "4.587261628629465"
        ],
        [
         "41",
         "AGCO",
         "AGCO Corporation",
         "-2.1942898432486673",
         "1.5970881984495013",
         "-2.46063287425423",
         "-6.910246518114996",
         "-1.0033681790749447"
        ],
        [
         "42",
         "AGI",
         "Alamos Gold Inc.",
         "-0.651582557073019",
         "2.170620391254591",
         "-1.7043904544059056",
         "-4.5301750498765605",
         "1.4576148847357995"
        ],
        [
         "43",
         "AGM",
         "Federal Agricultural Mortgage C",
         "-2.677865205580656",
         "1.198641797666573",
         "-2.9403470152955475",
         "-7.529058014513606",
         "-1.4406975901800445"
        ],
        [
         "44",
         "AGM-A",
         "Federal Agricultural Mortgage C",
         "-2.8229397861398353",
         "1.101444022855579",
         "-3.077965003361475",
         "-7.705117117051932",
         "-1.6101210470015135"
        ],
        [
         "45",
         "AGO",
         "Assured Guaranty Ltd.",
         "1.6770311923447028",
         "3.3827150051390307",
         "-1.8909017760516906",
         "-0.021016992938888146",
         "5.237328533230358"
        ],
        [
         "46",
         "AGRO",
         "Adecoagro S.A.",
         "3.522068626333991",
         "4.812322975829622",
         "-2.0601864449702734",
         "6.944202923399518",
         "4.391935051077095"
        ],
        [
         "47",
         "AHH",
         "Armada Hoffler Properties, Inc.",
         "-2.979711527212727",
         "0.9761852926893313",
         "-3.235658598008664",
         "-7.874102394488419",
         "-1.7852704090431561"
        ],
        [
         "48",
         "AHT",
         "Ashford Hospitality Trust Inc",
         "0.3510530857593258",
         "2.529758662982166",
         "-1.7463472260621935",
         "-2.711214676542132",
         "3.332015582659463"
        ],
        [
         "49",
         "AHT-PD",
         "Ashford Hospitality Trust Inc 8",
         "0.6482884957309072",
         "2.6682758730540925",
         "-1.8258564870275773",
         "-2.0899514924420513",
         "3.8406860893391648"
        ]
       ],
       "shape": {
        "columns": 7,
        "rows": 1898
       }
      },
      "text/html": [
       "<div>\n",
       "<style scoped>\n",
       "    .dataframe tbody tr th:only-of-type {\n",
       "        vertical-align: middle;\n",
       "    }\n",
       "\n",
       "    .dataframe tbody tr th {\n",
       "        vertical-align: top;\n",
       "    }\n",
       "\n",
       "    .dataframe thead th {\n",
       "        text-align: right;\n",
       "    }\n",
       "</style>\n",
       "<table border=\"1\" class=\"dataframe\">\n",
       "  <thead>\n",
       "    <tr style=\"text-align: right;\">\n",
       "      <th></th>\n",
       "      <th>Ticker</th>\n",
       "      <th>Name</th>\n",
       "      <th>mean (%)</th>\n",
       "      <th>3m (%)</th>\n",
       "      <th>6m (%)</th>\n",
       "      <th>9m (%)</th>\n",
       "      <th>1y (%)</th>\n",
       "    </tr>\n",
       "  </thead>\n",
       "  <tbody>\n",
       "    <tr>\n",
       "      <th>0</th>\n",
       "      <td>RNMBY</td>\n",
       "      <td>Rheinmetall AG</td>\n",
       "      <td>2.161671</td>\n",
       "      <td>3.792708</td>\n",
       "      <td>-1.852207</td>\n",
       "      <td>1.172749</td>\n",
       "      <td>5.533434</td>\n",
       "    </tr>\n",
       "    <tr>\n",
       "      <th>1</th>\n",
       "      <td>SAABF</td>\n",
       "      <td>Saab AB</td>\n",
       "      <td>1.839875</td>\n",
       "      <td>3.462243</td>\n",
       "      <td>-1.948232</td>\n",
       "      <td>0.445467</td>\n",
       "      <td>5.400023</td>\n",
       "    </tr>\n",
       "    <tr>\n",
       "      <th>2</th>\n",
       "      <td>NSKFF</td>\n",
       "      <td>Kongsberg Gruppen ASA</td>\n",
       "      <td>1.904101</td>\n",
       "      <td>3.530471</td>\n",
       "      <td>-1.927804</td>\n",
       "      <td>0.583707</td>\n",
       "      <td>5.430031</td>\n",
       "    </tr>\n",
       "    <tr>\n",
       "      <th>3</th>\n",
       "      <td>GMAB</td>\n",
       "      <td>Genmab A/S</td>\n",
       "      <td>1.010099</td>\n",
       "      <td>2.882265</td>\n",
       "      <td>-1.900163</td>\n",
       "      <td>-1.393567</td>\n",
       "      <td>4.451862</td>\n",
       "    </tr>\n",
       "    <tr>\n",
       "      <th>4</th>\n",
       "      <td>NVDA</td>\n",
       "      <td>NVIDIA Corporation</td>\n",
       "      <td>3.756685</td>\n",
       "      <td>4.259290</td>\n",
       "      <td>-2.660901</td>\n",
       "      <td>9.859956</td>\n",
       "      <td>3.568394</td>\n",
       "    </tr>\n",
       "    <tr>\n",
       "      <th>...</th>\n",
       "      <td>...</td>\n",
       "      <td>...</td>\n",
       "      <td>...</td>\n",
       "      <td>...</td>\n",
       "      <td>...</td>\n",
       "      <td>...</td>\n",
       "      <td>...</td>\n",
       "    </tr>\n",
       "    <tr>\n",
       "      <th>1893</th>\n",
       "      <td>Z</td>\n",
       "      <td>Zillow Group, Inc.</td>\n",
       "      <td>-3.733532</td>\n",
       "      <td>0.468755</td>\n",
       "      <td>-3.954360</td>\n",
       "      <td>-8.716103</td>\n",
       "      <td>-2.732420</td>\n",
       "    </tr>\n",
       "    <tr>\n",
       "      <th>1894</th>\n",
       "      <td>ZBRA</td>\n",
       "      <td>Zebra Technologies Corporation</td>\n",
       "      <td>0.437863</td>\n",
       "      <td>2.571196</td>\n",
       "      <td>-1.773801</td>\n",
       "      <td>-2.502683</td>\n",
       "      <td>3.456741</td>\n",
       "    </tr>\n",
       "    <tr>\n",
       "      <th>1895</th>\n",
       "      <td>ZEUS</td>\n",
       "      <td>Olympic Steel, Inc.</td>\n",
       "      <td>-0.350593</td>\n",
       "      <td>2.281421</td>\n",
       "      <td>-1.679725</td>\n",
       "      <td>-4.010454</td>\n",
       "      <td>2.006387</td>\n",
       "    </tr>\n",
       "    <tr>\n",
       "      <th>1896</th>\n",
       "      <td>ZION</td>\n",
       "      <td>Zions Bancorporation N.A.</td>\n",
       "      <td>-8.086994</td>\n",
       "      <td>-3.250876</td>\n",
       "      <td>-9.060235</td>\n",
       "      <td>-12.377675</td>\n",
       "      <td>-7.659190</td>\n",
       "    </tr>\n",
       "    <tr>\n",
       "      <th>1897</th>\n",
       "      <td>ZUMZ</td>\n",
       "      <td>Zumiez Inc.</td>\n",
       "      <td>-8.119637</td>\n",
       "      <td>-3.281160</td>\n",
       "      <td>-9.094979</td>\n",
       "      <td>-12.449812</td>\n",
       "      <td>-7.652597</td>\n",
       "    </tr>\n",
       "  </tbody>\n",
       "</table>\n",
       "<p>1898 rows × 7 columns</p>\n",
       "</div>"
      ],
      "text/plain": [
       "     Ticker                            Name  mean (%)    3m (%)    6m (%)  \\\n",
       "0     RNMBY                  Rheinmetall AG  2.161671  3.792708 -1.852207   \n",
       "1     SAABF                         Saab AB  1.839875  3.462243 -1.948232   \n",
       "2     NSKFF           Kongsberg Gruppen ASA  1.904101  3.530471 -1.927804   \n",
       "3      GMAB                      Genmab A/S  1.010099  2.882265 -1.900163   \n",
       "4      NVDA              NVIDIA Corporation  3.756685  4.259290 -2.660901   \n",
       "...     ...                             ...       ...       ...       ...   \n",
       "1893      Z              Zillow Group, Inc. -3.733532  0.468755 -3.954360   \n",
       "1894   ZBRA  Zebra Technologies Corporation  0.437863  2.571196 -1.773801   \n",
       "1895   ZEUS             Olympic Steel, Inc. -0.350593  2.281421 -1.679725   \n",
       "1896   ZION       Zions Bancorporation N.A. -8.086994 -3.250876 -9.060235   \n",
       "1897   ZUMZ                     Zumiez Inc. -8.119637 -3.281160 -9.094979   \n",
       "\n",
       "         9m (%)    1y (%)  \n",
       "0      1.172749  5.533434  \n",
       "1      0.445467  5.400023  \n",
       "2      0.583707  5.430031  \n",
       "3     -1.393567  4.451862  \n",
       "4      9.859956  3.568394  \n",
       "...         ...       ...  \n",
       "1893  -8.716103 -2.732420  \n",
       "1894  -2.502683  3.456741  \n",
       "1895  -4.010454  2.006387  \n",
       "1896 -12.377675 -7.659190  \n",
       "1897 -12.449812 -7.652597  \n",
       "\n",
       "[1898 rows x 7 columns]"
      ]
     },
     "execution_count": 34,
     "metadata": {},
     "output_type": "execute_result"
    }
   ],
   "source": [
    "df_raw = pd.read_csv('../data/earnings_data.csv')\n",
    "\n",
    "results = []\n",
    "for i in range(len(X_pred)):\n",
    "    y_pred = model.predict(X_pred.iloc[[i]])[0]\n",
    "    y_pred_3m, y_pred_6m, y_pred_9m, y_pred_1y = y_pred\n",
    "    avg = (y_pred_3m + y_pred_6m + y_pred_9m + y_pred_1y) / 4\n",
    "    results.append({\n",
    "        'Ticker': df_raw.loc[i*4, 'Ticker'],\n",
    "        'Name': df_raw.loc[i*4, 'Name'],\n",
    "        'mean (%)': avg * 100,\n",
    "        '3m (%)': y_pred_3m * 100,\n",
    "        '6m (%)': y_pred_6m * 100,\n",
    "        '9m (%)': y_pred_9m * 100,\n",
    "        '1y (%)': y_pred_1y * 100\n",
    "    })\n",
    "\n",
    "results_df = pd.DataFrame(results)\n",
    "results_df"
   ]
  },
  {
   "cell_type": "code",
   "execution_count": 35,
   "metadata": {},
   "outputs": [],
   "source": [
    "def predict_ticker(ticker_str):\n",
    "    try:\n",
    "        ticker_str = str(ticker_str).upper()\n",
    "        ticker_str = ticker_str.replace(\"'\", \"\")\n",
    "        ticker_str = ticker_str.replace('\"', \"\")\n",
    "        row = results_df[results_df['Ticker'] == ticker_str]\n",
    "        if row.empty:\n",
    "            return (f\"Not enough data for this stock at this moment \\n Try another\", \"\", \"\", \"\", \"\")\n",
    "        row = row.iloc[0]\n",
    "        return (\n",
    "            f\"{row['3m (%)']:.2f}\",\n",
    "            f\"{row['6m (%)']:.2f}\",\n",
    "            f\"{row['9m (%)']:.2f}\",\n",
    "            f\"{row['1y (%)']:.2f}\",\n",
    "            f\"{row['mean (%)']:.2f}\",\n",
    "        )\n",
    "    except Exception as e:\n",
    "        return (f\"Error: {e}\", \"\", \"\", \"\", \"\")"
   ]
  },
  {
   "cell_type": "code",
   "execution_count": 36,
   "metadata": {
    "vscode": {
     "languageId": "javascript"
    }
   },
   "outputs": [
    {
     "name": "stdout",
     "output_type": "stream",
     "text": [
      "* Running on local URL:  http://127.0.0.1:7860\n",
      "* Running on public URL: https://0fd2fe1a43c579fca6.gradio.live\n",
      "\n",
      "This share link expires in 72 hours. For free permanent hosting and GPU upgrades, run `gradio deploy` from the terminal in the working directory to deploy to Hugging Face Spaces (https://huggingface.co/spaces)\n"
     ]
    },
    {
     "data": {
      "text/html": [
       "<div><iframe src=\"https://0fd2fe1a43c579fca6.gradio.live\" width=\"100%\" height=\"500\" allow=\"autoplay; camera; microphone; clipboard-read; clipboard-write;\" frameborder=\"0\" allowfullscreen></iframe></div>"
      ],
      "text/plain": [
       "<IPython.core.display.HTML object>"
      ]
     },
     "metadata": {},
     "output_type": "display_data"
    },
    {
     "data": {
      "text/plain": []
     },
     "execution_count": 36,
     "metadata": {},
     "output_type": "execute_result"
    }
   ],
   "source": [
    "iface = gr.Interface(\n",
    "    fn=predict_ticker,\n",
    "    inputs=gr.Textbox(label=\"Ticker e.g. 'TSLA' or 'NVDA'\"),\n",
    "    outputs=[\n",
    "        gr.Textbox(label=\"3 Month Change Prediction (%)\"),\n",
    "        gr.Textbox(label=\"6 Month Change Prediction (%)\"),\n",
    "        gr.Textbox(label=\"9 Month Change Prediction (%)\"),\n",
    "        gr.Textbox(label=\"1 Year Change Prediction (%)\"),\n",
    "        gr.Textbox(label=\"Mean Change Prediction (%)\"),\n",
    "    ],\n",
    "    title=\"Stock Price Prediction Model\",\n",
    "    description=\" \"\n",
    ")\n",
    "\n",
    "iface.launch(share=True)"
   ]
  }
 ],
 "metadata": {
  "kernelspec": {
   "display_name": "base",
   "language": "python",
   "name": "python3"
  },
  "language_info": {
   "codemirror_mode": {
    "name": "ipython",
    "version": 3
   },
   "file_extension": ".py",
   "mimetype": "text/x-python",
   "name": "python",
   "nbconvert_exporter": "python",
   "pygments_lexer": "ipython3",
   "version": "3.12.3"
  }
 },
 "nbformat": 4,
 "nbformat_minor": 2
}
