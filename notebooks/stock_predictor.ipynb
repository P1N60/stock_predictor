{
 "cells": [
  {
   "cell_type": "markdown",
   "metadata": {},
   "source": [
    "# Stock Prediction Model"
   ]
  },
  {
   "cell_type": "markdown",
   "metadata": {},
   "source": [
    "## Dependencies"
   ]
  },
  {
   "cell_type": "markdown",
   "metadata": {},
   "source": [
    "### Library Installation (if needed)"
   ]
  },
  {
   "cell_type": "code",
   "execution_count": 33,
   "metadata": {},
   "outputs": [],
   "source": [
    "#! pip install -Ur requirements.txt"
   ]
  },
  {
   "cell_type": "markdown",
   "metadata": {},
   "source": [
    "### Importing Required Libraries"
   ]
  },
  {
   "cell_type": "code",
   "execution_count": 34,
   "metadata": {},
   "outputs": [],
   "source": [
    "import matplotlib.pyplot as plt\n",
    "import yfinance as yf\n",
    "import pandas as pd\n",
    "import numpy as np\n",
    "import pickle\n",
    "import gradio as gr\n",
    "import ast\n",
    "import warnings\n",
    "from datetime import datetime\n",
    "from tqdm import tqdm\n",
    "from sklearn.impute import SimpleImputer\n",
    "from sklearn.neural_network import MLPRegressor\n",
    "from sklearn.metrics import r2_score, mean_squared_error, mean_absolute_error\n",
    "from sklearn.preprocessing import LabelEncoder, StandardScaler\n",
    "from sklearn.model_selection import train_test_split, GridSearchCV"
   ]
  },
  {
   "cell_type": "markdown",
   "metadata": {},
   "source": [
    "### Variables"
   ]
  },
  {
   "cell_type": "code",
   "execution_count": 35,
   "metadata": {},
   "outputs": [],
   "source": [
    "warnings.filterwarnings(\"ignore\", category=FutureWarning)\n",
    "symbol_list = input(\"Symbols: ('simple', 'filtered' or 'all')\") # 'simple' or 'all'. simple are the tickers from the screener notebook and all are all of the tickers in 'filtered_tickers'. You may also an 'Int' to get a % amount of random tickers from 'all'\n",
    "if symbol_list:\n",
    "    build_new_dataset = True\n",
    "else:\n",
    "    build_new_dataset = False\n",
    "    symbol_list = 'filtered'\n",
    "minimum_feature_threshold = 0.6\n",
    "hidden_layers = ast.literal_eval(f\"({input('Hidden Layers: eg. \"100, 100\"')})\")\n",
    "if hidden_layers:\n",
    "    train_new_model = True\n",
    "    verticle_jobs = 1 #'-1' for max\n",
    "if build_new_dataset or train_new_model:\n",
    "    debugging = {'True': True, 'False': False}.get(input('Debug? (Bool)'))\n",
    "else:\n",
    "    debugging = False"
   ]
  },
  {
   "cell_type": "markdown",
   "metadata": {},
   "source": [
    "## Data Preparation"
   ]
  },
  {
   "cell_type": "code",
   "execution_count": 36,
   "metadata": {},
   "outputs": [
    {
     "data": {
      "text/plain": [
       "array(['MATAS.CO', 'TRIFOR.CO', 'RNMBY', ..., 'ZION', 'CCJ', 'JBL'],\n",
       "      dtype=object)"
      ]
     },
     "execution_count": 36,
     "metadata": {},
     "output_type": "execute_result"
    }
   ],
   "source": [
    "symbols = pd.read_csv('../data/simple_tickers.csv')['Ticker'].tolist()\n",
    "if symbol_list == 'filtered':\n",
    "    symbols = symbols + pd.read_csv('../data/filtered_tickers.csv')['Ticker'].tolist()\n",
    "elif symbol_list == 'all':\n",
    "    symbols = symbols + pd.read_csv('../data/tickers.csv')['Ticker'].tolist()\n",
    "elif symbol_list.isdigit():\n",
    "    all_symbols = pd.read_csv('../data/tickers.csv')['Ticker'].tolist()\n",
    "    num_symbols = max(1, round(len(all_symbols) * (int(symbol_list) / 100)))  \n",
    "    symbols = symbols + pd.read_csv(\"../data/filtered_tickers.csv\")[\"Ticker\"].tolist()\n",
    "    symbols = symbols + np.random.choice(all_symbols, num_symbols, replace=False).tolist()\n",
    "\n",
    "symbols = pd.Series(symbols).unique()\n",
    "symbols"
   ]
  },
  {
   "cell_type": "markdown",
   "metadata": {},
   "source": [
    "#### Download annual financial data"
   ]
  },
  {
   "cell_type": "code",
   "execution_count": 37,
   "metadata": {},
   "outputs": [],
   "source": [
    "if build_new_dataset:\n",
    "    df = pd.DataFrame()\n",
    "    filtered_pd = pd.read_csv('../data/filtered_tickers.csv')\n",
    "    for symbol in tqdm(symbols, smoothing=0):\n",
    "        ticker_df = pd.DataFrame()\n",
    "        ticker = yf.Ticker(symbol)\n",
    "        try:\n",
    "            # Latest earning data\n",
    "            latest_earning_date = ticker.quarterly_cash_flow.columns.tolist()[0]\n",
    "            latest_data = {'Ticker': symbol, 'Name': ticker.info[\"shortName\"], 'Date': latest_earning_date}\n",
    "            latest_data['3M Future Change'] = np.nan\n",
    "            latest_data['6M Future Change'] = np.nan\n",
    "            latest_data['9M Future Change'] = np.nan\n",
    "            latest_data['1Y Future Change'] = np.nan\n",
    "            try:\n",
    "                latest_data['Sector'] = ticker.info['sector']\n",
    "            except:\n",
    "                latest_data['Sector'] = 'Unknown'\n",
    "            try:\n",
    "                latest_data['Industry'] = ticker.info['industry']\n",
    "            except:\n",
    "                latest_data['Industry'] = 'Unknown'\n",
    "            for column in ticker.quarterly_cash_flow[latest_earning_date].keys().tolist():\n",
    "                latest_data[column] = ticker.quarterly_cash_flow[latest_earning_date][column]\n",
    "            for column in ticker.quarterly_balance_sheet[latest_earning_date].keys().tolist():\n",
    "                latest_data[column] = ticker.quarterly_balance_sheet[latest_earning_date][column]\n",
    "            for column in ticker.quarterly_income_stmt[latest_earning_date].keys().tolist():\n",
    "                latest_data[column] = ticker.quarterly_income_stmt[latest_earning_date][column]\n",
    "            ticker_df = pd.concat([ticker_df, pd.DataFrame([latest_data])], ignore_index=True)\n",
    "\n",
    "            # Annual data\n",
    "            earning_dates = ticker.cash_flow.columns.tolist()\n",
    "            if len(earning_dates) == 5:\n",
    "                earning_dates.remove(earning_dates[4])\n",
    "            else:\n",
    "                if symbol in filtered_pd['Ticker'].tolist():\n",
    "                    filtered_pd = filtered_pd[filtered_pd['Ticker'] != symbol]\n",
    "                if debugging:\n",
    "                    print(f\"{symbol} had {len(earning_dates)} earning dates, not 5\")\n",
    "                continue\n",
    "            price_data = yf.download(symbol, period='5y', rounding=False, progress=False)\n",
    "            cash_flow = ticker.cash_flow\n",
    "            cash_flow_columns = cash_flow[earning_dates[0]].keys().tolist()\n",
    "            balance_sheet = ticker.balance_sheet\n",
    "            balance_sheet_columns = balance_sheet[earning_dates[0]].keys().tolist()\n",
    "            income_statement = ticker.income_stmt\n",
    "            income_statement_columns = income_statement[earning_dates[0]].keys().tolist()\n",
    "            for earning_date in earning_dates:\n",
    "                earning_date_data = {'Ticker': symbol, 'Name': ticker.info[\"shortName\"], 'Date': earning_date}\n",
    "                got_price = False\n",
    "                day_offset = 0\n",
    "                while(got_price==False and day_offset > -6):\n",
    "                    try:           \n",
    "                        earning_date_data['3M Future Change'] = (\n",
    "                            float(price_data.loc[earning_date + pd.Timedelta(days=day_offset, weeks=13) , ('Close', symbol)]) / \n",
    "                            float(price_data.loc[earning_date + pd.Timedelta(days=day_offset), ('Close', symbol)]) - 1\n",
    "                        )\n",
    "                        earning_date_data['6M Future Change'] = (\n",
    "                            float(price_data.loc[earning_date + pd.Timedelta(days=day_offset, weeks=26) , ('Close', symbol)]) / \n",
    "                            float(price_data.loc[earning_date + pd.Timedelta(days=day_offset), ('Close', symbol)]) - 1\n",
    "                        )\n",
    "                        earning_date_data['9M Future Change'] = (\n",
    "                            float(price_data.loc[earning_date + pd.Timedelta(days=day_offset, weeks=39) , ('Close', symbol)]) / \n",
    "                            float(price_data.loc[earning_date + pd.Timedelta(days=day_offset), ('Close', symbol)]) - 1\n",
    "                        )\n",
    "                        earning_date_data['1Y Future Change'] = (\n",
    "                            float(price_data.loc[earning_date + pd.Timedelta(days=day_offset, weeks=52) , ('Close', symbol)]) / \n",
    "                            float(price_data.loc[earning_date + pd.Timedelta(days=day_offset), ('Close', symbol)]) - 1\n",
    "                        )\n",
    "                        got_price = True\n",
    "                    except:\n",
    "                        day_offset += -1\n",
    "                try:\n",
    "                    earning_date_data['Sector'] = ticker.info['sector']\n",
    "                except:\n",
    "                    earning_date_data['Sector'] = 'Unknown'\n",
    "                try:\n",
    "                    earning_date_data['Industry'] = ticker.info['industry']\n",
    "                except:\n",
    "                    earning_date_data['Industry'] = 'Unknown'\n",
    "                for column in cash_flow_columns:\n",
    "                    earning_date_data[column] = cash_flow[earning_date][column]\n",
    "                for column in balance_sheet_columns:\n",
    "                    earning_date_data[column] = balance_sheet[earning_date][column]\n",
    "                for column in income_statement_columns:\n",
    "                    earning_date_data[column] = income_statement[earning_date][column]\n",
    "                if got_price:\n",
    "                    ticker_df = pd.concat([ticker_df, pd.DataFrame([earning_date_data])], ignore_index=True)\n",
    "            \n",
    "            if len(ticker_df) != 4:\n",
    "                if symbol in filtered_pd['Ticker'].tolist():\n",
    "                    filtered_pd = filtered_pd[filtered_pd['Ticker'] != symbol]\n",
    "                    if debugging:\n",
    "                        print(f'Removed {symbol} from filtered tickers because the length of the df was not 4, it was {len(ticker_df)}')\n",
    "                else:\n",
    "                    if debugging:\n",
    "                        print(f'{symbol}: df was not 4, it was {len(ticker_df)}')\n",
    "                continue\n",
    "\n",
    "            if ticker_df.isna().sum().sum() < round(352 * minimum_feature_threshold):\n",
    "                if symbol not in filtered_pd['Ticker'].tolist():\n",
    "                    filtered_pd = pd.concat([filtered_pd, pd.DataFrame([{'Ticker': symbol}])])\n",
    "                imputer = SimpleImputer()\n",
    "                for column in ticker_df.columns.drop(['Ticker', 'Name', 'Date', '3M Future Change', '6M Future Change', '9M Future Change', '1Y Future Change', 'Sector', 'Industry']):\n",
    "                    if not ticker_df[column].isna().all():\n",
    "                        ticker_df[column] = imputer.fit_transform(ticker_df[[column]])\n",
    "            else:\n",
    "                if symbol in filtered_pd['Ticker'].tolist():\n",
    "                    filtered_pd = filtered_pd[filtered_pd['Ticker'] != symbol]\n",
    "                    if debugging:\n",
    "                        print(f'Removed {symbol} from filtered tickers. Datapoints: {ticker_df.isna().sum().sum()}, Needed: {round(352 * minimum_feature_threshold)}')\n",
    "                continue\n",
    "            df = pd.concat([df, ticker_df], ignore_index=True)\n",
    "        except Exception as error:\n",
    "            if symbol in filtered_pd['Ticker'].tolist():\n",
    "                filtered_pd = filtered_pd[filtered_pd['Ticker'] != symbol]\n",
    "                if debugging:\n",
    "                    print(f'Removed {symbol} from filtered tickers because an exception was raised \\n {error}')\n",
    "            else:\n",
    "                if debugging:\n",
    "                    print(f\"{symbol}: exception raised: {error}\")\n",
    "            continue\n",
    "    filtered_pd.to_csv('../data/filtered_tickers.csv', index=False)\n",
    "    df.to_csv('../data/earnings_data.csv', index=False)\n",
    "else:\n",
    "    df = pd.read_csv('../data/earnings_data.csv')"
   ]
  },
  {
   "cell_type": "markdown",
   "metadata": {},
   "source": [
    "### Short visualisation"
   ]
  },
  {
   "cell_type": "code",
   "execution_count": 38,
   "metadata": {},
   "outputs": [],
   "source": [
    "if debugging:\n",
    "    display(df)"
   ]
  },
  {
   "cell_type": "markdown",
   "metadata": {},
   "source": [
    "### Impution and encoding"
   ]
  },
  {
   "cell_type": "code",
   "execution_count": 39,
   "metadata": {},
   "outputs": [],
   "source": [
    "imputer = SimpleImputer()\n",
    "scaler = StandardScaler()\n",
    "for column in df.columns.drop(['Ticker', 'Name', 'Date', '3M Future Change', '6M Future Change', '9M Future Change', '1Y Future Change', 'Sector', 'Industry']):\n",
    "    df[column] = imputer.fit_transform(df[[column]])\n",
    "    scaler.fit(df[[column]])\n",
    "    df[column] = scaler.transform(df[[column]])\n",
    "\n",
    "le = LabelEncoder()\n",
    "for column in ['Sector', 'Industry']:\n",
    "    df[column] = df[column].astype(str)\n",
    "    le.fit(df[column])\n",
    "    df[column] = le.transform(df[column])"
   ]
  },
  {
   "cell_type": "markdown",
   "metadata": {},
   "source": [
    "### Splitting"
   ]
  },
  {
   "cell_type": "code",
   "execution_count": 40,
   "metadata": {},
   "outputs": [],
   "source": [
    "pred_data = pd.DataFrame()\n",
    "test_data = pd.DataFrame()\n",
    "train_data = pd.DataFrame()\n",
    "for i in range(int(len(df) / 4)):\n",
    "    pred_data = pd.concat([pred_data, df.iloc[[i*4]]]) \n",
    "    test_data = pd.concat([test_data, df.iloc[[1+i*4]]])\n",
    "    train_data = pd.concat([train_data, df.iloc[[2+i*4]]])\n",
    "    train_data = pd.concat([train_data, df.iloc[[3+i*4]]])\n",
    "if debugging:\n",
    "    print('Prediction Data:')\n",
    "    display(pred_data)\n",
    "    print(\"Test Data:\")\n",
    "    display(test_data)\n",
    "    print('Training Data:')\n",
    "    display(train_data)"
   ]
  },
  {
   "cell_type": "markdown",
   "metadata": {},
   "source": [
    "### Labeling"
   ]
  },
  {
   "cell_type": "code",
   "execution_count": 41,
   "metadata": {},
   "outputs": [],
   "source": [
    "training_columns = train_data.columns.drop([\"Ticker\", \"Name\", \"Sector\", \"Industry\", \"Date\", '3M Future Change', '6M Future Change', '9M Future Change', '1Y Future Change'])\n",
    "label_columns = ['3M Future Change', '6M Future Change', '9M Future Change', '1Y Future Change']\n",
    "X_pred = pred_data[training_columns]\n",
    "X_test = test_data[training_columns]\n",
    "y_test = test_data[label_columns]\n",
    "X_train = train_data[training_columns]\n",
    "y_train = train_data[label_columns]\n",
    "if debugging:\n",
    "    print(\"X_pred:\")\n",
    "    display(X_pred)\n",
    "    print(\"X_test:\")\n",
    "    display(X_test)\n",
    "    print(\"y_test:\")\n",
    "    display(y_test)\n",
    "    print(\"X_train:\")\n",
    "    display(X_train)\n",
    "    print(\"y_train:\")\n",
    "    display(y_train)"
   ]
  },
  {
   "cell_type": "markdown",
   "metadata": {},
   "source": [
    "## Model Training"
   ]
  },
  {
   "cell_type": "code",
   "execution_count": 42,
   "metadata": {},
   "outputs": [
    {
     "name": "stdout",
     "output_type": "stream",
     "text": [
      "iter_no_change: 13\n",
      "Iteration 1, loss = 0.06278530\n",
      "Validation score: -0.064252\n",
      "Iteration 2, loss = 0.06135928\n",
      "Validation score: -0.020863\n",
      "Iteration 3, loss = 0.06074620\n",
      "Validation score: -0.003342\n",
      "Iteration 4, loss = 0.06048396\n",
      "Validation score: -0.009148\n",
      "Iteration 5, loss = 0.06008155\n",
      "Validation score: -0.004132\n",
      "Iteration 6, loss = 0.05982009\n",
      "Validation score: -0.000486\n",
      "Iteration 7, loss = 0.05977886\n",
      "Validation score: -0.003644\n",
      "Iteration 8, loss = 0.05964412\n",
      "Validation score: -0.003837\n",
      "Iteration 9, loss = 0.05932743\n",
      "Validation score: -0.002725\n",
      "Iteration 10, loss = 0.05933582\n",
      "Validation score: -0.008692\n",
      "Iteration 11, loss = 0.05910312\n",
      "Validation score: -0.013624\n",
      "Iteration 12, loss = 0.05931013\n",
      "Validation score: -0.002443\n",
      "Iteration 13, loss = 0.05906458\n",
      "Validation score: -0.003588\n",
      "Iteration 14, loss = 0.05924639\n",
      "Validation score: -0.009769\n",
      "Iteration 15, loss = 0.05893721\n",
      "Validation score: -0.004640\n",
      "Iteration 16, loss = 0.05885317\n",
      "Validation score: -0.006354\n",
      "Iteration 17, loss = 0.05882415\n",
      "Validation score: -0.005186\n",
      "Iteration 18, loss = 0.05881582\n",
      "Validation score: -0.005018\n",
      "Iteration 19, loss = 0.05876587\n",
      "Validation score: -0.013562\n",
      "Iteration 20, loss = 0.05902870\n",
      "Validation score: -0.005221\n",
      "Validation score did not improve more than tol=0.000010 for 13 consecutive epochs. Stopping.\n"
     ]
    }
   ],
   "source": [
    "if train_new_model:\n",
    "    model = MLPRegressor(\n",
    "        hidden_layer_sizes=hidden_layers,\n",
    "        learning_rate=\"adaptive\",\n",
    "        early_stopping=True,\n",
    "        verbose=True,\n",
    "        tol=0.00001,\n",
    "        n_iter_no_change=round(40000/hidden_layers[0]*4/len(hidden_layers))\n",
    "    )\n",
    "    print(f\"iter_no_change: {model.n_iter_no_change}\")\n",
    "    model.fit(X_train, y_train)"
   ]
  },
  {
   "cell_type": "markdown",
   "metadata": {},
   "source": [
    "## Testing and benchmarking"
   ]
  },
  {
   "cell_type": "code",
   "execution_count": 43,
   "metadata": {},
   "outputs": [
    {
     "data": {
      "image/png": "[encoded data removed]",
      "text/plain": [
       "<Figure size 1100x600 with 1 Axes>"
      ]
     },
     "metadata": {},
     "output_type": "display_data"
    },
    {
     "name": "stdout",
     "output_type": "stream",
     "text": [
      "3M Future Change - R²: -0.0043\n",
      "3M Future Change - MSE: 0.0430\n",
      "3M Future Change - MAE: 0.1438\n"
     ]
    },
    {
     "data": {
      "image/png": "[encoded data removed]",
      "text/plain": [
       "<Figure size 1100x600 with 1 Axes>"
      ]
     },
     "metadata": {},
     "output_type": "display_data"
    },
    {
     "name": "stdout",
     "output_type": "stream",
     "text": [
      "6M Future Change - R²: -0.0071\n",
      "6M Future Change - MSE: 0.0830\n",
      "6M Future Change - MAE: 0.1968\n"
     ]
    },
    {
     "data": {
      "image/png": "[encoded data removed]",
      "text/plain": [
       "<Figure size 1100x600 with 1 Axes>"
      ]
     },
     "metadata": {},
     "output_type": "display_data"
    },
    {
     "name": "stdout",
     "output_type": "stream",
     "text": [
      "9M Future Change - R²: -0.1213\n",
      "9M Future Change - MSE: 0.1655\n",
      "9M Future Change - MAE: 0.2741\n"
     ]
    },
    {
     "data": {
      "image/png": "[encoded data removed]",
      "text/plain": [
       "<Figure size 1100x600 with 1 Axes>"
      ]
     },
     "metadata": {},
     "output_type": "display_data"
    },
    {
     "name": "stdout",
     "output_type": "stream",
     "text": [
      "1Y Future Change - R²: -0.0314\n",
      "1Y Future Change - MSE: 0.2666\n",
      "1Y Future Change - MAE: 0.3248\n",
      "\n",
      "Overall Scores:\n",
      "Mean - R²: -0.0410\n",
      "Mean - MSE: 0.1395\n",
      "Mean - MAE: 0.2349\n"
     ]
    }
   ],
   "source": [
    "if train_new_model:\n",
    "    y_test_pred = model.predict(X_test)\n",
    "\n",
    "    for i, target in enumerate(['3M Future Change', '6M Future Change', '9M Future Change', '1Y Future Change']):\n",
    "        y_test_actual = y_test[target]\n",
    "        y_test_pred_target = y_test_pred[:, i]\n",
    "\n",
    "        plt.figure(figsize=(11, 6))\n",
    "        plt.scatter(y_test_actual, y_test_pred_target, alpha=0.7, color='blue', label='Predictions')\n",
    "        plt.plot([y_test_actual.min(), y_test_actual.max()], [y_test_actual.min(), y_test_actual.max()], \n",
    "            color='red', linestyle='--', label='Perfect Fit')\n",
    "        plt.title(f'Predicted vs Actual Values ({target})')\n",
    "        plt.xlabel('Actual Values')\n",
    "        plt.ylabel('Predicted Values')\n",
    "        plt.legend()\n",
    "        plt.grid(True)\n",
    "        plt.show()\n",
    "\n",
    "        mae = mean_absolute_error(y_test_actual, y_test_pred_target)\n",
    "        mse = mean_squared_error(y_test_actual, y_test_pred_target)\n",
    "        r2 = r2_score(y_test_actual, y_test_pred_target)\n",
    "\n",
    "        print(f'{target} - R²: {r2:.4f}')\n",
    "        print(f'{target} - MSE: {mse:.4f}')\n",
    "        print(f'{target} - MAE: {mae:.4f}')\n",
    "\n",
    "    mae = mean_absolute_error(y_test, y_test_pred)\n",
    "    mse = mean_squared_error(y_test, y_test_pred)\n",
    "    r2 = r2_score(y_test, y_test_pred)\n",
    "\n",
    "    print('\\nOverall Scores:')\n",
    "    print(f'Mean - R²: {r2:.4f}')\n",
    "    print(f'Mean - MSE: {mse:.4f}')\n",
    "    print(f'Mean - MAE: {mae:.4f}')"
   ]
  },
  {
   "cell_type": "markdown",
   "metadata": {},
   "source": [
    "### Log test results"
   ]
  },
  {
   "cell_type": "code",
   "execution_count": 44,
   "metadata": {},
   "outputs": [],
   "source": [
    "if train_new_model:\n",
    "    test_results = pd.DataFrame({\n",
    "        'R²': r2,\n",
    "        'MSE': mse,\n",
    "        'MAE': mae,\n",
    "        'symbol_list': symbol_list,\n",
    "        'hidden_layer_sizes': [model.hidden_layer_sizes],\n",
    "        'max_iter': model.max_iter,\n",
    "        'n_iter_no_change': model.n_iter_no_change,\n",
    "        'learning_rate': model.learning_rate,\n",
    "        'learning_rate_init': model.learning_rate_init,\n",
    "        'batch_size': model.batch_size,\n",
    "        'tol': model.tol,\n",
    "        'alpha': model.alpha,\n",
    "        'shuffle': model.shuffle,\n",
    "    })\n",
    "    test_results.to_csv('../data/test_results.csv', mode='a', index=False)\n",
    "\n",
    "    # save model as new best if results are better than the current one\n",
    "    best_r2 = pd.read_csv('../models/best_model_results.csv').loc[0, 'R²']\n",
    "    if r2 > best_r2:\n",
    "        print(f'Old best R²: {best_r2}')\n",
    "        print(f'New best R²: {r2}')\n",
    "        print('Saving new best model...')\n",
    "        test_results.to_csv('../models/best_model_results.csv', mode='w', index=False)\n",
    "        with open('../models/best_model.pkl','wb') as f:\n",
    "            pickle.dump(model,f)\n",
    "        "
   ]
  },
  {
   "cell_type": "markdown",
   "metadata": {},
   "source": [
    "## Predictions on latest data"
   ]
  },
  {
   "cell_type": "code",
   "execution_count": 45,
   "metadata": {},
   "outputs": [
    {
     "name": "stdout",
     "output_type": "stream",
     "text": [
      "Best model R²: 0.0289336782535032\n"
     ]
    }
   ],
   "source": [
    "best_r2 = pd.read_csv('../models/best_model_results.csv').loc[0, 'R²']\n",
    "\n",
    "with open('../models/best_model.pkl', 'rb') as f:\n",
    "    model = pickle.load(f)\n",
    "    print(f'Best model R²: {best_r2}')\n"
   ]
  },
  {
   "cell_type": "code",
   "execution_count": 46,
   "metadata": {},
   "outputs": [
    {
     "data": {
      "application/vnd.microsoft.datawrangler.viewer.v0+json": {
       "columns": [
        {
         "name": "index",
         "rawType": "int64",
         "type": "integer"
        },
        {
         "name": "Ticker",
         "rawType": "object",
         "type": "string"
        },
        {
         "name": "Name",
         "rawType": "object",
         "type": "string"
        },
        {
         "name": "mean (%)",
         "rawType": "float64",
         "type": "float"
        },
        {
         "name": "3m (%)",
         "rawType": "float64",
         "type": "float"
        },
        {
         "name": "6m (%)",
         "rawType": "float64",
         "type": "float"
        },
        {
         "name": "9m (%)",
         "rawType": "float64",
         "type": "float"
        },
        {
         "name": "1y (%)",
         "rawType": "float64",
         "type": "float"
        }
       ],
       "ref": "75652c11-b6e6-4390-8238-d7afb9ce24e3",
       "rows": [
        [
         "0",
         "RNMBY",
         "Rheinmetall AG",
         "3.015726970616501",
         "2.6486810027519185",
         "-0.09372531662194192",
         "0.7424861915010775",
         "8.76546600483495"
        ],
        [
         "1",
         "SAABF",
         "Saab AB",
         "10.647617589049515",
         "6.919716340411658",
         "6.72822070724583",
         "9.573324212624684",
         "19.369209095915892"
        ],
        [
         "2",
         "NSKFF",
         "Kongsberg Gruppen ASA",
         "10.528074301458727",
         "6.808938374261761",
         "6.702207177066189",
         "9.350257723699604",
         "19.250893930807354"
        ],
        [
         "3",
         "GMAB",
         "Genmab A/S",
         "-1.5534541761571536",
         "-0.5643244860716157",
         "-4.873313595278801",
         "-3.8802314479418127",
         "3.104052824663616"
        ],
        [
         "4",
         "NVDA",
         "NVIDIA Corporation",
         "15.18608990730984",
         "10.808454361538281",
         "10.354168174105244",
         "10.281970487858365",
         "29.299766605737474"
        ],
        [
         "5",
         "LLY",
         "Eli Lilly and Company",
         "7.612514016794158",
         "5.644746540741828",
         "4.137288370589542",
         "6.527039151008937",
         "14.14098200483633"
        ],
        [
         "6",
         "TER",
         "Teradyne, Inc.",
         "2.314679360943128",
         "2.1328787252544923",
         "-0.45253918412022365",
         "-0.03019564721804223",
         "7.608573549856286"
        ],
        [
         "7",
         "NFLX",
         "Netflix, Inc.",
         "4.670644321606773",
         "3.4802664085451087",
         "2.3030860901130006",
         "2.940539769425642",
         "9.958685018343338"
        ],
        [
         "8",
         "EQNR",
         "Equinor ASA",
         "1.965620345804699",
         "2.913973645346749",
         "-2.0392255737311347",
         "-2.144654884588797",
         "9.132388196191979"
        ],
        [
         "9",
         "TSLA",
         "Tesla, Inc.",
         "6.658004494692015",
         "5.492194740546996",
         "2.1859659146675634",
         "4.644849277286489",
         "14.309008046267019"
        ],
        [
         "10",
         "JD",
         "JD.com, Inc.",
         "-3.167279293119695",
         "-1.727220649398692",
         "-7.116575879314696",
         "-5.207124272351082",
         "1.3818036285856896"
        ],
        [
         "11",
         "PDD",
         "PDD Holdings Inc.",
         "-0.4819083972067111",
         "0.3249507579221045",
         "-4.385478207858213",
         "-3.0827235150400845",
         "5.21561737614935"
        ],
        [
         "12",
         "BIDU",
         "Baidu, Inc.",
         "3.873350682758396",
         "3.8132626644664005",
         "-0.4968919575219326",
         "0.6287060952087189",
         "11.548325928880397"
        ],
        [
         "13",
         "NTES",
         "NetEase, Inc.",
         "4.934728328275398",
         "5.671083792940343",
         "0.9652312645457308",
         "-0.8534725721454225",
         "13.956070827760941"
        ],
        [
         "14",
         "IQ",
         "iQIYI, Inc.",
         "1.64883791712091",
         "3.6153306170813146",
         "-2.0974510442625416",
         "-3.712084987638367",
         "8.789557083303235"
        ],
        [
         "15",
         "UBER",
         "Uber Technologies, Inc.",
         "4.727531547026268",
         "4.1840898528910575",
         "0.48567136199257555",
         "2.272554810913786",
         "11.967810162307654"
        ],
        [
         "16",
         "COLO-B.CO",
         "Coloplast B A/S",
         "-3.730956840124534",
         "-2.1654481893226287",
         "-7.78129985015472",
         "-5.6587307009833365",
         "0.6816513799625507"
        ],
        [
         "17",
         "A",
         "Agilent Technologies, Inc.",
         "6.294782367788139",
         "4.5537471575461685",
         "3.635492252518547",
         "4.939050198836579",
         "12.05083986225126"
        ],
        [
         "18",
         "AA",
         "Alcoa Corporation",
         "8.67748976527677",
         "5.901415844064341",
         "5.38673519104284",
         "7.647440391589816",
         "15.774367634410078"
        ],
        [
         "19",
         "AAT",
         "American Assets Trust, Inc.",
         "-3.852610612285152",
         "-2.265378109122852",
         "-7.900977294365083",
         "-5.7618819406482915",
         "0.5177948949956183"
        ],
        [
         "20",
         "AB",
         "AllianceBernstein Holding L.P.",
         "2.4716389457991754",
         "1.9504581097153153",
         "0.6868175800789897",
         "0.20425866568290538",
         "7.04502142771949"
        ],
        [
         "21",
         "ABBV",
         "AbbVie Inc.",
         "7.5915215841776185",
         "5.25983112652152",
         "4.65952401057534",
         "6.489777211989983",
         "13.956953987623633"
        ],
        [
         "22",
         "ABM",
         "ABM Industries Incorporated",
         "2.169270410038554",
         "2.0126816183583256",
         "-0.45654155412095804",
         "-0.160016823967629",
         "7.280958399884477"
        ],
        [
         "23",
         "ABR",
         "Arbor Realty Trust",
         "-4.1785320720394505",
         "-2.526800595846148",
         "-8.331229692252307",
         "-6.021314738677052",
         "0.16521673861770309"
        ],
        [
         "24",
         "ABT",
         "Abbott Laboratories",
         "6.11286689631199",
         "4.533633504464215",
         "3.2783900934012324",
         "4.705094268813419",
         "11.934349718569091"
        ],
        [
         "25",
         "ACI",
         "Albertsons Companies, Inc.",
         "6.362763923043889",
         "4.484536327907442",
         "3.998214749102901",
         "5.0223706948547475",
         "11.945933920310466"
        ],
        [
         "26",
         "ACM",
         "AECOM",
         "7.20049425767832",
         "5.045495377618892",
         "4.470198060478305",
         "6.020188742693802",
         "13.266094849922283"
        ],
        [
         "27",
         "ACN",
         "Accenture plc",
         "6.715276612366383",
         "4.791964857918024",
         "4.1044778906495445",
         "5.466605125884874",
         "12.498058575013088"
        ],
        [
         "28",
         "ACRE",
         "Ares Commercial Real Estate Cor",
         "-5.07118336778004",
         "-3.3324298467717917",
         "-9.609433458060309",
         "-6.638560032497183",
         "-0.7043101337908746"
        ],
        [
         "29",
         "ACT",
         "Enact Holdings, Inc.",
         "1.1603236791344573",
         "1.3991400202118598",
         "-2.091470074349935",
         "-1.334710924554979",
         "6.6683356952308825"
        ],
        [
         "30",
         "ADC",
         "Agree Realty Corporation",
         "-4.931473502046532",
         "-3.199993812106297",
         "-9.402901903889905",
         "-6.555393809490118",
         "-0.56760448269981"
        ],
        [
         "31",
         "ADM",
         "Archer-Daniels-Midland Company",
         "8.052743213675017",
         "5.592855126068537",
         "4.84379849155391",
         "7.023958476045908",
         "14.750360761031711"
        ],
        [
         "32",
         "ADT",
         "ADT Inc.",
         "7.193377008655563",
         "5.188680141419597",
         "4.230884824396399",
         "6.094480272670539",
         "13.259462796135718"
        ],
        [
         "33",
         "AEE",
         "Ameren Corporation",
         "8.210615417275498",
         "5.669413878563136",
         "4.9569740304599605",
         "7.165208832613616",
         "15.050864927465286"
        ],
        [
         "34",
         "AEM",
         "Agnico Eagle Mines Limited",
         "9.066208339067545",
         "6.147356229562106",
         "5.5171234932441005",
         "8.073895166356982",
         "16.526458467106995"
        ],
        [
         "35",
         "AEO",
         "American Eagle Outfitters, Inc.",
         "5.90677975339645",
         "4.2197275523355735",
         "3.444951541720736",
         "4.5054950468681545",
         "11.456944872661337"
        ],
        [
         "36",
         "AEP",
         "American Electric Power Company",
         "2.194334853042048",
         "2.0206614836972268",
         "-0.4053432879627686",
         "-0.16765889598922748",
         "7.329680112422962"
        ],
        [
         "37",
         "AER",
         "AerCap Holdings N.V.",
         "0.882509597622996",
         "1.148499358865481",
         "-1.7427903846129904",
         "-1.594378725596114",
         "5.718708141835607"
        ],
        [
         "38",
         "AES",
         "The AES Corporation",
         "1.8740077324329922",
         "2.0139645279019405",
         "-1.9762721896885624",
         "-0.7526941420525733",
         "8.211032733571164"
        ],
        [
         "39",
         "AFG",
         "American Financial Group, Inc.",
         "0.18483413310903357",
         "0.6842378393448516",
         "-2.8823219029380587",
         "-2.315897166608453",
         "5.253317762637794"
        ],
        [
         "40",
         "AG",
         "First Majestic Silver Corp.",
         "4.119842250243575",
         "3.377154714738325",
         "1.1432744008479538",
         "2.178564039224875",
         "9.78037584616315"
        ],
        [
         "41",
         "AGCO",
         "AGCO Corporation",
         "-2.079190285027909",
         "-0.9430437401433442",
         "-5.467057009647817",
         "-4.325987439402133",
         "2.419327049081658"
        ],
        [
         "42",
         "AGI",
         "Alamos Gold Inc.",
         "2.580349991980201",
         "2.3770850763695788",
         "-0.6377400212112478",
         "0.21743810869207392",
         "8.3646168040704"
        ],
        [
         "43",
         "AGM",
         "Federal Agricultural Mortgage C",
         "-4.694304964411888",
         "-3.0236167978137276",
         "-8.969149974171055",
         "-6.365201159144597",
         "-0.41925192651817467"
        ],
        [
         "44",
         "AGM-A",
         "Federal Agricultural Mortgage C",
         "-4.756499570774262",
         "-3.0760006414602143",
         "-9.068917102585742",
         "-6.410086232289594",
         "-0.4709943067615019"
        ],
        [
         "45",
         "AGO",
         "Assured Guaranty Ltd.",
         "4.088304646385684",
         "3.8508498294416675",
         "-0.26217217533685344",
         "1.1922164225224545",
         "11.572324508915466"
        ],
        [
         "46",
         "AGRO",
         "Adecoagro S.A.",
         "1.3304547555033608",
         "2.711004251155872",
         "-2.62867922615547",
         "-2.964663424000301",
         "8.204157421013342"
        ],
        [
         "47",
         "AHH",
         "Armada Hoffler Properties, Inc.",
         "-5.78168818811794",
         "-4.119107399742063",
         "-10.53014093553777",
         "-7.087393728436507",
         "-1.3901106887554187"
        ],
        [
         "48",
         "AHT",
         "Ashford Hospitality Trust Inc",
         "-1.5792026597533082",
         "-0.6020316131719703",
         "-4.739613215846592",
         "-3.904689332511891",
         "2.9295235225172203"
        ],
        [
         "49",
         "AHT-PD",
         "Ashford Hospitality Trust Inc 8",
         "0.7428840809475721",
         "1.0494835875701616",
         "-1.986994378511488",
         "-1.7350264183619568",
         "5.644073533093572"
        ]
       ],
       "shape": {
        "columns": 7,
        "rows": 1896
       }
      },
      "text/html": [
       "<div>\n",
       "<style scoped>\n",
       "    .dataframe tbody tr th:only-of-type {\n",
       "        vertical-align: middle;\n",
       "    }\n",
       "\n",
       "    .dataframe tbody tr th {\n",
       "        vertical-align: top;\n",
       "    }\n",
       "\n",
       "    .dataframe thead th {\n",
       "        text-align: right;\n",
       "    }\n",
       "</style>\n",
       "<table border=\"1\" class=\"dataframe\">\n",
       "  <thead>\n",
       "    <tr style=\"text-align: right;\">\n",
       "      <th></th>\n",
       "      <th>Ticker</th>\n",
       "      <th>Name</th>\n",
       "      <th>mean (%)</th>\n",
       "      <th>3m (%)</th>\n",
       "      <th>6m (%)</th>\n",
       "      <th>9m (%)</th>\n",
       "      <th>1y (%)</th>\n",
       "    </tr>\n",
       "  </thead>\n",
       "  <tbody>\n",
       "    <tr>\n",
       "      <th>0</th>\n",
       "      <td>RNMBY</td>\n",
       "      <td>Rheinmetall AG</td>\n",
       "      <td>3.015727</td>\n",
       "      <td>2.648681</td>\n",
       "      <td>-0.093725</td>\n",
       "      <td>0.742486</td>\n",
       "      <td>8.765466</td>\n",
       "    </tr>\n",
       "    <tr>\n",
       "      <th>1</th>\n",
       "      <td>SAABF</td>\n",
       "      <td>Saab AB</td>\n",
       "      <td>10.647618</td>\n",
       "      <td>6.919716</td>\n",
       "      <td>6.728221</td>\n",
       "      <td>9.573324</td>\n",
       "      <td>19.369209</td>\n",
       "    </tr>\n",
       "    <tr>\n",
       "      <th>2</th>\n",
       "      <td>NSKFF</td>\n",
       "      <td>Kongsberg Gruppen ASA</td>\n",
       "      <td>10.528074</td>\n",
       "      <td>6.808938</td>\n",
       "      <td>6.702207</td>\n",
       "      <td>9.350258</td>\n",
       "      <td>19.250894</td>\n",
       "    </tr>\n",
       "    <tr>\n",
       "      <th>3</th>\n",
       "      <td>GMAB</td>\n",
       "      <td>Genmab A/S</td>\n",
       "      <td>-1.553454</td>\n",
       "      <td>-0.564324</td>\n",
       "      <td>-4.873314</td>\n",
       "      <td>-3.880231</td>\n",
       "      <td>3.104053</td>\n",
       "    </tr>\n",
       "    <tr>\n",
       "      <th>4</th>\n",
       "      <td>NVDA</td>\n",
       "      <td>NVIDIA Corporation</td>\n",
       "      <td>15.186090</td>\n",
       "      <td>10.808454</td>\n",
       "      <td>10.354168</td>\n",
       "      <td>10.281970</td>\n",
       "      <td>29.299767</td>\n",
       "    </tr>\n",
       "    <tr>\n",
       "      <th>...</th>\n",
       "      <td>...</td>\n",
       "      <td>...</td>\n",
       "      <td>...</td>\n",
       "      <td>...</td>\n",
       "      <td>...</td>\n",
       "      <td>...</td>\n",
       "      <td>...</td>\n",
       "    </tr>\n",
       "    <tr>\n",
       "      <th>1891</th>\n",
       "      <td>Z</td>\n",
       "      <td>Zillow Group, Inc.</td>\n",
       "      <td>-2.015332</td>\n",
       "      <td>-0.900094</td>\n",
       "      <td>-5.471143</td>\n",
       "      <td>-4.271451</td>\n",
       "      <td>2.581359</td>\n",
       "    </tr>\n",
       "    <tr>\n",
       "      <th>1892</th>\n",
       "      <td>ZBRA</td>\n",
       "      <td>Zebra Technologies Corporation</td>\n",
       "      <td>-1.915944</td>\n",
       "      <td>-0.883366</td>\n",
       "      <td>-4.919541</td>\n",
       "      <td>-4.234834</td>\n",
       "      <td>2.373965</td>\n",
       "    </tr>\n",
       "    <tr>\n",
       "      <th>1893</th>\n",
       "      <td>ZEUS</td>\n",
       "      <td>Olympic Steel, Inc.</td>\n",
       "      <td>-1.186006</td>\n",
       "      <td>-0.308606</td>\n",
       "      <td>-4.395808</td>\n",
       "      <td>-3.546415</td>\n",
       "      <td>3.506804</td>\n",
       "    </tr>\n",
       "    <tr>\n",
       "      <th>1894</th>\n",
       "      <td>ZION</td>\n",
       "      <td>Zions Bancorporation N.A.</td>\n",
       "      <td>-5.069085</td>\n",
       "      <td>-3.362689</td>\n",
       "      <td>-9.544099</td>\n",
       "      <td>-6.625019</td>\n",
       "      <td>-0.744532</td>\n",
       "    </tr>\n",
       "    <tr>\n",
       "      <th>1895</th>\n",
       "      <td>ZUMZ</td>\n",
       "      <td>Zumiez Inc.</td>\n",
       "      <td>1.356634</td>\n",
       "      <td>1.486895</td>\n",
       "      <td>-1.396668</td>\n",
       "      <td>-1.107832</td>\n",
       "      <td>6.444140</td>\n",
       "    </tr>\n",
       "  </tbody>\n",
       "</table>\n",
       "<p>1896 rows × 7 columns</p>\n",
       "</div>"
      ],
      "text/plain": [
       "     Ticker                            Name   mean (%)     3m (%)     6m (%)  \\\n",
       "0     RNMBY                  Rheinmetall AG   3.015727   2.648681  -0.093725   \n",
       "1     SAABF                         Saab AB  10.647618   6.919716   6.728221   \n",
       "2     NSKFF           Kongsberg Gruppen ASA  10.528074   6.808938   6.702207   \n",
       "3      GMAB                      Genmab A/S  -1.553454  -0.564324  -4.873314   \n",
       "4      NVDA              NVIDIA Corporation  15.186090  10.808454  10.354168   \n",
       "...     ...                             ...        ...        ...        ...   \n",
       "1891      Z              Zillow Group, Inc.  -2.015332  -0.900094  -5.471143   \n",
       "1892   ZBRA  Zebra Technologies Corporation  -1.915944  -0.883366  -4.919541   \n",
       "1893   ZEUS             Olympic Steel, Inc.  -1.186006  -0.308606  -4.395808   \n",
       "1894   ZION       Zions Bancorporation N.A.  -5.069085  -3.362689  -9.544099   \n",
       "1895   ZUMZ                     Zumiez Inc.   1.356634   1.486895  -1.396668   \n",
       "\n",
       "         9m (%)     1y (%)  \n",
       "0      0.742486   8.765466  \n",
       "1      9.573324  19.369209  \n",
       "2      9.350258  19.250894  \n",
       "3     -3.880231   3.104053  \n",
       "4     10.281970  29.299767  \n",
       "...         ...        ...  \n",
       "1891  -4.271451   2.581359  \n",
       "1892  -4.234834   2.373965  \n",
       "1893  -3.546415   3.506804  \n",
       "1894  -6.625019  -0.744532  \n",
       "1895  -1.107832   6.444140  \n",
       "\n",
       "[1896 rows x 7 columns]"
      ]
     },
     "execution_count": 46,
     "metadata": {},
     "output_type": "execute_result"
    }
   ],
   "source": [
    "df_raw = pd.read_csv('../data/earnings_data.csv')\n",
    "\n",
    "results = []\n",
    "for i in range(len(X_pred)):\n",
    "    y_pred = model.predict(X_pred.iloc[[i]])[0]\n",
    "    y_pred_3m, y_pred_6m, y_pred_9m, y_pred_1y = y_pred\n",
    "    avg = (y_pred_3m + y_pred_6m + y_pred_9m + y_pred_1y) / 4\n",
    "    results.append({\n",
    "        'Ticker': df_raw.loc[i*4, 'Ticker'],\n",
    "        'Name': df_raw.loc[i*4, 'Name'],\n",
    "        'mean (%)': avg * 100,\n",
    "        '3m (%)': y_pred_3m * 100,\n",
    "        '6m (%)': y_pred_6m * 100,\n",
    "        '9m (%)': y_pred_9m * 100,\n",
    "        '1y (%)': y_pred_1y * 100\n",
    "    })\n",
    "\n",
    "results_df = pd.DataFrame(results)\n",
    "results_df"
   ]
  },
  {
   "cell_type": "code",
   "execution_count": 47,
   "metadata": {},
   "outputs": [],
   "source": [
    "def predict_ticker(ticker_str):\n",
    "    try:\n",
    "        ticker_str = str(ticker_str).upper()\n",
    "        ticker_str = ticker_str.replace(\"'\", \"\")\n",
    "        ticker_str = ticker_str.replace('\"', \"\")\n",
    "        row = results_df[results_df['Ticker'] == ticker_str]\n",
    "        if row.empty:\n",
    "            return (f\"Not enough data for this stock at this moment \\n Try another\", \"\", \"\", \"\", \"\")\n",
    "        row = row.iloc[0]\n",
    "        return (\n",
    "            f\"{row['3m (%)']:.2f}\",\n",
    "            f\"{row['6m (%)']:.2f}\",\n",
    "            f\"{row['9m (%)']:.2f}\",\n",
    "            f\"{row['1y (%)']:.2f}\",\n",
    "            f\"{row['mean (%)']:.2f}\",\n",
    "        )\n",
    "    except Exception as e:\n",
    "        return (f\"Error: {e}\", \"\", \"\", \"\", \"\")"
   ]
  },
  {
   "cell_type": "code",
   "execution_count": 48,
   "metadata": {
    "vscode": {
     "languageId": "javascript"
    }
   },
   "outputs": [
    {
     "name": "stdout",
     "output_type": "stream",
     "text": [
      "* Running on local URL:  http://127.0.0.1:7862\n",
      "* Running on public URL: https://b67769919ff6377150.gradio.live\n",
      "\n",
      "This share link expires in 1 week. For free permanent hosting and GPU upgrades, run `gradio deploy` from the terminal in the working directory to deploy to Hugging Face Spaces (https://huggingface.co/spaces)\n"
     ]
    },
    {
     "data": {
      "text/html": [
       "<div><iframe src=\"https://b67769919ff6377150.gradio.live\" width=\"100%\" height=\"500\" allow=\"autoplay; camera; microphone; clipboard-read; clipboard-write;\" frameborder=\"0\" allowfullscreen></iframe></div>"
      ],
      "text/plain": [
       "<IPython.core.display.HTML object>"
      ]
     },
     "metadata": {},
     "output_type": "display_data"
    },
    {
     "data": {
      "text/plain": []
     },
     "execution_count": 48,
     "metadata": {},
     "output_type": "execute_result"
    }
   ],
   "source": [
    "iface = gr.Interface(\n",
    "    fn=predict_ticker,\n",
    "    inputs=gr.Textbox(label=\"Ticker e.g. 'TSLA' or 'NVDA'\"),\n",
    "    outputs=[\n",
    "        gr.Textbox(label=\"3 Month Change Prediction (%)\"),\n",
    "        gr.Textbox(label=\"6 Month Change Prediction (%)\"),\n",
    "        gr.Textbox(label=\"9 Month Change Prediction (%)\"),\n",
    "        gr.Textbox(label=\"1 Year Change Prediction (%)\"),\n",
    "        gr.Textbox(label=\"Mean Change Prediction (%)\"),\n",
    "    ],\n",
    "    title=\"Stock Price Prediction Model\",\n",
    "    description=\" \"\n",
    ")\n",
    "\n",
    "iface.launch(share=True)"
   ]
  }
 ],
 "metadata": {
  "kernelspec": {
   "display_name": "base",
   "language": "python",
   "name": "python3"
  },
  "language_info": {
   "codemirror_mode": {
    "name": "ipython",
    "version": 3
   },
   "file_extension": ".py",
   "mimetype": "text/x-python",
   "name": "python",
   "nbconvert_exporter": "python",
   "pygments_lexer": "ipython3",
   "version": "3.12.2"
  }
 },
 "nbformat": 4,
 "nbformat_minor": 2
}
