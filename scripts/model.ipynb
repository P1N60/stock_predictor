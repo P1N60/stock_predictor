{
 "cells": [
  {
   "cell_type": "markdown",
   "metadata": {},
   "source": [
    "# Stock Price Prediction Model"
   ]
  },
  {
   "cell_type": "markdown",
   "metadata": {},
   "source": [
    "## Dependencies"
   ]
  },
  {
   "cell_type": "markdown",
   "metadata": {},
   "source": [
    "### Library Installation (if needed)"
   ]
  },
  {
   "cell_type": "code",
   "execution_count": 1,
   "metadata": {},
   "outputs": [],
   "source": [
    "#! pip install -Ur requirements.txt"
   ]
  },
  {
   "cell_type": "markdown",
   "metadata": {},
   "source": [
    "### Importing Required Libraries"
   ]
  },
  {
   "cell_type": "code",
   "execution_count": 2,
   "metadata": {},
   "outputs": [
    {
     "name": "stderr",
     "output_type": "stream",
     "text": [
      "c:\\Users\\Gamer\\AppData\\Local\\Programs\\Python\\Python313\\Lib\\site-packages\\tqdm\\auto.py:21: TqdmWarning: IProgress not found. Please update jupyter and ipywidgets. See https://ipywidgets.readthedocs.io/en/stable/user_install.html\n",
      "  from .autonotebook import tqdm as notebook_tqdm\n"
     ]
    }
   ],
   "source": [
    "import matplotlib.pyplot as plt\n",
    "import yfinance as yf\n",
    "import pandas as pd\n",
    "import numpy as np\n",
    "import pickle\n",
    "import gradio as gr\n",
    "import ast\n",
    "import warnings\n",
    "from methods.model_methods import *\n",
    "from datetime import datetime\n",
    "from tqdm import tqdm\n",
    "from skopt import BayesSearchCV\n",
    "from skopt.space import Real, Categorical, Integer\n",
    "from sklearn.impute import SimpleImputer\n",
    "from sklearn.metrics import r2_score, mean_squared_error, mean_absolute_error\n",
    "from sklearn.preprocessing import LabelEncoder, StandardScaler\n",
    "warnings.filterwarnings(\"ignore\", category=FutureWarning)\n",
    "warnings.filterwarnings(\"ignore\", category=SyntaxWarning)"
   ]
  },
  {
   "cell_type": "code",
   "execution_count": 3,
   "metadata": {},
   "outputs": [
    {
     "data": {
      "application/vnd.microsoft.datawrangler.viewer.v0+json": {
       "columns": [
        {
         "name": "index",
         "rawType": "int64",
         "type": "integer"
        },
        {
         "name": "Ticker",
         "rawType": "object",
         "type": "string"
        },
        {
         "name": "Name",
         "rawType": "object",
         "type": "string"
        },
        {
         "name": "Date",
         "rawType": "datetime64[ns]",
         "type": "datetime"
        },
        {
         "name": "Earn Index",
         "rawType": "int64",
         "type": "integer"
        },
        {
         "name": "Sector",
         "rawType": "object",
         "type": "string"
        },
        {
         "name": "Industry",
         "rawType": "object",
         "type": "string"
        },
        {
         "name": "3M Future Change",
         "rawType": "float64",
         "type": "float"
        },
        {
         "name": "TaxEffectOfUnusualItems",
         "rawType": "float64",
         "type": "float"
        },
        {
         "name": "TaxRateForCalcs",
         "rawType": "float64",
         "type": "float"
        },
        {
         "name": "NormalizedEBITDA",
         "rawType": "float64",
         "type": "float"
        },
        {
         "name": "NetIncomeFromContinuingOperationNetMinorityInterest",
         "rawType": "float64",
         "type": "float"
        },
        {
         "name": "ReconciledDepreciation",
         "rawType": "float64",
         "type": "float"
        },
        {
         "name": "ReconciledCostOfRevenue",
         "rawType": "float64",
         "type": "float"
        },
        {
         "name": "EBITDA",
         "rawType": "float64",
         "type": "float"
        },
        {
         "name": "EBIT",
         "rawType": "float64",
         "type": "float"
        },
        {
         "name": "NetInterestIncome",
         "rawType": "float64",
         "type": "float"
        },
        {
         "name": "InterestExpense",
         "rawType": "float64",
         "type": "float"
        },
        {
         "name": "InterestIncome",
         "rawType": "float64",
         "type": "float"
        },
        {
         "name": "NormalizedIncome",
         "rawType": "float64",
         "type": "float"
        },
        {
         "name": "NetIncomeFromContinuingAndDiscontinuedOperation",
         "rawType": "float64",
         "type": "float"
        },
        {
         "name": "TotalExpenses",
         "rawType": "float64",
         "type": "float"
        },
        {
         "name": "TotalOperatingIncomeAsReported",
         "rawType": "float64",
         "type": "float"
        },
        {
         "name": "DilutedAverageShares",
         "rawType": "float64",
         "type": "float"
        },
        {
         "name": "BasicAverageShares",
         "rawType": "float64",
         "type": "float"
        },
        {
         "name": "DilutedEPS",
         "rawType": "float64",
         "type": "float"
        },
        {
         "name": "BasicEPS",
         "rawType": "float64",
         "type": "float"
        },
        {
         "name": "DilutedNIAvailtoComStockholders",
         "rawType": "float64",
         "type": "float"
        },
        {
         "name": "NetIncomeCommonStockholders",
         "rawType": "float64",
         "type": "float"
        },
        {
         "name": "NetIncome",
         "rawType": "float64",
         "type": "float"
        },
        {
         "name": "NetIncomeIncludingNoncontrollingInterests",
         "rawType": "float64",
         "type": "float"
        },
        {
         "name": "NetIncomeContinuousOperations",
         "rawType": "float64",
         "type": "float"
        },
        {
         "name": "TaxProvision",
         "rawType": "float64",
         "type": "float"
        },
        {
         "name": "PretaxIncome",
         "rawType": "float64",
         "type": "float"
        },
        {
         "name": "OtherIncomeExpense",
         "rawType": "float64",
         "type": "float"
        },
        {
         "name": "OtherNonOperatingIncomeExpenses",
         "rawType": "float64",
         "type": "float"
        },
        {
         "name": "NetNonOperatingInterestIncomeExpense",
         "rawType": "float64",
         "type": "float"
        },
        {
         "name": "InterestExpenseNonOperating",
         "rawType": "float64",
         "type": "float"
        },
        {
         "name": "InterestIncomeNonOperating",
         "rawType": "float64",
         "type": "float"
        },
        {
         "name": "OperatingIncome",
         "rawType": "float64",
         "type": "float"
        },
        {
         "name": "OperatingExpense",
         "rawType": "float64",
         "type": "float"
        },
        {
         "name": "ResearchAndDevelopment",
         "rawType": "float64",
         "type": "float"
        },
        {
         "name": "SellingGeneralAndAdministration",
         "rawType": "float64",
         "type": "float"
        },
        {
         "name": "GrossProfit",
         "rawType": "float64",
         "type": "float"
        },
        {
         "name": "CostOfRevenue",
         "rawType": "float64",
         "type": "float"
        },
        {
         "name": "TotalRevenue",
         "rawType": "float64",
         "type": "float"
        },
        {
         "name": "OperatingRevenue",
         "rawType": "float64",
         "type": "float"
        }
       ],
       "ref": "d2086bbc-227c-4d8f-84ae-b0331cacce1d",
       "rows": [
        [
         "0",
         "AAPL",
         "Apple Inc.",
         "2025-06-30 00:00:00",
         "0",
         "Technology",
         "Consumer Electronics",
         null,
         "0.0",
         "0.163997",
         "31032000000.0",
         "23434000000.0",
         "2830000000.0",
         "50318000000.0",
         "31032000000.0",
         "28202000000.0",
         null,
         null,
         null,
         "23434000000.0",
         "23434000000.0",
         "65834000000.0",
         "28202000000.0",
         "14948179000.0",
         "14902886000.0",
         "1.57",
         "1.57",
         "23434000000.0",
         "23434000000.0",
         "23434000000.0",
         "23434000000.0",
         "23434000000.0",
         "4597000000.0",
         "28031000000.0",
         "-171000000.0",
         "-171000000.0",
         null,
         null,
         null,
         "28202000000.0",
         "15516000000.0",
         "8866000000.0",
         "6650000000.0",
         "43718000000.0",
         "50318000000.0",
         "94036000000.0",
         "94036000000.0"
        ],
        [
         "0",
         "AAPL",
         "Apple Inc.",
         "2025-03-31 00:00:00",
         "1",
         "Technology",
         "Consumer Electronics",
         "-0.07514051472094063",
         "0.0",
         "0.155",
         "32250000000.0",
         "24780000000.0",
         "2661000000.0",
         "50492000000.0",
         "32250000000.0",
         "29589000000.0",
         null,
         null,
         null,
         "24780000000.0",
         "24780000000.0",
         "65770000000.0",
         "29589000000.0",
         "15056133000.0",
         "14994082000.0",
         "1.65",
         "1.65",
         "24780000000.0",
         "24780000000.0",
         "24780000000.0",
         "24780000000.0",
         "24780000000.0",
         "4530000000.0",
         "29310000000.0",
         "-279000000.0",
         "-279000000.0",
         null,
         null,
         null,
         "29589000000.0",
         "15278000000.0",
         "8550000000.0",
         "6728000000.0",
         "44867000000.0",
         "50492000000.0",
         "95359000000.0",
         "95359000000.0"
        ],
        [
         "0",
         "AAPL",
         "Apple Inc.",
         "2024-12-31 00:00:00",
         "2",
         "Technology",
         "Consumer Electronics",
         "-0.10775736845101569",
         "0.0",
         "0.147",
         "45912000000.0",
         "36330000000.0",
         "3080000000.0",
         "66025000000.0",
         "45912000000.0",
         "42832000000.0",
         null,
         null,
         null,
         "36330000000.0",
         "36330000000.0",
         "81468000000.0",
         "42832000000.0",
         "15150865000.0",
         "15081724000.0",
         "2.4",
         "2.41",
         "36330000000.0",
         "36330000000.0",
         "36330000000.0",
         "36330000000.0",
         "36330000000.0",
         "6254000000.0",
         "42584000000.0",
         "-248000000.0",
         "-248000000.0",
         null,
         null,
         null,
         "42832000000.0",
         "15443000000.0",
         "8268000000.0",
         "7175000000.0",
         "58275000000.0",
         "66025000000.0",
         "124300000000.0",
         "124300000000.0"
        ],
        [
         "0",
         "AAPL",
         "Apple Inc.",
         "2024-09-30 00:00:00",
         "3",
         "Technology",
         "Consumer Electronics",
         "0.08359427994328628",
         "0.0",
         "0.241",
         "134661000000.0",
         "93736000000.0",
         "11445000000.0",
         "210352000000.0",
         "134661000000.0",
         "123216000000.0",
         null,
         null,
         null,
         "93736000000.0",
         "93736000000.0",
         "267819000000.0",
         "123216000000.0",
         "15408095000.0",
         "15343783000.0",
         "6.08",
         "6.11",
         "93736000000.0",
         "93736000000.0",
         "93736000000.0",
         "93736000000.0",
         "93736000000.0",
         "29749000000.0",
         "123485000000.0",
         "269000000.0",
         "269000000.0",
         null,
         null,
         null,
         "123216000000.0",
         "57467000000.0",
         "31370000000.0",
         "26097000000.0",
         "180683000000.0",
         "210352000000.0",
         "391035000000.0",
         "391035000000.0"
        ],
        [
         "0",
         "AAPL",
         "Apple Inc.",
         "2024-06-30 00:00:00",
         "4",
         "Technology",
         "Consumer Electronics",
         "0.08277299335840738",
         "0.0",
         "0.159",
         "28202000000.0",
         "21448000000.0",
         "2850000000.0",
         "46099000000.0",
         "28202000000.0",
         "25352000000.0",
         null,
         null,
         null,
         "21448000000.0",
         "21448000000.0",
         "60425000000.0",
         "25352000000.0",
         "15348175000.0",
         "15287521000.0",
         "1.4",
         "1.4",
         "21448000000.0",
         "21448000000.0",
         "21448000000.0",
         "21448000000.0",
         "21448000000.0",
         "4046000000.0",
         "25494000000.0",
         "142000000.0",
         "142000000.0",
         null,
         null,
         null,
         "25352000000.0",
         "14326000000.0",
         "8006000000.0",
         "6320000000.0",
         "39678000000.0",
         "46099000000.0",
         "85777000000.0",
         "85777000000.0"
        ],
        [
         "0",
         "AAPL",
         "Apple Inc.",
         "2023-09-30 00:00:00",
         "5",
         "Technology",
         "Consumer Electronics",
         "0.12600700116392072",
         "0.0",
         "0.147",
         "125820000000.0",
         "96995000000.0",
         "11519000000.0",
         "214137000000.0",
         "125820000000.0",
         "114301000000.0",
         "-183000000.0",
         "3933000000.0",
         "3750000000.0",
         "96995000000.0",
         "96995000000.0",
         "268984000000.0",
         "114301000000.0",
         "15812547000.0",
         "15744231000.0",
         "6.13",
         "6.16",
         "96995000000.0",
         "96995000000.0",
         "96995000000.0",
         "96995000000.0",
         "96995000000.0",
         "16741000000.0",
         "113736000000.0",
         "-565000000.0",
         "-565000000.0",
         "-183000000.0",
         "3933000000.0",
         "3750000000.0",
         "114301000000.0",
         "54847000000.0",
         "29915000000.0",
         "24932000000.0",
         "169148000000.0",
         "214137000000.0",
         "383285000000.0",
         "383285000000.0"
        ],
        [
         "0",
         "AAPL",
         "Apple Inc.",
         "2022-09-30 00:00:00",
         "6",
         "Technology",
         "Consumer Electronics",
         "-0.05828117993891202",
         "0.0",
         "0.162",
         "130541000000.0",
         "99803000000.0",
         "11104000000.0",
         "223546000000.0",
         "130541000000.0",
         "119437000000.0",
         "-106000000.0",
         "2931000000.0",
         "2825000000.0",
         "99803000000.0",
         "99803000000.0",
         "274891000000.0",
         "119437000000.0",
         "16325819000.0",
         "16215963000.0",
         "6.11",
         "6.15",
         "99803000000.0",
         "99803000000.0",
         "99803000000.0",
         "99803000000.0",
         "99803000000.0",
         "19300000000.0",
         "119103000000.0",
         "-334000000.0",
         "-334000000.0",
         "-106000000.0",
         "2931000000.0",
         "2825000000.0",
         "119437000000.0",
         "51345000000.0",
         "26251000000.0",
         "25094000000.0",
         "170782000000.0",
         "223546000000.0",
         "394328000000.0",
         "394328000000.0"
        ],
        [
         "0",
         "AAPL",
         "Apple Inc.",
         "2021-09-30 00:00:00",
         "7",
         "Technology",
         "Consumer Electronics",
         "0.2612022148050732",
         "0.0",
         "0.133",
         "123136000000.0",
         "94680000000.0",
         "11284000000.0",
         "212981000000.0",
         "123136000000.0",
         "111852000000.0",
         "198000000.0",
         "2645000000.0",
         "2843000000.0",
         "94680000000.0",
         "94680000000.0",
         "256868000000.0",
         "108949000000.0",
         "16864919000.0",
         "16701272000.0",
         "5.61",
         "5.67",
         "94680000000.0",
         "94680000000.0",
         "94680000000.0",
         "94680000000.0",
         "94680000000.0",
         "14527000000.0",
         "109207000000.0",
         "60000000.0",
         "60000000.0",
         "198000000.0",
         "2645000000.0",
         "2843000000.0",
         "108949000000.0",
         "43887000000.0",
         "21914000000.0",
         "21973000000.0",
         "152836000000.0",
         "212981000000.0",
         "365817000000.0",
         "365817000000.0"
        ]
       ],
       "shape": {
        "columns": 46,
        "rows": 8
       }
      },
      "text/html": [
       "<div>\n",
       "<style scoped>\n",
       "    .dataframe tbody tr th:only-of-type {\n",
       "        vertical-align: middle;\n",
       "    }\n",
       "\n",
       "    .dataframe tbody tr th {\n",
       "        vertical-align: top;\n",
       "    }\n",
       "\n",
       "    .dataframe thead th {\n",
       "        text-align: right;\n",
       "    }\n",
       "</style>\n",
       "<table border=\"1\" class=\"dataframe\">\n",
       "  <thead>\n",
       "    <tr style=\"text-align: right;\">\n",
       "      <th></th>\n",
       "      <th>Ticker</th>\n",
       "      <th>Name</th>\n",
       "      <th>Date</th>\n",
       "      <th>Earn Index</th>\n",
       "      <th>Sector</th>\n",
       "      <th>Industry</th>\n",
       "      <th>3M Future Change</th>\n",
       "      <th>TaxEffectOfUnusualItems</th>\n",
       "      <th>TaxRateForCalcs</th>\n",
       "      <th>NormalizedEBITDA</th>\n",
       "      <th>...</th>\n",
       "      <th>InterestExpenseNonOperating</th>\n",
       "      <th>InterestIncomeNonOperating</th>\n",
       "      <th>OperatingIncome</th>\n",
       "      <th>OperatingExpense</th>\n",
       "      <th>ResearchAndDevelopment</th>\n",
       "      <th>SellingGeneralAndAdministration</th>\n",
       "      <th>GrossProfit</th>\n",
       "      <th>CostOfRevenue</th>\n",
       "      <th>TotalRevenue</th>\n",
       "      <th>OperatingRevenue</th>\n",
       "    </tr>\n",
       "  </thead>\n",
       "  <tbody>\n",
       "    <tr>\n",
       "      <th>0</th>\n",
       "      <td>AAPL</td>\n",
       "      <td>Apple Inc.</td>\n",
       "      <td>2025-06-30</td>\n",
       "      <td>0</td>\n",
       "      <td>Technology</td>\n",
       "      <td>Consumer Electronics</td>\n",
       "      <td>NaN</td>\n",
       "      <td>0.0</td>\n",
       "      <td>0.163997</td>\n",
       "      <td>3.103200e+10</td>\n",
       "      <td>...</td>\n",
       "      <td>NaN</td>\n",
       "      <td>NaN</td>\n",
       "      <td>2.820200e+10</td>\n",
       "      <td>1.551600e+10</td>\n",
       "      <td>8.866000e+09</td>\n",
       "      <td>6.650000e+09</td>\n",
       "      <td>4.371800e+10</td>\n",
       "      <td>5.031800e+10</td>\n",
       "      <td>9.403600e+10</td>\n",
       "      <td>9.403600e+10</td>\n",
       "    </tr>\n",
       "    <tr>\n",
       "      <th>0</th>\n",
       "      <td>AAPL</td>\n",
       "      <td>Apple Inc.</td>\n",
       "      <td>2025-03-31</td>\n",
       "      <td>1</td>\n",
       "      <td>Technology</td>\n",
       "      <td>Consumer Electronics</td>\n",
       "      <td>-0.075141</td>\n",
       "      <td>0.0</td>\n",
       "      <td>0.155000</td>\n",
       "      <td>3.225000e+10</td>\n",
       "      <td>...</td>\n",
       "      <td>NaN</td>\n",
       "      <td>NaN</td>\n",
       "      <td>2.958900e+10</td>\n",
       "      <td>1.527800e+10</td>\n",
       "      <td>8.550000e+09</td>\n",
       "      <td>6.728000e+09</td>\n",
       "      <td>4.486700e+10</td>\n",
       "      <td>5.049200e+10</td>\n",
       "      <td>9.535900e+10</td>\n",
       "      <td>9.535900e+10</td>\n",
       "    </tr>\n",
       "    <tr>\n",
       "      <th>0</th>\n",
       "      <td>AAPL</td>\n",
       "      <td>Apple Inc.</td>\n",
       "      <td>2024-12-31</td>\n",
       "      <td>2</td>\n",
       "      <td>Technology</td>\n",
       "      <td>Consumer Electronics</td>\n",
       "      <td>-0.107757</td>\n",
       "      <td>0.0</td>\n",
       "      <td>0.147000</td>\n",
       "      <td>4.591200e+10</td>\n",
       "      <td>...</td>\n",
       "      <td>NaN</td>\n",
       "      <td>NaN</td>\n",
       "      <td>4.283200e+10</td>\n",
       "      <td>1.544300e+10</td>\n",
       "      <td>8.268000e+09</td>\n",
       "      <td>7.175000e+09</td>\n",
       "      <td>5.827500e+10</td>\n",
       "      <td>6.602500e+10</td>\n",
       "      <td>1.243000e+11</td>\n",
       "      <td>1.243000e+11</td>\n",
       "    </tr>\n",
       "    <tr>\n",
       "      <th>0</th>\n",
       "      <td>AAPL</td>\n",
       "      <td>Apple Inc.</td>\n",
       "      <td>2024-09-30</td>\n",
       "      <td>3</td>\n",
       "      <td>Technology</td>\n",
       "      <td>Consumer Electronics</td>\n",
       "      <td>0.083594</td>\n",
       "      <td>0.0</td>\n",
       "      <td>0.241000</td>\n",
       "      <td>1.346610e+11</td>\n",
       "      <td>...</td>\n",
       "      <td>NaN</td>\n",
       "      <td>NaN</td>\n",
       "      <td>1.232160e+11</td>\n",
       "      <td>5.746700e+10</td>\n",
       "      <td>3.137000e+10</td>\n",
       "      <td>2.609700e+10</td>\n",
       "      <td>1.806830e+11</td>\n",
       "      <td>2.103520e+11</td>\n",
       "      <td>3.910350e+11</td>\n",
       "      <td>3.910350e+11</td>\n",
       "    </tr>\n",
       "    <tr>\n",
       "      <th>0</th>\n",
       "      <td>AAPL</td>\n",
       "      <td>Apple Inc.</td>\n",
       "      <td>2024-06-30</td>\n",
       "      <td>4</td>\n",
       "      <td>Technology</td>\n",
       "      <td>Consumer Electronics</td>\n",
       "      <td>0.082773</td>\n",
       "      <td>0.0</td>\n",
       "      <td>0.159000</td>\n",
       "      <td>2.820200e+10</td>\n",
       "      <td>...</td>\n",
       "      <td>NaN</td>\n",
       "      <td>NaN</td>\n",
       "      <td>2.535200e+10</td>\n",
       "      <td>1.432600e+10</td>\n",
       "      <td>8.006000e+09</td>\n",
       "      <td>6.320000e+09</td>\n",
       "      <td>3.967800e+10</td>\n",
       "      <td>4.609900e+10</td>\n",
       "      <td>8.577700e+10</td>\n",
       "      <td>8.577700e+10</td>\n",
       "    </tr>\n",
       "    <tr>\n",
       "      <th>0</th>\n",
       "      <td>AAPL</td>\n",
       "      <td>Apple Inc.</td>\n",
       "      <td>2023-09-30</td>\n",
       "      <td>5</td>\n",
       "      <td>Technology</td>\n",
       "      <td>Consumer Electronics</td>\n",
       "      <td>0.126007</td>\n",
       "      <td>0.0</td>\n",
       "      <td>0.147000</td>\n",
       "      <td>1.258200e+11</td>\n",
       "      <td>...</td>\n",
       "      <td>3.933000e+09</td>\n",
       "      <td>3.750000e+09</td>\n",
       "      <td>1.143010e+11</td>\n",
       "      <td>5.484700e+10</td>\n",
       "      <td>2.991500e+10</td>\n",
       "      <td>2.493200e+10</td>\n",
       "      <td>1.691480e+11</td>\n",
       "      <td>2.141370e+11</td>\n",
       "      <td>3.832850e+11</td>\n",
       "      <td>3.832850e+11</td>\n",
       "    </tr>\n",
       "    <tr>\n",
       "      <th>0</th>\n",
       "      <td>AAPL</td>\n",
       "      <td>Apple Inc.</td>\n",
       "      <td>2022-09-30</td>\n",
       "      <td>6</td>\n",
       "      <td>Technology</td>\n",
       "      <td>Consumer Electronics</td>\n",
       "      <td>-0.058281</td>\n",
       "      <td>0.0</td>\n",
       "      <td>0.162000</td>\n",
       "      <td>1.305410e+11</td>\n",
       "      <td>...</td>\n",
       "      <td>2.931000e+09</td>\n",
       "      <td>2.825000e+09</td>\n",
       "      <td>1.194370e+11</td>\n",
       "      <td>5.134500e+10</td>\n",
       "      <td>2.625100e+10</td>\n",
       "      <td>2.509400e+10</td>\n",
       "      <td>1.707820e+11</td>\n",
       "      <td>2.235460e+11</td>\n",
       "      <td>3.943280e+11</td>\n",
       "      <td>3.943280e+11</td>\n",
       "    </tr>\n",
       "    <tr>\n",
       "      <th>0</th>\n",
       "      <td>AAPL</td>\n",
       "      <td>Apple Inc.</td>\n",
       "      <td>2021-09-30</td>\n",
       "      <td>7</td>\n",
       "      <td>Technology</td>\n",
       "      <td>Consumer Electronics</td>\n",
       "      <td>0.261202</td>\n",
       "      <td>0.0</td>\n",
       "      <td>0.133000</td>\n",
       "      <td>1.231360e+11</td>\n",
       "      <td>...</td>\n",
       "      <td>2.645000e+09</td>\n",
       "      <td>2.843000e+09</td>\n",
       "      <td>1.089490e+11</td>\n",
       "      <td>4.388700e+10</td>\n",
       "      <td>2.191400e+10</td>\n",
       "      <td>2.197300e+10</td>\n",
       "      <td>1.528360e+11</td>\n",
       "      <td>2.129810e+11</td>\n",
       "      <td>3.658170e+11</td>\n",
       "      <td>3.658170e+11</td>\n",
       "    </tr>\n",
       "  </tbody>\n",
       "</table>\n",
       "<p>8 rows × 46 columns</p>\n",
       "</div>"
      ],
      "text/plain": [
       "  Ticker        Name       Date  Earn Index      Sector              Industry  \\\n",
       "0   AAPL  Apple Inc. 2025-06-30           0  Technology  Consumer Electronics   \n",
       "0   AAPL  Apple Inc. 2025-03-31           1  Technology  Consumer Electronics   \n",
       "0   AAPL  Apple Inc. 2024-12-31           2  Technology  Consumer Electronics   \n",
       "0   AAPL  Apple Inc. 2024-09-30           3  Technology  Consumer Electronics   \n",
       "0   AAPL  Apple Inc. 2024-06-30           4  Technology  Consumer Electronics   \n",
       "0   AAPL  Apple Inc. 2023-09-30           5  Technology  Consumer Electronics   \n",
       "0   AAPL  Apple Inc. 2022-09-30           6  Technology  Consumer Electronics   \n",
       "0   AAPL  Apple Inc. 2021-09-30           7  Technology  Consumer Electronics   \n",
       "\n",
       "   3M Future Change  TaxEffectOfUnusualItems  TaxRateForCalcs  \\\n",
       "0               NaN                      0.0         0.163997   \n",
       "0         -0.075141                      0.0         0.155000   \n",
       "0         -0.107757                      0.0         0.147000   \n",
       "0          0.083594                      0.0         0.241000   \n",
       "0          0.082773                      0.0         0.159000   \n",
       "0          0.126007                      0.0         0.147000   \n",
       "0         -0.058281                      0.0         0.162000   \n",
       "0          0.261202                      0.0         0.133000   \n",
       "\n",
       "   NormalizedEBITDA  ...  InterestExpenseNonOperating  \\\n",
       "0      3.103200e+10  ...                          NaN   \n",
       "0      3.225000e+10  ...                          NaN   \n",
       "0      4.591200e+10  ...                          NaN   \n",
       "0      1.346610e+11  ...                          NaN   \n",
       "0      2.820200e+10  ...                          NaN   \n",
       "0      1.258200e+11  ...                 3.933000e+09   \n",
       "0      1.305410e+11  ...                 2.931000e+09   \n",
       "0      1.231360e+11  ...                 2.645000e+09   \n",
       "\n",
       "   InterestIncomeNonOperating  OperatingIncome  OperatingExpense  \\\n",
       "0                         NaN     2.820200e+10      1.551600e+10   \n",
       "0                         NaN     2.958900e+10      1.527800e+10   \n",
       "0                         NaN     4.283200e+10      1.544300e+10   \n",
       "0                         NaN     1.232160e+11      5.746700e+10   \n",
       "0                         NaN     2.535200e+10      1.432600e+10   \n",
       "0                3.750000e+09     1.143010e+11      5.484700e+10   \n",
       "0                2.825000e+09     1.194370e+11      5.134500e+10   \n",
       "0                2.843000e+09     1.089490e+11      4.388700e+10   \n",
       "\n",
       "   ResearchAndDevelopment  SellingGeneralAndAdministration   GrossProfit  \\\n",
       "0            8.866000e+09                     6.650000e+09  4.371800e+10   \n",
       "0            8.550000e+09                     6.728000e+09  4.486700e+10   \n",
       "0            8.268000e+09                     7.175000e+09  5.827500e+10   \n",
       "0            3.137000e+10                     2.609700e+10  1.806830e+11   \n",
       "0            8.006000e+09                     6.320000e+09  3.967800e+10   \n",
       "0            2.991500e+10                     2.493200e+10  1.691480e+11   \n",
       "0            2.625100e+10                     2.509400e+10  1.707820e+11   \n",
       "0            2.191400e+10                     2.197300e+10  1.528360e+11   \n",
       "\n",
       "   CostOfRevenue  TotalRevenue  OperatingRevenue  \n",
       "0   5.031800e+10  9.403600e+10      9.403600e+10  \n",
       "0   5.049200e+10  9.535900e+10      9.535900e+10  \n",
       "0   6.602500e+10  1.243000e+11      1.243000e+11  \n",
       "0   2.103520e+11  3.910350e+11      3.910350e+11  \n",
       "0   4.609900e+10  8.577700e+10      8.577700e+10  \n",
       "0   2.141370e+11  3.832850e+11      3.832850e+11  \n",
       "0   2.235460e+11  3.943280e+11      3.943280e+11  \n",
       "0   2.129810e+11  3.658170e+11      3.658170e+11  \n",
       "\n",
       "[8 rows x 46 columns]"
      ]
     },
     "execution_count": 3,
     "metadata": {},
     "output_type": "execute_result"
    }
   ],
   "source": [
    "Stock(\"AAPL\").get_df_financials()"
   ]
  },
  {
   "cell_type": "markdown",
   "metadata": {},
   "source": [
    "### Variables"
   ]
  },
  {
   "cell_type": "code",
   "execution_count": 4,
   "metadata": {},
   "outputs": [],
   "source": [
    "symbol_list = input(\"Symbols: ('simple', 'filtered' or 'all')\") # 'simple' or 'all'. simple are the tickers from the screener notebook and all are all of the tickers in 'filtered_tickers'. You may also an 'Int' to get a % amount of random tickers from 'all'\n",
    "if symbol_list:\n",
    "    build_new_dataset = True\n",
    "else:\n",
    "    build_new_dataset = False\n",
    "    symbol_list = 'filtered'\n",
    "minimum_feature_threshold = 0.6\n",
    "outlier = 3\n",
    "iterations = input(\"Iterations eg. '10', '20', '30'\")\n",
    "if iterations:\n",
    "    iterations = ast.literal_eval(iterations)\n",
    "    train_new_model = True\n",
    "    search_params = {\n",
    "            \"hidden_layer_amount\": Integer(2, 10),\n",
    "            \"neuron_amount\": Integer(20, 500),\n",
    "            \"warm_start\": Categorical([False, True]),\n",
    "            \"activation\": Categorical(['identity', 'logistic', 'tanh', 'relu']),\n",
    "            \"solver\": Categorical(['sgd', 'adam', 'lbfgs']),\n",
    "            \"alpha\": Real(0.000001, 1),\n",
    "            \"learning_rate_init\": Real(0.00001, 0.1),\n",
    "            \"power_t\": Real(0.0001, 100),\n",
    "            \"momentum\": Real(0.0001, 100),\n",
    "            \"validation_fraction\": Real(0.05, 0.20),\n",
    "            \"beta_1\": Real(0.001, 10),\n",
    "            \"beta_2\": Real(0.0001, 100),\n",
    "            \"epsilon\": Real(0.0000000001, 0.000001),}\n",
    "    cross_validations = 2  # will be set to 3 if not specified\n",
    "    verticle_jobs = 1 #'-1' for max\n",
    "else:\n",
    "    train_new_model = False\n",
    "if build_new_dataset or train_new_model:\n",
    "    debugging = {'True': True, 'False': False}.get(input('Debug? (Bool)'))\n",
    "else:\n",
    "    debugging = False"
   ]
  },
  {
   "cell_type": "code",
   "execution_count": 5,
   "metadata": {},
   "outputs": [
    {
     "data": {
      "text/plain": [
       "array(['MATAS.CO', 'TRIFOR.CO', 'RHM.DE', ..., 'EOLU-B.ST', '8TRA.ST',\n",
       "       'WMT'], shape=(6186,), dtype=object)"
      ]
     },
     "execution_count": 5,
     "metadata": {},
     "output_type": "execute_result"
    }
   ],
   "source": [
    "symbols = pd.read_csv('../data/tickers/simple_tickers.csv')['Ticker'].tolist()\n",
    "if symbol_list == 'filtered':\n",
    "    symbols = symbols + pd.read_csv('../data/tickers/model_filtered_tickers.csv')['Ticker'].tolist()\n",
    "elif symbol_list == 'all':\n",
    "    symbols = symbols + pd.read_csv('../data/tickers/tickers.csv')['Ticker'].tolist()\n",
    "elif symbol_list.isdigit():\n",
    "    all_symbols = pd.read_csv('../data/tickers/tickers.csv')['Ticker'].tolist()\n",
    "    num_symbols = max(1, round(len(all_symbols) * (int(symbol_list) / 100)))  \n",
    "    symbols = symbols + pd.read_csv(\"../data/tickers/model_filtered_tickers.csv\")[\"Ticker\"].tolist()\n",
    "    symbols = symbols + np.random.choice(all_symbols, num_symbols, replace=False).tolist()\n",
    "\n",
    "symbols = pd.Series(symbols).unique()\n",
    "symbols"
   ]
  },
  {
   "cell_type": "markdown",
   "metadata": {},
   "source": [
    "## Data Preparation"
   ]
  },
  {
   "cell_type": "markdown",
   "metadata": {},
   "source": [
    "#### Download annual financial data"
   ]
  },
  {
   "cell_type": "code",
   "execution_count": 6,
   "metadata": {},
   "outputs": [
    {
     "name": "stderr",
     "output_type": "stream",
     "text": [
      "  0%|          | 0/6186 [00:00<?, ?it/s]"
     ]
    },
    {
     "name": "stderr",
     "output_type": "stream",
     "text": [
      "  1%|          | 56/6186 [03:36<6:35:32,  3.87s/it]HTTP Error 404: \n",
      "  1%|          | 61/6186 [03:51<6:28:13,  3.80s/it]HTTP Error 404: \n",
      "  1%|          | 62/6186 [03:53<6:24:13,  3.76s/it]HTTP Error 404: \n",
      "  2%|▏         | 113/6186 [05:55<5:18:46,  3.15s/it]HTTP Error 404: \n",
      "  2%|▏         | 121/6186 [06:21<5:18:45,  3.15s/it]HTTP Error 404: \n",
      "  2%|▏         | 125/6186 [06:28<5:14:17,  3.11s/it]HTTP Error 404: \n",
      "  2%|▏         | 126/6186 [06:30<5:12:47,  3.10s/it]HTTP Error 404: \n",
      "  2%|▏         | 135/6186 [06:47<5:04:23,  3.02s/it]HTTP Error 404: \n",
      "  2%|▏         | 141/6186 [07:02<5:01:46,  3.00s/it]HTTP Error 404: \n",
      "  2%|▏         | 144/6186 [07:10<5:01:10,  2.99s/it]HTTP Error 404: \n",
      "  2%|▏         | 149/6186 [07:31<5:05:11,  3.03s/it]HTTP Error 404: \n",
      "  2%|▏         | 150/6186 [07:33<5:04:04,  3.02s/it]HTTP Error 404: \n",
      "  2%|▏         | 154/6186 [07:43<5:02:53,  3.01s/it]HTTP Error 404: \n",
      "  3%|▎         | 155/6186 [07:45<5:01:44,  3.00s/it]HTTP Error 404: \n",
      "  3%|▎         | 168/6186 [08:24<5:00:58,  3.00s/it]HTTP Error 404: \n",
      "  3%|▎         | 169/6186 [08:25<5:00:01,  2.99s/it]HTTP Error 404: \n",
      "  3%|▎         | 170/6186 [08:27<4:59:10,  2.98s/it]HTTP Error 404: \n",
      "  3%|▎         | 171/6186 [08:28<4:58:07,  2.97s/it]HTTP Error 404: \n",
      "  3%|▎         | 172/6186 [08:30<4:57:15,  2.97s/it]HTTP Error 404: \n",
      "  3%|▎         | 174/6186 [08:32<4:55:02,  2.94s/it]HTTP Error 404: \n",
      "  3%|▎         | 186/6186 [09:13<4:57:34,  2.98s/it]HTTP Error 404: \n",
      "  3%|▎         | 190/6186 [09:23<4:56:35,  2.97s/it]HTTP Error 404: \n",
      "  3%|▎         | 198/6186 [09:46<4:55:31,  2.96s/it]HTTP Error 404: \n",
      "  3%|▎         | 199/6186 [09:47<4:54:42,  2.95s/it]HTTP Error 404: \n",
      "  3%|▎         | 210/6186 [10:17<4:53:00,  2.94s/it]HTTP Error 404: \n",
      "  4%|▎         | 224/6186 [10:50<4:48:35,  2.90s/it]HTTP Error 404: \n",
      "  4%|▎         | 226/6186 [10:52<4:46:59,  2.89s/it]HTTP Error 404: \n",
      "  4%|▎         | 228/6186 [10:57<4:46:16,  2.88s/it]HTTP Error 404: \n",
      "  4%|▍         | 236/6186 [11:13<4:42:47,  2.85s/it]HTTP Error 404: \n",
      "  4%|▍         | 237/6186 [11:14<4:42:07,  2.85s/it]HTTP Error 404: \n",
      "  4%|▍         | 239/6186 [11:16<4:40:44,  2.83s/it]HTTP Error 404: \n",
      "  4%|▍         | 264/6186 [12:24<4:38:16,  2.82s/it]HTTP Error 404: \n",
      "  4%|▍         | 277/6186 [12:56<4:36:01,  2.80s/it]HTTP Error 404: \n",
      "  5%|▍         | 293/6186 [13:45<4:36:44,  2.82s/it]HTTP Error 404: \n",
      "  5%|▍         | 294/6186 [13:47<4:36:16,  2.81s/it]HTTP Error 404: \n",
      "  5%|▌         | 310/6186 [14:37<4:37:13,  2.83s/it]HTTP Error 404: \n",
      "  5%|▌         | 311/6186 [14:38<4:36:43,  2.83s/it]HTTP Error 404: \n",
      "  5%|▌         | 312/6186 [14:40<4:36:11,  2.82s/it]HTTP Error 404: \n",
      "  5%|▌         | 318/6186 [14:57<4:36:01,  2.82s/it]HTTP Error 404: \n",
      "  5%|▌         | 322/6186 [15:08<4:35:46,  2.82s/it]HTTP Error 404: \n",
      "  5%|▌         | 323/6186 [15:09<4:35:17,  2.82s/it]HTTP Error 404: \n",
      "  5%|▌         | 324/6186 [15:11<4:34:47,  2.81s/it]HTTP Error 404: \n",
      "  5%|▌         | 327/6186 [15:22<4:35:24,  2.82s/it]HTTP Error 404: \n",
      "  5%|▌         | 334/6186 [15:36<4:33:32,  2.80s/it]HTTP Error 404: \n",
      "  5%|▌         | 335/6186 [15:38<4:33:07,  2.80s/it]HTTP Error 404: \n",
      "  5%|▌         | 340/6186 [15:53<4:33:18,  2.81s/it]HTTP Error 404: \n",
      "  6%|▌         | 341/6186 [15:55<4:32:50,  2.80s/it]HTTP Error 404: \n",
      "  6%|▌         | 361/6186 [16:42<4:29:41,  2.78s/it]HTTP Error 404: \n",
      "  6%|▌         | 371/6186 [17:07<4:28:31,  2.77s/it]HTTP Error 404: \n",
      "  6%|▋         | 393/6186 [18:08<4:27:18,  2.77s/it]HTTP Error 404: \n",
      "  6%|▋         | 394/6186 [18:09<4:26:55,  2.77s/it]HTTP Error 404: \n",
      "  6%|▋         | 395/6186 [18:10<4:26:32,  2.76s/it]HTTP Error 404: \n",
      "  6%|▋         | 396/6186 [18:12<4:26:10,  2.76s/it]HTTP Error 404: \n",
      "  7%|▋         | 424/6186 [19:22<4:23:11,  2.74s/it]HTTP Error 404: \n",
      "  7%|▋         | 462/6186 [21:08<4:21:58,  2.75s/it]HTTP Error 404: \n",
      "  8%|▊         | 464/6186 [21:11<4:21:18,  2.74s/it]HTTP Error 404: \n",
      "  8%|▊         | 470/6186 [21:28<4:21:12,  2.74s/it]HTTP Error 404: \n",
      "  8%|▊         | 473/6186 [21:36<4:21:02,  2.74s/it]HTTP Error 404: \n",
      "  8%|▊         | 474/6186 [21:38<4:20:42,  2.74s/it]HTTP Error 404: \n",
      "  8%|▊         | 475/6186 [21:39<4:20:23,  2.74s/it]HTTP Error 404: \n",
      "  8%|▊         | 476/6186 [21:40<4:20:04,  2.73s/it]HTTP Error 404: \n",
      "  8%|▊         | 477/6186 [21:42<4:19:47,  2.73s/it]HTTP Error 404: \n",
      "  8%|▊         | 478/6186 [21:43<4:19:27,  2.73s/it]HTTP Error 404: \n",
      "  8%|▊         | 479/6186 [21:45<4:19:08,  2.72s/it]HTTP Error 404: \n",
      "  8%|▊         | 480/6186 [21:46<4:18:49,  2.72s/it]HTTP Error 404: \n",
      "  8%|▊         | 488/6186 [22:12<4:19:15,  2.73s/it]HTTP Error 404: \n",
      "  8%|▊         | 497/6186 [22:38<4:19:04,  2.73s/it]HTTP Error 404: \n",
      "  8%|▊         | 499/6186 [22:40<4:18:24,  2.73s/it]HTTP Error 404: \n",
      "  8%|▊         | 504/6186 [22:47<4:16:56,  2.71s/it]HTTP Error 404: \n",
      "  8%|▊         | 505/6186 [22:48<4:16:38,  2.71s/it]HTTP Error 404: \n",
      "  8%|▊         | 510/6186 [22:54<4:14:59,  2.70s/it]HTTP Error 404: \n",
      "  8%|▊         | 518/6186 [23:17<4:14:54,  2.70s/it]HTTP Error 404: \n",
      "  9%|▊         | 528/6186 [23:52<4:15:55,  2.71s/it]HTTP Error 404: \n",
      "  9%|▊         | 531/6186 [24:00<4:15:37,  2.71s/it]HTTP Error 404: \n",
      "  9%|▊         | 534/6186 [24:03<4:14:38,  2.70s/it]HTTP Error 404: \n",
      "  9%|▉         | 543/6186 [24:20<4:13:02,  2.69s/it]HTTP Error 404: \n",
      "  9%|▉         | 548/6186 [24:30<4:12:04,  2.68s/it]HTTP Error 404: \n",
      "  9%|▉         | 556/6186 [24:39<4:09:45,  2.66s/it]HTTP Error 404: \n",
      "  9%|▉         | 561/6186 [24:58<4:10:23,  2.67s/it]HTTP Error 404: \n",
      "  9%|▉         | 567/6186 [25:08<4:09:12,  2.66s/it]HTTP Error 404: \n",
      "  9%|▉         | 577/6186 [25:41<4:09:45,  2.67s/it]HTTP Error 404: \n",
      " 10%|▉         | 595/6186 [26:27<4:08:38,  2.67s/it]HTTP Error 404: \n",
      " 10%|▉         | 605/6186 [27:00<4:09:10,  2.68s/it]HTTP Error 404: \n",
      " 10%|▉         | 613/6186 [27:23<4:08:59,  2.68s/it]HTTP Error 404: \n",
      " 10%|▉         | 617/6186 [27:37<4:09:21,  2.69s/it]HTTP Error 404: \n",
      " 10%|█         | 636/6186 [28:46<4:11:08,  2.72s/it]HTTP Error 404: \n",
      " 10%|█         | 637/6186 [28:48<4:10:57,  2.71s/it]HTTP Error 404: \n",
      " 10%|█         | 638/6186 [28:50<4:10:45,  2.71s/it]HTTP Error 404: \n",
      " 10%|█         | 645/6186 [29:12<4:10:51,  2.72s/it]HTTP Error 404: \n",
      " 11%|█         | 654/6186 [29:36<4:10:28,  2.72s/it]HTTP Error 404: \n",
      " 11%|█         | 656/6186 [29:39<4:09:57,  2.71s/it]HTTP Error 404: \n",
      " 11%|█▏        | 699/6186 [31:26<4:06:51,  2.70s/it]HTTP Error 404: \n",
      " 11%|█▏        | 700/6186 [31:28<4:06:39,  2.70s/it]HTTP Error 404: \n",
      " 11%|█▏        | 702/6186 [31:31<4:06:15,  2.69s/it]HTTP Error 404: \n",
      " 11%|█▏        | 706/6186 [31:48<4:06:52,  2.70s/it]HTTP Error 404: \n",
      " 12%|█▏        | 721/6186 [32:29<4:06:17,  2.70s/it]HTTP Error 404: \n",
      " 12%|█▏        | 722/6186 [32:31<4:06:05,  2.70s/it]HTTP Error 404: \n",
      " 12%|█▏        | 723/6186 [32:32<4:05:52,  2.70s/it]HTTP Error 404: \n",
      " 12%|█▏        | 724/6186 [32:33<4:05:39,  2.70s/it]HTTP Error 404: \n",
      " 12%|█▏        | 736/6186 [33:13<4:06:01,  2.71s/it]HTTP Error 404: \n",
      " 12%|█▏        | 739/6186 [33:16<4:05:18,  2.70s/it]HTTP Error 404: \n",
      " 12%|█▏        | 740/6186 [33:18<4:05:06,  2.70s/it]HTTP Error 404: \n",
      " 12%|█▏        | 754/6186 [34:01<4:05:04,  2.71s/it]HTTP Error 404: \n",
      " 12%|█▏        | 759/6186 [34:15<4:04:55,  2.71s/it]HTTP Error 404: \n",
      " 12%|█▏        | 760/6186 [34:16<4:04:43,  2.71s/it]HTTP Error 404: \n",
      " 12%|█▏        | 762/6186 [34:24<4:04:56,  2.71s/it]HTTP Error 404: \n",
      " 12%|█▏        | 763/6186 [34:26<4:04:44,  2.71s/it]HTTP Error 404: \n",
      " 12%|█▏        | 769/6186 [34:38<4:04:00,  2.70s/it]HTTP Error 404: \n",
      " 12%|█▏        | 770/6186 [34:39<4:03:47,  2.70s/it]HTTP Error 404: \n",
      " 12%|█▏        | 771/6186 [34:41<4:03:36,  2.70s/it]HTTP Error 404: \n",
      " 13%|█▎        | 783/6186 [35:11<4:02:51,  2.70s/it]HTTP Error 404: \n",
      " 13%|█▎        | 785/6186 [35:14<4:02:26,  2.69s/it]HTTP Error 404: \n",
      " 13%|█▎        | 786/6186 [35:15<4:02:14,  2.69s/it]HTTP Error 404: \n",
      " 13%|█▎        | 806/6186 [36:25<4:03:05,  2.71s/it]HTTP Error 404: \n",
      " 13%|█▎        | 807/6186 [36:26<4:02:56,  2.71s/it]HTTP Error 404: \n",
      " 13%|█▎        | 808/6186 [36:28<4:02:45,  2.71s/it]HTTP Error 404: \n",
      " 13%|█▎        | 811/6186 [36:36<4:02:37,  2.71s/it]HTTP Error 404: \n",
      " 14%|█▎        | 837/6186 [37:41<4:00:53,  2.70s/it]HTTP Error 404: \n",
      " 14%|█▎        | 838/6186 [37:43<4:00:43,  2.70s/it]HTTP Error 404: \n",
      " 14%|█▎        | 839/6186 [37:44<4:00:31,  2.70s/it]HTTP Error 404: \n",
      " 14%|█▍        | 854/6186 [38:26<4:00:01,  2.70s/it]HTTP Error 404: \n",
      " 14%|█▍        | 869/6186 [39:03<3:58:59,  2.70s/it]HTTP Error 404: \n",
      " 14%|█▍        | 870/6186 [39:05<3:58:50,  2.70s/it]HTTP Error 404: \n",
      " 14%|█▍        | 874/6186 [39:15<3:58:34,  2.69s/it]HTTP Error 404: \n",
      " 14%|█▍        | 878/6186 [39:24<3:58:13,  2.69s/it]HTTP Error 404: \n",
      " 14%|█▍        | 883/6186 [39:45<3:58:47,  2.70s/it]HTTP Error 404: \n",
      " 15%|█▍        | 908/6186 [40:58<3:58:07,  2.71s/it]HTTP Error 404: \n",
      " 15%|█▍        | 921/6186 [41:41<3:58:19,  2.72s/it]HTTP Error 404: \n",
      " 15%|█▍        | 926/6186 [41:54<3:58:01,  2.72s/it]HTTP Error 404: \n",
      " 15%|█▌        | 943/6186 [42:36<3:56:52,  2.71s/it]HTTP Error 404: \n",
      " 15%|█▌        | 944/6186 [42:37<3:56:42,  2.71s/it]HTTP Error 404: \n",
      " 15%|█▌        | 951/6186 [42:50<3:55:47,  2.70s/it]HTTP Error 404: \n",
      " 15%|█▌        | 958/6186 [43:09<3:55:28,  2.70s/it]HTTP Error 404: \n",
      " 16%|█▌        | 964/6186 [43:24<3:55:10,  2.70s/it]HTTP Error 404: \n",
      " 16%|█▌        | 965/6186 [43:26<3:55:00,  2.70s/it]HTTP Error 404: \n",
      " 16%|█▌        | 966/6186 [43:27<3:54:51,  2.70s/it]HTTP Error 404: \n",
      " 16%|█▌        | 982/6186 [44:10<3:54:04,  2.70s/it]HTTP Error 404: \n",
      " 16%|█▋        | 1017/6186 [45:42<3:52:19,  2.70s/it]HTTP Error 404: \n",
      " 17%|█▋        | 1031/6186 [46:16<3:51:22,  2.69s/it]HTTP Error 404: \n",
      " 17%|█▋        | 1034/6186 [46:23<3:51:09,  2.69s/it]HTTP Error 404: \n",
      " 17%|█▋        | 1037/6186 [46:31<3:50:59,  2.69s/it]HTTP Error 404: \n",
      " 17%|█▋        | 1038/6186 [46:33<3:50:52,  2.69s/it]HTTP Error 404: \n",
      " 17%|█▋        | 1059/6186 [47:35<3:50:26,  2.70s/it]HTTP Error 404: \n",
      " 18%|█▊        | 1087/6186 [49:05<3:50:15,  2.71s/it]HTTP Error 404: \n",
      " 18%|█▊        | 1095/6186 [49:22<3:49:35,  2.71s/it]HTTP Error 404: \n",
      " 18%|█▊        | 1099/6186 [49:33<3:49:22,  2.71s/it]HTTP Error 404: \n",
      " 18%|█▊        | 1100/6186 [49:34<3:49:13,  2.70s/it]HTTP Error 404: \n",
      " 18%|█▊        | 1101/6186 [49:35<3:49:04,  2.70s/it]HTTP Error 404: \n",
      " 18%|█▊        | 1102/6186 [49:37<3:48:55,  2.70s/it]HTTP Error 404: \n",
      " 18%|█▊        | 1103/6186 [49:38<3:48:46,  2.70s/it]HTTP Error 404: \n",
      " 18%|█▊        | 1108/6186 [49:52<3:48:33,  2.70s/it]HTTP Error 404: \n",
      " 18%|█▊        | 1122/6186 [50:31<3:48:01,  2.70s/it]HTTP Error 404: \n",
      " 18%|█▊        | 1128/6186 [50:43<3:47:26,  2.70s/it]HTTP Error 404: \n",
      " 18%|█▊        | 1129/6186 [50:44<3:47:18,  2.70s/it]HTTP Error 404: \n",
      " 18%|█▊        | 1130/6186 [50:46<3:47:09,  2.70s/it]HTTP Error 404: \n",
      " 18%|█▊        | 1132/6186 [50:50<3:46:59,  2.69s/it]HTTP Error 404: \n",
      " 18%|█▊        | 1137/6186 [50:59<3:46:27,  2.69s/it]HTTP Error 404: \n",
      " 19%|█▊        | 1145/6186 [51:19<3:45:59,  2.69s/it]HTTP Error 404: \n",
      " 19%|█▊        | 1150/6186 [51:32<3:45:44,  2.69s/it]HTTP Error 404: \n",
      " 19%|█▊        | 1153/6186 [51:39<3:45:31,  2.69s/it]HTTP Error 404: \n",
      " 19%|█▊        | 1154/6186 [51:41<3:45:23,  2.69s/it]HTTP Error 404: \n",
      " 19%|█▊        | 1155/6186 [51:42<3:45:15,  2.69s/it]HTTP Error 404: \n",
      " 19%|█▊        | 1157/6186 [51:46<3:45:04,  2.69s/it]HTTP Error 404: \n",
      " 19%|█▊        | 1158/6186 [51:48<3:44:56,  2.68s/it]HTTP Error 404: \n",
      " 19%|█▉        | 1160/6186 [51:56<3:45:02,  2.69s/it]HTTP Error 404: \n",
      " 19%|█▉        | 1164/6186 [52:04<3:44:40,  2.68s/it]HTTP Error 404: \n",
      " 19%|█▉        | 1165/6186 [52:05<3:44:31,  2.68s/it]HTTP Error 404: \n",
      " 19%|█▉        | 1182/6186 [52:51<3:43:46,  2.68s/it]HTTP Error 404: \n",
      " 19%|█▉        | 1185/6186 [52:56<3:43:26,  2.68s/it]HTTP Error 404: \n",
      " 19%|█▉        | 1191/6186 [53:17<3:43:31,  2.69s/it]HTTP Error 404: \n",
      " 20%|█▉        | 1211/6186 [53:55<3:41:30,  2.67s/it]HTTP Error 404: \n",
      " 20%|█▉        | 1212/6186 [53:56<3:41:23,  2.67s/it]HTTP Error 404: \n",
      " 20%|█▉        | 1221/6186 [54:15<3:40:37,  2.67s/it]HTTP Error 404: \n",
      " 20%|█▉        | 1232/6186 [54:44<3:40:08,  2.67s/it]HTTP Error 404: \n",
      " 20%|██        | 1239/6186 [55:03<3:39:50,  2.67s/it]HTTP Error 404: \n",
      " 20%|██        | 1247/6186 [55:16<3:38:54,  2.66s/it]HTTP Error 404: \n",
      " 20%|██        | 1248/6186 [55:17<3:38:46,  2.66s/it]HTTP Error 404: \n",
      " 20%|██        | 1249/6186 [55:18<3:38:38,  2.66s/it]HTTP Error 404: \n",
      " 20%|██        | 1251/6186 [55:22<3:38:26,  2.66s/it]HTTP Error 404: \n",
      " 20%|██        | 1253/6186 [55:27<3:38:22,  2.66s/it]HTTP Error 404: \n",
      " 20%|██        | 1254/6186 [55:29<3:38:15,  2.66s/it]HTTP Error 404: \n",
      " 20%|██        | 1255/6186 [55:30<3:38:07,  2.65s/it]HTTP Error 404: \n",
      " 20%|██        | 1256/6186 [55:32<3:37:59,  2.65s/it]HTTP Error 404: \n",
      " 20%|██        | 1257/6186 [55:33<3:37:52,  2.65s/it]HTTP Error 404: \n",
      " 20%|██        | 1258/6186 [55:34<3:37:44,  2.65s/it]HTTP Error 404: \n",
      " 20%|██        | 1263/6186 [55:40<3:37:01,  2.64s/it]HTTP Error 404: \n",
      " 21%|██        | 1273/6186 [56:12<3:36:54,  2.65s/it]HTTP Error 404: \n",
      " 21%|██        | 1278/6186 [56:24<3:36:37,  2.65s/it]HTTP Error 404: \n",
      " 21%|██        | 1281/6186 [56:32<3:36:30,  2.65s/it]HTTP Error 404: \n",
      " 21%|██        | 1282/6186 [56:33<3:36:22,  2.65s/it]HTTP Error 404: \n",
      " 21%|██        | 1283/6186 [56:35<3:36:15,  2.65s/it]HTTP Error 404: \n",
      " 21%|██        | 1294/6186 [57:03<3:35:42,  2.65s/it]HTTP Error 404: \n",
      " 21%|██        | 1295/6186 [57:04<3:35:35,  2.64s/it]HTTP Error 404: \n",
      " 21%|██        | 1296/6186 [57:06<3:35:29,  2.64s/it]HTTP Error 404: \n",
      " 21%|██        | 1297/6186 [57:08<3:35:22,  2.64s/it]HTTP Error 404: \n",
      " 21%|██        | 1298/6186 [57:09<3:35:15,  2.64s/it]HTTP Error 404: \n",
      " 21%|██        | 1300/6186 [57:12<3:35:00,  2.64s/it]HTTP Error 404: \n",
      " 21%|██        | 1306/6186 [57:35<3:35:09,  2.65s/it]HTTP Error 404: \n",
      " 21%|██        | 1309/6186 [57:38<3:34:45,  2.64s/it]HTTP Error 404: \n",
      " 21%|██        | 1310/6186 [57:40<3:34:38,  2.64s/it]HTTP Error 404: \n",
      " 21%|██        | 1311/6186 [57:41<3:34:32,  2.64s/it]HTTP Error 404: \n",
      " 21%|██        | 1313/6186 [57:44<3:34:16,  2.64s/it]HTTP Error 404: \n",
      " 21%|██▏       | 1318/6186 [58:04<3:34:28,  2.64s/it]HTTP Error 404: \n",
      " 21%|██▏       | 1327/6186 [58:26<3:33:58,  2.64s/it]HTTP Error 404: \n",
      " 22%|██▏       | 1335/6186 [58:46<3:33:35,  2.64s/it]HTTP Error 404: \n",
      " 22%|██▏       | 1338/6186 [58:52<3:33:20,  2.64s/it]HTTP Error 404: \n",
      " 22%|██▏       | 1349/6186 [59:17<3:32:34,  2.64s/it]HTTP Error 404: \n",
      " 22%|██▏       | 1360/6186 [59:52<3:32:26,  2.64s/it]HTTP Error 404: \n",
      " 22%|██▏       | 1373/6186 [1:00:33<3:32:17,  2.65s/it]HTTP Error 404: \n",
      " 22%|██▏       | 1377/6186 [1:00:46<3:32:13,  2.65s/it]HTTP Error 404: \n",
      " 22%|██▏       | 1388/6186 [1:01:15<3:31:46,  2.65s/it]HTTP Error 404: \n",
      " 22%|██▏       | 1389/6186 [1:01:17<3:31:40,  2.65s/it]HTTP Error 404: \n",
      " 23%|██▎       | 1395/6186 [1:01:35<3:31:31,  2.65s/it]HTTP Error 404: \n",
      " 23%|██▎       | 1396/6186 [1:01:36<3:31:24,  2.65s/it]HTTP Error 404: \n",
      " 23%|██▎       | 1401/6186 [1:01:47<3:31:01,  2.65s/it]HTTP Error 404: \n",
      " 23%|██▎       | 1406/6186 [1:01:56<3:30:33,  2.64s/it]HTTP Error 404: \n",
      " 23%|██▎       | 1410/6186 [1:02:02<3:30:08,  2.64s/it]HTTP Error 404: \n",
      " 23%|██▎       | 1416/6186 [1:02:22<3:30:08,  2.64s/it]HTTP Error 404: \n",
      " 23%|██▎       | 1421/6186 [1:02:36<3:29:55,  2.64s/it]HTTP Error 404: \n",
      " 23%|██▎       | 1429/6186 [1:02:52<3:29:16,  2.64s/it]HTTP Error 404: \n",
      " 24%|██▍       | 1475/6186 [1:05:06<3:27:56,  2.65s/it]HTTP Error 404: \n",
      " 24%|██▍       | 1476/6186 [1:05:07<3:27:50,  2.65s/it]HTTP Error 404: \n",
      " 24%|██▍       | 1477/6186 [1:05:09<3:27:43,  2.65s/it]HTTP Error 404: \n",
      " 24%|██▍       | 1482/6186 [1:05:14<3:27:05,  2.64s/it]HTTP Error 404: \n",
      " 24%|██▍       | 1488/6186 [1:05:35<3:27:05,  2.64s/it]HTTP Error 404: \n",
      " 24%|██▍       | 1492/6186 [1:05:45<3:26:53,  2.64s/it]HTTP Error 404: \n",
      " 24%|██▍       | 1494/6186 [1:05:47<3:26:38,  2.64s/it]HTTP Error 404: \n",
      " 24%|██▍       | 1505/6186 [1:06:09<3:25:47,  2.64s/it]HTTP Error 404: \n",
      " 24%|██▍       | 1506/6186 [1:06:11<3:25:40,  2.64s/it]HTTP Error 404: \n",
      " 24%|██▍       | 1515/6186 [1:06:37<3:25:25,  2.64s/it]HTTP Error 404: \n",
      " 25%|██▍       | 1518/6186 [1:06:43<3:25:12,  2.64s/it]HTTP Error 404: \n",
      " 25%|██▍       | 1526/6186 [1:07:08<3:25:03,  2.64s/it]HTTP Error 404: \n",
      " 25%|██▍       | 1540/6186 [1:07:35<3:23:55,  2.63s/it]HTTP Error 404: \n",
      " 25%|██▌       | 1547/6186 [1:07:54<3:23:39,  2.63s/it]HTTP Error 404: \n",
      " 25%|██▌       | 1553/6186 [1:08:07<3:23:12,  2.63s/it]HTTP Error 404: \n",
      " 25%|██▌       | 1564/6186 [1:08:37<3:22:48,  2.63s/it]HTTP Error 404: \n",
      " 25%|██▌       | 1567/6186 [1:08:48<3:22:48,  2.63s/it]HTTP Error 404: \n",
      " 25%|██▌       | 1568/6186 [1:08:49<3:22:42,  2.63s/it]HTTP Error 404: \n",
      " 25%|██▌       | 1569/6186 [1:08:50<3:22:35,  2.63s/it]HTTP Error 404: \n",
      " 25%|██▌       | 1570/6186 [1:08:52<3:22:29,  2.63s/it]HTTP Error 404: \n",
      " 25%|██▌       | 1571/6186 [1:08:53<3:22:23,  2.63s/it]HTTP Error 404: \n",
      " 26%|██▌       | 1585/6186 [1:09:12<3:20:54,  2.62s/it]HTTP Error 404: \n",
      " 26%|██▌       | 1586/6186 [1:09:14<3:20:48,  2.62s/it]HTTP Error 404: \n",
      " 26%|██▌       | 1611/6186 [1:10:14<3:19:28,  2.62s/it]HTTP Error 404: \n",
      " 26%|██▌       | 1613/6186 [1:10:18<3:19:20,  2.62s/it]HTTP Error 404: \n",
      " 26%|██▌       | 1616/6186 [1:10:21<3:18:59,  2.61s/it]HTTP Error 404: \n",
      " 26%|██▌       | 1623/6186 [1:10:44<3:18:52,  2.62s/it]HTTP Error 404: \n",
      " 26%|██▋       | 1624/6186 [1:10:45<3:18:46,  2.61s/it]HTTP Error 404: \n",
      " 26%|██▋       | 1625/6186 [1:10:47<3:18:40,  2.61s/it]HTTP Error 404: \n",
      " 26%|██▋       | 1626/6186 [1:10:48<3:18:34,  2.61s/it]HTTP Error 404: \n",
      " 26%|██▋       | 1634/6186 [1:11:08<3:18:10,  2.61s/it]HTTP Error 404: \n",
      " 27%|██▋       | 1642/6186 [1:11:28<3:17:49,  2.61s/it]HTTP Error 404: \n",
      " 27%|██▋       | 1655/6186 [1:12:13<3:17:43,  2.62s/it]HTTP Error 404: \n",
      " 27%|██▋       | 1656/6186 [1:12:14<3:17:37,  2.62s/it]HTTP Error 404: \n",
      " 27%|██▋       | 1658/6186 [1:12:19<3:17:32,  2.62s/it]HTTP Error 404: \n",
      " 27%|██▋       | 1673/6186 [1:12:55<3:16:42,  2.62s/it]HTTP Error 404: \n",
      " 27%|██▋       | 1677/6186 [1:13:06<3:16:34,  2.62s/it]HTTP Error 404: \n",
      " 27%|██▋       | 1678/6186 [1:13:08<3:16:29,  2.62s/it]HTTP Error 404: \n",
      " 27%|██▋       | 1699/6186 [1:14:03<3:15:34,  2.62s/it]HTTP Error 404: \n",
      " 28%|██▊       | 1707/6186 [1:14:18<3:14:58,  2.61s/it]HTTP Error 404: \n",
      " 28%|██▊       | 1708/6186 [1:14:20<3:14:53,  2.61s/it]HTTP Error 404: \n",
      " 28%|██▊       | 1709/6186 [1:14:21<3:14:47,  2.61s/it]HTTP Error 404: \n",
      " 28%|██▊       | 1713/6186 [1:14:34<3:14:44,  2.61s/it]HTTP Error 404: \n",
      " 28%|██▊       | 1718/6186 [1:14:50<3:14:38,  2.61s/it]HTTP Error 404: \n",
      " 28%|██▊       | 1736/6186 [1:15:37<3:13:51,  2.61s/it]HTTP Error 404: \n",
      " 28%|██▊       | 1737/6186 [1:15:38<3:13:45,  2.61s/it]HTTP Error 404: \n",
      " 28%|██▊       | 1738/6186 [1:15:40<3:13:39,  2.61s/it]HTTP Error 404: \n",
      " 28%|██▊       | 1742/6186 [1:15:49<3:13:27,  2.61s/it]HTTP Error 404: \n",
      " 28%|██▊       | 1753/6186 [1:16:16<3:12:52,  2.61s/it]HTTP Error 404: \n",
      " 28%|██▊       | 1757/6186 [1:16:28<3:12:47,  2.61s/it]HTTP Error 404: \n",
      " 29%|██▊       | 1772/6186 [1:17:36<3:13:18,  2.63s/it]HTTP Error 404: \n",
      " 29%|██▉       | 1781/6186 [1:18:02<3:13:01,  2.63s/it]HTTP Error 404: \n",
      " 29%|██▉       | 1782/6186 [1:18:04<3:12:56,  2.63s/it]HTTP Error 404: \n",
      " 29%|██▉       | 1785/6186 [1:18:12<3:12:50,  2.63s/it]HTTP Error 404: \n",
      " 29%|██▉       | 1797/6186 [1:18:50<3:12:34,  2.63s/it]HTTP Error 404: \n",
      " 29%|██▉       | 1798/6186 [1:18:52<3:12:29,  2.63s/it]HTTP Error 404: \n",
      " 29%|██▉       | 1799/6186 [1:18:53<3:12:23,  2.63s/it]HTTP Error 404: \n",
      " 29%|██▉       | 1800/6186 [1:18:54<3:12:17,  2.63s/it]HTTP Error 404: \n",
      " 29%|██▉       | 1801/6186 [1:18:56<3:12:11,  2.63s/it]HTTP Error 404: \n",
      " 29%|██▉       | 1802/6186 [1:18:57<3:12:05,  2.63s/it]HTTP Error 404: \n",
      " 29%|██▉       | 1804/6186 [1:19:03<3:12:01,  2.63s/it]HTTP Error 404: \n",
      " 29%|██▉       | 1805/6186 [1:19:05<3:11:56,  2.63s/it]HTTP Error 404: \n",
      " 29%|██▉       | 1807/6186 [1:19:11<3:11:53,  2.63s/it]HTTP Error 404: \n",
      " 29%|██▉       | 1814/6186 [1:19:26<3:11:28,  2.63s/it]HTTP Error 404: \n",
      " 29%|██▉       | 1823/6186 [1:19:50<3:11:04,  2.63s/it]HTTP Error 404: \n",
      " 30%|██▉       | 1831/6186 [1:20:10<3:10:42,  2.63s/it]HTTP Error 404: \n",
      " 30%|██▉       | 1833/6186 [1:20:16<3:10:38,  2.63s/it]HTTP Error 404: \n",
      " 30%|██▉       | 1842/6186 [1:20:28<3:09:46,  2.62s/it]HTTP Error 404: \n",
      " 30%|██▉       | 1849/6186 [1:20:46<3:09:27,  2.62s/it]HTTP Error 404: \n",
      " 30%|███       | 1868/6186 [1:21:43<3:08:54,  2.62s/it]HTTP Error 404: \n",
      " 30%|███       | 1871/6186 [1:21:48<3:08:39,  2.62s/it]HTTP Error 404: \n",
      " 30%|███       | 1872/6186 [1:21:50<3:08:35,  2.62s/it]HTTP Error 404: \n",
      " 30%|███       | 1877/6186 [1:22:05<3:08:27,  2.62s/it]HTTP Error 404: \n",
      " 30%|███       | 1882/6186 [1:22:21<3:08:20,  2.63s/it]HTTP Error 404: \n",
      " 30%|███       | 1886/6186 [1:22:30<3:08:07,  2.63s/it]HTTP Error 404: \n",
      " 31%|███       | 1899/6186 [1:23:02<3:07:28,  2.62s/it]HTTP Error 404: \n",
      " 31%|███       | 1904/6186 [1:23:21<3:07:27,  2.63s/it]HTTP Error 404: \n",
      " 31%|███       | 1916/6186 [1:23:59<3:07:10,  2.63s/it]HTTP Error 404: \n",
      " 31%|███       | 1920/6186 [1:24:11<3:07:04,  2.63s/it]HTTP Error 404: \n",
      " 31%|███       | 1921/6186 [1:24:13<3:06:59,  2.63s/it]HTTP Error 404: \n",
      " 31%|███       | 1923/6186 [1:24:15<3:06:47,  2.63s/it]HTTP Error 404: \n",
      " 31%|███       | 1924/6186 [1:24:16<3:06:42,  2.63s/it]HTTP Error 404: \n",
      " 31%|███       | 1929/6186 [1:24:36<3:06:43,  2.63s/it]HTTP Error 404: \n",
      " 31%|███▏      | 1945/6186 [1:25:27<3:06:19,  2.64s/it]HTTP Error 404: \n",
      " 32%|███▏      | 1951/6186 [1:25:44<3:06:07,  2.64s/it]HTTP Error 404: \n",
      " 32%|███▏      | 1980/6186 [1:26:46<3:04:19,  2.63s/it]HTTP Error 404: \n",
      " 32%|███▏      | 1983/6186 [1:26:51<3:04:06,  2.63s/it]HTTP Error 404: \n",
      " 32%|███▏      | 1984/6186 [1:26:53<3:04:01,  2.63s/it]HTTP Error 404: \n",
      " 32%|███▏      | 1988/6186 [1:27:03<3:03:49,  2.63s/it]HTTP Error 404: \n",
      " 32%|███▏      | 1992/6186 [1:27:09<3:03:29,  2.63s/it]HTTP Error 404: \n",
      " 32%|███▏      | 2004/6186 [1:27:39<3:02:55,  2.62s/it]HTTP Error 404: \n",
      " 32%|███▏      | 2005/6186 [1:27:40<3:02:49,  2.62s/it]HTTP Error 404: \n",
      " 32%|███▏      | 2006/6186 [1:27:41<3:02:44,  2.62s/it]HTTP Error 404: \n",
      " 32%|███▏      | 2007/6186 [1:27:43<3:02:39,  2.62s/it]HTTP Error 404: \n",
      " 33%|███▎      | 2014/6186 [1:27:55<3:02:09,  2.62s/it]HTTP Error 404: \n",
      " 33%|███▎      | 2017/6186 [1:28:04<3:02:02,  2.62s/it]HTTP Error 404: \n",
      " 33%|███▎      | 2018/6186 [1:28:05<3:01:57,  2.62s/it]HTTP Error 404: \n",
      " 33%|███▎      | 2019/6186 [1:28:07<3:01:52,  2.62s/it]HTTP Error 404: \n",
      " 33%|███▎      | 2020/6186 [1:28:08<3:01:47,  2.62s/it]HTTP Error 404: \n",
      " 33%|███▎      | 2021/6186 [1:28:10<3:01:42,  2.62s/it]HTTP Error 404: \n",
      " 33%|███▎      | 2022/6186 [1:28:11<3:01:37,  2.62s/it]HTTP Error 404: \n",
      " 33%|███▎      | 2023/6186 [1:28:13<3:01:32,  2.62s/it]HTTP Error 404: \n",
      " 33%|███▎      | 2036/6186 [1:28:53<3:01:12,  2.62s/it]HTTP Error 404: \n",
      " 33%|███▎      | 2050/6186 [1:29:32<3:00:39,  2.62s/it]HTTP Error 404: \n",
      " 33%|███▎      | 2051/6186 [1:29:34<3:00:34,  2.62s/it]HTTP Error 404: \n",
      " 33%|███▎      | 2054/6186 [1:29:41<3:00:26,  2.62s/it]HTTP Error 404: \n",
      " 33%|███▎      | 2056/6186 [1:29:46<3:00:20,  2.62s/it]HTTP Error 404: \n",
      " 33%|███▎      | 2057/6186 [1:29:48<3:00:16,  2.62s/it]HTTP Error 404: \n",
      " 33%|███▎      | 2058/6186 [1:29:49<3:00:11,  2.62s/it]HTTP Error 404: \n",
      " 33%|███▎      | 2063/6186 [1:29:59<2:59:50,  2.62s/it]HTTP Error 404: \n",
      " 33%|███▎      | 2064/6186 [1:30:00<2:59:45,  2.62s/it]HTTP Error 404: \n",
      " 33%|███▎      | 2069/6186 [1:30:13<2:59:31,  2.62s/it]HTTP Error 404: \n",
      " 33%|███▎      | 2070/6186 [1:30:14<2:59:27,  2.62s/it]HTTP Error 404: \n",
      " 33%|███▎      | 2072/6186 [1:30:17<2:59:16,  2.61s/it]HTTP Error 404: \n",
      " 34%|███▎      | 2073/6186 [1:30:18<2:59:10,  2.61s/it]HTTP Error 404: \n",
      " 34%|███▎      | 2074/6186 [1:30:20<2:59:05,  2.61s/it]HTTP Error 404: \n",
      " 34%|███▎      | 2075/6186 [1:30:21<2:59:01,  2.61s/it]HTTP Error 404: \n",
      " 34%|███▎      | 2076/6186 [1:30:22<2:58:56,  2.61s/it]HTTP Error 404: \n",
      " 34%|███▎      | 2077/6186 [1:30:24<2:58:51,  2.61s/it]HTTP Error 404: \n",
      " 34%|███▎      | 2080/6186 [1:30:27<2:58:34,  2.61s/it]HTTP Error 404: \n",
      " 34%|███▎      | 2081/6186 [1:30:29<2:58:29,  2.61s/it]HTTP Error 404: \n",
      " 34%|███▎      | 2082/6186 [1:30:30<2:58:24,  2.61s/it]HTTP Error 404: \n",
      " 34%|███▎      | 2083/6186 [1:30:31<2:58:19,  2.61s/it]HTTP Error 404: \n",
      " 34%|███▎      | 2084/6186 [1:30:33<2:58:14,  2.61s/it]HTTP Error 404: \n",
      " 34%|███▍      | 2088/6186 [1:30:44<2:58:06,  2.61s/it]HTTP Error 404: \n",
      " 34%|███▍      | 2089/6186 [1:30:46<2:58:00,  2.61s/it]HTTP Error 404: \n",
      " 34%|███▍      | 2096/6186 [1:31:09<2:57:53,  2.61s/it]HTTP Error 404: \n",
      " 34%|███▍      | 2111/6186 [1:31:42<2:57:01,  2.61s/it]HTTP Error 404: \n",
      " 34%|███▍      | 2112/6186 [1:31:43<2:56:56,  2.61s/it]HTTP Error 404: \n",
      " 34%|███▍      | 2113/6186 [1:31:45<2:56:51,  2.61s/it]HTTP Error 404: \n",
      " 34%|███▍      | 2114/6186 [1:31:46<2:56:46,  2.60s/it]HTTP Error 404: \n",
      " 34%|███▍      | 2126/6186 [1:32:01<2:55:43,  2.60s/it]HTTP Error 404: \n",
      " 34%|███▍      | 2127/6186 [1:32:02<2:55:38,  2.60s/it]HTTP Error 404: \n",
      " 34%|███▍      | 2128/6186 [1:32:03<2:55:33,  2.60s/it]HTTP Error 404: \n",
      " 34%|███▍      | 2129/6186 [1:32:05<2:55:28,  2.60s/it]HTTP Error 404: \n",
      " 34%|███▍      | 2133/6186 [1:32:13<2:55:13,  2.59s/it]HTTP Error 404: \n",
      " 35%|███▍      | 2147/6186 [1:32:43<2:54:26,  2.59s/it]HTTP Error 404: \n",
      " 35%|███▍      | 2148/6186 [1:32:45<2:54:21,  2.59s/it]HTTP Error 404: \n",
      " 35%|███▍      | 2149/6186 [1:32:46<2:54:17,  2.59s/it]HTTP Error 404: \n",
      " 35%|███▍      | 2150/6186 [1:32:48<2:54:12,  2.59s/it]HTTP Error 404: \n",
      " 35%|███▍      | 2151/6186 [1:32:49<2:54:07,  2.59s/it]HTTP Error 404: \n",
      " 35%|███▍      | 2158/6186 [1:32:57<2:53:29,  2.58s/it]HTTP Error 404: \n",
      " 35%|███▍      | 2163/6186 [1:33:13<2:53:22,  2.59s/it]HTTP Error 404: \n",
      " 35%|███▌      | 2166/6186 [1:33:16<2:53:07,  2.58s/it]HTTP Error 404: \n",
      " 35%|███▌      | 2172/6186 [1:33:31<2:52:49,  2.58s/it]HTTP Error 404: \n",
      " 35%|███▌      | 2176/6186 [1:33:46<2:52:49,  2.59s/it]HTTP Error 404: \n",
      " 35%|███▌      | 2177/6186 [1:33:48<2:52:44,  2.59s/it]HTTP Error 404: \n",
      " 35%|███▌      | 2178/6186 [1:33:49<2:52:39,  2.58s/it]HTTP Error 404: \n",
      " 35%|███▌      | 2179/6186 [1:33:51<2:52:35,  2.58s/it]HTTP Error 404: \n",
      " 35%|███▌      | 2186/6186 [1:34:19<2:52:35,  2.59s/it]HTTP Error 404: \n",
      " 35%|███▌      | 2187/6186 [1:34:20<2:52:30,  2.59s/it]HTTP Error 404: \n",
      " 35%|███▌      | 2188/6186 [1:34:21<2:52:25,  2.59s/it]HTTP Error 404: \n",
      " 36%|███▌      | 2197/6186 [1:34:41<2:51:56,  2.59s/it]HTTP Error 404: \n",
      " 36%|███▌      | 2198/6186 [1:34:43<2:51:51,  2.59s/it]HTTP Error 404: \n",
      " 36%|███▌      | 2199/6186 [1:34:44<2:51:47,  2.59s/it]HTTP Error 404: \n",
      " 36%|███▌      | 2200/6186 [1:34:46<2:51:42,  2.58s/it]HTTP Error 404: \n",
      " 36%|███▌      | 2202/6186 [1:34:52<2:51:39,  2.59s/it]HTTP Error 404: \n",
      " 36%|███▌      | 2203/6186 [1:34:54<2:51:35,  2.58s/it]HTTP Error 404: \n",
      " 36%|███▌      | 2207/6186 [1:34:58<2:51:14,  2.58s/it]HTTP Error 404: \n",
      " 36%|███▌      | 2209/6186 [1:35:04<2:51:09,  2.58s/it]HTTP Error 404: \n",
      " 36%|███▌      | 2212/6186 [1:35:07<2:50:54,  2.58s/it]HTTP Error 404: \n",
      " 36%|███▌      | 2213/6186 [1:35:09<2:50:49,  2.58s/it]HTTP Error 404: \n",
      " 36%|███▌      | 2218/6186 [1:35:23<2:50:39,  2.58s/it]HTTP Error 404: \n",
      " 36%|███▌      | 2219/6186 [1:35:24<2:50:34,  2.58s/it]HTTP Error 404: \n",
      " 36%|███▌      | 2221/6186 [1:35:31<2:50:31,  2.58s/it]HTTP Error 404: \n",
      " 36%|███▌      | 2222/6186 [1:35:32<2:50:27,  2.58s/it]HTTP Error 404: \n",
      " 36%|███▌      | 2223/6186 [1:35:34<2:50:22,  2.58s/it]HTTP Error 404: \n",
      " 36%|███▌      | 2228/6186 [1:35:55<2:50:25,  2.58s/it]HTTP Error 404: \n",
      " 37%|███▋      | 2274/6186 [1:38:47<2:49:57,  2.61s/it]HTTP Error 404: \n",
      " 37%|███▋      | 2275/6186 [1:38:49<2:49:53,  2.61s/it]HTTP Error 404: \n",
      " 37%|███▋      | 2278/6186 [1:38:56<2:49:44,  2.61s/it]HTTP Error 404: \n",
      " 37%|███▋      | 2297/6186 [1:39:52<2:49:06,  2.61s/it]HTTP Error 404: \n",
      " 37%|███▋      | 2298/6186 [1:39:54<2:49:01,  2.61s/it]HTTP Error 404: \n",
      " 37%|███▋      | 2301/6186 [1:40:02<2:48:55,  2.61s/it]HTTP Error 404: \n",
      " 37%|███▋      | 2302/6186 [1:40:04<2:48:50,  2.61s/it]HTTP Error 404: \n",
      " 37%|███▋      | 2303/6186 [1:40:05<2:48:45,  2.61s/it]HTTP Error 404: \n",
      " 37%|███▋      | 2312/6186 [1:40:34<2:48:31,  2.61s/it]HTTP Error 404: \n",
      " 37%|███▋      | 2314/6186 [1:40:37<2:48:21,  2.61s/it]HTTP Error 404: \n",
      " 38%|███▊      | 2345/6186 [1:42:19<2:47:36,  2.62s/it]HTTP Error 404: \n",
      " 38%|███▊      | 2357/6186 [1:42:47<2:46:58,  2.62s/it]HTTP Error 404: \n",
      " 38%|███▊      | 2358/6186 [1:42:48<2:46:54,  2.62s/it]HTTP Error 404: \n",
      " 38%|███▊      | 2359/6186 [1:42:50<2:46:49,  2.62s/it]HTTP Error 404: \n",
      " 38%|███▊      | 2374/6186 [1:43:39<2:46:26,  2.62s/it]HTTP Error 404: \n",
      " 38%|███▊      | 2375/6186 [1:43:40<2:46:22,  2.62s/it]HTTP Error 404: \n",
      " 38%|███▊      | 2376/6186 [1:43:42<2:46:17,  2.62s/it]HTTP Error 404: \n",
      " 39%|███▊      | 2387/6186 [1:44:07<2:45:43,  2.62s/it]HTTP Error 404: \n",
      " 39%|███▊      | 2394/6186 [1:44:31<2:45:33,  2.62s/it]HTTP Error 404: \n",
      " 39%|███▉      | 2399/6186 [1:44:36<2:45:08,  2.62s/it]HTTP Error 404: \n",
      " 39%|███▉      | 2401/6186 [1:44:41<2:45:02,  2.62s/it]HTTP Error 404: \n",
      " 39%|███▉      | 2405/6186 [1:44:52<2:44:52,  2.62s/it]HTTP Error 404: \n",
      " 39%|███▉      | 2406/6186 [1:44:53<2:44:47,  2.62s/it]HTTP Error 404: \n",
      " 39%|███▉      | 2407/6186 [1:44:54<2:44:42,  2.62s/it]HTTP Error 404: \n",
      " 39%|███▉      | 2411/6186 [1:45:06<2:44:33,  2.62s/it]HTTP Error 404: \n",
      " 39%|███▉      | 2418/6186 [1:45:27<2:44:20,  2.62s/it]HTTP Error 404: \n",
      " 39%|███▉      | 2419/6186 [1:45:29<2:44:16,  2.62s/it]HTTP Error 404: \n",
      " 39%|███▉      | 2420/6186 [1:45:30<2:44:11,  2.62s/it]HTTP Error 404: \n",
      " 39%|███▉      | 2421/6186 [1:45:31<2:44:06,  2.62s/it]HTTP Error 404: \n",
      " 39%|███▉      | 2422/6186 [1:45:33<2:44:02,  2.61s/it]HTTP Error 404: \n",
      " 39%|███▉      | 2423/6186 [1:45:34<2:43:57,  2.61s/it]HTTP Error 404: \n",
      " 39%|███▉      | 2424/6186 [1:45:36<2:43:53,  2.61s/it]HTTP Error 404: \n",
      " 39%|███▉      | 2425/6186 [1:45:37<2:43:48,  2.61s/it]HTTP Error 404: \n",
      " 39%|███▉      | 2426/6186 [1:45:38<2:43:44,  2.61s/it]HTTP Error 404: \n",
      " 39%|███▉      | 2427/6186 [1:45:40<2:43:39,  2.61s/it]HTTP Error 404: \n",
      " 39%|███▉      | 2429/6186 [1:45:42<2:43:29,  2.61s/it]HTTP Error 404: \n",
      " 39%|███▉      | 2430/6186 [1:45:43<2:43:25,  2.61s/it]HTTP Error 404: \n",
      " 39%|███▉      | 2431/6186 [1:45:44<2:43:20,  2.61s/it]HTTP Error 404: \n",
      " 39%|███▉      | 2432/6186 [1:45:46<2:43:16,  2.61s/it]HTTP Error 404: \n",
      " 39%|███▉      | 2433/6186 [1:45:47<2:43:11,  2.61s/it]HTTP Error 404: \n",
      " 39%|███▉      | 2442/6186 [1:46:06<2:42:40,  2.61s/it]HTTP Error 404: \n",
      " 40%|███▉      | 2445/6186 [1:46:13<2:42:32,  2.61s/it]HTTP Error 404: \n",
      " 40%|████      | 2479/6186 [1:47:11<2:40:17,  2.59s/it]HTTP Error 404: \n",
      " 40%|████      | 2483/6186 [1:47:15<2:39:58,  2.59s/it]HTTP Error 404: \n",
      " 40%|████      | 2484/6186 [1:47:17<2:39:54,  2.59s/it]HTTP Error 404: \n",
      " 40%|████      | 2485/6186 [1:47:18<2:39:49,  2.59s/it]HTTP Error 404: \n",
      " 40%|████      | 2491/6186 [1:47:33<2:39:32,  2.59s/it]HTTP Error 404: \n",
      " 40%|████      | 2492/6186 [1:47:34<2:39:28,  2.59s/it]HTTP Error 404: \n",
      " 40%|████      | 2493/6186 [1:47:36<2:39:23,  2.59s/it]HTTP Error 404: \n",
      " 40%|████      | 2494/6186 [1:47:37<2:39:19,  2.59s/it]HTTP Error 404: \n",
      " 40%|████      | 2495/6186 [1:47:39<2:39:15,  2.59s/it]HTTP Error 404: \n",
      " 40%|████      | 2496/6186 [1:47:40<2:39:10,  2.59s/it]HTTP Error 404: \n",
      " 40%|████      | 2497/6186 [1:47:41<2:39:06,  2.59s/it]HTTP Error 404: \n",
      " 40%|████      | 2498/6186 [1:47:43<2:39:02,  2.59s/it]HTTP Error 404: \n",
      " 40%|████      | 2499/6186 [1:47:44<2:38:57,  2.59s/it]HTTP Error 404: \n",
      " 40%|████      | 2500/6186 [1:47:45<2:38:53,  2.59s/it]HTTP Error 404: \n",
      " 40%|████      | 2501/6186 [1:47:47<2:38:49,  2.59s/it]HTTP Error 404: \n",
      " 40%|████      | 2502/6186 [1:47:48<2:38:44,  2.59s/it]HTTP Error 404: \n",
      " 40%|████      | 2503/6186 [1:47:50<2:38:40,  2.58s/it]HTTP Error 404: \n",
      " 41%|████      | 2515/6186 [1:48:24<2:38:14,  2.59s/it]HTTP Error 404: \n",
      " 41%|████      | 2516/6186 [1:48:26<2:38:10,  2.59s/it]HTTP Error 404: \n",
      " 41%|████      | 2518/6186 [1:48:28<2:38:01,  2.58s/it]HTTP Error 404: \n",
      " 41%|████      | 2522/6186 [1:48:38<2:37:50,  2.58s/it]HTTP Error 404: \n",
      " 41%|████      | 2526/6186 [1:48:54<2:37:48,  2.59s/it]HTTP Error 404: \n",
      " 41%|████      | 2542/6186 [1:49:52<2:37:30,  2.59s/it]HTTP Error 404: \n",
      " 41%|████      | 2550/6186 [1:50:12<2:37:08,  2.59s/it]HTTP Error 404: \n",
      " 41%|████▏     | 2562/6186 [1:50:47<2:36:43,  2.59s/it]HTTP Error 404: \n",
      " 41%|████▏     | 2563/6186 [1:50:48<2:36:38,  2.59s/it]HTTP Error 404: \n",
      " 42%|████▏     | 2573/6186 [1:51:22<2:36:23,  2.60s/it]HTTP Error 404: \n",
      " 42%|████▏     | 2583/6186 [1:51:47<2:35:55,  2.60s/it]HTTP Error 404: \n",
      " 42%|████▏     | 2584/6186 [1:51:48<2:35:51,  2.60s/it]HTTP Error 404: \n",
      " 42%|████▏     | 2603/6186 [1:52:36<2:35:00,  2.60s/it]HTTP Error 404: \n",
      " 42%|████▏     | 2604/6186 [1:52:38<2:34:56,  2.60s/it]HTTP Error 404: \n",
      " 42%|████▏     | 2605/6186 [1:52:39<2:34:52,  2.59s/it]HTTP Error 404: \n",
      " 42%|████▏     | 2606/6186 [1:52:41<2:34:48,  2.59s/it]HTTP Error 404: \n",
      " 42%|████▏     | 2607/6186 [1:52:42<2:34:44,  2.59s/it]HTTP Error 404: \n",
      " 42%|████▏     | 2608/6186 [1:52:43<2:34:39,  2.59s/it]HTTP Error 404: \n",
      " 42%|████▏     | 2610/6186 [1:52:50<2:34:36,  2.59s/it]HTTP Error 404: \n",
      " 42%|████▏     | 2613/6186 [1:52:59<2:34:30,  2.59s/it]HTTP Error 404: \n",
      " 42%|████▏     | 2622/6186 [1:53:24<2:34:09,  2.60s/it]HTTP Error 404: \n",
      " 42%|████▏     | 2623/6186 [1:53:26<2:34:05,  2.59s/it]HTTP Error 404: \n",
      " 42%|████▏     | 2625/6186 [1:53:28<2:33:56,  2.59s/it]HTTP Error 404: \n",
      " 43%|████▎     | 2633/6186 [1:53:57<2:33:46,  2.60s/it]HTTP Error 404: \n",
      " 43%|████▎     | 2644/6186 [1:54:22<2:33:13,  2.60s/it]HTTP Error 404: \n",
      " 43%|████▎     | 2653/6186 [1:54:37<2:32:39,  2.59s/it]HTTP Error 404: \n",
      " 43%|████▎     | 2654/6186 [1:54:39<2:32:35,  2.59s/it]HTTP Error 404: \n",
      " 43%|████▎     | 2655/6186 [1:54:40<2:32:30,  2.59s/it]HTTP Error 404: \n",
      " 43%|████▎     | 2656/6186 [1:54:42<2:32:26,  2.59s/it]HTTP Error 404: \n",
      " 43%|████▎     | 2657/6186 [1:54:43<2:32:22,  2.59s/it]HTTP Error 404: \n",
      " 43%|████▎     | 2660/6186 [1:54:49<2:32:12,  2.59s/it]HTTP Error 404: \n",
      " 43%|████▎     | 2667/6186 [1:55:00<2:31:44,  2.59s/it]HTTP Error 404: \n",
      " 43%|████▎     | 2669/6186 [1:55:05<2:31:39,  2.59s/it]HTTP Error 404: \n",
      " 43%|████▎     | 2671/6186 [1:55:11<2:31:35,  2.59s/it]HTTP Error 404: \n",
      " 43%|████▎     | 2682/6186 [1:55:42<2:31:10,  2.59s/it]HTTP Error 404: \n",
      " 44%|████▎     | 2694/6186 [1:56:22<2:30:51,  2.59s/it]HTTP Error 404: \n",
      " 44%|████▍     | 2713/6186 [1:57:07<2:29:56,  2.59s/it]HTTP Error 404: \n",
      " 44%|████▍     | 2718/6186 [1:57:19<2:29:41,  2.59s/it]HTTP Error 404: \n",
      " 44%|████▍     | 2725/6186 [1:57:50<2:29:39,  2.59s/it]HTTP Error 404: \n",
      " 44%|████▍     | 2729/6186 [1:58:01<2:29:30,  2.59s/it]HTTP Error 404: \n",
      " 44%|████▍     | 2732/6186 [1:58:09<2:29:22,  2.59s/it]HTTP Error 404: \n",
      " 45%|████▍     | 2756/6186 [1:59:14<2:28:24,  2.60s/it]HTTP Error 404: \n",
      " 45%|████▍     | 2757/6186 [1:59:16<2:28:20,  2.60s/it]HTTP Error 404: \n",
      " 45%|████▍     | 2759/6186 [1:59:21<2:28:15,  2.60s/it]HTTP Error 404: \n",
      " 45%|████▍     | 2764/6186 [1:59:39<2:28:09,  2.60s/it]HTTP Error 404: \n",
      " 45%|████▍     | 2765/6186 [1:59:41<2:28:05,  2.60s/it]HTTP Error 404: \n",
      " 45%|████▍     | 2766/6186 [1:59:42<2:28:01,  2.60s/it]HTTP Error 404: \n",
      " 45%|████▍     | 2771/6186 [1:59:49<2:27:40,  2.59s/it]HTTP Error 404: \n",
      " 45%|████▍     | 2781/6186 [2:00:16<2:27:15,  2.59s/it]HTTP Error 404: \n",
      " 45%|████▌     | 2788/6186 [2:00:39<2:27:03,  2.60s/it]HTTP Error 404: \n",
      " 45%|████▌     | 2797/6186 [2:01:00<2:26:36,  2.60s/it]HTTP Error 404: \n",
      " 45%|████▌     | 2814/6186 [2:01:43<2:25:51,  2.60s/it]HTTP Error 404: \n",
      " 46%|████▌     | 2828/6186 [2:02:18<2:25:13,  2.59s/it]HTTP Error 404: \n",
      " 46%|████▌     | 2832/6186 [2:02:27<2:25:01,  2.59s/it]HTTP Error 404: \n",
      " 46%|████▌     | 2835/6186 [2:02:30<2:24:48,  2.59s/it]HTTP Error 404: \n",
      " 46%|████▌     | 2836/6186 [2:02:32<2:24:44,  2.59s/it]HTTP Error 404: \n",
      " 46%|████▌     | 2837/6186 [2:02:33<2:24:40,  2.59s/it]HTTP Error 404: \n",
      " 46%|████▌     | 2839/6186 [2:02:35<2:24:32,  2.59s/it]HTTP Error 404: \n",
      " 46%|████▌     | 2843/6186 [2:02:43<2:24:18,  2.59s/it]HTTP Error 404: \n",
      " 46%|████▌     | 2844/6186 [2:02:44<2:24:14,  2.59s/it]HTTP Error 404: \n",
      " 46%|████▌     | 2847/6186 [2:02:51<2:24:05,  2.59s/it]HTTP Error 404: \n",
      " 46%|████▌     | 2853/6186 [2:03:04<2:23:46,  2.59s/it]HTTP Error 404: \n",
      " 46%|████▋     | 2866/6186 [2:03:47<2:23:24,  2.59s/it]HTTP Error 404: \n",
      " 47%|████▋     | 2880/6186 [2:04:37<2:23:03,  2.60s/it]HTTP Error 404: \n",
      " 47%|████▋     | 2886/6186 [2:04:54<2:22:49,  2.60s/it]HTTP Error 404: \n",
      " 47%|████▋     | 2904/6186 [2:05:44<2:22:06,  2.60s/it]HTTP Error 404: \n",
      " 47%|████▋     | 2912/6186 [2:06:08<2:21:49,  2.60s/it]HTTP Error 404: \n",
      " 47%|████▋     | 2915/6186 [2:06:16<2:21:42,  2.60s/it]HTTP Error 404: \n",
      " 47%|████▋     | 2923/6186 [2:06:36<2:21:20,  2.60s/it]HTTP Error 404: \n",
      " 47%|████▋     | 2935/6186 [2:07:12<2:20:54,  2.60s/it]HTTP Error 404: \n",
      " 48%|████▊     | 2939/6186 [2:07:26<2:20:48,  2.60s/it]HTTP Error 404: \n",
      " 48%|████▊     | 2959/6186 [2:08:18<2:19:55,  2.60s/it]HTTP Error 404: \n",
      " 48%|████▊     | 2978/6186 [2:09:05<2:19:03,  2.60s/it]HTTP Error 404: \n",
      " 48%|████▊     | 2982/6186 [2:09:13<2:18:50,  2.60s/it]HTTP Error 404: \n",
      " 48%|████▊     | 2990/6186 [2:09:29<2:18:24,  2.60s/it]HTTP Error 404: \n",
      " 48%|████▊     | 2991/6186 [2:09:30<2:18:20,  2.60s/it]HTTP Error 404: \n",
      " 48%|████▊     | 2993/6186 [2:09:35<2:18:15,  2.60s/it]HTTP Error 404: \n",
      " 49%|████▊     | 3004/6186 [2:10:15<2:17:58,  2.60s/it]HTTP Error 404: \n",
      " 49%|████▊     | 3008/6186 [2:10:29<2:17:52,  2.60s/it]HTTP Error 404: \n",
      " 49%|████▉     | 3023/6186 [2:11:22<2:17:27,  2.61s/it]HTTP Error 404: \n",
      " 49%|████▉     | 3024/6186 [2:11:23<2:17:23,  2.61s/it]HTTP Error 404: \n",
      " 49%|████▉     | 3025/6186 [2:11:25<2:17:20,  2.61s/it]HTTP Error 404: \n",
      " 49%|████▉     | 3026/6186 [2:11:27<2:17:16,  2.61s/it]HTTP Error 404: \n",
      " 49%|████▉     | 3027/6186 [2:11:28<2:17:12,  2.61s/it]HTTP Error 404: \n",
      " 49%|████▉     | 3037/6186 [2:11:58<2:16:50,  2.61s/it]HTTP Error 404: \n",
      " 49%|████▉     | 3039/6186 [2:12:05<2:16:47,  2.61s/it]HTTP Error 404: \n",
      " 49%|████▉     | 3050/6186 [2:12:33<2:16:18,  2.61s/it]HTTP Error 404: \n",
      " 50%|█████     | 3093/6186 [2:14:08<2:14:08,  2.60s/it]HTTP Error 404: \n",
      " 50%|█████     | 3094/6186 [2:14:09<2:14:04,  2.60s/it]HTTP Error 404: \n",
      " 50%|█████     | 3095/6186 [2:14:10<2:14:00,  2.60s/it]HTTP Error 404: \n",
      " 50%|█████     | 3096/6186 [2:14:12<2:13:56,  2.60s/it]HTTP Error 404: \n",
      " 50%|█████     | 3097/6186 [2:14:13<2:13:52,  2.60s/it]HTTP Error 404: \n",
      " 51%|█████     | 3151/6186 [2:16:00<2:10:59,  2.59s/it]HTTP Error 404: \n",
      " 52%|█████▏    | 3205/6186 [2:17:59<2:08:20,  2.58s/it]HTTP Error 404: \n",
      " 52%|█████▏    | 3206/6186 [2:18:00<2:08:17,  2.58s/it]HTTP Error 404: \n",
      " 53%|█████▎    | 3266/6186 [2:20:08<2:05:18,  2.57s/it]HTTP Error 404: \n",
      " 53%|█████▎    | 3267/6186 [2:20:10<2:05:14,  2.57s/it]HTTP Error 404: \n",
      " 53%|█████▎    | 3268/6186 [2:20:11<2:05:10,  2.57s/it]HTTP Error 404: \n",
      " 54%|█████▎    | 3320/6186 [2:22:06<2:02:40,  2.57s/it]HTTP Error 404: \n",
      " 54%|█████▍    | 3333/6186 [2:22:40<2:02:07,  2.57s/it]HTTP Error 404: \n",
      " 54%|█████▍    | 3350/6186 [2:23:16<2:01:17,  2.57s/it]HTTP Error 404: \n",
      " 54%|█████▍    | 3355/6186 [2:23:28<2:01:04,  2.57s/it]HTTP Error 404: \n",
      " 54%|█████▍    | 3361/6186 [2:23:38<2:00:43,  2.56s/it]HTTP Error 404: \n",
      " 55%|█████▍    | 3391/6186 [2:24:37<1:59:12,  2.56s/it]HTTP Error 404: \n",
      " 55%|█████▌    | 3427/6186 [2:26:00<1:57:33,  2.56s/it]HTTP Error 404: \n",
      " 56%|█████▋    | 3487/6186 [2:28:16<1:54:45,  2.55s/it]HTTP Error 404: \n",
      " 56%|█████▋    | 3490/6186 [2:28:19<1:54:34,  2.55s/it]HTTP Error 404: \n",
      " 57%|█████▋    | 3546/6186 [2:30:51<1:52:19,  2.55s/it]HTTP Error 404: \n",
      " 58%|█████▊    | 3596/6186 [2:33:08<1:50:18,  2.56s/it]HTTP Error 404: \n",
      " 58%|█████▊    | 3597/6186 [2:33:10<1:50:14,  2.55s/it]HTTP Error 404: \n",
      " 58%|█████▊    | 3602/6186 [2:33:18<1:49:59,  2.55s/it]HTTP Error 404: \n",
      " 58%|█████▊    | 3607/6186 [2:33:24<1:49:41,  2.55s/it]HTTP Error 404: \n",
      " 60%|█████▉    | 3686/6186 [2:36:33<1:46:11,  2.55s/it]\n",
      "1 Failed download:\n",
      "['CRESW']: YFInvalidPeriodError(\"CRESW: Period 'max' is invalid, must be one of: 1d, 5d\")\n",
      "\n",
      "1 Failed download:\n",
      "['CRESW']: YFInvalidPeriodError(\"CRESW: Period 'max' is invalid, must be one of: 1d, 5d\")\n",
      "\n",
      "1 Failed download:\n",
      "['CRESW']: YFInvalidPeriodError(\"CRESW: Period 'max' is invalid, must be one of: 1d, 5d\")\n",
      "\n",
      "1 Failed download:\n",
      "['CRESW']: YFInvalidPeriodError(\"CRESW: Period 'max' is invalid, must be one of: 1d, 5d\")\n",
      "\n",
      "1 Failed download:\n",
      "['CRESW']: YFInvalidPeriodError(\"CRESW: Period 'max' is invalid, must be one of: 1d, 5d\")\n",
      "\n",
      "1 Failed download:\n",
      "['CRESW']: YFInvalidPeriodError(\"CRESW: Period 'max' is invalid, must be one of: 1d, 5d\")\n",
      "\n",
      "1 Failed download:\n",
      "['CRESW']: YFInvalidPeriodError(\"CRESW: Period 'max' is invalid, must be one of: 1d, 5d\")\n",
      " 60%|█████▉    | 3689/6186 [2:36:42<1:46:04,  2.55s/it]HTTP Error 404: \n",
      " 61%|██████    | 3768/6186 [2:40:06<1:42:44,  2.55s/it]HTTP Error 404: \n",
      " 62%|██████▏   | 3846/6186 [2:43:02<1:39:11,  2.54s/it]HTTP Error 404: \n",
      " 63%|██████▎   | 3903/6186 [2:45:01<1:36:31,  2.54s/it]HTTP Error 404: \n",
      " 64%|██████▍   | 3979/6186 [2:48:02<1:33:12,  2.53s/it]HTTP Error 404: \n",
      " 65%|██████▍   | 3990/6186 [2:48:35<1:32:47,  2.54s/it]HTTP Error 404: \n",
      " 65%|██████▍   | 4017/6186 [2:49:35<1:31:34,  2.53s/it]HTTP Error 404: \n",
      " 65%|██████▌   | 4030/6186 [2:50:08<1:31:01,  2.53s/it]HTTP Error 404: \n",
      " 66%|██████▌   | 4084/6186 [2:52:11<1:28:37,  2.53s/it]HTTP Error 404: \n",
      " 66%|██████▋   | 4102/6186 [2:52:57<1:27:52,  2.53s/it]HTTP Error 404: \n",
      " 66%|██████▋   | 4103/6186 [2:52:58<1:27:48,  2.53s/it]HTTP Error 404: \n",
      " 67%|██████▋   | 4115/6186 [2:53:33<1:27:20,  2.53s/it]HTTP Error 404: \n",
      " 67%|██████▋   | 4136/6186 [2:54:25<1:26:27,  2.53s/it]HTTP Error 404: \n",
      " 67%|██████▋   | 4150/6186 [2:54:54<1:25:48,  2.53s/it]HTTP Error 404: \n",
      " 67%|██████▋   | 4158/6186 [2:55:09<1:25:25,  2.53s/it]HTTP Error 404: \n",
      " 68%|██████▊   | 4225/6186 [2:57:51<1:22:32,  2.53s/it]HTTP Error 404: \n",
      " 69%|██████▉   | 4259/6186 [2:59:04<1:21:01,  2.52s/it]HTTP Error 404: \n",
      " 69%|██████▉   | 4261/6186 [2:59:06<1:20:54,  2.52s/it]HTTP Error 404: \n",
      " 69%|██████▉   | 4276/6186 [2:59:37<1:20:14,  2.52s/it]HTTP Error 404: \n",
      " 69%|██████▉   | 4284/6186 [2:59:58<1:19:54,  2.52s/it]HTTP Error 404: \n",
      " 70%|██████▉   | 4328/6186 [3:01:46<1:18:01,  2.52s/it]HTTP Error 404: \n",
      " 70%|███████   | 4360/6186 [3:02:50<1:16:34,  2.52s/it]HTTP Error 404: \n",
      " 71%|███████   | 4404/6186 [3:04:26<1:14:37,  2.51s/it]HTTP Error 404: \n",
      " 71%|███████▏  | 4414/6186 [3:04:54<1:14:13,  2.51s/it]HTTP Error 404: \n",
      " 73%|███████▎  | 4497/6186 [3:08:13<1:10:41,  2.51s/it]HTTP Error 404: \n",
      " 75%|███████▍  | 4628/6186 [3:13:11<1:05:02,  2.50s/it]HTTP Error 404: \n",
      " 75%|███████▌  | 4656/6186 [3:14:17<1:03:50,  2.50s/it]HTTP Error 404: \n",
      " 75%|███████▌  | 4658/6186 [3:14:19<1:03:44,  2.50s/it]HTTP Error 404: \n",
      " 77%|███████▋  | 4779/6186 [3:19:33<58:45,  2.51s/it]  HTTP Error 404: \n",
      " 78%|███████▊  | 4796/6186 [3:20:15<58:02,  2.51s/it]HTTP Error 404: \n",
      " 78%|███████▊  | 4811/6186 [3:20:58<57:26,  2.51s/it]HTTP Error 404: \n",
      " 79%|███████▉  | 4897/6186 [3:24:17<53:46,  2.50s/it]HTTP Error 404: \n",
      " 80%|███████▉  | 4948/6186 [3:26:13<51:35,  2.50s/it]HTTP Error 404: \n",
      " 81%|████████  | 5001/6186 [3:28:29<49:24,  2.50s/it]HTTP Error 404: \n",
      " 83%|████████▎ | 5104/6186 [3:32:13<44:59,  2.49s/it]HTTP Error 404: \n",
      " 84%|████████▎ | 5177/6186 [3:35:16<41:57,  2.50s/it]HTTP Error 404: \n",
      " 84%|████████▎ | 5178/6186 [3:35:18<41:54,  2.49s/it]HTTP Error 404: \n",
      " 84%|████████▎ | 5179/6186 [3:35:19<41:52,  2.49s/it]HTTP Error 404: \n",
      " 84%|████████▍ | 5190/6186 [3:35:43<41:23,  2.49s/it]HTTP Error 404: \n",
      " 84%|████████▍ | 5221/6186 [3:36:51<40:04,  2.49s/it]HTTP Error 404: \n",
      " 84%|████████▍ | 5223/6186 [3:36:54<39:59,  2.49s/it]HTTP Error 404: \n",
      " 84%|████████▍ | 5225/6186 [3:36:59<39:54,  2.49s/it]HTTP Error 404: \n",
      " 85%|████████▍ | 5235/6186 [3:37:32<39:31,  2.49s/it]HTTP Error 404: \n",
      " 85%|████████▌ | 5272/6186 [3:39:20<38:01,  2.50s/it]HTTP Error 404: \n",
      " 86%|████████▌ | 5308/6186 [3:40:52<36:32,  2.50s/it]HTTP Error 404: \n",
      " 87%|████████▋ | 5364/6186 [3:42:45<34:08,  2.49s/it]HTTP Error 404: \n",
      " 87%|████████▋ | 5376/6186 [3:43:13<33:37,  2.49s/it]HTTP Error 404: \n",
      " 88%|████████▊ | 5454/6186 [3:46:10<30:21,  2.49s/it]HTTP Error 404: \n",
      " 88%|████████▊ | 5459/6186 [3:46:22<30:08,  2.49s/it]HTTP Error 404: \n",
      " 89%|████████▉ | 5527/6186 [3:48:53<27:17,  2.48s/it]HTTP Error 404: \n",
      " 91%|█████████ | 5622/6186 [3:53:03<23:22,  2.49s/it]HTTP Error 404: \n",
      " 92%|█████████▏| 5663/6186 [3:54:13<21:37,  2.48s/it]HTTP Error 404: \n",
      " 92%|█████████▏| 5722/6186 [3:56:24<19:10,  2.48s/it]HTTP Error 404: \n",
      " 93%|█████████▎| 5732/6186 [3:56:45<18:45,  2.48s/it]HTTP Error 404: \n",
      " 93%|█████████▎| 5737/6186 [3:56:57<18:32,  2.48s/it]HTTP Error 404: \n",
      " 93%|█████████▎| 5749/6186 [3:57:29<18:03,  2.48s/it]HTTP Error 404: \n",
      " 93%|█████████▎| 5764/6186 [3:58:07<17:26,  2.48s/it]HTTP Error 404: \n",
      " 93%|█████████▎| 5780/6186 [3:58:44<16:46,  2.48s/it]HTTP Error 404: \n",
      " 94%|█████████▎| 5786/6186 [3:58:54<16:31,  2.48s/it]HTTP Error 404: \n",
      " 94%|█████████▍| 5819/6186 [4:00:12<15:08,  2.48s/it]HTTP Error 404: \n",
      " 94%|█████████▍| 5821/6186 [4:00:17<15:04,  2.48s/it]HTTP Error 404: \n",
      " 95%|█████████▍| 5854/6186 [4:02:28<13:45,  2.49s/it]HTTP Error 404: \n",
      " 97%|█████████▋| 5981/6186 [4:11:16<08:36,  2.52s/it]HTTP Error 404: \n",
      " 97%|█████████▋| 5990/6186 [4:11:45<08:14,  2.52s/it]HTTP Error 404: \n",
      " 97%|█████████▋| 6002/6186 [4:12:20<07:44,  2.52s/it]HTTP Error 404: \n",
      " 97%|█████████▋| 6004/6186 [4:12:25<07:39,  2.52s/it]HTTP Error 404: \n",
      " 97%|█████████▋| 6012/6186 [4:13:00<07:19,  2.52s/it]HTTP Error 404: \n",
      " 98%|█████████▊| 6061/6186 [4:15:54<05:16,  2.53s/it]HTTP Error 404: \n",
      " 98%|█████████▊| 6072/6186 [4:16:42<04:49,  2.54s/it]HTTP Error 404: \n",
      " 98%|█████████▊| 6074/6186 [4:16:48<04:44,  2.54s/it]HTTP Error 404: \n",
      " 98%|█████████▊| 6078/6186 [4:17:00<04:34,  2.54s/it]HTTP Error 404: \n",
      " 98%|█████████▊| 6083/6186 [4:17:13<04:21,  2.54s/it]HTTP Error 404: \n",
      " 98%|█████████▊| 6085/6186 [4:17:17<04:16,  2.54s/it]HTTP Error 404: \n",
      " 98%|█████████▊| 6093/6186 [4:17:50<03:56,  2.54s/it]HTTP Error 404: \n",
      " 99%|█████████▊| 6094/6186 [4:17:51<03:53,  2.54s/it]HTTP Error 404: \n",
      " 99%|█████████▊| 6105/6186 [4:18:36<03:25,  2.54s/it]HTTP Error 404: \n",
      " 99%|█████████▉| 6125/6186 [4:19:59<02:35,  2.55s/it]HTTP Error 404: \n",
      " 99%|█████████▉| 6133/6186 [4:20:22<02:15,  2.55s/it]HTTP Error 404: \n",
      " 99%|█████████▉| 6149/6186 [4:21:16<01:34,  2.55s/it]HTTP Error 404: \n",
      "100%|█████████▉| 6156/6186 [4:21:36<01:16,  2.55s/it]HTTP Error 404: \n",
      "100%|█████████▉| 6182/6186 [4:23:29<00:10,  2.56s/it]HTTP Error 404: \n",
      "100%|██████████| 6186/6186 [4:23:42<00:00,  2.56s/it]\n"
     ]
    }
   ],
   "source": [
    "if build_new_dataset:\n",
    "    df = pd.DataFrame()\n",
    "    filtered_pd = pd.read_csv(\"../data/tickers/model_filtered_tickers.csv\")\n",
    "    for symbol in tqdm(symbols, smoothing=0):\n",
    "        ticker_df = pd.DataFrame()\n",
    "        ticker = yf.Ticker(symbol)\n",
    "        stock = Stock(symbol)\n",
    "        try:\n",
    "            ticker_df = Stock(symbol).get_df_financials()\n",
    "            if ticker_df.isna().sum().sum() < round(29 * minimum_feature_threshold):\n",
    "                if symbol not in filtered_pd[\"Ticker\"].tolist():\n",
    "                    filtered_pd = pd.concat([filtered_pd, pd.DataFrame([{\"Ticker\": symbol}])])\n",
    "                imputer = SimpleImputer()\n",
    "                for column in ticker_df.columns.drop([\"Ticker\", \"Name\", \"Date\", \"3M Future Change\", \"Sector\", \"Industry\"]):\n",
    "                    if not ticker_df[column].isna().all():\n",
    "                        ticker_df[column] = imputer.fit_transform(ticker_df[[column]])\n",
    "            else:\n",
    "                if symbol in filtered_pd[\"Ticker\"].tolist():\n",
    "                    filtered_pd = filtered_pd[filtered_pd[\"Ticker\"] != symbol]\n",
    "                    if debugging:\n",
    "                        print(f\"Removed {symbol} from filtered tickers. Datapoints: {ticker_df.isna().sum().sum()}, Needed: {round(29 * minimum_feature_threshold)}\")\n",
    "                continue\n",
    "            df = pd.concat([df, ticker_df], ignore_index=True)\n",
    "        except Exception as error:\n",
    "            if symbol in filtered_pd[\"Ticker\"].tolist():\n",
    "                filtered_pd = filtered_pd[filtered_pd[\"Ticker\"] != symbol]\n",
    "                if debugging:\n",
    "                    print(f\"Removed {symbol} from filtered tickers because an exception was raised \\n {error}\")\n",
    "            else:\n",
    "                if debugging:\n",
    "                    print(f\"{symbol}: exception raised: {error}\")\n",
    "            continue\n",
    "    filtered_pd.to_csv(\"../data/tickers/model_filtered_tickers.csv\", index=False)\n",
    "    df.to_csv(\"../data/model_results/earnings_data.csv\", index=False)\n",
    "else:\n",
    "    df = pd.read_csv(\"../data/model_results/earnings_data.csv\")"
   ]
  },
  {
   "cell_type": "markdown",
   "metadata": {},
   "source": [
    "### Short visualisation"
   ]
  },
  {
   "cell_type": "code",
   "execution_count": 7,
   "metadata": {},
   "outputs": [],
   "source": [
    "if debugging:\n",
    "    display(df)"
   ]
  },
  {
   "cell_type": "markdown",
   "metadata": {},
   "source": [
    "### Impution and encoding"
   ]
  },
  {
   "cell_type": "code",
   "execution_count": 8,
   "metadata": {},
   "outputs": [],
   "source": [
    "imputer = SimpleImputer()\n",
    "scaler = StandardScaler()\n",
    "for column in df.columns.drop([\"Ticker\", \"Name\", \"Date\", \"Earn Index\", \"3M Future Change\", \"Sector\", \"Industry\"]):\n",
    "    df[column] = imputer.fit_transform(df[[column]])\n",
    "    scaler.fit(df[[column]])\n",
    "    df[column] = scaler.transform(df[[column]])\n",
    "\n",
    "le = LabelEncoder()\n",
    "for column in [\"Ticker\", \"Sector\", \"Industry\"]:\n",
    "    df[column] = df[column].astype(str)\n",
    "    le.fit(df[column])\n",
    "    df[column] = le.transform(df[column])"
   ]
  },
  {
   "cell_type": "markdown",
   "metadata": {},
   "source": [
    "### Splitting"
   ]
  },
  {
   "cell_type": "code",
   "execution_count": 9,
   "metadata": {},
   "outputs": [],
   "source": [
    "pred_data = df.loc[df[\"Earn Index\"] == 0].copy()\n",
    "test_data  = df.loc[df[\"Earn Index\"] == 1].copy()\n",
    "train_data = df.loc[~df[\"Earn Index\"].isin([0, 1])].copy()\n",
    "\n",
    "pred_data.reset_index(drop=True, inplace=True)\n",
    "test_data.reset_index(drop=True, inplace=True)\n",
    "train_data.reset_index(drop=True, inplace=True)\n",
    "\n",
    "if debugging:\n",
    "    print('Prediction Data:')\n",
    "    display(pred_data)\n",
    "    print(\"Test Data:\")\n",
    "    display(test_data)\n",
    "    print('Training Data:')\n",
    "    display(train_data)"
   ]
  },
  {
   "cell_type": "markdown",
   "metadata": {},
   "source": [
    "### Labeling"
   ]
  },
  {
   "cell_type": "code",
   "execution_count": 10,
   "metadata": {},
   "outputs": [],
   "source": [
    "training_columns = train_data.columns.drop([\"Name\", \"Sector\", \"Industry\", \"Date\", '3M Future Change'])\n",
    "label_columns = ['3M Future Change']\n",
    "X_pred = pred_data[training_columns]\n",
    "X_test = test_data[training_columns]\n",
    "y_test = test_data[label_columns]\n",
    "X_train = train_data[training_columns]\n",
    "y_train = train_data[label_columns]\n",
    "if debugging:\n",
    "    print(\"X_pred:\")\n",
    "    display(X_pred)\n",
    "    print(\"X_test:\")\n",
    "    display(X_test)\n",
    "    print(\"y_test:\")\n",
    "    display(y_test)\n",
    "    print(\"X_train:\")\n",
    "    display(X_train)\n",
    "    print(\"y_train:\")\n",
    "    display(y_train)"
   ]
  },
  {
   "cell_type": "markdown",
   "metadata": {},
   "source": [
    "## Model Training"
   ]
  },
  {
   "cell_type": "code",
   "execution_count": 11,
   "metadata": {},
   "outputs": [
    {
     "name": "stdout",
     "output_type": "stream",
     "text": [
      "Trying: 5 layers, 166 neurons per layer, iter_no_change=3\n",
      "Hidden layer sizes: (166, 166, 166, 166, 166)\n"
     ]
    },
    {
     "name": "stderr",
     "output_type": "stream",
     "text": [
      "c:\\Users\\Gamer\\AppData\\Local\\Programs\\Python\\Python313\\Lib\\site-packages\\sklearn\\neural_network\\_multilayer_perceptron.py:1771: DataConversionWarning: A column-vector y was passed when a 1d array was expected. Please change the shape of y to (n_samples, ), for example using ravel().\n",
      "  y = column_or_1d(y, warn=True)\n"
     ]
    },
    {
     "name": "stdout",
     "output_type": "stream",
     "text": [
      "Training completed. Iterations: 16, Final score: -0.0768 \n",
      " =================================================================\n",
      "Trying: 5 layers, 166 neurons per layer, iter_no_change=3\n",
      "Hidden layer sizes: (166, 166, 166, 166, 166)\n"
     ]
    },
    {
     "name": "stderr",
     "output_type": "stream",
     "text": [
      "c:\\Users\\Gamer\\AppData\\Local\\Programs\\Python\\Python313\\Lib\\site-packages\\sklearn\\neural_network\\_multilayer_perceptron.py:1771: DataConversionWarning: A column-vector y was passed when a 1d array was expected. Please change the shape of y to (n_samples, ), for example using ravel().\n",
      "  y = column_or_1d(y, warn=True)\n"
     ]
    },
    {
     "name": "stdout",
     "output_type": "stream",
     "text": [
      "Training completed. Iterations: 25, Final score: -0.0529 \n",
      " =================================================================\n",
      "Trying: 2 layers, 325 neurons per layer, iter_no_change=3\n",
      "Hidden layer sizes: (325, 325)\n"
     ]
    },
    {
     "name": "stderr",
     "output_type": "stream",
     "text": [
      "c:\\Users\\Gamer\\AppData\\Local\\Programs\\Python\\Python313\\Lib\\site-packages\\sklearn\\neural_network\\_multilayer_perceptron.py:1771: DataConversionWarning: A column-vector y was passed when a 1d array was expected. Please change the shape of y to (n_samples, ), for example using ravel().\n",
      "  y = column_or_1d(y, warn=True)\n"
     ]
    },
    {
     "name": "stdout",
     "output_type": "stream",
     "text": [
      "Training completed. Iterations: 18, Final score: -0.4077 \n",
      " =================================================================\n",
      "Trying: 2 layers, 325 neurons per layer, iter_no_change=3\n",
      "Hidden layer sizes: (325, 325)\n"
     ]
    },
    {
     "name": "stderr",
     "output_type": "stream",
     "text": [
      "c:\\Users\\Gamer\\AppData\\Local\\Programs\\Python\\Python313\\Lib\\site-packages\\sklearn\\neural_network\\_multilayer_perceptron.py:1771: DataConversionWarning: A column-vector y was passed when a 1d array was expected. Please change the shape of y to (n_samples, ), for example using ravel().\n",
      "  y = column_or_1d(y, warn=True)\n"
     ]
    },
    {
     "name": "stdout",
     "output_type": "stream",
     "text": [
      "Training completed. Iterations: 20, Final score: -0.4372 \n",
      " =================================================================\n",
      "Trying: 6 layers, 288 neurons per layer, iter_no_change=3\n",
      "Hidden layer sizes: (288, 288, 288, 288, 288, 288)\n"
     ]
    },
    {
     "name": "stderr",
     "output_type": "stream",
     "text": [
      "c:\\Users\\Gamer\\AppData\\Local\\Programs\\Python\\Python313\\Lib\\site-packages\\sklearn\\neural_network\\_multilayer_perceptron.py:1771: DataConversionWarning: A column-vector y was passed when a 1d array was expected. Please change the shape of y to (n_samples, ), for example using ravel().\n",
      "  y = column_or_1d(y, warn=True)\n"
     ]
    },
    {
     "name": "stdout",
     "output_type": "stream",
     "text": [
      "Training completed. Iterations: 16, Final score: -0.0344 \n",
      " =================================================================\n",
      "Trying: 6 layers, 288 neurons per layer, iter_no_change=3\n",
      "Hidden layer sizes: (288, 288, 288, 288, 288, 288)\n"
     ]
    },
    {
     "name": "stderr",
     "output_type": "stream",
     "text": [
      "c:\\Users\\Gamer\\AppData\\Local\\Programs\\Python\\Python313\\Lib\\site-packages\\sklearn\\neural_network\\_multilayer_perceptron.py:1771: DataConversionWarning: A column-vector y was passed when a 1d array was expected. Please change the shape of y to (n_samples, ), for example using ravel().\n",
      "  y = column_or_1d(y, warn=True)\n"
     ]
    },
    {
     "name": "stdout",
     "output_type": "stream",
     "text": [
      "Training completed. Iterations: 15, Final score: 0.0056 \n",
      " =================================================================\n",
      "Trying: 3 layers, 458 neurons per layer, iter_no_change=3\n",
      "Hidden layer sizes: (458, 458, 458)\n"
     ]
    },
    {
     "name": "stderr",
     "output_type": "stream",
     "text": [
      "c:\\Users\\Gamer\\AppData\\Local\\Programs\\Python\\Python313\\Lib\\site-packages\\sklearn\\neural_network\\_multilayer_perceptron.py:1771: DataConversionWarning: A column-vector y was passed when a 1d array was expected. Please change the shape of y to (n_samples, ), for example using ravel().\n",
      "  y = column_or_1d(y, warn=True)\n"
     ]
    },
    {
     "name": "stdout",
     "output_type": "stream",
     "text": [
      "Training completed. Iterations: 16, Final score: -0.0699 \n",
      " =================================================================\n",
      "Trying: 3 layers, 458 neurons per layer, iter_no_change=3\n",
      "Hidden layer sizes: (458, 458, 458)\n"
     ]
    },
    {
     "name": "stderr",
     "output_type": "stream",
     "text": [
      "c:\\Users\\Gamer\\AppData\\Local\\Programs\\Python\\Python313\\Lib\\site-packages\\sklearn\\neural_network\\_multilayer_perceptron.py:1771: DataConversionWarning: A column-vector y was passed when a 1d array was expected. Please change the shape of y to (n_samples, ), for example using ravel().\n",
      "  y = column_or_1d(y, warn=True)\n"
     ]
    },
    {
     "name": "stdout",
     "output_type": "stream",
     "text": [
      "Training completed. Iterations: 15, Final score: -0.0955 \n",
      " =================================================================\n",
      "Trying: 8 layers, 189 neurons per layer, iter_no_change=3\n",
      "Hidden layer sizes: (189, 189, 189, 189, 189, 189, 189, 189)\n"
     ]
    },
    {
     "name": "stderr",
     "output_type": "stream",
     "text": [
      "c:\\Users\\Gamer\\AppData\\Local\\Programs\\Python\\Python313\\Lib\\site-packages\\sklearn\\neural_network\\_multilayer_perceptron.py:1771: DataConversionWarning: A column-vector y was passed when a 1d array was expected. Please change the shape of y to (n_samples, ), for example using ravel().\n",
      "  y = column_or_1d(y, warn=True)\n"
     ]
    },
    {
     "name": "stdout",
     "output_type": "stream",
     "text": [
      "Training completed. Iterations: 12, Final score: -0.0522 \n",
      " =================================================================\n",
      "Trying: 8 layers, 189 neurons per layer, iter_no_change=3\n",
      "Hidden layer sizes: (189, 189, 189, 189, 189, 189, 189, 189)\n"
     ]
    },
    {
     "name": "stderr",
     "output_type": "stream",
     "text": [
      "c:\\Users\\Gamer\\AppData\\Local\\Programs\\Python\\Python313\\Lib\\site-packages\\sklearn\\neural_network\\_multilayer_perceptron.py:1771: DataConversionWarning: A column-vector y was passed when a 1d array was expected. Please change the shape of y to (n_samples, ), for example using ravel().\n",
      "  y = column_or_1d(y, warn=True)\n"
     ]
    },
    {
     "name": "stdout",
     "output_type": "stream",
     "text": [
      "Training completed. Iterations: 19, Final score: -0.0506 \n",
      " =================================================================\n",
      "Trying: 5 layers, 397 neurons per layer, iter_no_change=3\n",
      "Hidden layer sizes: (397, 397, 397, 397, 397)\n"
     ]
    },
    {
     "name": "stderr",
     "output_type": "stream",
     "text": [
      "c:\\Users\\Gamer\\AppData\\Local\\Programs\\Python\\Python313\\Lib\\site-packages\\sklearn\\neural_network\\_multilayer_perceptron.py:1771: DataConversionWarning: A column-vector y was passed when a 1d array was expected. Please change the shape of y to (n_samples, ), for example using ravel().\n",
      "  y = column_or_1d(y, warn=True)\n"
     ]
    },
    {
     "name": "stdout",
     "output_type": "stream",
     "text": [
      "Training completed. Iterations: 17, Final score: -0.0012 \n",
      " =================================================================\n",
      "Trying: 5 layers, 397 neurons per layer, iter_no_change=3\n",
      "Hidden layer sizes: (397, 397, 397, 397, 397)\n"
     ]
    },
    {
     "name": "stderr",
     "output_type": "stream",
     "text": [
      "c:\\Users\\Gamer\\AppData\\Local\\Programs\\Python\\Python313\\Lib\\site-packages\\sklearn\\neural_network\\_multilayer_perceptron.py:1771: DataConversionWarning: A column-vector y was passed when a 1d array was expected. Please change the shape of y to (n_samples, ), for example using ravel().\n",
      "  y = column_or_1d(y, warn=True)\n"
     ]
    },
    {
     "name": "stdout",
     "output_type": "stream",
     "text": [
      "Training completed. Iterations: 12, Final score: 0.0023 \n",
      " =================================================================\n",
      "Trying: 7 layers, 372 neurons per layer, iter_no_change=3\n",
      "Hidden layer sizes: (372, 372, 372, 372, 372, 372, 372)\n"
     ]
    },
    {
     "name": "stderr",
     "output_type": "stream",
     "text": [
      "c:\\Users\\Gamer\\AppData\\Local\\Programs\\Python\\Python313\\Lib\\site-packages\\sklearn\\neural_network\\_multilayer_perceptron.py:1771: DataConversionWarning: A column-vector y was passed when a 1d array was expected. Please change the shape of y to (n_samples, ), for example using ravel().\n",
      "  y = column_or_1d(y, warn=True)\n"
     ]
    },
    {
     "name": "stdout",
     "output_type": "stream",
     "text": [
      "Training completed. Iterations: 5, Final score: -0.3096 \n",
      " =================================================================\n",
      "Trying: 7 layers, 372 neurons per layer, iter_no_change=3\n",
      "Hidden layer sizes: (372, 372, 372, 372, 372, 372, 372)\n"
     ]
    },
    {
     "name": "stderr",
     "output_type": "stream",
     "text": [
      "c:\\Users\\Gamer\\AppData\\Local\\Programs\\Python\\Python313\\Lib\\site-packages\\sklearn\\neural_network\\_multilayer_perceptron.py:1771: DataConversionWarning: A column-vector y was passed when a 1d array was expected. Please change the shape of y to (n_samples, ), for example using ravel().\n",
      "  y = column_or_1d(y, warn=True)\n"
     ]
    },
    {
     "name": "stdout",
     "output_type": "stream",
     "text": [
      "Training completed. Iterations: 9, Final score: -0.7477 \n",
      " =================================================================\n",
      "Trying: 2 layers, 205 neurons per layer, iter_no_change=3\n",
      "Hidden layer sizes: (205, 205)\n"
     ]
    },
    {
     "name": "stderr",
     "output_type": "stream",
     "text": [
      "c:\\Users\\Gamer\\AppData\\Local\\Programs\\Python\\Python313\\Lib\\site-packages\\sklearn\\neural_network\\_multilayer_perceptron.py:1771: DataConversionWarning: A column-vector y was passed when a 1d array was expected. Please change the shape of y to (n_samples, ), for example using ravel().\n",
      "  y = column_or_1d(y, warn=True)\n"
     ]
    },
    {
     "name": "stdout",
     "output_type": "stream",
     "text": [
      "Training completed. Iterations: 23, Final score: -0.1130 \n",
      " =================================================================\n",
      "Trying: 2 layers, 205 neurons per layer, iter_no_change=3\n",
      "Hidden layer sizes: (205, 205)\n"
     ]
    },
    {
     "name": "stderr",
     "output_type": "stream",
     "text": [
      "c:\\Users\\Gamer\\AppData\\Local\\Programs\\Python\\Python313\\Lib\\site-packages\\sklearn\\neural_network\\_multilayer_perceptron.py:1771: DataConversionWarning: A column-vector y was passed when a 1d array was expected. Please change the shape of y to (n_samples, ), for example using ravel().\n",
      "  y = column_or_1d(y, warn=True)\n"
     ]
    },
    {
     "name": "stdout",
     "output_type": "stream",
     "text": [
      "Training completed. Iterations: 25, Final score: -0.4866 \n",
      " =================================================================\n",
      "Trying: 4 layers, 305 neurons per layer, iter_no_change=3\n",
      "Hidden layer sizes: (305, 305, 305, 305)\n"
     ]
    },
    {
     "name": "stderr",
     "output_type": "stream",
     "text": [
      "c:\\Users\\Gamer\\AppData\\Local\\Programs\\Python\\Python313\\Lib\\site-packages\\sklearn\\neural_network\\_multilayer_perceptron.py:1771: DataConversionWarning: A column-vector y was passed when a 1d array was expected. Please change the shape of y to (n_samples, ), for example using ravel().\n",
      "  y = column_or_1d(y, warn=True)\n"
     ]
    },
    {
     "name": "stdout",
     "output_type": "stream",
     "text": [
      "Training completed. Iterations: 16, Final score: -0.0707 \n",
      " =================================================================\n",
      "Trying: 4 layers, 305 neurons per layer, iter_no_change=3\n",
      "Hidden layer sizes: (305, 305, 305, 305)\n"
     ]
    },
    {
     "name": "stderr",
     "output_type": "stream",
     "text": [
      "c:\\Users\\Gamer\\AppData\\Local\\Programs\\Python\\Python313\\Lib\\site-packages\\sklearn\\neural_network\\_multilayer_perceptron.py:1771: DataConversionWarning: A column-vector y was passed when a 1d array was expected. Please change the shape of y to (n_samples, ), for example using ravel().\n",
      "  y = column_or_1d(y, warn=True)\n"
     ]
    },
    {
     "name": "stdout",
     "output_type": "stream",
     "text": [
      "Training completed. Iterations: 9, Final score: -0.1930 \n",
      " =================================================================\n",
      "Trying: 4 layers, 449 neurons per layer, iter_no_change=3\n",
      "Hidden layer sizes: (449, 449, 449, 449)\n"
     ]
    },
    {
     "name": "stderr",
     "output_type": "stream",
     "text": [
      "c:\\Users\\Gamer\\AppData\\Local\\Programs\\Python\\Python313\\Lib\\site-packages\\sklearn\\neural_network\\_multilayer_perceptron.py:1771: DataConversionWarning: A column-vector y was passed when a 1d array was expected. Please change the shape of y to (n_samples, ), for example using ravel().\n",
      "  y = column_or_1d(y, warn=True)\n"
     ]
    },
    {
     "name": "stdout",
     "output_type": "stream",
     "text": [
      "Training completed. Iterations: 15, Final score: -0.0546 \n",
      " =================================================================\n",
      "Trying: 4 layers, 449 neurons per layer, iter_no_change=3\n",
      "Hidden layer sizes: (449, 449, 449, 449)\n"
     ]
    },
    {
     "name": "stderr",
     "output_type": "stream",
     "text": [
      "c:\\Users\\Gamer\\AppData\\Local\\Programs\\Python\\Python313\\Lib\\site-packages\\sklearn\\neural_network\\_multilayer_perceptron.py:1771: DataConversionWarning: A column-vector y was passed when a 1d array was expected. Please change the shape of y to (n_samples, ), for example using ravel().\n",
      "  y = column_or_1d(y, warn=True)\n"
     ]
    },
    {
     "name": "stdout",
     "output_type": "stream",
     "text": [
      "Training completed. Iterations: 14, Final score: -0.0013 \n",
      " =================================================================\n",
      "Trying: 7 layers, 390 neurons per layer, iter_no_change=3\n",
      "Hidden layer sizes: (390, 390, 390, 390, 390, 390, 390)\n"
     ]
    },
    {
     "name": "stderr",
     "output_type": "stream",
     "text": [
      "c:\\Users\\Gamer\\AppData\\Local\\Programs\\Python\\Python313\\Lib\\site-packages\\sklearn\\neural_network\\_multilayer_perceptron.py:1771: DataConversionWarning: A column-vector y was passed when a 1d array was expected. Please change the shape of y to (n_samples, ), for example using ravel().\n",
      "  y = column_or_1d(y, warn=True)\n"
     ]
    },
    {
     "name": "stdout",
     "output_type": "stream",
     "text": [
      "Training completed. Iterations: 8, Final score: -4.1673 \n",
      " =================================================================\n",
      "Trying: 7 layers, 390 neurons per layer, iter_no_change=3\n",
      "Hidden layer sizes: (390, 390, 390, 390, 390, 390, 390)\n"
     ]
    },
    {
     "name": "stderr",
     "output_type": "stream",
     "text": [
      "c:\\Users\\Gamer\\AppData\\Local\\Programs\\Python\\Python313\\Lib\\site-packages\\sklearn\\neural_network\\_multilayer_perceptron.py:1771: DataConversionWarning: A column-vector y was passed when a 1d array was expected. Please change the shape of y to (n_samples, ), for example using ravel().\n",
      "  y = column_or_1d(y, warn=True)\n"
     ]
    },
    {
     "name": "stdout",
     "output_type": "stream",
     "text": [
      "Training completed. Iterations: 8, Final score: -0.0143 \n",
      " =================================================================\n",
      "Trying: 5 layers, 500 neurons per layer, iter_no_change=3\n",
      "Hidden layer sizes: (500, 500, 500, 500, 500)\n"
     ]
    },
    {
     "name": "stderr",
     "output_type": "stream",
     "text": [
      "c:\\Users\\Gamer\\AppData\\Local\\Programs\\Python\\Python313\\Lib\\site-packages\\sklearn\\neural_network\\_multilayer_perceptron.py:1771: DataConversionWarning: A column-vector y was passed when a 1d array was expected. Please change the shape of y to (n_samples, ), for example using ravel().\n",
      "  y = column_or_1d(y, warn=True)\n"
     ]
    },
    {
     "name": "stdout",
     "output_type": "stream",
     "text": [
      "Training completed. Iterations: 9, Final score: -0.0131 \n",
      " =================================================================\n",
      "Trying: 5 layers, 500 neurons per layer, iter_no_change=3\n",
      "Hidden layer sizes: (500, 500, 500, 500, 500)\n"
     ]
    },
    {
     "name": "stderr",
     "output_type": "stream",
     "text": [
      "c:\\Users\\Gamer\\AppData\\Local\\Programs\\Python\\Python313\\Lib\\site-packages\\sklearn\\neural_network\\_multilayer_perceptron.py:1771: DataConversionWarning: A column-vector y was passed when a 1d array was expected. Please change the shape of y to (n_samples, ), for example using ravel().\n",
      "  y = column_or_1d(y, warn=True)\n"
     ]
    },
    {
     "name": "stdout",
     "output_type": "stream",
     "text": [
      "Training completed. Iterations: 10, Final score: -0.1701 \n",
      " =================================================================\n",
      "Trying: 6 layers, 118 neurons per layer, iter_no_change=3\n",
      "Hidden layer sizes: (118, 118, 118, 118, 118, 118)\n"
     ]
    },
    {
     "name": "stderr",
     "output_type": "stream",
     "text": [
      "c:\\Users\\Gamer\\AppData\\Local\\Programs\\Python\\Python313\\Lib\\site-packages\\sklearn\\neural_network\\_multilayer_perceptron.py:1771: DataConversionWarning: A column-vector y was passed when a 1d array was expected. Please change the shape of y to (n_samples, ), for example using ravel().\n",
      "  y = column_or_1d(y, warn=True)\n"
     ]
    },
    {
     "name": "stdout",
     "output_type": "stream",
     "text": [
      "Training completed. Iterations: 10, Final score: -0.0217 \n",
      " =================================================================\n",
      "Trying: 6 layers, 118 neurons per layer, iter_no_change=3\n",
      "Hidden layer sizes: (118, 118, 118, 118, 118, 118)\n"
     ]
    },
    {
     "name": "stderr",
     "output_type": "stream",
     "text": [
      "c:\\Users\\Gamer\\AppData\\Local\\Programs\\Python\\Python313\\Lib\\site-packages\\sklearn\\neural_network\\_multilayer_perceptron.py:1771: DataConversionWarning: A column-vector y was passed when a 1d array was expected. Please change the shape of y to (n_samples, ), for example using ravel().\n",
      "  y = column_or_1d(y, warn=True)\n"
     ]
    },
    {
     "name": "stdout",
     "output_type": "stream",
     "text": [
      "Training completed. Iterations: 12, Final score: -0.1370 \n",
      " =================================================================\n",
      "Trying: 8 layers, 462 neurons per layer, iter_no_change=3\n",
      "Hidden layer sizes: (462, 462, 462, 462, 462, 462, 462, 462)\n"
     ]
    },
    {
     "name": "stderr",
     "output_type": "stream",
     "text": [
      "c:\\Users\\Gamer\\AppData\\Local\\Programs\\Python\\Python313\\Lib\\site-packages\\sklearn\\neural_network\\_multilayer_perceptron.py:1771: DataConversionWarning: A column-vector y was passed when a 1d array was expected. Please change the shape of y to (n_samples, ), for example using ravel().\n",
      "  y = column_or_1d(y, warn=True)\n"
     ]
    },
    {
     "name": "stdout",
     "output_type": "stream",
     "text": [
      "Training completed. Iterations: 8, Final score: -0.1025 \n",
      " =================================================================\n",
      "Trying: 8 layers, 462 neurons per layer, iter_no_change=3\n",
      "Hidden layer sizes: (462, 462, 462, 462, 462, 462, 462, 462)\n"
     ]
    },
    {
     "name": "stderr",
     "output_type": "stream",
     "text": [
      "c:\\Users\\Gamer\\AppData\\Local\\Programs\\Python\\Python313\\Lib\\site-packages\\sklearn\\neural_network\\_multilayer_perceptron.py:1771: DataConversionWarning: A column-vector y was passed when a 1d array was expected. Please change the shape of y to (n_samples, ), for example using ravel().\n",
      "  y = column_or_1d(y, warn=True)\n"
     ]
    },
    {
     "name": "stdout",
     "output_type": "stream",
     "text": [
      "Training completed. Iterations: 17, Final score: 0.0149 \n",
      " =================================================================\n",
      "Trying: 6 layers, 500 neurons per layer, iter_no_change=3\n",
      "Hidden layer sizes: (500, 500, 500, 500, 500, 500)\n"
     ]
    },
    {
     "name": "stderr",
     "output_type": "stream",
     "text": [
      "c:\\Users\\Gamer\\AppData\\Local\\Programs\\Python\\Python313\\Lib\\site-packages\\sklearn\\neural_network\\_multilayer_perceptron.py:1771: DataConversionWarning: A column-vector y was passed when a 1d array was expected. Please change the shape of y to (n_samples, ), for example using ravel().\n",
      "  y = column_or_1d(y, warn=True)\n"
     ]
    },
    {
     "name": "stdout",
     "output_type": "stream",
     "text": [
      "Training completed. Iterations: 10, Final score: -0.0230 \n",
      " =================================================================\n",
      "Trying: 6 layers, 500 neurons per layer, iter_no_change=3\n",
      "Hidden layer sizes: (500, 500, 500, 500, 500, 500)\n"
     ]
    },
    {
     "name": "stderr",
     "output_type": "stream",
     "text": [
      "c:\\Users\\Gamer\\AppData\\Local\\Programs\\Python\\Python313\\Lib\\site-packages\\sklearn\\neural_network\\_multilayer_perceptron.py:1771: DataConversionWarning: A column-vector y was passed when a 1d array was expected. Please change the shape of y to (n_samples, ), for example using ravel().\n",
      "  y = column_or_1d(y, warn=True)\n"
     ]
    },
    {
     "name": "stdout",
     "output_type": "stream",
     "text": [
      "Training completed. Iterations: 12, Final score: -0.0651 \n",
      " =================================================================\n",
      "Trying: 6 layers, 500 neurons per layer, iter_no_change=3\n",
      "Hidden layer sizes: (500, 500, 500, 500, 500, 500)\n"
     ]
    },
    {
     "name": "stderr",
     "output_type": "stream",
     "text": [
      "c:\\Users\\Gamer\\AppData\\Local\\Programs\\Python\\Python313\\Lib\\site-packages\\sklearn\\neural_network\\_multilayer_perceptron.py:1771: DataConversionWarning: A column-vector y was passed when a 1d array was expected. Please change the shape of y to (n_samples, ), for example using ravel().\n",
      "  y = column_or_1d(y, warn=True)\n"
     ]
    },
    {
     "name": "stdout",
     "output_type": "stream",
     "text": [
      "Training completed. Iterations: 11, Final score: -0.0217 \n",
      " =================================================================\n",
      "Trying: 6 layers, 500 neurons per layer, iter_no_change=3\n",
      "Hidden layer sizes: (500, 500, 500, 500, 500, 500)\n"
     ]
    },
    {
     "name": "stderr",
     "output_type": "stream",
     "text": [
      "c:\\Users\\Gamer\\AppData\\Local\\Programs\\Python\\Python313\\Lib\\site-packages\\sklearn\\neural_network\\_multilayer_perceptron.py:1771: DataConversionWarning: A column-vector y was passed when a 1d array was expected. Please change the shape of y to (n_samples, ), for example using ravel().\n",
      "  y = column_or_1d(y, warn=True)\n"
     ]
    },
    {
     "name": "stdout",
     "output_type": "stream",
     "text": [
      "Training completed. Iterations: 6, Final score: -0.0785 \n",
      " =================================================================\n",
      "Trying: 5 layers, 239 neurons per layer, iter_no_change=3\n",
      "Hidden layer sizes: (239, 239, 239, 239, 239)\n"
     ]
    },
    {
     "name": "stderr",
     "output_type": "stream",
     "text": [
      "c:\\Users\\Gamer\\AppData\\Local\\Programs\\Python\\Python313\\Lib\\site-packages\\sklearn\\neural_network\\_multilayer_perceptron.py:1771: DataConversionWarning: A column-vector y was passed when a 1d array was expected. Please change the shape of y to (n_samples, ), for example using ravel().\n",
      "  y = column_or_1d(y, warn=True)\n"
     ]
    },
    {
     "name": "stdout",
     "output_type": "stream",
     "text": [
      "Training completed. Iterations: 8, Final score: -0.0938 \n",
      " =================================================================\n",
      "Trying: 5 layers, 239 neurons per layer, iter_no_change=3\n",
      "Hidden layer sizes: (239, 239, 239, 239, 239)\n"
     ]
    },
    {
     "name": "stderr",
     "output_type": "stream",
     "text": [
      "c:\\Users\\Gamer\\AppData\\Local\\Programs\\Python\\Python313\\Lib\\site-packages\\sklearn\\neural_network\\_multilayer_perceptron.py:1771: DataConversionWarning: A column-vector y was passed when a 1d array was expected. Please change the shape of y to (n_samples, ), for example using ravel().\n",
      "  y = column_or_1d(y, warn=True)\n"
     ]
    },
    {
     "name": "stdout",
     "output_type": "stream",
     "text": [
      "Training completed. Iterations: 10, Final score: -0.1337 \n",
      " =================================================================\n",
      "Trying: 6 layers, 189 neurons per layer, iter_no_change=3\n",
      "Hidden layer sizes: (189, 189, 189, 189, 189, 189)\n"
     ]
    },
    {
     "name": "stderr",
     "output_type": "stream",
     "text": [
      "c:\\Users\\Gamer\\AppData\\Local\\Programs\\Python\\Python313\\Lib\\site-packages\\sklearn\\neural_network\\_multilayer_perceptron.py:1771: DataConversionWarning: A column-vector y was passed when a 1d array was expected. Please change the shape of y to (n_samples, ), for example using ravel().\n",
      "  y = column_or_1d(y, warn=True)\n"
     ]
    },
    {
     "name": "stdout",
     "output_type": "stream",
     "text": [
      "Training completed. Iterations: 13, Final score: -0.0146 \n",
      " =================================================================\n",
      "Trying: 6 layers, 189 neurons per layer, iter_no_change=3\n",
      "Hidden layer sizes: (189, 189, 189, 189, 189, 189)\n"
     ]
    },
    {
     "name": "stderr",
     "output_type": "stream",
     "text": [
      "c:\\Users\\Gamer\\AppData\\Local\\Programs\\Python\\Python313\\Lib\\site-packages\\sklearn\\neural_network\\_multilayer_perceptron.py:1771: DataConversionWarning: A column-vector y was passed when a 1d array was expected. Please change the shape of y to (n_samples, ), for example using ravel().\n",
      "  y = column_or_1d(y, warn=True)\n"
     ]
    },
    {
     "name": "stdout",
     "output_type": "stream",
     "text": [
      "Training completed. Iterations: 21, Final score: 0.0095 \n",
      " =================================================================\n",
      "Trying: 6 layers, 465 neurons per layer, iter_no_change=3\n",
      "Hidden layer sizes: (465, 465, 465, 465, 465, 465)\n"
     ]
    },
    {
     "name": "stderr",
     "output_type": "stream",
     "text": [
      "c:\\Users\\Gamer\\AppData\\Local\\Programs\\Python\\Python313\\Lib\\site-packages\\sklearn\\neural_network\\_multilayer_perceptron.py:1771: DataConversionWarning: A column-vector y was passed when a 1d array was expected. Please change the shape of y to (n_samples, ), for example using ravel().\n",
      "  y = column_or_1d(y, warn=True)\n"
     ]
    },
    {
     "name": "stdout",
     "output_type": "stream",
     "text": [
      "Training completed. Iterations: 6, Final score: -0.0147 \n",
      " =================================================================\n",
      "Trying: 6 layers, 465 neurons per layer, iter_no_change=3\n",
      "Hidden layer sizes: (465, 465, 465, 465, 465, 465)\n"
     ]
    },
    {
     "name": "stderr",
     "output_type": "stream",
     "text": [
      "c:\\Users\\Gamer\\AppData\\Local\\Programs\\Python\\Python313\\Lib\\site-packages\\sklearn\\neural_network\\_multilayer_perceptron.py:1771: DataConversionWarning: A column-vector y was passed when a 1d array was expected. Please change the shape of y to (n_samples, ), for example using ravel().\n",
      "  y = column_or_1d(y, warn=True)\n"
     ]
    },
    {
     "name": "stdout",
     "output_type": "stream",
     "text": [
      "Training completed. Iterations: 14, Final score: -0.0773 \n",
      " =================================================================\n",
      "Trying: 9 layers, 416 neurons per layer, iter_no_change=3\n",
      "Hidden layer sizes: (416, 416, 416, 416, 416, 416, 416, 416, 416)\n"
     ]
    },
    {
     "name": "stderr",
     "output_type": "stream",
     "text": [
      "c:\\Users\\Gamer\\AppData\\Local\\Programs\\Python\\Python313\\Lib\\site-packages\\sklearn\\neural_network\\_multilayer_perceptron.py:1771: DataConversionWarning: A column-vector y was passed when a 1d array was expected. Please change the shape of y to (n_samples, ), for example using ravel().\n",
      "  y = column_or_1d(y, warn=True)\n"
     ]
    },
    {
     "name": "stdout",
     "output_type": "stream",
     "text": [
      "Training completed. Iterations: 15, Final score: -0.0013 \n",
      " =================================================================\n",
      "Trying: 9 layers, 416 neurons per layer, iter_no_change=3\n",
      "Hidden layer sizes: (416, 416, 416, 416, 416, 416, 416, 416, 416)\n"
     ]
    },
    {
     "name": "stderr",
     "output_type": "stream",
     "text": [
      "c:\\Users\\Gamer\\AppData\\Local\\Programs\\Python\\Python313\\Lib\\site-packages\\sklearn\\neural_network\\_multilayer_perceptron.py:1771: DataConversionWarning: A column-vector y was passed when a 1d array was expected. Please change the shape of y to (n_samples, ), for example using ravel().\n",
      "  y = column_or_1d(y, warn=True)\n"
     ]
    },
    {
     "name": "stdout",
     "output_type": "stream",
     "text": [
      "Training completed. Iterations: 9, Final score: -0.0004 \n",
      " =================================================================\n",
      "Trying: 10 layers, 357 neurons per layer, iter_no_change=3\n",
      "Hidden layer sizes: (357, 357, 357, 357, 357, 357, 357, 357, 357, 357)\n"
     ]
    },
    {
     "name": "stderr",
     "output_type": "stream",
     "text": [
      "c:\\Users\\Gamer\\AppData\\Local\\Programs\\Python\\Python313\\Lib\\site-packages\\sklearn\\neural_network\\_multilayer_perceptron.py:1771: DataConversionWarning: A column-vector y was passed when a 1d array was expected. Please change the shape of y to (n_samples, ), for example using ravel().\n",
      "  y = column_or_1d(y, warn=True)\n"
     ]
    },
    {
     "name": "stdout",
     "output_type": "stream",
     "text": [
      "Training completed. Iterations: 11, Final score: -0.0051 \n",
      " =================================================================\n",
      "Trying: 10 layers, 357 neurons per layer, iter_no_change=3\n",
      "Hidden layer sizes: (357, 357, 357, 357, 357, 357, 357, 357, 357, 357)\n"
     ]
    },
    {
     "name": "stderr",
     "output_type": "stream",
     "text": [
      "c:\\Users\\Gamer\\AppData\\Local\\Programs\\Python\\Python313\\Lib\\site-packages\\sklearn\\neural_network\\_multilayer_perceptron.py:1771: DataConversionWarning: A column-vector y was passed when a 1d array was expected. Please change the shape of y to (n_samples, ), for example using ravel().\n",
      "  y = column_or_1d(y, warn=True)\n"
     ]
    },
    {
     "name": "stdout",
     "output_type": "stream",
     "text": [
      "Training completed. Iterations: 6, Final score: -0.1007 \n",
      " =================================================================\n",
      "Trying: 9 layers, 222 neurons per layer, iter_no_change=3\n",
      "Hidden layer sizes: (222, 222, 222, 222, 222, 222, 222, 222, 222)\n"
     ]
    },
    {
     "name": "stderr",
     "output_type": "stream",
     "text": [
      "c:\\Users\\Gamer\\AppData\\Local\\Programs\\Python\\Python313\\Lib\\site-packages\\sklearn\\neural_network\\_multilayer_perceptron.py:1771: DataConversionWarning: A column-vector y was passed when a 1d array was expected. Please change the shape of y to (n_samples, ), for example using ravel().\n",
      "  y = column_or_1d(y, warn=True)\n"
     ]
    },
    {
     "name": "stdout",
     "output_type": "stream",
     "text": [
      "Training completed. Iterations: 11, Final score: -0.0309 \n",
      " =================================================================\n",
      "Trying: 9 layers, 222 neurons per layer, iter_no_change=3\n",
      "Hidden layer sizes: (222, 222, 222, 222, 222, 222, 222, 222, 222)\n"
     ]
    },
    {
     "name": "stderr",
     "output_type": "stream",
     "text": [
      "c:\\Users\\Gamer\\AppData\\Local\\Programs\\Python\\Python313\\Lib\\site-packages\\sklearn\\neural_network\\_multilayer_perceptron.py:1771: DataConversionWarning: A column-vector y was passed when a 1d array was expected. Please change the shape of y to (n_samples, ), for example using ravel().\n",
      "  y = column_or_1d(y, warn=True)\n"
     ]
    },
    {
     "name": "stdout",
     "output_type": "stream",
     "text": [
      "Training completed. Iterations: 11, Final score: 0.0055 \n",
      " =================================================================\n",
      "Trying: 9 layers, 187 neurons per layer, iter_no_change=3\n",
      "Hidden layer sizes: (187, 187, 187, 187, 187, 187, 187, 187, 187)\n"
     ]
    },
    {
     "name": "stderr",
     "output_type": "stream",
     "text": [
      "c:\\Users\\Gamer\\AppData\\Local\\Programs\\Python\\Python313\\Lib\\site-packages\\sklearn\\neural_network\\_multilayer_perceptron.py:1771: DataConversionWarning: A column-vector y was passed when a 1d array was expected. Please change the shape of y to (n_samples, ), for example using ravel().\n",
      "  y = column_or_1d(y, warn=True)\n"
     ]
    },
    {
     "name": "stdout",
     "output_type": "stream",
     "text": [
      "Training completed. Iterations: 8, Final score: -0.0219 \n",
      " =================================================================\n",
      "Trying: 9 layers, 187 neurons per layer, iter_no_change=3\n",
      "Hidden layer sizes: (187, 187, 187, 187, 187, 187, 187, 187, 187)\n"
     ]
    },
    {
     "name": "stderr",
     "output_type": "stream",
     "text": [
      "c:\\Users\\Gamer\\AppData\\Local\\Programs\\Python\\Python313\\Lib\\site-packages\\sklearn\\neural_network\\_multilayer_perceptron.py:1771: DataConversionWarning: A column-vector y was passed when a 1d array was expected. Please change the shape of y to (n_samples, ), for example using ravel().\n",
      "  y = column_or_1d(y, warn=True)\n"
     ]
    },
    {
     "name": "stdout",
     "output_type": "stream",
     "text": [
      "Training completed. Iterations: 6, Final score: -0.0116 \n",
      " =================================================================\n",
      "Trying: 9 layers, 482 neurons per layer, iter_no_change=3\n",
      "Hidden layer sizes: (482, 482, 482, 482, 482, 482, 482, 482, 482)\n"
     ]
    },
    {
     "name": "stderr",
     "output_type": "stream",
     "text": [
      "c:\\Users\\Gamer\\AppData\\Local\\Programs\\Python\\Python313\\Lib\\site-packages\\sklearn\\neural_network\\_multilayer_perceptron.py:1771: DataConversionWarning: A column-vector y was passed when a 1d array was expected. Please change the shape of y to (n_samples, ), for example using ravel().\n",
      "  y = column_or_1d(y, warn=True)\n"
     ]
    },
    {
     "name": "stdout",
     "output_type": "stream",
     "text": [
      "Training completed. Iterations: 9, Final score: -0.0276 \n",
      " =================================================================\n",
      "Trying: 9 layers, 482 neurons per layer, iter_no_change=3\n",
      "Hidden layer sizes: (482, 482, 482, 482, 482, 482, 482, 482, 482)\n"
     ]
    },
    {
     "name": "stderr",
     "output_type": "stream",
     "text": [
      "c:\\Users\\Gamer\\AppData\\Local\\Programs\\Python\\Python313\\Lib\\site-packages\\sklearn\\neural_network\\_multilayer_perceptron.py:1771: DataConversionWarning: A column-vector y was passed when a 1d array was expected. Please change the shape of y to (n_samples, ), for example using ravel().\n",
      "  y = column_or_1d(y, warn=True)\n"
     ]
    },
    {
     "name": "stdout",
     "output_type": "stream",
     "text": [
      "Training completed. Iterations: 6, Final score: -0.4013 \n",
      " =================================================================\n",
      "Trying: 9 layers, 500 neurons per layer, iter_no_change=3\n",
      "Hidden layer sizes: (500, 500, 500, 500, 500, 500, 500, 500, 500)\n"
     ]
    },
    {
     "name": "stderr",
     "output_type": "stream",
     "text": [
      "c:\\Users\\Gamer\\AppData\\Local\\Programs\\Python\\Python313\\Lib\\site-packages\\sklearn\\neural_network\\_multilayer_perceptron.py:1771: DataConversionWarning: A column-vector y was passed when a 1d array was expected. Please change the shape of y to (n_samples, ), for example using ravel().\n",
      "  y = column_or_1d(y, warn=True)\n"
     ]
    },
    {
     "name": "stdout",
     "output_type": "stream",
     "text": [
      "Training completed. Iterations: 14, Final score: -0.0014 \n",
      " =================================================================\n",
      "Trying: 9 layers, 500 neurons per layer, iter_no_change=3\n",
      "Hidden layer sizes: (500, 500, 500, 500, 500, 500, 500, 500, 500)\n"
     ]
    },
    {
     "name": "stderr",
     "output_type": "stream",
     "text": [
      "c:\\Users\\Gamer\\AppData\\Local\\Programs\\Python\\Python313\\Lib\\site-packages\\sklearn\\neural_network\\_multilayer_perceptron.py:1771: DataConversionWarning: A column-vector y was passed when a 1d array was expected. Please change the shape of y to (n_samples, ), for example using ravel().\n",
      "  y = column_or_1d(y, warn=True)\n"
     ]
    },
    {
     "name": "stdout",
     "output_type": "stream",
     "text": [
      "Training completed. Iterations: 6, Final score: -0.0492 \n",
      " =================================================================\n",
      "Trying: 10 layers, 63 neurons per layer, iter_no_change=3\n",
      "Hidden layer sizes: (63, 63, 63, 63, 63, 63, 63, 63, 63, 63)\n"
     ]
    },
    {
     "name": "stderr",
     "output_type": "stream",
     "text": [
      "c:\\Users\\Gamer\\AppData\\Local\\Programs\\Python\\Python313\\Lib\\site-packages\\sklearn\\neural_network\\_multilayer_perceptron.py:1771: DataConversionWarning: A column-vector y was passed when a 1d array was expected. Please change the shape of y to (n_samples, ), for example using ravel().\n",
      "  y = column_or_1d(y, warn=True)\n"
     ]
    },
    {
     "name": "stdout",
     "output_type": "stream",
     "text": [
      "Training completed. Iterations: 6, Final score: -0.0141 \n",
      " =================================================================\n",
      "Trying: 10 layers, 63 neurons per layer, iter_no_change=3\n",
      "Hidden layer sizes: (63, 63, 63, 63, 63, 63, 63, 63, 63, 63)\n"
     ]
    },
    {
     "name": "stderr",
     "output_type": "stream",
     "text": [
      "c:\\Users\\Gamer\\AppData\\Local\\Programs\\Python\\Python313\\Lib\\site-packages\\sklearn\\neural_network\\_multilayer_perceptron.py:1771: DataConversionWarning: A column-vector y was passed when a 1d array was expected. Please change the shape of y to (n_samples, ), for example using ravel().\n",
      "  y = column_or_1d(y, warn=True)\n"
     ]
    },
    {
     "name": "stdout",
     "output_type": "stream",
     "text": [
      "Training completed. Iterations: 12, Final score: -0.0334 \n",
      " =================================================================\n",
      "Trying: 9 layers, 20 neurons per layer, iter_no_change=3\n",
      "Hidden layer sizes: (20, 20, 20, 20, 20, 20, 20, 20, 20)\n"
     ]
    },
    {
     "name": "stderr",
     "output_type": "stream",
     "text": [
      "c:\\Users\\Gamer\\AppData\\Local\\Programs\\Python\\Python313\\Lib\\site-packages\\sklearn\\neural_network\\_multilayer_perceptron.py:1771: DataConversionWarning: A column-vector y was passed when a 1d array was expected. Please change the shape of y to (n_samples, ), for example using ravel().\n",
      "  y = column_or_1d(y, warn=True)\n"
     ]
    },
    {
     "name": "stdout",
     "output_type": "stream",
     "text": [
      "Training completed. Iterations: 47, Final score: -0.0141 \n",
      " =================================================================\n",
      "Trying: 9 layers, 20 neurons per layer, iter_no_change=3\n",
      "Hidden layer sizes: (20, 20, 20, 20, 20, 20, 20, 20, 20)\n",
      "Training completed. Iterations: 10, Final score: 0.0109 \n",
      " =================================================================\n"
     ]
    },
    {
     "name": "stderr",
     "output_type": "stream",
     "text": [
      "c:\\Users\\Gamer\\AppData\\Local\\Programs\\Python\\Python313\\Lib\\site-packages\\sklearn\\neural_network\\_multilayer_perceptron.py:1771: DataConversionWarning: A column-vector y was passed when a 1d array was expected. Please change the shape of y to (n_samples, ), for example using ravel().\n",
      "  y = column_or_1d(y, warn=True)\n"
     ]
    },
    {
     "name": "stdout",
     "output_type": "stream",
     "text": [
      "Trying: 5 layers, 500 neurons per layer, iter_no_change=3\n",
      "Hidden layer sizes: (500, 500, 500, 500, 500)\n"
     ]
    },
    {
     "name": "stderr",
     "output_type": "stream",
     "text": [
      "c:\\Users\\Gamer\\AppData\\Local\\Programs\\Python\\Python313\\Lib\\site-packages\\sklearn\\neural_network\\_multilayer_perceptron.py:1771: DataConversionWarning: A column-vector y was passed when a 1d array was expected. Please change the shape of y to (n_samples, ), for example using ravel().\n",
      "  y = column_or_1d(y, warn=True)\n"
     ]
    },
    {
     "name": "stdout",
     "output_type": "stream",
     "text": [
      "Training completed. Iterations: 6, Final score: -0.2098 \n",
      " =================================================================\n",
      "Trying: 5 layers, 500 neurons per layer, iter_no_change=3\n",
      "Hidden layer sizes: (500, 500, 500, 500, 500)\n"
     ]
    },
    {
     "name": "stderr",
     "output_type": "stream",
     "text": [
      "c:\\Users\\Gamer\\AppData\\Local\\Programs\\Python\\Python313\\Lib\\site-packages\\sklearn\\neural_network\\_multilayer_perceptron.py:1771: DataConversionWarning: A column-vector y was passed when a 1d array was expected. Please change the shape of y to (n_samples, ), for example using ravel().\n",
      "  y = column_or_1d(y, warn=True)\n"
     ]
    },
    {
     "name": "stdout",
     "output_type": "stream",
     "text": [
      "Training completed. Iterations: 18, Final score: -0.3099 \n",
      " =================================================================\n",
      "Trying: 9 layers, 384 neurons per layer, iter_no_change=3\n",
      "Hidden layer sizes: (384, 384, 384, 384, 384, 384, 384, 384, 384)\n"
     ]
    },
    {
     "name": "stderr",
     "output_type": "stream",
     "text": [
      "c:\\Users\\Gamer\\AppData\\Local\\Programs\\Python\\Python313\\Lib\\site-packages\\sklearn\\neural_network\\_multilayer_perceptron.py:1771: DataConversionWarning: A column-vector y was passed when a 1d array was expected. Please change the shape of y to (n_samples, ), for example using ravel().\n",
      "  y = column_or_1d(y, warn=True)\n"
     ]
    },
    {
     "name": "stdout",
     "output_type": "stream",
     "text": [
      "Training completed. Iterations: 12, Final score: -0.0231 \n",
      " =================================================================\n",
      "Trying: 9 layers, 384 neurons per layer, iter_no_change=3\n",
      "Hidden layer sizes: (384, 384, 384, 384, 384, 384, 384, 384, 384)\n"
     ]
    },
    {
     "name": "stderr",
     "output_type": "stream",
     "text": [
      "c:\\Users\\Gamer\\AppData\\Local\\Programs\\Python\\Python313\\Lib\\site-packages\\sklearn\\neural_network\\_multilayer_perceptron.py:1771: DataConversionWarning: A column-vector y was passed when a 1d array was expected. Please change the shape of y to (n_samples, ), for example using ravel().\n",
      "  y = column_or_1d(y, warn=True)\n"
     ]
    },
    {
     "name": "stdout",
     "output_type": "stream",
     "text": [
      "Training completed. Iterations: 9, Final score: -0.1349 \n",
      " =================================================================\n",
      "Trying: 5 layers, 369 neurons per layer, iter_no_change=3\n",
      "Hidden layer sizes: (369, 369, 369, 369, 369)\n"
     ]
    },
    {
     "name": "stderr",
     "output_type": "stream",
     "text": [
      "c:\\Users\\Gamer\\AppData\\Local\\Programs\\Python\\Python313\\Lib\\site-packages\\sklearn\\neural_network\\_multilayer_perceptron.py:1771: DataConversionWarning: A column-vector y was passed when a 1d array was expected. Please change the shape of y to (n_samples, ), for example using ravel().\n",
      "  y = column_or_1d(y, warn=True)\n"
     ]
    },
    {
     "name": "stdout",
     "output_type": "stream",
     "text": [
      "Training completed. Iterations: 15, Final score: -0.0822 \n",
      " =================================================================\n",
      "Trying: 5 layers, 369 neurons per layer, iter_no_change=3\n",
      "Hidden layer sizes: (369, 369, 369, 369, 369)\n"
     ]
    },
    {
     "name": "stderr",
     "output_type": "stream",
     "text": [
      "c:\\Users\\Gamer\\AppData\\Local\\Programs\\Python\\Python313\\Lib\\site-packages\\sklearn\\neural_network\\_multilayer_perceptron.py:1771: DataConversionWarning: A column-vector y was passed when a 1d array was expected. Please change the shape of y to (n_samples, ), for example using ravel().\n",
      "  y = column_or_1d(y, warn=True)\n"
     ]
    },
    {
     "name": "stdout",
     "output_type": "stream",
     "text": [
      "Training completed. Iterations: 9, Final score: -0.3226 \n",
      " =================================================================\n",
      "Trying: 9 layers, 370 neurons per layer, iter_no_change=3\n",
      "Hidden layer sizes: (370, 370, 370, 370, 370, 370, 370, 370, 370)\n"
     ]
    },
    {
     "name": "stderr",
     "output_type": "stream",
     "text": [
      "c:\\Users\\Gamer\\AppData\\Local\\Programs\\Python\\Python313\\Lib\\site-packages\\sklearn\\neural_network\\_multilayer_perceptron.py:1771: DataConversionWarning: A column-vector y was passed when a 1d array was expected. Please change the shape of y to (n_samples, ), for example using ravel().\n",
      "  y = column_or_1d(y, warn=True)\n"
     ]
    },
    {
     "name": "stdout",
     "output_type": "stream",
     "text": [
      "Training completed. Iterations: 13, Final score: 0.0004 \n",
      " =================================================================\n",
      "Trying: 9 layers, 370 neurons per layer, iter_no_change=3\n",
      "Hidden layer sizes: (370, 370, 370, 370, 370, 370, 370, 370, 370)\n"
     ]
    },
    {
     "name": "stderr",
     "output_type": "stream",
     "text": [
      "c:\\Users\\Gamer\\AppData\\Local\\Programs\\Python\\Python313\\Lib\\site-packages\\sklearn\\neural_network\\_multilayer_perceptron.py:1771: DataConversionWarning: A column-vector y was passed when a 1d array was expected. Please change the shape of y to (n_samples, ), for example using ravel().\n",
      "  y = column_or_1d(y, warn=True)\n"
     ]
    },
    {
     "name": "stdout",
     "output_type": "stream",
     "text": [
      "Training completed. Iterations: 17, Final score: -0.0194 \n",
      " =================================================================\n",
      "Trying: 9 layers, 500 neurons per layer, iter_no_change=3\n",
      "Hidden layer sizes: (500, 500, 500, 500, 500, 500, 500, 500, 500)\n"
     ]
    },
    {
     "name": "stderr",
     "output_type": "stream",
     "text": [
      "c:\\Users\\Gamer\\AppData\\Local\\Programs\\Python\\Python313\\Lib\\site-packages\\sklearn\\neural_network\\_multilayer_perceptron.py:1771: DataConversionWarning: A column-vector y was passed when a 1d array was expected. Please change the shape of y to (n_samples, ), for example using ravel().\n",
      "  y = column_or_1d(y, warn=True)\n"
     ]
    },
    {
     "name": "stdout",
     "output_type": "stream",
     "text": [
      "Training completed. Iterations: 8, Final score: -0.0118 \n",
      " =================================================================\n",
      "Trying: 9 layers, 500 neurons per layer, iter_no_change=3\n",
      "Hidden layer sizes: (500, 500, 500, 500, 500, 500, 500, 500, 500)\n"
     ]
    },
    {
     "name": "stderr",
     "output_type": "stream",
     "text": [
      "c:\\Users\\Gamer\\AppData\\Local\\Programs\\Python\\Python313\\Lib\\site-packages\\sklearn\\neural_network\\_multilayer_perceptron.py:1771: DataConversionWarning: A column-vector y was passed when a 1d array was expected. Please change the shape of y to (n_samples, ), for example using ravel().\n",
      "  y = column_or_1d(y, warn=True)\n"
     ]
    },
    {
     "name": "stdout",
     "output_type": "stream",
     "text": [
      "Training completed. Iterations: 8, Final score: -0.0695 \n",
      " =================================================================\n",
      "Trying: 10 layers, 82 neurons per layer, iter_no_change=3\n",
      "Hidden layer sizes: (82, 82, 82, 82, 82, 82, 82, 82, 82, 82)\n"
     ]
    },
    {
     "name": "stderr",
     "output_type": "stream",
     "text": [
      "c:\\Users\\Gamer\\AppData\\Local\\Programs\\Python\\Python313\\Lib\\site-packages\\sklearn\\neural_network\\_multilayer_perceptron.py:1771: DataConversionWarning: A column-vector y was passed when a 1d array was expected. Please change the shape of y to (n_samples, ), for example using ravel().\n",
      "  y = column_or_1d(y, warn=True)\n"
     ]
    },
    {
     "name": "stdout",
     "output_type": "stream",
     "text": [
      "Training completed. Iterations: 9, Final score: -0.0182 \n",
      " =================================================================\n",
      "Trying: 10 layers, 82 neurons per layer, iter_no_change=3\n",
      "Hidden layer sizes: (82, 82, 82, 82, 82, 82, 82, 82, 82, 82)\n"
     ]
    },
    {
     "name": "stderr",
     "output_type": "stream",
     "text": [
      "c:\\Users\\Gamer\\AppData\\Local\\Programs\\Python\\Python313\\Lib\\site-packages\\sklearn\\neural_network\\_multilayer_perceptron.py:1771: DataConversionWarning: A column-vector y was passed when a 1d array was expected. Please change the shape of y to (n_samples, ), for example using ravel().\n",
      "  y = column_or_1d(y, warn=True)\n"
     ]
    },
    {
     "name": "stdout",
     "output_type": "stream",
     "text": [
      "Training completed. Iterations: 13, Final score: 0.0065 \n",
      " =================================================================\n",
      "Trying: 9 layers, 20 neurons per layer, iter_no_change=3\n",
      "Hidden layer sizes: (20, 20, 20, 20, 20, 20, 20, 20, 20)\n",
      "Training completed. Iterations: 11, Final score: -0.0470 \n",
      " =================================================================\n",
      "Trying: 9 layers, 20 neurons per layer, iter_no_change=3\n",
      "Hidden layer sizes: (20, 20, 20, 20, 20, 20, 20, 20, 20)\n"
     ]
    },
    {
     "name": "stderr",
     "output_type": "stream",
     "text": [
      "c:\\Users\\Gamer\\AppData\\Local\\Programs\\Python\\Python313\\Lib\\site-packages\\sklearn\\neural_network\\_multilayer_perceptron.py:1771: DataConversionWarning: A column-vector y was passed when a 1d array was expected. Please change the shape of y to (n_samples, ), for example using ravel().\n",
      "  y = column_or_1d(y, warn=True)\n",
      "c:\\Users\\Gamer\\AppData\\Local\\Programs\\Python\\Python313\\Lib\\site-packages\\sklearn\\neural_network\\_multilayer_perceptron.py:1771: DataConversionWarning: A column-vector y was passed when a 1d array was expected. Please change the shape of y to (n_samples, ), for example using ravel().\n",
      "  y = column_or_1d(y, warn=True)\n"
     ]
    },
    {
     "name": "stdout",
     "output_type": "stream",
     "text": [
      "Training completed. Iterations: 32, Final score: 0.0127 \n",
      " =================================================================\n",
      "Trying: 5 layers, 214 neurons per layer, iter_no_change=3\n",
      "Hidden layer sizes: (214, 214, 214, 214, 214)\n"
     ]
    },
    {
     "name": "stderr",
     "output_type": "stream",
     "text": [
      "c:\\Users\\Gamer\\AppData\\Local\\Programs\\Python\\Python313\\Lib\\site-packages\\sklearn\\neural_network\\_multilayer_perceptron.py:1771: DataConversionWarning: A column-vector y was passed when a 1d array was expected. Please change the shape of y to (n_samples, ), for example using ravel().\n",
      "  y = column_or_1d(y, warn=True)\n"
     ]
    },
    {
     "name": "stdout",
     "output_type": "stream",
     "text": [
      "Training completed. Iterations: 10, Final score: -0.1856 \n",
      " =================================================================\n",
      "Trying: 5 layers, 214 neurons per layer, iter_no_change=3\n",
      "Hidden layer sizes: (214, 214, 214, 214, 214)\n"
     ]
    },
    {
     "name": "stderr",
     "output_type": "stream",
     "text": [
      "c:\\Users\\Gamer\\AppData\\Local\\Programs\\Python\\Python313\\Lib\\site-packages\\sklearn\\neural_network\\_multilayer_perceptron.py:1771: DataConversionWarning: A column-vector y was passed when a 1d array was expected. Please change the shape of y to (n_samples, ), for example using ravel().\n",
      "  y = column_or_1d(y, warn=True)\n"
     ]
    },
    {
     "name": "stdout",
     "output_type": "stream",
     "text": [
      "Training completed. Iterations: 10, Final score: -0.1035 \n",
      " =================================================================\n",
      "Trying: 4 layers, 500 neurons per layer, iter_no_change=3\n",
      "Hidden layer sizes: (500, 500, 500, 500)\n"
     ]
    },
    {
     "name": "stderr",
     "output_type": "stream",
     "text": [
      "c:\\Users\\Gamer\\AppData\\Local\\Programs\\Python\\Python313\\Lib\\site-packages\\sklearn\\neural_network\\_multilayer_perceptron.py:1771: DataConversionWarning: A column-vector y was passed when a 1d array was expected. Please change the shape of y to (n_samples, ), for example using ravel().\n",
      "  y = column_or_1d(y, warn=True)\n"
     ]
    },
    {
     "name": "stdout",
     "output_type": "stream",
     "text": [
      "Training completed. Iterations: 10, Final score: -0.0815 \n",
      " =================================================================\n",
      "Trying: 4 layers, 500 neurons per layer, iter_no_change=3\n",
      "Hidden layer sizes: (500, 500, 500, 500)\n"
     ]
    },
    {
     "name": "stderr",
     "output_type": "stream",
     "text": [
      "c:\\Users\\Gamer\\AppData\\Local\\Programs\\Python\\Python313\\Lib\\site-packages\\sklearn\\neural_network\\_multilayer_perceptron.py:1771: DataConversionWarning: A column-vector y was passed when a 1d array was expected. Please change the shape of y to (n_samples, ), for example using ravel().\n",
      "  y = column_or_1d(y, warn=True)\n"
     ]
    },
    {
     "name": "stdout",
     "output_type": "stream",
     "text": [
      "Training completed. Iterations: 11, Final score: -0.0146 \n",
      " =================================================================\n",
      "Trying: 10 layers, 170 neurons per layer, iter_no_change=3\n",
      "Hidden layer sizes: (170, 170, 170, 170, 170, 170, 170, 170, 170, 170)\n"
     ]
    },
    {
     "name": "stderr",
     "output_type": "stream",
     "text": [
      "c:\\Users\\Gamer\\AppData\\Local\\Programs\\Python\\Python313\\Lib\\site-packages\\sklearn\\neural_network\\_multilayer_perceptron.py:1771: DataConversionWarning: A column-vector y was passed when a 1d array was expected. Please change the shape of y to (n_samples, ), for example using ravel().\n",
      "  y = column_or_1d(y, warn=True)\n"
     ]
    },
    {
     "name": "stdout",
     "output_type": "stream",
     "text": [
      "Training completed. Iterations: 21, Final score: -0.0516 \n",
      " =================================================================\n",
      "Trying: 10 layers, 170 neurons per layer, iter_no_change=3\n",
      "Hidden layer sizes: (170, 170, 170, 170, 170, 170, 170, 170, 170, 170)\n"
     ]
    },
    {
     "name": "stderr",
     "output_type": "stream",
     "text": [
      "c:\\Users\\Gamer\\AppData\\Local\\Programs\\Python\\Python313\\Lib\\site-packages\\sklearn\\neural_network\\_multilayer_perceptron.py:1771: DataConversionWarning: A column-vector y was passed when a 1d array was expected. Please change the shape of y to (n_samples, ), for example using ravel().\n",
      "  y = column_or_1d(y, warn=True)\n"
     ]
    },
    {
     "name": "stdout",
     "output_type": "stream",
     "text": [
      "Training completed. Iterations: 11, Final score: -0.0006 \n",
      " =================================================================\n",
      "Trying: 5 layers, 500 neurons per layer, iter_no_change=3\n",
      "Hidden layer sizes: (500, 500, 500, 500, 500)\n"
     ]
    },
    {
     "name": "stderr",
     "output_type": "stream",
     "text": [
      "c:\\Users\\Gamer\\AppData\\Local\\Programs\\Python\\Python313\\Lib\\site-packages\\sklearn\\neural_network\\_multilayer_perceptron.py:1771: DataConversionWarning: A column-vector y was passed when a 1d array was expected. Please change the shape of y to (n_samples, ), for example using ravel().\n",
      "  y = column_or_1d(y, warn=True)\n"
     ]
    },
    {
     "name": "stdout",
     "output_type": "stream",
     "text": [
      "Training completed. Iterations: 13, Final score: -0.0495 \n",
      " =================================================================\n",
      "Trying: 5 layers, 500 neurons per layer, iter_no_change=3\n",
      "Hidden layer sizes: (500, 500, 500, 500, 500)\n"
     ]
    },
    {
     "name": "stderr",
     "output_type": "stream",
     "text": [
      "c:\\Users\\Gamer\\AppData\\Local\\Programs\\Python\\Python313\\Lib\\site-packages\\sklearn\\neural_network\\_multilayer_perceptron.py:1771: DataConversionWarning: A column-vector y was passed when a 1d array was expected. Please change the shape of y to (n_samples, ), for example using ravel().\n",
      "  y = column_or_1d(y, warn=True)\n"
     ]
    },
    {
     "name": "stdout",
     "output_type": "stream",
     "text": [
      "Training completed. Iterations: 8, Final score: -0.1214 \n",
      " =================================================================\n",
      "Trying: 4 layers, 130 neurons per layer, iter_no_change=3\n",
      "Hidden layer sizes: (130, 130, 130, 130)\n"
     ]
    },
    {
     "name": "stderr",
     "output_type": "stream",
     "text": [
      "c:\\Users\\Gamer\\AppData\\Local\\Programs\\Python\\Python313\\Lib\\site-packages\\sklearn\\neural_network\\_multilayer_perceptron.py:1771: DataConversionWarning: A column-vector y was passed when a 1d array was expected. Please change the shape of y to (n_samples, ), for example using ravel().\n",
      "  y = column_or_1d(y, warn=True)\n"
     ]
    },
    {
     "name": "stdout",
     "output_type": "stream",
     "text": [
      "Training completed. Iterations: 18, Final score: -0.0333 \n",
      " =================================================================\n",
      "Trying: 4 layers, 130 neurons per layer, iter_no_change=3\n",
      "Hidden layer sizes: (130, 130, 130, 130)\n"
     ]
    },
    {
     "name": "stderr",
     "output_type": "stream",
     "text": [
      "c:\\Users\\Gamer\\AppData\\Local\\Programs\\Python\\Python313\\Lib\\site-packages\\sklearn\\neural_network\\_multilayer_perceptron.py:1771: DataConversionWarning: A column-vector y was passed when a 1d array was expected. Please change the shape of y to (n_samples, ), for example using ravel().\n",
      "  y = column_or_1d(y, warn=True)\n"
     ]
    },
    {
     "name": "stdout",
     "output_type": "stream",
     "text": [
      "Training completed. Iterations: 16, Final score: -0.0275 \n",
      " =================================================================\n",
      "Trying: 9 layers, 452 neurons per layer, iter_no_change=3\n",
      "Hidden layer sizes: (452, 452, 452, 452, 452, 452, 452, 452, 452)\n"
     ]
    },
    {
     "name": "stderr",
     "output_type": "stream",
     "text": [
      "c:\\Users\\Gamer\\AppData\\Local\\Programs\\Python\\Python313\\Lib\\site-packages\\sklearn\\neural_network\\_multilayer_perceptron.py:1771: DataConversionWarning: A column-vector y was passed when a 1d array was expected. Please change the shape of y to (n_samples, ), for example using ravel().\n",
      "  y = column_or_1d(y, warn=True)\n"
     ]
    },
    {
     "name": "stdout",
     "output_type": "stream",
     "text": [
      "Training completed. Iterations: 12, Final score: -0.0020 \n",
      " =================================================================\n",
      "Trying: 9 layers, 452 neurons per layer, iter_no_change=3\n",
      "Hidden layer sizes: (452, 452, 452, 452, 452, 452, 452, 452, 452)\n"
     ]
    },
    {
     "name": "stderr",
     "output_type": "stream",
     "text": [
      "c:\\Users\\Gamer\\AppData\\Local\\Programs\\Python\\Python313\\Lib\\site-packages\\sklearn\\neural_network\\_multilayer_perceptron.py:1771: DataConversionWarning: A column-vector y was passed when a 1d array was expected. Please change the shape of y to (n_samples, ), for example using ravel().\n",
      "  y = column_or_1d(y, warn=True)\n"
     ]
    },
    {
     "name": "stdout",
     "output_type": "stream",
     "text": [
      "Training completed. Iterations: 7, Final score: -0.1674 \n",
      " =================================================================\n",
      "Trying: 4 layers, 500 neurons per layer, iter_no_change=3\n",
      "Hidden layer sizes: (500, 500, 500, 500)\n"
     ]
    },
    {
     "name": "stderr",
     "output_type": "stream",
     "text": [
      "c:\\Users\\Gamer\\AppData\\Local\\Programs\\Python\\Python313\\Lib\\site-packages\\sklearn\\neural_network\\_multilayer_perceptron.py:1771: DataConversionWarning: A column-vector y was passed when a 1d array was expected. Please change the shape of y to (n_samples, ), for example using ravel().\n",
      "  y = column_or_1d(y, warn=True)\n"
     ]
    },
    {
     "name": "stdout",
     "output_type": "stream",
     "text": [
      "Training completed. Iterations: 13, Final score: -0.0175 \n",
      " =================================================================\n",
      "Trying: 4 layers, 500 neurons per layer, iter_no_change=3\n",
      "Hidden layer sizes: (500, 500, 500, 500)\n"
     ]
    },
    {
     "name": "stderr",
     "output_type": "stream",
     "text": [
      "c:\\Users\\Gamer\\AppData\\Local\\Programs\\Python\\Python313\\Lib\\site-packages\\sklearn\\neural_network\\_multilayer_perceptron.py:1771: DataConversionWarning: A column-vector y was passed when a 1d array was expected. Please change the shape of y to (n_samples, ), for example using ravel().\n",
      "  y = column_or_1d(y, warn=True)\n"
     ]
    },
    {
     "name": "stdout",
     "output_type": "stream",
     "text": [
      "Training completed. Iterations: 14, Final score: -0.0091 \n",
      " =================================================================\n",
      "Trying: 10 layers, 20 neurons per layer, iter_no_change=3\n",
      "Hidden layer sizes: (20, 20, 20, 20, 20, 20, 20, 20, 20, 20)\n",
      "Training completed. Iterations: 10, Final score: -0.0124 \n",
      " =================================================================\n",
      "Trying: 10 layers, 20 neurons per layer, iter_no_change=3\n",
      "Hidden layer sizes: (20, 20, 20, 20, 20, 20, 20, 20, 20, 20)\n"
     ]
    },
    {
     "name": "stderr",
     "output_type": "stream",
     "text": [
      "c:\\Users\\Gamer\\AppData\\Local\\Programs\\Python\\Python313\\Lib\\site-packages\\sklearn\\neural_network\\_multilayer_perceptron.py:1771: DataConversionWarning: A column-vector y was passed when a 1d array was expected. Please change the shape of y to (n_samples, ), for example using ravel().\n",
      "  y = column_or_1d(y, warn=True)\n",
      "c:\\Users\\Gamer\\AppData\\Local\\Programs\\Python\\Python313\\Lib\\site-packages\\sklearn\\neural_network\\_multilayer_perceptron.py:1771: DataConversionWarning: A column-vector y was passed when a 1d array was expected. Please change the shape of y to (n_samples, ), for example using ravel().\n",
      "  y = column_or_1d(y, warn=True)\n"
     ]
    },
    {
     "name": "stdout",
     "output_type": "stream",
     "text": [
      "Training completed. Iterations: 14, Final score: -0.0009 \n",
      " =================================================================\n",
      "Trying: 9 layers, 218 neurons per layer, iter_no_change=3\n",
      "Hidden layer sizes: (218, 218, 218, 218, 218, 218, 218, 218, 218)\n"
     ]
    },
    {
     "name": "stderr",
     "output_type": "stream",
     "text": [
      "c:\\Users\\Gamer\\AppData\\Local\\Programs\\Python\\Python313\\Lib\\site-packages\\sklearn\\neural_network\\_multilayer_perceptron.py:1771: DataConversionWarning: A column-vector y was passed when a 1d array was expected. Please change the shape of y to (n_samples, ), for example using ravel().\n",
      "  y = column_or_1d(y, warn=True)\n"
     ]
    },
    {
     "name": "stdout",
     "output_type": "stream",
     "text": [
      "Training completed. Iterations: 10, Final score: -0.0281 \n",
      " =================================================================\n",
      "Trying: 9 layers, 218 neurons per layer, iter_no_change=3\n",
      "Hidden layer sizes: (218, 218, 218, 218, 218, 218, 218, 218, 218)\n"
     ]
    },
    {
     "name": "stderr",
     "output_type": "stream",
     "text": [
      "c:\\Users\\Gamer\\AppData\\Local\\Programs\\Python\\Python313\\Lib\\site-packages\\sklearn\\neural_network\\_multilayer_perceptron.py:1771: DataConversionWarning: A column-vector y was passed when a 1d array was expected. Please change the shape of y to (n_samples, ), for example using ravel().\n",
      "  y = column_or_1d(y, warn=True)\n"
     ]
    },
    {
     "name": "stdout",
     "output_type": "stream",
     "text": [
      "Training completed. Iterations: 10, Final score: -0.0073 \n",
      " =================================================================\n",
      "Trying: 4 layers, 500 neurons per layer, iter_no_change=3\n",
      "Hidden layer sizes: (500, 500, 500, 500)\n"
     ]
    },
    {
     "name": "stderr",
     "output_type": "stream",
     "text": [
      "c:\\Users\\Gamer\\AppData\\Local\\Programs\\Python\\Python313\\Lib\\site-packages\\sklearn\\neural_network\\_multilayer_perceptron.py:1771: DataConversionWarning: A column-vector y was passed when a 1d array was expected. Please change the shape of y to (n_samples, ), for example using ravel().\n",
      "  y = column_or_1d(y, warn=True)\n"
     ]
    },
    {
     "name": "stdout",
     "output_type": "stream",
     "text": [
      "Training completed. Iterations: 8, Final score: -0.0472 \n",
      " =================================================================\n",
      "Trying: 4 layers, 500 neurons per layer, iter_no_change=3\n",
      "Hidden layer sizes: (500, 500, 500, 500)\n"
     ]
    },
    {
     "name": "stderr",
     "output_type": "stream",
     "text": [
      "c:\\Users\\Gamer\\AppData\\Local\\Programs\\Python\\Python313\\Lib\\site-packages\\sklearn\\neural_network\\_multilayer_perceptron.py:1771: DataConversionWarning: A column-vector y was passed when a 1d array was expected. Please change the shape of y to (n_samples, ), for example using ravel().\n",
      "  y = column_or_1d(y, warn=True)\n"
     ]
    },
    {
     "name": "stdout",
     "output_type": "stream",
     "text": [
      "Training completed. Iterations: 8, Final score: -0.0879 \n",
      " =================================================================\n",
      "Trying: 9 layers, 500 neurons per layer, iter_no_change=3\n",
      "Hidden layer sizes: (500, 500, 500, 500, 500, 500, 500, 500, 500)\n"
     ]
    },
    {
     "name": "stderr",
     "output_type": "stream",
     "text": [
      "c:\\Users\\Gamer\\AppData\\Local\\Programs\\Python\\Python313\\Lib\\site-packages\\sklearn\\neural_network\\_multilayer_perceptron.py:1771: DataConversionWarning: A column-vector y was passed when a 1d array was expected. Please change the shape of y to (n_samples, ), for example using ravel().\n",
      "  y = column_or_1d(y, warn=True)\n"
     ]
    },
    {
     "name": "stdout",
     "output_type": "stream",
     "text": [
      "Training completed. Iterations: 8, Final score: -0.0220 \n",
      " =================================================================\n",
      "Trying: 9 layers, 500 neurons per layer, iter_no_change=3\n",
      "Hidden layer sizes: (500, 500, 500, 500, 500, 500, 500, 500, 500)\n"
     ]
    },
    {
     "name": "stderr",
     "output_type": "stream",
     "text": [
      "c:\\Users\\Gamer\\AppData\\Local\\Programs\\Python\\Python313\\Lib\\site-packages\\sklearn\\neural_network\\_multilayer_perceptron.py:1771: DataConversionWarning: A column-vector y was passed when a 1d array was expected. Please change the shape of y to (n_samples, ), for example using ravel().\n",
      "  y = column_or_1d(y, warn=True)\n"
     ]
    },
    {
     "name": "stdout",
     "output_type": "stream",
     "text": [
      "Training completed. Iterations: 11, Final score: -0.0432 \n",
      " =================================================================\n",
      "Trying: 4 layers, 319 neurons per layer, iter_no_change=3\n",
      "Hidden layer sizes: (319, 319, 319, 319)\n"
     ]
    },
    {
     "name": "stderr",
     "output_type": "stream",
     "text": [
      "c:\\Users\\Gamer\\AppData\\Local\\Programs\\Python\\Python313\\Lib\\site-packages\\sklearn\\neural_network\\_multilayer_perceptron.py:1771: DataConversionWarning: A column-vector y was passed when a 1d array was expected. Please change the shape of y to (n_samples, ), for example using ravel().\n",
      "  y = column_or_1d(y, warn=True)\n"
     ]
    },
    {
     "name": "stdout",
     "output_type": "stream",
     "text": [
      "Training completed. Iterations: 15, Final score: -0.0271 \n",
      " =================================================================\n",
      "Trying: 4 layers, 319 neurons per layer, iter_no_change=3\n",
      "Hidden layer sizes: (319, 319, 319, 319)\n"
     ]
    },
    {
     "name": "stderr",
     "output_type": "stream",
     "text": [
      "c:\\Users\\Gamer\\AppData\\Local\\Programs\\Python\\Python313\\Lib\\site-packages\\sklearn\\neural_network\\_multilayer_perceptron.py:1771: DataConversionWarning: A column-vector y was passed when a 1d array was expected. Please change the shape of y to (n_samples, ), for example using ravel().\n",
      "  y = column_or_1d(y, warn=True)\n"
     ]
    },
    {
     "name": "stdout",
     "output_type": "stream",
     "text": [
      "Training completed. Iterations: 16, Final score: -0.0444 \n",
      " =================================================================\n",
      "Trying: 4 layers, 500 neurons per layer, iter_no_change=3\n",
      "Hidden layer sizes: (500, 500, 500, 500)\n"
     ]
    },
    {
     "name": "stderr",
     "output_type": "stream",
     "text": [
      "c:\\Users\\Gamer\\AppData\\Local\\Programs\\Python\\Python313\\Lib\\site-packages\\sklearn\\neural_network\\_multilayer_perceptron.py:1771: DataConversionWarning: A column-vector y was passed when a 1d array was expected. Please change the shape of y to (n_samples, ), for example using ravel().\n",
      "  y = column_or_1d(y, warn=True)\n"
     ]
    },
    {
     "name": "stdout",
     "output_type": "stream",
     "text": [
      "Training completed. Iterations: 13, Final score: -0.0226 \n",
      " =================================================================\n",
      "Trying: 4 layers, 500 neurons per layer, iter_no_change=3\n",
      "Hidden layer sizes: (500, 500, 500, 500)\n"
     ]
    },
    {
     "name": "stderr",
     "output_type": "stream",
     "text": [
      "c:\\Users\\Gamer\\AppData\\Local\\Programs\\Python\\Python313\\Lib\\site-packages\\sklearn\\neural_network\\_multilayer_perceptron.py:1771: DataConversionWarning: A column-vector y was passed when a 1d array was expected. Please change the shape of y to (n_samples, ), for example using ravel().\n",
      "  y = column_or_1d(y, warn=True)\n"
     ]
    },
    {
     "name": "stdout",
     "output_type": "stream",
     "text": [
      "Training completed. Iterations: 14, Final score: -0.0790 \n",
      " =================================================================\n",
      "Trying: 4 layers, 500 neurons per layer, iter_no_change=3\n",
      "Hidden layer sizes: (500, 500, 500, 500)\n"
     ]
    },
    {
     "name": "stderr",
     "output_type": "stream",
     "text": [
      "c:\\Users\\Gamer\\AppData\\Local\\Programs\\Python\\Python313\\Lib\\site-packages\\sklearn\\neural_network\\_multilayer_perceptron.py:1771: DataConversionWarning: A column-vector y was passed when a 1d array was expected. Please change the shape of y to (n_samples, ), for example using ravel().\n",
      "  y = column_or_1d(y, warn=True)\n"
     ]
    },
    {
     "name": "stdout",
     "output_type": "stream",
     "text": [
      "Training completed. Iterations: 13, Final score: -0.0286 \n",
      " =================================================================\n",
      "Trying: 4 layers, 500 neurons per layer, iter_no_change=3\n",
      "Hidden layer sizes: (500, 500, 500, 500)\n"
     ]
    },
    {
     "name": "stderr",
     "output_type": "stream",
     "text": [
      "c:\\Users\\Gamer\\AppData\\Local\\Programs\\Python\\Python313\\Lib\\site-packages\\sklearn\\neural_network\\_multilayer_perceptron.py:1771: DataConversionWarning: A column-vector y was passed when a 1d array was expected. Please change the shape of y to (n_samples, ), for example using ravel().\n",
      "  y = column_or_1d(y, warn=True)\n"
     ]
    },
    {
     "name": "stdout",
     "output_type": "stream",
     "text": [
      "Training completed. Iterations: 14, Final score: 0.0033 \n",
      " =================================================================\n",
      "Trying: 4 layers, 500 neurons per layer, iter_no_change=3\n",
      "Hidden layer sizes: (500, 500, 500, 500)\n"
     ]
    },
    {
     "name": "stderr",
     "output_type": "stream",
     "text": [
      "c:\\Users\\Gamer\\AppData\\Local\\Programs\\Python\\Python313\\Lib\\site-packages\\sklearn\\neural_network\\_multilayer_perceptron.py:1771: DataConversionWarning: A column-vector y was passed when a 1d array was expected. Please change the shape of y to (n_samples, ), for example using ravel().\n",
      "  y = column_or_1d(y, warn=True)\n"
     ]
    },
    {
     "name": "stdout",
     "output_type": "stream",
     "text": [
      "Training completed. Iterations: 17, Final score: -0.0208 \n",
      " =================================================================\n",
      "Trying: 4 layers, 500 neurons per layer, iter_no_change=3\n",
      "Hidden layer sizes: (500, 500, 500, 500)\n"
     ]
    },
    {
     "name": "stderr",
     "output_type": "stream",
     "text": [
      "c:\\Users\\Gamer\\AppData\\Local\\Programs\\Python\\Python313\\Lib\\site-packages\\sklearn\\neural_network\\_multilayer_perceptron.py:1771: DataConversionWarning: A column-vector y was passed when a 1d array was expected. Please change the shape of y to (n_samples, ), for example using ravel().\n",
      "  y = column_or_1d(y, warn=True)\n"
     ]
    },
    {
     "name": "stdout",
     "output_type": "stream",
     "text": [
      "Training completed. Iterations: 16, Final score: 0.0049 \n",
      " =================================================================\n",
      "Trying: 4 layers, 500 neurons per layer, iter_no_change=3\n",
      "Hidden layer sizes: (500, 500, 500, 500)\n"
     ]
    },
    {
     "name": "stderr",
     "output_type": "stream",
     "text": [
      "c:\\Users\\Gamer\\AppData\\Local\\Programs\\Python\\Python313\\Lib\\site-packages\\sklearn\\neural_network\\_multilayer_perceptron.py:1771: DataConversionWarning: A column-vector y was passed when a 1d array was expected. Please change the shape of y to (n_samples, ), for example using ravel().\n",
      "  y = column_or_1d(y, warn=True)\n"
     ]
    },
    {
     "name": "stdout",
     "output_type": "stream",
     "text": [
      "Training completed. Iterations: 16, Final score: -0.0244 \n",
      " =================================================================\n",
      "Trying: 4 layers, 500 neurons per layer, iter_no_change=3\n",
      "Hidden layer sizes: (500, 500, 500, 500)\n"
     ]
    },
    {
     "name": "stderr",
     "output_type": "stream",
     "text": [
      "c:\\Users\\Gamer\\AppData\\Local\\Programs\\Python\\Python313\\Lib\\site-packages\\sklearn\\neural_network\\_multilayer_perceptron.py:1771: DataConversionWarning: A column-vector y was passed when a 1d array was expected. Please change the shape of y to (n_samples, ), for example using ravel().\n",
      "  y = column_or_1d(y, warn=True)\n"
     ]
    },
    {
     "name": "stdout",
     "output_type": "stream",
     "text": [
      "Training completed. Iterations: 14, Final score: -0.6957 \n",
      " =================================================================\n",
      "Trying: 9 layers, 416 neurons per layer, iter_no_change=3\n",
      "Hidden layer sizes: (416, 416, 416, 416, 416, 416, 416, 416, 416)\n"
     ]
    },
    {
     "name": "stderr",
     "output_type": "stream",
     "text": [
      "c:\\Users\\Gamer\\AppData\\Local\\Programs\\Python\\Python313\\Lib\\site-packages\\sklearn\\neural_network\\_multilayer_perceptron.py:1771: DataConversionWarning: A column-vector y was passed when a 1d array was expected. Please change the shape of y to (n_samples, ), for example using ravel().\n",
      "  y = column_or_1d(y, warn=True)\n"
     ]
    },
    {
     "name": "stdout",
     "output_type": "stream",
     "text": [
      "Training completed. Iterations: 7, Final score: -0.0678 \n",
      " =================================================================\n",
      "Best parameters: OrderedDict({'activation': 'tanh', 'alpha': 0.23554245569095184, 'beta_1': 4.652360306069111, 'beta_2': 41.36854098588839, 'epsilon': 4.095761041120462e-07, 'hidden_layer_amount': 9, 'learning_rate_init': 0.05945936814025195, 'momentum': 50.979319245063316, 'neuron_amount': 416, 'power_t': 36.83666329987621, 'solver': 'lbfgs', 'validation_fraction': 0.061060402248963724, 'warm_start': False})\n"
     ]
    }
   ],
   "source": [
    "if train_new_model:\n",
    "    opt = BayesSearchCV(\n",
    "        MLPWrapper(),\n",
    "        search_params,\n",
    "        n_iter=iterations,\n",
    "        random_state=42,\n",
    "        cv=cross_validations\n",
    "    )\n",
    "\n",
    "    opt.fit(X_train, y_train.values)\n",
    "    print(f\"Best parameters: {opt.best_params_}\")\n",
    "    model = opt.best_estimator_\n",
    "    \n",
    "    # model = MLPRegressor(\n",
    "    #     hidden_layer_sizes=hidden_layers,\n",
    "    #     learning_rate=\"adaptive\",\n",
    "    #     early_stopping=True,\n",
    "    #     verbose=True,\n",
    "    #     tol=0.00001,\n",
    "    #     n_iter_no_change=round(40000/hidden_layers[0]*4/len(hidden_layers))\n",
    "    # )\n",
    "    # print(f\"iter_no_change: {model.n_iter_no_change}\")\n",
    "    # model.fit(X_train, y_train.values)"
   ]
  },
  {
   "cell_type": "markdown",
   "metadata": {},
   "source": [
    "## Testing and benchmarking"
   ]
  },
  {
   "cell_type": "code",
   "execution_count": 12,
   "metadata": {},
   "outputs": [
    {
     "data": {
      "image/png": "[encoded data removed]",
      "text/plain": [
       "<Figure size 1100x600 with 1 Axes>"
      ]
     },
     "metadata": {},
     "output_type": "display_data"
    },
    {
     "name": "stdout",
     "output_type": "stream",
     "text": [
      "3M Future Change - R²: -0.0929\n",
      "3M Future Change - MSE: 0.0525\n",
      "3M Future Change - MAE: 0.1441\n",
      "\n",
      "Overall Scores:\n",
      "Mean - R²: -0.0929\n",
      "Mean - MSE: 0.0525\n",
      "Mean - MAE: 0.1441\n"
     ]
    }
   ],
   "source": [
    "if train_new_model:\n",
    "    y_test_pred = model.predict(X_test)\n",
    "\n",
    "    for i, target in enumerate(['3M Future Change']):\n",
    "        y_test_actual = y_test[target].values\n",
    "        if getattr(y_test_pred, \"ndim\", 1) == 1:\n",
    "            y_test_pred_target = y_test_pred\n",
    "        else:\n",
    "            y_test_pred_target = y_test_pred[:, i]\n",
    "\n",
    "        plt.figure(figsize=(11, 6))\n",
    "        plt.scatter(y_test_actual, y_test_pred_target, alpha=0.7, color='blue', label='Predictions')\n",
    "        plt.plot([y_test_actual.min(), y_test_actual.max()], [y_test_actual.min(), y_test_actual.max()], \n",
    "            color='red', linestyle='--', label='Perfect Fit')\n",
    "        plt.title(f'Predicted vs Actual Values ({target})')\n",
    "        plt.xlabel('Actual Values')\n",
    "        plt.ylabel('Predicted Values')\n",
    "        plt.legend()\n",
    "        plt.grid(True)\n",
    "        plt.show()\n",
    "\n",
    "        mae = mean_absolute_error(y_test_actual, y_test_pred_target)\n",
    "        mse = mean_squared_error(y_test_actual, y_test_pred_target)\n",
    "        r2 = r2_score(y_test_actual, y_test_pred_target)\n",
    "\n",
    "        print(f'{target} - R²: {r2:.4f}')\n",
    "        print(f'{target} - MSE: {mse:.4f}')\n",
    "        print(f'{target} - MAE: {mae:.4f}')\n",
    "\n",
    "    # Overall metrics (single target)\n",
    "    overall_pred = y_test_pred if getattr(y_test_pred, \"ndim\", 1) == 1 else y_test_pred[:, 0]\n",
    "    mae = mean_absolute_error(y_test['3M Future Change'].values, overall_pred)\n",
    "    mse = mean_squared_error(y_test['3M Future Change'].values, overall_pred)\n",
    "    r2 = r2_score(y_test['3M Future Change'].values, overall_pred)\n",
    "\n",
    "    print('\\nOverall Scores:')\n",
    "    print(f'Mean - R²: {r2:.4f}')\n",
    "    print(f'Mean - MSE: {mse:.4f}')\n",
    "    print(f'Mean - MAE: {mae:.4f}')"
   ]
  },
  {
   "cell_type": "markdown",
   "metadata": {},
   "source": [
    "### Log test results"
   ]
  },
  {
   "cell_type": "code",
   "execution_count": 13,
   "metadata": {},
   "outputs": [],
   "source": [
    "if train_new_model:\n",
    "    test_results = pd.DataFrame({\n",
    "        'R²': r2,\n",
    "        'MSE': mse,\n",
    "        'MAE': mae,\n",
    "        'symbol_list': symbol_list,\n",
    "        \"iterations\": iterations,\n",
    "        'hidden_layer_sizes': [model.model.hidden_layer_sizes],\n",
    "        'max_iter': model.model.max_iter,\n",
    "        'n_iter_no_change': model.model.n_iter_no_change,\n",
    "        'learning_rate': model.model.learning_rate,\n",
    "        'learning_rate_init': model.model.learning_rate_init,\n",
    "        'batch_size': model.model.batch_size,\n",
    "        'tol': model.model.tol,\n",
    "        'alpha': model.model.alpha,\n",
    "        'shuffle': model.model.shuffle,\n",
    "    })\n",
    "    test_results.to_csv('../data/model_results/test_results.csv', mode='a', index=False)\n",
    "\n",
    "    # save model as new best if results are better than the current one\n",
    "    best_r2 = pd.read_csv('../data/model_results/best_model_results.csv').loc[0, 'R²']\n",
    "    if r2 > best_r2:\n",
    "        print(f'Old best R²: {best_r2}')\n",
    "        print(f'New best R²: {r2}')\n",
    "        print('Saving new best model...')\n",
    "        test_results.to_csv('../data/model_results/best_model_results.csv', mode='w', index=False)\n",
    "        with open('../models/best_model.pkl','wb') as f:\n",
    "            pickle.dump(model,f)\n",
    "        "
   ]
  },
  {
   "cell_type": "markdown",
   "metadata": {},
   "source": [
    "## Predictions on latest data"
   ]
  },
  {
   "cell_type": "code",
   "execution_count": 14,
   "metadata": {},
   "outputs": [
    {
     "ename": "FileNotFoundError",
     "evalue": "[Errno 2] No such file or directory: '../models/best_model.pkl'",
     "output_type": "error",
     "traceback": [
      "\u001b[1;31m---------------------------------------------------------------------------\u001b[0m",
      "\u001b[1;31mFileNotFoundError\u001b[0m                         Traceback (most recent call last)",
      "Cell \u001b[1;32mIn[14], line 3\u001b[0m\n\u001b[0;32m      1\u001b[0m best_r2 \u001b[38;5;241m=\u001b[39m pd\u001b[38;5;241m.\u001b[39mread_csv(\u001b[38;5;124m'\u001b[39m\u001b[38;5;124m../data/model_results/best_model_results.csv\u001b[39m\u001b[38;5;124m'\u001b[39m)\u001b[38;5;241m.\u001b[39mloc[\u001b[38;5;241m0\u001b[39m, \u001b[38;5;124m'\u001b[39m\u001b[38;5;124mR²\u001b[39m\u001b[38;5;124m'\u001b[39m]\n\u001b[1;32m----> 3\u001b[0m \u001b[38;5;28;01mwith\u001b[39;00m \u001b[38;5;28;43mopen\u001b[39;49m\u001b[43m(\u001b[49m\u001b[38;5;124;43m'\u001b[39;49m\u001b[38;5;124;43m../models/best_model.pkl\u001b[39;49m\u001b[38;5;124;43m'\u001b[39;49m\u001b[43m,\u001b[49m\u001b[43m \u001b[49m\u001b[38;5;124;43m'\u001b[39;49m\u001b[38;5;124;43mrb\u001b[39;49m\u001b[38;5;124;43m'\u001b[39;49m\u001b[43m)\u001b[49m \u001b[38;5;28;01mas\u001b[39;00m f:\n\u001b[0;32m      4\u001b[0m     model \u001b[38;5;241m=\u001b[39m pickle\u001b[38;5;241m.\u001b[39mload(f)\n\u001b[0;32m      5\u001b[0m     \u001b[38;5;28mprint\u001b[39m(\u001b[38;5;124mf\u001b[39m\u001b[38;5;124m'\u001b[39m\u001b[38;5;124mBest model R²: \u001b[39m\u001b[38;5;132;01m{\u001b[39;00mbest_r2\u001b[38;5;132;01m}\u001b[39;00m\u001b[38;5;124m'\u001b[39m)\n",
      "File \u001b[1;32m~\\AppData\\Roaming\\Python\\Python313\\site-packages\\IPython\\core\\interactiveshell.py:324\u001b[0m, in \u001b[0;36m_modified_open\u001b[1;34m(file, *args, **kwargs)\u001b[0m\n\u001b[0;32m    317\u001b[0m \u001b[38;5;28;01mif\u001b[39;00m file \u001b[38;5;129;01min\u001b[39;00m {\u001b[38;5;241m0\u001b[39m, \u001b[38;5;241m1\u001b[39m, \u001b[38;5;241m2\u001b[39m}:\n\u001b[0;32m    318\u001b[0m     \u001b[38;5;28;01mraise\u001b[39;00m \u001b[38;5;167;01mValueError\u001b[39;00m(\n\u001b[0;32m    319\u001b[0m         \u001b[38;5;124mf\u001b[39m\u001b[38;5;124m\"\u001b[39m\u001b[38;5;124mIPython won\u001b[39m\u001b[38;5;124m'\u001b[39m\u001b[38;5;124mt let you open fd=\u001b[39m\u001b[38;5;132;01m{\u001b[39;00mfile\u001b[38;5;132;01m}\u001b[39;00m\u001b[38;5;124m by default \u001b[39m\u001b[38;5;124m\"\u001b[39m\n\u001b[0;32m    320\u001b[0m         \u001b[38;5;124m\"\u001b[39m\u001b[38;5;124mas it is likely to crash IPython. If you know what you are doing, \u001b[39m\u001b[38;5;124m\"\u001b[39m\n\u001b[0;32m    321\u001b[0m         \u001b[38;5;124m\"\u001b[39m\u001b[38;5;124myou can use builtins\u001b[39m\u001b[38;5;124m'\u001b[39m\u001b[38;5;124m open.\u001b[39m\u001b[38;5;124m\"\u001b[39m\n\u001b[0;32m    322\u001b[0m     )\n\u001b[1;32m--> 324\u001b[0m \u001b[38;5;28;01mreturn\u001b[39;00m \u001b[43mio_open\u001b[49m\u001b[43m(\u001b[49m\u001b[43mfile\u001b[49m\u001b[43m,\u001b[49m\u001b[43m \u001b[49m\u001b[38;5;241;43m*\u001b[39;49m\u001b[43margs\u001b[49m\u001b[43m,\u001b[49m\u001b[43m \u001b[49m\u001b[38;5;241;43m*\u001b[39;49m\u001b[38;5;241;43m*\u001b[39;49m\u001b[43mkwargs\u001b[49m\u001b[43m)\u001b[49m\n",
      "\u001b[1;31mFileNotFoundError\u001b[0m: [Errno 2] No such file or directory: '../models/best_model.pkl'"
     ]
    }
   ],
   "source": [
    "best_r2 = pd.read_csv('../data/model_results/best_model_results.csv').loc[0, 'R²']\n",
    "\n",
    "with open('../models/best_model.pkl', 'rb') as f:\n",
    "    model = pickle.load(f)\n",
    "    print(f'Best model R²: {best_r2}')\n"
   ]
  },
  {
   "cell_type": "code",
   "execution_count": null,
   "metadata": {},
   "outputs": [
    {
     "ename": "TypeError",
     "evalue": "cannot unpack non-iterable numpy.float64 object",
     "output_type": "error",
     "traceback": [
      "\u001b[31m---------------------------------------------------------------------------\u001b[39m",
      "\u001b[31mTypeError\u001b[39m                                 Traceback (most recent call last)",
      "\u001b[36mCell\u001b[39m\u001b[36m \u001b[39m\u001b[32mIn[16]\u001b[39m\u001b[32m, line 6\u001b[39m\n\u001b[32m      4\u001b[39m \u001b[38;5;28;01mfor\u001b[39;00m i \u001b[38;5;129;01min\u001b[39;00m \u001b[38;5;28mrange\u001b[39m(\u001b[38;5;28mlen\u001b[39m(X_pred)):\n\u001b[32m      5\u001b[39m     y_pred = model.predict(X_pred.iloc[[i]])[\u001b[32m0\u001b[39m]\n\u001b[32m----> \u001b[39m\u001b[32m6\u001b[39m     y_pred_3m, y_pred_6m, y_pred_9m, y_pred_1y = y_pred\n\u001b[32m      7\u001b[39m     avg = (y_pred_3m + y_pred_6m + y_pred_9m + y_pred_1y) / \u001b[32m4\u001b[39m\n\u001b[32m      8\u001b[39m     results.append({\n\u001b[32m      9\u001b[39m         \u001b[33m'\u001b[39m\u001b[33mTicker\u001b[39m\u001b[33m'\u001b[39m: df_raw.loc[i*\u001b[32m4\u001b[39m, \u001b[33m'\u001b[39m\u001b[33mTicker\u001b[39m\u001b[33m'\u001b[39m],\n\u001b[32m     10\u001b[39m         \u001b[33m'\u001b[39m\u001b[33mName\u001b[39m\u001b[33m'\u001b[39m: df_raw.loc[i*\u001b[32m4\u001b[39m, \u001b[33m'\u001b[39m\u001b[33mName\u001b[39m\u001b[33m'\u001b[39m],\n\u001b[32m   (...)\u001b[39m\u001b[32m     15\u001b[39m         \u001b[33m'\u001b[39m\u001b[33m1y (\u001b[39m\u001b[33m%\u001b[39m\u001b[33m)\u001b[39m\u001b[33m'\u001b[39m: y_pred_1y * \u001b[32m100\u001b[39m\n\u001b[32m     16\u001b[39m     })\n",
      "\u001b[31mTypeError\u001b[39m: cannot unpack non-iterable numpy.float64 object"
     ]
    }
   ],
   "source": [
    "df_raw = pd.read_csv('../data/model_results/earnings_data.csv')\n",
    "\n",
    "results = []\n",
    "for i in range(len(X_pred)):\n",
    "    y_pred = model.predict(X_pred.iloc[[i]])[0]\n",
    "    y_pred_3m, y_pred_6m, y_pred_9m, y_pred_1y = y_pred\n",
    "    avg = (y_pred_3m + y_pred_6m + y_pred_9m + y_pred_1y) / 4\n",
    "    results.append({\n",
    "        'Ticker': df_raw.loc[i*4, 'Ticker'],\n",
    "        'Name': df_raw.loc[i*4, 'Name'],\n",
    "        'mean (%)': avg * 100,\n",
    "        '3m (%)': y_pred_3m * 100,\n",
    "        '6m (%)': y_pred_6m * 100,\n",
    "        '9m (%)': y_pred_9m * 100,\n",
    "        '1y (%)': y_pred_1y * 100\n",
    "    })\n",
    "\n",
    "results_df = pd.DataFrame(results)\n",
    "results_df"
   ]
  },
  {
   "cell_type": "code",
   "execution_count": null,
   "metadata": {},
   "outputs": [],
   "source": [
    "def predict_ticker(ticker_str):\n",
    "    try:\n",
    "        ticker_str = str(ticker_str).upper()\n",
    "        ticker_str = ticker_str.replace(\"'\", \"\")\n",
    "        ticker_str = ticker_str.replace('\"', \"\")\n",
    "        row = results_df[results_df['Ticker'] == ticker_str]\n",
    "        if row.empty:\n",
    "            return (f\"Not enough data for this stock at this moment \\n Try another\", \"\", \"\", \"\", \"\")\n",
    "        row = row.iloc[0]\n",
    "        return (\n",
    "            f\"{row['3m (%)']:.2f}\",\n",
    "            f\"{row['6m (%)']:.2f}\",\n",
    "            f\"{row['9m (%)']:.2f}\",\n",
    "            f\"{row['1y (%)']:.2f}\",\n",
    "            f\"{row['mean (%)']:.2f}\",\n",
    "        )\n",
    "    except Exception as e:\n",
    "        return (f\"Error: {e}\", \"\", \"\", \"\", \"\")"
   ]
  },
  {
   "cell_type": "code",
   "execution_count": null,
   "metadata": {
    "vscode": {
     "languageId": "javascript"
    }
   },
   "outputs": [
    {
     "name": "stdout",
     "output_type": "stream",
     "text": [
      "* Running on local URL:  http://127.0.0.1:7860\n",
      "* Running on public URL: https://d6f7567b4876962a6e.gradio.live\n",
      "\n",
      "This share link expires in 1 week. For free permanent hosting and GPU upgrades, run `gradio deploy` from the terminal in the working directory to deploy to Hugging Face Spaces (https://huggingface.co/spaces)\n"
     ]
    },
    {
     "data": {
      "text/html": [
       "<div><iframe src=\"https://d6f7567b4876962a6e.gradio.live\" width=\"100%\" height=\"500\" allow=\"autoplay; camera; microphone; clipboard-read; clipboard-write;\" frameborder=\"0\" allowfullscreen></iframe></div>"
      ],
      "text/plain": [
       "<IPython.core.display.HTML object>"
      ]
     },
     "metadata": {},
     "output_type": "display_data"
    },
    {
     "data": {
      "text/plain": []
     },
     "execution_count": 20,
     "metadata": {},
     "output_type": "execute_result"
    }
   ],
   "source": [
    "iface = gr.Interface(\n",
    "    fn=predict_ticker,\n",
    "    inputs=gr.Textbox(label=\"Ticker e.g. 'TSLA' or 'NVDA'\"),\n",
    "    outputs=[\n",
    "        gr.Textbox(label=\"3 Month Change Prediction (%)\"),\n",
    "        gr.Textbox(label=\"6 Month Change Prediction (%)\"),\n",
    "        gr.Textbox(label=\"9 Month Change Prediction (%)\"),\n",
    "        gr.Textbox(label=\"1 Year Change Prediction (%)\"),\n",
    "        gr.Textbox(label=\"Mean Change Prediction (%)\"),\n",
    "    ],\n",
    "    title=\"Stock Price Prediction Model\",\n",
    "    description=\" \"\n",
    ")\n",
    "\n",
    "iface.launch(share=True)"
   ]
  }
 ],
 "metadata": {
  "kernelspec": {
   "display_name": "Python 3",
   "language": "python",
   "name": "python3"
  },
  "language_info": {
   "codemirror_mode": {
    "name": "ipython",
    "version": 3
   },
   "file_extension": ".py",
   "mimetype": "text/x-python",
   "name": "python",
   "nbconvert_exporter": "python",
   "pygments_lexer": "ipython3",
   "version": "3.13.4"
  }
 },
 "nbformat": 4,
 "nbformat_minor": 2
}
