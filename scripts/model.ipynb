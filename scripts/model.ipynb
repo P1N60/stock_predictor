{
 "cells": [
  {
   "cell_type": "markdown",
   "metadata": {},
   "source": [
    "# Stock Price Prediction Model"
   ]
  },
  {
   "cell_type": "markdown",
   "metadata": {},
   "source": [
    "## Dependencies"
   ]
  },
  {
   "cell_type": "markdown",
   "metadata": {},
   "source": [
    "### Library Installation (if needed)"
   ]
  },
  {
   "cell_type": "code",
   "execution_count": 1,
   "metadata": {},
   "outputs": [],
   "source": [
    "#! pip install -Ur requirements.txt"
   ]
  },
  {
   "cell_type": "markdown",
   "metadata": {},
   "source": [
    "### Importing Required Libraries"
   ]
  },
  {
   "cell_type": "code",
   "execution_count": 2,
   "metadata": {},
   "outputs": [
    {
     "name": "stderr",
     "output_type": "stream",
     "text": [
      "/home/victorvj/.local/lib/python3.13/site-packages/tqdm/auto.py:21: TqdmWarning: IProgress not found. Please update jupyter and ipywidgets. See https://ipywidgets.readthedocs.io/en/stable/user_install.html\n",
      "  from .autonotebook import tqdm as notebook_tqdm\n"
     ]
    }
   ],
   "source": [
    "import matplotlib.pyplot as plt\n",
    "import yfinance as yf\n",
    "import pandas as pd\n",
    "import numpy as np\n",
    "import pickle\n",
    "import gradio as gr\n",
    "import ast\n",
    "import warnings\n",
    "from methods.model_methods import *\n",
    "from datetime import datetime\n",
    "from tqdm import tqdm\n",
    "from skopt import BayesSearchCV\n",
    "from skopt.space import Real, Categorical, Integer\n",
    "from sklearn.impute import SimpleImputer\n",
    "from sklearn.metrics import r2_score, mean_squared_error, mean_absolute_error\n",
    "from sklearn.preprocessing import LabelEncoder, StandardScaler\n",
    "warnings.filterwarnings(\"ignore\", category=FutureWarning)\n",
    "warnings.filterwarnings(\"ignore\", category=SyntaxWarning)"
   ]
  },
  {
   "cell_type": "code",
   "execution_count": 3,
   "metadata": {},
   "outputs": [
    {
     "data": {
      "application/vnd.microsoft.datawrangler.viewer.v0+json": {
       "columns": [
        {
         "name": "index",
         "rawType": "int64",
         "type": "integer"
        },
        {
         "name": "Ticker",
         "rawType": "object",
         "type": "string"
        },
        {
         "name": "Name",
         "rawType": "object",
         "type": "string"
        },
        {
         "name": "Date",
         "rawType": "datetime64[ns]",
         "type": "datetime"
        },
        {
         "name": "Earn Index",
         "rawType": "int64",
         "type": "integer"
        },
        {
         "name": "Sector",
         "rawType": "object",
         "type": "string"
        },
        {
         "name": "Industry",
         "rawType": "object",
         "type": "string"
        },
        {
         "name": "3M Future Change",
         "rawType": "float64",
         "type": "float"
        },
        {
         "name": "TaxEffectOfUnusualItems",
         "rawType": "float64",
         "type": "float"
        },
        {
         "name": "TaxRateForCalcs",
         "rawType": "float64",
         "type": "float"
        },
        {
         "name": "NormalizedEBITDA",
         "rawType": "float64",
         "type": "float"
        },
        {
         "name": "NetIncomeFromContinuingOperationNetMinorityInterest",
         "rawType": "float64",
         "type": "float"
        },
        {
         "name": "ReconciledDepreciation",
         "rawType": "float64",
         "type": "float"
        },
        {
         "name": "ReconciledCostOfRevenue",
         "rawType": "float64",
         "type": "float"
        },
        {
         "name": "EBITDA",
         "rawType": "float64",
         "type": "float"
        },
        {
         "name": "EBIT",
         "rawType": "float64",
         "type": "float"
        },
        {
         "name": "NetInterestIncome",
         "rawType": "float64",
         "type": "float"
        },
        {
         "name": "InterestExpense",
         "rawType": "float64",
         "type": "float"
        },
        {
         "name": "InterestIncome",
         "rawType": "float64",
         "type": "float"
        },
        {
         "name": "NormalizedIncome",
         "rawType": "float64",
         "type": "float"
        },
        {
         "name": "NetIncomeFromContinuingAndDiscontinuedOperation",
         "rawType": "float64",
         "type": "float"
        },
        {
         "name": "TotalExpenses",
         "rawType": "float64",
         "type": "float"
        },
        {
         "name": "TotalOperatingIncomeAsReported",
         "rawType": "float64",
         "type": "float"
        },
        {
         "name": "DilutedAverageShares",
         "rawType": "float64",
         "type": "float"
        },
        {
         "name": "BasicAverageShares",
         "rawType": "float64",
         "type": "float"
        },
        {
         "name": "DilutedEPS",
         "rawType": "float64",
         "type": "float"
        },
        {
         "name": "BasicEPS",
         "rawType": "float64",
         "type": "float"
        },
        {
         "name": "DilutedNIAvailtoComStockholders",
         "rawType": "float64",
         "type": "float"
        },
        {
         "name": "NetIncomeCommonStockholders",
         "rawType": "float64",
         "type": "float"
        },
        {
         "name": "NetIncome",
         "rawType": "float64",
         "type": "float"
        },
        {
         "name": "NetIncomeIncludingNoncontrollingInterests",
         "rawType": "float64",
         "type": "float"
        },
        {
         "name": "NetIncomeContinuousOperations",
         "rawType": "float64",
         "type": "float"
        },
        {
         "name": "TaxProvision",
         "rawType": "float64",
         "type": "float"
        },
        {
         "name": "PretaxIncome",
         "rawType": "float64",
         "type": "float"
        },
        {
         "name": "OtherIncomeExpense",
         "rawType": "float64",
         "type": "float"
        },
        {
         "name": "OtherNonOperatingIncomeExpenses",
         "rawType": "float64",
         "type": "float"
        },
        {
         "name": "NetNonOperatingInterestIncomeExpense",
         "rawType": "float64",
         "type": "float"
        },
        {
         "name": "InterestExpenseNonOperating",
         "rawType": "float64",
         "type": "float"
        },
        {
         "name": "InterestIncomeNonOperating",
         "rawType": "float64",
         "type": "float"
        },
        {
         "name": "OperatingIncome",
         "rawType": "float64",
         "type": "float"
        },
        {
         "name": "OperatingExpense",
         "rawType": "float64",
         "type": "float"
        },
        {
         "name": "ResearchAndDevelopment",
         "rawType": "float64",
         "type": "float"
        },
        {
         "name": "SellingGeneralAndAdministration",
         "rawType": "float64",
         "type": "float"
        },
        {
         "name": "GrossProfit",
         "rawType": "float64",
         "type": "float"
        },
        {
         "name": "CostOfRevenue",
         "rawType": "float64",
         "type": "float"
        },
        {
         "name": "TotalRevenue",
         "rawType": "float64",
         "type": "float"
        },
        {
         "name": "OperatingRevenue",
         "rawType": "float64",
         "type": "float"
        }
       ],
       "ref": "ae0c2a02-26b8-4a6e-80c0-c0d3789ec554",
       "rows": [
        [
         "0",
         "AAPL",
         "Apple Inc.",
         "2025-06-30 00:00:00",
         "0",
         "Technology",
         "Consumer Electronics",
         null,
         "0.0",
         "0.163997",
         "31032000000.0",
         "23434000000.0",
         "2830000000.0",
         "50318000000.0",
         "31032000000.0",
         "28202000000.0",
         null,
         null,
         null,
         "23434000000.0",
         "23434000000.0",
         "65834000000.0",
         "28202000000.0",
         "14948179000.0",
         "14902886000.0",
         "1.57",
         "1.57",
         "23434000000.0",
         "23434000000.0",
         "23434000000.0",
         "23434000000.0",
         "23434000000.0",
         "4597000000.0",
         "28031000000.0",
         "-171000000.0",
         "-171000000.0",
         null,
         null,
         null,
         "28202000000.0",
         "15516000000.0",
         "8866000000.0",
         "6650000000.0",
         "43718000000.0",
         "50318000000.0",
         "94036000000.0",
         "94036000000.0"
        ],
        [
         "0",
         "AAPL",
         "Apple Inc.",
         "2025-03-31 00:00:00",
         "1",
         "Technology",
         "Consumer Electronics",
         "-0.07514051472094063",
         "0.0",
         "0.155",
         "32250000000.0",
         "24780000000.0",
         "2661000000.0",
         "50492000000.0",
         "32250000000.0",
         "29589000000.0",
         null,
         null,
         null,
         "24780000000.0",
         "24780000000.0",
         "65770000000.0",
         "29589000000.0",
         "15056133000.0",
         "14994082000.0",
         "1.65",
         "1.65",
         "24780000000.0",
         "24780000000.0",
         "24780000000.0",
         "24780000000.0",
         "24780000000.0",
         "4530000000.0",
         "29310000000.0",
         "-279000000.0",
         "-279000000.0",
         null,
         null,
         null,
         "29589000000.0",
         "15278000000.0",
         "8550000000.0",
         "6728000000.0",
         "44867000000.0",
         "50492000000.0",
         "95359000000.0",
         "95359000000.0"
        ],
        [
         "0",
         "AAPL",
         "Apple Inc.",
         "2024-12-31 00:00:00",
         "2",
         "Technology",
         "Consumer Electronics",
         "-0.10775736186175022",
         "0.0",
         "0.147",
         "45912000000.0",
         "36330000000.0",
         "3080000000.0",
         "66025000000.0",
         "45912000000.0",
         "42832000000.0",
         null,
         null,
         null,
         "36330000000.0",
         "36330000000.0",
         "81468000000.0",
         "42832000000.0",
         "15150865000.0",
         "15081724000.0",
         "2.4",
         "2.41",
         "36330000000.0",
         "36330000000.0",
         "36330000000.0",
         "36330000000.0",
         "36330000000.0",
         "6254000000.0",
         "42584000000.0",
         "-248000000.0",
         "-248000000.0",
         null,
         null,
         null,
         "42832000000.0",
         "15443000000.0",
         "8268000000.0",
         "7175000000.0",
         "58275000000.0",
         "66025000000.0",
         "124300000000.0",
         "124300000000.0"
        ],
        [
         "0",
         "AAPL",
         "Apple Inc.",
         "2024-09-30 00:00:00",
         "3",
         "Technology",
         "Consumer Electronics",
         "0.08359427444335532",
         "0.0",
         "0.241",
         "134661000000.0",
         "93736000000.0",
         "11445000000.0",
         "210352000000.0",
         "134661000000.0",
         "123216000000.0",
         null,
         null,
         null,
         "93736000000.0",
         "93736000000.0",
         "267819000000.0",
         "123216000000.0",
         "15408095000.0",
         "15343783000.0",
         "6.08",
         "6.11",
         "93736000000.0",
         "93736000000.0",
         "93736000000.0",
         "93736000000.0",
         "93736000000.0",
         "29749000000.0",
         "123485000000.0",
         "269000000.0",
         "269000000.0",
         null,
         null,
         null,
         "123216000000.0",
         "57467000000.0",
         "31370000000.0",
         "26097000000.0",
         "180683000000.0",
         "210352000000.0",
         "391035000000.0",
         "391035000000.0"
        ],
        [
         "0",
         "AAPL",
         "Apple Inc.",
         "2024-06-30 00:00:00",
         "4",
         "Technology",
         "Consumer Electronics",
         "0.0827731511583567",
         "0.0",
         "0.159",
         "28202000000.0",
         "21448000000.0",
         "2850000000.0",
         "46099000000.0",
         "28202000000.0",
         "25352000000.0",
         null,
         null,
         null,
         "21448000000.0",
         "21448000000.0",
         "60425000000.0",
         "25352000000.0",
         "15348175000.0",
         "15287521000.0",
         "1.4",
         "1.4",
         "21448000000.0",
         "21448000000.0",
         "21448000000.0",
         "21448000000.0",
         "21448000000.0",
         "4046000000.0",
         "25494000000.0",
         "142000000.0",
         "142000000.0",
         null,
         null,
         null,
         "25352000000.0",
         "14326000000.0",
         "8006000000.0",
         "6320000000.0",
         "39678000000.0",
         "46099000000.0",
         "85777000000.0",
         "85777000000.0"
        ],
        [
         "0",
         "AAPL",
         "Apple Inc.",
         "2023-09-30 00:00:00",
         "5",
         "Technology",
         "Consumer Electronics",
         "0.12600680983139934",
         "0.0",
         "0.147",
         "125820000000.0",
         "96995000000.0",
         "11519000000.0",
         "214137000000.0",
         "125820000000.0",
         "114301000000.0",
         "-183000000.0",
         "3933000000.0",
         "3750000000.0",
         "96995000000.0",
         "96995000000.0",
         "268984000000.0",
         "114301000000.0",
         "15812547000.0",
         "15744231000.0",
         "6.13",
         "6.16",
         "96995000000.0",
         "96995000000.0",
         "96995000000.0",
         "96995000000.0",
         "96995000000.0",
         "16741000000.0",
         "113736000000.0",
         "-565000000.0",
         "-565000000.0",
         "-183000000.0",
         "3933000000.0",
         "3750000000.0",
         "114301000000.0",
         "54847000000.0",
         "29915000000.0",
         "24932000000.0",
         "169148000000.0",
         "214137000000.0",
         "383285000000.0",
         "383285000000.0"
        ],
        [
         "0",
         "AAPL",
         "Apple Inc.",
         "2022-09-30 00:00:00",
         "6",
         "Technology",
         "Consumer Electronics",
         "-0.058281285556261",
         "0.0",
         "0.162",
         "130541000000.0",
         "99803000000.0",
         "11104000000.0",
         "223546000000.0",
         "130541000000.0",
         "119437000000.0",
         "-106000000.0",
         "2931000000.0",
         "2825000000.0",
         "99803000000.0",
         "99803000000.0",
         "274891000000.0",
         "119437000000.0",
         "16325819000.0",
         "16215963000.0",
         "6.11",
         "6.15",
         "99803000000.0",
         "99803000000.0",
         "99803000000.0",
         "99803000000.0",
         "99803000000.0",
         "19300000000.0",
         "119103000000.0",
         "-334000000.0",
         "-334000000.0",
         "-106000000.0",
         "2931000000.0",
         "2825000000.0",
         "119437000000.0",
         "51345000000.0",
         "26251000000.0",
         "25094000000.0",
         "170782000000.0",
         "223546000000.0",
         "394328000000.0",
         "394328000000.0"
        ],
        [
         "0",
         "AAPL",
         "Apple Inc.",
         "2021-09-30 00:00:00",
         "7",
         "Technology",
         "Consumer Electronics",
         "0.26120176926131533",
         "0.0",
         "0.133",
         "123136000000.0",
         "94680000000.0",
         "11284000000.0",
         "212981000000.0",
         "123136000000.0",
         "111852000000.0",
         "198000000.0",
         "2645000000.0",
         "2843000000.0",
         "94680000000.0",
         "94680000000.0",
         "256868000000.0",
         "108949000000.0",
         "16864919000.0",
         "16701272000.0",
         "5.61",
         "5.67",
         "94680000000.0",
         "94680000000.0",
         "94680000000.0",
         "94680000000.0",
         "94680000000.0",
         "14527000000.0",
         "109207000000.0",
         "60000000.0",
         "60000000.0",
         "198000000.0",
         "2645000000.0",
         "2843000000.0",
         "108949000000.0",
         "43887000000.0",
         "21914000000.0",
         "21973000000.0",
         "152836000000.0",
         "212981000000.0",
         "365817000000.0",
         "365817000000.0"
        ]
       ],
       "shape": {
        "columns": 46,
        "rows": 8
       }
      },
      "text/html": [
       "<div>\n",
       "<style scoped>\n",
       "    .dataframe tbody tr th:only-of-type {\n",
       "        vertical-align: middle;\n",
       "    }\n",
       "\n",
       "    .dataframe tbody tr th {\n",
       "        vertical-align: top;\n",
       "    }\n",
       "\n",
       "    .dataframe thead th {\n",
       "        text-align: right;\n",
       "    }\n",
       "</style>\n",
       "<table border=\"1\" class=\"dataframe\">\n",
       "  <thead>\n",
       "    <tr style=\"text-align: right;\">\n",
       "      <th></th>\n",
       "      <th>Ticker</th>\n",
       "      <th>Name</th>\n",
       "      <th>Date</th>\n",
       "      <th>Earn Index</th>\n",
       "      <th>Sector</th>\n",
       "      <th>Industry</th>\n",
       "      <th>3M Future Change</th>\n",
       "      <th>TaxEffectOfUnusualItems</th>\n",
       "      <th>TaxRateForCalcs</th>\n",
       "      <th>NormalizedEBITDA</th>\n",
       "      <th>...</th>\n",
       "      <th>InterestExpenseNonOperating</th>\n",
       "      <th>InterestIncomeNonOperating</th>\n",
       "      <th>OperatingIncome</th>\n",
       "      <th>OperatingExpense</th>\n",
       "      <th>ResearchAndDevelopment</th>\n",
       "      <th>SellingGeneralAndAdministration</th>\n",
       "      <th>GrossProfit</th>\n",
       "      <th>CostOfRevenue</th>\n",
       "      <th>TotalRevenue</th>\n",
       "      <th>OperatingRevenue</th>\n",
       "    </tr>\n",
       "  </thead>\n",
       "  <tbody>\n",
       "    <tr>\n",
       "      <th>0</th>\n",
       "      <td>AAPL</td>\n",
       "      <td>Apple Inc.</td>\n",
       "      <td>2025-06-30</td>\n",
       "      <td>0</td>\n",
       "      <td>Technology</td>\n",
       "      <td>Consumer Electronics</td>\n",
       "      <td>NaN</td>\n",
       "      <td>0.0</td>\n",
       "      <td>0.163997</td>\n",
       "      <td>3.103200e+10</td>\n",
       "      <td>...</td>\n",
       "      <td>NaN</td>\n",
       "      <td>NaN</td>\n",
       "      <td>2.820200e+10</td>\n",
       "      <td>1.551600e+10</td>\n",
       "      <td>8.866000e+09</td>\n",
       "      <td>6.650000e+09</td>\n",
       "      <td>4.371800e+10</td>\n",
       "      <td>5.031800e+10</td>\n",
       "      <td>9.403600e+10</td>\n",
       "      <td>9.403600e+10</td>\n",
       "    </tr>\n",
       "    <tr>\n",
       "      <th>0</th>\n",
       "      <td>AAPL</td>\n",
       "      <td>Apple Inc.</td>\n",
       "      <td>2025-03-31</td>\n",
       "      <td>1</td>\n",
       "      <td>Technology</td>\n",
       "      <td>Consumer Electronics</td>\n",
       "      <td>-0.075141</td>\n",
       "      <td>0.0</td>\n",
       "      <td>0.155000</td>\n",
       "      <td>3.225000e+10</td>\n",
       "      <td>...</td>\n",
       "      <td>NaN</td>\n",
       "      <td>NaN</td>\n",
       "      <td>2.958900e+10</td>\n",
       "      <td>1.527800e+10</td>\n",
       "      <td>8.550000e+09</td>\n",
       "      <td>6.728000e+09</td>\n",
       "      <td>4.486700e+10</td>\n",
       "      <td>5.049200e+10</td>\n",
       "      <td>9.535900e+10</td>\n",
       "      <td>9.535900e+10</td>\n",
       "    </tr>\n",
       "    <tr>\n",
       "      <th>0</th>\n",
       "      <td>AAPL</td>\n",
       "      <td>Apple Inc.</td>\n",
       "      <td>2024-12-31</td>\n",
       "      <td>2</td>\n",
       "      <td>Technology</td>\n",
       "      <td>Consumer Electronics</td>\n",
       "      <td>-0.107757</td>\n",
       "      <td>0.0</td>\n",
       "      <td>0.147000</td>\n",
       "      <td>4.591200e+10</td>\n",
       "      <td>...</td>\n",
       "      <td>NaN</td>\n",
       "      <td>NaN</td>\n",
       "      <td>4.283200e+10</td>\n",
       "      <td>1.544300e+10</td>\n",
       "      <td>8.268000e+09</td>\n",
       "      <td>7.175000e+09</td>\n",
       "      <td>5.827500e+10</td>\n",
       "      <td>6.602500e+10</td>\n",
       "      <td>1.243000e+11</td>\n",
       "      <td>1.243000e+11</td>\n",
       "    </tr>\n",
       "    <tr>\n",
       "      <th>0</th>\n",
       "      <td>AAPL</td>\n",
       "      <td>Apple Inc.</td>\n",
       "      <td>2024-09-30</td>\n",
       "      <td>3</td>\n",
       "      <td>Technology</td>\n",
       "      <td>Consumer Electronics</td>\n",
       "      <td>0.083594</td>\n",
       "      <td>0.0</td>\n",
       "      <td>0.241000</td>\n",
       "      <td>1.346610e+11</td>\n",
       "      <td>...</td>\n",
       "      <td>NaN</td>\n",
       "      <td>NaN</td>\n",
       "      <td>1.232160e+11</td>\n",
       "      <td>5.746700e+10</td>\n",
       "      <td>3.137000e+10</td>\n",
       "      <td>2.609700e+10</td>\n",
       "      <td>1.806830e+11</td>\n",
       "      <td>2.103520e+11</td>\n",
       "      <td>3.910350e+11</td>\n",
       "      <td>3.910350e+11</td>\n",
       "    </tr>\n",
       "    <tr>\n",
       "      <th>0</th>\n",
       "      <td>AAPL</td>\n",
       "      <td>Apple Inc.</td>\n",
       "      <td>2024-06-30</td>\n",
       "      <td>4</td>\n",
       "      <td>Technology</td>\n",
       "      <td>Consumer Electronics</td>\n",
       "      <td>0.082773</td>\n",
       "      <td>0.0</td>\n",
       "      <td>0.159000</td>\n",
       "      <td>2.820200e+10</td>\n",
       "      <td>...</td>\n",
       "      <td>NaN</td>\n",
       "      <td>NaN</td>\n",
       "      <td>2.535200e+10</td>\n",
       "      <td>1.432600e+10</td>\n",
       "      <td>8.006000e+09</td>\n",
       "      <td>6.320000e+09</td>\n",
       "      <td>3.967800e+10</td>\n",
       "      <td>4.609900e+10</td>\n",
       "      <td>8.577700e+10</td>\n",
       "      <td>8.577700e+10</td>\n",
       "    </tr>\n",
       "    <tr>\n",
       "      <th>0</th>\n",
       "      <td>AAPL</td>\n",
       "      <td>Apple Inc.</td>\n",
       "      <td>2023-09-30</td>\n",
       "      <td>5</td>\n",
       "      <td>Technology</td>\n",
       "      <td>Consumer Electronics</td>\n",
       "      <td>0.126007</td>\n",
       "      <td>0.0</td>\n",
       "      <td>0.147000</td>\n",
       "      <td>1.258200e+11</td>\n",
       "      <td>...</td>\n",
       "      <td>3.933000e+09</td>\n",
       "      <td>3.750000e+09</td>\n",
       "      <td>1.143010e+11</td>\n",
       "      <td>5.484700e+10</td>\n",
       "      <td>2.991500e+10</td>\n",
       "      <td>2.493200e+10</td>\n",
       "      <td>1.691480e+11</td>\n",
       "      <td>2.141370e+11</td>\n",
       "      <td>3.832850e+11</td>\n",
       "      <td>3.832850e+11</td>\n",
       "    </tr>\n",
       "    <tr>\n",
       "      <th>0</th>\n",
       "      <td>AAPL</td>\n",
       "      <td>Apple Inc.</td>\n",
       "      <td>2022-09-30</td>\n",
       "      <td>6</td>\n",
       "      <td>Technology</td>\n",
       "      <td>Consumer Electronics</td>\n",
       "      <td>-0.058281</td>\n",
       "      <td>0.0</td>\n",
       "      <td>0.162000</td>\n",
       "      <td>1.305410e+11</td>\n",
       "      <td>...</td>\n",
       "      <td>2.931000e+09</td>\n",
       "      <td>2.825000e+09</td>\n",
       "      <td>1.194370e+11</td>\n",
       "      <td>5.134500e+10</td>\n",
       "      <td>2.625100e+10</td>\n",
       "      <td>2.509400e+10</td>\n",
       "      <td>1.707820e+11</td>\n",
       "      <td>2.235460e+11</td>\n",
       "      <td>3.943280e+11</td>\n",
       "      <td>3.943280e+11</td>\n",
       "    </tr>\n",
       "    <tr>\n",
       "      <th>0</th>\n",
       "      <td>AAPL</td>\n",
       "      <td>Apple Inc.</td>\n",
       "      <td>2021-09-30</td>\n",
       "      <td>7</td>\n",
       "      <td>Technology</td>\n",
       "      <td>Consumer Electronics</td>\n",
       "      <td>0.261202</td>\n",
       "      <td>0.0</td>\n",
       "      <td>0.133000</td>\n",
       "      <td>1.231360e+11</td>\n",
       "      <td>...</td>\n",
       "      <td>2.645000e+09</td>\n",
       "      <td>2.843000e+09</td>\n",
       "      <td>1.089490e+11</td>\n",
       "      <td>4.388700e+10</td>\n",
       "      <td>2.191400e+10</td>\n",
       "      <td>2.197300e+10</td>\n",
       "      <td>1.528360e+11</td>\n",
       "      <td>2.129810e+11</td>\n",
       "      <td>3.658170e+11</td>\n",
       "      <td>3.658170e+11</td>\n",
       "    </tr>\n",
       "  </tbody>\n",
       "</table>\n",
       "<p>8 rows × 46 columns</p>\n",
       "</div>"
      ],
      "text/plain": [
       "  Ticker        Name       Date  Earn Index      Sector              Industry  \\\n",
       "0   AAPL  Apple Inc. 2025-06-30           0  Technology  Consumer Electronics   \n",
       "0   AAPL  Apple Inc. 2025-03-31           1  Technology  Consumer Electronics   \n",
       "0   AAPL  Apple Inc. 2024-12-31           2  Technology  Consumer Electronics   \n",
       "0   AAPL  Apple Inc. 2024-09-30           3  Technology  Consumer Electronics   \n",
       "0   AAPL  Apple Inc. 2024-06-30           4  Technology  Consumer Electronics   \n",
       "0   AAPL  Apple Inc. 2023-09-30           5  Technology  Consumer Electronics   \n",
       "0   AAPL  Apple Inc. 2022-09-30           6  Technology  Consumer Electronics   \n",
       "0   AAPL  Apple Inc. 2021-09-30           7  Technology  Consumer Electronics   \n",
       "\n",
       "   3M Future Change  TaxEffectOfUnusualItems  TaxRateForCalcs  \\\n",
       "0               NaN                      0.0         0.163997   \n",
       "0         -0.075141                      0.0         0.155000   \n",
       "0         -0.107757                      0.0         0.147000   \n",
       "0          0.083594                      0.0         0.241000   \n",
       "0          0.082773                      0.0         0.159000   \n",
       "0          0.126007                      0.0         0.147000   \n",
       "0         -0.058281                      0.0         0.162000   \n",
       "0          0.261202                      0.0         0.133000   \n",
       "\n",
       "   NormalizedEBITDA  ...  InterestExpenseNonOperating  \\\n",
       "0      3.103200e+10  ...                          NaN   \n",
       "0      3.225000e+10  ...                          NaN   \n",
       "0      4.591200e+10  ...                          NaN   \n",
       "0      1.346610e+11  ...                          NaN   \n",
       "0      2.820200e+10  ...                          NaN   \n",
       "0      1.258200e+11  ...                 3.933000e+09   \n",
       "0      1.305410e+11  ...                 2.931000e+09   \n",
       "0      1.231360e+11  ...                 2.645000e+09   \n",
       "\n",
       "   InterestIncomeNonOperating  OperatingIncome  OperatingExpense  \\\n",
       "0                         NaN     2.820200e+10      1.551600e+10   \n",
       "0                         NaN     2.958900e+10      1.527800e+10   \n",
       "0                         NaN     4.283200e+10      1.544300e+10   \n",
       "0                         NaN     1.232160e+11      5.746700e+10   \n",
       "0                         NaN     2.535200e+10      1.432600e+10   \n",
       "0                3.750000e+09     1.143010e+11      5.484700e+10   \n",
       "0                2.825000e+09     1.194370e+11      5.134500e+10   \n",
       "0                2.843000e+09     1.089490e+11      4.388700e+10   \n",
       "\n",
       "   ResearchAndDevelopment  SellingGeneralAndAdministration   GrossProfit  \\\n",
       "0            8.866000e+09                     6.650000e+09  4.371800e+10   \n",
       "0            8.550000e+09                     6.728000e+09  4.486700e+10   \n",
       "0            8.268000e+09                     7.175000e+09  5.827500e+10   \n",
       "0            3.137000e+10                     2.609700e+10  1.806830e+11   \n",
       "0            8.006000e+09                     6.320000e+09  3.967800e+10   \n",
       "0            2.991500e+10                     2.493200e+10  1.691480e+11   \n",
       "0            2.625100e+10                     2.509400e+10  1.707820e+11   \n",
       "0            2.191400e+10                     2.197300e+10  1.528360e+11   \n",
       "\n",
       "   CostOfRevenue  TotalRevenue  OperatingRevenue  \n",
       "0   5.031800e+10  9.403600e+10      9.403600e+10  \n",
       "0   5.049200e+10  9.535900e+10      9.535900e+10  \n",
       "0   6.602500e+10  1.243000e+11      1.243000e+11  \n",
       "0   2.103520e+11  3.910350e+11      3.910350e+11  \n",
       "0   4.609900e+10  8.577700e+10      8.577700e+10  \n",
       "0   2.141370e+11  3.832850e+11      3.832850e+11  \n",
       "0   2.235460e+11  3.943280e+11      3.943280e+11  \n",
       "0   2.129810e+11  3.658170e+11      3.658170e+11  \n",
       "\n",
       "[8 rows x 46 columns]"
      ]
     },
     "execution_count": 3,
     "metadata": {},
     "output_type": "execute_result"
    }
   ],
   "source": [
    "Stock(\"AAPL\").get_df_financials()"
   ]
  },
  {
   "cell_type": "markdown",
   "metadata": {},
   "source": [
    "### Variables"
   ]
  },
  {
   "cell_type": "code",
   "execution_count": 4,
   "metadata": {},
   "outputs": [],
   "source": [
    "symbol_list = input(\"Symbols: ('simple', 'filtered' or 'all')\") # 'simple' or 'all'. simple are the tickers from the screener notebook and all are all of the tickers in 'filtered_tickers'. You may also an 'Int' to get a % amount of random tickers from 'all'\n",
    "if symbol_list:\n",
    "    build_new_dataset = True\n",
    "else:\n",
    "    build_new_dataset = False\n",
    "    symbol_list = 'filtered'\n",
    "minimum_feature_threshold = 0.6\n",
    "outlier = 3\n",
    "iterations = input(\"Iterations eg. '10', '20', '30'\")\n",
    "if iterations:\n",
    "    iterations = ast.literal_eval(iterations)\n",
    "    train_new_model = True\n",
    "    search_params = {\n",
    "            \"hidden_layer_amount\": Integer(2, 10),\n",
    "            \"neuron_amount\": Integer(20, 500),\n",
    "            \"warm_start\": Categorical([False, True]),\n",
    "            \"activation\": Categorical(['identity', 'logistic', 'tanh', 'relu']),\n",
    "            \"solver\": Categorical(['sgd', 'adam', 'lbfgs']),\n",
    "            \"alpha\": Real(0.000001, 1),\n",
    "            \"learning_rate_init\": Real(0.00001, 0.1),\n",
    "            \"power_t\": Real(0.0001, 100),\n",
    "            \"momentum\": Real(0.0001, 100),\n",
    "            \"validation_fraction\": Real(0.05, 0.20),\n",
    "            \"beta_1\": Real(0.001, 10),\n",
    "            \"beta_2\": Real(0.0001, 100),\n",
    "            \"epsilon\": Real(0.0000000001, 0.000001),}\n",
    "    cross_validations = 2  # will be set to 3 if not specified\n",
    "    verticle_jobs = 1 #'-1' for max\n",
    "else:\n",
    "    train_new_model = False\n",
    "if build_new_dataset or train_new_model:\n",
    "    debugging = {'True': True, 'False': False}.get(input('Debug? (Bool)'))\n",
    "else:\n",
    "    debugging = False"
   ]
  },
  {
   "cell_type": "code",
   "execution_count": 5,
   "metadata": {},
   "outputs": [
    {
     "data": {
      "text/plain": [
       "array(['MATAS.CO', 'TRIFOR.CO', 'RHM.DE', ..., 'PETS', 'PTCT', 'WMT'],\n",
       "      shape=(2036,), dtype=object)"
      ]
     },
     "execution_count": 5,
     "metadata": {},
     "output_type": "execute_result"
    }
   ],
   "source": [
    "symbols = pd.read_csv('../data/tickers/simple_tickers.csv')['Ticker'].tolist()\n",
    "if symbol_list == 'filtered':\n",
    "    symbols = symbols + pd.read_csv('../data/tickers/model_filtered_tickers.csv')['Ticker'].tolist()\n",
    "elif symbol_list == 'all':\n",
    "    symbols = symbols + pd.read_csv('../data/tickers/tickers.csv')['Ticker'].tolist()\n",
    "elif symbol_list.isdigit():\n",
    "    all_symbols = pd.read_csv('../data/tickers/tickers.csv')['Ticker'].tolist()\n",
    "    num_symbols = max(1, round(len(all_symbols) * (int(symbol_list) / 100)))  \n",
    "    symbols = symbols + pd.read_csv(\"../data/tickers/model_filtered_tickers.csv\")[\"Ticker\"].tolist()\n",
    "    symbols = symbols + np.random.choice(all_symbols, num_symbols, replace=False).tolist()\n",
    "\n",
    "symbols = pd.Series(symbols).unique()\n",
    "symbols"
   ]
  },
  {
   "cell_type": "markdown",
   "metadata": {},
   "source": [
    "## Data Preparation"
   ]
  },
  {
   "cell_type": "markdown",
   "metadata": {},
   "source": [
    "#### Download annual financial data"
   ]
  },
  {
   "cell_type": "code",
   "execution_count": 6,
   "metadata": {},
   "outputs": [
    {
     "name": "stderr",
     "output_type": "stream",
     "text": [
      " 39%|███▉      | 790/2036 [1:13:39<1:56:09,  5.59s/it]\n",
      "1 Failed download:\n",
      "['7203.T']: Timeout('Failed to perform, curl: (28) Operation timed out after 10000 milliseconds with 27305 bytes received. See https://curl.se/libcurl/c/libcurl-errors.html first for more details.')\n",
      " 70%|██████▉   | 1424/2036 [2:14:08<57:39,  5.65s/it]  HTTP Error 404: \n",
      "100%|██████████| 2036/2036 [2:37:15<00:00,  4.63s/it]\n"
     ]
    }
   ],
   "source": [
    "if build_new_dataset:\n",
    "    df = pd.DataFrame()\n",
    "    filtered_pd = pd.read_csv(\"../data/tickers/model_filtered_tickers.csv\")\n",
    "    for symbol in tqdm(symbols, smoothing=0):\n",
    "        ticker_df = pd.DataFrame()\n",
    "        ticker = yf.Ticker(symbol)\n",
    "        stock = Stock(symbol)\n",
    "        try:\n",
    "            ticker_df = Stock(symbol).get_df_financials()\n",
    "            if ticker_df.isna().sum().sum() < round(29 * minimum_feature_threshold):\n",
    "                if symbol not in filtered_pd[\"Ticker\"].tolist():\n",
    "                    filtered_pd = pd.concat([filtered_pd, pd.DataFrame([{\"Ticker\": symbol}])])\n",
    "                imputer = SimpleImputer()\n",
    "                for column in ticker_df.columns.drop([\"Ticker\", \"Name\", \"Date\", \"3M Future Change\", \"Sector\", \"Industry\"]):\n",
    "                    if not ticker_df[column].isna().all():\n",
    "                        ticker_df[column] = imputer.fit_transform(ticker_df[[column]])\n",
    "            else:\n",
    "                if symbol in filtered_pd[\"Ticker\"].tolist():\n",
    "                    filtered_pd = filtered_pd[filtered_pd[\"Ticker\"] != symbol]\n",
    "                    if debugging:\n",
    "                        print(f\"Removed {symbol} from filtered tickers. Datapoints: {ticker_df.isna().sum().sum()}, Needed: {round(29 * minimum_feature_threshold)}\")\n",
    "                continue\n",
    "            df = pd.concat([df, ticker_df], ignore_index=True)\n",
    "        except Exception as error:\n",
    "            if symbol in filtered_pd[\"Ticker\"].tolist():\n",
    "                filtered_pd = filtered_pd[filtered_pd[\"Ticker\"] != symbol]\n",
    "                if debugging:\n",
    "                    print(f\"Removed {symbol} from filtered tickers because an exception was raised \\n {error}\")\n",
    "            else:\n",
    "                if debugging:\n",
    "                    print(f\"{symbol}: exception raised: {error}\")\n",
    "            continue\n",
    "    filtered_pd.to_csv(\"../data/tickers/model_filtered_tickers.csv\", index=False)\n",
    "    df.to_csv(\"../data/model_results/earnings_data.csv\", index=False)\n",
    "else:\n",
    "    df = pd.read_csv(\"../data/model_results/earnings_data.csv\")"
   ]
  },
  {
   "cell_type": "markdown",
   "metadata": {},
   "source": [
    "### Short visualisation"
   ]
  },
  {
   "cell_type": "code",
   "execution_count": 7,
   "metadata": {},
   "outputs": [],
   "source": [
    "if debugging:\n",
    "    display(df)"
   ]
  },
  {
   "cell_type": "markdown",
   "metadata": {},
   "source": [
    "### Impution and encoding"
   ]
  },
  {
   "cell_type": "code",
   "execution_count": 8,
   "metadata": {},
   "outputs": [],
   "source": [
    "imputer = SimpleImputer()\n",
    "scaler = StandardScaler()\n",
    "for column in df.columns.drop([\"Ticker\", \"Name\", \"Date\", \"Earn Index\", \"3M Future Change\", \"Sector\", \"Industry\"]):\n",
    "    df[column] = imputer.fit_transform(df[[column]])\n",
    "    scaler.fit(df[[column]])\n",
    "    df[column] = scaler.transform(df[[column]])\n",
    "\n",
    "le = LabelEncoder()\n",
    "for column in [\"Ticker\", \"Sector\", \"Industry\"]:\n",
    "    df[column] = df[column].astype(str)\n",
    "    le.fit(df[column])\n",
    "    df[column] = le.transform(df[column])"
   ]
  },
  {
   "cell_type": "markdown",
   "metadata": {},
   "source": [
    "### Splitting"
   ]
  },
  {
   "cell_type": "code",
   "execution_count": 9,
   "metadata": {},
   "outputs": [],
   "source": [
    "pred_data = df.loc[df[\"Earn Index\"] == 0].copy()\n",
    "test_data  = df.loc[df[\"Earn Index\"] == 1].copy()\n",
    "train_data = df.loc[~df[\"Earn Index\"].isin([0, 1])].copy()\n",
    "\n",
    "pred_data.reset_index(drop=True, inplace=True)\n",
    "test_data.reset_index(drop=True, inplace=True)\n",
    "train_data.reset_index(drop=True, inplace=True)\n",
    "\n",
    "if debugging:\n",
    "    print('Prediction Data:')\n",
    "    display(pred_data)\n",
    "    print(\"Test Data:\")\n",
    "    display(test_data)\n",
    "    print('Training Data:')\n",
    "    display(train_data)"
   ]
  },
  {
   "cell_type": "markdown",
   "metadata": {},
   "source": [
    "### Labeling"
   ]
  },
  {
   "cell_type": "code",
   "execution_count": 10,
   "metadata": {},
   "outputs": [],
   "source": [
    "training_columns = train_data.columns.drop([\"Name\", \"Sector\", \"Industry\", \"Date\", '3M Future Change'])\n",
    "label_columns = ['3M Future Change']\n",
    "X_pred = pred_data[training_columns]\n",
    "X_test = test_data[training_columns]\n",
    "y_test = test_data[label_columns]\n",
    "X_train = train_data[training_columns]\n",
    "y_train = train_data[label_columns]\n",
    "if debugging:\n",
    "    print(\"X_pred:\")\n",
    "    display(X_pred)\n",
    "    print(\"X_test:\")\n",
    "    display(X_test)\n",
    "    print(\"y_test:\")\n",
    "    display(y_test)\n",
    "    print(\"X_train:\")\n",
    "    display(X_train)\n",
    "    print(\"y_train:\")\n",
    "    display(y_train)"
   ]
  },
  {
   "cell_type": "markdown",
   "metadata": {},
   "source": [
    "## Model Training"
   ]
  },
  {
   "cell_type": "code",
   "execution_count": 11,
   "metadata": {},
   "outputs": [
    {
     "name": "stdout",
     "output_type": "stream",
     "text": [
      "Trying: 5 layers, 166 neurons per layer, iter_no_change=3\n",
      "Hidden layer sizes: (166, 166, 166, 166, 166)\n"
     ]
    },
    {
     "name": "stderr",
     "output_type": "stream",
     "text": [
      "/home/victorvj/.local/lib/python3.13/site-packages/sklearn/neural_network/_multilayer_perceptron.py:1771: DataConversionWarning: A column-vector y was passed when a 1d array was expected. Please change the shape of y to (n_samples, ), for example using ravel().\n",
      "  y = column_or_1d(y, warn=True)\n"
     ]
    },
    {
     "name": "stdout",
     "output_type": "stream",
     "text": [
      "Training completed. Iterations: 26, Final score: -0.0041 \n",
      " =================================================================\n",
      "Trying: 5 layers, 166 neurons per layer, iter_no_change=3\n",
      "Hidden layer sizes: (166, 166, 166, 166, 166)\n"
     ]
    },
    {
     "name": "stderr",
     "output_type": "stream",
     "text": [
      "/home/victorvj/.local/lib/python3.13/site-packages/sklearn/neural_network/_multilayer_perceptron.py:1771: DataConversionWarning: A column-vector y was passed when a 1d array was expected. Please change the shape of y to (n_samples, ), for example using ravel().\n",
      "  y = column_or_1d(y, warn=True)\n"
     ]
    },
    {
     "name": "stdout",
     "output_type": "stream",
     "text": [
      "Training completed. Iterations: 9, Final score: -0.1234 \n",
      " =================================================================\n",
      "Trying: 2 layers, 325 neurons per layer, iter_no_change=3\n",
      "Hidden layer sizes: (325, 325)\n"
     ]
    },
    {
     "name": "stderr",
     "output_type": "stream",
     "text": [
      "/home/victorvj/.local/lib/python3.13/site-packages/sklearn/neural_network/_multilayer_perceptron.py:1771: DataConversionWarning: A column-vector y was passed when a 1d array was expected. Please change the shape of y to (n_samples, ), for example using ravel().\n",
      "  y = column_or_1d(y, warn=True)\n"
     ]
    },
    {
     "name": "stdout",
     "output_type": "stream",
     "text": [
      "Training completed. Iterations: 6, Final score: -52.7377 \n",
      " =================================================================\n",
      "Trying: 2 layers, 325 neurons per layer, iter_no_change=3\n",
      "Hidden layer sizes: (325, 325)\n",
      "Training completed. Iterations: 6, Final score: -57.2244 \n",
      " =================================================================\n"
     ]
    },
    {
     "name": "stderr",
     "output_type": "stream",
     "text": [
      "/home/victorvj/.local/lib/python3.13/site-packages/sklearn/neural_network/_multilayer_perceptron.py:1771: DataConversionWarning: A column-vector y was passed when a 1d array was expected. Please change the shape of y to (n_samples, ), for example using ravel().\n",
      "  y = column_or_1d(y, warn=True)\n"
     ]
    },
    {
     "name": "stdout",
     "output_type": "stream",
     "text": [
      "Trying: 6 layers, 288 neurons per layer, iter_no_change=3\n",
      "Hidden layer sizes: (288, 288, 288, 288, 288, 288)\n"
     ]
    },
    {
     "name": "stderr",
     "output_type": "stream",
     "text": [
      "/home/victorvj/.local/lib/python3.13/site-packages/sklearn/neural_network/_multilayer_perceptron.py:1771: DataConversionWarning: A column-vector y was passed when a 1d array was expected. Please change the shape of y to (n_samples, ), for example using ravel().\n",
      "  y = column_or_1d(y, warn=True)\n"
     ]
    },
    {
     "name": "stdout",
     "output_type": "stream",
     "text": [
      "Training completed. Iterations: 10, Final score: -0.0212 \n",
      " =================================================================\n",
      "Trying: 6 layers, 288 neurons per layer, iter_no_change=3\n",
      "Hidden layer sizes: (288, 288, 288, 288, 288, 288)\n"
     ]
    },
    {
     "name": "stderr",
     "output_type": "stream",
     "text": [
      "/home/victorvj/.local/lib/python3.13/site-packages/sklearn/neural_network/_multilayer_perceptron.py:1771: DataConversionWarning: A column-vector y was passed when a 1d array was expected. Please change the shape of y to (n_samples, ), for example using ravel().\n",
      "  y = column_or_1d(y, warn=True)\n"
     ]
    },
    {
     "name": "stdout",
     "output_type": "stream",
     "text": [
      "Training completed. Iterations: 6, Final score: -1.0959 \n",
      " =================================================================\n",
      "Trying: 3 layers, 458 neurons per layer, iter_no_change=3\n",
      "Hidden layer sizes: (458, 458, 458)\n"
     ]
    },
    {
     "name": "stderr",
     "output_type": "stream",
     "text": [
      "/home/victorvj/.local/lib/python3.13/site-packages/sklearn/neural_network/_multilayer_perceptron.py:1771: DataConversionWarning: A column-vector y was passed when a 1d array was expected. Please change the shape of y to (n_samples, ), for example using ravel().\n",
      "  y = column_or_1d(y, warn=True)\n"
     ]
    },
    {
     "name": "stdout",
     "output_type": "stream",
     "text": [
      "Training completed. Iterations: 44, Final score: -0.0054 \n",
      " =================================================================\n",
      "Trying: 3 layers, 458 neurons per layer, iter_no_change=3\n",
      "Hidden layer sizes: (458, 458, 458)\n"
     ]
    },
    {
     "name": "stderr",
     "output_type": "stream",
     "text": [
      "/home/victorvj/.local/lib/python3.13/site-packages/sklearn/neural_network/_multilayer_perceptron.py:1771: DataConversionWarning: A column-vector y was passed when a 1d array was expected. Please change the shape of y to (n_samples, ), for example using ravel().\n",
      "  y = column_or_1d(y, warn=True)\n"
     ]
    },
    {
     "name": "stdout",
     "output_type": "stream",
     "text": [
      "Training completed. Iterations: 27, Final score: -0.0077 \n",
      " =================================================================\n",
      "Trying: 8 layers, 189 neurons per layer, iter_no_change=3\n",
      "Hidden layer sizes: (189, 189, 189, 189, 189, 189, 189, 189)\n"
     ]
    },
    {
     "name": "stderr",
     "output_type": "stream",
     "text": [
      "/home/victorvj/.local/lib/python3.13/site-packages/sklearn/neural_network/_multilayer_perceptron.py:1771: DataConversionWarning: A column-vector y was passed when a 1d array was expected. Please change the shape of y to (n_samples, ), for example using ravel().\n",
      "  y = column_or_1d(y, warn=True)\n"
     ]
    },
    {
     "name": "stdout",
     "output_type": "stream",
     "text": [
      "Training completed. Iterations: 6, Final score: -0.0602 \n",
      " =================================================================\n",
      "Trying: 8 layers, 189 neurons per layer, iter_no_change=3\n",
      "Hidden layer sizes: (189, 189, 189, 189, 189, 189, 189, 189)\n"
     ]
    },
    {
     "name": "stderr",
     "output_type": "stream",
     "text": [
      "/home/victorvj/.local/lib/python3.13/site-packages/sklearn/neural_network/_multilayer_perceptron.py:1771: DataConversionWarning: A column-vector y was passed when a 1d array was expected. Please change the shape of y to (n_samples, ), for example using ravel().\n",
      "  y = column_or_1d(y, warn=True)\n"
     ]
    },
    {
     "name": "stdout",
     "output_type": "stream",
     "text": [
      "Training completed. Iterations: 6, Final score: -0.0961 \n",
      " =================================================================\n",
      "Trying: 5 layers, 397 neurons per layer, iter_no_change=3\n",
      "Hidden layer sizes: (397, 397, 397, 397, 397)\n"
     ]
    },
    {
     "name": "stderr",
     "output_type": "stream",
     "text": [
      "/home/victorvj/.local/lib/python3.13/site-packages/sklearn/neural_network/_multilayer_perceptron.py:1771: DataConversionWarning: A column-vector y was passed when a 1d array was expected. Please change the shape of y to (n_samples, ), for example using ravel().\n",
      "  y = column_or_1d(y, warn=True)\n"
     ]
    },
    {
     "name": "stdout",
     "output_type": "stream",
     "text": [
      "Training completed. Iterations: 20, Final score: -0.0216 \n",
      " =================================================================\n",
      "Trying: 5 layers, 397 neurons per layer, iter_no_change=3\n",
      "Hidden layer sizes: (397, 397, 397, 397, 397)\n"
     ]
    },
    {
     "name": "stderr",
     "output_type": "stream",
     "text": [
      "/home/victorvj/.local/lib/python3.13/site-packages/sklearn/neural_network/_multilayer_perceptron.py:1771: DataConversionWarning: A column-vector y was passed when a 1d array was expected. Please change the shape of y to (n_samples, ), for example using ravel().\n",
      "  y = column_or_1d(y, warn=True)\n"
     ]
    },
    {
     "name": "stdout",
     "output_type": "stream",
     "text": [
      "Training completed. Iterations: 24, Final score: 0.0174 \n",
      " =================================================================\n",
      "Trying: 7 layers, 372 neurons per layer, iter_no_change=3\n",
      "Hidden layer sizes: (372, 372, 372, 372, 372, 372, 372)\n"
     ]
    },
    {
     "name": "stderr",
     "output_type": "stream",
     "text": [
      "/home/victorvj/.local/lib/python3.13/site-packages/sklearn/neural_network/_multilayer_perceptron.py:1771: DataConversionWarning: A column-vector y was passed when a 1d array was expected. Please change the shape of y to (n_samples, ), for example using ravel().\n",
      "  y = column_or_1d(y, warn=True)\n"
     ]
    },
    {
     "name": "stdout",
     "output_type": "stream",
     "text": [
      "Training completed. Iterations: 13, Final score: -0.4032 \n",
      " =================================================================\n",
      "Trying: 7 layers, 372 neurons per layer, iter_no_change=3\n",
      "Hidden layer sizes: (372, 372, 372, 372, 372, 372, 372)\n"
     ]
    },
    {
     "name": "stderr",
     "output_type": "stream",
     "text": [
      "/home/victorvj/.local/lib/python3.13/site-packages/sklearn/neural_network/_multilayer_perceptron.py:1771: DataConversionWarning: A column-vector y was passed when a 1d array was expected. Please change the shape of y to (n_samples, ), for example using ravel().\n",
      "  y = column_or_1d(y, warn=True)\n"
     ]
    },
    {
     "name": "stdout",
     "output_type": "stream",
     "text": [
      "Training completed. Iterations: 11, Final score: 0.0014 \n",
      " =================================================================\n",
      "Trying: 2 layers, 205 neurons per layer, iter_no_change=3\n",
      "Hidden layer sizes: (205, 205)\n"
     ]
    },
    {
     "name": "stderr",
     "output_type": "stream",
     "text": [
      "/home/victorvj/.local/lib/python3.13/site-packages/sklearn/neural_network/_multilayer_perceptron.py:1771: DataConversionWarning: A column-vector y was passed when a 1d array was expected. Please change the shape of y to (n_samples, ), for example using ravel().\n",
      "  y = column_or_1d(y, warn=True)\n",
      "/home/victorvj/.local/lib/python3.13/site-packages/sklearn/neural_network/_multilayer_perceptron.py:1771: DataConversionWarning: A column-vector y was passed when a 1d array was expected. Please change the shape of y to (n_samples, ), for example using ravel().\n",
      "  y = column_or_1d(y, warn=True)\n"
     ]
    },
    {
     "name": "stdout",
     "output_type": "stream",
     "text": [
      "Training completed. Iterations: 8, Final score: -14.3714 \n",
      " =================================================================\n",
      "Trying: 2 layers, 205 neurons per layer, iter_no_change=3\n",
      "Hidden layer sizes: (205, 205)\n",
      "Training completed. Iterations: 48, Final score: -0.1518 \n",
      " =================================================================\n",
      "Trying: 4 layers, 305 neurons per layer, iter_no_change=3\n",
      "Hidden layer sizes: (305, 305, 305, 305)\n"
     ]
    },
    {
     "name": "stderr",
     "output_type": "stream",
     "text": [
      "/home/victorvj/.local/lib/python3.13/site-packages/sklearn/neural_network/_multilayer_perceptron.py:1771: DataConversionWarning: A column-vector y was passed when a 1d array was expected. Please change the shape of y to (n_samples, ), for example using ravel().\n",
      "  y = column_or_1d(y, warn=True)\n"
     ]
    },
    {
     "name": "stdout",
     "output_type": "stream",
     "text": [
      "Training completed. Iterations: 28, Final score: -0.0517 \n",
      " =================================================================\n",
      "Trying: 4 layers, 305 neurons per layer, iter_no_change=3\n",
      "Hidden layer sizes: (305, 305, 305, 305)\n"
     ]
    },
    {
     "name": "stderr",
     "output_type": "stream",
     "text": [
      "/home/victorvj/.local/lib/python3.13/site-packages/sklearn/neural_network/_multilayer_perceptron.py:1771: DataConversionWarning: A column-vector y was passed when a 1d array was expected. Please change the shape of y to (n_samples, ), for example using ravel().\n",
      "  y = column_or_1d(y, warn=True)\n"
     ]
    },
    {
     "name": "stdout",
     "output_type": "stream",
     "text": [
      "Training completed. Iterations: 20, Final score: -0.0473 \n",
      " =================================================================\n",
      "Trying: 4 layers, 449 neurons per layer, iter_no_change=3\n",
      "Hidden layer sizes: (449, 449, 449, 449)\n"
     ]
    },
    {
     "name": "stderr",
     "output_type": "stream",
     "text": [
      "/home/victorvj/.local/lib/python3.13/site-packages/sklearn/neural_network/_multilayer_perceptron.py:1771: DataConversionWarning: A column-vector y was passed when a 1d array was expected. Please change the shape of y to (n_samples, ), for example using ravel().\n",
      "  y = column_or_1d(y, warn=True)\n"
     ]
    },
    {
     "name": "stdout",
     "output_type": "stream",
     "text": [
      "Training completed. Iterations: 12, Final score: -0.3362 \n",
      " =================================================================\n",
      "Trying: 4 layers, 449 neurons per layer, iter_no_change=3\n",
      "Hidden layer sizes: (449, 449, 449, 449)\n"
     ]
    },
    {
     "name": "stderr",
     "output_type": "stream",
     "text": [
      "/home/victorvj/.local/lib/python3.13/site-packages/sklearn/neural_network/_multilayer_perceptron.py:1771: DataConversionWarning: A column-vector y was passed when a 1d array was expected. Please change the shape of y to (n_samples, ), for example using ravel().\n",
      "  y = column_or_1d(y, warn=True)\n"
     ]
    },
    {
     "name": "stdout",
     "output_type": "stream",
     "text": [
      "Training completed. Iterations: 21, Final score: -0.0340 \n",
      " =================================================================\n",
      "Trying: 8 layers, 402 neurons per layer, iter_no_change=3\n",
      "Hidden layer sizes: (402, 402, 402, 402, 402, 402, 402, 402)\n"
     ]
    },
    {
     "name": "stderr",
     "output_type": "stream",
     "text": [
      "/home/victorvj/.local/lib/python3.13/site-packages/sklearn/neural_network/_multilayer_perceptron.py:1771: DataConversionWarning: A column-vector y was passed when a 1d array was expected. Please change the shape of y to (n_samples, ), for example using ravel().\n",
      "  y = column_or_1d(y, warn=True)\n"
     ]
    },
    {
     "name": "stdout",
     "output_type": "stream",
     "text": [
      "Training completed. Iterations: 16, Final score: -0.0493 \n",
      " =================================================================\n",
      "Trying: 8 layers, 402 neurons per layer, iter_no_change=3\n",
      "Hidden layer sizes: (402, 402, 402, 402, 402, 402, 402, 402)\n"
     ]
    },
    {
     "name": "stderr",
     "output_type": "stream",
     "text": [
      "/home/victorvj/.local/lib/python3.13/site-packages/sklearn/neural_network/_multilayer_perceptron.py:1771: DataConversionWarning: A column-vector y was passed when a 1d array was expected. Please change the shape of y to (n_samples, ), for example using ravel().\n",
      "  y = column_or_1d(y, warn=True)\n"
     ]
    },
    {
     "name": "stdout",
     "output_type": "stream",
     "text": [
      "Training completed. Iterations: 16, Final score: -0.0080 \n",
      " =================================================================\n",
      "Trying: 8 layers, 451 neurons per layer, iter_no_change=3\n",
      "Hidden layer sizes: (451, 451, 451, 451, 451, 451, 451, 451)\n"
     ]
    },
    {
     "name": "stderr",
     "output_type": "stream",
     "text": [
      "/home/victorvj/.local/lib/python3.13/site-packages/sklearn/neural_network/_multilayer_perceptron.py:1771: DataConversionWarning: A column-vector y was passed when a 1d array was expected. Please change the shape of y to (n_samples, ), for example using ravel().\n",
      "  y = column_or_1d(y, warn=True)\n"
     ]
    },
    {
     "name": "stdout",
     "output_type": "stream",
     "text": [
      "Training completed. Iterations: 18, Final score: -0.0089 \n",
      " =================================================================\n",
      "Trying: 8 layers, 451 neurons per layer, iter_no_change=3\n",
      "Hidden layer sizes: (451, 451, 451, 451, 451, 451, 451, 451)\n"
     ]
    },
    {
     "name": "stderr",
     "output_type": "stream",
     "text": [
      "/home/victorvj/.local/lib/python3.13/site-packages/sklearn/neural_network/_multilayer_perceptron.py:1771: DataConversionWarning: A column-vector y was passed when a 1d array was expected. Please change the shape of y to (n_samples, ), for example using ravel().\n",
      "  y = column_or_1d(y, warn=True)\n"
     ]
    },
    {
     "name": "stdout",
     "output_type": "stream",
     "text": [
      "Training completed. Iterations: 16, Final score: 0.0064 \n",
      " =================================================================\n",
      "Trying: 8 layers, 425 neurons per layer, iter_no_change=3\n",
      "Hidden layer sizes: (425, 425, 425, 425, 425, 425, 425, 425)\n"
     ]
    },
    {
     "name": "stderr",
     "output_type": "stream",
     "text": [
      "/home/victorvj/.local/lib/python3.13/site-packages/sklearn/neural_network/_multilayer_perceptron.py:1771: DataConversionWarning: A column-vector y was passed when a 1d array was expected. Please change the shape of y to (n_samples, ), for example using ravel().\n",
      "  y = column_or_1d(y, warn=True)\n"
     ]
    },
    {
     "name": "stdout",
     "output_type": "stream",
     "text": [
      "Training completed. Iterations: 9, Final score: -0.0039 \n",
      " =================================================================\n",
      "Trying: 8 layers, 425 neurons per layer, iter_no_change=3\n",
      "Hidden layer sizes: (425, 425, 425, 425, 425, 425, 425, 425)\n"
     ]
    },
    {
     "name": "stderr",
     "output_type": "stream",
     "text": [
      "/home/victorvj/.local/lib/python3.13/site-packages/sklearn/neural_network/_multilayer_perceptron.py:1771: DataConversionWarning: A column-vector y was passed when a 1d array was expected. Please change the shape of y to (n_samples, ), for example using ravel().\n",
      "  y = column_or_1d(y, warn=True)\n"
     ]
    },
    {
     "name": "stdout",
     "output_type": "stream",
     "text": [
      "Training completed. Iterations: 8, Final score: -0.0331 \n",
      " =================================================================\n",
      "Trying: 2 layers, 406 neurons per layer, iter_no_change=3\n",
      "Hidden layer sizes: (406, 406)\n"
     ]
    },
    {
     "name": "stderr",
     "output_type": "stream",
     "text": [
      "/home/victorvj/.local/lib/python3.13/site-packages/sklearn/neural_network/_multilayer_perceptron.py:1771: DataConversionWarning: A column-vector y was passed when a 1d array was expected. Please change the shape of y to (n_samples, ), for example using ravel().\n",
      "  y = column_or_1d(y, warn=True)\n"
     ]
    },
    {
     "name": "stdout",
     "output_type": "stream",
     "text": [
      "Training completed. Iterations: 10, Final score: -10.6690 \n",
      " =================================================================\n",
      "Trying: 2 layers, 406 neurons per layer, iter_no_change=3\n",
      "Hidden layer sizes: (406, 406)\n"
     ]
    },
    {
     "name": "stderr",
     "output_type": "stream",
     "text": [
      "/home/victorvj/.local/lib/python3.13/site-packages/sklearn/neural_network/_multilayer_perceptron.py:1771: DataConversionWarning: A column-vector y was passed when a 1d array was expected. Please change the shape of y to (n_samples, ), for example using ravel().\n",
      "  y = column_or_1d(y, warn=True)\n"
     ]
    },
    {
     "name": "stdout",
     "output_type": "stream",
     "text": [
      "Training completed. Iterations: 18, Final score: -0.7760 \n",
      " =================================================================\n",
      "Trying: 3 layers, 471 neurons per layer, iter_no_change=3\n",
      "Hidden layer sizes: (471, 471, 471)\n"
     ]
    },
    {
     "name": "stderr",
     "output_type": "stream",
     "text": [
      "/home/victorvj/.local/lib/python3.13/site-packages/sklearn/neural_network/_multilayer_perceptron.py:1771: DataConversionWarning: A column-vector y was passed when a 1d array was expected. Please change the shape of y to (n_samples, ), for example using ravel().\n",
      "  y = column_or_1d(y, warn=True)\n"
     ]
    },
    {
     "name": "stdout",
     "output_type": "stream",
     "text": [
      "Training completed. Iterations: 10, Final score: -3.3922 \n",
      " =================================================================\n",
      "Trying: 3 layers, 471 neurons per layer, iter_no_change=3\n",
      "Hidden layer sizes: (471, 471, 471)\n"
     ]
    },
    {
     "name": "stderr",
     "output_type": "stream",
     "text": [
      "/home/victorvj/.local/lib/python3.13/site-packages/sklearn/neural_network/_multilayer_perceptron.py:1771: DataConversionWarning: A column-vector y was passed when a 1d array was expected. Please change the shape of y to (n_samples, ), for example using ravel().\n",
      "  y = column_or_1d(y, warn=True)\n"
     ]
    },
    {
     "name": "stdout",
     "output_type": "stream",
     "text": [
      "Training completed. Iterations: 14, Final score: -0.2018 \n",
      " =================================================================\n",
      "Trying: 3 layers, 451 neurons per layer, iter_no_change=3\n",
      "Hidden layer sizes: (451, 451, 451)\n"
     ]
    },
    {
     "name": "stderr",
     "output_type": "stream",
     "text": [
      "/home/victorvj/.local/lib/python3.13/site-packages/sklearn/neural_network/_multilayer_perceptron.py:1771: DataConversionWarning: A column-vector y was passed when a 1d array was expected. Please change the shape of y to (n_samples, ), for example using ravel().\n",
      "  y = column_or_1d(y, warn=True)\n"
     ]
    },
    {
     "name": "stdout",
     "output_type": "stream",
     "text": [
      "Training completed. Iterations: 43, Final score: 0.0514 \n",
      " =================================================================\n",
      "Trying: 3 layers, 451 neurons per layer, iter_no_change=3\n",
      "Hidden layer sizes: (451, 451, 451)\n"
     ]
    },
    {
     "name": "stderr",
     "output_type": "stream",
     "text": [
      "/home/victorvj/.local/lib/python3.13/site-packages/sklearn/neural_network/_multilayer_perceptron.py:1771: DataConversionWarning: A column-vector y was passed when a 1d array was expected. Please change the shape of y to (n_samples, ), for example using ravel().\n",
      "  y = column_or_1d(y, warn=True)\n"
     ]
    },
    {
     "name": "stdout",
     "output_type": "stream",
     "text": [
      "Training completed. Iterations: 16, Final score: -0.1458 \n",
      " =================================================================\n",
      "Trying: 8 layers, 431 neurons per layer, iter_no_change=3\n",
      "Hidden layer sizes: (431, 431, 431, 431, 431, 431, 431, 431)\n"
     ]
    },
    {
     "name": "stderr",
     "output_type": "stream",
     "text": [
      "/home/victorvj/.local/lib/python3.13/site-packages/sklearn/neural_network/_multilayer_perceptron.py:1771: DataConversionWarning: A column-vector y was passed when a 1d array was expected. Please change the shape of y to (n_samples, ), for example using ravel().\n",
      "  y = column_or_1d(y, warn=True)\n"
     ]
    },
    {
     "name": "stdout",
     "output_type": "stream",
     "text": [
      "Training completed. Iterations: 12, Final score: -0.0007 \n",
      " =================================================================\n",
      "Trying: 8 layers, 431 neurons per layer, iter_no_change=3\n",
      "Hidden layer sizes: (431, 431, 431, 431, 431, 431, 431, 431)\n"
     ]
    },
    {
     "name": "stderr",
     "output_type": "stream",
     "text": [
      "/home/victorvj/.local/lib/python3.13/site-packages/sklearn/neural_network/_multilayer_perceptron.py:1771: DataConversionWarning: A column-vector y was passed when a 1d array was expected. Please change the shape of y to (n_samples, ), for example using ravel().\n",
      "  y = column_or_1d(y, warn=True)\n"
     ]
    },
    {
     "name": "stdout",
     "output_type": "stream",
     "text": [
      "Training completed. Iterations: 13, Final score: 0.0090 \n",
      " =================================================================\n",
      "Trying: 3 layers, 349 neurons per layer, iter_no_change=3\n",
      "Hidden layer sizes: (349, 349, 349)\n"
     ]
    },
    {
     "name": "stderr",
     "output_type": "stream",
     "text": [
      "/home/victorvj/.local/lib/python3.13/site-packages/sklearn/neural_network/_multilayer_perceptron.py:1771: DataConversionWarning: A column-vector y was passed when a 1d array was expected. Please change the shape of y to (n_samples, ), for example using ravel().\n",
      "  y = column_or_1d(y, warn=True)\n"
     ]
    },
    {
     "name": "stdout",
     "output_type": "stream",
     "text": [
      "Training completed. Iterations: 10, Final score: -1.6828 \n",
      " =================================================================\n",
      "Trying: 3 layers, 349 neurons per layer, iter_no_change=3\n",
      "Hidden layer sizes: (349, 349, 349)\n"
     ]
    },
    {
     "name": "stderr",
     "output_type": "stream",
     "text": [
      "/home/victorvj/.local/lib/python3.13/site-packages/sklearn/neural_network/_multilayer_perceptron.py:1771: DataConversionWarning: A column-vector y was passed when a 1d array was expected. Please change the shape of y to (n_samples, ), for example using ravel().\n",
      "  y = column_or_1d(y, warn=True)\n"
     ]
    },
    {
     "name": "stdout",
     "output_type": "stream",
     "text": [
      "Training completed. Iterations: 10, Final score: -0.9740 \n",
      " =================================================================\n",
      "Trying: 4 layers, 137 neurons per layer, iter_no_change=3\n",
      "Hidden layer sizes: (137, 137, 137, 137)\n"
     ]
    },
    {
     "name": "stderr",
     "output_type": "stream",
     "text": [
      "/home/victorvj/.local/lib/python3.13/site-packages/sklearn/neural_network/_multilayer_perceptron.py:1771: DataConversionWarning: A column-vector y was passed when a 1d array was expected. Please change the shape of y to (n_samples, ), for example using ravel().\n",
      "  y = column_or_1d(y, warn=True)\n"
     ]
    },
    {
     "name": "stdout",
     "output_type": "stream",
     "text": [
      "Training completed. Iterations: 16, Final score: -0.2988 \n",
      " =================================================================\n",
      "Trying: 4 layers, 137 neurons per layer, iter_no_change=3\n",
      "Hidden layer sizes: (137, 137, 137, 137)\n",
      "Training completed. Iterations: 7, Final score: -0.4392 \n",
      " =================================================================\n"
     ]
    },
    {
     "name": "stderr",
     "output_type": "stream",
     "text": [
      "/home/victorvj/.local/lib/python3.13/site-packages/sklearn/neural_network/_multilayer_perceptron.py:1771: DataConversionWarning: A column-vector y was passed when a 1d array was expected. Please change the shape of y to (n_samples, ), for example using ravel().\n",
      "  y = column_or_1d(y, warn=True)\n"
     ]
    },
    {
     "name": "stdout",
     "output_type": "stream",
     "text": [
      "Trying: 3 layers, 417 neurons per layer, iter_no_change=3\n",
      "Hidden layer sizes: (417, 417, 417)\n"
     ]
    },
    {
     "name": "stderr",
     "output_type": "stream",
     "text": [
      "/home/victorvj/.local/lib/python3.13/site-packages/sklearn/neural_network/_multilayer_perceptron.py:1771: DataConversionWarning: A column-vector y was passed when a 1d array was expected. Please change the shape of y to (n_samples, ), for example using ravel().\n",
      "  y = column_or_1d(y, warn=True)\n"
     ]
    },
    {
     "name": "stdout",
     "output_type": "stream",
     "text": [
      "Training completed. Iterations: 30, Final score: -0.0414 \n",
      " =================================================================\n",
      "Trying: 3 layers, 417 neurons per layer, iter_no_change=3\n",
      "Hidden layer sizes: (417, 417, 417)\n"
     ]
    },
    {
     "name": "stderr",
     "output_type": "stream",
     "text": [
      "/home/victorvj/.local/lib/python3.13/site-packages/sklearn/neural_network/_multilayer_perceptron.py:1771: DataConversionWarning: A column-vector y was passed when a 1d array was expected. Please change the shape of y to (n_samples, ), for example using ravel().\n",
      "  y = column_or_1d(y, warn=True)\n"
     ]
    },
    {
     "name": "stdout",
     "output_type": "stream",
     "text": [
      "Training completed. Iterations: 14, Final score: -0.2271 \n",
      " =================================================================\n",
      "Trying: 3 layers, 407 neurons per layer, iter_no_change=3\n",
      "Hidden layer sizes: (407, 407, 407)\n"
     ]
    },
    {
     "name": "stderr",
     "output_type": "stream",
     "text": [
      "/home/victorvj/.local/lib/python3.13/site-packages/sklearn/neural_network/_multilayer_perceptron.py:1771: DataConversionWarning: A column-vector y was passed when a 1d array was expected. Please change the shape of y to (n_samples, ), for example using ravel().\n",
      "  y = column_or_1d(y, warn=True)\n"
     ]
    },
    {
     "name": "stdout",
     "output_type": "stream",
     "text": [
      "Training completed. Iterations: 8, Final score: -1.7242 \n",
      " =================================================================\n",
      "Trying: 3 layers, 407 neurons per layer, iter_no_change=3\n",
      "Hidden layer sizes: (407, 407, 407)\n"
     ]
    },
    {
     "name": "stderr",
     "output_type": "stream",
     "text": [
      "/home/victorvj/.local/lib/python3.13/site-packages/sklearn/neural_network/_multilayer_perceptron.py:1771: DataConversionWarning: A column-vector y was passed when a 1d array was expected. Please change the shape of y to (n_samples, ), for example using ravel().\n",
      "  y = column_or_1d(y, warn=True)\n"
     ]
    },
    {
     "name": "stdout",
     "output_type": "stream",
     "text": [
      "Training completed. Iterations: 41, Final score: -0.0094 \n",
      " =================================================================\n",
      "Trying: 4 layers, 263 neurons per layer, iter_no_change=3\n",
      "Hidden layer sizes: (263, 263, 263, 263)\n"
     ]
    },
    {
     "name": "stderr",
     "output_type": "stream",
     "text": [
      "/home/victorvj/.local/lib/python3.13/site-packages/sklearn/neural_network/_multilayer_perceptron.py:1771: DataConversionWarning: A column-vector y was passed when a 1d array was expected. Please change the shape of y to (n_samples, ), for example using ravel().\n",
      "  y = column_or_1d(y, warn=True)\n"
     ]
    },
    {
     "name": "stdout",
     "output_type": "stream",
     "text": [
      "Training completed. Iterations: 26, Final score: 0.0304 \n",
      " =================================================================\n",
      "Trying: 4 layers, 263 neurons per layer, iter_no_change=3\n",
      "Hidden layer sizes: (263, 263, 263, 263)\n"
     ]
    },
    {
     "name": "stderr",
     "output_type": "stream",
     "text": [
      "/home/victorvj/.local/lib/python3.13/site-packages/sklearn/neural_network/_multilayer_perceptron.py:1771: DataConversionWarning: A column-vector y was passed when a 1d array was expected. Please change the shape of y to (n_samples, ), for example using ravel().\n",
      "  y = column_or_1d(y, warn=True)\n"
     ]
    },
    {
     "name": "stdout",
     "output_type": "stream",
     "text": [
      "Training completed. Iterations: 14, Final score: -0.2077 \n",
      " =================================================================\n",
      "Trying: 7 layers, 500 neurons per layer, iter_no_change=3\n",
      "Hidden layer sizes: (500, 500, 500, 500, 500, 500, 500)\n"
     ]
    },
    {
     "name": "stderr",
     "output_type": "stream",
     "text": [
      "/home/victorvj/.local/lib/python3.13/site-packages/sklearn/neural_network/_multilayer_perceptron.py:1771: DataConversionWarning: A column-vector y was passed when a 1d array was expected. Please change the shape of y to (n_samples, ), for example using ravel().\n",
      "  y = column_or_1d(y, warn=True)\n"
     ]
    },
    {
     "name": "stdout",
     "output_type": "stream",
     "text": [
      "Training completed. Iterations: 7, Final score: -0.0934 \n",
      " =================================================================\n",
      "Trying: 7 layers, 500 neurons per layer, iter_no_change=3\n",
      "Hidden layer sizes: (500, 500, 500, 500, 500, 500, 500)\n"
     ]
    },
    {
     "name": "stderr",
     "output_type": "stream",
     "text": [
      "/home/victorvj/.local/lib/python3.13/site-packages/sklearn/neural_network/_multilayer_perceptron.py:1771: DataConversionWarning: A column-vector y was passed when a 1d array was expected. Please change the shape of y to (n_samples, ), for example using ravel().\n",
      "  y = column_or_1d(y, warn=True)\n"
     ]
    },
    {
     "name": "stdout",
     "output_type": "stream",
     "text": [
      "Training completed. Iterations: 5, Final score: -0.3725 \n",
      " =================================================================\n",
      "Trying: 3 layers, 458 neurons per layer, iter_no_change=3\n",
      "Hidden layer sizes: (458, 458, 458)\n"
     ]
    },
    {
     "name": "stderr",
     "output_type": "stream",
     "text": [
      "/home/victorvj/.local/lib/python3.13/site-packages/sklearn/neural_network/_multilayer_perceptron.py:1771: DataConversionWarning: A column-vector y was passed when a 1d array was expected. Please change the shape of y to (n_samples, ), for example using ravel().\n",
      "  y = column_or_1d(y, warn=True)\n"
     ]
    },
    {
     "name": "stdout",
     "output_type": "stream",
     "text": [
      "Training completed. Iterations: 22, Final score: -0.0894 \n",
      " =================================================================\n",
      "Trying: 3 layers, 458 neurons per layer, iter_no_change=3\n",
      "Hidden layer sizes: (458, 458, 458)\n"
     ]
    },
    {
     "name": "stderr",
     "output_type": "stream",
     "text": [
      "/home/victorvj/.local/lib/python3.13/site-packages/sklearn/neural_network/_multilayer_perceptron.py:1771: DataConversionWarning: A column-vector y was passed when a 1d array was expected. Please change the shape of y to (n_samples, ), for example using ravel().\n",
      "  y = column_or_1d(y, warn=True)\n"
     ]
    },
    {
     "name": "stdout",
     "output_type": "stream",
     "text": [
      "Training completed. Iterations: 53, Final score: 0.0609 \n",
      " =================================================================\n",
      "Trying: 10 layers, 500 neurons per layer, iter_no_change=3\n",
      "Hidden layer sizes: (500, 500, 500, 500, 500, 500, 500, 500, 500, 500)\n"
     ]
    },
    {
     "name": "stderr",
     "output_type": "stream",
     "text": [
      "/home/victorvj/.local/lib/python3.13/site-packages/sklearn/neural_network/_multilayer_perceptron.py:1771: DataConversionWarning: A column-vector y was passed when a 1d array was expected. Please change the shape of y to (n_samples, ), for example using ravel().\n",
      "  y = column_or_1d(y, warn=True)\n"
     ]
    },
    {
     "name": "stdout",
     "output_type": "stream",
     "text": [
      "Training completed. Iterations: 8, Final score: -0.0019 \n",
      " =================================================================\n",
      "Trying: 10 layers, 500 neurons per layer, iter_no_change=3\n",
      "Hidden layer sizes: (500, 500, 500, 500, 500, 500, 500, 500, 500, 500)\n"
     ]
    },
    {
     "name": "stderr",
     "output_type": "stream",
     "text": [
      "/home/victorvj/.local/lib/python3.13/site-packages/sklearn/neural_network/_multilayer_perceptron.py:1771: DataConversionWarning: A column-vector y was passed when a 1d array was expected. Please change the shape of y to (n_samples, ), for example using ravel().\n",
      "  y = column_or_1d(y, warn=True)\n"
     ]
    },
    {
     "name": "stdout",
     "output_type": "stream",
     "text": [
      "Training completed. Iterations: 14, Final score: 0.0011 \n",
      " =================================================================\n",
      "Trying: 10 layers, 448 neurons per layer, iter_no_change=3\n",
      "Hidden layer sizes: (448, 448, 448, 448, 448, 448, 448, 448, 448, 448)\n"
     ]
    },
    {
     "name": "stderr",
     "output_type": "stream",
     "text": [
      "/home/victorvj/.local/lib/python3.13/site-packages/sklearn/neural_network/_multilayer_perceptron.py:1771: DataConversionWarning: A column-vector y was passed when a 1d array was expected. Please change the shape of y to (n_samples, ), for example using ravel().\n",
      "  y = column_or_1d(y, warn=True)\n"
     ]
    },
    {
     "name": "stdout",
     "output_type": "stream",
     "text": [
      "Training completed. Iterations: 9, Final score: -0.0137 \n",
      " =================================================================\n",
      "Trying: 10 layers, 448 neurons per layer, iter_no_change=3\n",
      "Hidden layer sizes: (448, 448, 448, 448, 448, 448, 448, 448, 448, 448)\n"
     ]
    },
    {
     "name": "stderr",
     "output_type": "stream",
     "text": [
      "/home/victorvj/.local/lib/python3.13/site-packages/sklearn/neural_network/_multilayer_perceptron.py:1771: DataConversionWarning: A column-vector y was passed when a 1d array was expected. Please change the shape of y to (n_samples, ), for example using ravel().\n",
      "  y = column_or_1d(y, warn=True)\n"
     ]
    },
    {
     "name": "stdout",
     "output_type": "stream",
     "text": [
      "Training completed. Iterations: 10, Final score: 0.0035 \n",
      " =================================================================\n",
      "Trying: 5 layers, 500 neurons per layer, iter_no_change=3\n",
      "Hidden layer sizes: (500, 500, 500, 500, 500)\n"
     ]
    },
    {
     "name": "stderr",
     "output_type": "stream",
     "text": [
      "/home/victorvj/.local/lib/python3.13/site-packages/sklearn/neural_network/_multilayer_perceptron.py:1771: DataConversionWarning: A column-vector y was passed when a 1d array was expected. Please change the shape of y to (n_samples, ), for example using ravel().\n",
      "  y = column_or_1d(y, warn=True)\n"
     ]
    },
    {
     "name": "stdout",
     "output_type": "stream",
     "text": [
      "Training completed. Iterations: 14, Final score: -0.0003 \n",
      " =================================================================\n",
      "Trying: 5 layers, 500 neurons per layer, iter_no_change=3\n",
      "Hidden layer sizes: (500, 500, 500, 500, 500)\n"
     ]
    },
    {
     "name": "stderr",
     "output_type": "stream",
     "text": [
      "/home/victorvj/.local/lib/python3.13/site-packages/sklearn/neural_network/_multilayer_perceptron.py:1771: DataConversionWarning: A column-vector y was passed when a 1d array was expected. Please change the shape of y to (n_samples, ), for example using ravel().\n",
      "  y = column_or_1d(y, warn=True)\n"
     ]
    },
    {
     "name": "stdout",
     "output_type": "stream",
     "text": [
      "Training completed. Iterations: 18, Final score: -0.0904 \n",
      " =================================================================\n",
      "Trying: 10 layers, 500 neurons per layer, iter_no_change=3\n",
      "Hidden layer sizes: (500, 500, 500, 500, 500, 500, 500, 500, 500, 500)\n"
     ]
    },
    {
     "name": "stderr",
     "output_type": "stream",
     "text": [
      "/home/victorvj/.local/lib/python3.13/site-packages/sklearn/neural_network/_multilayer_perceptron.py:1771: DataConversionWarning: A column-vector y was passed when a 1d array was expected. Please change the shape of y to (n_samples, ), for example using ravel().\n",
      "  y = column_or_1d(y, warn=True)\n"
     ]
    },
    {
     "name": "stdout",
     "output_type": "stream",
     "text": [
      "Training completed. Iterations: 15, Final score: 0.0028 \n",
      " =================================================================\n",
      "Trying: 10 layers, 500 neurons per layer, iter_no_change=3\n",
      "Hidden layer sizes: (500, 500, 500, 500, 500, 500, 500, 500, 500, 500)\n"
     ]
    },
    {
     "name": "stderr",
     "output_type": "stream",
     "text": [
      "/home/victorvj/.local/lib/python3.13/site-packages/sklearn/neural_network/_multilayer_perceptron.py:1771: DataConversionWarning: A column-vector y was passed when a 1d array was expected. Please change the shape of y to (n_samples, ), for example using ravel().\n",
      "  y = column_or_1d(y, warn=True)\n"
     ]
    },
    {
     "name": "stdout",
     "output_type": "stream",
     "text": [
      "Training completed. Iterations: 22, Final score: 0.0091 \n",
      " =================================================================\n",
      "Trying: 5 layers, 334 neurons per layer, iter_no_change=3\n",
      "Hidden layer sizes: (334, 334, 334, 334, 334)\n"
     ]
    },
    {
     "name": "stderr",
     "output_type": "stream",
     "text": [
      "/home/victorvj/.local/lib/python3.13/site-packages/sklearn/neural_network/_multilayer_perceptron.py:1771: DataConversionWarning: A column-vector y was passed when a 1d array was expected. Please change the shape of y to (n_samples, ), for example using ravel().\n",
      "  y = column_or_1d(y, warn=True)\n"
     ]
    },
    {
     "name": "stdout",
     "output_type": "stream",
     "text": [
      "Training completed. Iterations: 8, Final score: -0.1821 \n",
      " =================================================================\n",
      "Trying: 5 layers, 334 neurons per layer, iter_no_change=3\n",
      "Hidden layer sizes: (334, 334, 334, 334, 334)\n"
     ]
    },
    {
     "name": "stderr",
     "output_type": "stream",
     "text": [
      "/home/victorvj/.local/lib/python3.13/site-packages/sklearn/neural_network/_multilayer_perceptron.py:1771: DataConversionWarning: A column-vector y was passed when a 1d array was expected. Please change the shape of y to (n_samples, ), for example using ravel().\n",
      "  y = column_or_1d(y, warn=True)\n"
     ]
    },
    {
     "name": "stdout",
     "output_type": "stream",
     "text": [
      "Training completed. Iterations: 6, Final score: -0.1594 \n",
      " =================================================================\n",
      "Trying: 4 layers, 500 neurons per layer, iter_no_change=3\n",
      "Hidden layer sizes: (500, 500, 500, 500)\n"
     ]
    },
    {
     "name": "stderr",
     "output_type": "stream",
     "text": [
      "/home/victorvj/.local/lib/python3.13/site-packages/sklearn/neural_network/_multilayer_perceptron.py:1771: DataConversionWarning: A column-vector y was passed when a 1d array was expected. Please change the shape of y to (n_samples, ), for example using ravel().\n",
      "  y = column_or_1d(y, warn=True)\n"
     ]
    },
    {
     "name": "stdout",
     "output_type": "stream",
     "text": [
      "Training completed. Iterations: 13, Final score: -0.1464 \n",
      " =================================================================\n",
      "Trying: 4 layers, 500 neurons per layer, iter_no_change=3\n",
      "Hidden layer sizes: (500, 500, 500, 500)\n"
     ]
    },
    {
     "name": "stderr",
     "output_type": "stream",
     "text": [
      "/home/victorvj/.local/lib/python3.13/site-packages/sklearn/neural_network/_multilayer_perceptron.py:1771: DataConversionWarning: A column-vector y was passed when a 1d array was expected. Please change the shape of y to (n_samples, ), for example using ravel().\n",
      "  y = column_or_1d(y, warn=True)\n"
     ]
    },
    {
     "name": "stdout",
     "output_type": "stream",
     "text": [
      "Training completed. Iterations: 5, Final score: -0.5356 \n",
      " =================================================================\n",
      "Trying: 8 layers, 431 neurons per layer, iter_no_change=3\n",
      "Hidden layer sizes: (431, 431, 431, 431, 431, 431, 431, 431)\n"
     ]
    },
    {
     "name": "stderr",
     "output_type": "stream",
     "text": [
      "/home/victorvj/.local/lib/python3.13/site-packages/sklearn/neural_network/_multilayer_perceptron.py:1771: DataConversionWarning: A column-vector y was passed when a 1d array was expected. Please change the shape of y to (n_samples, ), for example using ravel().\n",
      "  y = column_or_1d(y, warn=True)\n"
     ]
    },
    {
     "name": "stdout",
     "output_type": "stream",
     "text": [
      "Training completed. Iterations: 9, Final score: -0.0078 \n",
      " =================================================================\n",
      "Best parameters: OrderedDict({'activation': 'tanh', 'alpha': 0.5940468364863928, 'beta_1': 3.6718968152606046, 'beta_2': 87.49697134269036, 'epsilon': 6.72330278848059e-07, 'hidden_layer_amount': 8, 'learning_rate_init': 0.06963080769808741, 'momentum': 63.964875653761794, 'neuron_amount': 431, 'power_t': 50.4246031378782, 'solver': 'lbfgs', 'validation_fraction': 0.16019156113251012, 'warm_start': True})\n"
     ]
    }
   ],
   "source": [
    "if train_new_model:\n",
    "    opt = BayesSearchCV(\n",
    "        MLPWrapper(),\n",
    "        search_params,\n",
    "        n_iter=iterations,\n",
    "        random_state=42,\n",
    "        cv=cross_validations\n",
    "    )\n",
    "\n",
    "    opt.fit(X_train, y_train.values)\n",
    "    print(f\"Best parameters: {opt.best_params_}\")\n",
    "    model = opt.best_estimator_\n",
    "    \n",
    "    # model = MLPRegressor(\n",
    "    #     hidden_layer_sizes=hidden_layers,\n",
    "    #     learning_rate=\"adaptive\",\n",
    "    #     early_stopping=True,\n",
    "    #     verbose=True,\n",
    "    #     tol=0.00001,\n",
    "    #     n_iter_no_change=round(40000/hidden_layers[0]*4/len(hidden_layers))\n",
    "    # )\n",
    "    # print(f\"iter_no_change: {model.n_iter_no_change}\")\n",
    "    # model.fit(X_train, y_train.values)"
   ]
  },
  {
   "cell_type": "markdown",
   "metadata": {},
   "source": [
    "## Testing and benchmarking"
   ]
  },
  {
   "cell_type": "code",
   "execution_count": 12,
   "metadata": {},
   "outputs": [
    {
     "data": {
      "image/png": "[encoded data removed]",
      "text/plain": [
       "<Figure size 1100x600 with 1 Axes>"
      ]
     },
     "metadata": {},
     "output_type": "display_data"
    },
    {
     "name": "stdout",
     "output_type": "stream",
     "text": [
      "3M Future Change - R²: -0.0194\n",
      "3M Future Change - MSE: 0.0223\n",
      "3M Future Change - MAE: 0.1067\n",
      "\n",
      "Overall Scores:\n",
      "Mean - R²: -0.0194\n",
      "Mean - MSE: 0.0223\n",
      "Mean - MAE: 0.1067\n"
     ]
    }
   ],
   "source": [
    "if train_new_model:\n",
    "    y_test_pred = model.predict(X_test)\n",
    "\n",
    "    for i, target in enumerate(['3M Future Change']):\n",
    "        y_test_actual = y_test[target].values\n",
    "        if getattr(y_test_pred, \"ndim\", 1) == 1:\n",
    "            y_test_pred_target = y_test_pred\n",
    "        else:\n",
    "            y_test_pred_target = y_test_pred[:, i]\n",
    "\n",
    "        plt.figure(figsize=(11, 6))\n",
    "        plt.scatter(y_test_actual, y_test_pred_target, alpha=0.7, color='blue', label='Predictions')\n",
    "        plt.plot([y_test_actual.min(), y_test_actual.max()], [y_test_actual.min(), y_test_actual.max()], \n",
    "            color='red', linestyle='--', label='Perfect Fit')\n",
    "        plt.title(f'Predicted vs Actual Values ({target})')\n",
    "        plt.xlabel('Actual Values')\n",
    "        plt.ylabel('Predicted Values')\n",
    "        plt.legend()\n",
    "        plt.grid(True)\n",
    "        plt.show()\n",
    "\n",
    "        mae = mean_absolute_error(y_test_actual, y_test_pred_target)\n",
    "        mse = mean_squared_error(y_test_actual, y_test_pred_target)\n",
    "        r2 = r2_score(y_test_actual, y_test_pred_target)\n",
    "\n",
    "        print(f'{target} - R²: {r2:.4f}')\n",
    "        print(f'{target} - MSE: {mse:.4f}')\n",
    "        print(f'{target} - MAE: {mae:.4f}')\n",
    "\n",
    "    # Overall metrics (single target)\n",
    "    overall_pred = y_test_pred if getattr(y_test_pred, \"ndim\", 1) == 1 else y_test_pred[:, 0]\n",
    "    mae = mean_absolute_error(y_test['3M Future Change'].values, overall_pred)\n",
    "    mse = mean_squared_error(y_test['3M Future Change'].values, overall_pred)\n",
    "    r2 = r2_score(y_test['3M Future Change'].values, overall_pred)\n",
    "\n",
    "    print('\\nOverall Scores:')\n",
    "    print(f'Mean - R²: {r2:.4f}')\n",
    "    print(f'Mean - MSE: {mse:.4f}')\n",
    "    print(f'Mean - MAE: {mae:.4f}')"
   ]
  },
  {
   "cell_type": "markdown",
   "metadata": {},
   "source": [
    "### Log test results"
   ]
  },
  {
   "cell_type": "code",
   "execution_count": 13,
   "metadata": {},
   "outputs": [
    {
     "name": "stdout",
     "output_type": "stream",
     "text": [
      "Old best R²: -0.4312013413018738\n",
      "New best R²: -0.01935518946404602\n",
      "Saving new best model...\n"
     ]
    }
   ],
   "source": [
    "if train_new_model:\n",
    "    test_results = pd.DataFrame({\n",
    "        'R²': r2,\n",
    "        'MSE': mse,\n",
    "        'MAE': mae,\n",
    "        'symbol_list': symbol_list,\n",
    "        \"iterations\": iterations,\n",
    "        'hidden_layer_sizes': [model.model.hidden_layer_sizes],\n",
    "        'max_iter': model.model.max_iter,\n",
    "        'n_iter_no_change': model.model.n_iter_no_change,\n",
    "        'learning_rate': model.model.learning_rate,\n",
    "        'learning_rate_init': model.model.learning_rate_init,\n",
    "        'batch_size': model.model.batch_size,\n",
    "        'tol': model.model.tol,\n",
    "        'alpha': model.model.alpha,\n",
    "        'shuffle': model.model.shuffle,\n",
    "    })\n",
    "    test_results.to_csv('../data/model_results/test_results.csv', mode='a', index=False)\n",
    "\n",
    "    # save model as new best if results are better than the current one\n",
    "    best_r2 = pd.read_csv('../data/model_results/best_model_results.csv').loc[0, 'R²']\n",
    "    if r2 > best_r2:\n",
    "        print(f'Old best R²: {best_r2}')\n",
    "        print(f'New best R²: {r2}')\n",
    "        print('Saving new best model...')\n",
    "        test_results.to_csv('../data/model_results/best_model_results.csv', mode='w', index=False)\n",
    "        with open('../models/best_model.pkl','wb') as f:\n",
    "            pickle.dump(model,f)\n",
    "        "
   ]
  },
  {
   "cell_type": "markdown",
   "metadata": {},
   "source": [
    "## Predictions on latest data"
   ]
  },
  {
   "cell_type": "code",
   "execution_count": 14,
   "metadata": {},
   "outputs": [
    {
     "name": "stdout",
     "output_type": "stream",
     "text": [
      "Best model R²: -0.019355189464046\n"
     ]
    }
   ],
   "source": [
    "best_r2 = pd.read_csv('../data/model_results/best_model_results.csv').loc[0, 'R²']\n",
    "\n",
    "with open('../models/best_model.pkl', 'rb') as f:\n",
    "    model = pickle.load(f)\n",
    "    print(f'Best model R²: {best_r2}')\n"
   ]
  },
  {
   "cell_type": "code",
   "execution_count": null,
   "metadata": {},
   "outputs": [
    {
     "ename": "TypeError",
     "evalue": "cannot unpack non-iterable numpy.float64 object",
     "output_type": "error",
     "traceback": [
      "\u001b[31m---------------------------------------------------------------------------\u001b[39m",
      "\u001b[31mTypeError\u001b[39m                                 Traceback (most recent call last)",
      "\u001b[36mCell\u001b[39m\u001b[36m \u001b[39m\u001b[32mIn[16]\u001b[39m\u001b[32m, line 6\u001b[39m\n\u001b[32m      4\u001b[39m \u001b[38;5;28;01mfor\u001b[39;00m i \u001b[38;5;129;01min\u001b[39;00m \u001b[38;5;28mrange\u001b[39m(\u001b[38;5;28mlen\u001b[39m(X_pred)):\n\u001b[32m      5\u001b[39m     y_pred = model.predict(X_pred.iloc[[i]])[\u001b[32m0\u001b[39m]\n\u001b[32m----> \u001b[39m\u001b[32m6\u001b[39m     y_pred_3m, y_pred_6m, y_pred_9m, y_pred_1y = y_pred\n\u001b[32m      7\u001b[39m     avg = (y_pred_3m + y_pred_6m + y_pred_9m + y_pred_1y) / \u001b[32m4\u001b[39m\n\u001b[32m      8\u001b[39m     results.append({\n\u001b[32m      9\u001b[39m         \u001b[33m'\u001b[39m\u001b[33mTicker\u001b[39m\u001b[33m'\u001b[39m: df_raw.loc[i*\u001b[32m4\u001b[39m, \u001b[33m'\u001b[39m\u001b[33mTicker\u001b[39m\u001b[33m'\u001b[39m],\n\u001b[32m     10\u001b[39m         \u001b[33m'\u001b[39m\u001b[33mName\u001b[39m\u001b[33m'\u001b[39m: df_raw.loc[i*\u001b[32m4\u001b[39m, \u001b[33m'\u001b[39m\u001b[33mName\u001b[39m\u001b[33m'\u001b[39m],\n\u001b[32m   (...)\u001b[39m\u001b[32m     15\u001b[39m         \u001b[33m'\u001b[39m\u001b[33m1y (\u001b[39m\u001b[33m%\u001b[39m\u001b[33m)\u001b[39m\u001b[33m'\u001b[39m: y_pred_1y * \u001b[32m100\u001b[39m\n\u001b[32m     16\u001b[39m     })\n",
      "\u001b[31mTypeError\u001b[39m: cannot unpack non-iterable numpy.float64 object"
     ]
    }
   ],
   "source": [
    "df_raw = pd.read_csv('../data/model_results/earnings_data.csv')\n",
    "\n",
    "results = []\n",
    "for i in range(len(X_pred)):\n",
    "    y_pred = model.predict(X_pred.iloc[[i]])[0]\n",
    "    y_pred_3m, y_pred_6m, y_pred_9m, y_pred_1y = y_pred\n",
    "    avg = (y_pred_3m + y_pred_6m + y_pred_9m + y_pred_1y) / 4\n",
    "    results.append({\n",
    "        'Ticker': df_raw.loc[i*4, 'Ticker'],\n",
    "        'Name': df_raw.loc[i*4, 'Name'],\n",
    "        'mean (%)': avg * 100,\n",
    "        '3m (%)': y_pred_3m * 100,\n",
    "        '6m (%)': y_pred_6m * 100,\n",
    "        '9m (%)': y_pred_9m * 100,\n",
    "        '1y (%)': y_pred_1y * 100\n",
    "    })\n",
    "\n",
    "results_df = pd.DataFrame(results)\n",
    "results_df"
   ]
  },
  {
   "cell_type": "code",
   "execution_count": null,
   "metadata": {},
   "outputs": [],
   "source": [
    "def predict_ticker(ticker_str):\n",
    "    try:\n",
    "        ticker_str = str(ticker_str).upper()\n",
    "        ticker_str = ticker_str.replace(\"'\", \"\")\n",
    "        ticker_str = ticker_str.replace('\"', \"\")\n",
    "        row = results_df[results_df['Ticker'] == ticker_str]\n",
    "        if row.empty:\n",
    "            return (f\"Not enough data for this stock at this moment \\n Try another\", \"\", \"\", \"\", \"\")\n",
    "        row = row.iloc[0]\n",
    "        return (\n",
    "            f\"{row['3m (%)']:.2f}\",\n",
    "            f\"{row['6m (%)']:.2f}\",\n",
    "            f\"{row['9m (%)']:.2f}\",\n",
    "            f\"{row['1y (%)']:.2f}\",\n",
    "            f\"{row['mean (%)']:.2f}\",\n",
    "        )\n",
    "    except Exception as e:\n",
    "        return (f\"Error: {e}\", \"\", \"\", \"\", \"\")"
   ]
  },
  {
   "cell_type": "code",
   "execution_count": null,
   "metadata": {
    "vscode": {
     "languageId": "javascript"
    }
   },
   "outputs": [
    {
     "name": "stdout",
     "output_type": "stream",
     "text": [
      "* Running on local URL:  http://127.0.0.1:7860\n",
      "* Running on public URL: https://d6f7567b4876962a6e.gradio.live\n",
      "\n",
      "This share link expires in 1 week. For free permanent hosting and GPU upgrades, run `gradio deploy` from the terminal in the working directory to deploy to Hugging Face Spaces (https://huggingface.co/spaces)\n"
     ]
    },
    {
     "data": {
      "text/html": [
       "<div><iframe src=\"https://d6f7567b4876962a6e.gradio.live\" width=\"100%\" height=\"500\" allow=\"autoplay; camera; microphone; clipboard-read; clipboard-write;\" frameborder=\"0\" allowfullscreen></iframe></div>"
      ],
      "text/plain": [
       "<IPython.core.display.HTML object>"
      ]
     },
     "metadata": {},
     "output_type": "display_data"
    },
    {
     "data": {
      "text/plain": []
     },
     "execution_count": 20,
     "metadata": {},
     "output_type": "execute_result"
    }
   ],
   "source": [
    "iface = gr.Interface(\n",
    "    fn=predict_ticker,\n",
    "    inputs=gr.Textbox(label=\"Ticker e.g. 'TSLA' or 'NVDA'\"),\n",
    "    outputs=[\n",
    "        gr.Textbox(label=\"3 Month Change Prediction (%)\"),\n",
    "        gr.Textbox(label=\"6 Month Change Prediction (%)\"),\n",
    "        gr.Textbox(label=\"9 Month Change Prediction (%)\"),\n",
    "        gr.Textbox(label=\"1 Year Change Prediction (%)\"),\n",
    "        gr.Textbox(label=\"Mean Change Prediction (%)\"),\n",
    "    ],\n",
    "    title=\"Stock Price Prediction Model\",\n",
    "    description=\" \"\n",
    ")\n",
    "\n",
    "iface.launch(share=True)"
   ]
  }
 ],
 "metadata": {
  "kernelspec": {
   "display_name": "Python 3",
   "language": "python",
   "name": "python3"
  },
  "language_info": {
   "codemirror_mode": {
    "name": "ipython",
    "version": 3
   },
   "file_extension": ".py",
   "mimetype": "text/x-python",
   "name": "python",
   "nbconvert_exporter": "python",
   "pygments_lexer": "ipython3",
   "version": "3.13.5"
  }
 },
 "nbformat": 4,
 "nbformat_minor": 2
}
