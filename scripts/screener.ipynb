{
 "cells": [
  {
   "cell_type": "code",
   "execution_count": 1,
   "metadata": {},
   "outputs": [],
   "source": [
    "from methods import *\n",
    "from tqdm import tqdm\n",
    "import yfinance as yf\n",
    "import pandas as pd\n",
    "import numpy as np"
   ]
  },
  {
   "cell_type": "code",
   "execution_count": 2,
   "metadata": {},
   "outputs": [],
   "source": [
    "symbols = pd.read_csv(\"../data/simple_tickers.csv\")[\"Ticker\"].tolist()# + pd.read_csv(\"../data/tickers.csv\")[\"Ticker\"].tolist()\n",
    "owned_tickers = pd.read_csv(\"../data/owned_tickers.csv\")[\"Ticker\"].tolist()\n",
    "symbols = list(set(symbols))"
   ]
  },
  {
   "cell_type": "code",
   "execution_count": 3,
   "metadata": {},
   "outputs": [
    {
     "data": {
      "application/vnd.microsoft.datawrangler.viewer.v0+json": {
       "columns": [
        {
         "name": "index",
         "rawType": "int64",
         "type": "integer"
        },
        {
         "name": "0",
         "rawType": "object",
         "type": "string"
        }
       ],
       "ref": "e446bed1-8eee-4eb5-9754-c5ec21152a81",
       "rows": [
        [
         "0",
         "address1"
        ],
        [
         "1",
         "city"
        ],
        [
         "2",
         "state"
        ],
        [
         "3",
         "zip"
        ],
        [
         "4",
         "country"
        ],
        [
         "5",
         "phone"
        ],
        [
         "6",
         "website"
        ],
        [
         "7",
         "industry"
        ],
        [
         "8",
         "industryKey"
        ],
        [
         "9",
         "industryDisp"
        ],
        [
         "10",
         "sector"
        ],
        [
         "11",
         "sectorKey"
        ],
        [
         "12",
         "sectorDisp"
        ],
        [
         "13",
         "longBusinessSummary"
        ],
        [
         "14",
         "fullTimeEmployees"
        ],
        [
         "15",
         "companyOfficers"
        ],
        [
         "16",
         "auditRisk"
        ],
        [
         "17",
         "boardRisk"
        ],
        [
         "18",
         "compensationRisk"
        ],
        [
         "19",
         "shareHolderRightsRisk"
        ],
        [
         "20",
         "overallRisk"
        ],
        [
         "21",
         "governanceEpochDate"
        ],
        [
         "22",
         "compensationAsOfEpochDate"
        ],
        [
         "23",
         "irWebsite"
        ],
        [
         "24",
         "executiveTeam"
        ],
        [
         "25",
         "maxAge"
        ],
        [
         "26",
         "priceHint"
        ],
        [
         "27",
         "previousClose"
        ],
        [
         "28",
         "open"
        ],
        [
         "29",
         "dayLow"
        ],
        [
         "30",
         "dayHigh"
        ],
        [
         "31",
         "regularMarketPreviousClose"
        ],
        [
         "32",
         "regularMarketOpen"
        ],
        [
         "33",
         "regularMarketDayLow"
        ],
        [
         "34",
         "regularMarketDayHigh"
        ],
        [
         "35",
         "dividendRate"
        ],
        [
         "36",
         "dividendYield"
        ],
        [
         "37",
         "exDividendDate"
        ],
        [
         "38",
         "payoutRatio"
        ],
        [
         "39",
         "fiveYearAvgDividendYield"
        ],
        [
         "40",
         "beta"
        ],
        [
         "41",
         "trailingPE"
        ],
        [
         "42",
         "forwardPE"
        ],
        [
         "43",
         "volume"
        ],
        [
         "44",
         "regularMarketVolume"
        ],
        [
         "45",
         "averageVolume"
        ],
        [
         "46",
         "averageVolume10days"
        ],
        [
         "47",
         "averageDailyVolume10Day"
        ],
        [
         "48",
         "bid"
        ],
        [
         "49",
         "ask"
        ]
       ],
       "shape": {
        "columns": 1,
        "rows": 180
       }
      },
      "text/html": [
       "<div>\n",
       "<style scoped>\n",
       "    .dataframe tbody tr th:only-of-type {\n",
       "        vertical-align: middle;\n",
       "    }\n",
       "\n",
       "    .dataframe tbody tr th {\n",
       "        vertical-align: top;\n",
       "    }\n",
       "\n",
       "    .dataframe thead th {\n",
       "        text-align: right;\n",
       "    }\n",
       "</style>\n",
       "<table border=\"1\" class=\"dataframe\">\n",
       "  <thead>\n",
       "    <tr style=\"text-align: right;\">\n",
       "      <th></th>\n",
       "      <th>0</th>\n",
       "    </tr>\n",
       "  </thead>\n",
       "  <tbody>\n",
       "    <tr>\n",
       "      <th>0</th>\n",
       "      <td>address1</td>\n",
       "    </tr>\n",
       "    <tr>\n",
       "      <th>1</th>\n",
       "      <td>city</td>\n",
       "    </tr>\n",
       "    <tr>\n",
       "      <th>2</th>\n",
       "      <td>state</td>\n",
       "    </tr>\n",
       "    <tr>\n",
       "      <th>3</th>\n",
       "      <td>zip</td>\n",
       "    </tr>\n",
       "    <tr>\n",
       "      <th>4</th>\n",
       "      <td>country</td>\n",
       "    </tr>\n",
       "    <tr>\n",
       "      <th>...</th>\n",
       "      <td>...</td>\n",
       "    </tr>\n",
       "    <tr>\n",
       "      <th>175</th>\n",
       "      <td>postMarketTime</td>\n",
       "    </tr>\n",
       "    <tr>\n",
       "      <th>176</th>\n",
       "      <td>regularMarketTime</td>\n",
       "    </tr>\n",
       "    <tr>\n",
       "      <th>177</th>\n",
       "      <td>marketState</td>\n",
       "    </tr>\n",
       "    <tr>\n",
       "      <th>178</th>\n",
       "      <td>displayName</td>\n",
       "    </tr>\n",
       "    <tr>\n",
       "      <th>179</th>\n",
       "      <td>trailingPegRatio</td>\n",
       "    </tr>\n",
       "  </tbody>\n",
       "</table>\n",
       "<p>180 rows × 1 columns</p>\n",
       "</div>"
      ],
      "text/plain": [
       "                     0\n",
       "0             address1\n",
       "1                 city\n",
       "2                state\n",
       "3                  zip\n",
       "4              country\n",
       "..                 ...\n",
       "175     postMarketTime\n",
       "176  regularMarketTime\n",
       "177        marketState\n",
       "178        displayName\n",
       "179   trailingPegRatio\n",
       "\n",
       "[180 rows x 1 columns]"
      ]
     },
     "metadata": {},
     "output_type": "display_data"
    }
   ],
   "source": [
    "get_gettables()"
   ]
  },
  {
   "cell_type": "code",
   "execution_count": 4,
   "metadata": {},
   "outputs": [
    {
     "name": "stderr",
     "output_type": "stream",
     "text": [
      "100%|██████████| 40/40 [00:14<00:00,  2.70it/s]\n"
     ]
    },
    {
     "data": {
      "application/vnd.microsoft.datawrangler.viewer.v0+json": {
       "columns": [
        {
         "name": "index",
         "rawType": "int64",
         "type": "integer"
        },
        {
         "name": "Ticker",
         "rawType": "object",
         "type": "string"
        },
        {
         "name": "Name",
         "rawType": "object",
         "type": "string"
        },
        {
         "name": "Recommendation Score",
         "rawType": "object",
         "type": "string"
        }
       ],
       "ref": "01b23c7d-2d7e-41ae-9ca8-478fb3307bb9",
       "rows": [
        [
         "0",
         "CARL-B.CO",
         "Carlsberg B A/S",
         "1.33"
        ],
        [
         "0",
         "TRMD",
         "TORM plc",
         "1.79"
        ],
        [
         "0",
         "HEM.ST",
         "Hemnet Group AB",
         "1.66"
        ],
        [
         "0",
         "SAABF",
         "Saab AB",
         "0.42"
        ],
        [
         "0",
         "ABBN.SW",
         "ABB LTD N",
         "1.18"
        ],
        [
         "0",
         "RNMBY",
         "Rheinmetall AG",
         "0.32"
        ],
        [
         "0",
         "DANSKE.CO",
         "Danske Bank A/S",
         "0.75"
        ],
        [
         "0",
         "TER",
         "Teradyne, Inc.",
         "1.94"
        ],
        [
         "0",
         "BCKIY",
         "Babcock International Group Plc",
         "1.17"
        ],
        [
         "0",
         "CBRAIN.CO",
         "cBrain A/S",
         "1.39"
        ],
        [
         "0",
         "LLY",
         "Eli Lilly and Company",
         "0.83"
        ],
        [
         "0",
         "NFLX",
         "Netflix, Inc.",
         "1.18"
        ],
        [
         "0",
         "TRIFOR.CO",
         "Trifork Group AG",
         "-0.17"
        ],
        [
         "0",
         "BAESY",
         "BAE Systems PLC",
         "0.93"
        ],
        [
         "0",
         "GN.CO",
         "GN Store Nord A/S",
         "1.30"
        ],
        [
         "0",
         "NSKFF",
         "Kongsberg Gruppen ASA",
         "0.74"
        ],
        [
         "0",
         "ISS.CO",
         "ISS A/S",
         "1.33"
        ],
        [
         "0",
         "STG.CO",
         "Scandinavian Tobacco Group A/S",
         "1.62"
        ],
        [
         "0",
         "BRK-B",
         "Berkshire Hathaway Inc. New",
         "1.03"
        ],
        [
         "0",
         "GMAB",
         "Genmab A/S",
         "1.65"
        ],
        [
         "0",
         "IVSO.ST",
         "INVISIO AB",
         "1.33"
        ],
        [
         "0",
         "MAERSK-B.CO",
         "A.P. Møller - Mærsk B A/S",
         "1.42"
        ],
        [
         "0",
         "MATAS.CO",
         "Matas A/S",
         "1.27"
        ],
        [
         "0",
         "NOVO-B.CO",
         "Novo Nordisk B A/S",
         "2.25"
        ],
        [
         "0",
         "BAVA.CO ",
         "Bavarian Nordic A/S",
         "1.43"
        ],
        [
         "0",
         "UBER",
         "Uber Technologies, Inc.",
         "0.98"
        ],
        [
         "0",
         "EQNR",
         "Equinor ASA",
         "1.97"
        ],
        [
         "0",
         "DSV.CO",
         "DSV A/S",
         "0.99"
        ],
        [
         "0",
         "SCHO.CO",
         "Schouw & Co. A/S",
         "1.23"
        ],
        [
         "0",
         "NKT.CO",
         "NKT A/S",
         "1.34"
        ],
        [
         "0",
         "COLUM.CO",
         "Columbus A/S",
         "0.68"
        ],
        [
         "0",
         "CBK.DE",
         "Commerzbank AG                I",
         "0.66"
        ],
        [
         "0",
         "COLO-B.CO",
         "Coloplast B A/S",
         "1.46"
        ],
        [
         "0",
         "RBREW.CO",
         "Royal UNIBREW A/S",
         "1.32"
        ],
        [
         "0",
         "TSLA",
         "Tesla, Inc.",
         "-0.36"
        ],
        [
         "0",
         "NETC.CO",
         "Netcompany Group A/S",
         "1.35"
        ],
        [
         "0",
         "SYDB.CO",
         "Sydbank A/S",
         "0.92"
        ],
        [
         "0",
         "NVDA",
         "NVIDIA Corporation",
         "2.41"
        ],
        [
         "0",
         "JYSK.CO",
         "Jyske Bank A/S",
         "0.81"
        ],
        [
         "0",
         "DEMANT.CO",
         "Demant A/S",
         "1.44"
        ]
       ],
       "shape": {
        "columns": 3,
        "rows": 40
       }
      },
      "text/html": [
       "<div>\n",
       "<style scoped>\n",
       "    .dataframe tbody tr th:only-of-type {\n",
       "        vertical-align: middle;\n",
       "    }\n",
       "\n",
       "    .dataframe tbody tr th {\n",
       "        vertical-align: top;\n",
       "    }\n",
       "\n",
       "    .dataframe thead th {\n",
       "        text-align: right;\n",
       "    }\n",
       "</style>\n",
       "<table border=\"1\" class=\"dataframe\">\n",
       "  <thead>\n",
       "    <tr style=\"text-align: right;\">\n",
       "      <th></th>\n",
       "      <th>Ticker</th>\n",
       "      <th>Name</th>\n",
       "      <th>Recommendation Score</th>\n",
       "    </tr>\n",
       "  </thead>\n",
       "  <tbody>\n",
       "    <tr>\n",
       "      <th>0</th>\n",
       "      <td>CARL-B.CO</td>\n",
       "      <td>Carlsberg B A/S</td>\n",
       "      <td>1.33</td>\n",
       "    </tr>\n",
       "    <tr>\n",
       "      <th>0</th>\n",
       "      <td>TRMD</td>\n",
       "      <td>TORM plc</td>\n",
       "      <td>1.79</td>\n",
       "    </tr>\n",
       "    <tr>\n",
       "      <th>0</th>\n",
       "      <td>HEM.ST</td>\n",
       "      <td>Hemnet Group AB</td>\n",
       "      <td>1.66</td>\n",
       "    </tr>\n",
       "    <tr>\n",
       "      <th>0</th>\n",
       "      <td>SAABF</td>\n",
       "      <td>Saab AB</td>\n",
       "      <td>0.42</td>\n",
       "    </tr>\n",
       "    <tr>\n",
       "      <th>0</th>\n",
       "      <td>ABBN.SW</td>\n",
       "      <td>ABB LTD N</td>\n",
       "      <td>1.18</td>\n",
       "    </tr>\n",
       "    <tr>\n",
       "      <th>0</th>\n",
       "      <td>RNMBY</td>\n",
       "      <td>Rheinmetall AG</td>\n",
       "      <td>0.32</td>\n",
       "    </tr>\n",
       "    <tr>\n",
       "      <th>0</th>\n",
       "      <td>DANSKE.CO</td>\n",
       "      <td>Danske Bank A/S</td>\n",
       "      <td>0.75</td>\n",
       "    </tr>\n",
       "    <tr>\n",
       "      <th>0</th>\n",
       "      <td>TER</td>\n",
       "      <td>Teradyne, Inc.</td>\n",
       "      <td>1.94</td>\n",
       "    </tr>\n",
       "    <tr>\n",
       "      <th>0</th>\n",
       "      <td>BCKIY</td>\n",
       "      <td>Babcock International Group Plc</td>\n",
       "      <td>1.17</td>\n",
       "    </tr>\n",
       "    <tr>\n",
       "      <th>0</th>\n",
       "      <td>CBRAIN.CO</td>\n",
       "      <td>cBrain A/S</td>\n",
       "      <td>1.39</td>\n",
       "    </tr>\n",
       "    <tr>\n",
       "      <th>0</th>\n",
       "      <td>LLY</td>\n",
       "      <td>Eli Lilly and Company</td>\n",
       "      <td>0.83</td>\n",
       "    </tr>\n",
       "    <tr>\n",
       "      <th>0</th>\n",
       "      <td>NFLX</td>\n",
       "      <td>Netflix, Inc.</td>\n",
       "      <td>1.18</td>\n",
       "    </tr>\n",
       "    <tr>\n",
       "      <th>0</th>\n",
       "      <td>TRIFOR.CO</td>\n",
       "      <td>Trifork Group AG</td>\n",
       "      <td>-0.17</td>\n",
       "    </tr>\n",
       "    <tr>\n",
       "      <th>0</th>\n",
       "      <td>BAESY</td>\n",
       "      <td>BAE Systems PLC</td>\n",
       "      <td>0.93</td>\n",
       "    </tr>\n",
       "    <tr>\n",
       "      <th>0</th>\n",
       "      <td>GN.CO</td>\n",
       "      <td>GN Store Nord A/S</td>\n",
       "      <td>1.30</td>\n",
       "    </tr>\n",
       "    <tr>\n",
       "      <th>0</th>\n",
       "      <td>NSKFF</td>\n",
       "      <td>Kongsberg Gruppen ASA</td>\n",
       "      <td>0.74</td>\n",
       "    </tr>\n",
       "    <tr>\n",
       "      <th>0</th>\n",
       "      <td>ISS.CO</td>\n",
       "      <td>ISS A/S</td>\n",
       "      <td>1.33</td>\n",
       "    </tr>\n",
       "    <tr>\n",
       "      <th>0</th>\n",
       "      <td>STG.CO</td>\n",
       "      <td>Scandinavian Tobacco Group A/S</td>\n",
       "      <td>1.62</td>\n",
       "    </tr>\n",
       "    <tr>\n",
       "      <th>0</th>\n",
       "      <td>BRK-B</td>\n",
       "      <td>Berkshire Hathaway Inc. New</td>\n",
       "      <td>1.03</td>\n",
       "    </tr>\n",
       "    <tr>\n",
       "      <th>0</th>\n",
       "      <td>GMAB</td>\n",
       "      <td>Genmab A/S</td>\n",
       "      <td>1.65</td>\n",
       "    </tr>\n",
       "    <tr>\n",
       "      <th>0</th>\n",
       "      <td>IVSO.ST</td>\n",
       "      <td>INVISIO AB</td>\n",
       "      <td>1.33</td>\n",
       "    </tr>\n",
       "    <tr>\n",
       "      <th>0</th>\n",
       "      <td>MAERSK-B.CO</td>\n",
       "      <td>A.P. Møller - Mærsk B A/S</td>\n",
       "      <td>1.42</td>\n",
       "    </tr>\n",
       "    <tr>\n",
       "      <th>0</th>\n",
       "      <td>MATAS.CO</td>\n",
       "      <td>Matas A/S</td>\n",
       "      <td>1.27</td>\n",
       "    </tr>\n",
       "    <tr>\n",
       "      <th>0</th>\n",
       "      <td>NOVO-B.CO</td>\n",
       "      <td>Novo Nordisk B A/S</td>\n",
       "      <td>2.25</td>\n",
       "    </tr>\n",
       "    <tr>\n",
       "      <th>0</th>\n",
       "      <td>BAVA.CO</td>\n",
       "      <td>Bavarian Nordic A/S</td>\n",
       "      <td>1.43</td>\n",
       "    </tr>\n",
       "    <tr>\n",
       "      <th>0</th>\n",
       "      <td>UBER</td>\n",
       "      <td>Uber Technologies, Inc.</td>\n",
       "      <td>0.98</td>\n",
       "    </tr>\n",
       "    <tr>\n",
       "      <th>0</th>\n",
       "      <td>EQNR</td>\n",
       "      <td>Equinor ASA</td>\n",
       "      <td>1.97</td>\n",
       "    </tr>\n",
       "    <tr>\n",
       "      <th>0</th>\n",
       "      <td>DSV.CO</td>\n",
       "      <td>DSV A/S</td>\n",
       "      <td>0.99</td>\n",
       "    </tr>\n",
       "    <tr>\n",
       "      <th>0</th>\n",
       "      <td>SCHO.CO</td>\n",
       "      <td>Schouw &amp; Co. A/S</td>\n",
       "      <td>1.23</td>\n",
       "    </tr>\n",
       "    <tr>\n",
       "      <th>0</th>\n",
       "      <td>NKT.CO</td>\n",
       "      <td>NKT A/S</td>\n",
       "      <td>1.34</td>\n",
       "    </tr>\n",
       "    <tr>\n",
       "      <th>0</th>\n",
       "      <td>COLUM.CO</td>\n",
       "      <td>Columbus A/S</td>\n",
       "      <td>0.68</td>\n",
       "    </tr>\n",
       "    <tr>\n",
       "      <th>0</th>\n",
       "      <td>CBK.DE</td>\n",
       "      <td>Commerzbank AG                I</td>\n",
       "      <td>0.66</td>\n",
       "    </tr>\n",
       "    <tr>\n",
       "      <th>0</th>\n",
       "      <td>COLO-B.CO</td>\n",
       "      <td>Coloplast B A/S</td>\n",
       "      <td>1.46</td>\n",
       "    </tr>\n",
       "    <tr>\n",
       "      <th>0</th>\n",
       "      <td>RBREW.CO</td>\n",
       "      <td>Royal UNIBREW A/S</td>\n",
       "      <td>1.32</td>\n",
       "    </tr>\n",
       "    <tr>\n",
       "      <th>0</th>\n",
       "      <td>TSLA</td>\n",
       "      <td>Tesla, Inc.</td>\n",
       "      <td>-0.36</td>\n",
       "    </tr>\n",
       "    <tr>\n",
       "      <th>0</th>\n",
       "      <td>NETC.CO</td>\n",
       "      <td>Netcompany Group A/S</td>\n",
       "      <td>1.35</td>\n",
       "    </tr>\n",
       "    <tr>\n",
       "      <th>0</th>\n",
       "      <td>SYDB.CO</td>\n",
       "      <td>Sydbank A/S</td>\n",
       "      <td>0.92</td>\n",
       "    </tr>\n",
       "    <tr>\n",
       "      <th>0</th>\n",
       "      <td>NVDA</td>\n",
       "      <td>NVIDIA Corporation</td>\n",
       "      <td>2.41</td>\n",
       "    </tr>\n",
       "    <tr>\n",
       "      <th>0</th>\n",
       "      <td>JYSK.CO</td>\n",
       "      <td>Jyske Bank A/S</td>\n",
       "      <td>0.81</td>\n",
       "    </tr>\n",
       "    <tr>\n",
       "      <th>0</th>\n",
       "      <td>DEMANT.CO</td>\n",
       "      <td>Demant A/S</td>\n",
       "      <td>1.44</td>\n",
       "    </tr>\n",
       "  </tbody>\n",
       "</table>\n",
       "</div>"
      ],
      "text/plain": [
       "        Ticker                             Name Recommendation Score\n",
       "0    CARL-B.CO                  Carlsberg B A/S                 1.33\n",
       "0         TRMD                         TORM plc                 1.79\n",
       "0       HEM.ST                  Hemnet Group AB                 1.66\n",
       "0        SAABF                          Saab AB                 0.42\n",
       "0      ABBN.SW                        ABB LTD N                 1.18\n",
       "0        RNMBY                   Rheinmetall AG                 0.32\n",
       "0    DANSKE.CO                  Danske Bank A/S                 0.75\n",
       "0          TER                   Teradyne, Inc.                 1.94\n",
       "0        BCKIY  Babcock International Group Plc                 1.17\n",
       "0    CBRAIN.CO                       cBrain A/S                 1.39\n",
       "0          LLY            Eli Lilly and Company                 0.83\n",
       "0         NFLX                    Netflix, Inc.                 1.18\n",
       "0    TRIFOR.CO                 Trifork Group AG                -0.17\n",
       "0        BAESY                  BAE Systems PLC                 0.93\n",
       "0        GN.CO                GN Store Nord A/S                 1.30\n",
       "0        NSKFF            Kongsberg Gruppen ASA                 0.74\n",
       "0       ISS.CO                          ISS A/S                 1.33\n",
       "0       STG.CO   Scandinavian Tobacco Group A/S                 1.62\n",
       "0        BRK-B      Berkshire Hathaway Inc. New                 1.03\n",
       "0         GMAB                       Genmab A/S                 1.65\n",
       "0      IVSO.ST                       INVISIO AB                 1.33\n",
       "0  MAERSK-B.CO        A.P. Møller - Mærsk B A/S                 1.42\n",
       "0     MATAS.CO                        Matas A/S                 1.27\n",
       "0    NOVO-B.CO               Novo Nordisk B A/S                 2.25\n",
       "0     BAVA.CO               Bavarian Nordic A/S                 1.43\n",
       "0         UBER          Uber Technologies, Inc.                 0.98\n",
       "0         EQNR                      Equinor ASA                 1.97\n",
       "0       DSV.CO                          DSV A/S                 0.99\n",
       "0      SCHO.CO                 Schouw & Co. A/S                 1.23\n",
       "0       NKT.CO                          NKT A/S                 1.34\n",
       "0     COLUM.CO                     Columbus A/S                 0.68\n",
       "0       CBK.DE  Commerzbank AG                I                 0.66\n",
       "0    COLO-B.CO                  Coloplast B A/S                 1.46\n",
       "0     RBREW.CO                Royal UNIBREW A/S                 1.32\n",
       "0         TSLA                      Tesla, Inc.                -0.36\n",
       "0      NETC.CO             Netcompany Group A/S                 1.35\n",
       "0      SYDB.CO                      Sydbank A/S                 0.92\n",
       "0         NVDA               NVIDIA Corporation                 2.41\n",
       "0      JYSK.CO                   Jyske Bank A/S                 0.81\n",
       "0    DEMANT.CO                       Demant A/S                 1.44"
      ]
     },
     "metadata": {},
     "output_type": "display_data"
    }
   ],
   "source": [
    "df = pd.DataFrame()\n",
    "for symbol in tqdm(symbols, smoothing=0):\n",
    "    try:\n",
    "        summary = Ticker(symbol).summary()\n",
    "        df = pd.concat([df, summary])\n",
    "    except:\n",
    "        print(f\"Error at: {symbol}\")\n",
    "display(df)\n",
    "df.to_csv(\"../data/screener.csv\", index=False)"
   ]
  },
  {
   "cell_type": "markdown",
   "metadata": {},
   "source": [
    "### Single import"
   ]
  },
  {
   "cell_type": "code",
   "execution_count": 7,
   "metadata": {},
   "outputs": [
    {
     "name": "stdout",
     "output_type": "stream",
     "text": [
      "Eli Lilly and Company\n",
      "P/E: 66.23\n",
      "Forward P/E: 35.86\n",
      "ROA: 16.45%\n",
      "Insider Buy: -0.32%\n",
      "Old Recommendation Score: 0.52\n",
      "FvC Ratio: 1.85\n",
      "Recommendation Score: 0.83\n"
     ]
    }
   ],
   "source": [
    "ticker = \"LLY\"\n",
    "print(yf.Ticker(ticker).info[\"shortName\"])\n",
    "print(f\"P/E: {yf.Ticker(ticker).info[\"trailingPE\"]:.2f}\")\n",
    "print(f\"Forward P/E: {yf.Ticker(ticker).info[\"forwardPE\"]:.2f}\")\n",
    "print(f\"ROA: {yf.Ticker(ticker).info[\"returnOnAssets\"]*100:.2f}%\")\n",
    "print(f\"Insider Buy: {Ticker(ticker).insider_buy():.2f}%\")\n",
    "print(f\"Old Recommendation Score: {Ticker(ticker).recommendation_old()}\")\n",
    "print(f\"FvC Ratio: {Ticker(ticker).forward_vs_current_PE():.2f}\")\n",
    "print(f\"Recommendation Score: {Ticker(ticker).recommendation()}\")"
   ]
  },
  {
   "cell_type": "code",
   "execution_count": null,
   "metadata": {},
   "outputs": [],
   "source": []
  }
 ],
 "metadata": {
  "kernelspec": {
   "display_name": "Python 3",
   "language": "python",
   "name": "python3"
  },
  "language_info": {
   "codemirror_mode": {
    "name": "ipython",
    "version": 3
   },
   "file_extension": ".py",
   "mimetype": "text/x-python",
   "name": "python",
   "nbconvert_exporter": "python",
   "pygments_lexer": "ipython3",
   "version": "3.13.5"
  }
 },
 "nbformat": 4,
 "nbformat_minor": 2
}
