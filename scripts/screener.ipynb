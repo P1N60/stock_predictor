{
 "cells": [
  {
   "cell_type": "code",
   "execution_count": 6,
   "metadata": {},
   "outputs": [],
   "source": [
    "from methods import *\n",
    "from tqdm import tqdm\n",
    "import yfinance as yf\n",
    "import pandas as pd\n",
    "import math \n",
    "import matplotlib.pyplot as plt"
   ]
  },
  {
   "cell_type": "code",
   "execution_count": 7,
   "metadata": {},
   "outputs": [],
   "source": [
    "symbols = pd.read_csv(\"../data/simple_tickers.csv\")[\"Ticker\"].tolist()# + pd.read_csv(\"../data/tickers.csv\")[\"Ticker\"].tolist()\n",
    "owned_tickers = pd.read_csv(\"../data/owned_tickers.csv\")[\"Ticker\"].tolist()"
   ]
  },
  {
   "cell_type": "code",
   "execution_count": 8,
   "metadata": {},
   "outputs": [
    {
     "data": {
      "application/vnd.microsoft.datawrangler.viewer.v0+json": {
       "columns": [
        {
         "name": "index",
         "rawType": "int64",
         "type": "integer"
        },
        {
         "name": "0",
         "rawType": "object",
         "type": "string"
        }
       ],
       "ref": "847d625c-999e-4514-af12-db25f1905c40",
       "rows": [
        [
         "0",
         "address1"
        ],
        [
         "1",
         "city"
        ],
        [
         "2",
         "state"
        ],
        [
         "3",
         "zip"
        ],
        [
         "4",
         "country"
        ],
        [
         "5",
         "phone"
        ],
        [
         "6",
         "website"
        ],
        [
         "7",
         "industry"
        ],
        [
         "8",
         "industryKey"
        ],
        [
         "9",
         "industryDisp"
        ],
        [
         "10",
         "sector"
        ],
        [
         "11",
         "sectorKey"
        ],
        [
         "12",
         "sectorDisp"
        ],
        [
         "13",
         "longBusinessSummary"
        ],
        [
         "14",
         "fullTimeEmployees"
        ],
        [
         "15",
         "companyOfficers"
        ],
        [
         "16",
         "auditRisk"
        ],
        [
         "17",
         "boardRisk"
        ],
        [
         "18",
         "compensationRisk"
        ],
        [
         "19",
         "shareHolderRightsRisk"
        ],
        [
         "20",
         "overallRisk"
        ],
        [
         "21",
         "governanceEpochDate"
        ],
        [
         "22",
         "compensationAsOfEpochDate"
        ],
        [
         "23",
         "irWebsite"
        ],
        [
         "24",
         "executiveTeam"
        ],
        [
         "25",
         "maxAge"
        ],
        [
         "26",
         "priceHint"
        ],
        [
         "27",
         "previousClose"
        ],
        [
         "28",
         "open"
        ],
        [
         "29",
         "dayLow"
        ],
        [
         "30",
         "dayHigh"
        ],
        [
         "31",
         "regularMarketPreviousClose"
        ],
        [
         "32",
         "regularMarketOpen"
        ],
        [
         "33",
         "regularMarketDayLow"
        ],
        [
         "34",
         "regularMarketDayHigh"
        ],
        [
         "35",
         "dividendRate"
        ],
        [
         "36",
         "dividendYield"
        ],
        [
         "37",
         "exDividendDate"
        ],
        [
         "38",
         "payoutRatio"
        ],
        [
         "39",
         "fiveYearAvgDividendYield"
        ],
        [
         "40",
         "beta"
        ],
        [
         "41",
         "trailingPE"
        ],
        [
         "42",
         "forwardPE"
        ],
        [
         "43",
         "volume"
        ],
        [
         "44",
         "regularMarketVolume"
        ],
        [
         "45",
         "averageVolume"
        ],
        [
         "46",
         "averageVolume10days"
        ],
        [
         "47",
         "averageDailyVolume10Day"
        ],
        [
         "48",
         "bid"
        ],
        [
         "49",
         "ask"
        ]
       ],
       "shape": {
        "columns": 1,
        "rows": 180
       }
      },
      "text/html": [
       "<div>\n",
       "<style scoped>\n",
       "    .dataframe tbody tr th:only-of-type {\n",
       "        vertical-align: middle;\n",
       "    }\n",
       "\n",
       "    .dataframe tbody tr th {\n",
       "        vertical-align: top;\n",
       "    }\n",
       "\n",
       "    .dataframe thead th {\n",
       "        text-align: right;\n",
       "    }\n",
       "</style>\n",
       "<table border=\"1\" class=\"dataframe\">\n",
       "  <thead>\n",
       "    <tr style=\"text-align: right;\">\n",
       "      <th></th>\n",
       "      <th>0</th>\n",
       "    </tr>\n",
       "  </thead>\n",
       "  <tbody>\n",
       "    <tr>\n",
       "      <th>0</th>\n",
       "      <td>address1</td>\n",
       "    </tr>\n",
       "    <tr>\n",
       "      <th>1</th>\n",
       "      <td>city</td>\n",
       "    </tr>\n",
       "    <tr>\n",
       "      <th>2</th>\n",
       "      <td>state</td>\n",
       "    </tr>\n",
       "    <tr>\n",
       "      <th>3</th>\n",
       "      <td>zip</td>\n",
       "    </tr>\n",
       "    <tr>\n",
       "      <th>4</th>\n",
       "      <td>country</td>\n",
       "    </tr>\n",
       "    <tr>\n",
       "      <th>...</th>\n",
       "      <td>...</td>\n",
       "    </tr>\n",
       "    <tr>\n",
       "      <th>175</th>\n",
       "      <td>longName</td>\n",
       "    </tr>\n",
       "    <tr>\n",
       "      <th>176</th>\n",
       "      <td>averageAnalystRating</td>\n",
       "    </tr>\n",
       "    <tr>\n",
       "      <th>177</th>\n",
       "      <td>cryptoTradeable</td>\n",
       "    </tr>\n",
       "    <tr>\n",
       "      <th>178</th>\n",
       "      <td>displayName</td>\n",
       "    </tr>\n",
       "    <tr>\n",
       "      <th>179</th>\n",
       "      <td>trailingPegRatio</td>\n",
       "    </tr>\n",
       "  </tbody>\n",
       "</table>\n",
       "<p>180 rows × 1 columns</p>\n",
       "</div>"
      ],
      "text/plain": [
       "                        0\n",
       "0                address1\n",
       "1                    city\n",
       "2                   state\n",
       "3                     zip\n",
       "4                 country\n",
       "..                    ...\n",
       "175              longName\n",
       "176  averageAnalystRating\n",
       "177       cryptoTradeable\n",
       "178           displayName\n",
       "179      trailingPegRatio\n",
       "\n",
       "[180 rows x 1 columns]"
      ]
     },
     "metadata": {},
     "output_type": "display_data"
    }
   ],
   "source": [
    "get_gettables()"
   ]
  },
  {
   "cell_type": "code",
   "execution_count": 9,
   "metadata": {},
   "outputs": [
    {
     "name": "stderr",
     "output_type": "stream",
     "text": [
      "100%|██████████| 38/38 [00:10<00:00,  3.79it/s]\n"
     ]
    },
    {
     "data": {
      "application/vnd.microsoft.datawrangler.viewer.v0+json": {
       "columns": [
        {
         "name": "index",
         "rawType": "int64",
         "type": "integer"
        },
        {
         "name": "Ticker",
         "rawType": "object",
         "type": "string"
        },
        {
         "name": "Name",
         "rawType": "object",
         "type": "string"
        },
        {
         "name": "Recommendation Score",
         "rawType": "object",
         "type": "string"
        }
       ],
       "ref": "db4700b5-d96a-46b5-8ad2-a67fb391e0e1",
       "rows": [
        [
         "0",
         "MATAS.CO",
         "Matas A/S",
         "1.03"
        ],
        [
         "0",
         "TRIFOR.CO",
         "Trifork Group AG",
         "0.82"
        ],
        [
         "0",
         "RNMBY",
         "Rheinmetall AG",
         "0.32"
        ],
        [
         "0",
         "SAABF",
         "Saab AB",
         "0.42"
        ],
        [
         "0",
         "BCKIY",
         "Babcock International Group Plc",
         "1.17"
        ],
        [
         "0",
         "BAESY",
         "BAE Systems PLC",
         "0.86"
        ],
        [
         "0",
         "IVSO.ST",
         "INVISIO AB",
         "1.22"
        ],
        [
         "0",
         "NSKFF",
         "Kongsberg Gruppen ASA",
         "0.74"
        ],
        [
         "0",
         "GMAB",
         "Genmab A/S",
         "1.75"
        ],
        [
         "0",
         "GN.CO",
         "GN Store Nord A/S",
         "0.97"
        ],
        [
         "0",
         "NVDA",
         "NVIDIA Corporation",
         "2.27"
        ],
        [
         "0",
         "LLY",
         "Eli Lilly and Company",
         "0.52"
        ],
        [
         "0",
         "DANSKE.CO",
         "Danske Bank A/S",
         "0.79"
        ],
        [
         "0",
         "CARL-B.CO",
         "Carlsberg B A/S",
         "1.25"
        ],
        [
         "0",
         "MAERSK-B.CO",
         "A.P. Møller - Mærsk B A/S",
         "1.53"
        ],
        [
         "0",
         "RBREW.CO",
         "Royal UNIBREW A/S",
         "1.31"
        ],
        [
         "0",
         "ISS.CO",
         "ISS A/S",
         "1.26"
        ],
        [
         "0",
         "DSV.CO",
         "DSV A/S",
         "0.87"
        ],
        [
         "0",
         "SCHO.CO",
         "Schouw & Co. A/S",
         "1.08"
        ],
        [
         "0",
         "JYSK.CO",
         "Jyske Bank A/S",
         "0.84"
        ],
        [
         "0",
         "ABBN.SW",
         "ABB LTD N",
         "1.25"
        ],
        [
         "0",
         "TER",
         "Teradyne, Inc.",
         "1.85"
        ],
        [
         "0",
         "NFLX",
         "Netflix, Inc.",
         "1.18"
        ],
        [
         "0",
         "STG.CO",
         "Scandinavian Tobacco Group A/S",
         "1.49"
        ],
        [
         "0",
         "NOVO-B.CO",
         "Novo Nordisk B A/S",
         "2.15"
        ],
        [
         "0",
         "EQNR",
         "Equinor ASA",
         "2.00"
        ],
        [
         "0",
         "NKT.CO",
         "NKT A/S",
         "1.40"
        ],
        [
         "0",
         "TSLA",
         "Tesla, Inc.",
         "-0.68"
        ],
        [
         "0",
         "HEM.ST",
         "Hemnet Group AB",
         "1.49"
        ],
        [
         "0",
         "DEMANT.CO",
         "Demant A/S",
         "1.39"
        ],
        [
         "0",
         "BAVA.CO ",
         "Bavarian Nordic A/S",
         "1.40"
        ],
        [
         "0",
         "SYDB.CO",
         "Sydbank A/S",
         "0.90"
        ],
        [
         "0",
         "UBER",
         "Uber Technologies, Inc.",
         "1.43"
        ],
        [
         "0",
         "COLO-B.CO",
         "Coloplast B A/S",
         "1.26"
        ],
        [
         "0",
         "COLUM.CO",
         "Columbus A/S",
         "0.68"
        ],
        [
         "0",
         "CBRAIN.CO",
         "cBrain A/S",
         "1.09"
        ],
        [
         "0",
         "NETC.CO",
         "Netcompany Group A/S",
         "1.14"
        ]
       ],
       "shape": {
        "columns": 3,
        "rows": 37
       }
      },
      "text/html": [
       "<div>\n",
       "<style scoped>\n",
       "    .dataframe tbody tr th:only-of-type {\n",
       "        vertical-align: middle;\n",
       "    }\n",
       "\n",
       "    .dataframe tbody tr th {\n",
       "        vertical-align: top;\n",
       "    }\n",
       "\n",
       "    .dataframe thead th {\n",
       "        text-align: right;\n",
       "    }\n",
       "</style>\n",
       "<table border=\"1\" class=\"dataframe\">\n",
       "  <thead>\n",
       "    <tr style=\"text-align: right;\">\n",
       "      <th></th>\n",
       "      <th>Ticker</th>\n",
       "      <th>Name</th>\n",
       "      <th>Recommendation Score</th>\n",
       "    </tr>\n",
       "  </thead>\n",
       "  <tbody>\n",
       "    <tr>\n",
       "      <th>0</th>\n",
       "      <td>MATAS.CO</td>\n",
       "      <td>Matas A/S</td>\n",
       "      <td>1.03</td>\n",
       "    </tr>\n",
       "    <tr>\n",
       "      <th>0</th>\n",
       "      <td>TRIFOR.CO</td>\n",
       "      <td>Trifork Group AG</td>\n",
       "      <td>0.82</td>\n",
       "    </tr>\n",
       "    <tr>\n",
       "      <th>0</th>\n",
       "      <td>RNMBY</td>\n",
       "      <td>Rheinmetall AG</td>\n",
       "      <td>0.32</td>\n",
       "    </tr>\n",
       "    <tr>\n",
       "      <th>0</th>\n",
       "      <td>SAABF</td>\n",
       "      <td>Saab AB</td>\n",
       "      <td>0.42</td>\n",
       "    </tr>\n",
       "    <tr>\n",
       "      <th>0</th>\n",
       "      <td>BCKIY</td>\n",
       "      <td>Babcock International Group Plc</td>\n",
       "      <td>1.17</td>\n",
       "    </tr>\n",
       "    <tr>\n",
       "      <th>0</th>\n",
       "      <td>BAESY</td>\n",
       "      <td>BAE Systems PLC</td>\n",
       "      <td>0.86</td>\n",
       "    </tr>\n",
       "    <tr>\n",
       "      <th>0</th>\n",
       "      <td>IVSO.ST</td>\n",
       "      <td>INVISIO AB</td>\n",
       "      <td>1.22</td>\n",
       "    </tr>\n",
       "    <tr>\n",
       "      <th>0</th>\n",
       "      <td>NSKFF</td>\n",
       "      <td>Kongsberg Gruppen ASA</td>\n",
       "      <td>0.74</td>\n",
       "    </tr>\n",
       "    <tr>\n",
       "      <th>0</th>\n",
       "      <td>GMAB</td>\n",
       "      <td>Genmab A/S</td>\n",
       "      <td>1.75</td>\n",
       "    </tr>\n",
       "    <tr>\n",
       "      <th>0</th>\n",
       "      <td>GN.CO</td>\n",
       "      <td>GN Store Nord A/S</td>\n",
       "      <td>0.97</td>\n",
       "    </tr>\n",
       "    <tr>\n",
       "      <th>0</th>\n",
       "      <td>NVDA</td>\n",
       "      <td>NVIDIA Corporation</td>\n",
       "      <td>2.27</td>\n",
       "    </tr>\n",
       "    <tr>\n",
       "      <th>0</th>\n",
       "      <td>LLY</td>\n",
       "      <td>Eli Lilly and Company</td>\n",
       "      <td>0.52</td>\n",
       "    </tr>\n",
       "    <tr>\n",
       "      <th>0</th>\n",
       "      <td>DANSKE.CO</td>\n",
       "      <td>Danske Bank A/S</td>\n",
       "      <td>0.79</td>\n",
       "    </tr>\n",
       "    <tr>\n",
       "      <th>0</th>\n",
       "      <td>CARL-B.CO</td>\n",
       "      <td>Carlsberg B A/S</td>\n",
       "      <td>1.25</td>\n",
       "    </tr>\n",
       "    <tr>\n",
       "      <th>0</th>\n",
       "      <td>MAERSK-B.CO</td>\n",
       "      <td>A.P. Møller - Mærsk B A/S</td>\n",
       "      <td>1.53</td>\n",
       "    </tr>\n",
       "    <tr>\n",
       "      <th>0</th>\n",
       "      <td>RBREW.CO</td>\n",
       "      <td>Royal UNIBREW A/S</td>\n",
       "      <td>1.31</td>\n",
       "    </tr>\n",
       "    <tr>\n",
       "      <th>0</th>\n",
       "      <td>ISS.CO</td>\n",
       "      <td>ISS A/S</td>\n",
       "      <td>1.26</td>\n",
       "    </tr>\n",
       "    <tr>\n",
       "      <th>0</th>\n",
       "      <td>DSV.CO</td>\n",
       "      <td>DSV A/S</td>\n",
       "      <td>0.87</td>\n",
       "    </tr>\n",
       "    <tr>\n",
       "      <th>0</th>\n",
       "      <td>SCHO.CO</td>\n",
       "      <td>Schouw &amp; Co. A/S</td>\n",
       "      <td>1.08</td>\n",
       "    </tr>\n",
       "    <tr>\n",
       "      <th>0</th>\n",
       "      <td>JYSK.CO</td>\n",
       "      <td>Jyske Bank A/S</td>\n",
       "      <td>0.84</td>\n",
       "    </tr>\n",
       "    <tr>\n",
       "      <th>0</th>\n",
       "      <td>ABBN.SW</td>\n",
       "      <td>ABB LTD N</td>\n",
       "      <td>1.25</td>\n",
       "    </tr>\n",
       "    <tr>\n",
       "      <th>0</th>\n",
       "      <td>TER</td>\n",
       "      <td>Teradyne, Inc.</td>\n",
       "      <td>1.85</td>\n",
       "    </tr>\n",
       "    <tr>\n",
       "      <th>0</th>\n",
       "      <td>NFLX</td>\n",
       "      <td>Netflix, Inc.</td>\n",
       "      <td>1.18</td>\n",
       "    </tr>\n",
       "    <tr>\n",
       "      <th>0</th>\n",
       "      <td>STG.CO</td>\n",
       "      <td>Scandinavian Tobacco Group A/S</td>\n",
       "      <td>1.49</td>\n",
       "    </tr>\n",
       "    <tr>\n",
       "      <th>0</th>\n",
       "      <td>NOVO-B.CO</td>\n",
       "      <td>Novo Nordisk B A/S</td>\n",
       "      <td>2.15</td>\n",
       "    </tr>\n",
       "    <tr>\n",
       "      <th>0</th>\n",
       "      <td>EQNR</td>\n",
       "      <td>Equinor ASA</td>\n",
       "      <td>2.00</td>\n",
       "    </tr>\n",
       "    <tr>\n",
       "      <th>0</th>\n",
       "      <td>NKT.CO</td>\n",
       "      <td>NKT A/S</td>\n",
       "      <td>1.40</td>\n",
       "    </tr>\n",
       "    <tr>\n",
       "      <th>0</th>\n",
       "      <td>TSLA</td>\n",
       "      <td>Tesla, Inc.</td>\n",
       "      <td>-0.68</td>\n",
       "    </tr>\n",
       "    <tr>\n",
       "      <th>0</th>\n",
       "      <td>HEM.ST</td>\n",
       "      <td>Hemnet Group AB</td>\n",
       "      <td>1.49</td>\n",
       "    </tr>\n",
       "    <tr>\n",
       "      <th>0</th>\n",
       "      <td>DEMANT.CO</td>\n",
       "      <td>Demant A/S</td>\n",
       "      <td>1.39</td>\n",
       "    </tr>\n",
       "    <tr>\n",
       "      <th>0</th>\n",
       "      <td>BAVA.CO</td>\n",
       "      <td>Bavarian Nordic A/S</td>\n",
       "      <td>1.40</td>\n",
       "    </tr>\n",
       "    <tr>\n",
       "      <th>0</th>\n",
       "      <td>SYDB.CO</td>\n",
       "      <td>Sydbank A/S</td>\n",
       "      <td>0.90</td>\n",
       "    </tr>\n",
       "    <tr>\n",
       "      <th>0</th>\n",
       "      <td>UBER</td>\n",
       "      <td>Uber Technologies, Inc.</td>\n",
       "      <td>1.43</td>\n",
       "    </tr>\n",
       "    <tr>\n",
       "      <th>0</th>\n",
       "      <td>COLO-B.CO</td>\n",
       "      <td>Coloplast B A/S</td>\n",
       "      <td>1.26</td>\n",
       "    </tr>\n",
       "    <tr>\n",
       "      <th>0</th>\n",
       "      <td>COLUM.CO</td>\n",
       "      <td>Columbus A/S</td>\n",
       "      <td>0.68</td>\n",
       "    </tr>\n",
       "    <tr>\n",
       "      <th>0</th>\n",
       "      <td>CBRAIN.CO</td>\n",
       "      <td>cBrain A/S</td>\n",
       "      <td>1.09</td>\n",
       "    </tr>\n",
       "    <tr>\n",
       "      <th>0</th>\n",
       "      <td>NETC.CO</td>\n",
       "      <td>Netcompany Group A/S</td>\n",
       "      <td>1.14</td>\n",
       "    </tr>\n",
       "  </tbody>\n",
       "</table>\n",
       "</div>"
      ],
      "text/plain": [
       "        Ticker                             Name Recommendation Score\n",
       "0     MATAS.CO                        Matas A/S                 1.03\n",
       "0    TRIFOR.CO                 Trifork Group AG                 0.82\n",
       "0        RNMBY                   Rheinmetall AG                 0.32\n",
       "0        SAABF                          Saab AB                 0.42\n",
       "0        BCKIY  Babcock International Group Plc                 1.17\n",
       "0        BAESY                  BAE Systems PLC                 0.86\n",
       "0      IVSO.ST                       INVISIO AB                 1.22\n",
       "0        NSKFF            Kongsberg Gruppen ASA                 0.74\n",
       "0         GMAB                       Genmab A/S                 1.75\n",
       "0        GN.CO                GN Store Nord A/S                 0.97\n",
       "0         NVDA               NVIDIA Corporation                 2.27\n",
       "0          LLY            Eli Lilly and Company                 0.52\n",
       "0    DANSKE.CO                  Danske Bank A/S                 0.79\n",
       "0    CARL-B.CO                  Carlsberg B A/S                 1.25\n",
       "0  MAERSK-B.CO        A.P. Møller - Mærsk B A/S                 1.53\n",
       "0     RBREW.CO                Royal UNIBREW A/S                 1.31\n",
       "0       ISS.CO                          ISS A/S                 1.26\n",
       "0       DSV.CO                          DSV A/S                 0.87\n",
       "0      SCHO.CO                 Schouw & Co. A/S                 1.08\n",
       "0      JYSK.CO                   Jyske Bank A/S                 0.84\n",
       "0      ABBN.SW                        ABB LTD N                 1.25\n",
       "0          TER                   Teradyne, Inc.                 1.85\n",
       "0         NFLX                    Netflix, Inc.                 1.18\n",
       "0       STG.CO   Scandinavian Tobacco Group A/S                 1.49\n",
       "0    NOVO-B.CO               Novo Nordisk B A/S                 2.15\n",
       "0         EQNR                      Equinor ASA                 2.00\n",
       "0       NKT.CO                          NKT A/S                 1.40\n",
       "0         TSLA                      Tesla, Inc.                -0.68\n",
       "0       HEM.ST                  Hemnet Group AB                 1.49\n",
       "0    DEMANT.CO                       Demant A/S                 1.39\n",
       "0     BAVA.CO               Bavarian Nordic A/S                 1.40\n",
       "0      SYDB.CO                      Sydbank A/S                 0.90\n",
       "0         UBER          Uber Technologies, Inc.                 1.43\n",
       "0    COLO-B.CO                  Coloplast B A/S                 1.26\n",
       "0     COLUM.CO                     Columbus A/S                 0.68\n",
       "0    CBRAIN.CO                       cBrain A/S                 1.09\n",
       "0      NETC.CO             Netcompany Group A/S                 1.14"
      ]
     },
     "metadata": {},
     "output_type": "display_data"
    }
   ],
   "source": [
    "df = pd.DataFrame()\n",
    "for symbol in tqdm(symbols, smoothing=0):\n",
    "    try:\n",
    "        summary = Ticker(symbol).summary()\n",
    "        df = pd.concat([df, summary])\n",
    "    except:\n",
    "        pass\n",
    "display(df)\n",
    "df.to_csv(\"../data/screener.csv\", index=False)"
   ]
  },
  {
   "cell_type": "markdown",
   "metadata": {},
   "source": [
    "### Single import"
   ]
  },
  {
   "cell_type": "code",
   "execution_count": 10,
   "metadata": {},
   "outputs": [
    {
     "name": "stdout",
     "output_type": "stream",
     "text": [
      "Taiwan Semiconductor Manufactur\n",
      "P/E: 28.83\n",
      "ROA%: 15.96\n",
      "Recommendation Score: 1.66\n"
     ]
    }
   ],
   "source": [
    "ticker = \"TSM\"\n",
    "print(yf.Ticker(ticker).info['shortName'])\n",
    "print(f\"P/E: {yf.Ticker(ticker).info['trailingPE']:.2f}\")\n",
    "print(f\"ROA%: {yf.Ticker(ticker).info['returnOnAssets']*100:.2f}\")\n",
    "print(f\"Recommendation Score: {Ticker(ticker).recommendation()}\")"
   ]
  },
  {
   "cell_type": "code",
   "execution_count": null,
   "metadata": {},
   "outputs": [],
   "source": []
  }
 ],
 "metadata": {
  "kernelspec": {
   "display_name": "Python 3",
   "language": "python",
   "name": "python3"
  },
  "language_info": {
   "codemirror_mode": {
    "name": "ipython",
    "version": 3
   },
   "file_extension": ".py",
   "mimetype": "text/x-python",
   "name": "python",
   "nbconvert_exporter": "python",
   "pygments_lexer": "ipython3",
   "version": "3.13.4"
  }
 },
 "nbformat": 4,
 "nbformat_minor": 2
}
