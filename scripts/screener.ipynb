{
 "cells": [
  {
   "cell_type": "markdown",
   "metadata": {},
   "source": [
    "## Dependencies"
   ]
  },
  {
   "cell_type": "markdown",
   "metadata": {},
   "source": [
    "### Library Installation (if needed)"
   ]
  },
  {
   "cell_type": "code",
   "execution_count": 9,
   "metadata": {},
   "outputs": [],
   "source": [
    "#! pip install -Ur requirements.txt"
   ]
  },
  {
   "cell_type": "code",
   "execution_count": 10,
   "metadata": {},
   "outputs": [],
   "source": [
    "from methods.screener_methods import *\n",
    "from tqdm import tqdm\n",
    "import pandas as pd"
   ]
  },
  {
   "cell_type": "code",
   "execution_count": 11,
   "metadata": {},
   "outputs": [
    {
     "name": "stdout",
     "output_type": "stream",
     "text": [
      "0.5454545454545454\n",
      "0.25\n",
      "1.71\n"
     ]
    }
   ],
   "source": [
    "stock = Stock(\"AAPL\")\n",
    "stock.PE = 10\n",
    "print(stock.PE_score())\n",
    "stock.ROA = 3\n",
    "print(stock.ROA_score())\n",
    "print(stock.recommendation_score())"
   ]
  },
  {
   "cell_type": "code",
   "execution_count": 12,
   "metadata": {},
   "outputs": [
    {
     "name": "stdout",
     "output_type": "stream",
     "text": [
      "-0.13636363636363635\n",
      "0.8333333333333334\n",
      "1.51\n"
     ]
    }
   ],
   "source": [
    "stock = Stock(\"AAPL\")\n",
    "stock.PE = 25\n",
    "print(stock.PE_score())\n",
    "stock.ROA = 10\n",
    "print(stock.ROA_score())\n",
    "print(stock.recommendation_score())"
   ]
  },
  {
   "cell_type": "markdown",
   "metadata": {},
   "source": [
    "### Single import"
   ]
  },
  {
   "cell_type": "code",
   "execution_count": 13,
   "metadata": {},
   "outputs": [
    {
     "data": {
      "application/vnd.microsoft.datawrangler.viewer.v0+json": {
       "columns": [
        {
         "name": "index",
         "rawType": "int64",
         "type": "integer"
        },
        {
         "name": "Ticker",
         "rawType": "object",
         "type": "string"
        },
        {
         "name": "Name",
         "rawType": "object",
         "type": "string"
        },
        {
         "name": "Signal",
         "rawType": "object",
         "type": "string"
        },
        {
         "name": "Recommendation Score",
         "rawType": "float64",
         "type": "float"
        },
        {
         "name": "Owned",
         "rawType": "bool",
         "type": "boolean"
        },
        {
         "name": "P/E",
         "rawType": "float64",
         "type": "float"
        },
        {
         "name": "ROA%",
         "rawType": "float64",
         "type": "float"
        },
        {
         "name": "CEO Age",
         "rawType": "int64",
         "type": "integer"
        },
        {
         "name": "Insider Buy%",
         "rawType": "float64",
         "type": "float"
        },
        {
         "name": "Sector",
         "rawType": "object",
         "type": "string"
        },
        {
         "name": "Industry",
         "rawType": "object",
         "type": "string"
        },
        {
         "name": "CEO Name",
         "rawType": "object",
         "type": "string"
        }
       ],
       "ref": "1c40d951-c66e-4a55-8e64-1f910c081d9e",
       "rows": [
        [
         "0",
         "NVO",
         "Novo Nordisk A/S",
         "Buy",
         "2.69",
         "False",
         "14.3",
         "21.82",
         "54",
         "0.0",
         "Healthcare",
         "Drug Manufacturers - General",
         "Mr. Maziar Mike Doustdar"
        ]
       ],
       "shape": {
        "columns": 12,
        "rows": 1
       }
      },
      "text/html": [
       "<div>\n",
       "<style scoped>\n",
       "    .dataframe tbody tr th:only-of-type {\n",
       "        vertical-align: middle;\n",
       "    }\n",
       "\n",
       "    .dataframe tbody tr th {\n",
       "        vertical-align: top;\n",
       "    }\n",
       "\n",
       "    .dataframe thead th {\n",
       "        text-align: right;\n",
       "    }\n",
       "</style>\n",
       "<table border=\"1\" class=\"dataframe\">\n",
       "  <thead>\n",
       "    <tr style=\"text-align: right;\">\n",
       "      <th></th>\n",
       "      <th>Ticker</th>\n",
       "      <th>Name</th>\n",
       "      <th>Signal</th>\n",
       "      <th>Recommendation Score</th>\n",
       "      <th>Owned</th>\n",
       "      <th>P/E</th>\n",
       "      <th>ROA%</th>\n",
       "      <th>CEO Age</th>\n",
       "      <th>Insider Buy%</th>\n",
       "      <th>Sector</th>\n",
       "      <th>Industry</th>\n",
       "      <th>CEO Name</th>\n",
       "    </tr>\n",
       "  </thead>\n",
       "  <tbody>\n",
       "    <tr>\n",
       "      <th>0</th>\n",
       "      <td>NVO</td>\n",
       "      <td>Novo Nordisk A/S</td>\n",
       "      <td>Buy</td>\n",
       "      <td>2.69</td>\n",
       "      <td>False</td>\n",
       "      <td>14.3</td>\n",
       "      <td>21.82</td>\n",
       "      <td>54</td>\n",
       "      <td>0.0</td>\n",
       "      <td>Healthcare</td>\n",
       "      <td>Drug Manufacturers - General</td>\n",
       "      <td>Mr. Maziar Mike Doustdar</td>\n",
       "    </tr>\n",
       "  </tbody>\n",
       "</table>\n",
       "</div>"
      ],
      "text/plain": [
       "  Ticker              Name Signal  Recommendation Score  Owned   P/E   ROA%  \\\n",
       "0    NVO  Novo Nordisk A/S    Buy                  2.69  False  14.3  21.82   \n",
       "\n",
       "   CEO Age  Insider Buy%      Sector                      Industry  \\\n",
       "0       54           0.0  Healthcare  Drug Manufacturers - General   \n",
       "\n",
       "                   CEO Name  \n",
       "0  Mr. Maziar Mike Doustdar  "
      ]
     },
     "metadata": {},
     "output_type": "display_data"
    }
   ],
   "source": [
    "symbol = \"NVO\"\n",
    "display(Stock(symbol).summary())"
   ]
  },
  {
   "cell_type": "markdown",
   "metadata": {},
   "source": [
    "### Screener"
   ]
  },
  {
   "cell_type": "code",
   "execution_count": 14,
   "metadata": {},
   "outputs": [],
   "source": [
    "symbol_list = input('Symbols eg. \"simple\", \"filtered\", \"all\":')\n",
    "if symbol_list == \"all\":\n",
    "    symbols = pd.read_csv(\"../data/tickers/tickers.csv\")[\"Ticker\"].tolist() + pd.read_csv(\"../data/tikcers/simple_tickers.csv\")[\"Ticker\"].to_list()\n",
    "elif symbol_list == \"simple\":\n",
    "    symbols = pd.read_csv(\"../data/tickers/simple_tickers.csv\")[\"Ticker\"].tolist()\n",
    "else:\n",
    "    symbols = pd.read_csv(\"../data/tickers/screener_filtered_tickers.csv\")[\"Ticker\"].tolist()\n",
    "symbols = list(set(symbols))"
   ]
  },
  {
   "cell_type": "code",
   "execution_count": 15,
   "metadata": {},
   "outputs": [
    {
     "name": "stderr",
     "output_type": "stream",
     "text": [
      "  0%|          | 3/2019 [00:01<19:50,  1.69it/s]Exception ignored from cffi callback <function buffer_callback at 0x0000022CE6250540>:\n",
      "Traceback (most recent call last):\n",
      "  File \"c:\\Users\\Gamer\\AppData\\Local\\Programs\\Python\\Python313\\Lib\\site-packages\\curl_cffi\\curl.py\", line 68, in buffer_callback\n",
      "    @ffi.def_extern()\n",
      "KeyboardInterrupt: \n",
      "  1%|▏         | 26/2019 [00:15<20:01,  1.66it/s]"
     ]
    },
    {
     "ename": "",
     "evalue": "",
     "output_type": "error",
     "traceback": [
      "\u001b[1;31mCannot execute code, session has been disposed. Please try restarting the Kernel."
     ]
    },
    {
     "ename": "",
     "evalue": "",
     "output_type": "error",
     "traceback": [
      "\u001b[1;31mCannot execute code, session has been disposed. Please try restarting the Kernel. \n",
      "\u001b[1;31mView Jupyter <a href='command:jupyter.viewOutput'>log</a> for further details."
     ]
    }
   ],
   "source": [
    "df = pd.DataFrame()\n",
    "for symbol in tqdm(symbols, smoothing=0):\n",
    "    try:\n",
    "        df = pd.concat([df, Stock(symbol).summary()])\n",
    "    except Exception as error:\n",
    "        #print(f\"Error at: {symbol}. Error: {error}\")\n",
    "        continue\n",
    "df = df.sort_values(by=\"Recommendation Score\", ascending=False)\n",
    "display(df)\n",
    "if symbol_list == \"simple\":\n",
    "    df.to_csv(\"../data/screener_results/simple_screener_results.csv\", index=False)\n",
    "else:   \n",
    "    df.to_csv(\"../data/screener_results/screener_results.csv\", index=False)\n",
    "    df[\"Ticker\"].to_csv(\"../data/tickers/screener_filtered_tickers.csv\", index=False)"
   ]
  },
  {
   "cell_type": "code",
   "execution_count": null,
   "metadata": {},
   "outputs": [
    {
     "data": {
      "application/vnd.microsoft.datawrangler.viewer.v0+json": {
       "columns": [
        {
         "name": "index",
         "rawType": "object",
         "type": "string"
        },
        {
         "name": "0",
         "rawType": "object",
         "type": "unknown"
        }
       ],
       "ref": "729152b5-5e43-44e1-9729-def9f4a84939",
       "rows": [
        [
         "address1",
         "One Apple Park Way"
        ],
        [
         "city",
         "Cupertino"
        ],
        [
         "state",
         "CA"
        ],
        [
         "zip",
         "95014"
        ],
        [
         "country",
         "United States"
        ],
        [
         "phone",
         "(408) 996-1010"
        ],
        [
         "website",
         "https://www.apple.com"
        ],
        [
         "industry",
         "Consumer Electronics"
        ],
        [
         "industryKey",
         "consumer-electronics"
        ],
        [
         "industryDisp",
         "Consumer Electronics"
        ],
        [
         "sector",
         "Technology"
        ],
        [
         "sectorKey",
         "technology"
        ],
        [
         "sectorDisp",
         "Technology"
        ],
        [
         "longBusinessSummary",
         "Apple Inc. designs, manufactures, and markets smartphones, personal computers, tablets, wearables, and accessories worldwide. The company offers iPhone, a line of smartphones; Mac, a line of personal computers; iPad, a line of multi-purpose tablets; and wearables, home, and accessories comprising AirPods, Apple TV, Apple Watch, Beats products, and HomePod. It also provides AppleCare support and cloud services; and operates various platforms, including the App Store that allow customers to discover and download applications and digital content, such as books, music, video, games, and podcasts, as well as advertising services include third-party licensing arrangements and its own advertising platforms. In addition, the company offers various subscription-based services, such as Apple Arcade, a game subscription service; Apple Fitness+, a personalized fitness service; Apple Music, which offers users a curated listening experience with on-demand radio stations; Apple News+, a subscription news and magazine service; Apple TV+, which offers exclusive original content; Apple Card, a co-branded credit card; and Apple Pay, a cashless payment service, as well as licenses its intellectual property. The company serves consumers, and small and mid-sized businesses; and the education, enterprise, and government markets. It distributes third-party applications for its products through the App Store. The company also sells its products through its retail and online stores, and direct sales force; and third-party cellular network carriers, wholesalers, retailers, and resellers. Apple Inc. was founded in 1976 and is headquartered in Cupertino, California."
        ],
        [
         "fullTimeEmployees",
         "150000"
        ],
        [
         "companyOfficers",
         "[{'maxAge': 1, 'name': 'Mr. Timothy D. Cook', 'age': 63, 'title': 'CEO & Director', 'yearBorn': 1961, 'fiscalYear': 2024, 'totalPay': 16520856, 'exercisedValue': 0, 'unexercisedValue': 0}, {'maxAge': 1, 'name': 'Ms. Katherine L. Adams', 'age': 60, 'title': 'Senior VP, General Counsel & Secretary', 'yearBorn': 1964, 'fiscalYear': 2024, 'totalPay': 5022182, 'exercisedValue': 0, 'unexercisedValue': 0}, {'maxAge': 1, 'name': \"Ms. Deirdre  O'Brien\", 'age': 57, 'title': 'Chief People Officer & Senior VP of Retail', 'yearBorn': 1967, 'fiscalYear': 2024, 'totalPay': 5022182, 'exercisedValue': 0, 'unexercisedValue': 0}, {'maxAge': 1, 'name': 'Mr. Jeffrey E. Williams', 'age': 60, 'title': 'Senior Vice President of Design, Watch, & Health', 'yearBorn': 1964, 'fiscalYear': 2024, 'totalPay': 5020737, 'exercisedValue': 0, 'unexercisedValue': 0}, {'maxAge': 1, 'name': 'Mr. Kevan  Parekh', 'age': 52, 'title': 'Senior VP & CFO', 'yearBorn': 1972, 'fiscalYear': 2024, 'exercisedValue': 0, 'unexercisedValue': 0}, {'maxAge': 1, 'name': 'Mr. Sabih  Khan', 'title': 'Chief Operating Officer', 'fiscalYear': 2024, 'exercisedValue': 0, 'unexercisedValue': 0}, {'maxAge': 1, 'name': 'Mr. Chris  Kondo', 'title': 'Senior Director of Corporate Accounting', 'fiscalYear': 2024, 'exercisedValue': 0, 'unexercisedValue': 0}, {'maxAge': 1, 'name': 'Suhasini  Chandramouli', 'title': 'Director of Investor Relations', 'fiscalYear': 2024, 'exercisedValue': 0, 'unexercisedValue': 0}, {'maxAge': 1, 'name': 'Ms. Kristin Huguet Quayle', 'title': 'Vice President of Worldwide Communications', 'fiscalYear': 2024, 'exercisedValue': 0, 'unexercisedValue': 0}, {'maxAge': 1, 'name': 'Mr. Greg  Joswiak', 'title': 'Senior Vice President of Worldwide Marketing', 'fiscalYear': 2024, 'exercisedValue': 0, 'unexercisedValue': 0}]"
        ],
        [
         "auditRisk",
         "7"
        ],
        [
         "boardRisk",
         "1"
        ],
        [
         "compensationRisk",
         "3"
        ],
        [
         "shareHolderRightsRisk",
         "1"
        ],
        [
         "overallRisk",
         "1"
        ],
        [
         "governanceEpochDate",
         "1754006400"
        ],
        [
         "compensationAsOfEpochDate",
         "1735603200"
        ],
        [
         "irWebsite",
         "http://investor.apple.com/"
        ],
        [
         "executiveTeam",
         "[]"
        ],
        [
         "maxAge",
         "86400"
        ],
        [
         "priceHint",
         "2"
        ],
        [
         "previousClose",
         "226.01"
        ],
        [
         "open",
         "226.28"
        ],
        [
         "dayLow",
         "224.5101"
        ],
        [
         "dayHigh",
         "226.52"
        ],
        [
         "regularMarketPreviousClose",
         "226.01"
        ],
        [
         "regularMarketOpen",
         "226.28"
        ],
        [
         "regularMarketDayLow",
         "224.5101"
        ],
        [
         "regularMarketDayHigh",
         "226.52"
        ],
        [
         "dividendRate",
         "1.04"
        ],
        [
         "dividendYield",
         "0.46"
        ],
        [
         "exDividendDate",
         "1754870400"
        ],
        [
         "payoutRatio",
         "0.1533"
        ],
        [
         "fiveYearAvgDividendYield",
         "0.55"
        ],
        [
         "beta",
         "1.165"
        ],
        [
         "trailingPE",
         "34.121227"
        ],
        [
         "forwardPE",
         "27.099892"
        ],
        [
         "volume",
         "9919930"
        ],
        [
         "regularMarketVolume",
         "9919827"
        ],
        [
         "averageVolume",
         "56128404"
        ],
        [
         "averageVolume10days",
         "61841400"
        ],
        [
         "averageDailyVolume10Day",
         "61841400"
        ],
        [
         "bid",
         "224.03"
        ],
        [
         "ask",
         "227.97"
        ]
       ],
       "shape": {
        "columns": 1,
        "rows": 176
       }
      },
      "text/html": [
       "<div>\n",
       "<style scoped>\n",
       "    .dataframe tbody tr th:only-of-type {\n",
       "        vertical-align: middle;\n",
       "    }\n",
       "\n",
       "    .dataframe tbody tr th {\n",
       "        vertical-align: top;\n",
       "    }\n",
       "\n",
       "    .dataframe thead th {\n",
       "        text-align: right;\n",
       "    }\n",
       "</style>\n",
       "<table border=\"1\" class=\"dataframe\">\n",
       "  <thead>\n",
       "    <tr style=\"text-align: right;\">\n",
       "      <th></th>\n",
       "      <th>0</th>\n",
       "    </tr>\n",
       "  </thead>\n",
       "  <tbody>\n",
       "    <tr>\n",
       "      <th>address1</th>\n",
       "      <td>One Apple Park Way</td>\n",
       "    </tr>\n",
       "    <tr>\n",
       "      <th>city</th>\n",
       "      <td>Cupertino</td>\n",
       "    </tr>\n",
       "    <tr>\n",
       "      <th>state</th>\n",
       "      <td>CA</td>\n",
       "    </tr>\n",
       "    <tr>\n",
       "      <th>zip</th>\n",
       "      <td>95014</td>\n",
       "    </tr>\n",
       "    <tr>\n",
       "      <th>country</th>\n",
       "      <td>United States</td>\n",
       "    </tr>\n",
       "    <tr>\n",
       "      <th>...</th>\n",
       "      <td>...</td>\n",
       "    </tr>\n",
       "    <tr>\n",
       "      <th>esgPopulated</th>\n",
       "      <td>False</td>\n",
       "    </tr>\n",
       "    <tr>\n",
       "      <th>regularMarketChangePercent</th>\n",
       "      <td>-0.358343</td>\n",
       "    </tr>\n",
       "    <tr>\n",
       "      <th>regularMarketPrice</th>\n",
       "      <td>225.2001</td>\n",
       "    </tr>\n",
       "    <tr>\n",
       "      <th>displayName</th>\n",
       "      <td>Apple</td>\n",
       "    </tr>\n",
       "    <tr>\n",
       "      <th>trailingPegRatio</th>\n",
       "      <td>2.0401</td>\n",
       "    </tr>\n",
       "  </tbody>\n",
       "</table>\n",
       "<p>176 rows × 1 columns</p>\n",
       "</div>"
      ],
      "text/plain": [
       "                                             0\n",
       "address1                    One Apple Park Way\n",
       "city                                 Cupertino\n",
       "state                                       CA\n",
       "zip                                      95014\n",
       "country                          United States\n",
       "...                                        ...\n",
       "esgPopulated                             False\n",
       "regularMarketChangePercent           -0.358343\n",
       "regularMarketPrice                    225.2001\n",
       "displayName                              Apple\n",
       "trailingPegRatio                        2.0401\n",
       "\n",
       "[176 rows x 1 columns]"
      ]
     },
     "metadata": {},
     "output_type": "display_data"
    }
   ],
   "source": [
    "get_gettables()"
   ]
  }
 ],
 "metadata": {
  "kernelspec": {
   "display_name": "Python 3",
   "language": "python",
   "name": "python3"
  },
  "language_info": {
   "codemirror_mode": {
    "name": "ipython",
    "version": 3
   },
   "file_extension": ".py",
   "mimetype": "text/x-python",
   "name": "python",
   "nbconvert_exporter": "python",
   "pygments_lexer": "ipython3",
   "version": "3.13.4"
  }
 },
 "nbformat": 4,
 "nbformat_minor": 2
}
