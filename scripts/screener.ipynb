{
 "cells": [
  {
   "cell_type": "code",
   "execution_count": 1,
   "metadata": {},
   "outputs": [],
   "source": [
    "from methods import *\n",
    "from tqdm import tqdm\n",
    "import yfinance as yf\n",
    "import pandas as pd"
   ]
  },
  {
   "cell_type": "code",
   "execution_count": 2,
   "metadata": {},
   "outputs": [],
   "source": [
    "symbol_list = input('Symbols eg. \"simple\", \"filtered\", \"all\":')\n",
    "if symbol_list == \"all\":\n",
    "    symbols = pd.read_csv(\"../data/tickers.csv\")[\"Ticker\"].tolist() + pd.read_csv(\"../data/simple_tickers.csv\")[\"Ticker\"].to_list()\n",
    "elif symbol_list == \"simple\":\n",
    "    symbols = pd.read_csv(\"../data/simple_tickers.csv\")[\"Ticker\"].tolist()\n",
    "else:\n",
    "    symbols = pd.read_csv(\"../data/filtered_tickers.csv\")[\"Ticker\"].tolist()\n",
    "symbols = list(set(symbols))"
   ]
  },
  {
   "cell_type": "code",
   "execution_count": 3,
   "metadata": {},
   "outputs": [
    {
     "name": "stderr",
     "output_type": "stream",
     "text": [
      "100%|██████████| 2042/2042 [12:43<00:00,  2.68it/s]\n"
     ]
    },
    {
     "data": {
      "application/vnd.microsoft.datawrangler.viewer.v0+json": {
       "columns": [
        {
         "name": "index",
         "rawType": "int64",
         "type": "integer"
        },
        {
         "name": "Ticker",
         "rawType": "object",
         "type": "string"
        },
        {
         "name": "Name",
         "rawType": "object",
         "type": "string"
        },
        {
         "name": "Signal",
         "rawType": "object",
         "type": "string"
        },
        {
         "name": "Recommendation Score",
         "rawType": "float64",
         "type": "float"
        },
        {
         "name": "Owned",
         "rawType": "bool",
         "type": "boolean"
        },
        {
         "name": "Forward P/E",
         "rawType": "float64",
         "type": "float"
        },
        {
         "name": "P/E",
         "rawType": "float64",
         "type": "float"
        },
        {
         "name": "FvC Ratio",
         "rawType": "float64",
         "type": "float"
        },
        {
         "name": "ROA%",
         "rawType": "float64",
         "type": "float"
        },
        {
         "name": "Insider Buy%",
         "rawType": "float64",
         "type": "float"
        },
        {
         "name": "Sector",
         "rawType": "object",
         "type": "string"
        },
        {
         "name": "Industry",
         "rawType": "object",
         "type": "string"
        }
       ],
       "ref": "f10e0515-7f1c-407e-b3b3-33e00586c847",
       "rows": [
        [
         "0",
         "SBR",
         "Sabine Royalty Trust",
         "Buy",
         "4.59",
         "False",
         null,
         "12.38",
         "1.0",
         "473.6",
         "0.0",
         "Energy",
         "Oil & Gas Midstream"
        ],
        [
         "0",
         "PBT",
         "Permian Basin Royalty Trust",
         "Buy",
         "4.35",
         "False",
         null,
         "27.31",
         "1.0",
         "526.24",
         "0.0",
         "Energy",
         "Oil & Gas Midstream"
        ],
        [
         "0",
         "MVO",
         "MV Oil Trust",
         "Buy",
         "4.17",
         "False",
         "2.71",
         "4.3",
         "1.59",
         "227.92",
         "0.0",
         "Energy",
         "Oil & Gas E&P"
        ],
        [
         "0",
         "NRT",
         "North European Oil Royality Tru",
         "Buy",
         "3.26",
         "False",
         null,
         "8.59",
         "1.0",
         "109.24",
         "0.0",
         "Energy",
         "Oil & Gas E&P"
        ],
        [
         "0",
         "CRT",
         "Cross Timbers Royalty Trust",
         "Buy",
         "3.09",
         "False",
         null,
         "8.95",
         "1.0",
         "92.98",
         "0.0",
         "Energy",
         "Oil & Gas E&P"
        ],
        [
         "0",
         "WINA",
         "Winmark Corporation",
         "Buy",
         "2.45",
         "False",
         "31.63",
         "32.99",
         "1.04",
         "77.33",
         "16.3",
         "Consumer Cyclical",
         "Specialty Retail"
        ],
        [
         "0",
         "MARPS",
         "3273",
         "Buy",
         "2.39",
         "False",
         null,
         "12.05",
         "1.0",
         "48.38",
         "0.0",
         "Energy",
         "Oil & Gas Midstream"
        ],
        [
         "0",
         "CALM",
         "Cal-Maine Foods, Inc.",
         "Buy",
         "2.38",
         "False",
         "32.18",
         "4.32",
         "1.0",
         "36.8",
         "0.0",
         "Consumer Defensive",
         "Farm Products"
        ],
        [
         "0",
         "EVR.L",
         "EVRAZ PLC ORD USD0.05",
         "Buy",
         "2.22",
         "False",
         "0.77",
         "0.42",
         "0.55",
         "27.67",
         "0.0",
         "Basic Materials",
         "Steel"
        ],
        [
         "0",
         "NATH",
         "Nathan's Famous, Inc.",
         "Buy",
         "2.21",
         "False",
         null,
         "16.14",
         "1.0",
         "44.58",
         "1.7",
         "Consumer Cyclical",
         "Restaurants"
        ],
        [
         "0",
         "CHKR",
         "Chesapeake Granite Wash Trust",
         "Buy",
         "2.15",
         "False",
         null,
         "4.64",
         "1.0",
         "28.8",
         "0.0",
         "Energy",
         "Oil & Gas E&P"
        ],
        [
         "0",
         "CHA",
         "Chagee Holdings Limited",
         "Buy",
         "1.91",
         "False",
         "1.19",
         "18.38",
         "1.0",
         "34.26",
         "0.0",
         "Consumer Cyclical",
         "Restaurants"
        ],
        [
         "0",
         "VRSN",
         "VeriSign, Inc.",
         "Buy",
         "1.8",
         "False",
         "31.02",
         "31.64",
         "1.02",
         "46.56",
         "-23.3",
         "Technology",
         "Software - Infrastructure"
        ],
        [
         "0",
         "MO",
         "Altria Group, Inc.",
         "Buy",
         "1.74",
         "False",
         "11.58",
         "11.96",
         "1.03",
         "23.26",
         "0.0",
         "Consumer Defensive",
         "Tobacco"
        ],
        [
         "0",
         "NOVO-B.CO",
         "Novo Nordisk B A/S",
         "Buy",
         "1.73",
         "True",
         "10.94",
         "13.08",
         "1.2",
         "23.29",
         "0.0",
         "Healthcare",
         "Drug Manufacturers - General"
        ],
        [
         "0",
         "NVO",
         "Novo Nordisk A/S",
         "Buy",
         "1.71",
         "False",
         "11.99",
         "13.41",
         "1.12",
         "23.29",
         "0.0",
         "Healthcare",
         "Drug Manufacturers - General"
        ],
        [
         "0",
         "NVDA",
         "NVIDIA Corporation",
         "Buy",
         "1.69",
         "False",
         "43.69",
         "56.25",
         "1.29",
         "53.24",
         "-0.4",
         "Technology",
         "Semiconductors"
        ],
        [
         "0",
         "LULU",
         "lululemon athletica inc.",
         "Buy",
         "1.66",
         "False",
         "13.16",
         "13.16",
         "1.0",
         "22.02",
         "1.3",
         "Consumer Cyclical",
         "Apparel Retail"
        ],
        [
         "0",
         "DMLP",
         "Dorchester Minerals, L.P.",
         "Buy",
         "1.63",
         "False",
         null,
         "13.34",
         "1.0",
         "21.52",
         "0.0",
         "Energy",
         "Oil & Gas E&P"
        ],
        [
         "0",
         "DPZ",
         "Domino's Pizza Inc",
         "Buy",
         "1.63",
         "False",
         "26.53",
         "27.1",
         "1.02",
         "30.97",
         "0.2",
         "Consumer Cyclical",
         "Restaurants"
        ],
        [
         "0",
         "IDCC",
         "InterDigital, Inc.",
         "Buy",
         "1.59",
         "False",
         "55.99",
         "17.96",
         "1.0",
         "18.37",
         "42.0",
         "Technology",
         "Software - Application"
        ],
        [
         "0",
         "TZOO",
         "Travelzoo",
         "Buy",
         "1.59",
         "False",
         "7.79",
         "10.55",
         "1.36",
         "18.78",
         "-8.2",
         "Communication Services",
         "Internet Content & Information"
        ],
        [
         "0",
         "HALO",
         "Halozyme Therapeutics, Inc.",
         "Buy",
         "1.58",
         "False",
         "12.39",
         "15.7",
         "1.27",
         "18.5",
         "22.2",
         "Healthcare",
         "Biotechnology"
        ],
        [
         "0",
         "ESEA",
         "Euroseas Ltd.",
         "Buy",
         "1.58",
         "False",
         "4.03",
         "2.77",
         "0.69",
         "13.93",
         "0.0",
         "Industrials",
         "Marine Shipping"
        ],
        [
         "0",
         "RIGL",
         "Rigel Pharmaceuticals, Inc.",
         "Buy",
         "1.56",
         "False",
         "25.76",
         "10.5",
         "1.0",
         "18.15",
         "-1.3",
         "Healthcare",
         "Biotechnology"
        ],
        [
         "0",
         "DECK",
         "Deckers Outdoor Corporation",
         "Buy",
         "1.54",
         "False",
         "16.53",
         "15.88",
         "0.96",
         "21.27",
         "-3.0",
         "Consumer Cyclical",
         "Footwear & Accessories"
        ],
        [
         "0",
         "UTHR",
         "United Therapeutics Corporation",
         "Buy",
         "1.53",
         "False",
         "10.5",
         "11.48",
         "1.09",
         "12.96",
         "48.2",
         "Healthcare",
         "Drug Manufacturers - Specialty & Generic"
        ],
        [
         "0",
         "CROX",
         "Crocs, Inc.",
         "Buy",
         "1.51",
         "False",
         "7.63",
         "5.99",
         "0.78",
         "12.92",
         "18.5",
         "Consumer Cyclical",
         "Footwear & Accessories"
        ],
        [
         "0",
         "PNDORA.CO",
         "Pandora A/S",
         "Buy",
         "1.51",
         "False",
         "14.85",
         "16.17",
         "1.09",
         "20.09",
         "0.0",
         "Consumer Cyclical",
         "Luxury Goods"
        ],
        [
         "0",
         "EVO.ST",
         "Evolution AB",
         "Buy",
         "1.5",
         "False",
         "12.08",
         "13.33",
         "1.1",
         "18.03",
         "0.0",
         "Consumer Cyclical",
         "Gambling"
        ],
        [
         "0",
         "NVR",
         "NVR, Inc.",
         "Buy",
         "1.5",
         "False",
         "15.19",
         "16.42",
         "1.08",
         "20.13",
         "-0.3",
         "Consumer Cyclical",
         "Residential Construction"
        ],
        [
         "0",
         "CPRX",
         "Catalyst Pharmaceuticals, Inc.",
         "Buy",
         "1.49",
         "False",
         "14.39",
         "13.5",
         "0.94",
         "18.59",
         "-2.9",
         "Healthcare",
         "Biotechnology"
        ],
        [
         "0",
         "SIGA",
         "SIGA Technologies Inc.",
         "Buy",
         "1.47",
         "False",
         "5.36",
         "9.64",
         "1.8",
         "14.39",
         "0.0",
         "Healthcare",
         "Drug Manufacturers - Specialty & Generic"
        ],
        [
         "0",
         "ULTA",
         "Ulta Beauty, Inc.",
         "Buy",
         "1.47",
         "False",
         "22.52",
         "19.84",
         "0.88",
         "16.85",
         "43.3",
         "Consumer Cyclical",
         "Specialty Retail"
        ],
        [
         "0",
         "APAM",
         "Artisan Partners Asset Manageme",
         "Buy",
         "1.47",
         "False",
         "12.49",
         "11.86",
         "0.95",
         "15.66",
         "13.1",
         "Financial Services",
         "Asset Management"
        ],
        [
         "0",
         "DHIL",
         "Diamond Hill Investment Group, ",
         "Buy",
         "1.46",
         "False",
         null,
         "7.59",
         "1.0",
         "11.68",
         "28.9",
         "Financial Services",
         "Asset Management"
        ],
        [
         "0",
         "ANF",
         "Abercrombie & Fitch Company",
         "Buy",
         "1.46",
         "False",
         "9.14",
         "8.98",
         "0.98",
         "14.9",
         "0.0",
         "Consumer Cyclical",
         "Apparel Retail"
        ],
        [
         "0",
         "PBYI",
         "Puma Biotechnology Inc",
         "Buy",
         "1.44",
         "False",
         "13.25",
         "3.93",
         "1.0",
         "11.35",
         "4.9",
         "Healthcare",
         "Biotechnology"
        ],
        [
         "0",
         "HLF",
         "Herbalife Ltd.",
         "Buy",
         "1.43",
         "False",
         "4.8",
         "3.33",
         "0.69",
         "11.72",
         "0.0",
         "Consumer Defensive",
         "Packaged Foods"
        ],
        [
         "0",
         "SBS",
         "Companhia de saneamento Basico ",
         "Buy",
         "1.43",
         "False",
         "17.03",
         "7.77",
         "1.0",
         "13.75",
         "0.0",
         "Utilities",
         "Utilities - Regulated Water"
        ],
        [
         "0",
         "OMAB",
         "Grupo Aeroportuario del Centro ",
         "Buy",
         "1.42",
         "False",
         "18.01",
         "18.52",
         "1.03",
         "19.48",
         "0.0",
         "Industrials",
         "Airports & Air Services"
        ],
        [
         "0",
         "YUM",
         "Yum! Brands, Inc.",
         "Buy",
         "1.42",
         "False",
         "24.18",
         "28.99",
         "1.2",
         "24.86",
         "0.0",
         "Consumer Cyclical",
         "Restaurants"
        ],
        [
         "0",
         "PHM",
         "PulteGroup, Inc.",
         "Buy",
         "1.41",
         "False",
         "8.84",
         "8.74",
         "0.99",
         "12.95",
         "11.1",
         "Consumer Cyclical",
         "Residential Construction"
        ],
        [
         "0",
         "MAS",
         "Masco Corporation",
         "Buy",
         "1.41",
         "False",
         "15.71",
         "18.23",
         "1.16",
         "15.9",
         "27.5",
         "Industrials",
         "Building Products & Equipment"
        ],
        [
         "0",
         "HMY",
         "Harmony Gold Mining Company Lim",
         "Buy",
         "1.4",
         "False",
         "10.77",
         "15.4",
         "1.43",
         "16.66",
         "0.0",
         "Basic Materials",
         "Gold"
        ],
        [
         "0",
         "BKE",
         "Buckle, Inc. (The)",
         "Buy",
         "1.4",
         "False",
         "13.64",
         "12.63",
         "0.93",
         "16.1",
         "-1.0",
         "Consumer Cyclical",
         "Apparel Retail"
        ],
        [
         "0",
         "MLI",
         "Mueller Industries, Inc.",
         "Buy",
         "1.4",
         "False",
         "16.05",
         "13.25",
         "0.83",
         "15.97",
         "5.9",
         "Industrials",
         "Metal Fabrication"
        ],
        [
         "0",
         "UG",
         "United-Guardian, Inc.",
         "Buy",
         "1.39",
         "False",
         null,
         "12.8",
         "1.0",
         "15.65",
         "0.0",
         "Consumer Defensive",
         "Household & Personal Products"
        ],
        [
         "0",
         "HRB",
         "H&R Block, Inc.",
         "Buy",
         "1.39",
         "False",
         "10.7",
         "13.51",
         "1.26",
         "15.63",
         "0.0",
         "Consumer Cyclical",
         "Personal Services"
        ],
        [
         "0",
         "SCCO",
         "Southern Copper Corporation",
         "Buy",
         "1.39",
         "False",
         "19.35",
         "20.41",
         "1.06",
         "19.69",
         "0.0",
         "Basic Materials",
         "Copper"
        ]
       ],
       "shape": {
        "columns": 12,
        "rows": 2040
       }
      },
      "text/html": [
       "<div>\n",
       "<style scoped>\n",
       "    .dataframe tbody tr th:only-of-type {\n",
       "        vertical-align: middle;\n",
       "    }\n",
       "\n",
       "    .dataframe tbody tr th {\n",
       "        vertical-align: top;\n",
       "    }\n",
       "\n",
       "    .dataframe thead th {\n",
       "        text-align: right;\n",
       "    }\n",
       "</style>\n",
       "<table border=\"1\" class=\"dataframe\">\n",
       "  <thead>\n",
       "    <tr style=\"text-align: right;\">\n",
       "      <th></th>\n",
       "      <th>Ticker</th>\n",
       "      <th>Name</th>\n",
       "      <th>Signal</th>\n",
       "      <th>Recommendation Score</th>\n",
       "      <th>Owned</th>\n",
       "      <th>Forward P/E</th>\n",
       "      <th>P/E</th>\n",
       "      <th>FvC Ratio</th>\n",
       "      <th>ROA%</th>\n",
       "      <th>Insider Buy%</th>\n",
       "      <th>Sector</th>\n",
       "      <th>Industry</th>\n",
       "    </tr>\n",
       "  </thead>\n",
       "  <tbody>\n",
       "    <tr>\n",
       "      <th>0</th>\n",
       "      <td>SBR</td>\n",
       "      <td>Sabine Royalty Trust</td>\n",
       "      <td>Buy</td>\n",
       "      <td>4.59</td>\n",
       "      <td>False</td>\n",
       "      <td>NaN</td>\n",
       "      <td>12.38</td>\n",
       "      <td>1.00</td>\n",
       "      <td>473.60</td>\n",
       "      <td>0.0</td>\n",
       "      <td>Energy</td>\n",
       "      <td>Oil &amp; Gas Midstream</td>\n",
       "    </tr>\n",
       "    <tr>\n",
       "      <th>0</th>\n",
       "      <td>PBT</td>\n",
       "      <td>Permian Basin Royalty Trust</td>\n",
       "      <td>Buy</td>\n",
       "      <td>4.35</td>\n",
       "      <td>False</td>\n",
       "      <td>NaN</td>\n",
       "      <td>27.31</td>\n",
       "      <td>1.00</td>\n",
       "      <td>526.24</td>\n",
       "      <td>0.0</td>\n",
       "      <td>Energy</td>\n",
       "      <td>Oil &amp; Gas Midstream</td>\n",
       "    </tr>\n",
       "    <tr>\n",
       "      <th>0</th>\n",
       "      <td>MVO</td>\n",
       "      <td>MV Oil Trust</td>\n",
       "      <td>Buy</td>\n",
       "      <td>4.17</td>\n",
       "      <td>False</td>\n",
       "      <td>2.71</td>\n",
       "      <td>4.30</td>\n",
       "      <td>1.59</td>\n",
       "      <td>227.92</td>\n",
       "      <td>0.0</td>\n",
       "      <td>Energy</td>\n",
       "      <td>Oil &amp; Gas E&amp;P</td>\n",
       "    </tr>\n",
       "    <tr>\n",
       "      <th>0</th>\n",
       "      <td>NRT</td>\n",
       "      <td>North European Oil Royality Tru</td>\n",
       "      <td>Buy</td>\n",
       "      <td>3.26</td>\n",
       "      <td>False</td>\n",
       "      <td>NaN</td>\n",
       "      <td>8.59</td>\n",
       "      <td>1.00</td>\n",
       "      <td>109.24</td>\n",
       "      <td>0.0</td>\n",
       "      <td>Energy</td>\n",
       "      <td>Oil &amp; Gas E&amp;P</td>\n",
       "    </tr>\n",
       "    <tr>\n",
       "      <th>0</th>\n",
       "      <td>CRT</td>\n",
       "      <td>Cross Timbers Royalty Trust</td>\n",
       "      <td>Buy</td>\n",
       "      <td>3.09</td>\n",
       "      <td>False</td>\n",
       "      <td>NaN</td>\n",
       "      <td>8.95</td>\n",
       "      <td>1.00</td>\n",
       "      <td>92.98</td>\n",
       "      <td>0.0</td>\n",
       "      <td>Energy</td>\n",
       "      <td>Oil &amp; Gas E&amp;P</td>\n",
       "    </tr>\n",
       "    <tr>\n",
       "      <th>...</th>\n",
       "      <td>...</td>\n",
       "      <td>...</td>\n",
       "      <td>...</td>\n",
       "      <td>...</td>\n",
       "      <td>...</td>\n",
       "      <td>...</td>\n",
       "      <td>...</td>\n",
       "      <td>...</td>\n",
       "      <td>...</td>\n",
       "      <td>...</td>\n",
       "      <td>...</td>\n",
       "      <td>...</td>\n",
       "    </tr>\n",
       "    <tr>\n",
       "      <th>0</th>\n",
       "      <td>TR</td>\n",
       "      <td>Tootsie Roll Industries, Inc.</td>\n",
       "      <td>Hold</td>\n",
       "      <td>NaN</td>\n",
       "      <td>False</td>\n",
       "      <td>-19.61</td>\n",
       "      <td>30.10</td>\n",
       "      <td>1.00</td>\n",
       "      <td>6.61</td>\n",
       "      <td>0.0</td>\n",
       "      <td>Consumer Defensive</td>\n",
       "      <td>Confectioners</td>\n",
       "    </tr>\n",
       "    <tr>\n",
       "      <th>0</th>\n",
       "      <td>IFN</td>\n",
       "      <td>India Fund, Inc. (The)</td>\n",
       "      <td>Hold</td>\n",
       "      <td>NaN</td>\n",
       "      <td>False</td>\n",
       "      <td>-9.84</td>\n",
       "      <td>4.90</td>\n",
       "      <td>1.00</td>\n",
       "      <td>-0.36</td>\n",
       "      <td>0.0</td>\n",
       "      <td>Financial Services</td>\n",
       "      <td>Asset Management</td>\n",
       "    </tr>\n",
       "    <tr>\n",
       "      <th>0</th>\n",
       "      <td>ASTI</td>\n",
       "      <td>Ascent Solar Technologies, Inc</td>\n",
       "      <td>Hold</td>\n",
       "      <td>NaN</td>\n",
       "      <td>False</td>\n",
       "      <td>NaN</td>\n",
       "      <td>0.04</td>\n",
       "      <td>1.00</td>\n",
       "      <td>-87.49</td>\n",
       "      <td>0.0</td>\n",
       "      <td>Technology</td>\n",
       "      <td>Solar</td>\n",
       "    </tr>\n",
       "    <tr>\n",
       "      <th>0</th>\n",
       "      <td>NTGR</td>\n",
       "      <td>NETGEAR, Inc.</td>\n",
       "      <td>Hold</td>\n",
       "      <td>NaN</td>\n",
       "      <td>False</td>\n",
       "      <td>-22.35</td>\n",
       "      <td>10.30</td>\n",
       "      <td>1.00</td>\n",
       "      <td>-2.52</td>\n",
       "      <td>42.8</td>\n",
       "      <td>Technology</td>\n",
       "      <td>Communication Equipment</td>\n",
       "    </tr>\n",
       "    <tr>\n",
       "      <th>0</th>\n",
       "      <td>ATO.PA</td>\n",
       "      <td>ATOS</td>\n",
       "      <td>Hold</td>\n",
       "      <td>NaN</td>\n",
       "      <td>False</td>\n",
       "      <td>-34.78</td>\n",
       "      <td>0.09</td>\n",
       "      <td>1.00</td>\n",
       "      <td>8.48</td>\n",
       "      <td>0.0</td>\n",
       "      <td>Technology</td>\n",
       "      <td>Information Technology Services</td>\n",
       "    </tr>\n",
       "  </tbody>\n",
       "</table>\n",
       "<p>2040 rows × 12 columns</p>\n",
       "</div>"
      ],
      "text/plain": [
       "    Ticker                             Name Signal  Recommendation Score  \\\n",
       "0      SBR             Sabine Royalty Trust    Buy                  4.59   \n",
       "0      PBT      Permian Basin Royalty Trust    Buy                  4.35   \n",
       "0      MVO                     MV Oil Trust    Buy                  4.17   \n",
       "0      NRT  North European Oil Royality Tru    Buy                  3.26   \n",
       "0      CRT      Cross Timbers Royalty Trust    Buy                  3.09   \n",
       "..     ...                              ...    ...                   ...   \n",
       "0       TR    Tootsie Roll Industries, Inc.   Hold                   NaN   \n",
       "0      IFN           India Fund, Inc. (The)   Hold                   NaN   \n",
       "0     ASTI   Ascent Solar Technologies, Inc   Hold                   NaN   \n",
       "0     NTGR                    NETGEAR, Inc.   Hold                   NaN   \n",
       "0   ATO.PA                             ATOS   Hold                   NaN   \n",
       "\n",
       "    Owned  Forward P/E    P/E  FvC Ratio    ROA%  Insider Buy%  \\\n",
       "0   False          NaN  12.38       1.00  473.60           0.0   \n",
       "0   False          NaN  27.31       1.00  526.24           0.0   \n",
       "0   False         2.71   4.30       1.59  227.92           0.0   \n",
       "0   False          NaN   8.59       1.00  109.24           0.0   \n",
       "0   False          NaN   8.95       1.00   92.98           0.0   \n",
       "..    ...          ...    ...        ...     ...           ...   \n",
       "0   False       -19.61  30.10       1.00    6.61           0.0   \n",
       "0   False        -9.84   4.90       1.00   -0.36           0.0   \n",
       "0   False          NaN   0.04       1.00  -87.49           0.0   \n",
       "0   False       -22.35  10.30       1.00   -2.52          42.8   \n",
       "0   False       -34.78   0.09       1.00    8.48           0.0   \n",
       "\n",
       "                Sector                         Industry  \n",
       "0               Energy              Oil & Gas Midstream  \n",
       "0               Energy              Oil & Gas Midstream  \n",
       "0               Energy                    Oil & Gas E&P  \n",
       "0               Energy                    Oil & Gas E&P  \n",
       "0               Energy                    Oil & Gas E&P  \n",
       "..                 ...                              ...  \n",
       "0   Consumer Defensive                    Confectioners  \n",
       "0   Financial Services                 Asset Management  \n",
       "0           Technology                            Solar  \n",
       "0           Technology          Communication Equipment  \n",
       "0           Technology  Information Technology Services  \n",
       "\n",
       "[2040 rows x 12 columns]"
      ]
     },
     "metadata": {},
     "output_type": "display_data"
    }
   ],
   "source": [
    "df = pd.DataFrame()\n",
    "for symbol in tqdm(symbols, smoothing=0):\n",
    "    try:\n",
    "        df = pd.concat([df, Ticker(symbol).summary()])\n",
    "    except Exception as error:\n",
    "        #print(f\"Error at: {symbol}. Error: {error}\")\n",
    "        continue\n",
    "df = df.sort_values(by=\"Recommendation Score\", ascending=False)\n",
    "display(df)\n",
    "if symbol_list == \"simple\":\n",
    "    df.to_csv(\"../data/simple_screener_results.csv\", index=False)\n",
    "else:   \n",
    "    df.to_csv(\"../data/screener_results.csv\", index=False)\n",
    "    df[\"Ticker\"].to_csv(\"../data/filtered_tickers.csv\", index=False)"
   ]
  },
  {
   "cell_type": "markdown",
   "metadata": {},
   "source": [
    "### Single import"
   ]
  },
  {
   "cell_type": "code",
   "execution_count": 6,
   "metadata": {},
   "outputs": [
    {
     "data": {
      "application/vnd.microsoft.datawrangler.viewer.v0+json": {
       "columns": [
        {
         "name": "index",
         "rawType": "int64",
         "type": "integer"
        },
        {
         "name": "Ticker",
         "rawType": "object",
         "type": "string"
        },
        {
         "name": "Name",
         "rawType": "object",
         "type": "string"
        },
        {
         "name": "Signal",
         "rawType": "object",
         "type": "string"
        },
        {
         "name": "Recommendation Score",
         "rawType": "float64",
         "type": "float"
        },
        {
         "name": "Owned",
         "rawType": "bool",
         "type": "boolean"
        },
        {
         "name": "Forward P/E",
         "rawType": "float64",
         "type": "float"
        },
        {
         "name": "P/E",
         "rawType": "float64",
         "type": "float"
        },
        {
         "name": "FvC Ratio",
         "rawType": "float64",
         "type": "float"
        },
        {
         "name": "ROA%",
         "rawType": "float64",
         "type": "float"
        },
        {
         "name": "Insider Buy%",
         "rawType": "float64",
         "type": "float"
        },
        {
         "name": "Sector",
         "rawType": "object",
         "type": "string"
        },
        {
         "name": "Industry",
         "rawType": "object",
         "type": "string"
        }
       ],
       "ref": "13778e83-df1f-4710-98a3-c4d84bf163cc",
       "rows": [
        [
         "0",
         "8TRA.ST",
         "TRATON SE",
         "Hold",
         "0.63",
         "False",
         "5.62",
         "6.77",
         "1.2",
         "3.56",
         "0.0",
         "Industrials",
         "Farm & Heavy Construction Machinery"
        ]
       ],
       "shape": {
        "columns": 12,
        "rows": 1
       }
      },
      "text/html": [
       "<div>\n",
       "<style scoped>\n",
       "    .dataframe tbody tr th:only-of-type {\n",
       "        vertical-align: middle;\n",
       "    }\n",
       "\n",
       "    .dataframe tbody tr th {\n",
       "        vertical-align: top;\n",
       "    }\n",
       "\n",
       "    .dataframe thead th {\n",
       "        text-align: right;\n",
       "    }\n",
       "</style>\n",
       "<table border=\"1\" class=\"dataframe\">\n",
       "  <thead>\n",
       "    <tr style=\"text-align: right;\">\n",
       "      <th></th>\n",
       "      <th>Ticker</th>\n",
       "      <th>Name</th>\n",
       "      <th>Signal</th>\n",
       "      <th>Recommendation Score</th>\n",
       "      <th>Owned</th>\n",
       "      <th>Forward P/E</th>\n",
       "      <th>P/E</th>\n",
       "      <th>FvC Ratio</th>\n",
       "      <th>ROA%</th>\n",
       "      <th>Insider Buy%</th>\n",
       "      <th>Sector</th>\n",
       "      <th>Industry</th>\n",
       "    </tr>\n",
       "  </thead>\n",
       "  <tbody>\n",
       "    <tr>\n",
       "      <th>0</th>\n",
       "      <td>8TRA.ST</td>\n",
       "      <td>TRATON SE</td>\n",
       "      <td>Hold</td>\n",
       "      <td>0.63</td>\n",
       "      <td>False</td>\n",
       "      <td>5.62</td>\n",
       "      <td>6.77</td>\n",
       "      <td>1.2</td>\n",
       "      <td>3.56</td>\n",
       "      <td>0.0</td>\n",
       "      <td>Industrials</td>\n",
       "      <td>Farm &amp; Heavy Construction Machinery</td>\n",
       "    </tr>\n",
       "  </tbody>\n",
       "</table>\n",
       "</div>"
      ],
      "text/plain": [
       "    Ticker       Name Signal  Recommendation Score  Owned  Forward P/E   P/E  \\\n",
       "0  8TRA.ST  TRATON SE   Hold                  0.63  False         5.62  6.77   \n",
       "\n",
       "   FvC Ratio  ROA%  Insider Buy%       Sector  \\\n",
       "0        1.2  3.56           0.0  Industrials   \n",
       "\n",
       "                              Industry  \n",
       "0  Farm & Heavy Construction Machinery  "
      ]
     },
     "metadata": {},
     "output_type": "display_data"
    }
   ],
   "source": [
    "symbol = \"8TRA.ST\"\n",
    "display(Ticker(symbol).summary())"
   ]
  },
  {
   "cell_type": "code",
   "execution_count": 5,
   "metadata": {},
   "outputs": [
    {
     "data": {
      "application/vnd.microsoft.datawrangler.viewer.v0+json": {
       "columns": [
        {
         "name": "index",
         "rawType": "object",
         "type": "string"
        },
        {
         "name": "0",
         "rawType": "object",
         "type": "unknown"
        }
       ],
       "ref": "29547103-a8bb-4617-8181-e4d861afd879",
       "rows": [
        [
         "address1",
         "One Apple Park Way"
        ],
        [
         "city",
         "Cupertino"
        ],
        [
         "state",
         "CA"
        ],
        [
         "zip",
         "95014"
        ],
        [
         "country",
         "United States"
        ],
        [
         "phone",
         "(408) 996-1010"
        ],
        [
         "website",
         "https://www.apple.com"
        ],
        [
         "industry",
         "Consumer Electronics"
        ],
        [
         "industryKey",
         "consumer-electronics"
        ],
        [
         "industryDisp",
         "Consumer Electronics"
        ],
        [
         "sector",
         "Technology"
        ],
        [
         "sectorKey",
         "technology"
        ],
        [
         "sectorDisp",
         "Technology"
        ],
        [
         "longBusinessSummary",
         "Apple Inc. designs, manufactures, and markets smartphones, personal computers, tablets, wearables, and accessories worldwide. The company offers iPhone, a line of smartphones; Mac, a line of personal computers; iPad, a line of multi-purpose tablets; and wearables, home, and accessories comprising AirPods, Apple TV, Apple Watch, Beats products, and HomePod. It also provides AppleCare support and cloud services; and operates various platforms, including the App Store that allow customers to discover and download applications and digital content, such as books, music, video, games, and podcasts, as well as advertising services include third-party licensing arrangements and its own advertising platforms. In addition, the company offers various subscription-based services, such as Apple Arcade, a game subscription service; Apple Fitness+, a personalized fitness service; Apple Music, which offers users a curated listening experience with on-demand radio stations; Apple News+, a subscription news and magazine service; Apple TV+, which offers exclusive original content; Apple Card, a co-branded credit card; and Apple Pay, a cashless payment service, as well as licenses its intellectual property. The company serves consumers, and small and mid-sized businesses; and the education, enterprise, and government markets. It distributes third-party applications for its products through the App Store. The company also sells its products through its retail and online stores, and direct sales force; and third-party cellular network carriers, wholesalers, retailers, and resellers. Apple Inc. was founded in 1976 and is headquartered in Cupertino, California."
        ],
        [
         "fullTimeEmployees",
         "150000"
        ],
        [
         "companyOfficers",
         "[{'maxAge': 1, 'name': 'Mr. Timothy D. Cook', 'age': 63, 'title': 'CEO & Director', 'yearBorn': 1961, 'fiscalYear': 2024, 'totalPay': 16520856, 'exercisedValue': 0, 'unexercisedValue': 0}, {'maxAge': 1, 'name': 'Ms. Katherine L. Adams', 'age': 60, 'title': 'Senior VP, General Counsel & Secretary', 'yearBorn': 1964, 'fiscalYear': 2024, 'totalPay': 5022182, 'exercisedValue': 0, 'unexercisedValue': 0}, {'maxAge': 1, 'name': \"Ms. Deirdre  O'Brien\", 'age': 57, 'title': 'Chief People Officer & Senior VP of Retail', 'yearBorn': 1967, 'fiscalYear': 2024, 'totalPay': 5022182, 'exercisedValue': 0, 'unexercisedValue': 0}, {'maxAge': 1, 'name': 'Mr. Jeffrey E. Williams', 'age': 60, 'title': 'Senior Vice President of Design, Watch, & Health', 'yearBorn': 1964, 'fiscalYear': 2024, 'totalPay': 5020737, 'exercisedValue': 0, 'unexercisedValue': 0}, {'maxAge': 1, 'name': 'Mr. Kevan  Parekh', 'age': 52, 'title': 'Senior VP & CFO', 'yearBorn': 1972, 'fiscalYear': 2024, 'exercisedValue': 0, 'unexercisedValue': 0}, {'maxAge': 1, 'name': 'Mr. Sabih  Khan', 'title': 'Chief Operating Officer', 'fiscalYear': 2024, 'exercisedValue': 0, 'unexercisedValue': 0}, {'maxAge': 1, 'name': 'Mr. Chris  Kondo', 'title': 'Senior Director of Corporate Accounting', 'fiscalYear': 2024, 'exercisedValue': 0, 'unexercisedValue': 0}, {'maxAge': 1, 'name': 'Suhasini  Chandramouli', 'title': 'Director of Investor Relations', 'fiscalYear': 2024, 'exercisedValue': 0, 'unexercisedValue': 0}, {'maxAge': 1, 'name': 'Ms. Kristin Huguet Quayle', 'title': 'Vice President of Worldwide Communications', 'fiscalYear': 2024, 'exercisedValue': 0, 'unexercisedValue': 0}, {'maxAge': 1, 'name': 'Mr. Greg  Joswiak', 'title': 'Senior Vice President of Worldwide Marketing', 'fiscalYear': 2024, 'exercisedValue': 0, 'unexercisedValue': 0}]"
        ],
        [
         "auditRisk",
         "7"
        ],
        [
         "boardRisk",
         "1"
        ],
        [
         "compensationRisk",
         "3"
        ],
        [
         "shareHolderRightsRisk",
         "1"
        ],
        [
         "overallRisk",
         "1"
        ],
        [
         "governanceEpochDate",
         "1754006400"
        ],
        [
         "compensationAsOfEpochDate",
         "1735603200"
        ],
        [
         "irWebsite",
         "http://investor.apple.com/"
        ],
        [
         "executiveTeam",
         "[]"
        ],
        [
         "maxAge",
         "86400"
        ],
        [
         "priceHint",
         "2"
        ],
        [
         "previousClose",
         "202.38"
        ],
        [
         "open",
         "204.505"
        ],
        [
         "dayLow",
         "201.675"
        ],
        [
         "dayHigh",
         "207.88"
        ],
        [
         "regularMarketPreviousClose",
         "202.38"
        ],
        [
         "regularMarketOpen",
         "204.505"
        ],
        [
         "regularMarketDayLow",
         "201.675"
        ],
        [
         "regularMarketDayHigh",
         "207.88"
        ],
        [
         "dividendRate",
         "1.04"
        ],
        [
         "dividendYield",
         "0.51"
        ],
        [
         "exDividendDate",
         "1754870400"
        ],
        [
         "payoutRatio",
         "0.1533"
        ],
        [
         "fiveYearAvgDividendYield",
         "0.55"
        ],
        [
         "beta",
         "1.165"
        ],
        [
         "trailingPE",
         "30.671192"
        ],
        [
         "forwardPE",
         "24.470516"
        ],
        [
         "volume",
         "73452346"
        ],
        [
         "regularMarketVolume",
         "73452346"
        ],
        [
         "averageVolume",
         "53679570"
        ],
        [
         "averageVolume10days",
         "57462050"
        ],
        [
         "averageDailyVolume10Day",
         "57462050"
        ],
        [
         "bid",
         "203.05"
        ],
        [
         "ask",
         "203.36"
        ]
       ],
       "shape": {
        "columns": 1,
        "rows": 180
       }
      },
      "text/html": [
       "<div>\n",
       "<style scoped>\n",
       "    .dataframe tbody tr th:only-of-type {\n",
       "        vertical-align: middle;\n",
       "    }\n",
       "\n",
       "    .dataframe tbody tr th {\n",
       "        vertical-align: top;\n",
       "    }\n",
       "\n",
       "    .dataframe thead th {\n",
       "        text-align: right;\n",
       "    }\n",
       "</style>\n",
       "<table border=\"1\" class=\"dataframe\">\n",
       "  <thead>\n",
       "    <tr style=\"text-align: right;\">\n",
       "      <th></th>\n",
       "      <th>0</th>\n",
       "    </tr>\n",
       "  </thead>\n",
       "  <tbody>\n",
       "    <tr>\n",
       "      <th>address1</th>\n",
       "      <td>One Apple Park Way</td>\n",
       "    </tr>\n",
       "    <tr>\n",
       "      <th>city</th>\n",
       "      <td>Cupertino</td>\n",
       "    </tr>\n",
       "    <tr>\n",
       "      <th>state</th>\n",
       "      <td>CA</td>\n",
       "    </tr>\n",
       "    <tr>\n",
       "      <th>zip</th>\n",
       "      <td>95014</td>\n",
       "    </tr>\n",
       "    <tr>\n",
       "      <th>country</th>\n",
       "      <td>United States</td>\n",
       "    </tr>\n",
       "    <tr>\n",
       "      <th>...</th>\n",
       "      <td>...</td>\n",
       "    </tr>\n",
       "    <tr>\n",
       "      <th>cryptoTradeable</th>\n",
       "      <td>False</td>\n",
       "    </tr>\n",
       "    <tr>\n",
       "      <th>regularMarketChangePercent</th>\n",
       "      <td>0.479297</td>\n",
       "    </tr>\n",
       "    <tr>\n",
       "      <th>regularMarketPrice</th>\n",
       "      <td>203.35</td>\n",
       "    </tr>\n",
       "    <tr>\n",
       "      <th>displayName</th>\n",
       "      <td>Apple</td>\n",
       "    </tr>\n",
       "    <tr>\n",
       "      <th>trailingPegRatio</th>\n",
       "      <td>1.887</td>\n",
       "    </tr>\n",
       "  </tbody>\n",
       "</table>\n",
       "<p>180 rows × 1 columns</p>\n",
       "</div>"
      ],
      "text/plain": [
       "                                             0\n",
       "address1                    One Apple Park Way\n",
       "city                                 Cupertino\n",
       "state                                       CA\n",
       "zip                                      95014\n",
       "country                          United States\n",
       "...                                        ...\n",
       "cryptoTradeable                          False\n",
       "regularMarketChangePercent            0.479297\n",
       "regularMarketPrice                      203.35\n",
       "displayName                              Apple\n",
       "trailingPegRatio                         1.887\n",
       "\n",
       "[180 rows x 1 columns]"
      ]
     },
     "metadata": {},
     "output_type": "display_data"
    }
   ],
   "source": [
    "get_gettables()"
   ]
  }
 ],
 "metadata": {
  "kernelspec": {
   "display_name": "Python 3",
   "language": "python",
   "name": "python3"
  },
  "language_info": {
   "codemirror_mode": {
    "name": "ipython",
    "version": 3
   },
   "file_extension": ".py",
   "mimetype": "text/x-python",
   "name": "python",
   "nbconvert_exporter": "python",
   "pygments_lexer": "ipython3",
   "version": "3.13.4"
  }
 },
 "nbformat": 4,
 "nbformat_minor": 2
}
