{
 "cells": [
  {
   "cell_type": "markdown",
   "metadata": {},
   "source": [
    "## Dependencies"
   ]
  },
  {
   "cell_type": "markdown",
   "metadata": {},
   "source": [
    "### Library Installation (if needed)"
   ]
  },
  {
   "cell_type": "code",
   "execution_count": 2,
   "metadata": {},
   "outputs": [],
   "source": [
    "#! pip install -Ur requirements.txt"
   ]
  },
  {
   "cell_type": "code",
   "execution_count": 3,
   "metadata": {},
   "outputs": [],
   "source": [
    "from methods.screener_methods import *\n",
    "from tqdm import tqdm\n",
    "import pandas as pd"
   ]
  },
  {
   "cell_type": "code",
   "execution_count": 4,
   "metadata": {},
   "outputs": [
    {
     "name": "stdout",
     "output_type": "stream",
     "text": [
      "0.5454545454545454\n",
      "0.25\n",
      "1.71\n"
     ]
    }
   ],
   "source": [
    "stock = Stock(\"AAPL\")\n",
    "stock.PE = 10\n",
    "print(stock.PE_score())\n",
    "stock.ROA = 3\n",
    "print(stock.ROA_score())\n",
    "print(stock.recommendation_score())"
   ]
  },
  {
   "cell_type": "code",
   "execution_count": 5,
   "metadata": {},
   "outputs": [
    {
     "name": "stdout",
     "output_type": "stream",
     "text": [
      "-0.13636363636363635\n",
      "0.8333333333333334\n",
      "1.51\n"
     ]
    }
   ],
   "source": [
    "stock = Stock(\"AAPL\")\n",
    "stock.PE = 25\n",
    "print(stock.PE_score())\n",
    "stock.ROA = 10\n",
    "print(stock.ROA_score())\n",
    "print(stock.recommendation_score())"
   ]
  },
  {
   "cell_type": "markdown",
   "metadata": {},
   "source": [
    "### Single import"
   ]
  },
  {
   "cell_type": "code",
   "execution_count": 6,
   "metadata": {},
   "outputs": [
    {
     "data": {
      "application/vnd.microsoft.datawrangler.viewer.v0+json": {
       "columns": [
        {
         "name": "index",
         "rawType": "int64",
         "type": "integer"
        },
        {
         "name": "Ticker",
         "rawType": "object",
         "type": "string"
        },
        {
         "name": "Name",
         "rawType": "object",
         "type": "string"
        },
        {
         "name": "Signal",
         "rawType": "object",
         "type": "string"
        },
        {
         "name": "Recommendation Score",
         "rawType": "float64",
         "type": "float"
        },
        {
         "name": "Owned",
         "rawType": "bool",
         "type": "boolean"
        },
        {
         "name": "P/E",
         "rawType": "float64",
         "type": "float"
        },
        {
         "name": "ROA%",
         "rawType": "float64",
         "type": "float"
        },
        {
         "name": "CEO Age",
         "rawType": "int64",
         "type": "integer"
        },
        {
         "name": "Insider Buy%",
         "rawType": "float64",
         "type": "float"
        },
        {
         "name": "Sector",
         "rawType": "object",
         "type": "string"
        },
        {
         "name": "Industry",
         "rawType": "object",
         "type": "string"
        },
        {
         "name": "CEO Name",
         "rawType": "object",
         "type": "string"
        }
       ],
       "ref": "c3dbb7eb-bab4-4f20-bb7a-1f2178983031",
       "rows": [
        [
         "0",
         "NVO",
         "Novo Nordisk A/S",
         "Buy",
         "2.69",
         "False",
         "14.28",
         "21.82",
         "54",
         "0.0",
         "Healthcare",
         "Drug Manufacturers - General",
         "Mr. Maziar Mike Doustdar"
        ]
       ],
       "shape": {
        "columns": 12,
        "rows": 1
       }
      },
      "text/html": [
       "<div>\n",
       "<style scoped>\n",
       "    .dataframe tbody tr th:only-of-type {\n",
       "        vertical-align: middle;\n",
       "    }\n",
       "\n",
       "    .dataframe tbody tr th {\n",
       "        vertical-align: top;\n",
       "    }\n",
       "\n",
       "    .dataframe thead th {\n",
       "        text-align: right;\n",
       "    }\n",
       "</style>\n",
       "<table border=\"1\" class=\"dataframe\">\n",
       "  <thead>\n",
       "    <tr style=\"text-align: right;\">\n",
       "      <th></th>\n",
       "      <th>Ticker</th>\n",
       "      <th>Name</th>\n",
       "      <th>Signal</th>\n",
       "      <th>Recommendation Score</th>\n",
       "      <th>Owned</th>\n",
       "      <th>P/E</th>\n",
       "      <th>ROA%</th>\n",
       "      <th>CEO Age</th>\n",
       "      <th>Insider Buy%</th>\n",
       "      <th>Sector</th>\n",
       "      <th>Industry</th>\n",
       "      <th>CEO Name</th>\n",
       "    </tr>\n",
       "  </thead>\n",
       "  <tbody>\n",
       "    <tr>\n",
       "      <th>0</th>\n",
       "      <td>NVO</td>\n",
       "      <td>Novo Nordisk A/S</td>\n",
       "      <td>Buy</td>\n",
       "      <td>2.69</td>\n",
       "      <td>False</td>\n",
       "      <td>14.28</td>\n",
       "      <td>21.82</td>\n",
       "      <td>54</td>\n",
       "      <td>0.0</td>\n",
       "      <td>Healthcare</td>\n",
       "      <td>Drug Manufacturers - General</td>\n",
       "      <td>Mr. Maziar Mike Doustdar</td>\n",
       "    </tr>\n",
       "  </tbody>\n",
       "</table>\n",
       "</div>"
      ],
      "text/plain": [
       "  Ticker              Name Signal  Recommendation Score  Owned    P/E   ROA%  \\\n",
       "0    NVO  Novo Nordisk A/S    Buy                  2.69  False  14.28  21.82   \n",
       "\n",
       "   CEO Age  Insider Buy%      Sector                      Industry  \\\n",
       "0       54           0.0  Healthcare  Drug Manufacturers - General   \n",
       "\n",
       "                   CEO Name  \n",
       "0  Mr. Maziar Mike Doustdar  "
      ]
     },
     "metadata": {},
     "output_type": "display_data"
    }
   ],
   "source": [
    "symbol = \"NVO\"\n",
    "display(Stock(symbol).summary())"
   ]
  },
  {
   "cell_type": "markdown",
   "metadata": {},
   "source": [
    "### Screener"
   ]
  },
  {
   "cell_type": "code",
   "execution_count": 7,
   "metadata": {},
   "outputs": [],
   "source": [
    "symbol_list = input('Symbols eg. \"simple\", \"filtered\", \"all\":')\n",
    "if symbol_list == \"all\":\n",
    "    symbols = pd.read_csv(\"../data/tickers/tickers.csv\")[\"Ticker\"].tolist() + pd.read_csv(\"../data/tickers/simple_tickers.csv\")[\"Ticker\"].to_list()\n",
    "elif symbol_list == \"simple\":\n",
    "    symbols = pd.read_csv(\"../data/tickers/simple_tickers.csv\")[\"Ticker\"].tolist()\n",
    "else:\n",
    "    symbols = pd.read_csv(\"../data/tickers/screener_filtered_tickers.csv\")[\"Ticker\"].tolist()\n",
    "symbols = list(set(symbols))"
   ]
  },
  {
   "cell_type": "code",
   "execution_count": 8,
   "metadata": {},
   "outputs": [
    {
     "name": "stderr",
     "output_type": "stream",
     "text": [
      "100%|██████████| 6187/6187 [1:29:41<00:00,  1.15it/s]\n",
      "\n"
     ]
    },
    {
     "data": {
      "application/vnd.microsoft.datawrangler.viewer.v0+json": {
       "columns": [
        {
         "name": "index",
         "rawType": "int64",
         "type": "integer"
        },
        {
         "name": "Ticker",
         "rawType": "object",
         "type": "string"
        },
        {
         "name": "Name",
         "rawType": "object",
         "type": "string"
        },
        {
         "name": "Signal",
         "rawType": "object",
         "type": "string"
        },
        {
         "name": "Recommendation Score",
         "rawType": "float64",
         "type": "float"
        },
        {
         "name": "Owned",
         "rawType": "bool",
         "type": "boolean"
        },
        {
         "name": "P/E",
         "rawType": "float64",
         "type": "float"
        },
        {
         "name": "ROA%",
         "rawType": "float64",
         "type": "float"
        },
        {
         "name": "CEO Age",
         "rawType": "float64",
         "type": "float"
        },
        {
         "name": "Insider Buy%",
         "rawType": "float64",
         "type": "float"
        },
        {
         "name": "Sector",
         "rawType": "object",
         "type": "string"
        },
        {
         "name": "Industry",
         "rawType": "object",
         "type": "string"
        },
        {
         "name": "CEO Name",
         "rawType": "object",
         "type": "unknown"
        }
       ],
       "ref": "1f759c0e-0e33-45ad-a322-9c798259cdd8",
       "rows": [
        [
         "0",
         "EVR.L",
         "EVRAZ PLC ORD USD0.05",
         "Buy",
         "3.96",
         "False",
         "0.42",
         "27.67",
         null,
         "0.0",
         "Basic Materials",
         "Steel",
         null
        ],
        [
         "0",
         "ESEA",
         "Euroseas Ltd.",
         "Buy",
         "3.8",
         "False",
         "3.69",
         "12.5",
         "64.0",
         "0.0",
         "Industrials",
         "Marine Shipping",
         "Mr. Aristides J. Pittas"
        ],
        [
         "0",
         "NVAX",
         "Novavax, Inc.",
         "Buy",
         "3.71",
         "False",
         "3.52",
         "14.52",
         "57.0",
         "0.0",
         "Healthcare",
         "Biotechnology",
         "Mr. John Charles Jacobs M.B.A."
        ],
        [
         "0",
         "HLF",
         "Herbalife Ltd.",
         "Buy",
         "3.69",
         "False",
         "2.93",
         "11.72",
         "55.0",
         "0.0",
         "Consumer Defensive",
         "Packaged Foods",
         "Mr. Stephan Paulo Gratziani"
        ],
        [
         "0",
         "MSB",
         "Mesabi Trust",
         "Buy",
         "3.58",
         "False",
         "4.6",
         "53.09",
         null,
         "0.0",
         "Basic Materials",
         "Steel",
         null
        ],
        [
         "0",
         "MIND",
         "MIND Technology, Inc.",
         "Buy",
         "3.58",
         "False",
         "2.55",
         "9.55",
         "70.0",
         "0.0",
         "Technology",
         "Scientific & Technical Instruments",
         "Mr. Robert P. Capps CPA"
        ],
        [
         "0",
         "MVO",
         "MV Oil Trust",
         "Buy",
         "3.58",
         "False",
         "4.63",
         "237.85",
         null,
         "0.0",
         "Energy",
         "Oil & Gas E&P",
         null
        ],
        [
         "0",
         "UTHR",
         "United Therapeutics Corporation",
         "Buy",
         "3.56",
         "False",
         "12.11",
         "12.96",
         "69.0",
         "46.1",
         "Healthcare",
         "Drug Manufacturers - Specialty & Generic",
         "Dr. Martine A. Rothblatt J.D., M.B.A., Ph.D."
        ],
        [
         "0",
         "CHKR",
         "Chesapeake Granite Wash Trust",
         "Buy",
         "3.55",
         "False",
         "4.98",
         "28.8",
         null,
         "0.0",
         "Energy",
         "Oil & Gas E&P",
         null
        ],
        [
         "0",
         "SM",
         "SM Energy Company",
         "Buy",
         "3.53",
         "False",
         "3.62",
         "9.5",
         "63.0",
         "16.4",
         "Energy",
         "Oil & Gas E&P",
         "Mr. Herbert S. Vogel"
        ],
        [
         "0",
         "CALM",
         "Cal-Maine Foods, Inc.",
         "Buy",
         "3.5",
         "False",
         "4.51",
         "36.8",
         "49.0",
         "0.0",
         "Consumer Defensive",
         "Farm Products",
         "Mr. Sherman L. Miller"
        ],
        [
         "0",
         "PBYI",
         "Puma Biotechnology Inc",
         "Buy",
         "3.5",
         "False",
         "5.34",
         "14.4",
         "54.0",
         "0.1",
         "Healthcare",
         "Biotechnology",
         "Mr. Alan H. Auerbach"
        ],
        [
         "0",
         "NRT",
         "North European Oil Royality Tru",
         "Buy",
         "3.46",
         "False",
         "8.63",
         "109.24",
         "72.0",
         "0.0",
         "Energy",
         "Oil & Gas E&P",
         "Mr. John R. Van Kirk"
        ],
        [
         "0",
         "VIRC",
         "Virco Manufacturing Corporation",
         "Buy",
         "3.45",
         "False",
         "6.51",
         "9.08",
         "91.0",
         "0.0",
         "Consumer Cyclical",
         "Furnishings, Fixtures & Appliances",
         "Mr. Robert A. Virtue"
        ],
        [
         "0",
         "NRP",
         "Natural Resource Partners LP Li",
         "Buy",
         "3.45",
         "False",
         "9.61",
         "12.2",
         "77.0",
         "0.0",
         "Energy",
         "Thermal Coal",
         "Mr. Corbin J. Robertson Jr."
        ],
        [
         "0",
         "RIGL",
         "Rigel Pharmaceuticals, Inc.",
         "Buy",
         "3.42",
         "False",
         "7.68",
         "39.01",
         "63.0",
         "0.0",
         "Healthcare",
         "Biotechnology",
         "Mr. Raul R. Rodriguez"
        ],
        [
         "0",
         "GSL",
         "Global Ship Lease Inc New",
         "Buy",
         "3.42",
         "False",
         "2.79",
         "10.06",
         null,
         "0.0",
         "Industrials",
         "Marine Shipping",
         null
        ],
        [
         "0",
         "DHIL",
         "Diamond Hill Investment Group, ",
         "Buy",
         "3.37",
         "False",
         "8.08",
         "11.68",
         "46.0",
         "28.9",
         "Financial Services",
         "Asset Management",
         "Ms. Heather Elizabeth Brilliant C.F.A."
        ],
        [
         "0",
         "PTCT",
         "PTC Therapeutics, Inc.",
         "Buy",
         "3.34",
         "False",
         "6.91",
         "23.81",
         "52.0",
         "0.9",
         "Healthcare",
         "Biotechnology",
         "Dr. Matthew B. Klein F.A.C.S., M.D., M.S."
        ],
        [
         "0",
         "SBS",
         "Companhia de saneamento Basico ",
         "Buy",
         "3.29",
         "False",
         "7.21",
         "14.43",
         "51.0",
         "0.0",
         "Utilities",
         "Utilities - Regulated Water",
         "Mr. Carlos Augusto Leone Piani C.F.A."
        ],
        [
         "0",
         "EQNR",
         "Equinor ASA",
         "Buy",
         "3.27",
         "False",
         "8.22",
         "13.32",
         "56.0",
         "0.0",
         "Energy",
         "Oil & Gas Integrated",
         "Mr. Anders  Opedal"
        ],
        [
         "0",
         "ANF",
         "Abercrombie & Fitch Company",
         "Buy",
         "3.25",
         "False",
         "9.06",
         "14.9",
         "60.0",
         "0.0",
         "Consumer Cyclical",
         "Apparel Retail",
         "Ms. Fran  Horowitz"
        ],
        [
         "0",
         "SIGA",
         "SIGA Technologies Inc.",
         "Buy",
         "3.25",
         "False",
         "7.75",
         "29.51",
         "52.0",
         "0.0",
         "Healthcare",
         "Drug Manufacturers - Specialty & Generic",
         "Dr. Diem  Nguyen M.B.A., Ph.D."
        ],
        [
         "0",
         "EOLU-B.ST",
         "Eolus Aktiebolag ser. B",
         "Buy",
         "3.24",
         "False",
         "5.16",
         "11.12",
         "45.0",
         "0.0",
         "Utilities",
         "Utilities - Renewable",
         "Mr. Christer  Baden Hansen"
        ],
        [
         "0",
         "0883.HK",
         "CNOOC",
         "Buy",
         "3.22",
         "False",
         "6.09",
         "10.74",
         "54.0",
         "0.0",
         "Energy",
         "Oil & Gas E&P",
         "Mr. Xinhuai  Zhou"
        ],
        [
         "0",
         "CHCI",
         "Comstock Holding Companies, Inc",
         "Buy",
         "3.22",
         "False",
         "10.09",
         "12.55",
         "65.0",
         "-0.4",
         "Real Estate",
         "Real Estate Services",
         "Mr. Christopher  Clemente"
        ],
        [
         "0",
         "ALSN",
         "Allison Transmission Holdings, ",
         "Buy",
         "3.14",
         "False",
         "9.91",
         "12.19",
         "58.0",
         "0.0",
         "Consumer Cyclical",
         "Auto Parts",
         "Mr. David S. Graziosi CPA"
        ],
        [
         "0",
         "CRT",
         "Cross Timbers Royalty Trust",
         "Buy",
         "3.14",
         "False",
         "9.49",
         "95.87",
         null,
         "0.0",
         "Energy",
         "Oil & Gas E&P",
         null
        ],
        [
         "0",
         "MTDR",
         "Matador Resources Company",
         "Buy",
         "3.13",
         "False",
         "6.85",
         "9.03",
         "72.0",
         "0.0",
         "Energy",
         "Oil & Gas E&P",
         "Mr. Joseph Wm. Foran"
        ],
        [
         "0",
         "PPC",
         "Pilgrim's Pride Corporation",
         "Buy",
         "3.12",
         "False",
         "9.15",
         "12.01",
         "52.0",
         "0.0",
         "Consumer Defensive",
         "Packaged Foods",
         "Mr. Fabio  Sandri"
        ],
        [
         "0",
         "MTG",
         "MGIC Investment Corporation",
         "Buy",
         "3.11",
         "False",
         "9.04",
         "9.62",
         "48.0",
         "42.8",
         "Financial Services",
         "Insurance - Specialty",
         "Mr. Timothy James Mattke CPA"
        ],
        [
         "0",
         "PNRG",
         "PrimeEnergy Resources Corporati",
         "Buy",
         "3.09",
         "False",
         "7.0",
         "8.56",
         "76.0",
         "-0.8",
         "Energy",
         "Oil & Gas E&P",
         "Mr. Charles E. Drimal Jr."
        ],
        [
         "0",
         "DAC",
         "Danaos Corporation",
         "Buy",
         "3.07",
         "False",
         "3.77",
         "7.35",
         "68.0",
         "0.0",
         "Industrials",
         "Marine Shipping",
         "Dr. John  Koustas Ph.D."
        ],
        [
         "0",
         "PHM",
         "PulteGroup, Inc.",
         "Buy",
         "3.06",
         "False",
         "9.26",
         "12.95",
         "49.0",
         "-1.0",
         "Consumer Cyclical",
         "Residential Construction",
         "Mr. Ryan R. Marshall"
        ],
        [
         "0",
         "DDS",
         "Dillard's, Inc.",
         "Buy",
         "3.06",
         "False",
         "13.73",
         "11.76",
         "79.0",
         "0.2",
         "Consumer Cyclical",
         "Department Stores",
         "Mr. William T. Dillard II"
        ],
        [
         "0",
         "CIG",
         "Comp En De Mn Cemig",
         "Buy",
         "3.03",
         "False",
         "4.29",
         "8.19",
         "59.0",
         "0.0",
         "Utilities",
         "Utilities - Diversified",
         "Mr. Reynaldo Passanezi Filho"
        ],
        [
         "0",
         "TMHC",
         "Taylor Morrison Home Corporatio",
         "Buy",
         "3.03",
         "False",
         "7.5",
         "8.85",
         "62.0",
         "13.9",
         "Consumer Cyclical",
         "Residential Construction",
         "Ms. Sheryl Denise Palmer"
        ],
        [
         "0",
         "DECK",
         "Deckers Outdoor Corporation",
         "Buy",
         "3.01",
         "False",
         "16.03",
         "21.27",
         "61.0",
         "37.8",
         "Consumer Cyclical",
         "Footwear & Accessories",
         "Mr. Stefano  Caroti"
        ],
        [
         "0",
         "HRB",
         "H&R Block, Inc.",
         "Buy",
         "3.01",
         "False",
         "11.55",
         "15.96",
         "56.0",
         "4.2",
         "Consumer Cyclical",
         "Personal Services",
         "Mr. Jeffrey J. Jones II"
        ],
        [
         "0",
         "MHO",
         "M/I Homes, Inc.",
         "Buy",
         "2.99",
         "False",
         "7.56",
         "8.67",
         "71.0",
         "0.0",
         "Consumer Cyclical",
         "Residential Construction",
         "Mr. Robert H. Schottenstein J.D."
        ],
        [
         "0",
         "BKE",
         "Buckle, Inc. (The)",
         "Buy",
         "2.99",
         "False",
         "14.02",
         "16.1",
         "74.0",
         "-0.9",
         "Consumer Cyclical",
         "Apparel Retail",
         "Mr. Dennis H. Nelson"
        ],
        [
         "0",
         "APAM",
         "Artisan Partners Asset Manageme",
         "Buy",
         "2.99",
         "False",
         "11.84",
         "15.66",
         "54.0",
         "8.3",
         "Financial Services",
         "Asset Management",
         "Mr. Jason A. Gottlieb"
        ],
        [
         "0",
         "TZOO",
         "Travelzoo",
         "Buy",
         "2.98",
         "False",
         "10.66",
         "18.78",
         "57.0",
         "-8.4",
         "Communication Services",
         "Internet Content & Information",
         "Mr. Holger  Bartel Ph.D."
        ],
        [
         "0",
         "FMG.AX",
         "FORTESCUE FPO [FMG]",
         "Buy",
         "2.97",
         "False",
         "10.06",
         "12.56",
         "47.0",
         "0.0",
         "Basic Materials",
         "Other Industrial Metals & Mining",
         "Mr. Robert M. Tichio"
        ],
        [
         "0",
         "GMAB.CO",
         "Genmab A/S",
         "Buy",
         "2.96",
         "True",
         "12.7",
         "13.26",
         "63.0",
         "0.0",
         "Healthcare",
         "Biotechnology",
         "Dr. Jan G.J. van de Winkel Ph.D."
        ],
        [
         "0",
         "GMAB",
         "Genmab A/S",
         "Buy",
         "2.96",
         "False",
         "12.67",
         "13.26",
         "63.0",
         "0.0",
         "Healthcare",
         "Biotechnology",
         "Dr. Jan G.J. van de Winkel Ph.D."
        ],
        [
         "0",
         "GIII",
         "G-III Apparel Group, LTD.",
         "Buy",
         "2.95",
         "False",
         "6.06",
         "7.43",
         "73.0",
         "0.0",
         "Consumer Cyclical",
         "Apparel Manufacturing",
         "Mr. Morris  Goldfarb"
        ],
        [
         "0",
         "MNR",
         "Mach Natural Resources LP",
         "Buy",
         "2.95",
         "False",
         "6.89",
         "8.65",
         "64.0",
         "0.0",
         "Energy",
         "Oil & Gas E&P",
         "Mr. Tom L. Ward"
        ],
        [
         "0",
         "CPRX",
         "Catalyst Pharmaceuticals, Inc.",
         "Buy",
         "2.95",
         "False",
         "12.37",
         "18.13",
         "63.0",
         "-3.9",
         "Healthcare",
         "Biotechnology",
         "Mr. Richard John  Daly M.B.A."
        ],
        [
         "0",
         "CBT",
         "Cabot Corporation",
         "Buy",
         "2.92",
         "False",
         "10.33",
         "10.92",
         "57.0",
         "0.6",
         "Basic Materials",
         "Specialty Chemicals",
         "Mr. Sean D. Keohane"
        ]
       ],
       "shape": {
        "columns": 12,
        "rows": 2053
       }
      },
      "text/html": [
       "<div>\n",
       "<style scoped>\n",
       "    .dataframe tbody tr th:only-of-type {\n",
       "        vertical-align: middle;\n",
       "    }\n",
       "\n",
       "    .dataframe tbody tr th {\n",
       "        vertical-align: top;\n",
       "    }\n",
       "\n",
       "    .dataframe thead th {\n",
       "        text-align: right;\n",
       "    }\n",
       "</style>\n",
       "<table border=\"1\" class=\"dataframe\">\n",
       "  <thead>\n",
       "    <tr style=\"text-align: right;\">\n",
       "      <th></th>\n",
       "      <th>Ticker</th>\n",
       "      <th>Name</th>\n",
       "      <th>Signal</th>\n",
       "      <th>Recommendation Score</th>\n",
       "      <th>Owned</th>\n",
       "      <th>P/E</th>\n",
       "      <th>ROA%</th>\n",
       "      <th>CEO Age</th>\n",
       "      <th>Insider Buy%</th>\n",
       "      <th>Sector</th>\n",
       "      <th>Industry</th>\n",
       "      <th>CEO Name</th>\n",
       "    </tr>\n",
       "  </thead>\n",
       "  <tbody>\n",
       "    <tr>\n",
       "      <th>0</th>\n",
       "      <td>EVR.L</td>\n",
       "      <td>EVRAZ PLC ORD USD0.05</td>\n",
       "      <td>Buy</td>\n",
       "      <td>3.96</td>\n",
       "      <td>False</td>\n",
       "      <td>0.42</td>\n",
       "      <td>27.67</td>\n",
       "      <td>NaN</td>\n",
       "      <td>0.0</td>\n",
       "      <td>Basic Materials</td>\n",
       "      <td>Steel</td>\n",
       "      <td>NaN</td>\n",
       "    </tr>\n",
       "    <tr>\n",
       "      <th>0</th>\n",
       "      <td>ESEA</td>\n",
       "      <td>Euroseas Ltd.</td>\n",
       "      <td>Buy</td>\n",
       "      <td>3.80</td>\n",
       "      <td>False</td>\n",
       "      <td>3.69</td>\n",
       "      <td>12.50</td>\n",
       "      <td>64.0</td>\n",
       "      <td>0.0</td>\n",
       "      <td>Industrials</td>\n",
       "      <td>Marine Shipping</td>\n",
       "      <td>Mr. Aristides J. Pittas</td>\n",
       "    </tr>\n",
       "    <tr>\n",
       "      <th>0</th>\n",
       "      <td>NVAX</td>\n",
       "      <td>Novavax, Inc.</td>\n",
       "      <td>Buy</td>\n",
       "      <td>3.71</td>\n",
       "      <td>False</td>\n",
       "      <td>3.52</td>\n",
       "      <td>14.52</td>\n",
       "      <td>57.0</td>\n",
       "      <td>0.0</td>\n",
       "      <td>Healthcare</td>\n",
       "      <td>Biotechnology</td>\n",
       "      <td>Mr. John Charles Jacobs M.B.A.</td>\n",
       "    </tr>\n",
       "    <tr>\n",
       "      <th>0</th>\n",
       "      <td>HLF</td>\n",
       "      <td>Herbalife Ltd.</td>\n",
       "      <td>Buy</td>\n",
       "      <td>3.69</td>\n",
       "      <td>False</td>\n",
       "      <td>2.93</td>\n",
       "      <td>11.72</td>\n",
       "      <td>55.0</td>\n",
       "      <td>0.0</td>\n",
       "      <td>Consumer Defensive</td>\n",
       "      <td>Packaged Foods</td>\n",
       "      <td>Mr. Stephan Paulo Gratziani</td>\n",
       "    </tr>\n",
       "    <tr>\n",
       "      <th>0</th>\n",
       "      <td>MSB</td>\n",
       "      <td>Mesabi Trust</td>\n",
       "      <td>Buy</td>\n",
       "      <td>3.58</td>\n",
       "      <td>False</td>\n",
       "      <td>4.60</td>\n",
       "      <td>53.09</td>\n",
       "      <td>NaN</td>\n",
       "      <td>0.0</td>\n",
       "      <td>Basic Materials</td>\n",
       "      <td>Steel</td>\n",
       "      <td>NaN</td>\n",
       "    </tr>\n",
       "    <tr>\n",
       "      <th>...</th>\n",
       "      <td>...</td>\n",
       "      <td>...</td>\n",
       "      <td>...</td>\n",
       "      <td>...</td>\n",
       "      <td>...</td>\n",
       "      <td>...</td>\n",
       "      <td>...</td>\n",
       "      <td>...</td>\n",
       "      <td>...</td>\n",
       "      <td>...</td>\n",
       "      <td>...</td>\n",
       "      <td>...</td>\n",
       "    </tr>\n",
       "    <tr>\n",
       "      <th>0</th>\n",
       "      <td>LGEN.L</td>\n",
       "      <td>LEGAL &amp; GENERAL GROUP PLC ORD 2</td>\n",
       "      <td>Sell</td>\n",
       "      <td>-2.07</td>\n",
       "      <td>False</td>\n",
       "      <td>63.60</td>\n",
       "      <td>0.10</td>\n",
       "      <td>49.0</td>\n",
       "      <td>0.0</td>\n",
       "      <td>Financial Services</td>\n",
       "      <td>Asset Management</td>\n",
       "      <td>Mr. Antonio Pedro Dos Santos Simoes</td>\n",
       "    </tr>\n",
       "    <tr>\n",
       "      <th>0</th>\n",
       "      <td>TAL</td>\n",
       "      <td>TAL Education Group</td>\n",
       "      <td>Sell</td>\n",
       "      <td>-2.12</td>\n",
       "      <td>False</td>\n",
       "      <td>64.47</td>\n",
       "      <td>0.32</td>\n",
       "      <td>43.0</td>\n",
       "      <td>0.0</td>\n",
       "      <td>Consumer Defensive</td>\n",
       "      <td>Education &amp; Training Services</td>\n",
       "      <td>Mr. Bangxin  Zhang</td>\n",
       "    </tr>\n",
       "    <tr>\n",
       "      <th>0</th>\n",
       "      <td>HIHO</td>\n",
       "      <td>Highway Holdings Limited</td>\n",
       "      <td>Sell</td>\n",
       "      <td>-2.24</td>\n",
       "      <td>False</td>\n",
       "      <td>85.50</td>\n",
       "      <td>-3.20</td>\n",
       "      <td>75.0</td>\n",
       "      <td>0.0</td>\n",
       "      <td>Industrials</td>\n",
       "      <td>Metal Fabrication</td>\n",
       "      <td>Mr. Roland Walter  Kohl</td>\n",
       "    </tr>\n",
       "    <tr>\n",
       "      <th>0</th>\n",
       "      <td>GROW</td>\n",
       "      <td>U.S. Global Investors, Inc.</td>\n",
       "      <td>Sell</td>\n",
       "      <td>-2.29</td>\n",
       "      <td>False</td>\n",
       "      <td>241.00</td>\n",
       "      <td>-2.94</td>\n",
       "      <td>69.0</td>\n",
       "      <td>0.0</td>\n",
       "      <td>Financial Services</td>\n",
       "      <td>Asset Management</td>\n",
       "      <td>Mr. Frank Edward Holmes</td>\n",
       "    </tr>\n",
       "    <tr>\n",
       "      <th>0</th>\n",
       "      <td>ISRL</td>\n",
       "      <td>Israel Acquisitions Corp</td>\n",
       "      <td>Sell</td>\n",
       "      <td>-2.31</td>\n",
       "      <td>False</td>\n",
       "      <td>138.33</td>\n",
       "      <td>-1.34</td>\n",
       "      <td>49.0</td>\n",
       "      <td>0.0</td>\n",
       "      <td>Financial Services</td>\n",
       "      <td>Shell Companies</td>\n",
       "      <td>Mr. Ziv  Elul</td>\n",
       "    </tr>\n",
       "  </tbody>\n",
       "</table>\n",
       "<p>2053 rows × 12 columns</p>\n",
       "</div>"
      ],
      "text/plain": [
       "    Ticker                             Name Signal  Recommendation Score  \\\n",
       "0    EVR.L            EVRAZ PLC ORD USD0.05    Buy                  3.96   \n",
       "0     ESEA                    Euroseas Ltd.    Buy                  3.80   \n",
       "0     NVAX                    Novavax, Inc.    Buy                  3.71   \n",
       "0      HLF                   Herbalife Ltd.    Buy                  3.69   \n",
       "0      MSB                     Mesabi Trust    Buy                  3.58   \n",
       "..     ...                              ...    ...                   ...   \n",
       "0   LGEN.L  LEGAL & GENERAL GROUP PLC ORD 2   Sell                 -2.07   \n",
       "0      TAL              TAL Education Group   Sell                 -2.12   \n",
       "0     HIHO         Highway Holdings Limited   Sell                 -2.24   \n",
       "0     GROW      U.S. Global Investors, Inc.   Sell                 -2.29   \n",
       "0     ISRL         Israel Acquisitions Corp   Sell                 -2.31   \n",
       "\n",
       "    Owned     P/E   ROA%  CEO Age  Insider Buy%              Sector  \\\n",
       "0   False    0.42  27.67      NaN           0.0     Basic Materials   \n",
       "0   False    3.69  12.50     64.0           0.0         Industrials   \n",
       "0   False    3.52  14.52     57.0           0.0          Healthcare   \n",
       "0   False    2.93  11.72     55.0           0.0  Consumer Defensive   \n",
       "0   False    4.60  53.09      NaN           0.0     Basic Materials   \n",
       "..    ...     ...    ...      ...           ...                 ...   \n",
       "0   False   63.60   0.10     49.0           0.0  Financial Services   \n",
       "0   False   64.47   0.32     43.0           0.0  Consumer Defensive   \n",
       "0   False   85.50  -3.20     75.0           0.0         Industrials   \n",
       "0   False  241.00  -2.94     69.0           0.0  Financial Services   \n",
       "0   False  138.33  -1.34     49.0           0.0  Financial Services   \n",
       "\n",
       "                         Industry                             CEO Name  \n",
       "0                           Steel                                  NaN  \n",
       "0                 Marine Shipping              Mr. Aristides J. Pittas  \n",
       "0                   Biotechnology       Mr. John Charles Jacobs M.B.A.  \n",
       "0                  Packaged Foods          Mr. Stephan Paulo Gratziani  \n",
       "0                           Steel                                  NaN  \n",
       "..                            ...                                  ...  \n",
       "0                Asset Management  Mr. Antonio Pedro Dos Santos Simoes  \n",
       "0   Education & Training Services                   Mr. Bangxin  Zhang  \n",
       "0               Metal Fabrication              Mr. Roland Walter  Kohl  \n",
       "0                Asset Management              Mr. Frank Edward Holmes  \n",
       "0                 Shell Companies                        Mr. Ziv  Elul  \n",
       "\n",
       "[2053 rows x 12 columns]"
      ]
     },
     "metadata": {},
     "output_type": "display_data"
    }
   ],
   "source": [
    "import sys, io\n",
    "df = pd.DataFrame()\n",
    "for symbol in tqdm(symbols, smoothing=0):\n",
    "    old_stderr = sys.stderr\n",
    "    sys.stderr = io.StringIO()\n",
    "    try:\n",
    "        df = pd.concat([df, Stock(symbol).summary()])\n",
    "    except Exception:\n",
    "        pass\n",
    "    finally:\n",
    "        sys.stderr = old_stderr\n",
    "df = df.sort_values(by=\"Recommendation Score\", ascending=False)\n",
    "display(df)\n",
    "if symbol_list == \"simple\":\n",
    "    df.to_csv(\"../data/screener_results/simple_screener_results.csv\", index=False)\n",
    "else:   \n",
    "    df.to_csv(\"../data/screener_results/screener_results.csv\", index=False)\n",
    "    df[\"Ticker\"].to_csv(\"../data/tickers/screener_filtered_tickers.csv\", index=False)"
   ]
  },
  {
   "cell_type": "code",
   "execution_count": 9,
   "metadata": {},
   "outputs": [
    {
     "data": {
      "application/vnd.microsoft.datawrangler.viewer.v0+json": {
       "columns": [
        {
         "name": "index",
         "rawType": "object",
         "type": "string"
        },
        {
         "name": "0",
         "rawType": "object",
         "type": "unknown"
        }
       ],
       "ref": "a18831db-362d-448e-ba1d-c0c3e22facbf",
       "rows": [
        [
         "address1",
         "One Apple Park Way"
        ],
        [
         "city",
         "Cupertino"
        ],
        [
         "state",
         "CA"
        ],
        [
         "zip",
         "95014"
        ],
        [
         "country",
         "United States"
        ],
        [
         "phone",
         "(408) 996-1010"
        ],
        [
         "website",
         "https://www.apple.com"
        ],
        [
         "industry",
         "Consumer Electronics"
        ],
        [
         "industryKey",
         "consumer-electronics"
        ],
        [
         "industryDisp",
         "Consumer Electronics"
        ],
        [
         "sector",
         "Technology"
        ],
        [
         "sectorKey",
         "technology"
        ],
        [
         "sectorDisp",
         "Technology"
        ],
        [
         "longBusinessSummary",
         "Apple Inc. designs, manufactures, and markets smartphones, personal computers, tablets, wearables, and accessories worldwide. The company offers iPhone, a line of smartphones; Mac, a line of personal computers; iPad, a line of multi-purpose tablets; and wearables, home, and accessories comprising AirPods, Apple TV, Apple Watch, Beats products, and HomePod. It also provides AppleCare support and cloud services; and operates various platforms, including the App Store that allow customers to discover and download applications and digital content, such as books, music, video, games, and podcasts, as well as advertising services include third-party licensing arrangements and its own advertising platforms. In addition, the company offers various subscription-based services, such as Apple Arcade, a game subscription service; Apple Fitness+, a personalized fitness service; Apple Music, which offers users a curated listening experience with on-demand radio stations; Apple News+, a subscription news and magazine service; Apple TV+, which offers exclusive original content; Apple Card, a co-branded credit card; and Apple Pay, a cashless payment service, as well as licenses its intellectual property. The company serves consumers, and small and mid-sized businesses; and the education, enterprise, and government markets. It distributes third-party applications for its products through the App Store. The company also sells its products through its retail and online stores, and direct sales force; and third-party cellular network carriers, wholesalers, retailers, and resellers. Apple Inc. was founded in 1976 and is headquartered in Cupertino, California."
        ],
        [
         "fullTimeEmployees",
         "150000"
        ],
        [
         "companyOfficers",
         "[{'maxAge': 1, 'name': 'Mr. Timothy D. Cook', 'age': 63, 'title': 'CEO & Director', 'yearBorn': 1961, 'fiscalYear': 2024, 'totalPay': 16520856, 'exercisedValue': 0, 'unexercisedValue': 0}, {'maxAge': 1, 'name': 'Ms. Katherine L. Adams', 'age': 60, 'title': 'Senior VP, General Counsel & Secretary', 'yearBorn': 1964, 'fiscalYear': 2024, 'totalPay': 5022182, 'exercisedValue': 0, 'unexercisedValue': 0}, {'maxAge': 1, 'name': \"Ms. Deirdre  O'Brien\", 'age': 57, 'title': 'Chief People Officer & Senior VP of Retail', 'yearBorn': 1967, 'fiscalYear': 2024, 'totalPay': 5022182, 'exercisedValue': 0, 'unexercisedValue': 0}, {'maxAge': 1, 'name': 'Mr. Jeffrey E. Williams', 'age': 60, 'title': 'Senior Vice President of Design, Watch, & Health', 'yearBorn': 1964, 'fiscalYear': 2024, 'totalPay': 5020737, 'exercisedValue': 0, 'unexercisedValue': 0}, {'maxAge': 1, 'name': 'Mr. Kevan  Parekh', 'age': 52, 'title': 'Senior VP & CFO', 'yearBorn': 1972, 'fiscalYear': 2024, 'exercisedValue': 0, 'unexercisedValue': 0}, {'maxAge': 1, 'name': 'Mr. Sabih  Khan', 'title': 'Chief Operating Officer', 'fiscalYear': 2024, 'exercisedValue': 0, 'unexercisedValue': 0}, {'maxAge': 1, 'name': 'Mr. Chris  Kondo', 'title': 'Senior Director of Corporate Accounting', 'fiscalYear': 2024, 'exercisedValue': 0, 'unexercisedValue': 0}, {'maxAge': 1, 'name': 'Suhasini  Chandramouli', 'title': 'Director of Investor Relations', 'fiscalYear': 2024, 'exercisedValue': 0, 'unexercisedValue': 0}, {'maxAge': 1, 'name': 'Ms. Kristin Huguet Quayle', 'title': 'Vice President of Worldwide Communications', 'fiscalYear': 2024, 'exercisedValue': 0, 'unexercisedValue': 0}, {'maxAge': 1, 'name': 'Mr. Greg  Joswiak', 'title': 'Senior Vice President of Worldwide Marketing', 'fiscalYear': 2024, 'exercisedValue': 0, 'unexercisedValue': 0}]"
        ],
        [
         "auditRisk",
         "7"
        ],
        [
         "boardRisk",
         "1"
        ],
        [
         "compensationRisk",
         "3"
        ],
        [
         "shareHolderRightsRisk",
         "1"
        ],
        [
         "overallRisk",
         "1"
        ],
        [
         "governanceEpochDate",
         "1754006400"
        ],
        [
         "compensationAsOfEpochDate",
         "1735603200"
        ],
        [
         "irWebsite",
         "http://investor.apple.com/"
        ],
        [
         "executiveTeam",
         "[]"
        ],
        [
         "maxAge",
         "86400"
        ],
        [
         "priceHint",
         "2"
        ],
        [
         "previousClose",
         "226.01"
        ],
        [
         "open",
         "226.28"
        ],
        [
         "dayLow",
         "224.42"
        ],
        [
         "dayHigh",
         "226.52"
        ],
        [
         "regularMarketPreviousClose",
         "226.01"
        ],
        [
         "regularMarketOpen",
         "226.28"
        ],
        [
         "regularMarketDayLow",
         "224.42"
        ],
        [
         "regularMarketDayHigh",
         "226.52"
        ],
        [
         "dividendRate",
         "1.04"
        ],
        [
         "dividendYield",
         "0.46"
        ],
        [
         "exDividendDate",
         "1754870400"
        ],
        [
         "payoutRatio",
         "0.1533"
        ],
        [
         "fiveYearAvgDividendYield",
         "0.55"
        ],
        [
         "beta",
         "1.165"
        ],
        [
         "trailingPE",
         "34.05"
        ],
        [
         "forwardPE",
         "27.04332"
        ],
        [
         "volume",
         "14332151"
        ],
        [
         "regularMarketVolume",
         "14331115"
        ],
        [
         "averageVolume",
         "56128404"
        ],
        [
         "averageVolume10days",
         "61841400"
        ],
        [
         "averageDailyVolume10Day",
         "61841400"
        ],
        [
         "bid",
         "224.03"
        ],
        [
         "ask",
         "227.97"
        ]
       ],
       "shape": {
        "columns": 1,
        "rows": 176
       }
      },
      "text/html": [
       "<div>\n",
       "<style scoped>\n",
       "    .dataframe tbody tr th:only-of-type {\n",
       "        vertical-align: middle;\n",
       "    }\n",
       "\n",
       "    .dataframe tbody tr th {\n",
       "        vertical-align: top;\n",
       "    }\n",
       "\n",
       "    .dataframe thead th {\n",
       "        text-align: right;\n",
       "    }\n",
       "</style>\n",
       "<table border=\"1\" class=\"dataframe\">\n",
       "  <thead>\n",
       "    <tr style=\"text-align: right;\">\n",
       "      <th></th>\n",
       "      <th>0</th>\n",
       "    </tr>\n",
       "  </thead>\n",
       "  <tbody>\n",
       "    <tr>\n",
       "      <th>address1</th>\n",
       "      <td>One Apple Park Way</td>\n",
       "    </tr>\n",
       "    <tr>\n",
       "      <th>city</th>\n",
       "      <td>Cupertino</td>\n",
       "    </tr>\n",
       "    <tr>\n",
       "      <th>state</th>\n",
       "      <td>CA</td>\n",
       "    </tr>\n",
       "    <tr>\n",
       "      <th>zip</th>\n",
       "      <td>95014</td>\n",
       "    </tr>\n",
       "    <tr>\n",
       "      <th>country</th>\n",
       "      <td>United States</td>\n",
       "    </tr>\n",
       "    <tr>\n",
       "      <th>...</th>\n",
       "      <td>...</td>\n",
       "    </tr>\n",
       "    <tr>\n",
       "      <th>sourceInterval</th>\n",
       "      <td>15</td>\n",
       "    </tr>\n",
       "    <tr>\n",
       "      <th>exchangeDataDelayedBy</th>\n",
       "      <td>0</td>\n",
       "    </tr>\n",
       "    <tr>\n",
       "      <th>averageAnalystRating</th>\n",
       "      <td>2.0 - Buy</td>\n",
       "    </tr>\n",
       "    <tr>\n",
       "      <th>displayName</th>\n",
       "      <td>Apple</td>\n",
       "    </tr>\n",
       "    <tr>\n",
       "      <th>trailingPegRatio</th>\n",
       "      <td>2.0401</td>\n",
       "    </tr>\n",
       "  </tbody>\n",
       "</table>\n",
       "<p>176 rows × 1 columns</p>\n",
       "</div>"
      ],
      "text/plain": [
       "                                        0\n",
       "address1               One Apple Park Way\n",
       "city                            Cupertino\n",
       "state                                  CA\n",
       "zip                                 95014\n",
       "country                     United States\n",
       "...                                   ...\n",
       "sourceInterval                         15\n",
       "exchangeDataDelayedBy                   0\n",
       "averageAnalystRating            2.0 - Buy\n",
       "displayName                         Apple\n",
       "trailingPegRatio                   2.0401\n",
       "\n",
       "[176 rows x 1 columns]"
      ]
     },
     "metadata": {},
     "output_type": "display_data"
    }
   ],
   "source": [
    "get_gettables()"
   ]
  }
 ],
 "metadata": {
  "kernelspec": {
   "display_name": "Python 3",
   "language": "python",
   "name": "python3"
  },
  "language_info": {
   "codemirror_mode": {
    "name": "ipython",
    "version": 3
   },
   "file_extension": ".py",
   "mimetype": "text/x-python",
   "name": "python",
   "nbconvert_exporter": "python",
   "pygments_lexer": "ipython3",
   "version": "3.13.4"
  }
 },
 "nbformat": 4,
 "nbformat_minor": 2
}
