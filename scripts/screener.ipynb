{
 "cells": [
  {
   "cell_type": "code",
   "execution_count": 1,
   "metadata": {},
   "outputs": [],
   "source": [
    "from methods import *\n",
    "from tqdm import tqdm\n",
    "import yfinance as yf\n",
    "import pandas as pd"
   ]
  },
  {
   "cell_type": "code",
   "execution_count": 2,
   "metadata": {},
   "outputs": [],
   "source": [
    "symbol_list = input('Symbols eg. \"simple\", \"filtered\", \"all\":')\n",
    "if symbol_list == \"all\":\n",
    "    symbols = pd.read_csv(\"../data/tickers.csv\")[\"Ticker\"].tolist() + pd.read_csv(\"../data/simple_tickers.csv\")[\"Ticker\"].to_list()\n",
    "elif symbol_list == \"simple\":\n",
    "    symbols = pd.read_csv(\"../data/simple_tickers.csv\")[\"Ticker\"].tolist()\n",
    "else:\n",
    "    symbols = pd.read_csv(\"../data/filtered_tickers.csv\")[\"Ticker\"].tolist()\n",
    "symbols = list(set(symbols))"
   ]
  },
  {
   "cell_type": "code",
   "execution_count": null,
   "metadata": {},
   "outputs": [
    {
     "name": "stderr",
     "output_type": "stream",
     "text": [
      "  5%|▌         | 107/2041 [00:42<12:39,  2.55it/s]"
     ]
    },
    {
     "name": "stdout",
     "output_type": "stream",
     "text": [
      "Error at: NJR. Error: 'returnOnAssets'\n"
     ]
    },
    {
     "name": "stderr",
     "output_type": "stream",
     "text": [
      " 17%|█▋        | 350/2041 [02:23<11:32,  2.44it/s]"
     ]
    },
    {
     "name": "stdout",
     "output_type": "stream",
     "text": [
      "Error at: EVER. Error: 'returnOnAssets'\n"
     ]
    },
    {
     "name": "stderr",
     "output_type": "stream",
     "text": [
      " 28%|██▊       | 575/2041 [03:54<09:57,  2.45it/s]"
     ]
    },
    {
     "name": "stdout",
     "output_type": "stream",
     "text": [
      "Error at: L. Error: 'returnOnAssets'\n"
     ]
    },
    {
     "name": "stderr",
     "output_type": "stream",
     "text": [
      " 37%|███▋      | 760/2041 [05:08<08:40,  2.46it/s]"
     ]
    },
    {
     "name": "stdout",
     "output_type": "stream",
     "text": [
      "Error at: ATO.PA. Error: 'trailingPE'\n"
     ]
    },
    {
     "name": "stderr",
     "output_type": "stream",
     "text": [
      " 51%|█████     | 1043/2041 [07:02<06:43,  2.47it/s]"
     ]
    },
    {
     "name": "stdout",
     "output_type": "stream",
     "text": [
      "Error at: ACM. Error: 'returnOnAssets'\n"
     ]
    },
    {
     "name": "stderr",
     "output_type": "stream",
     "text": [
      " 63%|██████▎   | 1294/2041 [08:46<05:03,  2.46it/s]"
     ]
    },
    {
     "name": "stdout",
     "output_type": "stream",
     "text": [
      "Error at: KTF. Error: 'trailingPE'\n"
     ]
    },
    {
     "name": "stderr",
     "output_type": "stream",
     "text": [
      " 65%|██████▌   | 1335/2041 [09:02<04:46,  2.46it/s]"
     ]
    },
    {
     "name": "stdout",
     "output_type": "stream",
     "text": [
      "Error at: MMD. Error: 'trailingPE'\n"
     ]
    },
    {
     "name": "stderr",
     "output_type": "stream",
     "text": [
      " 67%|██████▋   | 1362/2041 [09:12<04:35,  2.46it/s]"
     ]
    },
    {
     "name": "stdout",
     "output_type": "stream",
     "text": [
      "Error at: VAC. Error: 'returnOnAssets'\n"
     ]
    },
    {
     "name": "stderr",
     "output_type": "stream",
     "text": [
      " 70%|███████   | 1435/2041 [09:42<04:05,  2.46it/s]"
     ]
    },
    {
     "name": "stdout",
     "output_type": "stream",
     "text": [
      "Error at: RAND. Error: 'trailingPE'\n"
     ]
    },
    {
     "name": "stderr",
     "output_type": "stream",
     "text": [
      "100%|██████████| 2041/2041 [13:45<00:00,  2.47it/s]\n"
     ]
    },
    {
     "data": {
      "application/vnd.microsoft.datawrangler.viewer.v0+json": {
       "columns": [
        {
         "name": "index",
         "rawType": "int64",
         "type": "integer"
        },
        {
         "name": "Ticker",
         "rawType": "object",
         "type": "string"
        },
        {
         "name": "Name",
         "rawType": "object",
         "type": "string"
        },
        {
         "name": "Signal",
         "rawType": "object",
         "type": "string"
        },
        {
         "name": "Recommendation Score",
         "rawType": "float64",
         "type": "float"
        },
        {
         "name": "Owned",
         "rawType": "bool",
         "type": "boolean"
        },
        {
         "name": "Forward P/E",
         "rawType": "float64",
         "type": "float"
        },
        {
         "name": "P/E",
         "rawType": "float64",
         "type": "float"
        },
        {
         "name": "FvC Ratio",
         "rawType": "float64",
         "type": "float"
        },
        {
         "name": "ROA%",
         "rawType": "float64",
         "type": "float"
        },
        {
         "name": "Insider Buy%",
         "rawType": "float64",
         "type": "float"
        },
        {
         "name": "Sector",
         "rawType": "object",
         "type": "string"
        },
        {
         "name": "Industry",
         "rawType": "object",
         "type": "string"
        }
       ],
       "ref": "472683c7-b2a7-4dc7-8e9e-b0714f05ddc4",
       "rows": [
        [
         "0",
         "SBR",
         "Sabine Royalty Trust",
         "Buy",
         "4.58",
         "False",
         null,
         "12.77",
         "1.0",
         "473.6",
         "0.0",
         "Energy",
         "Oil & Gas Midstream"
        ],
        [
         "0",
         "PBT",
         "Permian Basin Royalty Trust",
         "Buy",
         "4.28",
         "False",
         null,
         "30.47",
         "1.0",
         "526.24",
         "0.0",
         "Energy",
         "Oil & Gas Midstream"
        ],
        [
         "0",
         "MVO",
         "MV Oil Trust",
         "Buy",
         "4.17",
         "False",
         "2.72",
         "4.32",
         "1.59",
         "227.92",
         "0.0",
         "Energy",
         "Oil & Gas E&P"
        ],
        [
         "0",
         "NRT",
         "North European Oil Royality Tru",
         "Buy",
         "3.24",
         "False",
         null,
         "9.37",
         "1.0",
         "109.24",
         "0.0",
         "Energy",
         "Oil & Gas E&P"
        ],
        [
         "0",
         "CRT",
         "Cross Timbers Royalty Trust",
         "Buy",
         "3.1",
         "False",
         null,
         "8.73",
         "1.0",
         "92.98",
         "0.0",
         "Energy",
         "Oil & Gas E&P"
        ],
        [
         "0",
         "WINA",
         "Winmark Corporation",
         "Buy",
         "2.44",
         "False",
         "31.41",
         "33.78",
         "1.08",
         "77.33",
         "16.3",
         "Consumer Cyclical",
         "Specialty Retail"
        ],
        [
         "0",
         "MARPS",
         "3273",
         "Buy",
         "2.4",
         "False",
         null,
         "11.78",
         "1.0",
         "48.38",
         "0.0",
         "Energy",
         "Oil & Gas Midstream"
        ],
        [
         "0",
         "CALM",
         "Cal-Maine Foods, Inc.",
         "Buy",
         "2.39",
         "False",
         "32.62",
         "4.21",
         "1.0",
         "36.8",
         "0.0",
         "Consumer Defensive",
         "Farm Products"
        ],
        [
         "0",
         "EVR.L",
         "EVRAZ PLC ORD USD0.05",
         "Buy",
         "2.22",
         "False",
         "0.77",
         "0.42",
         "0.55",
         "27.67",
         "0.0",
         "Basic Materials",
         "Steel"
        ],
        [
         "0",
         "NATH",
         "Nathan's Famous, Inc.",
         "Buy",
         "2.2",
         "False",
         null,
         "16.76",
         "1.0",
         "44.58",
         "1.7",
         "Consumer Cyclical",
         "Restaurants"
        ],
        [
         "0",
         "CHKR",
         "Chesapeake Granite Wash Trust",
         "Buy",
         "2.13",
         "False",
         null,
         "5.16",
         "1.0",
         "28.8",
         "0.0",
         "Energy",
         "Oil & Gas E&P"
        ],
        [
         "0",
         "CHA",
         "Chagee Holdings Limited",
         "Buy",
         "1.92",
         "False",
         "1.14",
         "18.15",
         "1.0",
         "34.26",
         "0.0",
         "Consumer Cyclical",
         "Restaurants"
        ],
        [
         "0",
         "VRSN",
         "VeriSign, Inc.",
         "Buy",
         "1.76",
         "False",
         "31.01",
         "32.05",
         "1.03",
         "46.56",
         "-30.4",
         "Technology",
         "Software - Infrastructure"
        ],
        [
         "0",
         "MO",
         "Altria Group, Inc.",
         "Buy",
         "1.74",
         "False",
         "11.69",
         "12.09",
         "1.03",
         "23.26",
         "0.0",
         "Consumer Defensive",
         "Tobacco"
        ],
        [
         "0",
         "NOVO-B.CO",
         "Novo Nordisk B A/S",
         "Buy",
         "1.73",
         "True",
         "10.62",
         "12.85",
         "1.21",
         "23.29",
         "0.0",
         "Healthcare",
         "Drug Manufacturers - General"
        ],
        [
         "0",
         "NVO",
         "Novo Nordisk A/S",
         "Buy",
         "1.72",
         "False",
         "11.6",
         "12.94",
         "1.12",
         "23.29",
         "0.0",
         "Healthcare",
         "Drug Manufacturers - General"
        ],
        [
         "0",
         "NVDA",
         "NVIDIA Corporation",
         "Buy",
         "1.68",
         "False",
         "43.27",
         "57.5",
         "1.33",
         "53.24",
         "-0.4",
         "Technology",
         "Semiconductors"
        ],
        [
         "0",
         "LULU",
         "lululemon athletica inc.",
         "Buy",
         "1.66",
         "False",
         "13.07",
         "13.26",
         "1.01",
         "22.02",
         "1.3",
         "Consumer Cyclical",
         "Apparel Retail"
        ],
        [
         "0",
         "DPZ",
         "Domino's Pizza Inc",
         "Buy",
         "1.66",
         "False",
         "25.35",
         "25.98",
         "1.02",
         "30.97",
         "0.2",
         "Consumer Cyclical",
         "Restaurants"
        ],
        [
         "0",
         "DMLP",
         "Dorchester Minerals, L.P.",
         "Buy",
         "1.64",
         "False",
         null,
         "12.98",
         "1.0",
         "21.52",
         "0.0",
         "Energy",
         "Oil & Gas E&P"
        ],
        [
         "0",
         "ESEA",
         "Euroseas Ltd.",
         "Buy",
         "1.58",
         "False",
         "4.12",
         "2.82",
         "0.69",
         "13.93",
         "0.0",
         "Industrials",
         "Marine Shipping"
        ],
        [
         "0",
         "TZOO",
         "Travelzoo",
         "Buy",
         "1.58",
         "False",
         "7.83",
         "10.97",
         "1.4",
         "18.78",
         "-8.2",
         "Communication Services",
         "Internet Content & Information"
        ],
        [
         "0",
         "HALO",
         "Halozyme Therapeutics, Inc.",
         "Buy",
         "1.57",
         "False",
         "12.56",
         "16.17",
         "1.29",
         "18.5",
         "22.2",
         "Healthcare",
         "Biotechnology"
        ],
        [
         "0",
         "IDCC",
         "InterDigital, Inc.",
         "Buy",
         "1.56",
         "False",
         "55.82",
         "19.16",
         "1.0",
         "18.37",
         "41.7",
         "Technology",
         "Software - Application"
        ],
        [
         "0",
         "RIGL",
         "Rigel Pharmaceuticals, Inc.",
         "Buy",
         "1.54",
         "False",
         "27.55",
         "11.6",
         "1.0",
         "18.15",
         "0.0",
         "Healthcare",
         "Biotechnology"
        ],
        [
         "0",
         "DECK",
         "Deckers Outdoor Corporation",
         "Buy",
         "1.53",
         "False",
         "16.65",
         "16.27",
         "0.98",
         "21.27",
         "-3.0",
         "Consumer Cyclical",
         "Footwear & Accessories"
        ],
        [
         "0",
         "PNDORA.CO",
         "Pandora A/S",
         "Buy",
         "1.52",
         "False",
         "14.25",
         "15.65",
         "1.1",
         "20.09",
         "0.0",
         "Consumer Cyclical",
         "Luxury Goods"
        ],
        [
         "0",
         "CROX",
         "Crocs, Inc.",
         "Buy",
         "1.51",
         "False",
         "7.76",
         "6.29",
         "0.81",
         "12.92",
         "18.5",
         "Consumer Cyclical",
         "Footwear & Accessories"
        ],
        [
         "0",
         "UTHR",
         "United Therapeutics Corporation",
         "Buy",
         "1.51",
         "False",
         "10.93",
         "11.89",
         "1.09",
         "12.96",
         "48.2",
         "Healthcare",
         "Drug Manufacturers - Specialty & Generic"
        ],
        [
         "0",
         "NVR",
         "NVR, Inc.",
         "Buy",
         "1.5",
         "False",
         "15.26",
         "16.72",
         "1.1",
         "20.13",
         "-0.3",
         "Consumer Cyclical",
         "Residential Construction"
        ],
        [
         "0",
         "EVO.ST",
         "Evolution AB",
         "Buy",
         "1.5",
         "False",
         "12.05",
         "13.24",
         "1.1",
         "18.03",
         "0.0",
         "Consumer Cyclical",
         "Gambling"
        ],
        [
         "0",
         "SIGA",
         "SIGA Technologies Inc.",
         "Buy",
         "1.47",
         "False",
         "5.32",
         "9.85",
         "1.85",
         "14.39",
         "0.0",
         "Healthcare",
         "Drug Manufacturers - Specialty & Generic"
        ],
        [
         "0",
         "CPRX",
         "Catalyst Pharmaceuticals, Inc.",
         "Buy",
         "1.47",
         "False",
         "14.72",
         "14.15",
         "0.96",
         "18.59",
         "-2.9",
         "Healthcare",
         "Biotechnology"
        ],
        [
         "0",
         "ULTA",
         "Ulta Beauty, Inc.",
         "Buy",
         "1.47",
         "False",
         "22.31",
         "19.96",
         "0.89",
         "16.85",
         "43.3",
         "Consumer Cyclical",
         "Specialty Retail"
        ],
        [
         "0",
         "APAM",
         "Artisan Partners Asset Manageme",
         "Buy",
         "1.46",
         "False",
         "12.53",
         "12.36",
         "0.99",
         "15.66",
         "13.1",
         "Financial Services",
         "Asset Management"
        ],
        [
         "0",
         "DHIL",
         "Diamond Hill Investment Group, ",
         "Buy",
         "1.45",
         "False",
         null,
         "8.05",
         "1.0",
         "11.68",
         "28.9",
         "Financial Services",
         "Asset Management"
        ],
        [
         "0",
         "ANF",
         "Abercrombie & Fitch Company",
         "Buy",
         "1.44",
         "False",
         "9.17",
         "9.8",
         "1.07",
         "14.9",
         "0.0",
         "Consumer Cyclical",
         "Apparel Retail"
        ],
        [
         "0",
         "SBS",
         "Companhia de saneamento Basico ",
         "Buy",
         "1.44",
         "False",
         "16.97",
         "7.72",
         "1.0",
         "13.75",
         "0.0",
         "Utilities",
         "Utilities - Regulated Water"
        ],
        [
         "0",
         "YUM",
         "Yum! Brands, Inc.",
         "Buy",
         "1.44",
         "False",
         "22.94",
         "27.79",
         "1.21",
         "24.86",
         "0.0",
         "Consumer Cyclical",
         "Restaurants"
        ],
        [
         "0",
         "PBYI",
         "Puma Biotechnology Inc",
         "Buy",
         "1.44",
         "False",
         "13.42",
         "4.13",
         "1.0",
         "11.35",
         "4.9",
         "Healthcare",
         "Biotechnology"
        ],
        [
         "0",
         "HLF",
         "Herbalife Ltd.",
         "Buy",
         "1.43",
         "False",
         "4.75",
         "3.44",
         "0.72",
         "11.72",
         "0.0",
         "Consumer Defensive",
         "Packaged Foods"
        ],
        [
         "0",
         "OMAB",
         "Grupo Aeroportuario del Centro ",
         "Buy",
         "1.42",
         "False",
         "18.33",
         "18.69",
         "1.02",
         "19.48",
         "0.0",
         "Industrials",
         "Airports & Air Services"
        ],
        [
         "0",
         "MLI",
         "Mueller Industries, Inc.",
         "Buy",
         "1.41",
         "False",
         "16.49",
         "13.89",
         "0.84",
         "15.97",
         "10.6",
         "Industrials",
         "Metal Fabrication"
        ],
        [
         "0",
         "MAS",
         "Masco Corporation",
         "Buy",
         "1.4",
         "False",
         "15.83",
         "18.56",
         "1.17",
         "15.9",
         "27.3",
         "Industrials",
         "Building Products & Equipment"
        ],
        [
         "0",
         "BKE",
         "Buckle, Inc. (The)",
         "Buy",
         "1.4",
         "False",
         "13.44",
         "12.92",
         "0.96",
         "16.1",
         "-1.0",
         "Consumer Cyclical",
         "Apparel Retail"
        ],
        [
         "0",
         "EQNR",
         "Equinor ASA",
         "Buy",
         "1.39",
         "False",
         "8.77",
         "8.33",
         "0.95",
         "13.32",
         "0.0",
         "Energy",
         "Oil & Gas Integrated"
        ],
        [
         "0",
         "HRB",
         "H&R Block, Inc.",
         "Buy",
         "1.39",
         "False",
         "10.63",
         "13.56",
         "1.28",
         "15.63",
         "0.0",
         "Consumer Cyclical",
         "Personal Services"
        ],
        [
         "0",
         "UG",
         "United-Guardian, Inc.",
         "Buy",
         "1.39",
         "False",
         null,
         "12.68",
         "1.0",
         "15.65",
         "0.0",
         "Consumer Defensive",
         "Household & Personal Products"
        ],
        [
         "0",
         "AAPL",
         "Apple Inc.",
         "Buy",
         "1.38",
         "False",
         "24.42",
         "30.79",
         "1.26",
         "24.55",
         "0.1",
         "Technology",
         "Consumer Electronics"
        ],
        [
         "0",
         "SM",
         "SM Energy Company",
         "Buy",
         "1.38",
         "False",
         "3.69",
         "3.88",
         "1.05",
         "9.5",
         "16.4",
         "Energy",
         "Oil & Gas E&P"
        ]
       ],
       "shape": {
        "columns": 12,
        "rows": 2032
       }
      },
      "text/html": [
       "<div>\n",
       "<style scoped>\n",
       "    .dataframe tbody tr th:only-of-type {\n",
       "        vertical-align: middle;\n",
       "    }\n",
       "\n",
       "    .dataframe tbody tr th {\n",
       "        vertical-align: top;\n",
       "    }\n",
       "\n",
       "    .dataframe thead th {\n",
       "        text-align: right;\n",
       "    }\n",
       "</style>\n",
       "<table border=\"1\" class=\"dataframe\">\n",
       "  <thead>\n",
       "    <tr style=\"text-align: right;\">\n",
       "      <th></th>\n",
       "      <th>Ticker</th>\n",
       "      <th>Name</th>\n",
       "      <th>Signal</th>\n",
       "      <th>Recommendation Score</th>\n",
       "      <th>Owned</th>\n",
       "      <th>Forward P/E</th>\n",
       "      <th>P/E</th>\n",
       "      <th>FvC Ratio</th>\n",
       "      <th>ROA%</th>\n",
       "      <th>Insider Buy%</th>\n",
       "      <th>Sector</th>\n",
       "      <th>Industry</th>\n",
       "    </tr>\n",
       "  </thead>\n",
       "  <tbody>\n",
       "    <tr>\n",
       "      <th>0</th>\n",
       "      <td>SBR</td>\n",
       "      <td>Sabine Royalty Trust</td>\n",
       "      <td>Buy</td>\n",
       "      <td>4.58</td>\n",
       "      <td>False</td>\n",
       "      <td>NaN</td>\n",
       "      <td>12.77</td>\n",
       "      <td>1.00</td>\n",
       "      <td>473.60</td>\n",
       "      <td>0.0</td>\n",
       "      <td>Energy</td>\n",
       "      <td>Oil &amp; Gas Midstream</td>\n",
       "    </tr>\n",
       "    <tr>\n",
       "      <th>0</th>\n",
       "      <td>PBT</td>\n",
       "      <td>Permian Basin Royalty Trust</td>\n",
       "      <td>Buy</td>\n",
       "      <td>4.28</td>\n",
       "      <td>False</td>\n",
       "      <td>NaN</td>\n",
       "      <td>30.47</td>\n",
       "      <td>1.00</td>\n",
       "      <td>526.24</td>\n",
       "      <td>0.0</td>\n",
       "      <td>Energy</td>\n",
       "      <td>Oil &amp; Gas Midstream</td>\n",
       "    </tr>\n",
       "    <tr>\n",
       "      <th>0</th>\n",
       "      <td>MVO</td>\n",
       "      <td>MV Oil Trust</td>\n",
       "      <td>Buy</td>\n",
       "      <td>4.17</td>\n",
       "      <td>False</td>\n",
       "      <td>2.72</td>\n",
       "      <td>4.32</td>\n",
       "      <td>1.59</td>\n",
       "      <td>227.92</td>\n",
       "      <td>0.0</td>\n",
       "      <td>Energy</td>\n",
       "      <td>Oil &amp; Gas E&amp;P</td>\n",
       "    </tr>\n",
       "    <tr>\n",
       "      <th>0</th>\n",
       "      <td>NRT</td>\n",
       "      <td>North European Oil Royality Tru</td>\n",
       "      <td>Buy</td>\n",
       "      <td>3.24</td>\n",
       "      <td>False</td>\n",
       "      <td>NaN</td>\n",
       "      <td>9.37</td>\n",
       "      <td>1.00</td>\n",
       "      <td>109.24</td>\n",
       "      <td>0.0</td>\n",
       "      <td>Energy</td>\n",
       "      <td>Oil &amp; Gas E&amp;P</td>\n",
       "    </tr>\n",
       "    <tr>\n",
       "      <th>0</th>\n",
       "      <td>CRT</td>\n",
       "      <td>Cross Timbers Royalty Trust</td>\n",
       "      <td>Buy</td>\n",
       "      <td>3.10</td>\n",
       "      <td>False</td>\n",
       "      <td>NaN</td>\n",
       "      <td>8.73</td>\n",
       "      <td>1.00</td>\n",
       "      <td>92.98</td>\n",
       "      <td>0.0</td>\n",
       "      <td>Energy</td>\n",
       "      <td>Oil &amp; Gas E&amp;P</td>\n",
       "    </tr>\n",
       "    <tr>\n",
       "      <th>...</th>\n",
       "      <td>...</td>\n",
       "      <td>...</td>\n",
       "      <td>...</td>\n",
       "      <td>...</td>\n",
       "      <td>...</td>\n",
       "      <td>...</td>\n",
       "      <td>...</td>\n",
       "      <td>...</td>\n",
       "      <td>...</td>\n",
       "      <td>...</td>\n",
       "      <td>...</td>\n",
       "      <td>...</td>\n",
       "    </tr>\n",
       "    <tr>\n",
       "      <th>0</th>\n",
       "      <td>ORBT</td>\n",
       "      <td>Orbit International Corp.</td>\n",
       "      <td>Hold</td>\n",
       "      <td>NaN</td>\n",
       "      <td>False</td>\n",
       "      <td>NaN</td>\n",
       "      <td>13.04</td>\n",
       "      <td>1.00</td>\n",
       "      <td>-4.80</td>\n",
       "      <td>0.0</td>\n",
       "      <td>Industrials</td>\n",
       "      <td>Electrical Equipment &amp; Parts</td>\n",
       "    </tr>\n",
       "    <tr>\n",
       "      <th>0</th>\n",
       "      <td>NC</td>\n",
       "      <td>NACCO Industries, Inc.</td>\n",
       "      <td>Hold</td>\n",
       "      <td>NaN</td>\n",
       "      <td>False</td>\n",
       "      <td>NaN</td>\n",
       "      <td>8.30</td>\n",
       "      <td>1.00</td>\n",
       "      <td>-4.56</td>\n",
       "      <td>6.8</td>\n",
       "      <td>Energy</td>\n",
       "      <td>Thermal Coal</td>\n",
       "    </tr>\n",
       "    <tr>\n",
       "      <th>0</th>\n",
       "      <td>CYCC</td>\n",
       "      <td>Cyclacel Pharmaceuticals, Inc.</td>\n",
       "      <td>Hold</td>\n",
       "      <td>NaN</td>\n",
       "      <td>False</td>\n",
       "      <td>-4.13</td>\n",
       "      <td>0.19</td>\n",
       "      <td>1.00</td>\n",
       "      <td>-160.18</td>\n",
       "      <td>0.0</td>\n",
       "      <td>Healthcare</td>\n",
       "      <td>Biotechnology</td>\n",
       "    </tr>\n",
       "    <tr>\n",
       "      <th>0</th>\n",
       "      <td>PETS</td>\n",
       "      <td>PetMed Express, Inc.</td>\n",
       "      <td>Hold</td>\n",
       "      <td>NaN</td>\n",
       "      <td>False</td>\n",
       "      <td>-105.33</td>\n",
       "      <td>316.00</td>\n",
       "      <td>1.00</td>\n",
       "      <td>0.93</td>\n",
       "      <td>7.6</td>\n",
       "      <td>Healthcare</td>\n",
       "      <td>Pharmaceutical Retailers</td>\n",
       "    </tr>\n",
       "    <tr>\n",
       "      <th>0</th>\n",
       "      <td>PTCT</td>\n",
       "      <td>PTC Therapeutics, Inc.</td>\n",
       "      <td>Hold</td>\n",
       "      <td>NaN</td>\n",
       "      <td>False</td>\n",
       "      <td>-13.89</td>\n",
       "      <td>7.85</td>\n",
       "      <td>1.00</td>\n",
       "      <td>24.42</td>\n",
       "      <td>-2.4</td>\n",
       "      <td>Healthcare</td>\n",
       "      <td>Biotechnology</td>\n",
       "    </tr>\n",
       "  </tbody>\n",
       "</table>\n",
       "<p>2032 rows × 12 columns</p>\n",
       "</div>"
      ],
      "text/plain": [
       "   Ticker                             Name Signal  Recommendation Score  \\\n",
       "0     SBR             Sabine Royalty Trust    Buy                  4.58   \n",
       "0     PBT      Permian Basin Royalty Trust    Buy                  4.28   \n",
       "0     MVO                     MV Oil Trust    Buy                  4.17   \n",
       "0     NRT  North European Oil Royality Tru    Buy                  3.24   \n",
       "0     CRT      Cross Timbers Royalty Trust    Buy                  3.10   \n",
       "..    ...                              ...    ...                   ...   \n",
       "0    ORBT        Orbit International Corp.   Hold                   NaN   \n",
       "0      NC           NACCO Industries, Inc.   Hold                   NaN   \n",
       "0    CYCC   Cyclacel Pharmaceuticals, Inc.   Hold                   NaN   \n",
       "0    PETS             PetMed Express, Inc.   Hold                   NaN   \n",
       "0    PTCT           PTC Therapeutics, Inc.   Hold                   NaN   \n",
       "\n",
       "    Owned  Forward P/E     P/E  FvC Ratio    ROA%  Insider Buy%       Sector  \\\n",
       "0   False          NaN   12.77       1.00  473.60           0.0       Energy   \n",
       "0   False          NaN   30.47       1.00  526.24           0.0       Energy   \n",
       "0   False         2.72    4.32       1.59  227.92           0.0       Energy   \n",
       "0   False          NaN    9.37       1.00  109.24           0.0       Energy   \n",
       "0   False          NaN    8.73       1.00   92.98           0.0       Energy   \n",
       "..    ...          ...     ...        ...     ...           ...          ...   \n",
       "0   False          NaN   13.04       1.00   -4.80           0.0  Industrials   \n",
       "0   False          NaN    8.30       1.00   -4.56           6.8       Energy   \n",
       "0   False        -4.13    0.19       1.00 -160.18           0.0   Healthcare   \n",
       "0   False      -105.33  316.00       1.00    0.93           7.6   Healthcare   \n",
       "0   False       -13.89    7.85       1.00   24.42          -2.4   Healthcare   \n",
       "\n",
       "                        Industry  \n",
       "0            Oil & Gas Midstream  \n",
       "0            Oil & Gas Midstream  \n",
       "0                  Oil & Gas E&P  \n",
       "0                  Oil & Gas E&P  \n",
       "0                  Oil & Gas E&P  \n",
       "..                           ...  \n",
       "0   Electrical Equipment & Parts  \n",
       "0                   Thermal Coal  \n",
       "0                  Biotechnology  \n",
       "0       Pharmaceutical Retailers  \n",
       "0                  Biotechnology  \n",
       "\n",
       "[2032 rows x 12 columns]"
      ]
     },
     "metadata": {},
     "output_type": "display_data"
    }
   ],
   "source": [
    "df = pd.DataFrame()\n",
    "for symbol in tqdm(symbols, smoothing=0):\n",
    "    try:\n",
    "        df = pd.concat([df, Ticker(symbol).summary()])\n",
    "    except Exception as error:\n",
    "        #print(f\"Error at: {symbol}. Error: {error}\")\n",
    "        continue\n",
    "df = df.sort_values(by=\"Recommendation Score\", ascending=False)\n",
    "display(df)\n",
    "if symbol_list == \"simple\":\n",
    "    df.to_csv(\"../data/simple_screener_results.csv\", index=False)\n",
    "else:   \n",
    "    df.to_csv(\"../data/screener_results.csv\", index=False)\n",
    "    df[\"Ticker\"].to_csv(\"../data/filtered_tickers.csv\", index=False)"
   ]
  },
  {
   "cell_type": "markdown",
   "metadata": {},
   "source": [
    "### Single import"
   ]
  },
  {
   "cell_type": "code",
   "execution_count": 7,
   "metadata": {},
   "outputs": [
    {
     "data": {
      "application/vnd.microsoft.datawrangler.viewer.v0+json": {
       "columns": [
        {
         "name": "index",
         "rawType": "int64",
         "type": "integer"
        },
        {
         "name": "Ticker",
         "rawType": "object",
         "type": "string"
        },
        {
         "name": "Name",
         "rawType": "object",
         "type": "string"
        },
        {
         "name": "Signal",
         "rawType": "object",
         "type": "string"
        },
        {
         "name": "Recommendation Score",
         "rawType": "float64",
         "type": "float"
        },
        {
         "name": "Owned",
         "rawType": "bool",
         "type": "boolean"
        },
        {
         "name": "Forward P/E",
         "rawType": "float64",
         "type": "float"
        },
        {
         "name": "P/E",
         "rawType": "float64",
         "type": "float"
        },
        {
         "name": "FvC Ratio",
         "rawType": "float64",
         "type": "float"
        },
        {
         "name": "ROA%",
         "rawType": "float64",
         "type": "float"
        },
        {
         "name": "Insider Buy%",
         "rawType": "float64",
         "type": "float"
        },
        {
         "name": "Sector",
         "rawType": "object",
         "type": "string"
        },
        {
         "name": "Industry",
         "rawType": "object",
         "type": "string"
        }
       ],
       "ref": "a7239dd2-3d72-431c-bd7c-6dee72d5b3bf",
       "rows": [
        [
         "0",
         "WMT",
         "Walmart Inc.",
         "Hold",
         "0.23",
         "False",
         "36.51",
         "42.44",
         "1.16",
         "7.15",
         "-0.8",
         "Consumer Defensive",
         "Discount Stores"
        ]
       ],
       "shape": {
        "columns": 12,
        "rows": 1
       }
      },
      "text/html": [
       "<div>\n",
       "<style scoped>\n",
       "    .dataframe tbody tr th:only-of-type {\n",
       "        vertical-align: middle;\n",
       "    }\n",
       "\n",
       "    .dataframe tbody tr th {\n",
       "        vertical-align: top;\n",
       "    }\n",
       "\n",
       "    .dataframe thead th {\n",
       "        text-align: right;\n",
       "    }\n",
       "</style>\n",
       "<table border=\"1\" class=\"dataframe\">\n",
       "  <thead>\n",
       "    <tr style=\"text-align: right;\">\n",
       "      <th></th>\n",
       "      <th>Ticker</th>\n",
       "      <th>Name</th>\n",
       "      <th>Signal</th>\n",
       "      <th>Recommendation Score</th>\n",
       "      <th>Owned</th>\n",
       "      <th>Forward P/E</th>\n",
       "      <th>P/E</th>\n",
       "      <th>FvC Ratio</th>\n",
       "      <th>ROA%</th>\n",
       "      <th>Insider Buy%</th>\n",
       "      <th>Sector</th>\n",
       "      <th>Industry</th>\n",
       "    </tr>\n",
       "  </thead>\n",
       "  <tbody>\n",
       "    <tr>\n",
       "      <th>0</th>\n",
       "      <td>WMT</td>\n",
       "      <td>Walmart Inc.</td>\n",
       "      <td>Hold</td>\n",
       "      <td>0.23</td>\n",
       "      <td>False</td>\n",
       "      <td>36.51</td>\n",
       "      <td>42.44</td>\n",
       "      <td>1.16</td>\n",
       "      <td>7.15</td>\n",
       "      <td>-0.8</td>\n",
       "      <td>Consumer Defensive</td>\n",
       "      <td>Discount Stores</td>\n",
       "    </tr>\n",
       "  </tbody>\n",
       "</table>\n",
       "</div>"
      ],
      "text/plain": [
       "  Ticker          Name Signal  Recommendation Score  Owned  Forward P/E  \\\n",
       "0    WMT  Walmart Inc.   Hold                  0.23  False        36.51   \n",
       "\n",
       "     P/E  FvC Ratio  ROA%  Insider Buy%              Sector         Industry  \n",
       "0  42.44       1.16  7.15          -0.8  Consumer Defensive  Discount Stores  "
      ]
     },
     "metadata": {},
     "output_type": "display_data"
    }
   ],
   "source": [
    "symbol = \"WMT\"\n",
    "display(Ticker(symbol).summary())"
   ]
  },
  {
   "cell_type": "code",
   "execution_count": 5,
   "metadata": {},
   "outputs": [
    {
     "data": {
      "application/vnd.microsoft.datawrangler.viewer.v0+json": {
       "columns": [
        {
         "name": "index",
         "rawType": "object",
         "type": "string"
        },
        {
         "name": "0",
         "rawType": "object",
         "type": "unknown"
        }
       ],
       "ref": "77877d13-19c4-4ec5-bff6-d2c7758f0a33",
       "rows": [
        [
         "address1",
         "One Apple Park Way"
        ],
        [
         "city",
         "Cupertino"
        ],
        [
         "state",
         "CA"
        ],
        [
         "zip",
         "95014"
        ],
        [
         "country",
         "United States"
        ],
        [
         "phone",
         "(408) 996-1010"
        ],
        [
         "website",
         "https://www.apple.com"
        ],
        [
         "industry",
         "Consumer Electronics"
        ],
        [
         "industryKey",
         "consumer-electronics"
        ],
        [
         "industryDisp",
         "Consumer Electronics"
        ],
        [
         "sector",
         "Technology"
        ],
        [
         "sectorKey",
         "technology"
        ],
        [
         "sectorDisp",
         "Technology"
        ],
        [
         "longBusinessSummary",
         "Apple Inc. designs, manufactures, and markets smartphones, personal computers, tablets, wearables, and accessories worldwide. The company offers iPhone, a line of smartphones; Mac, a line of personal computers; iPad, a line of multi-purpose tablets; and wearables, home, and accessories comprising AirPods, Apple TV, Apple Watch, Beats products, and HomePod. It also provides AppleCare support and cloud services; and operates various platforms, including the App Store that allow customers to discover and download applications and digital content, such as books, music, video, games, and podcasts, as well as advertising services include third-party licensing arrangements and its own advertising platforms. In addition, the company offers various subscription-based services, such as Apple Arcade, a game subscription service; Apple Fitness+, a personalized fitness service; Apple Music, which offers users a curated listening experience with on-demand radio stations; Apple News+, a subscription news and magazine service; Apple TV+, which offers exclusive original content; Apple Card, a co-branded credit card; and Apple Pay, a cashless payment service, as well as licenses its intellectual property. The company serves consumers, and small and mid-sized businesses; and the education, enterprise, and government markets. It distributes third-party applications for its products through the App Store. The company also sells its products through its retail and online stores, and direct sales force; and third-party cellular network carriers, wholesalers, retailers, and resellers. Apple Inc. was founded in 1976 and is headquartered in Cupertino, California."
        ],
        [
         "fullTimeEmployees",
         "150000"
        ],
        [
         "companyOfficers",
         "[{'maxAge': 1, 'name': 'Mr. Timothy D. Cook', 'age': 63, 'title': 'CEO & Director', 'yearBorn': 1961, 'fiscalYear': 2024, 'totalPay': 16520856, 'exercisedValue': 0, 'unexercisedValue': 0}, {'maxAge': 1, 'name': 'Ms. Katherine L. Adams', 'age': 60, 'title': 'Senior VP, General Counsel & Secretary', 'yearBorn': 1964, 'fiscalYear': 2024, 'totalPay': 5022182, 'exercisedValue': 0, 'unexercisedValue': 0}, {'maxAge': 1, 'name': \"Ms. Deirdre  O'Brien\", 'age': 57, 'title': 'Chief People Officer & Senior VP of Retail', 'yearBorn': 1967, 'fiscalYear': 2024, 'totalPay': 5022182, 'exercisedValue': 0, 'unexercisedValue': 0}, {'maxAge': 1, 'name': 'Mr. Jeffrey E. Williams', 'age': 60, 'title': 'Senior Vice President of Design, Watch, & Health', 'yearBorn': 1964, 'fiscalYear': 2024, 'totalPay': 5020737, 'exercisedValue': 0, 'unexercisedValue': 0}, {'maxAge': 1, 'name': 'Mr. Kevan  Parekh', 'age': 52, 'title': 'Senior VP & CFO', 'yearBorn': 1972, 'fiscalYear': 2024, 'exercisedValue': 0, 'unexercisedValue': 0}, {'maxAge': 1, 'name': 'Mr. Sabih  Khan', 'title': 'Chief Operating Officer', 'fiscalYear': 2024, 'exercisedValue': 0, 'unexercisedValue': 0}, {'maxAge': 1, 'name': 'Mr. Chris  Kondo', 'title': 'Senior Director of Corporate Accounting', 'fiscalYear': 2024, 'exercisedValue': 0, 'unexercisedValue': 0}, {'maxAge': 1, 'name': 'Suhasini  Chandramouli', 'title': 'Director of Investor Relations', 'fiscalYear': 2024, 'exercisedValue': 0, 'unexercisedValue': 0}, {'maxAge': 1, 'name': 'Ms. Kristin Huguet Quayle', 'title': 'Vice President of Worldwide Communications', 'fiscalYear': 2024, 'exercisedValue': 0, 'unexercisedValue': 0}, {'maxAge': 1, 'name': 'Mr. Greg  Joswiak', 'title': 'Senior Vice President of Worldwide Marketing', 'fiscalYear': 2024, 'exercisedValue': 0, 'unexercisedValue': 0}]"
        ],
        [
         "auditRisk",
         "7"
        ],
        [
         "boardRisk",
         "1"
        ],
        [
         "compensationRisk",
         "3"
        ],
        [
         "shareHolderRightsRisk",
         "1"
        ],
        [
         "overallRisk",
         "1"
        ],
        [
         "governanceEpochDate",
         "1754006400"
        ],
        [
         "compensationAsOfEpochDate",
         "1735603200"
        ],
        [
         "irWebsite",
         "http://investor.apple.com/"
        ],
        [
         "executiveTeam",
         "[]"
        ],
        [
         "maxAge",
         "86400"
        ],
        [
         "priceHint",
         "2"
        ],
        [
         "previousClose",
         "203.35"
        ],
        [
         "open",
         "203.435"
        ],
        [
         "dayLow",
         "202.16"
        ],
        [
         "dayHigh",
         "205.34"
        ],
        [
         "regularMarketPreviousClose",
         "203.35"
        ],
        [
         "regularMarketOpen",
         "203.435"
        ],
        [
         "regularMarketDayLow",
         "202.16"
        ],
        [
         "regularMarketDayHigh",
         "205.34"
        ],
        [
         "dividendRate",
         "1.04"
        ],
        [
         "dividendYield",
         "0.51"
        ],
        [
         "exDividendDate",
         "1754870400"
        ],
        [
         "payoutRatio",
         "0.1533"
        ],
        [
         "fiveYearAvgDividendYield",
         "0.55"
        ],
        [
         "beta",
         "1.165"
        ],
        [
         "trailingPE",
         "30.792109"
        ],
        [
         "forwardPE",
         "24.418772"
        ],
        [
         "volume",
         "42535446"
        ],
        [
         "regularMarketVolume",
         "42535446"
        ],
        [
         "averageVolume",
         "53566319"
        ],
        [
         "averageVolume10days",
         "57241130"
        ],
        [
         "averageDailyVolume10Day",
         "57241130"
        ],
        [
         "bid",
         "193.15"
        ],
        [
         "ask",
         "213.53"
        ]
       ],
       "shape": {
        "columns": 1,
        "rows": 180
       }
      },
      "text/html": [
       "<div>\n",
       "<style scoped>\n",
       "    .dataframe tbody tr th:only-of-type {\n",
       "        vertical-align: middle;\n",
       "    }\n",
       "\n",
       "    .dataframe tbody tr th {\n",
       "        vertical-align: top;\n",
       "    }\n",
       "\n",
       "    .dataframe thead th {\n",
       "        text-align: right;\n",
       "    }\n",
       "</style>\n",
       "<table border=\"1\" class=\"dataframe\">\n",
       "  <thead>\n",
       "    <tr style=\"text-align: right;\">\n",
       "      <th></th>\n",
       "      <th>0</th>\n",
       "    </tr>\n",
       "  </thead>\n",
       "  <tbody>\n",
       "    <tr>\n",
       "      <th>address1</th>\n",
       "      <td>One Apple Park Way</td>\n",
       "    </tr>\n",
       "    <tr>\n",
       "      <th>city</th>\n",
       "      <td>Cupertino</td>\n",
       "    </tr>\n",
       "    <tr>\n",
       "      <th>state</th>\n",
       "      <td>CA</td>\n",
       "    </tr>\n",
       "    <tr>\n",
       "      <th>zip</th>\n",
       "      <td>95014</td>\n",
       "    </tr>\n",
       "    <tr>\n",
       "      <th>country</th>\n",
       "      <td>United States</td>\n",
       "    </tr>\n",
       "    <tr>\n",
       "      <th>...</th>\n",
       "      <td>...</td>\n",
       "    </tr>\n",
       "    <tr>\n",
       "      <th>cryptoTradeable</th>\n",
       "      <td>False</td>\n",
       "    </tr>\n",
       "    <tr>\n",
       "      <th>regularMarketChangePercent</th>\n",
       "      <td>-0.211462</td>\n",
       "    </tr>\n",
       "    <tr>\n",
       "      <th>regularMarketPrice</th>\n",
       "      <td>202.92</td>\n",
       "    </tr>\n",
       "    <tr>\n",
       "      <th>displayName</th>\n",
       "      <td>Apple</td>\n",
       "    </tr>\n",
       "    <tr>\n",
       "      <th>trailingPegRatio</th>\n",
       "      <td>1.8716</td>\n",
       "    </tr>\n",
       "  </tbody>\n",
       "</table>\n",
       "<p>180 rows × 1 columns</p>\n",
       "</div>"
      ],
      "text/plain": [
       "                                             0\n",
       "address1                    One Apple Park Way\n",
       "city                                 Cupertino\n",
       "state                                       CA\n",
       "zip                                      95014\n",
       "country                          United States\n",
       "...                                        ...\n",
       "cryptoTradeable                          False\n",
       "regularMarketChangePercent           -0.211462\n",
       "regularMarketPrice                      202.92\n",
       "displayName                              Apple\n",
       "trailingPegRatio                        1.8716\n",
       "\n",
       "[180 rows x 1 columns]"
      ]
     },
     "metadata": {},
     "output_type": "display_data"
    }
   ],
   "source": [
    "get_gettables()"
   ]
  }
 ],
 "metadata": {
  "kernelspec": {
   "display_name": "Python 3",
   "language": "python",
   "name": "python3"
  },
  "language_info": {
   "codemirror_mode": {
    "name": "ipython",
    "version": 3
   },
   "file_extension": ".py",
   "mimetype": "text/x-python",
   "name": "python",
   "nbconvert_exporter": "python",
   "pygments_lexer": "ipython3",
   "version": "3.13.5"
  }
 },
 "nbformat": 4,
 "nbformat_minor": 2
}
