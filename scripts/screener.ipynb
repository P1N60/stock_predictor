{
 "cells": [
  {
   "cell_type": "markdown",
   "metadata": {},
   "source": [
    "## Dependencies"
   ]
  },
  {
   "cell_type": "markdown",
   "metadata": {},
   "source": [
    "### Library Installation (if needed)"
   ]
  },
  {
   "cell_type": "code",
   "execution_count": 1,
   "metadata": {},
   "outputs": [],
   "source": [
    "#! pip install -Ur requirements.txt"
   ]
  },
  {
   "cell_type": "code",
   "execution_count": 7,
   "metadata": {},
   "outputs": [],
   "source": [
    "from methods.screener_methods import *\n",
    "from tqdm import tqdm\n",
    "import pandas as pd"
   ]
  },
  {
   "cell_type": "markdown",
   "metadata": {},
   "source": [
    "### Single import"
   ]
  },
  {
   "cell_type": "code",
   "execution_count": 8,
   "metadata": {},
   "outputs": [
    {
     "data": {
      "application/vnd.microsoft.datawrangler.viewer.v0+json": {
       "columns": [
        {
         "name": "index",
         "rawType": "int64",
         "type": "integer"
        },
        {
         "name": "Ticker",
         "rawType": "object",
         "type": "string"
        },
        {
         "name": "Name",
         "rawType": "object",
         "type": "string"
        },
        {
         "name": "Signal",
         "rawType": "object",
         "type": "string"
        },
        {
         "name": "Recommendation Score",
         "rawType": "float64",
         "type": "float"
        },
        {
         "name": "Owned",
         "rawType": "bool",
         "type": "boolean"
        },
        {
         "name": "Forward P/E",
         "rawType": "float64",
         "type": "float"
        },
        {
         "name": "P/E",
         "rawType": "float64",
         "type": "float"
        },
        {
         "name": "FvC Ratio",
         "rawType": "float64",
         "type": "float"
        },
        {
         "name": "ROA%",
         "rawType": "float64",
         "type": "float"
        },
        {
         "name": "Insider Buy%",
         "rawType": "float64",
         "type": "float"
        },
        {
         "name": "Sector",
         "rawType": "object",
         "type": "string"
        },
        {
         "name": "Industry",
         "rawType": "object",
         "type": "string"
        }
       ],
       "ref": "c173d52b-5d8d-45d6-b496-dda7ffb25746",
       "rows": [
        [
         "0",
         "DNORD.CO",
         "D/S Norden",
         "Hold",
         "0.71",
         "False",
         "7.88",
         "7.98",
         "1.01",
         "3.79",
         "0.0",
         "Industrials",
         "Marine Shipping"
        ]
       ],
       "shape": {
        "columns": 12,
        "rows": 1
       }
      },
      "text/html": [
       "<div>\n",
       "<style scoped>\n",
       "    .dataframe tbody tr th:only-of-type {\n",
       "        vertical-align: middle;\n",
       "    }\n",
       "\n",
       "    .dataframe tbody tr th {\n",
       "        vertical-align: top;\n",
       "    }\n",
       "\n",
       "    .dataframe thead th {\n",
       "        text-align: right;\n",
       "    }\n",
       "</style>\n",
       "<table border=\"1\" class=\"dataframe\">\n",
       "  <thead>\n",
       "    <tr style=\"text-align: right;\">\n",
       "      <th></th>\n",
       "      <th>Ticker</th>\n",
       "      <th>Name</th>\n",
       "      <th>Signal</th>\n",
       "      <th>Recommendation Score</th>\n",
       "      <th>Owned</th>\n",
       "      <th>Forward P/E</th>\n",
       "      <th>P/E</th>\n",
       "      <th>FvC Ratio</th>\n",
       "      <th>ROA%</th>\n",
       "      <th>Insider Buy%</th>\n",
       "      <th>Sector</th>\n",
       "      <th>Industry</th>\n",
       "    </tr>\n",
       "  </thead>\n",
       "  <tbody>\n",
       "    <tr>\n",
       "      <th>0</th>\n",
       "      <td>DNORD.CO</td>\n",
       "      <td>D/S Norden</td>\n",
       "      <td>Hold</td>\n",
       "      <td>0.71</td>\n",
       "      <td>False</td>\n",
       "      <td>7.88</td>\n",
       "      <td>7.98</td>\n",
       "      <td>1.01</td>\n",
       "      <td>3.79</td>\n",
       "      <td>0.0</td>\n",
       "      <td>Industrials</td>\n",
       "      <td>Marine Shipping</td>\n",
       "    </tr>\n",
       "  </tbody>\n",
       "</table>\n",
       "</div>"
      ],
      "text/plain": [
       "     Ticker        Name Signal  Recommendation Score  Owned  Forward P/E  \\\n",
       "0  DNORD.CO  D/S Norden   Hold                  0.71  False         7.88   \n",
       "\n",
       "    P/E  FvC Ratio  ROA%  Insider Buy%       Sector         Industry  \n",
       "0  7.98       1.01  3.79           0.0  Industrials  Marine Shipping  "
      ]
     },
     "metadata": {},
     "output_type": "display_data"
    }
   ],
   "source": [
    "symbol = \"DNORD.CO\"\n",
    "display(Stock(symbol).summary())"
   ]
  },
  {
   "cell_type": "markdown",
   "metadata": {},
   "source": [
    "### Screener"
   ]
  },
  {
   "cell_type": "code",
   "execution_count": 4,
   "metadata": {},
   "outputs": [],
   "source": [
    "symbol_list = input('Symbols eg. \"simple\", \"filtered\", \"all\":')\n",
    "if symbol_list == \"all\":\n",
    "    symbols = pd.read_csv(\"../data/tickers/tickers.csv\")[\"Ticker\"].tolist() + pd.read_csv(\"../data/tikcers/simple_tickers.csv\")[\"Ticker\"].to_list()\n",
    "elif symbol_list == \"simple\":\n",
    "    symbols = pd.read_csv(\"../data/tickers/simple_tickers.csv\")[\"Ticker\"].tolist()\n",
    "else:\n",
    "    symbols = pd.read_csv(\"../data/tickers/screener_filtered_tickers.csv\")[\"Ticker\"].tolist()\n",
    "symbols = list(set(symbols))"
   ]
  },
  {
   "cell_type": "code",
   "execution_count": 5,
   "metadata": {},
   "outputs": [
    {
     "name": "stderr",
     "output_type": "stream",
     "text": [
      " 61%|██████    | 1234/2035 [14:52<09:39,  1.38it/s]HTTP Error 404: \n",
      "HTTP Error 404: \n",
      " 98%|█████████▊| 1987/2035 [24:01<00:34,  1.38it/s]HTTP Error 404: \n",
      "HTTP Error 404: \n",
      "100%|██████████| 2035/2035 [24:37<00:00,  1.38it/s]\n"
     ]
    },
    {
     "data": {
      "application/vnd.microsoft.datawrangler.viewer.v0+json": {
       "columns": [
        {
         "name": "index",
         "rawType": "int64",
         "type": "integer"
        },
        {
         "name": "Ticker",
         "rawType": "object",
         "type": "string"
        },
        {
         "name": "Name",
         "rawType": "object",
         "type": "string"
        },
        {
         "name": "Signal",
         "rawType": "object",
         "type": "string"
        },
        {
         "name": "Recommendation Score",
         "rawType": "float64",
         "type": "float"
        },
        {
         "name": "Owned",
         "rawType": "bool",
         "type": "boolean"
        },
        {
         "name": "Forward P/E",
         "rawType": "float64",
         "type": "float"
        },
        {
         "name": "P/E",
         "rawType": "float64",
         "type": "float"
        },
        {
         "name": "FvC Ratio",
         "rawType": "float64",
         "type": "float"
        },
        {
         "name": "ROA%",
         "rawType": "float64",
         "type": "float"
        },
        {
         "name": "Insider Buy%",
         "rawType": "float64",
         "type": "float"
        },
        {
         "name": "Sector",
         "rawType": "object",
         "type": "string"
        },
        {
         "name": "Industry",
         "rawType": "object",
         "type": "string"
        }
       ],
       "ref": "57a80af6-9665-405b-b0f7-b30b42dbaefb",
       "rows": [
        [
         "0",
         "SBR",
         "Sabine Royalty Trust",
         "Buy",
         "4.89",
         "False",
         null,
         "14.02",
         "1.0",
         "564.83",
         "0.0",
         "Energy",
         "Oil & Gas Midstream"
        ],
        [
         "0",
         "MVO",
         "MV Oil Trust",
         "Buy",
         "4.41",
         "False",
         "2.71",
         "4.3",
         "1.59",
         "227.92",
         "0.0",
         "Energy",
         "Oil & Gas E&P"
        ],
        [
         "0",
         "PBT",
         "Permian Basin Royalty Trust",
         "Buy",
         "4.34",
         "False",
         null,
         "33.51",
         "1.0",
         "526.24",
         "0.0",
         "Energy",
         "Oil & Gas Midstream"
        ],
        [
         "0",
         "NRT",
         "North European Oil Royality Tru",
         "Buy",
         "3.43",
         "False",
         null,
         "9.29",
         "1.0",
         "109.24",
         "0.0",
         "Energy",
         "Oil & Gas E&P"
        ],
        [
         "0",
         "CRT",
         "Cross Timbers Royalty Trust",
         "Buy",
         "3.3",
         "False",
         null,
         "8.6",
         "1.0",
         "92.98",
         "0.0",
         "Energy",
         "Oil & Gas E&P"
        ],
        [
         "0",
         "CALM",
         "Cal-Maine Foods, Inc.",
         "Buy",
         "2.61",
         "False",
         "33.49",
         "4.32",
         "1.0",
         "36.8",
         "0.0",
         "Consumer Defensive",
         "Farm Products"
        ],
        [
         "0",
         "MARPS",
         "3273",
         "Buy",
         "2.57",
         "False",
         null,
         "11.76",
         "1.0",
         "48.38",
         "0.0",
         "Energy",
         "Oil & Gas Midstream"
        ],
        [
         "0",
         "RIGL",
         "Rigel Pharmaceuticals, Inc.",
         "Buy",
         "2.57",
         "False",
         "39.23",
         "6.36",
         "1.0",
         "39.01",
         "0.0",
         "Healthcare",
         "Biotechnology"
        ],
        [
         "0",
         "WINA",
         "Winmark Corporation",
         "Buy",
         "2.5",
         "False",
         "33.45",
         "35.98",
         "1.08",
         "77.33",
         "16.3",
         "Consumer Cyclical",
         "Specialty Retail"
        ],
        [
         "0",
         "EVR.L",
         "EVRAZ PLC ORD USD0.05",
         "Buy",
         "2.49",
         "False",
         "0.77",
         "0.42",
         "0.55",
         "27.67",
         "0.0",
         "Basic Materials",
         "Steel"
        ],
        [
         "0",
         "CHKR",
         "Chesapeake Granite Wash Trust",
         "Buy",
         "2.35",
         "False",
         null,
         "5.11",
         "1.0",
         "28.8",
         "0.0",
         "Energy",
         "Oil & Gas E&P"
        ],
        [
         "0",
         "SIGA",
         "SIGA Technologies Inc.",
         "Buy",
         "2.25",
         "False",
         "7.5",
         "8.16",
         "1.09",
         "29.51",
         "0.0",
         "Healthcare",
         "Drug Manufacturers - Specialty & Generic"
        ],
        [
         "0",
         "NATH",
         "Nathan's Famous, Inc.",
         "Buy",
         "2.12",
         "False",
         null,
         "17.73",
         "1.0",
         "36.43",
         "0.0",
         "Consumer Cyclical",
         "Restaurants"
        ],
        [
         "0",
         "CHA",
         "Chagee Holdings Limited",
         "Buy",
         "2.03",
         "False",
         "1.18",
         "18.83",
         "1.0",
         "34.26",
         "0.0",
         "Consumer Cyclical",
         "Restaurants"
        ],
        [
         "0",
         "VRSN",
         "VeriSign, Inc.",
         "Buy",
         "1.87",
         "False",
         "30.41",
         "31.35",
         "1.03",
         "46.56",
         "-30.7",
         "Technology",
         "Software - Infrastructure"
        ],
        [
         "0",
         "MO",
         "Altria Group, Inc.",
         "Buy",
         "1.86",
         "False",
         "12.34",
         "12.77",
         "1.03",
         "23.01",
         "0.0",
         "Consumer Defensive",
         "Tobacco"
        ],
        [
         "0",
         "HALO",
         "Halozyme Therapeutics, Inc.",
         "Buy",
         "1.85",
         "False",
         "13.23",
         "14.65",
         "1.11",
         "21.21",
         "22.2",
         "Healthcare",
         "Biotechnology"
        ],
        [
         "0",
         "NOVO-B.CO",
         "Novo Nordisk B A/S",
         "Buy",
         "1.82",
         "True",
         "11.3",
         "12.89",
         "1.14",
         "21.82",
         "0.0",
         "Healthcare",
         "Drug Manufacturers - General"
        ],
        [
         "0",
         "LULU",
         "lululemon athletica inc.",
         "Buy",
         "1.82",
         "False",
         "12.92",
         "13.12",
         "1.02",
         "22.02",
         "1.3",
         "Consumer Cyclical",
         "Apparel Retail"
        ],
        [
         "0",
         "NVO",
         "Novo Nordisk A/S",
         "Buy",
         "1.82",
         "False",
         "12.23",
         "12.8",
         "1.05",
         "21.82",
         "0.0",
         "Healthcare",
         "Drug Manufacturers - General"
        ],
        [
         "0",
         "ESEA",
         "Euroseas Ltd.",
         "Buy",
         "1.8",
         "False",
         "4.03",
         "2.76",
         "0.69",
         "13.93",
         "0.0",
         "Industrials",
         "Marine Shipping"
        ],
        [
         "0",
         "DPZ",
         "Domino's Pizza Inc",
         "Buy",
         "1.77",
         "False",
         "25.01",
         "25.64",
         "1.03",
         "30.97",
         "0.2",
         "Consumer Cyclical",
         "Restaurants"
        ],
        [
         "0",
         "PBYI",
         "Puma Biotechnology Inc",
         "Buy",
         "1.76",
         "False",
         "20.29",
         "4.92",
         "1.0",
         "14.4",
         "0.1",
         "Healthcare",
         "Biotechnology"
        ],
        [
         "0",
         "TZOO",
         "Travelzoo",
         "Buy",
         "1.73",
         "False",
         "7.99",
         "11.19",
         "1.4",
         "18.78",
         "-8.3",
         "Communication Services",
         "Internet Content & Information"
        ],
        [
         "0",
         "NVDA",
         "NVIDIA Corporation",
         "Buy",
         "1.72",
         "False",
         "44.46",
         "59.08",
         "1.33",
         "53.24",
         "-0.4",
         "Technology",
         "Semiconductors"
        ],
        [
         "0",
         "DMLP",
         "Dorchester Minerals, L.P.",
         "Buy",
         "1.69",
         "False",
         null,
         "14.25",
         "1.0",
         "20.09",
         "0.0",
         "Energy",
         "Oil & Gas E&P"
        ],
        [
         "0",
         "IDCC",
         "InterDigital, Inc.",
         "Buy",
         "1.68",
         "False",
         "56.65",
         "19.42",
         "1.0",
         "18.37",
         "42.1",
         "Technology",
         "Software - Application"
        ],
        [
         "0",
         "EVO.ST",
         "Evolution AB",
         "Buy",
         "1.67",
         "False",
         "11.22",
         "12.29",
         "1.1",
         "18.03",
         "0.0",
         "Consumer Cyclical",
         "Gambling"
        ],
        [
         "0",
         "PNDORA.CO",
         "Pandora A/S",
         "Buy",
         "1.67",
         "False",
         "13.93",
         "15.31",
         "1.1",
         "20.09",
         "0.0",
         "Consumer Cyclical",
         "Luxury Goods"
        ],
        [
         "0",
         "DECK",
         "Deckers Outdoor Corporation",
         "Buy",
         "1.67",
         "False",
         "16.31",
         "15.94",
         "0.98",
         "21.27",
         "-3.0",
         "Consumer Cyclical",
         "Footwear & Accessories"
        ],
        [
         "0",
         "UTHR",
         "United Therapeutics Corporation",
         "Buy",
         "1.65",
         "False",
         "10.81",
         "11.76",
         "1.09",
         "12.96",
         "46.1",
         "Healthcare",
         "Drug Manufacturers - Specialty & Generic"
        ],
        [
         "0",
         "HLF",
         "Herbalife Ltd.",
         "Buy",
         "1.65",
         "False",
         "4.6",
         "2.88",
         "0.63",
         "11.72",
         "0.0",
         "Consumer Defensive",
         "Packaged Foods"
        ],
        [
         "0",
         "CPRX",
         "Catalyst Pharmaceuticals, Inc.",
         "Buy",
         "1.64",
         "False",
         "13.47",
         "12.33",
         "0.92",
         "18.13",
         "-2.9",
         "Healthcare",
         "Biotechnology"
        ],
        [
         "0",
         "NVR",
         "NVR, Inc.",
         "Buy",
         "1.64",
         "False",
         "15.37",
         "16.84",
         "1.1",
         "20.43",
         "0.0",
         "Consumer Cyclical",
         "Residential Construction"
        ],
        [
         "0",
         "APAM",
         "Artisan Partners Asset Manageme",
         "Buy",
         "1.6",
         "False",
         "12.75",
         "12.58",
         "0.99",
         "15.66",
         "13.0",
         "Financial Services",
         "Asset Management"
        ],
        [
         "0",
         "DHIL",
         "Diamond Hill Investment Group, ",
         "Buy",
         "1.6",
         "False",
         null,
         "8.35",
         "1.0",
         "11.68",
         "28.9",
         "Financial Services",
         "Asset Management"
        ],
        [
         "0",
         "SBS",
         "Companhia de saneamento Basico ",
         "Buy",
         "1.6",
         "False",
         "19.77",
         "8.81",
         "1.0",
         "14.44",
         "0.0",
         "Utilities",
         "Utilities - Regulated Water"
        ],
        [
         "0",
         "ANF",
         "Abercrombie & Fitch Company",
         "Buy",
         "1.59",
         "False",
         "9.38",
         "10.02",
         "1.07",
         "14.9",
         "0.0",
         "Consumer Cyclical",
         "Apparel Retail"
        ],
        [
         "0",
         "ULTA",
         "Ulta Beauty, Inc.",
         "Buy",
         "1.58",
         "False",
         "22.56",
         "20.16",
         "0.89",
         "16.85",
         "43.3",
         "Consumer Cyclical",
         "Specialty Retail"
        ],
        [
         "0",
         "YUM",
         "Yum! Brands, Inc.",
         "Buy",
         "1.57",
         "False",
         "23.37",
         "28.03",
         "1.2",
         "24.38",
         "10.3",
         "Consumer Cyclical",
         "Restaurants"
        ],
        [
         "0",
         "SM",
         "SM Energy Company",
         "Buy",
         "1.57",
         "False",
         "3.63",
         "3.81",
         "1.05",
         "9.5",
         "16.4",
         "Energy",
         "Oil & Gas E&P"
        ],
        [
         "0",
         "GSL",
         "Global Ship Lease Inc New",
         "Buy",
         "1.56",
         "False",
         "3.23",
         "2.87",
         "0.89",
         "10.06",
         "0.0",
         "Industrials",
         "Marine Shipping"
        ],
        [
         "0",
         "EQNR",
         "Equinor ASA",
         "Buy",
         "1.56",
         "False",
         "8.47",
         "8.05",
         "0.95",
         "13.32",
         "0.0",
         "Energy",
         "Oil & Gas Integrated"
        ],
        [
         "0",
         "MIND",
         "MIND Technology, Inc.",
         "Buy",
         "1.56",
         "False",
         "14.6",
         "2.43",
         "1.0",
         "9.55",
         "0.0",
         "Technology",
         "Scientific & Technical Instruments"
        ],
        [
         "0",
         "HRB",
         "H&R Block, Inc.",
         "Buy",
         "1.55",
         "False",
         "10.02",
         "12.78",
         "1.28",
         "15.63",
         "0.0",
         "Consumer Cyclical",
         "Personal Services"
        ],
        [
         "0",
         "EOLU-B.ST",
         "Eolus Aktiebolag ser. B",
         "Buy",
         "1.55",
         "False",
         "5.16",
         "5.0",
         "0.97",
         "11.12",
         "0.0",
         "Utilities",
         "Utilities - Renewable"
        ],
        [
         "0",
         "OMAB",
         "Grupo Aeroportuario del Centro ",
         "Buy",
         "1.54",
         "False",
         "18.57",
         "18.67",
         "1.01",
         "19.48",
         "0.0",
         "Industrials",
         "Airports & Air Services"
        ],
        [
         "0",
         "MLI",
         "Mueller Industries, Inc.",
         "Buy",
         "1.52",
         "False",
         "17.51",
         "14.75",
         "0.84",
         "15.97",
         "10.6",
         "Industrials",
         "Metal Fabrication"
        ],
        [
         "0",
         "MAS",
         "Masco Corporation",
         "Buy",
         "1.51",
         "False",
         "16.11",
         "18.89",
         "1.17",
         "15.9",
         "26.9",
         "Industrials",
         "Building Products & Equipment"
        ],
        [
         "0",
         "HMY",
         "Harmony Gold Mining Company Lim",
         "Buy",
         "1.51",
         "False",
         "10.85",
         "16.5",
         "1.52",
         "16.66",
         "0.0",
         "Basic Materials",
         "Gold"
        ]
       ],
       "shape": {
        "columns": 12,
        "rows": 2018
       }
      },
      "text/html": [
       "<div>\n",
       "<style scoped>\n",
       "    .dataframe tbody tr th:only-of-type {\n",
       "        vertical-align: middle;\n",
       "    }\n",
       "\n",
       "    .dataframe tbody tr th {\n",
       "        vertical-align: top;\n",
       "    }\n",
       "\n",
       "    .dataframe thead th {\n",
       "        text-align: right;\n",
       "    }\n",
       "</style>\n",
       "<table border=\"1\" class=\"dataframe\">\n",
       "  <thead>\n",
       "    <tr style=\"text-align: right;\">\n",
       "      <th></th>\n",
       "      <th>Ticker</th>\n",
       "      <th>Name</th>\n",
       "      <th>Signal</th>\n",
       "      <th>Recommendation Score</th>\n",
       "      <th>Owned</th>\n",
       "      <th>Forward P/E</th>\n",
       "      <th>P/E</th>\n",
       "      <th>FvC Ratio</th>\n",
       "      <th>ROA%</th>\n",
       "      <th>Insider Buy%</th>\n",
       "      <th>Sector</th>\n",
       "      <th>Industry</th>\n",
       "    </tr>\n",
       "  </thead>\n",
       "  <tbody>\n",
       "    <tr>\n",
       "      <th>0</th>\n",
       "      <td>SBR</td>\n",
       "      <td>Sabine Royalty Trust</td>\n",
       "      <td>Buy</td>\n",
       "      <td>4.89</td>\n",
       "      <td>False</td>\n",
       "      <td>NaN</td>\n",
       "      <td>14.02</td>\n",
       "      <td>1.00</td>\n",
       "      <td>564.83</td>\n",
       "      <td>0.0</td>\n",
       "      <td>Energy</td>\n",
       "      <td>Oil &amp; Gas Midstream</td>\n",
       "    </tr>\n",
       "    <tr>\n",
       "      <th>0</th>\n",
       "      <td>MVO</td>\n",
       "      <td>MV Oil Trust</td>\n",
       "      <td>Buy</td>\n",
       "      <td>4.41</td>\n",
       "      <td>False</td>\n",
       "      <td>2.71</td>\n",
       "      <td>4.30</td>\n",
       "      <td>1.59</td>\n",
       "      <td>227.92</td>\n",
       "      <td>0.0</td>\n",
       "      <td>Energy</td>\n",
       "      <td>Oil &amp; Gas E&amp;P</td>\n",
       "    </tr>\n",
       "    <tr>\n",
       "      <th>0</th>\n",
       "      <td>PBT</td>\n",
       "      <td>Permian Basin Royalty Trust</td>\n",
       "      <td>Buy</td>\n",
       "      <td>4.34</td>\n",
       "      <td>False</td>\n",
       "      <td>NaN</td>\n",
       "      <td>33.51</td>\n",
       "      <td>1.00</td>\n",
       "      <td>526.24</td>\n",
       "      <td>0.0</td>\n",
       "      <td>Energy</td>\n",
       "      <td>Oil &amp; Gas Midstream</td>\n",
       "    </tr>\n",
       "    <tr>\n",
       "      <th>0</th>\n",
       "      <td>NRT</td>\n",
       "      <td>North European Oil Royality Tru</td>\n",
       "      <td>Buy</td>\n",
       "      <td>3.43</td>\n",
       "      <td>False</td>\n",
       "      <td>NaN</td>\n",
       "      <td>9.29</td>\n",
       "      <td>1.00</td>\n",
       "      <td>109.24</td>\n",
       "      <td>0.0</td>\n",
       "      <td>Energy</td>\n",
       "      <td>Oil &amp; Gas E&amp;P</td>\n",
       "    </tr>\n",
       "    <tr>\n",
       "      <th>0</th>\n",
       "      <td>CRT</td>\n",
       "      <td>Cross Timbers Royalty Trust</td>\n",
       "      <td>Buy</td>\n",
       "      <td>3.30</td>\n",
       "      <td>False</td>\n",
       "      <td>NaN</td>\n",
       "      <td>8.60</td>\n",
       "      <td>1.00</td>\n",
       "      <td>92.98</td>\n",
       "      <td>0.0</td>\n",
       "      <td>Energy</td>\n",
       "      <td>Oil &amp; Gas E&amp;P</td>\n",
       "    </tr>\n",
       "    <tr>\n",
       "      <th>...</th>\n",
       "      <td>...</td>\n",
       "      <td>...</td>\n",
       "      <td>...</td>\n",
       "      <td>...</td>\n",
       "      <td>...</td>\n",
       "      <td>...</td>\n",
       "      <td>...</td>\n",
       "      <td>...</td>\n",
       "      <td>...</td>\n",
       "      <td>...</td>\n",
       "      <td>...</td>\n",
       "      <td>...</td>\n",
       "    </tr>\n",
       "    <tr>\n",
       "      <th>0</th>\n",
       "      <td>TR</td>\n",
       "      <td>Tootsie Roll Industries, Inc.</td>\n",
       "      <td>Hold</td>\n",
       "      <td>NaN</td>\n",
       "      <td>False</td>\n",
       "      <td>-20.22</td>\n",
       "      <td>31.54</td>\n",
       "      <td>1.00</td>\n",
       "      <td>6.73</td>\n",
       "      <td>0.0</td>\n",
       "      <td>Consumer Defensive</td>\n",
       "      <td>Confectioners</td>\n",
       "    </tr>\n",
       "    <tr>\n",
       "      <th>0</th>\n",
       "      <td>TNXP</td>\n",
       "      <td>Tonix Pharmaceuticals Holding C</td>\n",
       "      <td>Hold</td>\n",
       "      <td>NaN</td>\n",
       "      <td>False</td>\n",
       "      <td>-1.93</td>\n",
       "      <td>0.02</td>\n",
       "      <td>1.00</td>\n",
       "      <td>-27.59</td>\n",
       "      <td>0.0</td>\n",
       "      <td>Healthcare</td>\n",
       "      <td>Biotechnology</td>\n",
       "    </tr>\n",
       "    <tr>\n",
       "      <th>0</th>\n",
       "      <td>DEI</td>\n",
       "      <td>Douglas Emmett, Inc.</td>\n",
       "      <td>Hold</td>\n",
       "      <td>NaN</td>\n",
       "      <td>False</td>\n",
       "      <td>-76.68</td>\n",
       "      <td>66.23</td>\n",
       "      <td>1.00</td>\n",
       "      <td>1.29</td>\n",
       "      <td>0.0</td>\n",
       "      <td>Real Estate</td>\n",
       "      <td>REIT - Office</td>\n",
       "    </tr>\n",
       "    <tr>\n",
       "      <th>0</th>\n",
       "      <td>TYG</td>\n",
       "      <td>Tortoise Energy Infrastructure</td>\n",
       "      <td>Hold</td>\n",
       "      <td>NaN</td>\n",
       "      <td>False</td>\n",
       "      <td>-69.48</td>\n",
       "      <td>5.34</td>\n",
       "      <td>1.00</td>\n",
       "      <td>0.60</td>\n",
       "      <td>0.0</td>\n",
       "      <td>Financial Services</td>\n",
       "      <td>Asset Management</td>\n",
       "    </tr>\n",
       "    <tr>\n",
       "      <th>0</th>\n",
       "      <td>PETS</td>\n",
       "      <td>PetMed Express, Inc.</td>\n",
       "      <td>Hold</td>\n",
       "      <td>NaN</td>\n",
       "      <td>False</td>\n",
       "      <td>-104.33</td>\n",
       "      <td>313.00</td>\n",
       "      <td>1.00</td>\n",
       "      <td>0.93</td>\n",
       "      <td>7.6</td>\n",
       "      <td>Healthcare</td>\n",
       "      <td>Pharmaceutical Retailers</td>\n",
       "    </tr>\n",
       "  </tbody>\n",
       "</table>\n",
       "<p>2018 rows × 12 columns</p>\n",
       "</div>"
      ],
      "text/plain": [
       "   Ticker                             Name Signal  Recommendation Score  \\\n",
       "0     SBR             Sabine Royalty Trust    Buy                  4.89   \n",
       "0     MVO                     MV Oil Trust    Buy                  4.41   \n",
       "0     PBT      Permian Basin Royalty Trust    Buy                  4.34   \n",
       "0     NRT  North European Oil Royality Tru    Buy                  3.43   \n",
       "0     CRT      Cross Timbers Royalty Trust    Buy                  3.30   \n",
       "..    ...                              ...    ...                   ...   \n",
       "0      TR    Tootsie Roll Industries, Inc.   Hold                   NaN   \n",
       "0    TNXP  Tonix Pharmaceuticals Holding C   Hold                   NaN   \n",
       "0     DEI             Douglas Emmett, Inc.   Hold                   NaN   \n",
       "0     TYG  Tortoise Energy Infrastructure    Hold                   NaN   \n",
       "0    PETS             PetMed Express, Inc.   Hold                   NaN   \n",
       "\n",
       "    Owned  Forward P/E     P/E  FvC Ratio    ROA%  Insider Buy%  \\\n",
       "0   False          NaN   14.02       1.00  564.83           0.0   \n",
       "0   False         2.71    4.30       1.59  227.92           0.0   \n",
       "0   False          NaN   33.51       1.00  526.24           0.0   \n",
       "0   False          NaN    9.29       1.00  109.24           0.0   \n",
       "0   False          NaN    8.60       1.00   92.98           0.0   \n",
       "..    ...          ...     ...        ...     ...           ...   \n",
       "0   False       -20.22   31.54       1.00    6.73           0.0   \n",
       "0   False        -1.93    0.02       1.00  -27.59           0.0   \n",
       "0   False       -76.68   66.23       1.00    1.29           0.0   \n",
       "0   False       -69.48    5.34       1.00    0.60           0.0   \n",
       "0   False      -104.33  313.00       1.00    0.93           7.6   \n",
       "\n",
       "                Sector                  Industry  \n",
       "0               Energy       Oil & Gas Midstream  \n",
       "0               Energy             Oil & Gas E&P  \n",
       "0               Energy       Oil & Gas Midstream  \n",
       "0               Energy             Oil & Gas E&P  \n",
       "0               Energy             Oil & Gas E&P  \n",
       "..                 ...                       ...  \n",
       "0   Consumer Defensive             Confectioners  \n",
       "0           Healthcare             Biotechnology  \n",
       "0          Real Estate             REIT - Office  \n",
       "0   Financial Services          Asset Management  \n",
       "0           Healthcare  Pharmaceutical Retailers  \n",
       "\n",
       "[2018 rows x 12 columns]"
      ]
     },
     "metadata": {},
     "output_type": "display_data"
    }
   ],
   "source": [
    "df = pd.DataFrame()\n",
    "for symbol in tqdm(symbols, smoothing=0):\n",
    "    try:\n",
    "        df = pd.concat([df, Stock(symbol).summary()])\n",
    "    except Exception as error:\n",
    "        #print(f\"Error at: {symbol}. Error: {error}\")\n",
    "        continue\n",
    "df = df.sort_values(by=\"Recommendation Score\", ascending=False)\n",
    "display(df)\n",
    "if symbol_list == \"simple\":\n",
    "    df.to_csv(\"../data/screener_results/simple_screener_results.csv\", index=False)\n",
    "else:   \n",
    "    df.to_csv(\"../data/screener_results/screener_results.csv\", index=False)\n",
    "    df[\"Ticker\"].to_csv(\"../data/tickers/screener_filtered_tickers.csv\", index=False)"
   ]
  },
  {
   "cell_type": "code",
   "execution_count": 6,
   "metadata": {},
   "outputs": [
    {
     "data": {
      "application/vnd.microsoft.datawrangler.viewer.v0+json": {
       "columns": [
        {
         "name": "index",
         "rawType": "object",
         "type": "string"
        },
        {
         "name": "0",
         "rawType": "object",
         "type": "unknown"
        }
       ],
       "ref": "9a4515b4-687d-4708-a170-aad05d11bb5b",
       "rows": [
        [
         "address1",
         "One Apple Park Way"
        ],
        [
         "city",
         "Cupertino"
        ],
        [
         "state",
         "CA"
        ],
        [
         "zip",
         "95014"
        ],
        [
         "country",
         "United States"
        ],
        [
         "phone",
         "(408) 996-1010"
        ],
        [
         "website",
         "https://www.apple.com"
        ],
        [
         "industry",
         "Consumer Electronics"
        ],
        [
         "industryKey",
         "consumer-electronics"
        ],
        [
         "industryDisp",
         "Consumer Electronics"
        ],
        [
         "sector",
         "Technology"
        ],
        [
         "sectorKey",
         "technology"
        ],
        [
         "sectorDisp",
         "Technology"
        ],
        [
         "longBusinessSummary",
         "Apple Inc. designs, manufactures, and markets smartphones, personal computers, tablets, wearables, and accessories worldwide. The company offers iPhone, a line of smartphones; Mac, a line of personal computers; iPad, a line of multi-purpose tablets; and wearables, home, and accessories comprising AirPods, Apple TV, Apple Watch, Beats products, and HomePod. It also provides AppleCare support and cloud services; and operates various platforms, including the App Store that allow customers to discover and download applications and digital content, such as books, music, video, games, and podcasts, as well as advertising services include third-party licensing arrangements and its own advertising platforms. In addition, the company offers various subscription-based services, such as Apple Arcade, a game subscription service; Apple Fitness+, a personalized fitness service; Apple Music, which offers users a curated listening experience with on-demand radio stations; Apple News+, a subscription news and magazine service; Apple TV+, which offers exclusive original content; Apple Card, a co-branded credit card; and Apple Pay, a cashless payment service, as well as licenses its intellectual property. The company serves consumers, and small and mid-sized businesses; and the education, enterprise, and government markets. It distributes third-party applications for its products through the App Store. The company also sells its products through its retail and online stores, and direct sales force; and third-party cellular network carriers, wholesalers, retailers, and resellers. Apple Inc. was founded in 1976 and is headquartered in Cupertino, California."
        ],
        [
         "fullTimeEmployees",
         "150000"
        ],
        [
         "companyOfficers",
         "[{'maxAge': 1, 'name': 'Mr. Timothy D. Cook', 'age': 63, 'title': 'CEO & Director', 'yearBorn': 1961, 'fiscalYear': 2024, 'totalPay': 16520856, 'exercisedValue': 0, 'unexercisedValue': 0}, {'maxAge': 1, 'name': 'Ms. Katherine L. Adams', 'age': 60, 'title': 'Senior VP, General Counsel & Secretary', 'yearBorn': 1964, 'fiscalYear': 2024, 'totalPay': 5022182, 'exercisedValue': 0, 'unexercisedValue': 0}, {'maxAge': 1, 'name': \"Ms. Deirdre  O'Brien\", 'age': 57, 'title': 'Chief People Officer & Senior VP of Retail', 'yearBorn': 1967, 'fiscalYear': 2024, 'totalPay': 5022182, 'exercisedValue': 0, 'unexercisedValue': 0}, {'maxAge': 1, 'name': 'Mr. Jeffrey E. Williams', 'age': 60, 'title': 'Senior Vice President of Design, Watch, & Health', 'yearBorn': 1964, 'fiscalYear': 2024, 'totalPay': 5020737, 'exercisedValue': 0, 'unexercisedValue': 0}, {'maxAge': 1, 'name': 'Mr. Kevan  Parekh', 'age': 52, 'title': 'Senior VP & CFO', 'yearBorn': 1972, 'fiscalYear': 2024, 'exercisedValue': 0, 'unexercisedValue': 0}, {'maxAge': 1, 'name': 'Mr. Sabih  Khan', 'title': 'Chief Operating Officer', 'fiscalYear': 2024, 'exercisedValue': 0, 'unexercisedValue': 0}, {'maxAge': 1, 'name': 'Mr. Chris  Kondo', 'title': 'Senior Director of Corporate Accounting', 'fiscalYear': 2024, 'exercisedValue': 0, 'unexercisedValue': 0}, {'maxAge': 1, 'name': 'Suhasini  Chandramouli', 'title': 'Director of Investor Relations', 'fiscalYear': 2024, 'exercisedValue': 0, 'unexercisedValue': 0}, {'maxAge': 1, 'name': 'Ms. Kristin Huguet Quayle', 'title': 'Vice President of Worldwide Communications', 'fiscalYear': 2024, 'exercisedValue': 0, 'unexercisedValue': 0}, {'maxAge': 1, 'name': 'Mr. Greg  Joswiak', 'title': 'Senior Vice President of Worldwide Marketing', 'fiscalYear': 2024, 'exercisedValue': 0, 'unexercisedValue': 0}]"
        ],
        [
         "auditRisk",
         "7"
        ],
        [
         "boardRisk",
         "1"
        ],
        [
         "compensationRisk",
         "3"
        ],
        [
         "shareHolderRightsRisk",
         "1"
        ],
        [
         "overallRisk",
         "1"
        ],
        [
         "governanceEpochDate",
         "1754006400"
        ],
        [
         "compensationAsOfEpochDate",
         "1735603200"
        ],
        [
         "irWebsite",
         "http://investor.apple.com/"
        ],
        [
         "executiveTeam",
         "[]"
        ],
        [
         "maxAge",
         "86400"
        ],
        [
         "priceHint",
         "2"
        ],
        [
         "previousClose",
         "227.18"
        ],
        [
         "open",
         "228.005"
        ],
        [
         "dayLow",
         "227.1"
        ],
        [
         "dayHigh",
         "230.78"
        ],
        [
         "regularMarketPreviousClose",
         "227.18"
        ],
        [
         "regularMarketOpen",
         "228.005"
        ],
        [
         "regularMarketDayLow",
         "227.1"
        ],
        [
         "regularMarketDayHigh",
         "230.78"
        ],
        [
         "dividendRate",
         "1.04"
        ],
        [
         "dividendYield",
         "0.45"
        ],
        [
         "exDividendDate",
         "1754870400"
        ],
        [
         "payoutRatio",
         "0.1533"
        ],
        [
         "fiveYearAvgDividendYield",
         "0.55"
        ],
        [
         "beta",
         "1.165"
        ],
        [
         "trailingPE",
         "34.84825"
        ],
        [
         "forwardPE",
         "27.635378"
        ],
        [
         "volume",
         "54917651"
        ],
        [
         "regularMarketVolume",
         "54917651"
        ],
        [
         "averageVolume",
         "56129037"
        ],
        [
         "averageVolume10days",
         "77990400"
        ],
        [
         "averageDailyVolume10Day",
         "77990400"
        ],
        [
         "bid",
         "216.52"
        ],
        [
         "ask",
         "229.79"
        ]
       ],
       "shape": {
        "columns": 1,
        "rows": 180
       }
      },
      "text/html": [
       "<div>\n",
       "<style scoped>\n",
       "    .dataframe tbody tr th:only-of-type {\n",
       "        vertical-align: middle;\n",
       "    }\n",
       "\n",
       "    .dataframe tbody tr th {\n",
       "        vertical-align: top;\n",
       "    }\n",
       "\n",
       "    .dataframe thead th {\n",
       "        text-align: right;\n",
       "    }\n",
       "</style>\n",
       "<table border=\"1\" class=\"dataframe\">\n",
       "  <thead>\n",
       "    <tr style=\"text-align: right;\">\n",
       "      <th></th>\n",
       "      <th>0</th>\n",
       "    </tr>\n",
       "  </thead>\n",
       "  <tbody>\n",
       "    <tr>\n",
       "      <th>address1</th>\n",
       "      <td>One Apple Park Way</td>\n",
       "    </tr>\n",
       "    <tr>\n",
       "      <th>city</th>\n",
       "      <td>Cupertino</td>\n",
       "    </tr>\n",
       "    <tr>\n",
       "      <th>state</th>\n",
       "      <td>CA</td>\n",
       "    </tr>\n",
       "    <tr>\n",
       "      <th>zip</th>\n",
       "      <td>95014</td>\n",
       "    </tr>\n",
       "    <tr>\n",
       "      <th>country</th>\n",
       "      <td>United States</td>\n",
       "    </tr>\n",
       "    <tr>\n",
       "      <th>...</th>\n",
       "      <td>...</td>\n",
       "    </tr>\n",
       "    <tr>\n",
       "      <th>regularMarketChangePercent</th>\n",
       "      <td>1.08724</td>\n",
       "    </tr>\n",
       "    <tr>\n",
       "      <th>regularMarketPrice</th>\n",
       "      <td>229.65</td>\n",
       "    </tr>\n",
       "    <tr>\n",
       "      <th>marketState</th>\n",
       "      <td>PRE</td>\n",
       "    </tr>\n",
       "    <tr>\n",
       "      <th>displayName</th>\n",
       "      <td>Apple</td>\n",
       "    </tr>\n",
       "    <tr>\n",
       "      <th>trailingPegRatio</th>\n",
       "      <td>2.0861</td>\n",
       "    </tr>\n",
       "  </tbody>\n",
       "</table>\n",
       "<p>180 rows × 1 columns</p>\n",
       "</div>"
      ],
      "text/plain": [
       "                                             0\n",
       "address1                    One Apple Park Way\n",
       "city                                 Cupertino\n",
       "state                                       CA\n",
       "zip                                      95014\n",
       "country                          United States\n",
       "...                                        ...\n",
       "regularMarketChangePercent             1.08724\n",
       "regularMarketPrice                      229.65\n",
       "marketState                                PRE\n",
       "displayName                              Apple\n",
       "trailingPegRatio                        2.0861\n",
       "\n",
       "[180 rows x 1 columns]"
      ]
     },
     "metadata": {},
     "output_type": "display_data"
    }
   ],
   "source": [
    "get_gettables()"
   ]
  }
 ],
 "metadata": {
  "kernelspec": {
   "display_name": "Python 3",
   "language": "python",
   "name": "python3"
  },
  "language_info": {
   "codemirror_mode": {
    "name": "ipython",
    "version": 3
   },
   "file_extension": ".py",
   "mimetype": "text/x-python",
   "name": "python",
   "nbconvert_exporter": "python",
   "pygments_lexer": "ipython3",
   "version": "3.13.5"
  }
 },
 "nbformat": 4,
 "nbformat_minor": 2
}
